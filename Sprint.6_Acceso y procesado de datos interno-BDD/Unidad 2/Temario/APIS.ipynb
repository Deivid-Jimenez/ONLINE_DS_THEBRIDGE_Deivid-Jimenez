{
 "cells": [
  {
   "cell_type": "markdown",
   "id": "e0637dc7-eb26-4459-afe8-b9d2685083a0",
   "metadata": {},
   "source": [
    "# REST APIs con Python (I)\n",
    "\n",
    "Hay una cantidad increíble de datos disponibles en la web. Muchos servicios web, como YouTube y GitHub, hacen que sus datos sean accesibles a aplicaciones de terceros a través de una interfaz de programación de aplicaciones (API). Una de las formas más populares de construir APIs es con el estilo de arquitectura REST. Python proporciona algunas herramientas excelentes no sólo para obtener datos de las APIs REST, sino también para construir tus propias APIs REST en Python.\n",
    "\n",
    "Utilizando Python y las APIs REST, puedes recuperar, analizar, actualizar y manipular los datos proporcionados por cualquier servicio web que te interese."
   ]
  },
  {
   "cell_type": "markdown",
   "id": "cabcc814-e60c-4c2a-a9eb-0ab625f6a062",
   "metadata": {},
   "source": [
    "Sólo para que lo tengas presente por si alguna vez lo quieres estudiar más a fondo aquí te dejo lo que se entiende por arquitectura REST, siendo las APIs REST aquellas que se han construido siguiendo esa filosofía.\n",
    "\n",
    "---\n",
    "\n",
    "**REST significa representational state transfer y es un estilo de arquitectura de software que define un patrón para las comunicaciones entre cliente y servidor a través de una red. REST proporciona un conjunto de restricciones para que la arquitectura del software promueva el rendimiento, la escalabilidad, la simplicidad y la fiabilidad del sistema.**"
   ]
  },
  {
   "cell_type": "markdown",
   "id": "218b1a84-2dfc-4797-b900-a2b861d145be",
   "metadata": {},
   "source": [
    "Un servicio web REST es cualquier servicio web que se adhiere a las restricciones de la arquitectura\n",
    "REST. Estos servicios web exponen sus datos al mundo exterior a través de una API. Las APIs REST\n",
    "proporcionan acceso a los datos del servicio web a través de URLs web públicas.\n",
    "\n",
    "Por ejemplo, esta es una de las URL de la API REST de GitHub:\n",
    "\n",
    "https://api.github.com/users<nombredeusuario>\n",
    "\n",
    "Esta URL te permite acceder a información sobre un usuario específico de GitHub. El acceso a los\n",
    "datos de una API REST se realiza enviando una solicitud HTTP a una URL específica y procesando\n",
    "la respuesta."
   ]
  },
  {
   "cell_type": "markdown",
   "id": "f5786c46-6277-40e5-be5c-a41ae5663d8d",
   "metadata": {},
   "source": [
    "### Qué se necesita para usar una API (REST)\n",
    "\n",
    "En general, necesitamos conocer:\n",
    "\n",
    "- El endpoint o lo que es lo mismo la dirección tipo página web a la que dirigir nuestras peticiones  \n",
    "- El método que se requiere para hacer según que cosas (esto lo vimos hace un par de sesiones: GET, POST, PUT, DELETE aunque hay más)  \n",
    "- Los argumentos o parámetros que requiera la API para funcionar (por ejemplo el rango de fechas sobre los que queremos los datos)  \n",
    "- Normalmente una API-Key (o un API-Token) que es un código/password que se requiere para poder acceder a la API."
   ]
  },
  {
   "cell_type": "markdown",
   "id": "5c572a03-2826-46bf-b743-2ceef0ff947f",
   "metadata": {},
   "source": [
    "#### Endpoints\n",
    "\n",
    "Como se ha comentado son esas direcciones de acceso. Ojo a veces estas direcciones (o URLS) tienen una pinta un poco más complicada que una dirección normal. Pongamos como ejemplo la API Countries, esta API proporciona información detallada sobre los países del mundo. Es una excelente opción para obtener datos geográficos, políticos y económicos de diferentes naciones.\n",
    "\n",
    "---\n",
    "\n",
    "Esta API tiene una dirección base:\n",
    "\n",
    "- **URL Base**: https://restcountries.com/v3.1/\n",
    "\n",
    "Y a partir de ella se construyen los diferentes endpoints en el que cada uno ofrece información diferente. Ahora sólo quédate con la parte de endpoint (que se construye concatenando la URL base anterior al campo endpoint que aparece más abajo)"
   ]
  },
  {
   "cell_type": "markdown",
   "id": "6eb8b9d4-b2cb-40ab-95db-001a747a4a07",
   "metadata": {},
   "source": [
    "Endpoints Principales de restcountries:\n",
    "\n",
    "1. Obtener todos los países:\n",
    "\n",
    "- Endpoint: /all\n",
    "- Método: GET\n",
    "- Uso: Devuelve información sobre todos los países.\n",
    "- Ejemplo: https://restcountries.com/v3.1/all"
   ]
  },
  {
   "cell_type": "markdown",
   "id": "2db1478c-d926-47c5-941c-c970c2736485",
   "metadata": {},
   "source": [
    "2. Buscar país por nombre:\n",
    "\n",
    "- Endpoint: /name/{name}\n",
    "- Método: GET\n",
    "- Uso: Busca países por su nombre.\n",
    "- Ejemplo: https://restcountries.com/v3.1/name/norway (para buscar información sobre Noruega)."
   ]
  },
  {
   "cell_type": "markdown",
   "id": "f17017c4-6bf6-4c4f-84a2-83da6d0238ef",
   "metadata": {},
   "source": [
    "3. Buscar países por moneda:\n",
    "\n",
    "- Endpoint: /currency/{currency}\n",
    "- Método: GET\n",
    "- Uso: Busca países que utilizan una moneda específica.\n",
    "- Ejemplo: https://restcountries.com/v3.1/currency/euro (para buscar países que usan el euro).\n",
    "\n",
    "4. Buscar países por idioma:\n",
    "\n",
    "- Endpoint: /lang/{language}\n",
    "- Método: GET\n",
    "- Uso: Busca países donde se habla un idioma específico.\n",
    "- Ejemplo: https://restcountries.com/v3.1/lang/spanish (para buscar países donde se habla español)."
   ]
  },
  {
   "cell_type": "markdown",
   "id": "2e11e73c-230c-405e-994b-200d8db99e4e",
   "metadata": {},
   "source": [
    "5. Buscar países por capital:\n",
    "\n",
    "- Endpoint: /capital/{capital}\n",
    "- Método: GET\n",
    "- Uso: Busca países por su capital.\n",
    "- Ejemplo: https://restcountries.com/v3.1/capital/oslo (para buscar información sobre el país cuya capital es Oslo)."
   ]
  },
  {
   "cell_type": "markdown",
   "id": "5f44bca6-ce37-4b6d-92ae-19de4ac8a1e5",
   "metadata": {},
   "source": [
    "### Métodos\n",
    "\n",
    "Si te fijas en los endpoints anteriores todos requieren el método GET porque todos son de obtención de datos. Habrá APIs que permitan PUSH, PUT y DELETE para poder enviar datos o borrarlos, pero en general y por ahora nosotros nos centramos en la obtención de información y usaremos APIs y endpoints con el método GET, salvo que se diga lo contrario. Cuando llegue el momento de construir nuestras APIs entraremos en el resto de métodos básicos.\n",
    "\n",
    "Por terminar de aclarar, en la llamada a la API (en breve lo veremos, tendremos que especificar un método, que generalmente será GET)"
   ]
  },
  {
   "cell_type": "markdown",
   "id": "396f1afa-a9f7-41fa-9a16-b163b67d8f6e",
   "metadata": {},
   "source": [
    "### Parámetros\n",
    "\n",
    "Son los valores adicionales que hay que proporcionar para obtener resultados, siguiendo con el ejemplo anterior, ojo y para esa API en concreto, son parámetros todos los elementos que van entre llaves: name , country , currency ,...\n",
    "\n",
    "Hay varias formas de pasar los parámetros y depende de la API, pero te puedes encontrar que los tendrás que pasar en una de las siguientes formas:\n",
    "\n",
    "- **Como parte de la URL**: Hacer como en el ejemplo (completando la dirección)\n",
    "- **Como una querystring dentro la URL**: Usando las sintaxis endpoint?<nombre_parámetro>= <valor_parámetro> (esto permite dar varios valores si hay más de un parámetro, por ejemplo: endpoint?<nombre_parametro_1>=<valor_parametro_1>&?<nombre_parametro_2>= <valor_parametro2>) (si, ahora cuando te fijes en una dirección web podrás ver que le estás pasando parámetros después de los '?=')"
   ]
  },
  {
   "cell_type": "markdown",
   "id": "2b0a06e7-221b-41bb-b87b-2936a5b280ef",
   "metadata": {},
   "source": [
    "### Cómo se usa una API (REST): Rest Countries\n",
    "\n",
    "Para invocar una API usamos **request** de la librería **requests** (ojo a la s final). Vamos a ver un ejemplo muy sencillo de cómo usar esta API:\n",
    "\n",
    "---\n",
    "\n",
    "De las sesiones anteriores, recordarás que cada respuesta tiene su status_code, su text y su método json. Veamos que nos ha devuelto para cada invocación:"
   ]
  },
  {
   "cell_type": "code",
   "execution_count": 4,
   "id": "8c0fec44-a0d3-4415-a80c-ab4565414c99",
   "metadata": {},
   "outputs": [],
   "source": [
    "import requests"
   ]
  },
  {
   "cell_type": "code",
   "execution_count": 12,
   "id": "3d12a951-5f6e-4b13-8160-35c6d30c77e5",
   "metadata": {},
   "outputs": [
    {
     "name": "stdout",
     "output_type": "stream",
     "text": [
      "https://restcountries.com/v3.1/name/Japan\n",
      "<Response [200]>\n"
     ]
    }
   ],
   "source": [
    "base_url = \"https://restcountries.com/v3.1/\"\n",
    "endpoint = \"name\"\n",
    "parametro =\"/Japan\"\n",
    "url = base_url + endpoint + parametro\n",
    "\n",
    "print(url)\n",
    "response_api = requests.request(\"GET\",url)\n",
    "print(response_api)"
   ]
  },
  {
   "cell_type": "markdown",
   "id": "aef3a4cc-821d-4159-936e-5f487ba37a45",
   "metadata": {},
   "source": [
    "De las sesiones anteriores, recordarás que cada respuesta tiene su status_code, su text y su método json. Veamos que nos ha devuelto para cada invocación:"
   ]
  },
  {
   "cell_type": "code",
   "execution_count": 14,
   "id": "028a8054-0fb4-46cf-a3c0-2ea1199c382a",
   "metadata": {},
   "outputs": [
    {
     "name": "stdout",
     "output_type": "stream",
     "text": [
      "[{\"name\":{\"common\":\"Japan\",\"official\":\"Japan\",\"nativeName\":{\"jpn\":{\"official\":\"日本\",\"common\":\"日本\"}}},\"tld\":[\".jp\",\".みんな\"],\"cca2\":\"JP\",\"ccn3\":\"392\",\"cca3\":\"JPN\",\"cioc\":\"JPN\",\"independent\":true,\"status\":\"officially-assigned\",\"unMember\":true,\"currencies\":{\"JPY\":{\"name\":\"Japanese yen\",\"symbol\":\"¥\"}},\"idd\":{\"root\":\"+8\",\"suffixes\":[\"1\"]},\"capital\":[\"Tokyo\"],\"altSpellings\":[\"JP\",\"Nippon\",\"Nihon\"],\"region\":\"Asia\",\"subregion\":\"Eastern Asia\",\"languages\":{\"jpn\":\"Japanese\"},\"translations\":{\"ara\":{\"official\":\"اليابان\",\"common\":\"اليابان\"},\"bre\":{\"official\":\"Japan\",\"common\":\"Japan\"},\"ces\":{\"official\":\"Japonsko\",\"common\":\"Japonsko\"},\"cym\":{\"official\":\"Japan\",\"common\":\"Japan\"},\"deu\":{\"official\":\"Japan\",\"common\":\"Japan\"},\"est\":{\"official\":\"Jaapan\",\"common\":\"Jaapan\"},\"fin\":{\"official\":\"Japani\",\"common\":\"Japani\"},\"fra\":{\"official\":\"Japon\",\"common\":\"Japon\"},\"hrv\":{\"official\":\"Japan\",\"common\":\"Japan\"},\"hun\":{\"official\":\"Japán\",\"common\":\"Japán\"},\"ita\":{\"official\":\"Giappone\",\"common\":\"Giappone\"},\"jpn\":{\"official\":\"日本\",\"common\":\"日本\"},\"kor\":{\"official\":\"일본국\",\"common\":\"일본\"},\"nld\":{\"official\":\"Japan\",\"common\":\"Japan\"},\"per\":{\"official\":\"ژاپن\",\"common\":\"ژاپن\"},\"pol\":{\"official\":\"Japonia\",\"common\":\"Japonia\"},\"por\":{\"official\":\"Japão\",\"common\":\"Japão\"},\"rus\":{\"official\":\"Япония\",\"common\":\"Япония\"},\"slk\":{\"official\":\"Japonsko\",\"common\":\"Japonsko\"},\"spa\":{\"official\":\"Japón\",\"common\":\"Japón\"},\"srp\":{\"official\":\"Јапан\",\"common\":\"Јапан\"},\"swe\":{\"official\":\"Japan\",\"common\":\"Japan\"},\"tur\":{\"official\":\"Japonya\",\"common\":\"Japonya\"},\"urd\":{\"official\":\"جاپان\",\"common\":\"جاپان\"},\"zho\":{\"official\":\"日本国\",\"common\":\"日本\"}},\"latlng\":[36.0,138.0],\"landlocked\":false,\"area\":377930.0,\"demonyms\":{\"eng\":{\"f\":\"Japanese\",\"m\":\"Japanese\"},\"fra\":{\"f\":\"Japonaise\",\"m\":\"Japonais\"}},\"flag\":\"\\uD83C\\uDDEF\\uD83C\\uDDF5\",\"maps\":{\"googleMaps\":\"https://goo.gl/maps/NGTLSCSrA8bMrvnX9\",\"openStreetMaps\":\"https://www.openstreetmap.org/relation/382313\"},\"population\":125836021,\"gini\":{\"2013\":32.9},\"fifa\":\"JPN\",\"car\":{\"signs\":[\"J\"],\"side\":\"left\"},\"timezones\":[\"UTC+09:00\"],\"continents\":[\"Asia\"],\"flags\":{\"png\":\"https://flagcdn.com/w320/jp.png\",\"svg\":\"https://flagcdn.com/jp.svg\",\"alt\":\"The flag of Japan features a crimson-red circle at the center of a white field.\"},\"coatOfArms\":{\"png\":\"https://mainfacts.com/media/images/coats_of_arms/jp.png\",\"svg\":\"https://mainfacts.com/media/images/coats_of_arms/jp.svg\"},\"startOfWeek\":\"monday\",\"capitalInfo\":{\"latlng\":[35.68,139.75]},\"postalCode\":{\"format\":\"###-####\",\"regex\":\"^(\\\\d{7})$\"}}]\n",
      "\n",
      "\n",
      "\n",
      "\n",
      "[{'name': {'common': 'Japan', 'official': 'Japan', 'nativeName': {'jpn': {'official': '日本', 'common': '日本'}}}, 'tld': ['.jp', '.みんな'], 'cca2': 'JP', 'ccn3': '392', 'cca3': 'JPN', 'cioc': 'JPN', 'independent': True, 'status': 'officially-assigned', 'unMember': True, 'currencies': {'JPY': {'name': 'Japanese yen', 'symbol': '¥'}}, 'idd': {'root': '+8', 'suffixes': ['1']}, 'capital': ['Tokyo'], 'altSpellings': ['JP', 'Nippon', 'Nihon'], 'region': 'Asia', 'subregion': 'Eastern Asia', 'languages': {'jpn': 'Japanese'}, 'translations': {'ara': {'official': 'اليابان', 'common': 'اليابان'}, 'bre': {'official': 'Japan', 'common': 'Japan'}, 'ces': {'official': 'Japonsko', 'common': 'Japonsko'}, 'cym': {'official': 'Japan', 'common': 'Japan'}, 'deu': {'official': 'Japan', 'common': 'Japan'}, 'est': {'official': 'Jaapan', 'common': 'Jaapan'}, 'fin': {'official': 'Japani', 'common': 'Japani'}, 'fra': {'official': 'Japon', 'common': 'Japon'}, 'hrv': {'official': 'Japan', 'common': 'Japan'}, 'hun': {'official': 'Japán', 'common': 'Japán'}, 'ita': {'official': 'Giappone', 'common': 'Giappone'}, 'jpn': {'official': '日本', 'common': '日本'}, 'kor': {'official': '일본국', 'common': '일본'}, 'nld': {'official': 'Japan', 'common': 'Japan'}, 'per': {'official': 'ژاپن', 'common': 'ژاپن'}, 'pol': {'official': 'Japonia', 'common': 'Japonia'}, 'por': {'official': 'Japão', 'common': 'Japão'}, 'rus': {'official': 'Япония', 'common': 'Япония'}, 'slk': {'official': 'Japonsko', 'common': 'Japonsko'}, 'spa': {'official': 'Japón', 'common': 'Japón'}, 'srp': {'official': 'Јапан', 'common': 'Јапан'}, 'swe': {'official': 'Japan', 'common': 'Japan'}, 'tur': {'official': 'Japonya', 'common': 'Japonya'}, 'urd': {'official': 'جاپان', 'common': 'جاپان'}, 'zho': {'official': '日本国', 'common': '日本'}}, 'latlng': [36.0, 138.0], 'landlocked': False, 'area': 377930.0, 'demonyms': {'eng': {'f': 'Japanese', 'm': 'Japanese'}, 'fra': {'f': 'Japonaise', 'm': 'Japonais'}}, 'flag': '🇯🇵', 'maps': {'googleMaps': 'https://goo.gl/maps/NGTLSCSrA8bMrvnX9', 'openStreetMaps': 'https://www.openstreetmap.org/relation/382313'}, 'population': 125836021, 'gini': {'2013': 32.9}, 'fifa': 'JPN', 'car': {'signs': ['J'], 'side': 'left'}, 'timezones': ['UTC+09:00'], 'continents': ['Asia'], 'flags': {'png': 'https://flagcdn.com/w320/jp.png', 'svg': 'https://flagcdn.com/jp.svg', 'alt': 'The flag of Japan features a crimson-red circle at the center of a white field.'}, 'coatOfArms': {'png': 'https://mainfacts.com/media/images/coats_of_arms/jp.png', 'svg': 'https://mainfacts.com/media/images/coats_of_arms/jp.svg'}, 'startOfWeek': 'monday', 'capitalInfo': {'latlng': [35.68, 139.75]}, 'postalCode': {'format': '###-####', 'regex': '^(\\\\d{7})$'}}]\n"
     ]
    }
   ],
   "source": [
    "print(response_api.text)\n",
    "print(\"\\n\"*3)\n",
    "print(response_api.json())"
   ]
  },
  {
   "cell_type": "code",
   "execution_count": 16,
   "id": "3c6c6591-94bb-4fbf-a760-fb9fdc1a9eaa",
   "metadata": {},
   "outputs": [
    {
     "name": "stdout",
     "output_type": "stream",
     "text": [
      "<class 'str'>\n"
     ]
    }
   ],
   "source": [
    "print(type(response_api.text))"
   ]
  },
  {
   "cell_type": "code",
   "execution_count": 19,
   "id": "add02952-4baa-4978-aa42-68370925f9ca",
   "metadata": {},
   "outputs": [
    {
     "name": "stdout",
     "output_type": "stream",
     "text": [
      "<class 'list'>\n"
     ]
    }
   ],
   "source": [
    "print(type(response_api.json()))"
   ]
  }
 ],
 "metadata": {
  "kernelspec": {
   "display_name": "Python 3 (ipykernel)",
   "language": "python",
   "name": "python3"
  },
  "language_info": {
   "codemirror_mode": {
    "name": "ipython",
    "version": 3
   },
   "file_extension": ".py",
   "mimetype": "text/x-python",
   "name": "python",
   "nbconvert_exporter": "python",
   "pygments_lexer": "ipython3",
   "version": "3.12.1"
  }
 },
 "nbformat": 4,
 "nbformat_minor": 5
}
