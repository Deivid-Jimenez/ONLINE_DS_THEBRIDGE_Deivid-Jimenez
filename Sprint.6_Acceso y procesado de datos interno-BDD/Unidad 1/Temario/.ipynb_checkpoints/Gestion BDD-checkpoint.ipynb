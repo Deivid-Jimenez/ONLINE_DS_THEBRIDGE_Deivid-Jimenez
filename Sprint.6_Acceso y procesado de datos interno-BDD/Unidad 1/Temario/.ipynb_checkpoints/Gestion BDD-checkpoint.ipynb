{
 "cells": [
  {
   "cell_type": "markdown",
   "id": "c3d84d43-12bd-4249-bca7-fbe1e827fea8",
   "metadata": {},
   "source": [
    "# SQL en Python: Gestion BD (I)\n",
    "\n",
    "La gestión de Bases de Datos es un mundo muy amplio que no podemos abarcar en un sprint y mucho menos en un par de píldoras, pero sí es bueno por lo menos que conozcas cómo con SQL (y para el gestor Sqlite3) se pueden hacer acciones tales como:\n",
    "\n",
    "- Insertes, Updates y Deletes en las tablas\n",
    "- Crear y Tirar Tablas\n",
    "- Usar vistas\n",
    "\n",
    "Que son los puntos que vamos a tratar aunque no necesariamente en ese orden, de hecho empezaremos creando nuestra base de datos y luego las tablas dentro de ellas"
   ]
  },
  {
   "cell_type": "markdown",
   "id": "ab86f9b5-dc80-4f2b-adca-3b06c9574534",
   "metadata": {},
   "source": [
    "## Creación de Bases de Datos y tablas\n",
    "\n",
    "Podemos crear nuestras propias bases de datos utilizando SQLite (que no es directamente trasladable a otros gestores) y luego dentro crearemos tablas usando ya sí sintaxis SQL. Nos importamos nuestras librerías y comenzamos a trabajar:"
   ]
  },
  {
   "cell_type": "code",
   "execution_count": 1,
   "id": "5d2753e5-81ec-452e-b1f8-de18e4d8c837",
   "metadata": {},
   "outputs": [],
   "source": [
    "import pandas as pd\n",
    "import sqlite3"
   ]
  },
  {
   "cell_type": "markdown",
   "id": "d163ba1f-e968-4944-81e2-63a98673a59f",
   "metadata": {},
   "source": [
    "Ahora haremos una conexión a una base de datos que en realidad no existe, pero esa es la forma de crearla:"
   ]
  },
  {
   "cell_type": "code",
   "execution_count": 2,
   "id": "7800d25b-63c5-4444-85f5-35b1cb068b54",
   "metadata": {},
   "outputs": [],
   "source": [
    "connection = sqlite3.connect(\"base_de_datos_I.db\")\n"
   ]
  },
  {
   "cell_type": "code",
   "execution_count": 3,
   "id": "f8fd6796-2d2e-4152-9f00-93ac20982642",
   "metadata": {},
   "outputs": [],
   "source": [
    "cursor_gestion = connection.cursor()"
   ]
  },
  {
   "cell_type": "markdown",
   "id": "d38fd847-4b52-44f1-87f1-8691869ede9b",
   "metadata": {},
   "source": [
    "Y ahora ya podemos crear una tabla siguiendo la siguiente sintaxis:\n",
    "\n",
    "```sql\n",
    "\n",
    "CREATE TABLE nombre_tabla (\n",
    "    columnal tipo_de_dato restrictions,\n",
    "    columna2 tipo_de_dato restrictions,\n",
    "    ...\n",
    "    columnaN tipo_de_dato restrictions\n",
    ")"
   ]
  },
  {
   "cell_type": "markdown",
   "id": "0f87a54e-a0ae-41cb-81ef-83c0e8c1a21c",
   "metadata": {},
   "source": [
    "Donde:\n",
    "\n",
    "- **nombre_tabla:** Es el nombre de la tabla que queremos crear.\n",
    "- **columna1, columna2, ..., columnaN:** Son los nombres de las columnas de la tabla.\n",
    "- **tipo_de_dato:** Es el tipo de dato de cada columna (por ejemplo, INT para enteros, VARCHAR o CHAR para cadenas de texto, DATE para fechas, etc.).\n",
    "- **restricciones:** Son las restricciones o reglas para cada columna (opcional). Algunas restricciones comunes incluyen PRIMARY KEY , NOT NULL , UNIQUE , FOREIGN KEY , etc. (que corresponden a un índice único, a que no puede dejarse vacío el campo, a que no puede repetirse o a que tendrá que enlazarse con la clave en otra tabla)m"
   ]
  },
  {
   "cell_type": "code",
   "execution_count": 5,
   "id": "c14f864e-6a6e-4a41-b932-03233c8027b4",
   "metadata": {},
   "outputs": [
    {
     "data": {
      "text/plain": [
       "<sqlite3.Cursor at 0x197e6ae8d40>"
      ]
     },
     "execution_count": 5,
     "metadata": {},
     "output_type": "execute_result"
    }
   ],
   "source": [
    "query_create = '''\n",
    "CREATE TABLE Master_Class_2 (\n",
    "ID    INT PRIMARY KEY, -- nombre tipo_de_dato restricción como hemos visto antes\n",
    "NOMBRE    TEXT NOT NULL,\n",
    "EDAD    INT NOT NULL,\n",
    "CIUDAD    CHARS(50), -- Le decimos que este campo siempre tiene 50 caracteres\n",
    "NOTAS    FLOAT\n",
    ")\n",
    "'''\n",
    "cursor_gestion.execute(query_create)"
   ]
  },
  {
   "cell_type": "markdown",
   "id": "882cc264-1839-4478-b7aa-d2a2119e24c1",
   "metadata": {},
   "source": [
    "Y una vez la tenemos, buscamos en la tabla maestra"
   ]
  },
  {
   "cell_type": "code",
   "execution_count": 6,
   "id": "0fef00e2-7c50-42cf-afa9-f736186cd355",
   "metadata": {},
   "outputs": [
    {
     "data": {
      "text/plain": [
       "[('table',\n",
       "  'Master_Class',\n",
       "  'Master_Class',\n",
       "  2,\n",
       "  'CREATE TABLE Master_Class (\\nID    INT PRIMARY KEY, -- nombre tipo_de_dato restricción como hemos visto antes\\nNOMBRE    TEXT NOT NULL,\\nEDAD    INT NOT NULL,\\nCTLDAD    CHARS(50), -- Le decimos que este campo siempre tiene 50 caracteres\\nNOTAS    FLOAT\\n)'),\n",
       " ('table',\n",
       "  'Master_Class_2',\n",
       "  'Master_Class_2',\n",
       "  4,\n",
       "  'CREATE TABLE Master_Class_2 (\\nID    INT PRIMARY KEY, -- nombre tipo_de_dato restricción como hemos visto antes\\nNOMBRE    TEXT NOT NULL,\\nEDAD    INT NOT NULL,\\nCIUDAD    CHARS(50), -- Le decimos que este campo siempre tiene 50 caracteres\\nNOTAS    FLOAT\\n)')]"
      ]
     },
     "execution_count": 6,
     "metadata": {},
     "output_type": "execute_result"
    }
   ],
   "source": [
    "query = \"SELECT * FROM sqlite_master WHERE type == 'table'\"\n",
    "cursor_gestion.execute(query)\n",
    "cursor_gestion.fetchall()"
   ]
  },
  {
   "cell_type": "markdown",
   "id": "73b1408a-48fa-49e9-abfe-1c995b0d27d4",
   "metadata": {},
   "source": [
    "## Insert\n",
    "\n",
    "Ahora que tenemos una tabla podemos ingestar registros (nombre técnico), modificarlos y borrarlos tal como vimos de forma teórica hace ya unas cuantas sesiones. En esta píldora trataremos el insert y dejaremos update y delete para la próxima.\n",
    "\n",
    "Recordemos la sintaxis de un insert:\n",
    "\n",
    "```sql\n",
    "\n",
    "INSERT INTO nombre_tabla (columnal, columna2, columna3, ...)\n",
    "VALUES (valor1, valor2, valor3, ...)"
   ]
  },
  {
   "cell_type": "markdown",
   "id": "73e15a1e-75f0-46ed-a292-464c5ec88c93",
   "metadata": {},
   "source": [
    "Donde:\n",
    "\n",
    "- **nombre_tabla**: Nombre de la tabla donde se insertarán los datos.\n",
    "- **columna1, columna2, ...** : Las columnas de la tabla en las que se insertarán los datos. No es necesario incluir todas las columnas, especialmente si algunas tienen valores predeterminados o son autoincrementables.\n",
    "- **valor1, valor2, ...** : Los valores correspondientes a las columnas especificadas. Deben estar en el mismo orden que las columnas y deben ser del tipo de dato adecuado para cada columna."
   ]
  },
  {
   "cell_type": "markdown",
   "id": "294d90b3-9f04-446c-904e-07e63148eb92",
   "metadata": {},
   "source": [
    "### Insertemos unos cuantos valores:\n",
    "\n",
    "- Luis, 24, Madrid, 8.5  \n",
    "- Ana, 32, Lugo, 6.25  \n",
    "- Juan, 35, Bilbao, 5.55  \n",
    "- Nuria, 41, Alicante, 9.75  "
   ]
  },
  {
   "cell_type": "code",
   "execution_count": 7,
   "id": "c5ac3cc9-29d2-4ba7-98a7-7390bf017c87",
   "metadata": {},
   "outputs": [],
   "source": [
    "# Usa este diccionario para no ir valor a valor:\n",
    "datos = {\n",
    "    \"Luis\": (24,\"Madrid\", 8.5),  \n",
    "    \"Ana\": (32,\"Lugo\", 6.25),  \n",
    "    \"Juan\": (35, \"Bilbao\", 5.55),  \n",
    "    \"Nuria\": (51, \"Alicante\", 9.75)}\n",
    "\n",
    "for indice,(nombre,valores) in enumerate(datos.items()):\n",
    "    edad = valores[0]\n",
    "    ciudad = valores[1]\n",
    "    nota = valores[2]\n",
    "    query = f\"INSERT INTO Master_Class_2 (ID, NOMBRE, EDAD, CIUDAD, NOTAS) VALUES ({indice},'{nombre}',{edad},'{ciudad}',{nota})\"\n",
    "    cursor_gestion.execute(query)\n",
    "    "
   ]
  },
  {
   "cell_type": "markdown",
   "id": "a56dde2d-3ca9-4d9f-a3b2-4f8b3304b81f",
   "metadata": {},
   "source": [
    "Y, esto es importante, ahora es necesario hacer algo que no habíamos hecho hasta ahora, y que se parece a lo que hacemos con los repos, hay que confirmarle a nuestro gestor que queremos hacer los cambios:"
   ]
  },
  {
   "cell_type": "code",
   "execution_count": 8,
   "id": "e9da0551-82eb-4e18-8e76-581eb2e8b87b",
   "metadata": {},
   "outputs": [],
   "source": [
    "connection.commit()"
   ]
  },
  {
   "cell_type": "code",
   "execution_count": 12,
   "id": "d134d362-56ba-4af4-af84-dce0b496b842",
   "metadata": {},
   "outputs": [],
   "source": [
    "query = '''\n",
    "SELECT *\n",
    "FROM Master_Class_2\n",
    "'''\n",
    "df = pd.read_sql(query, connection)"
   ]
  },
  {
   "cell_type": "code",
   "execution_count": 13,
   "id": "b7bf6e34-6ad6-4a8a-bbab-33b6492e0321",
   "metadata": {},
   "outputs": [
    {
     "data": {
      "text/html": [
       "<div>\n",
       "<style scoped>\n",
       "    .dataframe tbody tr th:only-of-type {\n",
       "        vertical-align: middle;\n",
       "    }\n",
       "\n",
       "    .dataframe tbody tr th {\n",
       "        vertical-align: top;\n",
       "    }\n",
       "\n",
       "    .dataframe thead th {\n",
       "        text-align: right;\n",
       "    }\n",
       "</style>\n",
       "<table border=\"1\" class=\"dataframe\">\n",
       "  <thead>\n",
       "    <tr style=\"text-align: right;\">\n",
       "      <th></th>\n",
       "      <th>ID</th>\n",
       "      <th>NOMBRE</th>\n",
       "      <th>EDAD</th>\n",
       "      <th>CIUDAD</th>\n",
       "      <th>NOTAS</th>\n",
       "    </tr>\n",
       "  </thead>\n",
       "  <tbody>\n",
       "    <tr>\n",
       "      <th>0</th>\n",
       "      <td>0</td>\n",
       "      <td>Luis</td>\n",
       "      <td>24</td>\n",
       "      <td>Madrid</td>\n",
       "      <td>8.50</td>\n",
       "    </tr>\n",
       "    <tr>\n",
       "      <th>1</th>\n",
       "      <td>1</td>\n",
       "      <td>Ana</td>\n",
       "      <td>32</td>\n",
       "      <td>Lugo</td>\n",
       "      <td>6.25</td>\n",
       "    </tr>\n",
       "    <tr>\n",
       "      <th>2</th>\n",
       "      <td>2</td>\n",
       "      <td>Juan</td>\n",
       "      <td>35</td>\n",
       "      <td>Bilbao</td>\n",
       "      <td>5.55</td>\n",
       "    </tr>\n",
       "    <tr>\n",
       "      <th>3</th>\n",
       "      <td>3</td>\n",
       "      <td>Nuria</td>\n",
       "      <td>51</td>\n",
       "      <td>Alicante</td>\n",
       "      <td>9.75</td>\n",
       "    </tr>\n",
       "  </tbody>\n",
       "</table>\n",
       "</div>"
      ],
      "text/plain": [
       "   ID NOMBRE  EDAD    CIUDAD  NOTAS\n",
       "0   0   Luis    24    Madrid   8.50\n",
       "1   1    Ana    32      Lugo   6.25\n",
       "2   2   Juan    35    Bilbao   5.55\n",
       "3   3  Nuria    51  Alicante   9.75"
      ]
     },
     "execution_count": 13,
     "metadata": {},
     "output_type": "execute_result"
    }
   ],
   "source": [
    "df"
   ]
  },
  {
   "cell_type": "code",
   "execution_count": 14,
   "id": "90719a6d-e52a-4e43-9f8d-a378a7b1be03",
   "metadata": {},
   "outputs": [
    {
     "name": "stdout",
     "output_type": "stream",
     "text": [
      "<class 'pandas.core.frame.DataFrame'>\n",
      "RangeIndex: 4 entries, 0 to 3\n",
      "Data columns (total 5 columns):\n",
      " #   Column  Non-Null Count  Dtype  \n",
      "---  ------  --------------  -----  \n",
      " 0   ID      4 non-null      int64  \n",
      " 1   NOMBRE  4 non-null      object \n",
      " 2   EDAD    4 non-null      int64  \n",
      " 3   CIUDAD  4 non-null      object \n",
      " 4   NOTAS   4 non-null      float64\n",
      "dtypes: float64(1), int64(2), object(2)\n",
      "memory usage: 292.0+ bytes\n"
     ]
    }
   ],
   "source": [
    "df.info()"
   ]
  },
  {
   "cell_type": "code",
   "execution_count": 15,
   "id": "f02cbc20-348d-4bff-b092-91c3a691bc69",
   "metadata": {},
   "outputs": [],
   "source": [
    "connection.close()"
   ]
  },
  {
   "cell_type": "markdown",
   "id": "932c7e28-9223-47f3-a01a-f79d1f296785",
   "metadata": {},
   "source": [
    "# SQL en Python: Gestion BD (II)\n",
    "\n",
    "En esta sesión completamos nuestra pequeña inmersión en el mundo del SQL y las bases de datos relacionales. Lo primero es volver a crearnos nuestra base de datos de la sesión anterior. Aquí te dejo las celdas preparadas:\n",
    "\n",
    "\n"
   ]
  },
  {
   "cell_type": "code",
   "execution_count": 16,
   "id": "ff04b638-9f5f-4df2-aca2-bc1b44ad24cf",
   "metadata": {},
   "outputs": [],
   "source": [
    "import pandas as pd\n",
    "import sqlite3\n",
    "\n",
    "connection = sqlite3.connect(\"gestion_sesion.db\")\n",
    "\n",
    "cursor_gestion = connection.cursor()"
   ]
  },
  {
   "cell_type": "code",
   "execution_count": 18,
   "id": "ddb2a48c-9005-4cfe-8391-03afe5cf9750",
   "metadata": {},
   "outputs": [
    {
     "data": {
      "text/plain": [
       "<sqlite3.Cursor at 0x197e79b2a40>"
      ]
     },
     "execution_count": 18,
     "metadata": {},
     "output_type": "execute_result"
    }
   ],
   "source": [
    "query_create = '''\n",
    "\n",
    "CREATE TABLE Master_Class (\n",
    "ID    INT PRIMARY KEY, -- nombre tipo_de_dato restricción como hemos visto antes\n",
    "NOMBRE   TEXT NOT NULL,\n",
    "EDAD    INT NOT NULL,\n",
    "CIUDAD  CHARS(50), -- Le decimos que este campo siempre tiene 50 caracteres, y los que\n",
    "NOTAS   FLOAT\n",
    ")\n",
    "'''\n",
    "cursor_gestion.execute(query_create)"
   ]
  },
  {
   "cell_type": "code",
   "execution_count": 20,
   "id": "a4dcab3d-b08a-4072-91b4-f2a31eef720b",
   "metadata": {},
   "outputs": [],
   "source": [
    "# Usa este diccionario para no ir valor a valor:\n",
    "datos = {\n",
    "    \"Luis\": (24,\"Madrid\", 8.5),  \n",
    "    \"Ana\": (32,\"Lugo\", 6.25),  \n",
    "    \"Juan\": (35, \"Bilbao\", 5.55),  \n",
    "    \"Nuria\": (51, \"Alicante\", 9.75)}\n",
    "\n",
    "for indice,(nombre,valores) in enumerate(datos.items()):\n",
    "    edad = valores[0]\n",
    "    ciudad = valores[1]\n",
    "    nota = valores[2]\n",
    "    query = f\"INSERT INTO Master_Class (ID, NOMBRE, EDAD, CIUDAD, NOTAS) VALUES ({indice},'{nombre}',{edad},'{ciudad}',{nota})\"\n",
    "    cursor_gestion.execute(query)\n",
    "    "
   ]
  },
  {
   "cell_type": "code",
   "execution_count": 21,
   "id": "38b5151b-1c1b-4c13-9414-656e49ce8de4",
   "metadata": {},
   "outputs": [],
   "source": [
    "connection.commit()"
   ]
  },
  {
   "cell_type": "markdown",
   "id": "6bbcfb61-9b03-4d6a-837e-7b0e66e90209",
   "metadata": {},
   "source": [
    "## Update\n",
    "\n",
    "La sintaxis general de UPDATE es:\n",
    "\n",
    "```sql\n",
    "\n",
    "UPDATE nombre_table  \n",
    "SET columnal = _valor1, columna2 = valor2, ...  \n",
    "WHERE condicion;\n",
    "```\n",
    "\n",
    " * nombre_table:Es el nombre de la tabla donde se realizarán las modificaciones.\n",
    " * SET columnal = valor1, columna2 = valor2, ...** : Aquí se listan las columnas que se van a actualizar y los nuevos valores que se les asignarán. Puedes actualizar una o varias columnas a la vez.\n",
    " * WHERE condition:** Especifica qué registros deben ser actualizados. La condición puede ser cualquier expresión lógica válida. Si omites la cláusula WHERE, todos los registros en la tabla"
   ]
  },
  {
   "cell_type": "markdown",
   "id": "572b05fa-658e-4a2e-b8b3-976c29da6a83",
   "metadata": {},
   "source": [
    "Modifiquemos en nuestra tabla la edad de Nuria por 48 y comprobemos el resultado utilizando\n",
    "\n",
    "read_sql"
   ]
  },
  {
   "cell_type": "code",
   "execution_count": 22,
   "id": "1620b786-2409-4050-9837-428bb4ac4620",
   "metadata": {},
   "outputs": [
    {
     "data": {
      "text/html": [
       "<div>\n",
       "<style scoped>\n",
       "    .dataframe tbody tr th:only-of-type {\n",
       "        vertical-align: middle;\n",
       "    }\n",
       "\n",
       "    .dataframe tbody tr th {\n",
       "        vertical-align: top;\n",
       "    }\n",
       "\n",
       "    .dataframe thead th {\n",
       "        text-align: right;\n",
       "    }\n",
       "</style>\n",
       "<table border=\"1\" class=\"dataframe\">\n",
       "  <thead>\n",
       "    <tr style=\"text-align: right;\">\n",
       "      <th></th>\n",
       "      <th>ID</th>\n",
       "      <th>NOMBRE</th>\n",
       "      <th>EDAD</th>\n",
       "      <th>CIUDAD</th>\n",
       "      <th>NOTAS</th>\n",
       "    </tr>\n",
       "  </thead>\n",
       "  <tbody>\n",
       "    <tr>\n",
       "      <th>0</th>\n",
       "      <td>0</td>\n",
       "      <td>Luis</td>\n",
       "      <td>24</td>\n",
       "      <td>Madrid</td>\n",
       "      <td>8.50</td>\n",
       "    </tr>\n",
       "    <tr>\n",
       "      <th>1</th>\n",
       "      <td>1</td>\n",
       "      <td>Ana</td>\n",
       "      <td>32</td>\n",
       "      <td>Lugo</td>\n",
       "      <td>6.25</td>\n",
       "    </tr>\n",
       "    <tr>\n",
       "      <th>2</th>\n",
       "      <td>2</td>\n",
       "      <td>Juan</td>\n",
       "      <td>35</td>\n",
       "      <td>Bilbao</td>\n",
       "      <td>5.55</td>\n",
       "    </tr>\n",
       "    <tr>\n",
       "      <th>3</th>\n",
       "      <td>3</td>\n",
       "      <td>Nuria</td>\n",
       "      <td>48</td>\n",
       "      <td>Alicante</td>\n",
       "      <td>9.75</td>\n",
       "    </tr>\n",
       "  </tbody>\n",
       "</table>\n",
       "</div>"
      ],
      "text/plain": [
       "   ID NOMBRE  EDAD    CIUDAD  NOTAS\n",
       "0   0   Luis    24    Madrid   8.50\n",
       "1   1    Ana    32      Lugo   6.25\n",
       "2   2   Juan    35    Bilbao   5.55\n",
       "3   3  Nuria    48  Alicante   9.75"
      ]
     },
     "execution_count": 22,
     "metadata": {},
     "output_type": "execute_result"
    }
   ],
   "source": [
    "query = '''\n",
    "\n",
    "UPDATE Master_Class\n",
    "SET edad = 48\n",
    "WHERE nombre = \"Nuria\"\n",
    "'''\n",
    "\n",
    "cursor_gestion.execute(query)\n",
    "\n",
    "pd.read_sql(\"SELECT * FROM Master_Class\", connection)"
   ]
  },
  {
   "cell_type": "markdown",
   "id": "27ba746b-71ee-46ea-8585-77aa3e19365e",
   "metadata": {},
   "source": [
    "Pero ojo no nos dejemos engañar, necesitamos hacer el commit igualmente para que el cambio se grabe en la base de datos:"
   ]
  },
  {
   "cell_type": "code",
   "execution_count": 24,
   "id": "3a5a6ba4-6dc1-435c-a4a6-2cf2e1dea601",
   "metadata": {},
   "outputs": [],
   "source": [
    "connection.commit()"
   ]
  },
  {
   "cell_type": "markdown",
   "id": "c869fbd3-0e34-4940-b2c2-7f807c89ce74",
   "metadata": {},
   "source": [
    "## Delete\n",
    "\n",
    "DELETE nos permite borrar filas de las tablas, y sigue esta sintaxis:\n",
    "\n",
    "**DELETE FROM nombre_tabla WHERE condition;**\n",
    "\n",
    "- **nombre_tabla:** Es el nombre de la tabla de la cual se eliminarán los registros.\n",
    "- **condicion:** Especifica qué registros deben ser eliminados. Puede ser cualquier expresión lógica válida.\n",
    "\n",
    "Si omites la cláusula WHERE en una instrucción DELETE, todos los registros de la tabla especificada serán eliminados, lo cual debe hacerse con precaución."
   ]
  },
  {
   "cell_type": "code",
   "execution_count": 25,
   "id": "4f6ccd8c-e9be-4a46-989d-022acff3c71a",
   "metadata": {},
   "outputs": [],
   "source": [
    "# Borremos las filas de los alumnos con menos de un 7:"
   ]
  },
  {
   "cell_type": "code",
   "execution_count": 27,
   "id": "6df148c6-171c-4988-9461-e1ca9eed9ad6",
   "metadata": {},
   "outputs": [
    {
     "data": {
      "text/plain": [
       "<sqlite3.Cursor at 0x197e79b2a40>"
      ]
     },
     "execution_count": 27,
     "metadata": {},
     "output_type": "execute_result"
    }
   ],
   "source": [
    "query = '''\n",
    "\n",
    "DELETE FROM Master_Class'''\n",
    "\n",
    "cursor_gestion.execute(query)"
   ]
  },
  {
   "cell_type": "code",
   "execution_count": 28,
   "id": "99af24a9-406c-4572-ae0d-5aa4e8a1ff84",
   "metadata": {},
   "outputs": [
    {
     "data": {
      "text/html": [
       "<div>\n",
       "<style scoped>\n",
       "    .dataframe tbody tr th:only-of-type {\n",
       "        vertical-align: middle;\n",
       "    }\n",
       "\n",
       "    .dataframe tbody tr th {\n",
       "        vertical-align: top;\n",
       "    }\n",
       "\n",
       "    .dataframe thead th {\n",
       "        text-align: right;\n",
       "    }\n",
       "</style>\n",
       "<table border=\"1\" class=\"dataframe\">\n",
       "  <thead>\n",
       "    <tr style=\"text-align: right;\">\n",
       "      <th></th>\n",
       "      <th>ID</th>\n",
       "      <th>NOMBRE</th>\n",
       "      <th>EDAD</th>\n",
       "      <th>CIUDAD</th>\n",
       "      <th>NOTAS</th>\n",
       "    </tr>\n",
       "  </thead>\n",
       "  <tbody>\n",
       "  </tbody>\n",
       "</table>\n",
       "</div>"
      ],
      "text/plain": [
       "Empty DataFrame\n",
       "Columns: [ID, NOMBRE, EDAD, CIUDAD, NOTAS]\n",
       "Index: []"
      ]
     },
     "execution_count": 28,
     "metadata": {},
     "output_type": "execute_result"
    }
   ],
   "source": [
    "pd.read_sql(\"SELECT * FROM Master_Class\",connection)"
   ]
  },
  {
   "cell_type": "markdown",
   "id": "dfa8a765-0e15-4502-b4b9-ae7bb07ef8ae",
   "metadata": {},
   "source": [
    "En, que susto, tranquilidad, como con INSERT y UPDATE es necesario hacer el commit para que los cambios se hagan efectivos. En este caso cierra la conexión a la base de datos y abre una nueva."
   ]
  }
 ],
 "metadata": {
  "kernelspec": {
   "display_name": "Python 3 (ipykernel)",
   "language": "python",
   "name": "python3"
  },
  "language_info": {
   "codemirror_mode": {
    "name": "ipython",
    "version": 3
   },
   "file_extension": ".py",
   "mimetype": "text/x-python",
   "name": "python",
   "nbconvert_exporter": "python",
   "pygments_lexer": "ipython3",
   "version": "3.12.1"
  }
 },
 "nbformat": 4,
 "nbformat_minor": 5
}
