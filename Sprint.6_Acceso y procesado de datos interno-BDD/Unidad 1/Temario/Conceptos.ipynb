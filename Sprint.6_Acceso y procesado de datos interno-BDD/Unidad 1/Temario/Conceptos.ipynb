{
 "cells": [
  {
   "cell_type": "markdown",
   "id": "b0c158c8-5cdf-4b39-a87b-824047a87d1c",
   "metadata": {},
   "source": [
    "# Conceptos"
   ]
  },
  {
   "cell_type": "markdown",
   "id": "1023858d-2dea-467e-b00b-3b9549244b98",
   "metadata": {},
   "source": [
    "## Bases de datos relacionales"
   ]
  },
  {
   "cell_type": "markdown",
   "id": "4a24c205-919f-4792-bf8a-ffca58e0c833",
   "metadata": {},
   "source": [
    "Conjunto de tablas de datos que se relacionan entre sí a través de columnas que tienen valores comunes y que nosotros llamaremos \"claves\""
   ]
  },
  {
   "cell_type": "markdown",
   "id": "c0837ea4-1cb6-471f-a0c8-21a1aa12f002",
   "metadata": {},
   "source": [
    "# SQL: Structured Query Language\n",
    "\n",
    "- **Lenguaje de Programación**: Sintaxis propia, interpretado por un ordenador para dar respuesta a unas instrucciones  \n",
    "- **Creado en 1970**, en IBM  \n",
    "- Es el estándar de facto para la interacción con bases de datos relacionales  "
   ]
  },
  {
   "cell_type": "markdown",
   "id": "c1d30bea-3776-41a6-b08e-6965d001b078",
   "metadata": {},
   "source": [
    "- Python tiene librerías que permiten interactuar con las BBDD de esos gestores  \n",
    "\n",
    "- Veremos: Sqlite3 y MySQL (sqlite3 y pymysql)  \n",
    "\n",
    "- Les lanzaremos consultas (queries) en SQL y funcionaremos igual que si estuviéramos usando sus intérpretes  "
   ]
  },
  {
   "cell_type": "markdown",
   "id": "c6d0f489-d3d4-4f77-b88e-c61782f686f7",
   "metadata": {},
   "source": [
    "## SQL: Components Clave  \n",
    "\n",
    "- SELECT  \n",
    "- INSERT  \n",
    "- UPDATE  \n",
    "- DELETE  "
   ]
  },
  {
   "cell_type": "markdown",
   "id": "4e793880-817c-45be-a36d-592a40ac09a7",
   "metadata": {},
   "source": [
    "### Select\n",
    "\n",
    "SELECT campo o campos a seleccionar  \n",
    "FROM tabla o tablas de las que seleccionarios  \n",
    "WHERE condiciones a aplicar  \n",
    "ORDER BY campo o campos por los que ordenar el resultado  \n",
    "LIMIT número de registros que quiero recuperar si no quiero todos los posibles  "
   ]
  },
  {
   "cell_type": "markdown",
   "id": "eb2c7ed6-502a-47ae-b903-09944ea3b901",
   "metadata": {},
   "source": [
    "### Ejemplo:\n",
    "```sql\n",
    "SELECT * FROM Empleados;\n",
    "\n",
    "ld_Empleado    Nombre    ld_Departamento\n",
    "1              Ana       10\n",
    "2              Carlos    20\n",
    "3              Diana     10\n",
    "4              Eduardo   30"
   ]
  },
  {
   "cell_type": "markdown",
   "id": "965e80dd-6023-498c-87ef-b7132fc4bb91",
   "metadata": {},
   "source": [
    "```sql\n",
    "SELECT nombre, id_departamento\n",
    "FROM Empleados\n",
    "WHERE id_departamento = 10;"
   ]
  },
  {
   "cell_type": "markdown",
   "id": "06009215-e04c-49be-bd3c-97ab0d0b0d3f",
   "metadata": {},
   "source": [
    "Devuelve nombre e id_departamento de los empleados en el departamento 10:"
   ]
  },
  {
   "cell_type": "markdown",
   "id": "91880bc1-4bbf-41d9-b09d-f73e14d9ad85",
   "metadata": {},
   "source": [
    "Nombre    Id_Departamento\n",
    "Ana       10\n",
    "Diana     10"
   ]
  },
  {
   "cell_type": "markdown",
   "id": "a6d5250c-a2fb-476a-be43-fc3f5b47064d",
   "metadata": {},
   "source": [
    "### SQL: SELECT Ejemplo\n",
    "\n",
    "```sql\n",
    "SELECT nombre, id_departamento \n",
    "FROM Empleados\n",
    "WHERE id_departamento = 10\n",
    "ORDER BY nombre DESC;"
   ]
  },
  {
   "cell_type": "markdown",
   "id": "72181cb7-76c0-4c86-845b-5bc504090200",
   "metadata": {},
   "source": [
    "Devuelve nombre e id_departamento de los empleados en el departamento 10 ordenados por nombre de forma descendente:"
   ]
  },
  {
   "cell_type": "markdown",
   "id": "9d0f9344-abd4-4f19-8b1e-f9239f668199",
   "metadata": {},
   "source": [
    "### Ejemplo SQL con filtrado y ordenación\n",
    "\n",
    "```sql\n",
    "SELECT nombre, id_departamento\n",
    "FROM Empleados\n",
    "WHERE id_departamento != 30\n",
    "ORDER BY nombre DESC\n",
    "LIMIT 2;"
   ]
  },
  {
   "cell_type": "markdown",
   "id": "da18236b-707d-42c6-8140-765422128753",
   "metadata": {},
   "source": [
    "Resultado:\n",
    "Devuelve nombre e id_departamento de los empleados que no son del departamento 30, ordenados por nombre de forma descendente (mostrando sólo los 2 primeros):"
   ]
  },
  {
   "cell_type": "markdown",
   "id": "2af578a1-9322-4042-9ddc-36018e872258",
   "metadata": {},
   "source": [
    "## Insert"
   ]
  },
  {
   "cell_type": "markdown",
   "id": "289f747e-9d9f-4939-b90e-57539e3f125d",
   "metadata": {},
   "source": [
    "### SQL: INSERT ejemplo\n",
    "\n",
    "```sql\n",
    "INSERT INTO Empleados (id_empleado, nombre, id_departamento) \n",
    "VALUES (5, 'Roberto', 30);"
   ]
  },
  {
   "cell_type": "markdown",
   "id": "ae27a0f3-6d1b-4783-8105-fe2919b41d40",
   "metadata": {},
   "source": [
    "Se ha insertado el nuevo empleado Roberto en el departamento 30\n",
    "\n",
    "La tabla muestra ahora los 5 empleados con sus datos completos"
   ]
  },
  {
   "cell_type": "markdown",
   "id": "820871ae-3d56-47d6-8ec7-5da682fff877",
   "metadata": {},
   "source": [
    "| id_empleado | nombre  | id_departamento |\n",
    "|-------------|---------|-----------------|\n",
    "| 1           | Ana     | 10              |\n",
    "| 2           | Carlos  | 20              |\n",
    "| 3           | Diana   | 10              |\n",
    "| 4           | Eduardo | 30              |\n",
    "| 5           | Roberto | 30              |"
   ]
  },
  {
   "cell_type": "markdown",
   "id": "3e04695c-7e52-4765-9a70-eb30762d3a51",
   "metadata": {},
   "source": [
    "## Update"
   ]
  },
  {
   "cell_type": "markdown",
   "id": "9dc15473-f0fd-4ebf-8d6f-49c8cc320bf7",
   "metadata": {},
   "source": [
    "### SQL: UPDATE ejemplo\n",
    "\n",
    "Nos permite actualizar o establecer datos que le demos teniendo en cosnideracióon una condición\n",
    "\n",
    "```sql\n",
    "UPDATE empleados\n",
    "SET id_departamento = 3\n",
    "WHERE id_empleado = 3;"
   ]
  },
  {
   "cell_type": "markdown",
   "id": "c5eb0ea8-b797-4ff0-90c1-49255fc770dc",
   "metadata": {},
   "source": [
    "| id_empleado | nombre  | id_departamento |\n",
    "|-------------|---------|-----------------|\n",
    "| 1           | Ana     | 10              |\n",
    "| 2           | Carlos  | 20              |\n",
    "| 3           | Diana   | 3               |\n",
    "| 4           | Eduardo | 30              |\n",
    "| 5           | Roberto | 30              |"
   ]
  },
  {
   "cell_type": "markdown",
   "id": "1ef21210-76a5-49b3-ad08-0238c94b173b",
   "metadata": {},
   "source": [
    "## Delete"
   ]
  },
  {
   "cell_type": "markdown",
   "id": "0f9f32fd-6184-4070-a4d9-fc497e8ebb5a",
   "metadata": {},
   "source": [
    "Nos permite borrar los registos de una tabla siempre y cuando se cumpla la condición que establezcamos, importante poner el where o sino puede que se cargue toda la tabla"
   ]
  },
  {
   "cell_type": "markdown",
   "id": "0f01072f-5bb0-414e-8bff-4f9ab341294d",
   "metadata": {},
   "source": [
    "```sql\n",
    "DELETE from empleados\n",
    "WHERE id_empleado = 3;"
   ]
  }
 ],
 "metadata": {
  "kernelspec": {
   "display_name": "Python 3 (ipykernel)",
   "language": "python",
   "name": "python3"
  },
  "language_info": {
   "codemirror_mode": {
    "name": "ipython",
    "version": 3
   },
   "file_extension": ".py",
   "mimetype": "text/x-python",
   "name": "python",
   "nbconvert_exporter": "python",
   "pygments_lexer": "ipython3",
   "version": "3.12.1"
  }
 },
 "nbformat": 4,
 "nbformat_minor": 5
}
