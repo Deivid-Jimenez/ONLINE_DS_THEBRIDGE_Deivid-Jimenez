{
 "cells": [
  {
   "cell_type": "code",
   "execution_count": 2,
   "id": "224fd3b6-ff3f-4d42-8a82-cd0af47490d4",
   "metadata": {},
   "outputs": [],
   "source": [
    "import pandas as pd"
   ]
  },
  {
   "cell_type": "code",
   "execution_count": 3,
   "id": "4d58987d-0f11-4af4-b17e-e270ce0a04db",
   "metadata": {},
   "outputs": [],
   "source": [
    "# Después ejecuta\n",
    "ventas = [500, 2500, 800, 200, 142, 150, 65, 120, 60, 80]\n",
    "books = ['Don Quijote',\n",
    " 'La Biblia',\n",
    " 'El Corán',\n",
    " 'Un cuento de Navidad',\n",
    " 'El Principito',\n",
    " 'El Señor de los Anillos',\n",
    " 'El Alquimista',\n",
    " 'Harry Potter y la Piedra Filosofal',\n",
    " 'Y pensar que lo vi por la calle Porvenir',\n",
    " 'El Código Da Vinci']"
   ]
  },
  {
   "cell_type": "markdown",
   "id": "1e7911c5-339f-400b-8b4b-427001072e16",
   "metadata": {},
   "source": [
    "### Ejercicio 1"
   ]
  },
  {
   "cell_type": "markdown",
   "id": "e58f505f-aaa5-4221-aa9c-d270ad050dcd",
   "metadata": {},
   "source": [
    "Crea una serie de Pandas y asignala a top_books que tenga por valores los libros en millones vendidos (es decir ventas) y como índice los títulos de los libros (Están alineados es decir el número en la posición 5 de ventas corresponde con el título en la posición 5 de books, y así con todos)"
   ]
  },
  {
   "cell_type": "code",
   "execution_count": 4,
   "id": "6be6a67a-b7f9-475d-9999-e4c2be22fd1a",
   "metadata": {},
   "outputs": [
    {
     "name": "stdout",
     "output_type": "stream",
     "text": [
      "Don Quijote                                  500\n",
      "La Biblia                                   2500\n",
      "El Corán                                     800\n",
      "Un cuento de Navidad                         200\n",
      "El Principito                                142\n",
      "El Señor de los Anillos                      150\n",
      "El Alquimista                                 65\n",
      "Harry Potter y la Piedra Filosofal           120\n",
      "Y pensar que lo vi por la calle Porvenir      60\n",
      "El Código Da Vinci                            80\n",
      "dtype: int64\n"
     ]
    }
   ],
   "source": [
    "top_books = pd.Series(ventas, index=books)\n",
    "print(top_books)"
   ]
  },
  {
   "cell_type": "markdown",
   "id": "4bcd538c-d7b1-4302-a00d-310aa784450e",
   "metadata": {},
   "source": [
    "### Ejercicio 2"
   ]
  },
  {
   "cell_type": "markdown",
   "id": "0d994fc9-4d19-4920-9233-a0d53ea204e9",
   "metadata": {},
   "source": [
    "Muestra los títulos y sus ventas con el string formateado f\"{titulo_libro} ha vendido {venta_libro} millones de unidades estimadas\", utiliza un método de Series que sea equivalente a uno de diccionarios de Python."
   ]
  },
  {
   "cell_type": "code",
   "execution_count": 8,
   "id": "6ecbf9c0-484b-472e-95e3-ef8cd632d1eb",
   "metadata": {},
   "outputs": [
    {
     "name": "stdout",
     "output_type": "stream",
     "text": [
      "Don Quijote ha vendido 500 millones de unidades estimadas\n",
      "La Biblia ha vendido 2500 millones de unidades estimadas\n",
      "El Corán ha vendido 800 millones de unidades estimadas\n",
      "Un cuento de Navidad ha vendido 200 millones de unidades estimadas\n",
      "El Principito ha vendido 142 millones de unidades estimadas\n",
      "El Señor de los Anillos ha vendido 150 millones de unidades estimadas\n",
      "El Alquimista ha vendido 65 millones de unidades estimadas\n",
      "Harry Potter y la Piedra Filosofal ha vendido 120 millones de unidades estimadas\n",
      "Y pensar que lo vi por la calle Porvenir ha vendido 60 millones de unidades estimadas\n",
      "El Código Da Vinci ha vendido 80 millones de unidades estimadas\n"
     ]
    }
   ],
   "source": [
    "for index,valor in top_books.items():\n",
    "    print (f\"{index} ha vendido {valor} millones de unidades estimadas\")"
   ]
  },
  {
   "cell_type": "markdown",
   "id": "6619ed3a-1d50-4fe9-ac35-f3c5dbb03d12",
   "metadata": {},
   "source": [
    "### Ejercicio 3"
   ]
  },
  {
   "cell_type": "markdown",
   "id": "8381c072-0ea9-48cd-8100-84a719f7cd9b",
   "metadata": {},
   "source": [
    "Muestra, utilizando una máscara, los libros que han vendido más de 100 millones. Bonus: Muestra sólo los títulos con una única sentencia."
   ]
  },
  {
   "cell_type": "code",
   "execution_count": 11,
   "id": "8479291c-eaf7-45ee-878b-bb20cf138b42",
   "metadata": {},
   "outputs": [
    {
     "name": "stdout",
     "output_type": "stream",
     "text": [
      "Don Quijote                            500\n",
      "La Biblia                             2500\n",
      "El Corán                               800\n",
      "Un cuento de Navidad                   200\n",
      "El Principito                          142\n",
      "El Señor de los Anillos                150\n",
      "Harry Potter y la Piedra Filosofal     120\n",
      "dtype: int64\n"
     ]
    }
   ],
   "source": [
    "libros_populares = top_books[top_books > 100]\n",
    "print(libros_populares)"
   ]
  },
  {
   "cell_type": "markdown",
   "id": "5849948d-5d94-46fa-bf3f-f9cedd164e27",
   "metadata": {},
   "source": [
    "### Ejercicio 4"
   ]
  },
  {
   "cell_type": "markdown",
   "id": "2b067190-e1ba-47ef-bbb0-66e636a3022a",
   "metadata": {},
   "source": [
    "Muestra las ventas de \"El Señor de los Anillos\" y \"El Alquimista\" con una única sentencia y de dos formas diferentes (con un indexado y con un slicing)"
   ]
  },
  {
   "cell_type": "code",
   "execution_count": 14,
   "id": "de2496d9-e3ad-495b-9804-acdb6c603355",
   "metadata": {},
   "outputs": [
    {
     "name": "stdout",
     "output_type": "stream",
     "text": [
      "El Señor de los Anillos    150\n",
      "El Alquimista               65\n",
      "dtype: int64\n"
     ]
    }
   ],
   "source": [
    "print(top_books[[\"El Señor de los Anillos\",\"El Alquimista\"]]) ### Indexado"
   ]
  },
  {
   "cell_type": "code",
   "execution_count": 15,
   "id": "ddc605af-370a-46ed-8da4-b4fe5c807038",
   "metadata": {},
   "outputs": [
    {
     "name": "stdout",
     "output_type": "stream",
     "text": [
      "El Señor de los Anillos    150\n",
      "El Alquimista               65\n",
      "dtype: int64\n"
     ]
    }
   ],
   "source": [
    "# Forma 2 alternativa: Usando .loc con una lista de índices\n",
    "print(top_books.loc[[\"El Señor de los Anillos\", \"El Alquimista\"]])"
   ]
  },
  {
   "cell_type": "markdown",
   "id": "554b2007-4c02-43c7-8503-0bbfa78409a9",
   "metadata": {},
   "source": [
    "### Ejercicio 5"
   ]
  },
  {
   "cell_type": "markdown",
   "id": "a2616746-a2a6-4920-b9ac-5cb3842ce3c8",
   "metadata": {},
   "source": [
    "Crea una serie ahora sólo con los 4 primeros títulos de los libros como valores y la lista 1,3,5,8 como índices. Accede al libro en la 3a posicion y al libro con el índice 3, ¿por qué no son el mismo?"
   ]
  },
  {
   "cell_type": "code",
   "execution_count": 27,
   "id": "ec693706-f23e-4067-bad5-013c05a93732",
   "metadata": {},
   "outputs": [
    {
     "name": "stdout",
     "output_type": "stream",
     "text": [
      "1             Don Quijote\n",
      "3               La Biblia\n",
      "5                El Corán\n",
      "8    Un cuento de Navidad\n",
      "dtype: object\n"
     ]
    }
   ],
   "source": [
    "books = [\n",
    "    'Don Quijote',  \n",
    "    'La Biblia',  \n",
    "    'El Corán',  \n",
    "    'Un cuento de Navidad',  \n",
    "    'El Principito',  \n",
    "    'El Señor de los Anillos',  \n",
    "    'El Alquimista',  \n",
    "    'Harry Potter y la Piedra Filosofal',  \n",
    "    'Y pensar que lo vi por la calle Porvenir',  \n",
    "    'El Código Da Vinci'\n",
    "]\n",
    "primeros_titulos = pd.Series(books[:4], index=[1, 3, 5, 8])\n",
    "print(primeros_titulos)"
   ]
  },
  {
   "cell_type": "code",
   "execution_count": 29,
   "id": "c33abdd8-5526-4459-b227-9da278c76d39",
   "metadata": {},
   "outputs": [
    {
     "name": "stdout",
     "output_type": "stream",
     "text": [
      "Libro en la 3ª posición: El Corán\n",
      "Libro con el índice 3: La Biblia\n"
     ]
    }
   ],
   "source": [
    "libro_tercera_posicion = primeros_titulos.iloc[2]  # iloc para indexar por posición\n",
    "print(f\"Libro en la 3ª posición: {libro_tercera_posicion}\")\n",
    "\n",
    "libro_indice_3 = primeros_titulos.loc[3]  # loc para indexar por etiqueta\n",
    "print(f\"Libro con el índice 3: {libro_indice_3}\")"
   ]
  },
  {
   "cell_type": "markdown",
   "id": "a63b5958-2248-47be-850f-7d15a60210f2",
   "metadata": {},
   "source": [
    "### Ejercicio 6"
   ]
  },
  {
   "cell_type": "markdown",
   "id": "161fcd8c-9f97-4b59-8e93-f190e444aa0e",
   "metadata": {},
   "source": [
    "Crea un DataFrame con dos columnas \"Título!\" y \"Ventas\" a partir de las dos listas iniciales. Muestra la columna \"Ventas\" de dos formas diferentes."
   ]
  },
  {
   "cell_type": "code",
   "execution_count": 34,
   "id": "e7ab977a-bad5-442a-b3c5-ec5c1cb03fe0",
   "metadata": {},
   "outputs": [
    {
     "data": {
      "text/html": [
       "<div>\n",
       "<style scoped>\n",
       "    .dataframe tbody tr th:only-of-type {\n",
       "        vertical-align: middle;\n",
       "    }\n",
       "\n",
       "    .dataframe tbody tr th {\n",
       "        vertical-align: top;\n",
       "    }\n",
       "\n",
       "    .dataframe thead th {\n",
       "        text-align: right;\n",
       "    }\n",
       "</style>\n",
       "<table border=\"1\" class=\"dataframe\">\n",
       "  <thead>\n",
       "    <tr style=\"text-align: right;\">\n",
       "      <th></th>\n",
       "      <th>Titulo</th>\n",
       "      <th>Ventas</th>\n",
       "    </tr>\n",
       "  </thead>\n",
       "  <tbody>\n",
       "    <tr>\n",
       "      <th>0</th>\n",
       "      <td>Don Quijote</td>\n",
       "      <td>500</td>\n",
       "    </tr>\n",
       "    <tr>\n",
       "      <th>1</th>\n",
       "      <td>La Biblia</td>\n",
       "      <td>2500</td>\n",
       "    </tr>\n",
       "    <tr>\n",
       "      <th>2</th>\n",
       "      <td>El Corán</td>\n",
       "      <td>800</td>\n",
       "    </tr>\n",
       "    <tr>\n",
       "      <th>3</th>\n",
       "      <td>Un cuento de Navidad</td>\n",
       "      <td>200</td>\n",
       "    </tr>\n",
       "    <tr>\n",
       "      <th>4</th>\n",
       "      <td>El Principito</td>\n",
       "      <td>142</td>\n",
       "    </tr>\n",
       "    <tr>\n",
       "      <th>5</th>\n",
       "      <td>El Señor de los Anillos</td>\n",
       "      <td>150</td>\n",
       "    </tr>\n",
       "    <tr>\n",
       "      <th>6</th>\n",
       "      <td>El Alquimista</td>\n",
       "      <td>65</td>\n",
       "    </tr>\n",
       "    <tr>\n",
       "      <th>7</th>\n",
       "      <td>Harry Potter y la Piedra Filosofal</td>\n",
       "      <td>120</td>\n",
       "    </tr>\n",
       "    <tr>\n",
       "      <th>8</th>\n",
       "      <td>Y pensar que lo vi por la calle Porvenir</td>\n",
       "      <td>60</td>\n",
       "    </tr>\n",
       "    <tr>\n",
       "      <th>9</th>\n",
       "      <td>El Código Da Vinci</td>\n",
       "      <td>80</td>\n",
       "    </tr>\n",
       "  </tbody>\n",
       "</table>\n",
       "</div>"
      ],
      "text/plain": [
       "                                     Titulo  Ventas\n",
       "0                               Don Quijote     500\n",
       "1                                 La Biblia    2500\n",
       "2                                  El Corán     800\n",
       "3                      Un cuento de Navidad     200\n",
       "4                             El Principito     142\n",
       "5                   El Señor de los Anillos     150\n",
       "6                             El Alquimista      65\n",
       "7        Harry Potter y la Piedra Filosofal     120\n",
       "8  Y pensar que lo vi por la calle Porvenir      60\n",
       "9                        El Código Da Vinci      80"
      ]
     },
     "execution_count": 34,
     "metadata": {},
     "output_type": "execute_result"
    }
   ],
   "source": [
    "df_libros = pd.DataFrame({\"Titulo\":books,\"Ventas\":ventas})\n",
    "df_libros"
   ]
  },
  {
   "cell_type": "code",
   "execution_count": 35,
   "id": "e901b745-4f9c-42b5-8349-61947f402df8",
   "metadata": {},
   "outputs": [
    {
     "name": "stdout",
     "output_type": "stream",
     "text": [
      "\n",
      "Forma 1: Columna 'Ventas' usando notación de corchetes\n",
      "0     500\n",
      "1    2500\n",
      "2     800\n",
      "3     200\n",
      "4     142\n",
      "5     150\n",
      "6      65\n",
      "7     120\n",
      "8      60\n",
      "9      80\n",
      "Name: Ventas, dtype: int64\n"
     ]
    }
   ],
   "source": [
    "print(\"\\nForma 1: Columna 'Ventas' usando notación de corchetes\")\n",
    "print(df_libros['Ventas'])"
   ]
  },
  {
   "cell_type": "code",
   "execution_count": 36,
   "id": "6a8f955f-7958-47f2-a904-1cf756ee78fe",
   "metadata": {},
   "outputs": [
    {
     "name": "stdout",
     "output_type": "stream",
     "text": [
      "\n",
      "Forma 2: Columna 'Ventas' usando .loc\n",
      "0     500\n",
      "1    2500\n",
      "2     800\n",
      "3     200\n",
      "4     142\n",
      "5     150\n",
      "6      65\n",
      "7     120\n",
      "8      60\n",
      "9      80\n",
      "Name: Ventas, dtype: int64\n"
     ]
    }
   ],
   "source": [
    "# Forma 2: Mostrar la columna \"Ventas\" usando el atributo .loc\n",
    "print(\"\\nForma 2: Columna 'Ventas' usando .loc\")\n",
    "print(df_libros.loc[:, 'Ventas'])"
   ]
  },
  {
   "cell_type": "markdown",
   "id": "77f6d998-8ef4-467e-9464-420a80621dae",
   "metadata": {},
   "source": [
    "### Ejercicio 7"
   ]
  },
  {
   "cell_type": "markdown",
   "id": "7aecaa6d-3050-430a-bc9f-3b5290df0ccd",
   "metadata": {},
   "source": [
    "Muestra la columna del título como si fuera el acceso a un diccionario y como un atributo. ¿Te ha sido posible? ¿Por qué?"
   ]
  },
  {
   "cell_type": "code",
   "execution_count": 38,
   "id": "c7efe890-9e4f-4ed5-920e-6c7c6ecc5a8f",
   "metadata": {},
   "outputs": [
    {
     "name": "stdout",
     "output_type": "stream",
     "text": [
      "0                                 Don Quijote\n",
      "1                                   La Biblia\n",
      "2                                    El Corán\n",
      "3                        Un cuento de Navidad\n",
      "4                               El Principito\n",
      "5                     El Señor de los Anillos\n",
      "6                               El Alquimista\n",
      "7          Harry Potter y la Piedra Filosofal\n",
      "8    Y pensar que lo vi por la calle Porvenir\n",
      "9                          El Código Da Vinci\n",
      "Name: Titulo, dtype: object\n"
     ]
    }
   ],
   "source": [
    "print(df_libros['Titulo'])"
   ]
  },
  {
   "cell_type": "code",
   "execution_count": 40,
   "id": "d4681bff-3efa-40da-9cd5-86bc11850d0a",
   "metadata": {},
   "outputs": [
    {
     "name": "stdout",
     "output_type": "stream",
     "text": [
      "\n",
      "Forma 2: Acceso como atributo\n",
      "0                                 Don Quijote\n",
      "1                                   La Biblia\n",
      "2                                    El Corán\n",
      "3                        Un cuento de Navidad\n",
      "4                               El Principito\n",
      "5                     El Señor de los Anillos\n",
      "6                               El Alquimista\n",
      "7          Harry Potter y la Piedra Filosofal\n",
      "8    Y pensar que lo vi por la calle Porvenir\n",
      "9                          El Código Da Vinci\n",
      "Name: Titulo, dtype: object\n"
     ]
    }
   ],
   "source": [
    "# Forma 2: Acceso como un atributo\n",
    "print(\"\\nForma 2: Acceso como atributo\")\n",
    "print(df_libros.Titulo)"
   ]
  },
  {
   "cell_type": "markdown",
   "id": "196d3beb-dba3-4b76-a5cf-42b71b5dd6be",
   "metadata": {},
   "source": [
    "### Ejercicio 8"
   ]
  },
  {
   "cell_type": "markdown",
   "id": "1358f3d1-70a2-41aa-8884-05689a2a13d1",
   "metadata": {},
   "source": [
    "Crea una columna que contenga el idioma original de cada libro (si lo conoces, si no pon \"UNK\" para ese libro), llámala \"Idioma_original\". Usa una lista o una Series."
   ]
  },
  {
   "cell_type": "code",
   "execution_count": 45,
   "id": "c7fe4dd7-546f-466f-bb99-8ab6a8e5fdb4",
   "metadata": {},
   "outputs": [
    {
     "data": {
      "text/html": [
       "<div>\n",
       "<style scoped>\n",
       "    .dataframe tbody tr th:only-of-type {\n",
       "        vertical-align: middle;\n",
       "    }\n",
       "\n",
       "    .dataframe tbody tr th {\n",
       "        vertical-align: top;\n",
       "    }\n",
       "\n",
       "    .dataframe thead th {\n",
       "        text-align: right;\n",
       "    }\n",
       "</style>\n",
       "<table border=\"1\" class=\"dataframe\">\n",
       "  <thead>\n",
       "    <tr style=\"text-align: right;\">\n",
       "      <th></th>\n",
       "      <th>Titulo</th>\n",
       "      <th>Ventas</th>\n",
       "      <th>Idioma_original</th>\n",
       "    </tr>\n",
       "  </thead>\n",
       "  <tbody>\n",
       "    <tr>\n",
       "      <th>0</th>\n",
       "      <td>Don Quijote</td>\n",
       "      <td>500</td>\n",
       "      <td>Español</td>\n",
       "    </tr>\n",
       "    <tr>\n",
       "      <th>1</th>\n",
       "      <td>La Biblia</td>\n",
       "      <td>2500</td>\n",
       "      <td>Hebreo</td>\n",
       "    </tr>\n",
       "    <tr>\n",
       "      <th>2</th>\n",
       "      <td>El Corán</td>\n",
       "      <td>800</td>\n",
       "      <td>Árabe</td>\n",
       "    </tr>\n",
       "    <tr>\n",
       "      <th>3</th>\n",
       "      <td>Un cuento de Navidad</td>\n",
       "      <td>200</td>\n",
       "      <td>Inglés</td>\n",
       "    </tr>\n",
       "    <tr>\n",
       "      <th>4</th>\n",
       "      <td>El Principito</td>\n",
       "      <td>142</td>\n",
       "      <td>Francés</td>\n",
       "    </tr>\n",
       "    <tr>\n",
       "      <th>5</th>\n",
       "      <td>El Señor de los Anillos</td>\n",
       "      <td>150</td>\n",
       "      <td>Inglés</td>\n",
       "    </tr>\n",
       "    <tr>\n",
       "      <th>6</th>\n",
       "      <td>El Alquimista</td>\n",
       "      <td>65</td>\n",
       "      <td>Portugués</td>\n",
       "    </tr>\n",
       "    <tr>\n",
       "      <th>7</th>\n",
       "      <td>Harry Potter y la Piedra Filosofal</td>\n",
       "      <td>120</td>\n",
       "      <td>Inglés</td>\n",
       "    </tr>\n",
       "    <tr>\n",
       "      <th>8</th>\n",
       "      <td>Y pensar que lo vi por la calle Porvenir</td>\n",
       "      <td>60</td>\n",
       "      <td>UNK</td>\n",
       "    </tr>\n",
       "    <tr>\n",
       "      <th>9</th>\n",
       "      <td>El Código Da Vinci</td>\n",
       "      <td>80</td>\n",
       "      <td>Inglés</td>\n",
       "    </tr>\n",
       "  </tbody>\n",
       "</table>\n",
       "</div>"
      ],
      "text/plain": [
       "                                     Titulo  Ventas Idioma_original\n",
       "0                               Don Quijote     500         Español\n",
       "1                                 La Biblia    2500          Hebreo\n",
       "2                                  El Corán     800           Árabe\n",
       "3                      Un cuento de Navidad     200          Inglés\n",
       "4                             El Principito     142         Francés\n",
       "5                   El Señor de los Anillos     150          Inglés\n",
       "6                             El Alquimista      65       Portugués\n",
       "7        Harry Potter y la Piedra Filosofal     120          Inglés\n",
       "8  Y pensar que lo vi por la calle Porvenir      60             UNK\n",
       "9                        El Código Da Vinci      80          Inglés"
      ]
     },
     "execution_count": 45,
     "metadata": {},
     "output_type": "execute_result"
    }
   ],
   "source": [
    "idiomas_originales = [    'Español', \n",
    "    'Hebreo', \n",
    "    'Árabe',  \n",
    "    'Inglés', \n",
    "    'Francés',  \n",
    "    'Inglés',  \n",
    "    'Portugués', \n",
    "    'Inglés',  \n",
    "    'UNK',  \n",
    "    'Inglés' \n",
    "]\n",
    "\n",
    "# Agregar la columna \"Idioma_original\" al DataFrame\n",
    "df_libros['Idioma_original'] = idiomas_originales\n",
    "\n",
    "# Mostrar el DataFrame con la nueva columna\n",
    "df_libros"
   ]
  },
  {
   "cell_type": "markdown",
   "id": "bf31bc17-28e5-428b-a171-82bfe72068a5",
   "metadata": {},
   "source": [
    "### Ejercicio 9"
   ]
  },
  {
   "cell_type": "markdown",
   "id": "d63aae34-d119-4c2e-9b1b-6836799086a3",
   "metadata": {},
   "source": [
    "Muestra los libros, sus ventas y su idioma de los libros que hayan vendido más de 70 millones de copias"
   ]
  },
  {
   "cell_type": "code",
   "execution_count": 47,
   "id": "9e334bd6-83fc-431a-84b8-2e0ceb9ac1fd",
   "metadata": {},
   "outputs": [
    {
     "data": {
      "text/html": [
       "<div>\n",
       "<style scoped>\n",
       "    .dataframe tbody tr th:only-of-type {\n",
       "        vertical-align: middle;\n",
       "    }\n",
       "\n",
       "    .dataframe tbody tr th {\n",
       "        vertical-align: top;\n",
       "    }\n",
       "\n",
       "    .dataframe thead th {\n",
       "        text-align: right;\n",
       "    }\n",
       "</style>\n",
       "<table border=\"1\" class=\"dataframe\">\n",
       "  <thead>\n",
       "    <tr style=\"text-align: right;\">\n",
       "      <th></th>\n",
       "      <th>Titulo</th>\n",
       "      <th>Ventas</th>\n",
       "      <th>Idioma_original</th>\n",
       "    </tr>\n",
       "  </thead>\n",
       "  <tbody>\n",
       "    <tr>\n",
       "      <th>0</th>\n",
       "      <td>Don Quijote</td>\n",
       "      <td>500</td>\n",
       "      <td>Español</td>\n",
       "    </tr>\n",
       "    <tr>\n",
       "      <th>1</th>\n",
       "      <td>La Biblia</td>\n",
       "      <td>2500</td>\n",
       "      <td>Hebreo</td>\n",
       "    </tr>\n",
       "    <tr>\n",
       "      <th>2</th>\n",
       "      <td>El Corán</td>\n",
       "      <td>800</td>\n",
       "      <td>Árabe</td>\n",
       "    </tr>\n",
       "    <tr>\n",
       "      <th>3</th>\n",
       "      <td>Un cuento de Navidad</td>\n",
       "      <td>200</td>\n",
       "      <td>Inglés</td>\n",
       "    </tr>\n",
       "    <tr>\n",
       "      <th>4</th>\n",
       "      <td>El Principito</td>\n",
       "      <td>142</td>\n",
       "      <td>Francés</td>\n",
       "    </tr>\n",
       "    <tr>\n",
       "      <th>5</th>\n",
       "      <td>El Señor de los Anillos</td>\n",
       "      <td>150</td>\n",
       "      <td>Inglés</td>\n",
       "    </tr>\n",
       "    <tr>\n",
       "      <th>7</th>\n",
       "      <td>Harry Potter y la Piedra Filosofal</td>\n",
       "      <td>120</td>\n",
       "      <td>Inglés</td>\n",
       "    </tr>\n",
       "    <tr>\n",
       "      <th>9</th>\n",
       "      <td>El Código Da Vinci</td>\n",
       "      <td>80</td>\n",
       "      <td>Inglés</td>\n",
       "    </tr>\n",
       "  </tbody>\n",
       "</table>\n",
       "</div>"
      ],
      "text/plain": [
       "                               Titulo  Ventas Idioma_original\n",
       "0                         Don Quijote     500         Español\n",
       "1                           La Biblia    2500          Hebreo\n",
       "2                            El Corán     800           Árabe\n",
       "3                Un cuento de Navidad     200          Inglés\n",
       "4                       El Principito     142         Francés\n",
       "5             El Señor de los Anillos     150          Inglés\n",
       "7  Harry Potter y la Piedra Filosofal     120          Inglés\n",
       "9                  El Código Da Vinci      80          Inglés"
      ]
     },
     "execution_count": 47,
     "metadata": {},
     "output_type": "execute_result"
    }
   ],
   "source": [
    "df_libros.loc[df_libros[\"Ventas\"]>70,\"Titulo\":\"Idioma_original\"]"
   ]
  },
  {
   "cell_type": "markdown",
   "id": "b1d4408f-965c-455d-99f6-e5c5194dc49a",
   "metadata": {},
   "source": [
    "### Ejercicio 10"
   ]
  },
  {
   "cell_type": "markdown",
   "id": "4dbd51de-8a03-48f9-be63-37f9cef8d979",
   "metadata": {},
   "source": [
    "\n",
    "Muestra el idioma, y solo el idioma, de los libros que hayan vendido entre 65 y 200 millones de copias"
   ]
  },
  {
   "cell_type": "code",
   "execution_count": 50,
   "id": "91795dc0-96df-4416-9607-780f5cee12c9",
   "metadata": {},
   "outputs": [
    {
     "data": {
      "text/plain": [
       "3       Inglés\n",
       "4      Francés\n",
       "5       Inglés\n",
       "6    Portugués\n",
       "7       Inglés\n",
       "9       Inglés\n",
       "Name: Idioma_original, dtype: object"
      ]
     },
     "execution_count": 50,
     "metadata": {},
     "output_type": "execute_result"
    }
   ],
   "source": [
    "filtro_ventas = (df_libros['Ventas'] >= 65) & (df_libros['Ventas'] <= 200)\n",
    "\n",
    "idiomas_filtrados = df_libros.loc[filtro_ventas, 'Idioma_original']\n",
    "\n",
    "(idiomas_filtrados)"
   ]
  },
  {
   "cell_type": "code",
   "execution_count": 52,
   "id": "c3c2e3fe-2fd0-4490-9308-f6d4923b071c",
   "metadata": {},
   "outputs": [
    {
     "data": {
      "text/html": [
       "<div>\n",
       "<style scoped>\n",
       "    .dataframe tbody tr th:only-of-type {\n",
       "        vertical-align: middle;\n",
       "    }\n",
       "\n",
       "    .dataframe tbody tr th {\n",
       "        vertical-align: top;\n",
       "    }\n",
       "\n",
       "    .dataframe thead th {\n",
       "        text-align: right;\n",
       "    }\n",
       "</style>\n",
       "<table border=\"1\" class=\"dataframe\">\n",
       "  <thead>\n",
       "    <tr style=\"text-align: right;\">\n",
       "      <th></th>\n",
       "      <th>Titulo</th>\n",
       "      <th>Idioma_original</th>\n",
       "    </tr>\n",
       "  </thead>\n",
       "  <tbody>\n",
       "    <tr>\n",
       "      <th>0</th>\n",
       "      <td>Don Quijote</td>\n",
       "      <td>Español</td>\n",
       "    </tr>\n",
       "    <tr>\n",
       "      <th>1</th>\n",
       "      <td>La Biblia</td>\n",
       "      <td>Hebreo</td>\n",
       "    </tr>\n",
       "    <tr>\n",
       "      <th>2</th>\n",
       "      <td>El Corán</td>\n",
       "      <td>Árabe</td>\n",
       "    </tr>\n",
       "    <tr>\n",
       "      <th>3</th>\n",
       "      <td>Un cuento de Navidad</td>\n",
       "      <td>Inglés</td>\n",
       "    </tr>\n",
       "    <tr>\n",
       "      <th>4</th>\n",
       "      <td>El Principito</td>\n",
       "      <td>Francés</td>\n",
       "    </tr>\n",
       "    <tr>\n",
       "      <th>5</th>\n",
       "      <td>El Señor de los Anillos</td>\n",
       "      <td>Inglés</td>\n",
       "    </tr>\n",
       "    <tr>\n",
       "      <th>6</th>\n",
       "      <td>El Alquimista</td>\n",
       "      <td>Portugués</td>\n",
       "    </tr>\n",
       "    <tr>\n",
       "      <th>7</th>\n",
       "      <td>Harry Potter y la Piedra Filosofal</td>\n",
       "      <td>Inglés</td>\n",
       "    </tr>\n",
       "    <tr>\n",
       "      <th>8</th>\n",
       "      <td>Y pensar que lo vi por la calle Porvenir</td>\n",
       "      <td>UNK</td>\n",
       "    </tr>\n",
       "    <tr>\n",
       "      <th>9</th>\n",
       "      <td>El Código Da Vinci</td>\n",
       "      <td>Inglés</td>\n",
       "    </tr>\n",
       "  </tbody>\n",
       "</table>\n",
       "</div>"
      ],
      "text/plain": [
       "                                     Titulo Idioma_original\n",
       "0                               Don Quijote         Español\n",
       "1                                 La Biblia          Hebreo\n",
       "2                                  El Corán           Árabe\n",
       "3                      Un cuento de Navidad          Inglés\n",
       "4                             El Principito         Francés\n",
       "5                   El Señor de los Anillos          Inglés\n",
       "6                             El Alquimista       Portugués\n",
       "7        Harry Potter y la Piedra Filosofal          Inglés\n",
       "8  Y pensar que lo vi por la calle Porvenir             UNK\n",
       "9                        El Código Da Vinci          Inglés"
      ]
     },
     "execution_count": 52,
     "metadata": {},
     "output_type": "execute_result"
    }
   ],
   "source": [
    "\n",
    "\n",
    "df_sin_ventas = df_libros.loc[:, df_libros.columns != 'Ventas']\n",
    "\n",
    "df_sin_ventas"
   ]
  }
 ],
 "metadata": {
  "kernelspec": {
   "display_name": "Python 3 (ipykernel)",
   "language": "python",
   "name": "python3"
  },
  "language_info": {
   "codemirror_mode": {
    "name": "ipython",
    "version": 3
   },
   "file_extension": ".py",
   "mimetype": "text/x-python",
   "name": "python",
   "nbconvert_exporter": "python",
   "pygments_lexer": "ipython3",
   "version": "3.12.1"
  }
 },
 "nbformat": 4,
 "nbformat_minor": 5
}
