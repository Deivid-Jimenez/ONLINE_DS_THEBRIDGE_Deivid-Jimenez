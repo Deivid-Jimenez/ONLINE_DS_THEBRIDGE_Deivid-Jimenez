{
 "cells": [
  {
   "cell_type": "code",
   "execution_count": 2,
   "id": "9d7fda74-2f2e-4d15-b2b7-d76f06ad73ce",
   "metadata": {},
   "outputs": [],
   "source": [
    "import pandas as pd\n",
    "import numpy as np"
   ]
  },
  {
   "cell_type": "markdown",
   "id": "48850884-4692-4cd4-9622-708638f1be4c",
   "metadata": {},
   "source": [
    "### Ejercicio 1"
   ]
  },
  {
   "cell_type": "markdown",
   "id": "9af22c27-2a48-43a8-9cf8-8ef06f882336",
   "metadata": {},
   "source": [
    "Crea un objeto Series con tus 5 libros favoritos como índice y como valor la etapa de la vida en la que lo leíste (o tus años, lo que prefieras) [Si lo prefieres cambia libros por películas, comida o deporte, y el índice de forma cocoherente, por ejemplo cuando la comiste por primera vez o por última, cuando lo practicaste por última vez]\n",
    "Muestra el resultado por pantalla."
   ]
  },
  {
   "cell_type": "code",
   "execution_count": 5,
   "id": "d6f42bbe-79c5-4063-8e24-f0aabb652fcd",
   "metadata": {},
   "outputs": [
    {
     "name": "stdout",
     "output_type": "stream",
     "text": [
      "Cien años de soledad    Adolescencia\n",
      "Nunca te pares           Universidad\n",
      "El Principito               Infancia\n",
      "Habitos Atomicos             Adultez\n",
      "La Chica del Tren       Adolescencia\n",
      "dtype: object\n"
     ]
    }
   ],
   "source": [
    "libros_favoritos = pd.Series({\n",
    "    'Cien años de soledad': 'Adolescencia',\n",
    "    'Nunca te pares': 'Universidad',\n",
    "    'El Principito': 'Infancia',\n",
    "    'Habitos Atomicos': 'Adultez',\n",
    "    'La Chica del Tren': 'Adolescencia'\n",
    "})\n",
    "print(libros_favoritos)"
   ]
  },
  {
   "cell_type": "markdown",
   "id": "3adb71bf-c27f-4216-957c-f2882193f6df",
   "metadata": {},
   "source": [
    "### Ejercicio 2"
   ]
  },
  {
   "cell_type": "markdown",
   "id": "fae43562-3fe3-40ed-92de-01c05d1c7a9a",
   "metadata": {},
   "source": [
    "Crea un objeto Series con tus 5 libros favoritos como índice y como valor el autor (o director, o ingrediente principal o deportista con más triunfos)\n",
    "Muestra el resultado por pantalla."
   ]
  },
  {
   "cell_type": "code",
   "execution_count": 6,
   "id": "1ee6a1e0-4bcc-446d-9f5d-ab0ffb9ab147",
   "metadata": {},
   "outputs": [
    {
     "name": "stdout",
     "output_type": "stream",
     "text": [
      "Cien años de soledad      Gabriel García Márquez\n",
      "Nunca te pares                       Phil Knight\n",
      "El Principito           Antoine de Saint-Exupéry\n",
      "Habitos Atomicos                     James Clear\n",
      "La Chica del Tren                  Paula Hawkins\n",
      "dtype: object\n"
     ]
    }
   ],
   "source": [
    "libros_favoritos = pd.Series({\n",
    "    'Cien años de soledad': 'Gabriel García Márquez',\n",
    "    'Nunca te pares': 'Phil Knight',\n",
    "    'El Principito': 'Antoine de Saint-Exupéry',\n",
    "    'Habitos Atomicos': 'James Clear',\n",
    "    'La Chica del Tren': 'Paula Hawkins'\n",
    "})\n",
    "\n",
    "# Mostrar el resultado por pantalla\n",
    "print(libros_favoritos)"
   ]
  },
  {
   "cell_type": "markdown",
   "id": "0827840e-52d5-48de-94df-38dd09682218",
   "metadata": {},
   "source": [
    "### Ejercicio 3"
   ]
  },
  {
   "cell_type": "markdown",
   "id": "9316fe9a-7526-4297-9f4d-b00b45f60dd3",
   "metadata": {},
   "source": [
    "Crea un diccionario cuyas claves sean \"Etapa\" y \"Escrito Por\" (o \"Dirigido por\", o \"Ingrediente Principal\", etc) y usalo para crear un DataFrame asignándolo a la variable df_ejemplo"
   ]
  },
  {
   "cell_type": "code",
   "execution_count": 7,
   "id": "0bbd5260-2e55-41e7-931a-40fae995723d",
   "metadata": {},
   "outputs": [
    {
     "name": "stdout",
     "output_type": "stream",
     "text": [
      "                             Etapa               Escrito Por\n",
      "Cien años de soledad  Adolescencia    Gabriel García Márquez\n",
      "Nunca te pares         Universidad               Phil Knight\n",
      "El Principito             Infancia  Antoine de Saint-Exupéry\n",
      "Habitos Atomicos           Adultez               James Clear\n",
      "La Chica del Tren     Adolescencia             Paula Hawkins\n"
     ]
    }
   ],
   "source": [
    "datos = {\n",
    "    \"Etapa\": [\"Adolescencia\", \"Universidad\", \"Infancia\", \"Adultez\", \"Adolescencia\"],\n",
    "    \"Escrito Por\": [\"Gabriel García Márquez\", \"Phil Knight\", \"Antoine de Saint-Exupéry\", \"James Clear\", \"Paula Hawkins\"]\n",
    "}\n",
    "\n",
    "# Crear un DataFrame a partir del diccionario\n",
    "df_ejemplo = pd.DataFrame(datos, index=[\"Cien años de soledad\", \"Nunca te pares\", \"El Principito\", \"Habitos Atomicos\", \"La Chica del Tren\"])\n",
    "\n",
    "# Mostrar el DataFrame por pantalla\n",
    "print(df_ejemplo)"
   ]
  },
  {
   "cell_type": "markdown",
   "id": "0454d495-10dc-40d0-b2b5-faa60d9f024b",
   "metadata": {},
   "source": [
    "### Ejercicio 4"
   ]
  },
  {
   "cell_type": "markdown",
   "id": "bbed5dc1-616a-4de9-bda1-7b42ff22670f",
   "metadata": {},
   "source": [
    "Muestra los valores, nombre de las columnas y filas de df_ejemplo utilizando atributos de este."
   ]
  },
  {
   "cell_type": "code",
   "execution_count": 9,
   "id": "e4ef5c7c-d5c6-40db-a3e4-a1bcce6886ce",
   "metadata": {},
   "outputs": [
    {
     "data": {
      "text/plain": [
       "Index(['Etapa', 'Escrito Por'], dtype='object')"
      ]
     },
     "execution_count": 9,
     "metadata": {},
     "output_type": "execute_result"
    }
   ],
   "source": [
    "df_ejemplo.columns"
   ]
  },
  {
   "cell_type": "code",
   "execution_count": 12,
   "id": "3a94bf09-7124-4535-b9bd-ecc88c000428",
   "metadata": {},
   "outputs": [
    {
     "data": {
      "text/plain": [
       "Index(['Cien años de soledad', 'Nunca te pares', 'El Principito',\n",
       "       'Habitos Atomicos', 'La Chica del Tren'],\n",
       "      dtype='object')"
      ]
     },
     "execution_count": 12,
     "metadata": {},
     "output_type": "execute_result"
    }
   ],
   "source": [
    "df_ejemplo.index"
   ]
  },
  {
   "cell_type": "code",
   "execution_count": 11,
   "id": "39fbf305-e299-4a04-8160-3478a09df859",
   "metadata": {},
   "outputs": [
    {
     "data": {
      "text/plain": [
       "array([['Adolescencia', 'Gabriel García Márquez'],\n",
       "       ['Universidad', 'Phil Knight'],\n",
       "       ['Infancia', 'Antoine de Saint-Exupéry'],\n",
       "       ['Adultez', 'James Clear'],\n",
       "       ['Adolescencia', 'Paula Hawkins']], dtype=object)"
      ]
     },
     "execution_count": 11,
     "metadata": {},
     "output_type": "execute_result"
    }
   ],
   "source": [
    "df_ejemplo.values"
   ]
  },
  {
   "cell_type": "markdown",
   "id": "7d832a21-260f-4a03-b8db-e847ffb7bfa8",
   "metadata": {},
   "source": [
    "### Ejercicio 5"
   ]
  },
  {
   "cell_type": "markdown",
   "id": "2461d129-aa2d-4128-92f2-ab5858db8b80",
   "metadata": {},
   "source": [
    "Muestra los valores de las columnas empleando el método de acceso tipo diccionario (es decir usando su nombre entre corchetes)"
   ]
  },
  {
   "cell_type": "code",
   "execution_count": 16,
   "id": "28e11c23-6615-41ce-afbb-3be15f4265e0",
   "metadata": {},
   "outputs": [
    {
     "name": "stdout",
     "output_type": "stream",
     "text": [
      "Cien años de soledad    Adolescencia\n",
      "Nunca te pares           Universidad\n",
      "El Principito               Infancia\n",
      "Habitos Atomicos             Adultez\n",
      "La Chica del Tren       Adolescencia\n",
      "Name: Etapa, dtype: object\n",
      "Cien años de soledad      Gabriel García Márquez\n",
      "Nunca te pares                       Phil Knight\n",
      "El Principito           Antoine de Saint-Exupéry\n",
      "Habitos Atomicos                     James Clear\n",
      "La Chica del Tren                  Paula Hawkins\n",
      "Name: Escrito Por, dtype: object\n"
     ]
    }
   ],
   "source": [
    "print(df_ejemplo[\"Etapa\"])\n",
    "print(df_ejemplo[\"Escrito Por\"])"
   ]
  },
  {
   "cell_type": "markdown",
   "id": "f0eea0da-0bbf-486b-9e46-6b947b52e132",
   "metadata": {},
   "source": [
    "### Ejercicio 6"
   ]
  },
  {
   "cell_type": "markdown",
   "id": "79993612-a272-4c98-9470-4658edb5a32d",
   "metadata": {},
   "source": [
    "Accede a los valores de dos de los libros (o películas, o comidas, etc), empleando el acceso tipo diccionario, recuerda que tendrás que usar en realidad un atributo."
   ]
  },
  {
   "cell_type": "code",
   "execution_count": 19,
   "id": "ec103a6b-d825-452c-b25f-7cc0ac12ebac",
   "metadata": {},
   "outputs": [
    {
     "name": "stdout",
     "output_type": "stream",
     "text": [
      "Etapa              Adultez\n",
      "Escrito Por    James Clear\n",
      "Name: Habitos Atomicos, dtype: object\n",
      "Etapa                          Infancia\n",
      "Escrito Por    Antoine de Saint-Exupéry\n",
      "Name: El Principito, dtype: object\n"
     ]
    }
   ],
   "source": [
    "print(df_ejemplo.loc[\"Habitos Atomicos\"])\n",
    "print(df_ejemplo.loc[\"El Principito\"])"
   ]
  },
  {
   "cell_type": "markdown",
   "id": "04df32bd-51fb-446d-9deb-973c54d87ba4",
   "metadata": {},
   "source": [
    "### Ejercicio 7"
   ]
  },
  {
   "cell_type": "code",
   "execution_count": 20,
   "id": "b179205f-7051-4756-b99e-dbb687ea3297",
   "metadata": {},
   "outputs": [
    {
     "name": "stdout",
     "output_type": "stream",
     "text": [
      "          unidad_1  unidad_2\n",
      "Sprint_1         4         2\n",
      "Sprint_2         3         4\n",
      "Sprint_3         5         3\n"
     ]
    }
   ],
   "source": [
    "datos = {\n",
    "    \"unidad_1\": [4, 3, 5],  # Valores para unidad_1 en cada Sprint\n",
    "    \"unidad_2\": [2, 4, 3]   # Valores para unidad_2 en cada Sprint\n",
    "}\n",
    "\n",
    "tiempos = pd.DataFrame(datos, index=[\"Sprint_1\", \"Sprint_2\", \"Sprint_3\"])\n",
    "print(tiempos)"
   ]
  }
 ],
 "metadata": {
  "kernelspec": {
   "display_name": "Python 3 (ipykernel)",
   "language": "python",
   "name": "python3"
  },
  "language_info": {
   "codemirror_mode": {
    "name": "ipython",
    "version": 3
   },
   "file_extension": ".py",
   "mimetype": "text/x-python",
   "name": "python",
   "nbconvert_exporter": "python",
   "pygments_lexer": "ipython3",
   "version": "3.12.1"
  }
 },
 "nbformat": 4,
 "nbformat_minor": 5
}
