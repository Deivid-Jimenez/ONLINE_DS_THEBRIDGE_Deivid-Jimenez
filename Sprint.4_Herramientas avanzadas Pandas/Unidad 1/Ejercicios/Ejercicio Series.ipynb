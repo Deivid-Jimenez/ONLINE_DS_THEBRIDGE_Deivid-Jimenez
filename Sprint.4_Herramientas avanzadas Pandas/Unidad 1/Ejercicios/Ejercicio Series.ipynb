{
 "cells": [
  {
   "cell_type": "code",
   "execution_count": 1,
   "id": "fa12534c-e4f0-4749-ba64-d75590631edc",
   "metadata": {},
   "outputs": [],
   "source": [
    "import pandas as pd\n",
    "import numpy as np"
   ]
  },
  {
   "cell_type": "markdown",
   "id": "dd83a741-ce8e-4b09-8e19-72ad6794e826",
   "metadata": {},
   "source": [
    "### Ejercicio 1"
   ]
  },
  {
   "cell_type": "markdown",
   "id": "3c95a4f7-757f-4741-ac1d-e593d57d3e6c",
   "metadata": {},
   "source": [
    "Crea una serie con los siguientes valores e índice\n",
    "\n",
    "* Valores = [45,46,12,10]\n",
    "* Índices = [\"Mum\",\"Dad\",\"Jing\",\"Jang\"]\n",
    "  \n",
    "Dale un nombre que creas que refleje el sentido de la serie. Muestra el resultado por pantalla"
   ]
  },
  {
   "cell_type": "code",
   "execution_count": 8,
   "id": "80ee687e-9e14-4ffc-a90d-32cde80f7f35",
   "metadata": {},
   "outputs": [
    {
     "name": "stdout",
     "output_type": "stream",
     "text": [
      "Mum     45\n",
      "Dad     46\n",
      "Jing    12\n",
      "Jang    10\n",
      "dtype: int64\n"
     ]
    }
   ],
   "source": [
    "Valores = pd.Series([45,46,12,10],\n",
    "                    index=[\"Mum\",\"Dad\",\"Jing\",\"Jang\"])\n",
    "print(Valores)"
   ]
  },
  {
   "cell_type": "markdown",
   "id": "46bb47c1-3333-4756-bf6c-bdf879097a9d",
   "metadata": {},
   "source": [
    "### Ejercicio 2"
   ]
  },
  {
   "cell_type": "markdown",
   "id": "a7bfa7f7-70ed-47c7-9cf9-e43ba2baf65d",
   "metadata": {},
   "source": [
    "Para la serie anterior y utilizando atributos de Series, muestra sus valores y su índice"
   ]
  },
  {
   "cell_type": "code",
   "execution_count": 13,
   "id": "77458f0c-3a21-4c69-b1b7-6a6249f5505a",
   "metadata": {},
   "outputs": [
    {
     "name": "stdout",
     "output_type": "stream",
     "text": [
      "Index(['Mum', 'Dad', 'Jing', 'Jang'], dtype='object')\n",
      "[45 46 12 10]\n"
     ]
    }
   ],
   "source": [
    "print(Valores.index)\n",
    "print(Valores.values)"
   ]
  },
  {
   "cell_type": "markdown",
   "id": "4d4a3b4a-4742-4696-b383-ae343ca2984c",
   "metadata": {},
   "source": [
    "### Ejercicio 3"
   ]
  },
  {
   "cell_type": "markdown",
   "id": "cffb7bf7-3050-4a07-a9ef-5e24161e7809",
   "metadata": {},
   "source": [
    "Crea una series con tus 4 series preferidas, pero como valores no uses los nombres, utiliza el año de su primera temporada y como índices los nombres de las series."
   ]
  },
  {
   "cell_type": "code",
   "execution_count": 15,
   "id": "3e22c205-8fb6-44e7-982e-c39ebaf54cf2",
   "metadata": {},
   "outputs": [],
   "source": [
    "series_fav = pd.Series ([2015,2008,2016,2014,2022],\n",
    "                        index=[\"Game of Thrones\", \"Breaking Bad\",\"Chernobyl\",\n",
    "                               \"Peaky Blinders\",\"House of Dragon\"])"
   ]
  },
  {
   "cell_type": "markdown",
   "id": "5cb83cbc-d798-4705-84ec-98d1e8a73bab",
   "metadata": {},
   "source": [
    "### Ejercicio 4"
   ]
  },
  {
   "cell_type": "markdown",
   "id": "8d80c45b-4dca-4f51-b6f4-242316f6cc02",
   "metadata": {},
   "source": [
    "¿Cuántos años tiene la más antígua? (Resuelvelo utilizando un método, además de lo que necesites adicionalmente)"
   ]
  },
  {
   "cell_type": "code",
   "execution_count": 31,
   "id": "f6775344-332d-4ea6-b423-9822f58a195b",
   "metadata": {},
   "outputs": [
    {
     "name": "stdout",
     "output_type": "stream",
     "text": [
      "La edad que tiene la serie más antigua de mis favoritas son 17 años\n"
     ]
    }
   ],
   "source": [
    "año_actual = 2025\n",
    "año_lanzamiento = (series_fav.min())\n",
    "def diferencia(año_actual,año_lanzamiento):\n",
    "    return año_actual-año_lanzamiento\n",
    "\n",
    "print(f\"La edad que tiene la serie más antigua de mis favoritas son {diferencia(año_actual, año_lanzamiento)} años\")"
   ]
  },
  {
   "cell_type": "markdown",
   "id": "3d282dba-fb0b-4148-9b73-a65e059029df",
   "metadata": {},
   "source": [
    "### Ejercicio 5"
   ]
  },
  {
   "cell_type": "markdown",
   "id": "5dc147d9-9017-483b-aba8-8a4f2651884c",
   "metadata": {},
   "source": [
    "Encuentra cual es la más antígua y la más reciente empleando métodos de Series"
   ]
  },
  {
   "cell_type": "code",
   "execution_count": 35,
   "id": "dce01e9a-3afd-4852-a57b-67748c258a84",
   "metadata": {},
   "outputs": [
    {
     "name": "stdout",
     "output_type": "stream",
     "text": [
      "Breaking Bad\n",
      "House of Dragon\n"
     ]
    }
   ],
   "source": [
    "print(series_fav.idxmin())\n",
    "print(series_fav.idxmax())"
   ]
  },
  {
   "cell_type": "markdown",
   "id": "154069bd-50d5-4bb5-8973-adaafcfa4553",
   "metadata": {},
   "source": [
    "### Ejercicio 6"
   ]
  },
  {
   "cell_type": "markdown",
   "id": "77d58f3d-04b3-41ca-8e51-a988d8ef5d52",
   "metadata": {},
   "source": [
    "Accede a la más reciente empleando el índice explícito y el implícito"
   ]
  },
  {
   "cell_type": "code",
   "execution_count": 38,
   "id": "f9534024-fd94-48d1-afcd-9ac83858bf2d",
   "metadata": {},
   "outputs": [
    {
     "name": "stdout",
     "output_type": "stream",
     "text": [
      "2022\n",
      "2022\n"
     ]
    }
   ],
   "source": [
    "print(series_fav.iloc[4]) ##Acceder a los elementos de manera implicita\n",
    "print(series_fav.loc[\"House of Dragon\"]) ##Acceder a los elementos de manera explicita"
   ]
  },
  {
   "cell_type": "markdown",
   "id": "78cebe24-a466-4bfa-8721-65d05b3f1407",
   "metadata": {},
   "source": [
    "### Ejercicio 7"
   ]
  },
  {
   "cell_type": "markdown",
   "id": "e7092c78-ec86-404c-a19f-54fd83917708",
   "metadata": {},
   "source": [
    "\n",
    "Haz un slicing de la primera serie (ejercicio 1) de forma que no incluya a \"Mum\" y usando índices explícitos (el índice de la Serie, vaya)"
   ]
  },
  {
   "cell_type": "code",
   "execution_count": 39,
   "id": "bd9ec8bc-2244-495e-97d9-212d82f1a4f2",
   "metadata": {},
   "outputs": [
    {
     "data": {
      "text/plain": [
       "Dad     46\n",
       "Jing    12\n",
       "Jang    10\n",
       "dtype: int64"
      ]
     },
     "execution_count": 39,
     "metadata": {},
     "output_type": "execute_result"
    }
   ],
   "source": [
    "Valores[\"Dad\":\"Jang\"]"
   ]
  },
  {
   "cell_type": "markdown",
   "id": "a884df58-0dd7-4a3b-aadf-c53052d64034",
   "metadata": {},
   "source": [
    "### Ejercicio 8"
   ]
  },
  {
   "cell_type": "markdown",
   "id": "2a1f9b45-fb72-4597-aa02-66de83ff3776",
   "metadata": {},
   "source": [
    "\n",
    "Crea un objeto Series de 10 elementos todos ellos con el valor \"DataScience\", cambia el elemento 5 por \"TheBridge\" y el 8 por \"Bootcamp\"."
   ]
  },
  {
   "cell_type": "code",
   "execution_count": 45,
   "id": "9163c188-9373-4d1a-b7e7-13ff451b8957",
   "metadata": {},
   "outputs": [
    {
     "name": "stdout",
     "output_type": "stream",
     "text": [
      "1     DataScience\n",
      "2     DataScience\n",
      "3     DataScience\n",
      "4     DataScience\n",
      "5       TheBridge\n",
      "6     DataScience\n",
      "7     DataScience\n",
      "8        Bootcamp\n",
      "9     DataScience\n",
      "10    DataScience\n",
      "dtype: object\n"
     ]
    }
   ],
   "source": [
    "Clase = pd.Series(\"DataScience\",index=[1,2,3,4,5,6,7,8,9,10])\n",
    "Clase[5]=\"TheBridge\"\n",
    "Clase[8]=\"Bootcamp\"\n",
    "\n",
    "print(Clase)"
   ]
  }
 ],
 "metadata": {
  "kernelspec": {
   "display_name": "Python 3 (ipykernel)",
   "language": "python",
   "name": "python3"
  },
  "language_info": {
   "codemirror_mode": {
    "name": "ipython",
    "version": 3
   },
   "file_extension": ".py",
   "mimetype": "text/x-python",
   "name": "python",
   "nbconvert_exporter": "python",
   "pygments_lexer": "ipython3",
   "version": "3.12.1"
  }
 },
 "nbformat": 4,
 "nbformat_minor": 5
}
