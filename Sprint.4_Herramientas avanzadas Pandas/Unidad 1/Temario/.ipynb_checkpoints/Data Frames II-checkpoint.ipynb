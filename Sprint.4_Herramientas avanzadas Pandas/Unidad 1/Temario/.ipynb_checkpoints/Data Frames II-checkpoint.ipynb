{
 "cells": [
  {
   "cell_type": "markdown",
   "id": "fc16cf49-f95b-469b-8807-f11c930df46d",
   "metadata": {},
   "source": [
    "## Seleccion en series I"
   ]
  },
  {
   "cell_type": "markdown",
   "id": "462137cb-725e-4821-8b5a-204112745e10",
   "metadata": {},
   "source": [
    "### Indexado, Seleccion y Slicing en Series"
   ]
  },
  {
   "cell_type": "markdown",
   "id": "12cba35c-5a33-499d-9539-3444882757bc",
   "metadata": {},
   "source": [
    "Hemos visto los métodos y herramientas para acceder, establecer y modificar valores en arrays de NumPy. Estos incluyen la indexación (por ejemplo, `arr[2, 1]`), el slicing (por ejemplo, `arr[:, 1:5]`), la máscara (por ejemplo, `arr[arr > 0]`) y además hemos visto combinaciones de los mismos.\n",
    "\n",
    "Ahora veremos medios similares para acceder y modificar valores en los objetos Pandas Series y DataFrame. Si has utilizado los patrones de NumPy, los patrones correspondientes en Pandas te resultarán muy familiares, aunque hay algunas peculiaridades que debes tener en cuenta."
   ]
  },
  {
   "cell_type": "markdown",
   "id": "6b0c1dd0-b8c0-41c3-870d-cd220e093782",
   "metadata": {},
   "source": [
    "### Introducción\n",
    "\n",
    "Como estudiamos en las sesiones dedicadas a **Series**, un objeto  \n",
    "**Series actúa en muchos aspectos como un array unidimensional de NumPy, y en muchos aspectos como un diccionario estándar de Python.** Si tenemos en cuenta estas dos analogías superpuestas, nos ayudará a entender los patrones de indexación y selección de datos en estos objetos."
   ]
  },
  {
   "cell_type": "markdown",
   "id": "2fbcaee9-4926-4db4-94cf-44f196c5c2e3",
   "metadata": {},
   "source": [
    "### Series como un diccionario"
   ]
  },
  {
   "cell_type": "markdown",
   "id": "6fc6456a-cf6e-4de3-bd34-8e7f67172e57",
   "metadata": {},
   "source": [
    "Recordemos que al igual que un diccionario, el objeto Series proporciona un mapeo de una colección de claves a una colección de valores "
   ]
  },
  {
   "cell_type": "code",
   "execution_count": 2,
   "id": "3c4bac5d-6067-491e-b5a8-a9f80d9fe011",
   "metadata": {},
   "outputs": [],
   "source": [
    "import pandas as pd"
   ]
  },
  {
   "cell_type": "code",
   "execution_count": 4,
   "id": "180ecd80-0ddd-48a3-b619-c28fb9670603",
   "metadata": {},
   "outputs": [],
   "source": [
    "data = pd.Series([1,2,4,5,6], index = [\"a\",\"b\",\"d\",\"c\",\"e\"])"
   ]
  },
  {
   "cell_type": "code",
   "execution_count": 5,
   "id": "e00a7f07-2694-45f7-90bd-628b2366bb39",
   "metadata": {},
   "outputs": [
    {
     "data": {
      "text/plain": [
       "np.int64(5)"
      ]
     },
     "execution_count": 5,
     "metadata": {},
     "output_type": "execute_result"
    }
   ],
   "source": [
    "data[\"c\"]"
   ]
  },
  {
   "cell_type": "markdown",
   "id": "45604c7e-a349-49e1-b890-32a30eb02853",
   "metadata": {},
   "source": [
    "Como ya habíamos adelantado en las sesiones sobre Series, podemos utilizar expresiones y métodos de Python tipo diccionario para examinar las claves/índices y los valores:"
   ]
  },
  {
   "cell_type": "code",
   "execution_count": 6,
   "id": "3cd7db86-246d-45c7-a8ac-9911bdf040b7",
   "metadata": {},
   "outputs": [
    {
     "name": "stdout",
     "output_type": "stream",
     "text": [
      "False\n",
      "True\n"
     ]
    }
   ],
   "source": [
    "print(\"h\" in data)\n",
    "print(\"a\" in data)"
   ]
  },
  {
   "cell_type": "code",
   "execution_count": 7,
   "id": "7bd52dc6-7f3c-42f5-a6d1-7c627ee66845",
   "metadata": {},
   "outputs": [
    {
     "data": {
      "text/plain": [
       "Index(['a', 'b', 'd', 'c', 'e'], dtype='object')"
      ]
     },
     "execution_count": 7,
     "metadata": {},
     "output_type": "execute_result"
    }
   ],
   "source": [
    "data.keys()"
   ]
  },
  {
   "cell_type": "code",
   "execution_count": 10,
   "id": "745d2276-69a1-408c-ade7-d8f9d0d6059b",
   "metadata": {},
   "outputs": [
    {
     "data": {
      "text/plain": [
       "Index(['a', 'b', 'd', 'c', 'e'], dtype='object')"
      ]
     },
     "execution_count": 10,
     "metadata": {},
     "output_type": "execute_result"
    }
   ],
   "source": [
    "data.index"
   ]
  },
  {
   "cell_type": "code",
   "execution_count": 12,
   "id": "4dce31f0-4162-4b09-b6b8-6ca95206aaed",
   "metadata": {},
   "outputs": [
    {
     "name": "stdout",
     "output_type": "stream",
     "text": [
      "index: a valor: 1\n",
      "index: b valor: 2\n",
      "index: d valor: 4\n",
      "index: c valor: 5\n",
      "index: e valor: 6\n"
     ]
    }
   ],
   "source": [
    "for indice, valor in data.items():\n",
    "    print (\"index:\",indice,\"valor:\",valor)"
   ]
  },
  {
   "cell_type": "markdown",
   "id": "a510f7ed-97a3-472c-bf15-484ad88cdfe7",
   "metadata": {},
   "source": [
    "Los objetos Series pueden incluso modificarse con una sintaxis similar a la de un diccionario. Al igual que se puede ampliar un diccionario asignando una nueva clave, se puede ampliar una Serie asignando un nuevo valor de índice:"
   ]
  },
  {
   "cell_type": "code",
   "execution_count": 14,
   "id": "13601904-9a90-4581-980c-460c760e4207",
   "metadata": {},
   "outputs": [],
   "source": [
    "data[\"z\"] = 23\n",
    "data[\"m\"] = 22"
   ]
  },
  {
   "cell_type": "code",
   "execution_count": 16,
   "id": "e4c607d5-c837-43e5-b467-29009d72a734",
   "metadata": {},
   "outputs": [
    {
     "name": "stdout",
     "output_type": "stream",
     "text": [
      "index: a valor: 1\n",
      "index: b valor: 2\n",
      "index: d valor: 4\n",
      "index: c valor: 5\n",
      "index: e valor: 6\n",
      "index: z valor: 23\n",
      "index: m valor: 22\n"
     ]
    }
   ],
   "source": [
    "for indice, valor in data.items():\n",
    "    print (\"index:\",indice,\"valor:\",valor)"
   ]
  },
  {
   "cell_type": "markdown",
   "id": "85b0041e-db04-4023-ad06-7e94deef6be1",
   "metadata": {},
   "source": [
    "### Series como un array unidimensional\n",
    "\n",
    "Una **Series** permite una interacción similar a un diccionario y proporciona además selección de elementos al estilo de un array de NumPy a través de los mismos mecanismos básicos que los arrays de NumPy – es decir, *cortes (slices), enmascaramiento (masking)* y *indexación sofisticada (fancy indexing)*. Ejemplos de estos son los siguientes, algunos ya vistos en sesiones anteriores:"
   ]
  },
  {
   "cell_type": "code",
   "execution_count": 19,
   "id": "64156b20-6a0b-46eb-af30-f059e86e8120",
   "metadata": {},
   "outputs": [
    {
     "data": {
      "text/plain": [
       "a    1\n",
       "b    2\n",
       "d    4\n",
       "dtype: int64"
      ]
     },
     "execution_count": 19,
     "metadata": {},
     "output_type": "execute_result"
    }
   ],
   "source": [
    "### Corte o slicing por indice explicito (ya visto)\n",
    "data[\"a\":\"d\"]"
   ]
  },
  {
   "cell_type": "code",
   "execution_count": 20,
   "id": "5bb9665a-8ae6-447e-9374-5d463d2fadab",
   "metadata": {},
   "outputs": [
    {
     "data": {
      "text/plain": [
       "e     6\n",
       "z    23\n",
       "m    22\n",
       "dtype: int64"
      ]
     },
     "execution_count": 20,
     "metadata": {},
     "output_type": "execute_result"
    }
   ],
   "source": [
    "### Corte o slicing por indice implicito o posicional \n",
    "data[-3:]"
   ]
  },
  {
   "cell_type": "code",
   "execution_count": 21,
   "id": "01be4545-a159-4761-95bc-d4eca2ed01c9",
   "metadata": {},
   "outputs": [
    {
     "data": {
      "text/plain": [
       "d    4\n",
       "c    5\n",
       "e    6\n",
       "dtype: int64"
      ]
     },
     "execution_count": 21,
     "metadata": {},
     "output_type": "execute_result"
    }
   ],
   "source": [
    "### masking o enmascaramiento\n",
    "data[(data>3) & (data<8)]"
   ]
  },
  {
   "cell_type": "code",
   "execution_count": 22,
   "id": "4e854a67-abc5-4910-bdf8-c03aa045e5b6",
   "metadata": {},
   "outputs": [
    {
     "data": {
      "text/plain": [
       "a     1\n",
       "b     2\n",
       "d     4\n",
       "c     5\n",
       "e     6\n",
       "z    23\n",
       "m    22\n",
       "dtype: int64"
      ]
     },
     "execution_count": 22,
     "metadata": {},
     "output_type": "execute_result"
    }
   ],
   "source": [
    "data"
   ]
  },
  {
   "cell_type": "code",
   "execution_count": 23,
   "id": "a1d51734-ff12-4211-b64c-ee7219aba1a2",
   "metadata": {},
   "outputs": [],
   "source": [
    "condicion = [(data>3) & (data<8)]"
   ]
  },
  {
   "cell_type": "code",
   "execution_count": 24,
   "id": "ce44289e-1fb1-430c-84a7-be0456ab8486",
   "metadata": {},
   "outputs": [
    {
     "data": {
      "text/plain": [
       "[a    False\n",
       " b    False\n",
       " d     True\n",
       " c     True\n",
       " e     True\n",
       " z    False\n",
       " m    False\n",
       " dtype: bool]"
      ]
     },
     "execution_count": 24,
     "metadata": {},
     "output_type": "execute_result"
    }
   ],
   "source": [
    "condicion"
   ]
  },
  {
   "cell_type": "code",
   "execution_count": 32,
   "id": "00674a79-40c1-4a9d-a342-150a884d57f8",
   "metadata": {},
   "outputs": [
    {
     "name": "stdout",
     "output_type": "stream",
     "text": [
      "a     1\n",
      "m    22\n",
      "d     4\n",
      "z    23\n",
      "dtype: int64\n"
     ]
    }
   ],
   "source": [
    "### Fancy indexing\n",
    "\n",
    "seleccion = [\"a\",\"m\",\"d\",\"z\"]\n",
    "print(data[seleccion])"
   ]
  },
  {
   "cell_type": "markdown",
   "id": "7a58b312-365f-4c36-adcc-a0ab6c2666c6",
   "metadata": {},
   "source": [
    "## Seleccion en series II"
   ]
  },
  {
   "cell_type": "markdown",
   "id": "7f243e76-cdb1-4340-931a-21a471914f64",
   "metadata": {},
   "source": [
    "### Indexers: loc, iloc, ix (obsoleto o deprecated)\n",
    "\n",
    "En esta sesión vamos a ver la forma correcta de decirle a nuestra Serie que valores queremos para evitarnos problemas. Usaremos `loc` e `iloc`.\n",
    "\n",
    "A la hora de indexar valores en una serie puede haber confusiones si para los índices del Index de la serie hemos decidido usar enteros (o sea explícitamente hemos puesto índices con valores enteros).\n",
    "\n",
    "Por ejemplo, si tu Serie tiene un índice entero explícito, una operación de indexación como **data[1]** **utilizará los índices explícitos, mientras que una operacion de slicing como data[1:3] utilizará el indice implicito o posicional**"
   ]
  },
  {
   "cell_type": "code",
   "execution_count": 35,
   "id": "64adfb8a-9586-4e97-9332-f06e7d116a38",
   "metadata": {},
   "outputs": [
    {
     "data": {
      "text/plain": [
       "1    a\n",
       "3    b\n",
       "5    c\n",
       "dtype: object"
      ]
     },
     "execution_count": 35,
     "metadata": {},
     "output_type": "execute_result"
    }
   ],
   "source": [
    "data = pd.Series([\"a\",\"b\",\"c\"],index=[1,3,5]) \n",
    "data"
   ]
  },
  {
   "cell_type": "code",
   "execution_count": 36,
   "id": "f2f97dfd-75ff-4e7d-866b-d5a7ef115a78",
   "metadata": {},
   "outputs": [
    {
     "data": {
      "text/plain": [
       "'a'"
      ]
     },
     "execution_count": 36,
     "metadata": {},
     "output_type": "execute_result"
    }
   ],
   "source": [
    "###Indexado explicito\n",
    "data[1]"
   ]
  },
  {
   "cell_type": "code",
   "execution_count": 37,
   "id": "fe5fb07d-8996-473a-bab2-e5adcecfe336",
   "metadata": {},
   "outputs": [
    {
     "data": {
      "text/plain": [
       "3    b\n",
       "5    c\n",
       "dtype: object"
      ]
     },
     "execution_count": 37,
     "metadata": {},
     "output_type": "execute_result"
    }
   ],
   "source": [
    "###Indexado implicito\n",
    "data[1:3]"
   ]
  },
  {
   "cell_type": "markdown",
   "id": "c8fe6764-b139-48d7-a4f3-48020579af46",
   "metadata": {},
   "source": [
    "Debido a esta potencial confusión en el caso de los índices enteros,  \n",
    "Pandas proporciona algunos atributos *indexadores* especiales que  \n",
    "exponen explícitamente ciertos esquemas de indexación. No se trata  \n",
    "de métodos funcionales, sino de atributos que exponen una interfaz  \n",
    "de slicing particular a los datos de la Serie.\n",
    "\n",
    "En primer lugar, el **atributo loc permite la indexación y el slice**  \n",
    "que siempre hace referencia al índice explícito:"
   ]
  },
  {
   "cell_type": "code",
   "execution_count": 39,
   "id": "74d3b13f-0367-4ac0-8a9d-df25e7f7b638",
   "metadata": {},
   "outputs": [
    {
     "data": {
      "text/plain": [
       "'b'"
      ]
     },
     "execution_count": 39,
     "metadata": {},
     "output_type": "execute_result"
    }
   ],
   "source": [
    "data.loc[3]"
   ]
  },
  {
   "cell_type": "code",
   "execution_count": 41,
   "id": "5d1a8d2e-dd12-44e6-ab63-5109b1fc6fa0",
   "metadata": {},
   "outputs": [
    {
     "data": {
      "text/plain": [
       "'b'"
      ]
     },
     "execution_count": 41,
     "metadata": {},
     "output_type": "execute_result"
    }
   ],
   "source": [
    "data.iloc[1] ###Indice posicional"
   ]
  },
  {
   "cell_type": "markdown",
   "id": "9edf15fa-66da-4ec7-93d7-62612595fa5c",
   "metadata": {},
   "source": [
    "Un principio rector del código Python es que \"lo explícito es mejor que lo implícito\". La naturaleza explícita de `loc` e `iloc` los hace muy útiles para mantener un código limpio y legible; especialmente en el caso de los índices de enteros, **recomiendo usarlos tanto para hacer el código más fácil de leer y entender, como para prevenir errores sutiles debido a la convención de indexación/corte mixto**.\n",
    "\n",
    "En definitiva, siempre que quieras acceder a un elemento en una serie (supongamos una serie llamada \"ejemplo\"):\n",
    "\n",
    "- Si lo haces por una etiqueta o un valor del Index -> `ejemplo.loc[valor]`\n",
    "- Si lo haces por la posición que ocupa el valor -> `ejemplo.iloc[posicion]`\n",
    "- No lo hagas así para evitar problemas: `ejemplo[valor]` o `ejemplo[posicion]` y tampoco uses (te dará error) `ejemplo.ix[valor]`, `ejemplo.ix[posicion]`"
   ]
  }
 ],
 "metadata": {
  "kernelspec": {
   "display_name": "Python 3 (ipykernel)",
   "language": "python",
   "name": "python3"
  },
  "language_info": {
   "codemirror_mode": {
    "name": "ipython",
    "version": 3
   },
   "file_extension": ".py",
   "mimetype": "text/x-python",
   "name": "python",
   "nbconvert_exporter": "python",
   "pygments_lexer": "ipython3",
   "version": "3.12.1"
  }
 },
 "nbformat": 4,
 "nbformat_minor": 5
}
