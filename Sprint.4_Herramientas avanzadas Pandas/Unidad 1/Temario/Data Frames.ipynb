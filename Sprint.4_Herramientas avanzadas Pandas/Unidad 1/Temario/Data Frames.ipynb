{
 "cells": [
  {
   "cell_type": "markdown",
   "id": "8d80bd6c-288c-4918-baf6-7479870ae19b",
   "metadata": {},
   "source": [
    "## DataFrame como matriz generalizada de NumPy\n",
    "\n",
    "Si una **Serie** es un análogo de un array unidimensional con índices flexibles, un **DataFrame** es un **análogo de un array bidimensional con índices de fila y nombres de columna flexibles**. Al igual que se puede pensar en una matriz bidimensional como una secuencia ordenada de columnas unidimensionales alineadas, se puede pensar en un **DataFrame** como una secuencia de objetos **Series** alineados. Aquí, por \"alineado\" queremos decir que **comparten el mismo índice**.\n",
    "\n",
    "Para comprobarlo, reconstruyamos la serie de la población de estados de la sesión anterior y luego una nueva **Serie** que enumere el área de cada uno de los cinco estados discutidos en la sesión anterior:"
   ]
  },
  {
   "cell_type": "code",
   "execution_count": 2,
   "id": "2f2c3c83-a517-44b3-a7cb-5c648e9f7fdd",
   "metadata": {},
   "outputs": [],
   "source": [
    "import pandas as pd"
   ]
  },
  {
   "cell_type": "code",
   "execution_count": 9,
   "id": "a863c735-98bd-400d-a775-0e8efeca2f60",
   "metadata": {},
   "outputs": [
    {
     "data": {
      "text/plain": [
       "California    38332521\n",
       "Texas         26448193\n",
       "New York      19651127\n",
       "Florida       19552860\n",
       "Illinois      12882125\n",
       "dtype: int64"
      ]
     },
     "execution_count": 9,
     "metadata": {},
     "output_type": "execute_result"
    }
   ],
   "source": [
    "population_dict = {\"California\":38332521, \n",
    "                   \"Texas\":26448193,\n",
    "                   \"New York\":19651127,\n",
    "                   \"Florida\":19552860,\n",
    "                   \"Illinois\":12882125}\n",
    "population = pd.Series(population_dict)\n",
    "population"
   ]
  },
  {
   "cell_type": "code",
   "execution_count": 4,
   "id": "7ecbece3-eff3-4d43-97fb-8c98835e6795",
   "metadata": {},
   "outputs": [],
   "source": [
    "area_dict = {\"California\":423967, \n",
    "            \"Texas\":695692,\n",
    "            \"New York\":141297,\n",
    "            \"Florida\":170312,\n",
    "            \"Illinois\":149995\n",
    "            }"
   ]
  },
  {
   "cell_type": "code",
   "execution_count": 6,
   "id": "663d70d7-35b7-4de7-9ccb-515ac6f3fb43",
   "metadata": {},
   "outputs": [
    {
     "data": {
      "text/plain": [
       "California    423967\n",
       "Texas         695692\n",
       "New York      141297\n",
       "Florida       170312\n",
       "Illinois      149995\n",
       "dtype: int64"
      ]
     },
     "execution_count": 6,
     "metadata": {},
     "output_type": "execute_result"
    }
   ],
   "source": [
    "area=pd.Series(area_dict)\n",
    "area"
   ]
  },
  {
   "cell_type": "markdown",
   "id": "827c558c-8f61-4a47-9ef2-7f7b417cb681",
   "metadata": {},
   "source": [
    "Ahora porcederemos a utilizar un diccionario para construir un unico objeto bidimensional que contenga\n",
    "esta información:"
   ]
  },
  {
   "cell_type": "code",
   "execution_count": 26,
   "id": "9a2136df-1384-4fdd-b802-835faa6da1d9",
   "metadata": {},
   "outputs": [
    {
     "data": {
      "text/plain": [
       "{'Poblacion': California    38332521\n",
       " Texas         26448193\n",
       " New York      19651127\n",
       " Florida       19552860\n",
       " Illinois      12882125\n",
       " dtype: int64,\n",
       " 'Superficie': California    423967\n",
       " Texas         695692\n",
       " New York      141297\n",
       " Florida       170312\n",
       " Illinois      149995\n",
       " dtype: int64}"
      ]
     },
     "execution_count": 26,
     "metadata": {},
     "output_type": "execute_result"
    }
   ],
   "source": [
    "estados= {\"Poblacion\":population,\n",
    "          \"Superficie\":area}\n",
    "estados"
   ]
  },
  {
   "cell_type": "markdown",
   "id": "295ffcd3-16e7-4463-bde1-d1edbd98bfbe",
   "metadata": {},
   "source": [
    "Ahora sí, procederemos a crear un dataframe"
   ]
  },
  {
   "cell_type": "code",
   "execution_count": 27,
   "id": "3b87ac9f-d1c4-487c-a3ac-f96200822527",
   "metadata": {},
   "outputs": [
    {
     "data": {
      "text/html": [
       "<div>\n",
       "<style scoped>\n",
       "    .dataframe tbody tr th:only-of-type {\n",
       "        vertical-align: middle;\n",
       "    }\n",
       "\n",
       "    .dataframe tbody tr th {\n",
       "        vertical-align: top;\n",
       "    }\n",
       "\n",
       "    .dataframe thead th {\n",
       "        text-align: right;\n",
       "    }\n",
       "</style>\n",
       "<table border=\"1\" class=\"dataframe\">\n",
       "  <thead>\n",
       "    <tr style=\"text-align: right;\">\n",
       "      <th></th>\n",
       "      <th>Poblacion</th>\n",
       "      <th>Superficie</th>\n",
       "    </tr>\n",
       "  </thead>\n",
       "  <tbody>\n",
       "    <tr>\n",
       "      <th>California</th>\n",
       "      <td>38332521</td>\n",
       "      <td>423967</td>\n",
       "    </tr>\n",
       "    <tr>\n",
       "      <th>Texas</th>\n",
       "      <td>26448193</td>\n",
       "      <td>695692</td>\n",
       "    </tr>\n",
       "    <tr>\n",
       "      <th>New York</th>\n",
       "      <td>19651127</td>\n",
       "      <td>141297</td>\n",
       "    </tr>\n",
       "    <tr>\n",
       "      <th>Florida</th>\n",
       "      <td>19552860</td>\n",
       "      <td>170312</td>\n",
       "    </tr>\n",
       "    <tr>\n",
       "      <th>Illinois</th>\n",
       "      <td>12882125</td>\n",
       "      <td>149995</td>\n",
       "    </tr>\n",
       "  </tbody>\n",
       "</table>\n",
       "</div>"
      ],
      "text/plain": [
       "            Poblacion  Superficie\n",
       "California   38332521      423967\n",
       "Texas        26448193      695692\n",
       "New York     19651127      141297\n",
       "Florida      19552860      170312\n",
       "Illinois     12882125      149995"
      ]
     },
     "execution_count": 27,
     "metadata": {},
     "output_type": "execute_result"
    }
   ],
   "source": [
    "states= pd.DataFrame(estados)\n",
    "states"
   ]
  },
  {
   "cell_type": "markdown",
   "id": "77aadf1f-1ba5-4e88-af70-ee73c11a6ab6",
   "metadata": {},
   "source": [
    "Al igual que el objeto Series, el DataFrame tiene un atributo index que da el acceso a las etiquetas del indice"
   ]
  },
  {
   "cell_type": "code",
   "execution_count": 16,
   "id": "650007af-ebd7-4666-bf03-7c40ac46d46a",
   "metadata": {},
   "outputs": [
    {
     "data": {
      "text/plain": [
       "Index(['California', 'Texas', 'New York', 'Florida', 'Illinois'], dtype='object')"
      ]
     },
     "execution_count": 16,
     "metadata": {},
     "output_type": "execute_result"
    }
   ],
   "source": [
    "states.index"
   ]
  },
  {
   "cell_type": "markdown",
   "id": "4b16e142-2da5-4d4c-a52e-cfd180d52a27",
   "metadata": {},
   "source": [
    "Podemos acceder a las columnas"
   ]
  },
  {
   "cell_type": "code",
   "execution_count": 17,
   "id": "7b73ee7e-3ffd-48ce-913e-f15fe001d745",
   "metadata": {},
   "outputs": [
    {
     "data": {
      "text/plain": [
       "Index(['Pobacion', 'Superficie'], dtype='object')"
      ]
     },
     "execution_count": 17,
     "metadata": {},
     "output_type": "execute_result"
    }
   ],
   "source": [
    "states.columns"
   ]
  },
  {
   "cell_type": "markdown",
   "id": "615fc764-ae0a-4581-b7ee-49e5e04a49ec",
   "metadata": {},
   "source": [
    "Podemos acceder a los valores"
   ]
  },
  {
   "cell_type": "code",
   "execution_count": 22,
   "id": "40aa8c58-9ed4-4de0-b06b-2021fed48e5d",
   "metadata": {},
   "outputs": [
    {
     "data": {
      "text/plain": [
       "array([[38332521,   423967],\n",
       "       [26448193,   695692],\n",
       "       [19651127,   141297],\n",
       "       [19552860,   170312],\n",
       "       [12882125,   149995]])"
      ]
     },
     "execution_count": 22,
     "metadata": {},
     "output_type": "execute_result"
    }
   ],
   "source": [
    "states.values"
   ]
  },
  {
   "cell_type": "markdown",
   "id": "560dceb9-e9bf-45dd-8e40-dc33defc54bd",
   "metadata": {},
   "source": [
    "### DataFrame como diccionario especializado\n",
    "\n",
    "Del mismo modo, también podemos pensar en un **DataFrame** como una especialización de un diccionario. Mientras que un diccionario asigna una clave a un valor, un **DataFrame** asigna un nombre de columna a una **Serie** de datos de columna. Por ejemplo, pedir el atributo **superficie** devuelve el objeto **Series** que contiene las áreas que vimos anteriormente:"
   ]
  },
  {
   "cell_type": "code",
   "execution_count": 24,
   "id": "60c9fda9-1dab-41fb-a78f-95b52be845c0",
   "metadata": {},
   "outputs": [
    {
     "data": {
      "text/plain": [
       "California    423967\n",
       "Texas         695692\n",
       "New York      141297\n",
       "Florida       170312\n",
       "Illinois      149995\n",
       "Name: Superficie, dtype: int64"
      ]
     },
     "execution_count": 24,
     "metadata": {},
     "output_type": "execute_result"
    }
   ],
   "source": [
    "states[\"Superficie\"]"
   ]
  },
  {
   "cell_type": "code",
   "execution_count": 28,
   "id": "2316951e-9628-4cbd-a299-7c557780bf45",
   "metadata": {},
   "outputs": [
    {
     "data": {
      "text/plain": [
       "California    38332521\n",
       "Texas         26448193\n",
       "New York      19651127\n",
       "Florida       19552860\n",
       "Illinois      12882125\n",
       "Name: Poblacion, dtype: int64"
      ]
     },
     "execution_count": 28,
     "metadata": {},
     "output_type": "execute_result"
    }
   ],
   "source": [
    "states[\"Poblacion\"]"
   ]
  },
  {
   "cell_type": "code",
   "execution_count": 29,
   "id": "1773ae21-5eaa-4484-b8ed-d086e4df230d",
   "metadata": {},
   "outputs": [
    {
     "data": {
      "text/plain": [
       "Poblacion     19552860\n",
       "Superficie      170312\n",
       "Name: Florida, dtype: int64"
      ]
     },
     "execution_count": 29,
     "metadata": {},
     "output_type": "execute_result"
    }
   ],
   "source": [
    "states.loc[\"Florida\"]"
   ]
  },
  {
   "cell_type": "markdown",
   "id": "cbf3d771-f8c9-4646-83bd-af2bce471d1a",
   "metadata": {},
   "source": [
    "## Construyendo DataFrames\n",
    "\n",
    "Un **DataFrame** de Pandas se puede construir de varias maneras. Veremos varios ejemplos.\n",
    "\n",
    "### A partir de un único objeto Serie\n",
    "\n",
    "Un **DataFrame** es una colección de objetos **Series**, y se puede construir un **DataFrame** de una sola columna a partir de una única **Series**:"
   ]
  },
  {
   "cell_type": "code",
   "execution_count": 31,
   "id": "c7cd5ea2-20e2-4767-93db-6c2848202f93",
   "metadata": {},
   "outputs": [
    {
     "data": {
      "text/html": [
       "<div>\n",
       "<style scoped>\n",
       "    .dataframe tbody tr th:only-of-type {\n",
       "        vertical-align: middle;\n",
       "    }\n",
       "\n",
       "    .dataframe tbody tr th {\n",
       "        vertical-align: top;\n",
       "    }\n",
       "\n",
       "    .dataframe thead th {\n",
       "        text-align: right;\n",
       "    }\n",
       "</style>\n",
       "<table border=\"1\" class=\"dataframe\">\n",
       "  <thead>\n",
       "    <tr style=\"text-align: right;\">\n",
       "      <th></th>\n",
       "      <th>poblacion</th>\n",
       "    </tr>\n",
       "  </thead>\n",
       "  <tbody>\n",
       "    <tr>\n",
       "      <th>California</th>\n",
       "      <td>38332521</td>\n",
       "    </tr>\n",
       "    <tr>\n",
       "      <th>Texas</th>\n",
       "      <td>26448193</td>\n",
       "    </tr>\n",
       "    <tr>\n",
       "      <th>New York</th>\n",
       "      <td>19651127</td>\n",
       "    </tr>\n",
       "    <tr>\n",
       "      <th>Florida</th>\n",
       "      <td>19552860</td>\n",
       "    </tr>\n",
       "    <tr>\n",
       "      <th>Illinois</th>\n",
       "      <td>12882125</td>\n",
       "    </tr>\n",
       "  </tbody>\n",
       "</table>\n",
       "</div>"
      ],
      "text/plain": [
       "            poblacion\n",
       "California   38332521\n",
       "Texas        26448193\n",
       "New York     19651127\n",
       "Florida      19552860\n",
       "Illinois     12882125"
      ]
     },
     "execution_count": 31,
     "metadata": {},
     "output_type": "execute_result"
    }
   ],
   "source": [
    "pd.DataFrame(data=population,columns=[\"poblacion\"])"
   ]
  },
  {
   "cell_type": "markdown",
   "id": "213cea7f-b902-4894-aa0e-61397abf3ac9",
   "metadata": {},
   "source": [
    "Cualquier lista de diccionarios puede convertirse en un DataFrame"
   ]
  },
  {
   "cell_type": "code",
   "execution_count": 35,
   "id": "20264614-1fa2-48b5-9b25-5f4cb51a24e2",
   "metadata": {},
   "outputs": [
    {
     "data": {
      "text/plain": [
       "[{'a': 0, 'b': 0}, {'a': 1, 'b': 2}, {'a': 2, 'b': 4}]"
      ]
     },
     "execution_count": 35,
     "metadata": {},
     "output_type": "execute_result"
    }
   ],
   "source": [
    "data = [{\"a\":i,\"b\":2*i} for i in range (3)]\n",
    "data"
   ]
  },
  {
   "cell_type": "code",
   "execution_count": 36,
   "id": "5455b0a0-6060-48ae-a446-809790264ce0",
   "metadata": {},
   "outputs": [
    {
     "data": {
      "text/html": [
       "<div>\n",
       "<style scoped>\n",
       "    .dataframe tbody tr th:only-of-type {\n",
       "        vertical-align: middle;\n",
       "    }\n",
       "\n",
       "    .dataframe tbody tr th {\n",
       "        vertical-align: top;\n",
       "    }\n",
       "\n",
       "    .dataframe thead th {\n",
       "        text-align: right;\n",
       "    }\n",
       "</style>\n",
       "<table border=\"1\" class=\"dataframe\">\n",
       "  <thead>\n",
       "    <tr style=\"text-align: right;\">\n",
       "      <th></th>\n",
       "      <th>a</th>\n",
       "      <th>b</th>\n",
       "    </tr>\n",
       "  </thead>\n",
       "  <tbody>\n",
       "    <tr>\n",
       "      <th>0</th>\n",
       "      <td>0</td>\n",
       "      <td>0</td>\n",
       "    </tr>\n",
       "    <tr>\n",
       "      <th>1</th>\n",
       "      <td>1</td>\n",
       "      <td>2</td>\n",
       "    </tr>\n",
       "    <tr>\n",
       "      <th>2</th>\n",
       "      <td>2</td>\n",
       "      <td>4</td>\n",
       "    </tr>\n",
       "  </tbody>\n",
       "</table>\n",
       "</div>"
      ],
      "text/plain": [
       "   a  b\n",
       "0  0  0\n",
       "1  1  2\n",
       "2  2  4"
      ]
     },
     "execution_count": 36,
     "metadata": {},
     "output_type": "execute_result"
    }
   ],
   "source": [
    "pd.DataFrame(data)"
   ]
  },
  {
   "cell_type": "markdown",
   "id": "9e600dee-f7e8-448a-8eb0-b9d4ed5fcdf0",
   "metadata": {},
   "source": [
    "Incluso si faltan algunas claves en el diccionario, Pandas las rellenará con valores  \n",
    "``NaN`` (es decir, \"no un número\"); [De NaN y nulos como también se les conoce  \n",
    "hablaremos en sesiones posteriores NaN es el acrónimo de Not a Number]"
   ]
  },
  {
   "cell_type": "code",
   "execution_count": 39,
   "id": "28675b0f-59b1-49c6-8aec-a3ee82b8f0e5",
   "metadata": {},
   "outputs": [
    {
     "data": {
      "text/html": [
       "<div>\n",
       "<style scoped>\n",
       "    .dataframe tbody tr th:only-of-type {\n",
       "        vertical-align: middle;\n",
       "    }\n",
       "\n",
       "    .dataframe tbody tr th {\n",
       "        vertical-align: top;\n",
       "    }\n",
       "\n",
       "    .dataframe thead th {\n",
       "        text-align: right;\n",
       "    }\n",
       "</style>\n",
       "<table border=\"1\" class=\"dataframe\">\n",
       "  <thead>\n",
       "    <tr style=\"text-align: right;\">\n",
       "      <th></th>\n",
       "      <th>a</th>\n",
       "      <th>pepito</th>\n",
       "      <th>juanito</th>\n",
       "    </tr>\n",
       "  </thead>\n",
       "  <tbody>\n",
       "    <tr>\n",
       "      <th>0</th>\n",
       "      <td>2.0</td>\n",
       "      <td>NaN</td>\n",
       "      <td>NaN</td>\n",
       "    </tr>\n",
       "    <tr>\n",
       "      <th>1</th>\n",
       "      <td>NaN</td>\n",
       "      <td>2.0</td>\n",
       "      <td>4.0</td>\n",
       "    </tr>\n",
       "  </tbody>\n",
       "</table>\n",
       "</div>"
      ],
      "text/plain": [
       "     a  pepito  juanito\n",
       "0  2.0     NaN      NaN\n",
       "1  NaN     2.0      4.0"
      ]
     },
     "execution_count": 39,
     "metadata": {},
     "output_type": "execute_result"
    }
   ],
   "source": [
    "pd.DataFrame([{\"a\":1,\"a\":2},{\"pepito\":2,\"juanito\":4}])"
   ]
  },
  {
   "cell_type": "markdown",
   "id": "442a238e-561a-44f9-bd97-fd0f9322b88f",
   "metadata": {},
   "source": [
    "### A partir de un diccionario de objetos Series\n",
    "\n",
    "Como vimos antes, un ``DataFrame`` puede construirse también a partir de un\n",
    "diccionario de objetos ``Series`` [que es como hemos hecho en la sesión anterior y\n",
    "al principio de esta]:\n",
    "\n"
   ]
  },
  {
   "cell_type": "code",
   "execution_count": 41,
   "id": "81523c03-df09-4f13-895e-df430925f4c2",
   "metadata": {},
   "outputs": [
    {
     "data": {
      "text/html": [
       "<div>\n",
       "<style scoped>\n",
       "    .dataframe tbody tr th:only-of-type {\n",
       "        vertical-align: middle;\n",
       "    }\n",
       "\n",
       "    .dataframe tbody tr th {\n",
       "        vertical-align: top;\n",
       "    }\n",
       "\n",
       "    .dataframe thead th {\n",
       "        text-align: right;\n",
       "    }\n",
       "</style>\n",
       "<table border=\"1\" class=\"dataframe\">\n",
       "  <thead>\n",
       "    <tr style=\"text-align: right;\">\n",
       "      <th></th>\n",
       "      <th>population_bis</th>\n",
       "      <th>area</th>\n",
       "    </tr>\n",
       "  </thead>\n",
       "  <tbody>\n",
       "    <tr>\n",
       "      <th>California</th>\n",
       "      <td>38332521</td>\n",
       "      <td>423967</td>\n",
       "    </tr>\n",
       "    <tr>\n",
       "      <th>Texas</th>\n",
       "      <td>26448193</td>\n",
       "      <td>695692</td>\n",
       "    </tr>\n",
       "    <tr>\n",
       "      <th>New York</th>\n",
       "      <td>19651127</td>\n",
       "      <td>141297</td>\n",
       "    </tr>\n",
       "    <tr>\n",
       "      <th>Florida</th>\n",
       "      <td>19552860</td>\n",
       "      <td>170312</td>\n",
       "    </tr>\n",
       "    <tr>\n",
       "      <th>Illinois</th>\n",
       "      <td>12882125</td>\n",
       "      <td>149995</td>\n",
       "    </tr>\n",
       "  </tbody>\n",
       "</table>\n",
       "</div>"
      ],
      "text/plain": [
       "            population_bis    area\n",
       "California        38332521  423967\n",
       "Texas             26448193  695692\n",
       "New York          19651127  141297\n",
       "Florida           19552860  170312\n",
       "Illinois          12882125  149995"
      ]
     },
     "execution_count": 41,
     "metadata": {},
     "output_type": "execute_result"
    }
   ],
   "source": [
    "pd.DataFrame({\"population_bis\":population,\"area\":area})"
   ]
  },
  {
   "cell_type": "code",
   "execution_count": 43,
   "id": "dd1f35ee-ddf4-4d05-b101-8da06bf9659c",
   "metadata": {},
   "outputs": [
    {
     "data": {
      "text/html": [
       "<div>\n",
       "<style scoped>\n",
       "    .dataframe tbody tr th:only-of-type {\n",
       "        vertical-align: middle;\n",
       "    }\n",
       "\n",
       "    .dataframe tbody tr th {\n",
       "        vertical-align: top;\n",
       "    }\n",
       "\n",
       "    .dataframe thead th {\n",
       "        text-align: right;\n",
       "    }\n",
       "</style>\n",
       "<table border=\"1\" class=\"dataframe\">\n",
       "  <thead>\n",
       "    <tr style=\"text-align: right;\">\n",
       "      <th></th>\n",
       "      <th>columna_1</th>\n",
       "      <th>columna_2</th>\n",
       "    </tr>\n",
       "  </thead>\n",
       "  <tbody>\n",
       "    <tr>\n",
       "      <th>0</th>\n",
       "      <td>12</td>\n",
       "      <td>5</td>\n",
       "    </tr>\n",
       "    <tr>\n",
       "      <th>1</th>\n",
       "      <td>3</td>\n",
       "      <td>6</td>\n",
       "    </tr>\n",
       "    <tr>\n",
       "      <th>2</th>\n",
       "      <td>4</td>\n",
       "      <td>7</td>\n",
       "    </tr>\n",
       "  </tbody>\n",
       "</table>\n",
       "</div>"
      ],
      "text/plain": [
       "   columna_1  columna_2\n",
       "0         12          5\n",
       "1          3          6\n",
       "2          4          7"
      ]
     },
     "execution_count": 43,
     "metadata": {},
     "output_type": "execute_result"
    }
   ],
   "source": [
    "pd.DataFrame({\"columna_1\":[12,3,4],\"columna_2\":[5,6,7]})"
   ]
  },
  {
   "cell_type": "markdown",
   "id": "2f13b461-a294-4fa3-8ed6-fd42cd7f05c7",
   "metadata": {},
   "source": [
    "### A partir de un array bidimensional de NumPy\n",
    "\n",
    "Dado un array bidimensional de datos, podemos crear un DataFrame con los\n",
    "nombres de columna e índice que se especifiquen. Si se omite, se utilizará un índice\n",
    "entero para cada una:"
   ]
  },
  {
   "cell_type": "code",
   "execution_count": 47,
   "id": "7527ec69-ad4d-42d8-9e55-983745717524",
   "metadata": {},
   "outputs": [
    {
     "data": {
      "text/plain": [
       "array([[0.77132064, 0.02075195],\n",
       "       [0.63364823, 0.74880388],\n",
       "       [0.49850701, 0.22479665]])"
      ]
     },
     "execution_count": 47,
     "metadata": {},
     "output_type": "execute_result"
    }
   ],
   "source": [
    "import numpy as np\n",
    "np.random.seed(10)\n",
    "\n",
    "array_base=np.random.rand(3,2)\n",
    "array_base"
   ]
  },
  {
   "cell_type": "code",
   "execution_count": 48,
   "id": "bf770ff1-8f39-4f54-86b2-c7c548d56ac3",
   "metadata": {},
   "outputs": [
    {
     "data": {
      "text/html": [
       "<div>\n",
       "<style scoped>\n",
       "    .dataframe tbody tr th:only-of-type {\n",
       "        vertical-align: middle;\n",
       "    }\n",
       "\n",
       "    .dataframe tbody tr th {\n",
       "        vertical-align: top;\n",
       "    }\n",
       "\n",
       "    .dataframe thead th {\n",
       "        text-align: right;\n",
       "    }\n",
       "</style>\n",
       "<table border=\"1\" class=\"dataframe\">\n",
       "  <thead>\n",
       "    <tr style=\"text-align: right;\">\n",
       "      <th></th>\n",
       "      <th>col_1</th>\n",
       "      <th>col_2</th>\n",
       "    </tr>\n",
       "  </thead>\n",
       "  <tbody>\n",
       "    <tr>\n",
       "      <th>fil_1</th>\n",
       "      <td>0.771321</td>\n",
       "      <td>0.020752</td>\n",
       "    </tr>\n",
       "    <tr>\n",
       "      <th>fil_2</th>\n",
       "      <td>0.633648</td>\n",
       "      <td>0.748804</td>\n",
       "    </tr>\n",
       "    <tr>\n",
       "      <th>fil_3</th>\n",
       "      <td>0.498507</td>\n",
       "      <td>0.224797</td>\n",
       "    </tr>\n",
       "  </tbody>\n",
       "</table>\n",
       "</div>"
      ],
      "text/plain": [
       "          col_1     col_2\n",
       "fil_1  0.771321  0.020752\n",
       "fil_2  0.633648  0.748804\n",
       "fil_3  0.498507  0.224797"
      ]
     },
     "execution_count": 48,
     "metadata": {},
     "output_type": "execute_result"
    }
   ],
   "source": [
    "pd.DataFrame(array_base,columns=[\"col_1\",\"col_2\"],\n",
    "            index = [\"fil_1\",\"fil_2\",\"fil_3\"])"
   ]
  },
  {
   "cell_type": "markdown",
   "id": "70a2d7b1-9be3-48c7-a441-560803300f34",
   "metadata": {},
   "source": [
    "## Index"
   ]
  },
  {
   "cell_type": "markdown",
   "id": "7eae1014-3bff-4403-af00-646f9f61f463",
   "metadata": {},
   "source": [
    "Hemos visto que tanto los objetos Series como DataFrame contienen un índice explícito que permite referenciar y modificar los datos. Este objeto Index es una estructura interesante en sí misma, y puede ser considerada como un array inmutable o como un conjunto ordenado (técnicamente un multi-conjunto, ya que los objetos Index pueden contener valores repetidos).\n",
    "\n",
    "Como ejemplo sencillo, construyamos un Index a partir de una lista de enteros:"
   ]
  },
  {
   "cell_type": "code",
   "execution_count": 50,
   "id": "6b6cc3b3-1e35-462e-b399-d4fa0dffd685",
   "metadata": {},
   "outputs": [
    {
     "data": {
      "text/plain": [
       "Index([3, 2, 5, 11, 7], dtype='int64')"
      ]
     },
     "execution_count": 50,
     "metadata": {},
     "output_type": "execute_result"
    }
   ],
   "source": [
    "ind = pd.Index([3,2,5,11,7])\n",
    "ind"
   ]
  },
  {
   "cell_type": "markdown",
   "id": "07094afb-92b9-4438-a3ca-0d73deb90cbb",
   "metadata": {},
   "source": [
    "### Index como array inmutable\n",
    "\n",
    "El Index en muchos aspectos funciona como un array. Por ejemplo, podemos utilizar la notación de indexación estándar de Python para recuperar valores o trozos:"
   ]
  },
  {
   "cell_type": "code",
   "execution_count": 51,
   "id": "c4c1dffe-673e-4906-bc79-85ef51921595",
   "metadata": {},
   "outputs": [
    {
     "data": {
      "text/plain": [
       "np.int64(2)"
      ]
     },
     "execution_count": 51,
     "metadata": {},
     "output_type": "execute_result"
    }
   ],
   "source": [
    "ind[1]"
   ]
  },
  {
   "cell_type": "code",
   "execution_count": 52,
   "id": "0315a69e-98d2-44ac-b3fb-7cb368ba3dbb",
   "metadata": {},
   "outputs": [
    {
     "data": {
      "text/plain": [
       "Index([5, 11, 7], dtype='int64')"
      ]
     },
     "execution_count": 52,
     "metadata": {},
     "output_type": "execute_result"
    }
   ],
   "source": [
    "ind[2:]"
   ]
  },
  {
   "cell_type": "code",
   "execution_count": 53,
   "id": "ab079156-dd77-4357-a8d1-596b91dede3c",
   "metadata": {},
   "outputs": [
    {
     "data": {
      "text/plain": [
       "Index([3, 5, 7], dtype='int64')"
      ]
     },
     "execution_count": 53,
     "metadata": {},
     "output_type": "execute_result"
    }
   ],
   "source": [
    "ind[::2]"
   ]
  },
  {
   "cell_type": "code",
   "execution_count": 55,
   "id": "242e34b8-df09-4092-a3f0-9583a0c6fc85",
   "metadata": {},
   "outputs": [
    {
     "name": "stdout",
     "output_type": "stream",
     "text": [
      "1 (5,) int64 5\n"
     ]
    }
   ],
   "source": [
    "print(ind.ndim, ind.shape, ind.dtype, ind.size)"
   ]
  },
  {
   "cell_type": "code",
   "execution_count": null,
   "id": "d55866dd-4d16-4cd8-bf0f-4dee38e58bf7",
   "metadata": {},
   "outputs": [],
   "source": [
    "print(ind.ndim, ind.shape, ind.dtype, ind.size)"
   ]
  },
  {
   "cell_type": "code",
   "execution_count": 59,
   "id": "f1f32647-c190-4c10-8177-9f0ba1f7198b",
   "metadata": {},
   "outputs": [
    {
     "name": "stdout",
     "output_type": "stream",
     "text": [
      "11\n",
      "2\n",
      "3\n"
     ]
    }
   ],
   "source": [
    "print(ind.max())\n",
    "print(ind.min())\n",
    "print(ind.argmax())"
   ]
  },
  {
   "cell_type": "markdown",
   "id": "0fa090b4-1352-49b3-881f-b5e92521632a",
   "metadata": {},
   "source": [
    "Una diferencia importante entre los objetos index y las matrices Numpy es que los índices son inmutables, es decir, no\n",
    "pueden ser modificados por los medios normales"
   ]
  },
  {
   "cell_type": "markdown",
   "id": "17a1a795-977e-4ca3-bf1d-d28cd28f3746",
   "metadata": {},
   "source": [
    "Esta inmutabilidad hace que sea mas seguro compartir indices entre multiples DataFrames y Arrays, sin el potencial de efectos secundarios\n",
    "de la modifcacion inadvertida del índice"
   ]
  },
  {
   "cell_type": "markdown",
   "id": "695859d1-6ae7-42f5-ad9a-03893cb7d112",
   "metadata": {},
   "source": [
    "## Operaciones tipo Set"
   ]
  },
  {
   "cell_type": "markdown",
   "id": "a6b8df69-74b4-4bb2-8753-b4cc601aa4e3",
   "metadata": {},
   "source": [
    "Para terminar, el objeto Index permite calcular intersecciones de índices o uniones entre índices con métodos"
   ]
  },
  {
   "cell_type": "code",
   "execution_count": 63,
   "id": "0aec8a49-8704-42f9-88c0-2f54d2d988fc",
   "metadata": {},
   "outputs": [],
   "source": [
    "indA = pd.Index([1,3,5,7,9])\n",
    "indB = pd.Index([2,3,5,7,11])\n"
   ]
  },
  {
   "cell_type": "code",
   "execution_count": 66,
   "id": "62d78044-6f4c-4ae5-9484-6f5d7d0d4ad5",
   "metadata": {},
   "outputs": [
    {
     "data": {
      "text/plain": [
       "Index([3, 5, 7], dtype='int64')"
      ]
     },
     "execution_count": 66,
     "metadata": {},
     "output_type": "execute_result"
    }
   ],
   "source": [
    "indA.intersection(indB)"
   ]
  },
  {
   "cell_type": "code",
   "execution_count": 67,
   "id": "3eb13ba6-67e7-4294-b244-58c5dafd07d1",
   "metadata": {},
   "outputs": [
    {
     "data": {
      "text/plain": [
       "Index([1, 2, 3, 5, 7, 9, 11], dtype='int64')"
      ]
     },
     "execution_count": 67,
     "metadata": {},
     "output_type": "execute_result"
    }
   ],
   "source": [
    "indA.union(indB)"
   ]
  }
 ],
 "metadata": {
  "kernelspec": {
   "display_name": "Python 3 (ipykernel)",
   "language": "python",
   "name": "python3"
  },
  "language_info": {
   "codemirror_mode": {
    "name": "ipython",
    "version": 3
   },
   "file_extension": ".py",
   "mimetype": "text/x-python",
   "name": "python",
   "nbconvert_exporter": "python",
   "pygments_lexer": "ipython3",
   "version": "3.12.1"
  }
 },
 "nbformat": 4,
 "nbformat_minor": 5
}
