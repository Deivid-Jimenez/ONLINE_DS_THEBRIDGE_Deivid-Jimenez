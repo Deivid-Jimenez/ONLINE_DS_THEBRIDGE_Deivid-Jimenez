{
 "cells": [
  {
   "cell_type": "markdown",
   "id": "eb478cfc-c6f7-4a40-aeb9-6dc8021e8116",
   "metadata": {},
   "source": [
    "## Pandas"
   ]
  },
  {
   "cell_type": "markdown",
   "id": "f41e5413-6610-45e3-9268-937439aae913",
   "metadata": {},
   "source": [
    "Pandas es una biblioteca escencial en data science que ofrece herramientas en Python para trabajar con datos de manera eficiente \n",
    "permite cargar, limpiar, transformar y analizar datos de manera sencilla"
   ]
  },
  {
   "cell_type": "code",
   "execution_count": 6,
   "id": "05937c36-213d-4924-8ef6-642d232349b1",
   "metadata": {},
   "outputs": [],
   "source": [
    "import numpy as np\n",
    "import pandas as pd"
   ]
  },
  {
   "cell_type": "code",
   "execution_count": null,
   "id": "5cb36613-43a1-4a57-a703-d6324eb60355",
   "metadata": {},
   "outputs": [],
   "source": [
    "df_ejemplo = pd.read_excel(\"./data/dataset_aviones.xlxs\")\n",
    "df_ejemplo.head(15)"
   ]
  },
  {
   "cell_type": "markdown",
   "id": "2d7914c0-6e9e-4078-8f17-d641bc3cd4a8",
   "metadata": {},
   "source": [
    "### Objetos Pandas Series"
   ]
  },
  {
   "cell_type": "markdown",
   "id": "25a902b4-76ac-495e-a1b1-f91567c50c9d",
   "metadata": {},
   "source": [
    "Es un nivel muy básico, los objetos Pandas pueden ser considerados como versiones mejoradas de los arrays estructurados en Numpy \n",
    "en los que filas y columnas se identifican con etiquetas en lugar de simples índices enteros"
   ]
  },
  {
   "cell_type": "markdown",
   "id": "3ffbe232-a2e3-4ac8-9d5f-78ba8eba1217",
   "metadata": {},
   "source": [
    "Una Serie de Pandas es un array unidimensional de datos indexados. Se puede crear a partir de una lista \n",
    "o un array de la siguiente manera:"
   ]
  },
  {
   "cell_type": "code",
   "execution_count": 9,
   "id": "31916516-6cb4-4c08-a813-201cd1d4209a",
   "metadata": {},
   "outputs": [
    {
     "data": {
      "text/plain": [
       "Estudiante 1    1.60\n",
       "Estudiante 2    1.59\n",
       "Estudiante 3    1.87\n",
       "Estudiante 4    2.05\n",
       "Estudiante 5    1.75\n",
       "dtype: float64"
      ]
     },
     "execution_count": 9,
     "metadata": {},
     "output_type": "execute_result"
    }
   ],
   "source": [
    "##Height of class\n",
    "##Create series 5 values\n",
    "data = pd.Series([1.60,1.59,1.87,2.05,1.75],\n",
    "                 index=[\"Estudiante 1\",\"Estudiante 2\",\n",
    "                        \"Estudiante 3\",\"Estudiante 4\",\n",
    "                        \"Estudiante 5\"])\n",
    "\n",
    "data"
   ]
  },
  {
   "cell_type": "markdown",
   "id": "7ec4ed3c-2e72-4d7a-89a2-a6516e34865a",
   "metadata": {},
   "source": [
    "Como vemos en la salida, la Serie envuelve tanto una secuencia de valores como una secuencia de índices, a los que podemos acceder con los atributos values e index. Los valores son simplemente una matriz NumPy:"
   ]
  },
  {
   "cell_type": "code",
   "execution_count": 10,
   "id": "adaebfc6-06b6-42e9-8980-32b691386470",
   "metadata": {},
   "outputs": [
    {
     "data": {
      "text/plain": [
       "array([1.6 , 1.59, 1.87, 2.05, 1.75])"
      ]
     },
     "execution_count": 10,
     "metadata": {},
     "output_type": "execute_result"
    }
   ],
   "source": [
    "data.values"
   ]
  },
  {
   "cell_type": "code",
   "execution_count": 11,
   "id": "ff4ec363-32dc-4297-8db8-fd23fc59efb3",
   "metadata": {},
   "outputs": [
    {
     "data": {
      "text/plain": [
       "Index(['Estudiante 1', 'Estudiante 2', 'Estudiante 3', 'Estudiante 4',\n",
       "       'Estudiante 5'],\n",
       "      dtype='object')"
      ]
     },
     "execution_count": 11,
     "metadata": {},
     "output_type": "execute_result"
    }
   ],
   "source": [
    "data.index"
   ]
  },
  {
   "cell_type": "code",
   "execution_count": 14,
   "id": "56a138f1-9011-4a30-b9e0-93903f5d1816",
   "metadata": {},
   "outputs": [
    {
     "name": "stdout",
     "output_type": "stream",
     "text": [
      "1.59\n"
     ]
    }
   ],
   "source": [
    "print(data.iloc[1])"
   ]
  },
  {
   "cell_type": "code",
   "execution_count": 20,
   "id": "c8911df4-d40d-4c84-a4d4-2ef70ae200e1",
   "metadata": {},
   "outputs": [],
   "source": [
    "otra_serie = data[1:4].copy()\n",
    "otra_serie\n",
    "otra_serie.iloc[2]=3.05"
   ]
  },
  {
   "cell_type": "code",
   "execution_count": 21,
   "id": "d41bf6bb-f55d-4f42-ace6-5d357cc69c48",
   "metadata": {},
   "outputs": [
    {
     "data": {
      "text/plain": [
       "Estudiante 2    1.59\n",
       "Estudiante 3    1.87\n",
       "Estudiante 4    3.05\n",
       "dtype: float64"
      ]
     },
     "execution_count": 21,
     "metadata": {},
     "output_type": "execute_result"
    }
   ],
   "source": [
    "otra_serie"
   ]
  },
  {
   "cell_type": "code",
   "execution_count": 22,
   "id": "1cb79702-caf7-4851-ba88-bf8b4d3fe349",
   "metadata": {},
   "outputs": [
    {
     "data": {
      "text/plain": [
       "Estudiante 1    1.60\n",
       "Estudiante 2    1.59\n",
       "Estudiante 3    1.87\n",
       "Estudiante 4    2.05\n",
       "Estudiante 5    1.75\n",
       "dtype: float64"
      ]
     },
     "execution_count": 22,
     "metadata": {},
     "output_type": "execute_result"
    }
   ],
   "source": [
    "data"
   ]
  },
  {
   "cell_type": "markdown",
   "id": "3b6cb2fe-6b9a-466f-9f93-f1bb0235ace9",
   "metadata": {},
   "source": [
    "### Ejercicio pandas Series"
   ]
  },
  {
   "cell_type": "code",
   "execution_count": 30,
   "id": "ae85cf99-8467-40f5-b86a-eaceca2602e3",
   "metadata": {},
   "outputs": [
    {
     "name": "stdin",
     "output_type": "stream",
     "text": [
      "Ingrese el nombre 1:  Madrid\n",
      "Ingrese el nombre 2:  Paris\n",
      "Ingrese el nombre 3:  Barcelona\n",
      "Ingrese el nombre 4:  Malaga\n",
      "Ingrese el nombre 5:  Londres\n"
     ]
    },
    {
     "name": "stdout",
     "output_type": "stream",
     "text": [
      "['Madrid', 'Paris', 'Barcelona', 'Malaga', 'Londres']\n"
     ]
    }
   ],
   "source": [
    "ciudades = []\n",
    "for i in range(5):\n",
    "    nombre = input(f\"Ingrese el nombre {i + 1}: \")\n",
    "    ciudades.append(nombre)\n",
    "print(ciudades)"
   ]
  },
  {
   "cell_type": "code",
   "execution_count": 36,
   "id": "3e04b455-43cb-4607-b34f-95fb3197aaf7",
   "metadata": {},
   "outputs": [
    {
     "data": {
      "text/plain": [
       "0       Madrid\n",
       "1        Paris\n",
       "2    Barcelona\n",
       "3       Malaga\n",
       "4      Londres\n",
       "dtype: object"
      ]
     },
     "execution_count": 36,
     "metadata": {},
     "output_type": "execute_result"
    }
   ],
   "source": [
    "Ciudades = pd.Series(ciudades)\n",
    "Ciudades"
   ]
  },
  {
   "cell_type": "code",
   "execution_count": 39,
   "id": "3dfebeb3-4e64-4056-b608-595a07b66c54",
   "metadata": {},
   "outputs": [],
   "source": [
    "top5 = pd.Series([2923,2799,2320,2264,2071],\n",
    "                 index = [\"Avatar\",\"Avengers\",\n",
    "                          \"Avatar II\",\"Titanic\",\n",
    "                          \"SW VII\"])\n",
    "\n",
    "top5.name = \"top5\""
   ]
  },
  {
   "cell_type": "code",
   "execution_count": 40,
   "id": "c16ef6dd-553b-4f98-acef-7d41cd00b833",
   "metadata": {},
   "outputs": [
    {
     "data": {
      "text/plain": [
       "Avatar       2923\n",
       "Avengers     2799\n",
       "Avatar II    2320\n",
       "Titanic      2264\n",
       "SW VII       2071\n",
       "Name: top5, dtype: int64"
      ]
     },
     "execution_count": 40,
     "metadata": {},
     "output_type": "execute_result"
    }
   ],
   "source": [
    "top5"
   ]
  },
  {
   "cell_type": "markdown",
   "id": "769c95ea-f23f-4a4c-83b1-83b252332313",
   "metadata": {},
   "source": [
    "### Series como array NumPy\n",
    "\n",
    "Por lo que hemos visto hasta ahora, puede parecer que el objeto `Series` es básicamente intercambiable con un array unidimensional de NumPy. La diferencia esencial es la presencia del índice: mientras que el array de NumPy tiene un índice entero implícitamente definido que se utiliza para acceder a los valores, las `Series` de Pandas tienen un índice explícitamente definido asociado a los valores.\n",
    "\n",
    "Esta definición explícita del índice proporciona al objeto `Series` capacidades adicionales. Por ejemplo, el índice no necesita ser un entero, sino que puede consistir en valores de cualquier tipo deseado. Por ejemplo, si lo deseamos, podemos utilizar cadenas como índice:"
   ]
  },
  {
   "cell_type": "code",
   "execution_count": 44,
   "id": "d4affeb6-7413-4919-b299-2defc47b7070",
   "metadata": {},
   "outputs": [
    {
     "name": "stdout",
     "output_type": "stream",
     "text": [
      "2320\n"
     ]
    }
   ],
   "source": [
    "print(top5.iloc[2]) ##Acceder a los elementos de manera implicita"
   ]
  },
  {
   "cell_type": "code",
   "execution_count": 46,
   "id": "d8b06f5e-bba5-4d8f-82f8-fd776ef8efd9",
   "metadata": {},
   "outputs": [
    {
     "name": "stdout",
     "output_type": "stream",
     "text": [
      "2320\n"
     ]
    }
   ],
   "source": [
    "print(top5.loc[\"Avatar II\"]) ##Acceder a los elementos de manera explicita"
   ]
  },
  {
   "cell_type": "code",
   "execution_count": 47,
   "id": "e012764d-f58e-4de4-8cd7-701990cd988c",
   "metadata": {},
   "outputs": [
    {
     "name": "stdout",
     "output_type": "stream",
     "text": [
      "<class 'pandas.core.series.Series'>\n"
     ]
    }
   ],
   "source": [
    "print(type(top5))"
   ]
  },
  {
   "cell_type": "code",
   "execution_count": 48,
   "id": "b595998c-e899-4fe9-b3e3-b4210a0090cd",
   "metadata": {},
   "outputs": [
    {
     "data": {
      "text/plain": [
       "Index(['Avatar', 'Avengers', 'Avatar II', 'Titanic', 'SW VII'], dtype='object')"
      ]
     },
     "execution_count": 48,
     "metadata": {},
     "output_type": "execute_result"
    }
   ],
   "source": [
    "top5.index"
   ]
  },
  {
   "cell_type": "code",
   "execution_count": 54,
   "id": "c651dbd2-9860-4d3f-9eb3-a9c789a65f79",
   "metadata": {},
   "outputs": [
    {
     "name": "stdout",
     "output_type": "stream",
     "text": [
      "2923\n",
      "2071\n",
      "12377\n",
      "2475.4\n",
      "0\n",
      "4\n",
      "Avatar\n",
      "SW VII\n"
     ]
    }
   ],
   "source": [
    "print(top5.max())\n",
    "print(top5.min())\n",
    "print(top5.sum())\n",
    "print(top5.mean())\n",
    "print(top5.argmax())\n",
    "print(top5.argmin())\n",
    "print(top5.idxmax())\n",
    "print(top5.idxmin())\n"
   ]
  },
  {
   "cell_type": "code",
   "execution_count": 56,
   "id": "8c82fec6-79e6-4f05-8cc9-e7d8e6fa7a7e",
   "metadata": {},
   "outputs": [
    {
     "name": "stdout",
     "output_type": "stream",
     "text": [
      "[2923, 2799, 2320, 2264, 2071]\n"
     ]
    }
   ],
   "source": [
    "## Podemos convertir los valores en listas\n",
    "\n",
    "print (top5.tolist())"
   ]
  },
  {
   "cell_type": "markdown",
   "id": "25ba54f4-6882-4bca-bafd-8f2220cc5c3c",
   "metadata": {},
   "source": [
    "Para terminar, recordemos que, de nuevo como array, el slicing crea vistas y que si queremos copias\n",
    "que no interfieran con las Series original es necesario hacer uso del metodo copy"
   ]
  },
  {
   "cell_type": "markdown",
   "id": "9ce07143-0c7f-4f13-a9e6-0ef04368a7e2",
   "metadata": {},
   "source": [
    "### Series como diccionario especializado\n",
    "\n",
    "Puedes pensar en una **Series** de Pandas como una especialización de un diccionario de Python. Un diccionario es una estructura que asigna claves arbitrarias a un conjunto de valores arbitrarios, y una **Series** es una estructura que asigna claves tipificadas a un conjunto de valores tipificados. Esta tipificación es importante: al igual que el código compilado de tipo específico detrás de un array de NumPy lo hace más eficiente que una lista de Python para ciertas operaciones, la información de tipo de una **Serie** de Pandas la hace mucho más eficiente que los diccionarios de Python para ciertas operaciones."
   ]
  },
  {
   "cell_type": "code",
   "execution_count": 58,
   "id": "49f92bc8-11bf-4106-b4f5-21f5847f7a23",
   "metadata": {},
   "outputs": [],
   "source": [
    "population_dict = {\"California\":38332521, \n",
    "                   \"Texas\":26448193,\n",
    "                   \"New York\":19651127,\n",
    "                   \"Florida\":19552860,\n",
    "                   \"Illinois\":12882125}"
   ]
  },
  {
   "cell_type": "code",
   "execution_count": 60,
   "id": "bbf05bb4-c450-4a7b-bac3-223d20c01290",
   "metadata": {},
   "outputs": [
    {
     "data": {
      "text/plain": [
       "California    38332521\n",
       "Texas         26448193\n",
       "New York      19651127\n",
       "Florida       19552860\n",
       "Illinois      12882125\n",
       "dtype: int64"
      ]
     },
     "execution_count": 60,
     "metadata": {},
     "output_type": "execute_result"
    }
   ],
   "source": [
    "population = pd.Series(population_dict)\n",
    "population"
   ]
  },
  {
   "cell_type": "code",
   "execution_count": 61,
   "id": "94284950-9d17-4cef-97b1-472bfd357128",
   "metadata": {},
   "outputs": [
    {
     "data": {
      "text/plain": [
       "array([38332521, 26448193, 19651127, 19552860, 12882125])"
      ]
     },
     "execution_count": 61,
     "metadata": {},
     "output_type": "execute_result"
    }
   ],
   "source": [
    "population.values\n"
   ]
  },
  {
   "cell_type": "code",
   "execution_count": 62,
   "id": "a42fbd70-2d83-479c-86fa-7319c7b2a7d9",
   "metadata": {},
   "outputs": [
    {
     "data": {
      "text/plain": [
       "Index(['California', 'Texas', 'New York', 'Florida', 'Illinois'], dtype='object')"
      ]
     },
     "execution_count": 62,
     "metadata": {},
     "output_type": "execute_result"
    }
   ],
   "source": [
    "population.index"
   ]
  },
  {
   "cell_type": "markdown",
   "id": "50c1d56a-cc9c-4d84-9043-6aa48f3828da",
   "metadata": {},
   "source": [
    "Por defecto, se creará una Series donde el índice  se extrae de  las claves ordenadas.\n",
    "A partir de aquí, se puede realizar el típico acceso a los diccionarios"
   ]
  },
  {
   "cell_type": "code",
   "execution_count": 63,
   "id": "2384ed1e-dc86-4bbc-8791-038bbfef7339",
   "metadata": {},
   "outputs": [
    {
     "data": {
      "text/plain": [
       "np.int64(12882125)"
      ]
     },
     "execution_count": 63,
     "metadata": {},
     "output_type": "execute_result"
    }
   ],
   "source": [
    "population[\"Illinois\"]"
   ]
  },
  {
   "cell_type": "markdown",
   "id": "ead3a8df-ff1d-4657-a1ca-ac64d938f96d",
   "metadata": {},
   "source": [
    "Sin embargo, a diferencia de un diccionario, Series  también admite operaciones matriciales, como corte o slicing"
   ]
  },
  {
   "cell_type": "code",
   "execution_count": 64,
   "id": "1bb8b892-d8fe-4ef8-b65d-efc08b22efeb",
   "metadata": {},
   "outputs": [
    {
     "data": {
      "text/plain": [
       "California    38332521\n",
       "Texas         26448193\n",
       "New York      19651127\n",
       "Florida       19552860\n",
       "dtype: int64"
      ]
     },
     "execution_count": 64,
     "metadata": {},
     "output_type": "execute_result"
    }
   ],
   "source": [
    "population[\"California\":\"Florida\"]"
   ]
  },
  {
   "cell_type": "markdown",
   "id": "b7fc8ed6-e264-40f3-b842-283ca283f319",
   "metadata": {},
   "source": [
    "### Construyendo objetos Series\n",
    "\n",
    "Ya hemos visto algunas formas de construir una **Series** de Pandas desde cero; todas ellas son alguna versión de lo siguiente:\n",
    "\n",
    "**pd.Series(data, index=index)**  \n",
    "donde `index` es un argumento opcional, y `data` puede ser una de muchas entidades.\n",
    "\n",
    "Por ejemplo, `data` puede ser una lista o un array de NumPy, en cuyo caso `index` es por defecto una secuencia de enteros:"
   ]
  },
  {
   "cell_type": "code",
   "execution_count": 66,
   "id": "74e2160c-8211-41e9-b4db-860ea235aa74",
   "metadata": {},
   "outputs": [
    {
     "data": {
      "text/plain": [
       "RangeIndex(start=0, stop=3, step=1)"
      ]
     },
     "execution_count": 66,
     "metadata": {},
     "output_type": "execute_result"
    }
   ],
   "source": [
    "serie_ejemplo = pd.Series ([2,4,6])\n",
    "serie_ejemplo.index"
   ]
  },
  {
   "cell_type": "markdown",
   "id": "d97d437d-636e-48f1-80a2-1c41553d30f0",
   "metadata": {},
   "source": [
    "data puede ser un escalar, que se repite para llenar el índice especificado:"
   ]
  },
  {
   "cell_type": "code",
   "execution_count": 68,
   "id": "8b69a2fd-1ba1-4768-a8bd-b40d761e3a9c",
   "metadata": {},
   "outputs": [
    {
     "data": {
      "text/plain": [
       "100    Casa\n",
       "200    Casa\n",
       "300    Casa\n",
       "dtype: object"
      ]
     },
     "execution_count": 68,
     "metadata": {},
     "output_type": "execute_result"
    }
   ],
   "source": [
    "serie_repetida = pd.Series(\"Casa\",index = [100,200,300])\n",
    "serie_repetida"
   ]
  },
  {
   "cell_type": "code",
   "execution_count": 71,
   "id": "736d4a2d-14bc-4be1-b544-d9e50c95d4d7",
   "metadata": {},
   "outputs": [
    {
     "data": {
      "text/plain": [
       "2    a\n",
       "4    b\n",
       "6    c\n",
       "dtype: object"
      ]
     },
     "execution_count": 71,
     "metadata": {},
     "output_type": "execute_result"
    }
   ],
   "source": [
    "serie_dict = pd.Series({2: \"a\", 4:\"b\", 6:\"c\"})\n",
    "serie_dict"
   ]
  },
  {
   "cell_type": "markdown",
   "id": "2311d27f-d587-468c-b6f5-d360745c8eb9",
   "metadata": {},
   "source": [
    "En cada caso, el índice puede estblecerse explícitamente si se prefiere un resultado diferente:"
   ]
  },
  {
   "cell_type": "code",
   "execution_count": 75,
   "id": "ff79bee7-42b4-4d12-a28b-29cdef524a40",
   "metadata": {},
   "outputs": [
    {
     "data": {
      "text/plain": [
       "2    a\n",
       "6    c\n",
       "dtype: object"
      ]
     },
     "execution_count": 75,
     "metadata": {},
     "output_type": "execute_result"
    }
   ],
   "source": [
    "serie_dict_alt=pd.Series({2: \"a\", 4:\"b\", 6:\"c\"},\n",
    "                          index=[2,6])\n",
    "\n",
    "serie_dict_alt"
   ]
  }
 ],
 "metadata": {
  "kernelspec": {
   "display_name": "Python 3 (ipykernel)",
   "language": "python",
   "name": "python3"
  },
  "language_info": {
   "codemirror_mode": {
    "name": "ipython",
    "version": 3
   },
   "file_extension": ".py",
   "mimetype": "text/x-python",
   "name": "python",
   "nbconvert_exporter": "python",
   "pygments_lexer": "ipython3",
   "version": "3.12.1"
  }
 },
 "nbformat": 4,
 "nbformat_minor": 5
}
