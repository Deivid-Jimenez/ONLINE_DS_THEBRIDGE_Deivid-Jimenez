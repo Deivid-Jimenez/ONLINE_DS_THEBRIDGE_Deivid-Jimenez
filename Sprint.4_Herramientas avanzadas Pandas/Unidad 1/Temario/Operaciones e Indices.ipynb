{
 "cells": [
  {
   "cell_type": "markdown",
   "id": "37abce8a-bd3a-4311-b381-0d84397bd52c",
   "metadata": {},
   "source": [
    "### Operacion con Series"
   ]
  },
  {
   "cell_type": "markdown",
   "id": "e064d7eb-c687-40ec-9554-c9f280f7ed5c",
   "metadata": {},
   "source": [
    "Como Pandas está diseñado para trabajar con NumPy, casi cualquier función de NumPy funcionará con los objetos\n",
    "\n",
    "**Series** y **DataFrame** de Pandas. Empecemos definiendo una simple  \n",
    "Serie y DataFrame en la que demostrar esto:"
   ]
  },
  {
   "cell_type": "code",
   "execution_count": 1,
   "id": "3440a967-783a-4c4e-ad4a-1023c010b4ee",
   "metadata": {},
   "outputs": [],
   "source": [
    "import numpy as np\n",
    "import pandas as pd"
   ]
  },
  {
   "cell_type": "code",
   "execution_count": 8,
   "id": "1005a8b6-c1b6-4acf-9956-d3db4cf7abc9",
   "metadata": {},
   "outputs": [
    {
     "data": {
      "text/plain": [
       "0    6\n",
       "1    3\n",
       "2    7\n",
       "3    4\n",
       "dtype: int32"
      ]
     },
     "execution_count": 8,
     "metadata": {},
     "output_type": "execute_result"
    }
   ],
   "source": [
    "np.random.seed(42)\n",
    "\n",
    "ser = pd.Series(np.random.randint(0,10,4))\n",
    "\n",
    "ser"
   ]
  },
  {
   "cell_type": "code",
   "execution_count": 12,
   "id": "a76f2c12-f29b-4b60-ae46-00b6cc0388d8",
   "metadata": {},
   "outputs": [
    {
     "data": {
      "text/html": [
       "<div>\n",
       "<style scoped>\n",
       "    .dataframe tbody tr th:only-of-type {\n",
       "        vertical-align: middle;\n",
       "    }\n",
       "\n",
       "    .dataframe tbody tr th {\n",
       "        vertical-align: top;\n",
       "    }\n",
       "\n",
       "    .dataframe thead th {\n",
       "        text-align: right;\n",
       "    }\n",
       "</style>\n",
       "<table border=\"1\" class=\"dataframe\">\n",
       "  <thead>\n",
       "    <tr style=\"text-align: right;\">\n",
       "      <th></th>\n",
       "      <th>A</th>\n",
       "      <th>B</th>\n",
       "      <th>C</th>\n",
       "      <th>D</th>\n",
       "    </tr>\n",
       "  </thead>\n",
       "  <tbody>\n",
       "    <tr>\n",
       "      <th>0</th>\n",
       "      <td>6</td>\n",
       "      <td>3</td>\n",
       "      <td>8</td>\n",
       "      <td>2</td>\n",
       "    </tr>\n",
       "    <tr>\n",
       "      <th>1</th>\n",
       "      <td>4</td>\n",
       "      <td>2</td>\n",
       "      <td>6</td>\n",
       "      <td>4</td>\n",
       "    </tr>\n",
       "    <tr>\n",
       "      <th>2</th>\n",
       "      <td>8</td>\n",
       "      <td>6</td>\n",
       "      <td>1</td>\n",
       "      <td>3</td>\n",
       "    </tr>\n",
       "  </tbody>\n",
       "</table>\n",
       "</div>"
      ],
      "text/plain": [
       "   A  B  C  D\n",
       "0  6  3  8  2\n",
       "1  4  2  6  4\n",
       "2  8  6  1  3"
      ]
     },
     "execution_count": 12,
     "metadata": {},
     "output_type": "execute_result"
    }
   ],
   "source": [
    "df= pd.DataFrame(np.random.randint(0,10,(3,4)),\n",
    "                 columns= [\"A\",\"B\",\"C\",\"D\"])\n",
    "df"
   ]
  },
  {
   "cell_type": "markdown",
   "id": "4f85ee41-aa67-4f96-940e-efccf64e4a51",
   "metadata": {},
   "source": [
    "Si aplicamos funciones unitarias de NumPy tanto para\n",
    "\n",
    "**Series** como para **DataFrame**, el resultado será otro objeto\n",
    "\n",
    "Pandas con los índices conservados:"
   ]
  },
  {
   "cell_type": "code",
   "execution_count": 13,
   "id": "a701c577-69cc-4496-94d1-dd0721e9def5",
   "metadata": {},
   "outputs": [
    {
     "data": {
      "text/plain": [
       "0    2.449490\n",
       "1    1.732051\n",
       "2    2.645751\n",
       "3    2.000000\n",
       "dtype: float64"
      ]
     },
     "execution_count": 13,
     "metadata": {},
     "output_type": "execute_result"
    }
   ],
   "source": [
    "np.sqrt(ser)"
   ]
  },
  {
   "cell_type": "code",
   "execution_count": 15,
   "id": "88441979-524b-473d-b2e8-fc4688ea21ed",
   "metadata": {},
   "outputs": [
    {
     "data": {
      "text/html": [
       "<div>\n",
       "<style scoped>\n",
       "    .dataframe tbody tr th:only-of-type {\n",
       "        vertical-align: middle;\n",
       "    }\n",
       "\n",
       "    .dataframe tbody tr th {\n",
       "        vertical-align: top;\n",
       "    }\n",
       "\n",
       "    .dataframe thead th {\n",
       "        text-align: right;\n",
       "    }\n",
       "</style>\n",
       "<table border=\"1\" class=\"dataframe\">\n",
       "  <thead>\n",
       "    <tr style=\"text-align: right;\">\n",
       "      <th></th>\n",
       "      <th>A</th>\n",
       "      <th>B</th>\n",
       "      <th>C</th>\n",
       "      <th>D</th>\n",
       "    </tr>\n",
       "  </thead>\n",
       "  <tbody>\n",
       "    <tr>\n",
       "      <th>0</th>\n",
       "      <td>2.449490</td>\n",
       "      <td>1.732051</td>\n",
       "      <td>2.828427</td>\n",
       "      <td>1.414214</td>\n",
       "    </tr>\n",
       "    <tr>\n",
       "      <th>1</th>\n",
       "      <td>2.000000</td>\n",
       "      <td>1.414214</td>\n",
       "      <td>2.449490</td>\n",
       "      <td>2.000000</td>\n",
       "    </tr>\n",
       "    <tr>\n",
       "      <th>2</th>\n",
       "      <td>2.828427</td>\n",
       "      <td>2.449490</td>\n",
       "      <td>1.000000</td>\n",
       "      <td>1.732051</td>\n",
       "    </tr>\n",
       "  </tbody>\n",
       "</table>\n",
       "</div>"
      ],
      "text/plain": [
       "          A         B         C         D\n",
       "0  2.449490  1.732051  2.828427  1.414214\n",
       "1  2.000000  1.414214  2.449490  2.000000\n",
       "2  2.828427  2.449490  1.000000  1.732051"
      ]
     },
     "execution_count": 15,
     "metadata": {},
     "output_type": "execute_result"
    }
   ],
   "source": [
    "new_dataframe= np.sqrt(df)\n",
    "new_dataframe"
   ]
  },
  {
   "cell_type": "code",
   "execution_count": 16,
   "id": "95945e15-3b5e-4322-8f99-a94cda7b04b7",
   "metadata": {},
   "outputs": [],
   "source": [
    "### O para calculos más complejos"
   ]
  },
  {
   "cell_type": "code",
   "execution_count": 17,
   "id": "abd39700-21d8-4cc4-b8f1-5ca9863b75e5",
   "metadata": {},
   "outputs": [
    {
     "data": {
      "text/html": [
       "<div>\n",
       "<style scoped>\n",
       "    .dataframe tbody tr th:only-of-type {\n",
       "        vertical-align: middle;\n",
       "    }\n",
       "\n",
       "    .dataframe tbody tr th {\n",
       "        vertical-align: top;\n",
       "    }\n",
       "\n",
       "    .dataframe thead th {\n",
       "        text-align: right;\n",
       "    }\n",
       "</style>\n",
       "<table border=\"1\" class=\"dataframe\">\n",
       "  <thead>\n",
       "    <tr style=\"text-align: right;\">\n",
       "      <th></th>\n",
       "      <th>A</th>\n",
       "      <th>B</th>\n",
       "      <th>C</th>\n",
       "      <th>D</th>\n",
       "    </tr>\n",
       "  </thead>\n",
       "  <tbody>\n",
       "    <tr>\n",
       "      <th>0</th>\n",
       "      <td>-1.836970e-16</td>\n",
       "      <td>-7.071068e-01</td>\n",
       "      <td>1.000000e+00</td>\n",
       "      <td>6.123234e-17</td>\n",
       "    </tr>\n",
       "    <tr>\n",
       "      <th>1</th>\n",
       "      <td>-1.000000e+00</td>\n",
       "      <td>6.123234e-17</td>\n",
       "      <td>-1.836970e-16</td>\n",
       "      <td>-1.000000e+00</td>\n",
       "    </tr>\n",
       "    <tr>\n",
       "      <th>2</th>\n",
       "      <td>1.000000e+00</td>\n",
       "      <td>-1.836970e-16</td>\n",
       "      <td>7.071068e-01</td>\n",
       "      <td>-7.071068e-01</td>\n",
       "    </tr>\n",
       "  </tbody>\n",
       "</table>\n",
       "</div>"
      ],
      "text/plain": [
       "              A             B             C             D\n",
       "0 -1.836970e-16 -7.071068e-01  1.000000e+00  6.123234e-17\n",
       "1 -1.000000e+00  6.123234e-17 -1.836970e-16 -1.000000e+00\n",
       "2  1.000000e+00 -1.836970e-16  7.071068e-01 -7.071068e-01"
      ]
     },
     "execution_count": 17,
     "metadata": {},
     "output_type": "execute_result"
    }
   ],
   "source": [
    "np.cos(df*np.pi/4)"
   ]
  },
  {
   "cell_type": "markdown",
   "id": "02081e09-95e0-45a4-b8bd-5d14bcf1a97f",
   "metadata": {},
   "source": [
    "Algunos ejemplos de funciones NumPy que puedes aplicar a las series:\n",
    "\n",
    "- `np.add()` -> suma las series que pases por argumento (aunque es más rápido usar el operador `+`, o el método `add`).\n",
    "- `np.subtract()` -> resta las series que pases por argumento o un valor a todos los elementos de la serie.\n",
    "- `np.divide()` -> divide una serie entre otra (elemento a elemento) o cada elemento por un número."
   ]
  },
  {
   "cell_type": "code",
   "execution_count": 18,
   "id": "74284fbd-1717-48dc-9550-44d6fb846ffe",
   "metadata": {},
   "outputs": [
    {
     "data": {
      "text/plain": [
       "0    12\n",
       "1     6\n",
       "2    14\n",
       "3     8\n",
       "dtype: int32"
      ]
     },
     "execution_count": 18,
     "metadata": {},
     "output_type": "execute_result"
    }
   ],
   "source": [
    "np.add(ser,ser)"
   ]
  },
  {
   "cell_type": "markdown",
   "id": "066713e9-defc-470d-9e16-2ded325f6cb1",
   "metadata": {},
   "source": [
    "### Alineado de índices en Operaciones\n",
    "\n",
    "Para operaciones binarias sobre dos objetos  \n",
    "**Series** o **DataFrame**, Pandas alineará los índices en el proceso de realización de la operación.  \n",
    "\n",
    "Esto es muy conveniente cuando se trabaja con datos incompletos, como veremos en algunos de los ejemplos que siguen"
   ]
  },
  {
   "cell_type": "code",
   "execution_count": 19,
   "id": "195b6b8b-0ad3-483f-b3a9-139fde3c4ab7",
   "metadata": {},
   "outputs": [],
   "source": [
    "area = pd.Series({'Alaska': 1723337, 'Texas': 695662, 'California': 423967}, name='superficie')\n",
    "\n",
    "poblacion = pd.Series({'California': 38332521, 'Texas': 26448193, 'New York': 19651127}, name='poblacion')"
   ]
  },
  {
   "cell_type": "markdown",
   "id": "2bc4f8d5-b51f-48d5-ae7b-41673d20e9f6",
   "metadata": {},
   "source": [
    "Veamos que ocurre cuando los dividimos para calcular la densidad de poblacion"
   ]
  },
  {
   "cell_type": "code",
   "execution_count": 20,
   "id": "803203d1-f8ad-44fb-b108-108cb24a411d",
   "metadata": {},
   "outputs": [
    {
     "data": {
      "text/plain": [
       "Alaska              NaN\n",
       "California    90.413926\n",
       "New York            NaN\n",
       "Texas         38.018740\n",
       "dtype: float64"
      ]
     },
     "execution_count": 20,
     "metadata": {},
     "output_type": "execute_result"
    }
   ],
   "source": [
    "s_poblacion_area = poblacion/area\n",
    "s_poblacion_area"
   ]
  },
  {
   "cell_type": "markdown",
   "id": "a7e0c77c-8041-40cb-9ba6-c964872a4eb9",
   "metadata": {},
   "source": [
    "Cualquier elemento para el que uno u otro no tenga una entrada se marca con `NaN`, o \"Not a Number\", que es como Pandas marca los datos que faltan. [Y que mencionamos en alguna píldora anterior, ojo como puedes ver empiezan a ser omnipresentes, y lo seguirán siendo los `NaN` o nulos]. Esta coincidencia de índices se implementa de esta manera para cualquiera de las expresiones aritméticas incorporadas de Python; cualquier valor que falte se rellena con `NaN` por defecto:"
   ]
  },
  {
   "cell_type": "code",
   "execution_count": 25,
   "id": "8379dc60-a599-4b51-9334-36222f87ce31",
   "metadata": {},
   "outputs": [],
   "source": [
    "A = pd.Series([2,4,6],index = [\"Andalucia\",\"Aragon\",\"Madrid\"])\n",
    "B = pd.Series([1,3,5],index = [\"Aragon\",\"Madrid\",\"Asturias\"])"
   ]
  },
  {
   "cell_type": "code",
   "execution_count": 26,
   "id": "1d7276e7-5e6d-4db1-99d1-7f5782c1eccf",
   "metadata": {},
   "outputs": [
    {
     "data": {
      "text/plain": [
       "Andalucia    NaN\n",
       "Aragon       5.0\n",
       "Asturias     NaN\n",
       "Madrid       9.0\n",
       "dtype: float64"
      ]
     },
     "execution_count": 26,
     "metadata": {},
     "output_type": "execute_result"
    }
   ],
   "source": [
    "A+B"
   ]
  },
  {
   "cell_type": "markdown",
   "id": "cb069068-3f56-4497-a11e-b4fa82646fd2",
   "metadata": {},
   "source": [
    "Como se tratan los NAN posteriormente en otras operaciones"
   ]
  },
  {
   "cell_type": "code",
   "execution_count": 28,
   "id": "412dc173-32a0-4fa3-8c42-a490fddd887f",
   "metadata": {},
   "outputs": [
    {
     "data": {
      "text/plain": [
       "Andalucia     NaN\n",
       "Aragon        6.0\n",
       "Asturias      NaN\n",
       "Madrid       12.0\n",
       "dtype: float64"
      ]
     },
     "execution_count": 28,
     "metadata": {},
     "output_type": "execute_result"
    }
   ],
   "source": [
    "serie_1=A+B\n",
    "serie_2=serie_1+B\n",
    "serie_2"
   ]
  },
  {
   "cell_type": "markdown",
   "id": "fe16eb71-fd47-46a6-b735-cfc8048667b4",
   "metadata": {},
   "source": [
    "Si el uso de valores `NaN` no es el comportamiento deseado, el valor de llenado puede ser modificado usando métodos de objetos apropiados en lugar de los operadores. Por ejemplo, llamar a `A.add(B)` es equivalente a llamar a `A + B`, pero permite la especificación explícita opcional del valor de relleno para cualquier elemento de `A` o `B` que pueda faltar:"
   ]
  },
  {
   "cell_type": "code",
   "execution_count": 29,
   "id": "fcf7b884-8a86-4726-8461-2872c4e09e1c",
   "metadata": {},
   "outputs": [
    {
     "data": {
      "text/plain": [
       "Andalucia    2.0\n",
       "Aragon       5.0\n",
       "Asturias     5.0\n",
       "Madrid       9.0\n",
       "dtype: float64"
      ]
     },
     "execution_count": 29,
     "metadata": {},
     "output_type": "execute_result"
    }
   ],
   "source": [
    "B.add(A,fill_value=0)"
   ]
  },
  {
   "cell_type": "code",
   "execution_count": 30,
   "id": "289b2d6b-2306-4cf6-9e80-3ac727995734",
   "metadata": {},
   "outputs": [
    {
     "data": {
      "text/plain": [
       "Andalucia    2\n",
       "Aragon       4\n",
       "Madrid       6\n",
       "dtype: int64"
      ]
     },
     "execution_count": 30,
     "metadata": {},
     "output_type": "execute_result"
    }
   ],
   "source": [
    "A"
   ]
  },
  {
   "cell_type": "code",
   "execution_count": 31,
   "id": "5e7d920e-62ca-4373-8a32-5ed3ed2c0104",
   "metadata": {},
   "outputs": [
    {
     "data": {
      "text/plain": [
       "Aragon      1\n",
       "Madrid      3\n",
       "Asturias    5\n",
       "dtype: int64"
      ]
     },
     "execution_count": 31,
     "metadata": {},
     "output_type": "execute_result"
    }
   ],
   "source": [
    "B"
   ]
  }
 ],
 "metadata": {
  "kernelspec": {
   "display_name": "Python 3 (ipykernel)",
   "language": "python",
   "name": "python3"
  },
  "language_info": {
   "codemirror_mode": {
    "name": "ipython",
    "version": 3
   },
   "file_extension": ".py",
   "mimetype": "text/x-python",
   "name": "python",
   "nbconvert_exporter": "python",
   "pygments_lexer": "ipython3",
   "version": "3.12.1"
  }
 },
 "nbformat": 4,
 "nbformat_minor": 5
}
