{
 "cells": [
  {
   "cell_type": "markdown",
   "id": "5669815c-09e7-4a98-9344-ee2046089edf",
   "metadata": {},
   "source": [
    "### Ejercicio 1\n",
    "\n",
    "Piensa en al menos 3 personas que invitarías a cenar\n",
    "\n",
    "Utiliza la lista de invitados para imprimir cada uno por pantalla, mediante un bucle:\n",
    "* Ordena alfabeticamente tu lista de invitados\n",
    "* ¿Quién es el primer invitado de la lista?\n",
    "* Te llama uno de ellos a última hora, que no va a poder asistir. Eliminalo de la lista\n",
    "* Por suerte te ha llamado un amigo que no iba a asistir y al final si puede. Añadelo a mitad de la lista"
   ]
  },
  {
   "cell_type": "code",
   "execution_count": 14,
   "id": "fcc65b87-9e5b-4276-97da-6ae5dfdec5b7",
   "metadata": {},
   "outputs": [
    {
     "name": "stdout",
     "output_type": "stream",
     "text": [
      "['Carla', 'David', 'Felipe', 'Jesús', 'Laura', 'Manuel', 'María', 'Roberto']\n",
      "Carla\n",
      "['Carla', 'David', 'Jesús', 'Laura', 'Manuel', 'María', 'Roberto']\n",
      "['Carla', 'David', 'Jesús', 'Laura', 'Santiago', 'Manuel', 'María', 'Roberto']\n"
     ]
    }
   ],
   "source": [
    "mis_invitados = [\"Manuel\",\"Roberto\", \"María\", \"Carla\",\"Jesús\", \"David\", \"Laura\", \"Felipe\"]\n",
    "mis_invitados.sort()\n",
    "print(mis_invitados)\n",
    "print(mis_invitados[0])\n",
    "mis_invitados_eliminados = mis_invitados.remove(\"Felipe\")\n",
    "print(mis_invitados)\n",
    "mis_invitados.insert(4,\"Santiago\")\n",
    "print(mis_invitados)\n",
    "\n"
   ]
  },
  {
   "cell_type": "markdown",
   "id": "bd05b765-c6c9-4d09-8c47-54b7bee5fd20",
   "metadata": {},
   "source": [
    "### Ejercicio 2 "
   ]
  },
  {
   "cell_type": "markdown",
   "id": "362637d6-b0e4-45b2-b091-2bb42c82730c",
   "metadata": {},
   "source": [
    "* Crea una tupla con un único valor. \n",
    "* Comprueba su tipo\n",
    "* Crea otra tupla con 3 elementos\n",
    "* Añadele (como puedas) a la primera tupla, los tres elementos de la segunda\n",
    "* Obtén una cuarta tupla a partir de los dos primeros valores de la tupla creada del apartado anterior"
   ]
  },
  {
   "cell_type": "code",
   "execution_count": 21,
   "id": "165b5a72-98bd-45a7-aa42-8dd68567a4e4",
   "metadata": {},
   "outputs": [
    {
     "name": "stdout",
     "output_type": "stream",
     "text": [
      "(3,)\n",
      "<class 'tuple'>\n",
      "(3, 4, 5, 6)\n",
      "(3, 4)\n"
     ]
    }
   ],
   "source": [
    "mi_tupla = (3,)\n",
    "print(mi_tupla)\n",
    "print(type(mi_tupla))\n",
    "mi_tupla_modificada = (4,5,6)\n",
    "mi_tupla = (mi_tupla + mi_tupla_modificada)\n",
    "print (mi_tupla)\n",
    "mi_tupla_4 = (mi_tupla[0:2])\n",
    "print(mi_tupla_4)"
   ]
  },
  {
   "cell_type": "markdown",
   "id": "7a6a5986-4047-4360-b4fc-389fdce95394",
   "metadata": {},
   "source": [
    "### Ejercicio 3 "
   ]
  },
  {
   "cell_type": "markdown",
   "id": "829a3b2f-6072-4b1b-89f8-db41a9cc4509",
   "metadata": {},
   "source": [
    "Dada la siguiente lista:\n",
    "\n",
    "ejer_3 = [1,2,3,4,5,6]\n",
    "\n",
    "Inviértela para que quede de la siguiente manera\n",
    "\n",
    "ejer_3_inv = [6,5,4,3,2,1]"
   ]
  },
  {
   "cell_type": "code",
   "execution_count": 26,
   "id": "c4e1b20b-70fe-49f0-8048-fe5815b77190",
   "metadata": {},
   "outputs": [
    {
     "name": "stdout",
     "output_type": "stream",
     "text": [
      "[6, 5, 4, 3, 2, 1]\n"
     ]
    }
   ],
   "source": [
    "ejer_3 = [1,2,3,4,5,6]\n",
    "ejer_3.reverse()\n",
    "print(ejer_3)"
   ]
  },
  {
   "cell_type": "markdown",
   "id": "2ca19cad-5f93-4988-8937-52ab804d3cbb",
   "metadata": {},
   "source": [
    "### Ejercicio 4"
   ]
  },
  {
   "cell_type": "markdown",
   "id": "5910dcc3-e72e-4afe-b18a-e473a6175822",
   "metadata": {},
   "source": [
    "Concatena todos los elementos de la tupla en un unico string. Para ello utiliza el metodo .join() de los Strings\n",
    "\n",
    "ejer_4 = (\"cien\", \"cañones\", \"por\", \"banda\")\n",
    "\n",
    "Resultado: cien cañones por banda"
   ]
  },
  {
   "cell_type": "code",
   "execution_count": 30,
   "id": "34511696-bf37-4d01-a642-336d162abf0d",
   "metadata": {},
   "outputs": [
    {
     "name": "stdout",
     "output_type": "stream",
     "text": [
      "cien cañones por banda\n"
     ]
    }
   ],
   "source": [
    "ejer_4 = (\"cien\", \"cañones\", \"por\", \"banda\")\n",
    "ejer_4_unido = \" \".join(ejer_4)\n",
    "print(ejer_4_unido)"
   ]
  },
  {
   "cell_type": "markdown",
   "id": "bfa54601-8890-4574-8b10-8a585884b370",
   "metadata": {},
   "source": [
    "### Ejercicio 5"
   ]
  },
  {
   "cell_type": "markdown",
   "id": "e0e2035a-7066-4093-81ea-cdecc9100673",
   "metadata": {},
   "source": [
    "Dada la siguiente lista, encuentra el índice del valor 45 y sustitúyelo por el 0"
   ]
  },
  {
   "cell_type": "code",
   "execution_count": 31,
   "id": "f78e144c-1ac9-4182-9cda-df242d567a4a",
   "metadata": {},
   "outputs": [
    {
     "name": "stdout",
     "output_type": "stream",
     "text": [
      "[20, 47, 19, 29, 0, 67, 78, 90]\n"
     ]
    }
   ],
   "source": [
    "ejer_5 = [20, 47, 19, 29, 45, 67, 78, 90]\n",
    "indice = ejer_5.index(45)\n",
    "ejer_5[indice] = 0\n",
    "print(ejer_5)"
   ]
  },
  {
   "cell_type": "markdown",
   "id": "46889bd1-9134-469d-8c2b-a0c25de42657",
   "metadata": {},
   "source": [
    "### Ejercicio 6"
   ]
  },
  {
   "cell_type": "markdown",
   "id": "e4849386-19e7-4baa-859e-ea27e096e8b6",
   "metadata": {},
   "source": [
    "Obten el tercer elemento de la siguiente tupla, y el tercero empezando por la cola"
   ]
  },
  {
   "cell_type": "code",
   "execution_count": 39,
   "id": "a356f0b9-a86e-4d46-a4d5-a26512482239",
   "metadata": {},
   "outputs": [
    {
     "name": "stdout",
     "output_type": "stream",
     "text": [
      "3\n",
      "90\n"
     ]
    }
   ],
   "source": [
    "ejer_6 = (3,20,3,47,19,3,29,45,67,78,90,3,3)\n",
    "print(ejer_6[2])\n",
    "print(ejer_6[-3])"
   ]
  },
  {
   "cell_type": "markdown",
   "id": "2a5fc906-6338-4aa7-ba7f-a111c93f6766",
   "metadata": {},
   "source": [
    "### Ejercicio 7"
   ]
  },
  {
   "cell_type": "markdown",
   "id": "0f63ecc9-6528-47fa-8edb-8c9f5faec150",
   "metadata": {},
   "source": [
    "Dada la siguiente lista, elimina todos los valores iguales a 3\n",
    "\n",
    "ejer_7 = [3, 20, 3, 47, 19, 3, 29, 45, 67, 78, 90, 3, 3]"
   ]
  },
  {
   "cell_type": "code",
   "execution_count": 41,
   "id": "faf7e816-2e04-4eb2-b1b6-c85b4c5215cf",
   "metadata": {},
   "outputs": [
    {
     "name": "stdout",
     "output_type": "stream",
     "text": [
      "[20, 47, 19, 29, 45, 67, 78, 90]\n"
     ]
    }
   ],
   "source": [
    "ejer_7 = [3, 20, 3, 47, 19, 3, 29, 45, 67, 78, 90, 3, 3]\n",
    "for n in ejer_7.copy():\n",
    "    if n == 3:\n",
    "        ejer_7.remove(n)\n",
    "\n",
    "print(ejer_7)"
   ]
  }
 ],
 "metadata": {
  "kernelspec": {
   "display_name": "Python 3 (ipykernel)",
   "language": "python",
   "name": "python3"
  },
  "language_info": {
   "codemirror_mode": {
    "name": "ipython",
    "version": 3
   },
   "file_extension": ".py",
   "mimetype": "text/x-python",
   "name": "python",
   "nbconvert_exporter": "python",
   "pygments_lexer": "ipython3",
   "version": "3.12.1"
  }
 },
 "nbformat": 4,
 "nbformat_minor": 5
}
