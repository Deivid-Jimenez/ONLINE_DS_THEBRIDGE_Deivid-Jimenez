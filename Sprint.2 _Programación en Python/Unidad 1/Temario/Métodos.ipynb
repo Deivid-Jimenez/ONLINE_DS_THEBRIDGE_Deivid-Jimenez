{
 "cells": [
  {
   "cell_type": "markdown",
   "id": "9fe4b6e7-3263-4bd6-b92f-6f9a1abf15d9",
   "metadata": {},
   "source": [
    "### Métodos"
   ]
  },
  {
   "cell_type": "markdown",
   "id": "6fcaae8d-9d7a-46f6-ae15-48aba26efa1a",
   "metadata": {},
   "source": [
    "Son funciones que podemos definir dentro de las clases, estas funciones cambiarán el estado del algún atributo o realizarán cálculos que nos sirvan de Output"
   ]
  },
  {
   "cell_type": "markdown",
   "id": "455cfc21-4d2f-4b37-b92c-472d78ef7ca2",
   "metadata": {},
   "source": [
    "El constructor es un tipo de método. La diferencia con el resto de métodos radica en su nombre _init_. La sintaxis para definir los métodos es como si fuese una función. La sintaxis para llamar al método se utiliza objeto.metodo(argumentos_metodo)."
   ]
  },
  {
   "cell_type": "code",
   "execution_count": 5,
   "id": "fb5a306d-58ba-4bd9-9e65-780d84e9dd39",
   "metadata": {},
   "outputs": [],
   "source": [
    "class Coche:\n",
    "    ruedas = 4\n",
    "\n",
    "    def _init_(self, marca_coche, num_puertas=4):\n",
    "        self.marca= marca_coche\n",
    "        self.puertas = num_puertas\n",
    "    def caracteristicas(self):\n",
    "        return \"Marca:\" + self.marca + \",Puertas:\"+ str(self.puertas) "
   ]
  },
  {
   "cell_type": "code",
   "execution_count": 4,
   "id": "a3a2c507-623d-457f-8424-bb028d3aaa71",
   "metadata": {},
   "outputs": [
    {
     "ename": "TypeError",
     "evalue": "Coche() takes no arguments",
     "output_type": "error",
     "traceback": [
      "\u001b[1;31m---------------------------------------------------------------------------\u001b[0m",
      "\u001b[1;31mTypeError\u001b[0m                                 Traceback (most recent call last)",
      "Cell \u001b[1;32mIn[4], line 1\u001b[0m\n\u001b[1;32m----> 1\u001b[0m ford_ka\u001b[38;5;241m=\u001b[39m\u001b[43mCoche\u001b[49m\u001b[43m(\u001b[49m\u001b[38;5;124;43m\"\u001b[39;49m\u001b[38;5;124;43mFord\u001b[39;49m\u001b[38;5;124;43m\"\u001b[39;49m\u001b[43m)\u001b[49m\n\u001b[0;32m      2\u001b[0m ford_ka\u001b[38;5;241m.\u001b[39mcaracteristicas()\n",
      "\u001b[1;31mTypeError\u001b[0m: Coche() takes no arguments"
     ]
    }
   ],
   "source": [
    "ford_ka=Coche(\"Ford\")\n",
    "ford_ka.caracteristicas()"
   ]
  },
  {
   "cell_type": "code",
   "execution_count": null,
   "id": "502e4a39-1f33-4ae4-b4c9-7b3f130fcbbb",
   "metadata": {},
   "outputs": [],
   "source": []
  }
 ],
 "metadata": {
  "kernelspec": {
   "display_name": "Python 3 (ipykernel)",
   "language": "python",
   "name": "python3"
  },
  "language_info": {
   "codemirror_mode": {
    "name": "ipython",
    "version": 3
   },
   "file_extension": ".py",
   "mimetype": "text/x-python",
   "name": "python",
   "nbconvert_exporter": "python",
   "pygments_lexer": "ipython3",
   "version": "3.12.1"
  }
 },
 "nbformat": 4,
 "nbformat_minor": 5
}
