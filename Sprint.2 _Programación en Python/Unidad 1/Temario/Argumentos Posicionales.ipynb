{
 "cells": [
  {
   "cell_type": "markdown",
   "id": "189ac496-0e56-4327-a096-7a5e994ad0b2",
   "metadata": {},
   "source": [
    "### Argumentos Posicionales"
   ]
  },
  {
   "cell_type": "markdown",
   "id": "825751b7-7a36-4019-982b-d026b653d1b9",
   "metadata": {},
   "source": [
    "Se pueden implementar funciones con los argumentos que se desee, pero es necesario tener en cuenta dos cosas:\n",
    "\n",
    "* El orden: Cuando llamemos a los argumentos es necesario seguir el orden de argumentos que se declaran en la función\n",
    "* Son obligatorios: Si se declaran en la función, después de llamarla, tenemos que poner todos los argumentos"
   ]
  },
  {
   "cell_type": "code",
   "execution_count": 1,
   "id": "846d6adb-5634-45f2-b489-b221d4a0df98",
   "metadata": {},
   "outputs": [
    {
     "data": {
      "text/plain": [
       "10.0"
      ]
     },
     "execution_count": 1,
     "metadata": {},
     "output_type": "execute_result"
    }
   ],
   "source": [
    "def multiplica (x1, x2, x3, x4):\n",
    "    resultado = (x1*x2*x3) /x4\n",
    "    return resultado\n",
    "multiplica (3,4,5,6)"
   ]
  },
  {
   "cell_type": "code",
   "execution_count": 2,
   "id": "1e3281c4-71e8-47d9-87a5-57c86ee646b2",
   "metadata": {},
   "outputs": [
    {
     "data": {
      "text/plain": [
       "10.0"
      ]
     },
     "execution_count": 2,
     "metadata": {},
     "output_type": "execute_result"
    }
   ],
   "source": [
    "multiplica (x1=3, x4=6, x3=5, x2=4)"
   ]
  },
  {
   "cell_type": "code",
   "execution_count": 5,
   "id": "d6f1da02-e9d5-424f-b0cf-faeded7457c1",
   "metadata": {},
   "outputs": [],
   "source": [
    "### Un error muy común puede ser el error en un cálculo, vemos que en la siguiente ejecución se hace una división entre 0\n",
    "### lo cual es matemáticamente incorrecto"
   ]
  },
  {
   "cell_type": "code",
   "execution_count": 6,
   "id": "4200aae8-507a-4332-ae2a-15993c634963",
   "metadata": {},
   "outputs": [
    {
     "ename": "ZeroDivisionError",
     "evalue": "division by zero",
     "output_type": "error",
     "traceback": [
      "\u001b[1;31m---------------------------------------------------------------------------\u001b[0m",
      "\u001b[1;31mZeroDivisionError\u001b[0m                         Traceback (most recent call last)",
      "Cell \u001b[1;32mIn[6], line 1\u001b[0m\n\u001b[1;32m----> 1\u001b[0m \u001b[43mmultiplica\u001b[49m\u001b[43m \u001b[49m\u001b[43m(\u001b[49m\u001b[43mx1\u001b[49m\u001b[38;5;241;43m=\u001b[39;49m\u001b[38;5;241;43m3\u001b[39;49m\u001b[43m,\u001b[49m\u001b[43m \u001b[49m\u001b[43mx4\u001b[49m\u001b[38;5;241;43m=\u001b[39;49m\u001b[38;5;241;43m0\u001b[39;49m\u001b[43m,\u001b[49m\u001b[43m \u001b[49m\u001b[43mx3\u001b[49m\u001b[38;5;241;43m=\u001b[39;49m\u001b[38;5;241;43m5\u001b[39;49m\u001b[43m,\u001b[49m\u001b[43m \u001b[49m\u001b[43mx2\u001b[49m\u001b[38;5;241;43m=\u001b[39;49m\u001b[38;5;241;43m4\u001b[39;49m\u001b[43m)\u001b[49m\n",
      "Cell \u001b[1;32mIn[1], line 2\u001b[0m, in \u001b[0;36mmultiplica\u001b[1;34m(x1, x2, x3, x4)\u001b[0m\n\u001b[0;32m      1\u001b[0m \u001b[38;5;28;01mdef\u001b[39;00m \u001b[38;5;21mmultiplica\u001b[39m (x1, x2, x3, x4):\n\u001b[1;32m----> 2\u001b[0m     resultado \u001b[38;5;241m=\u001b[39m \u001b[43m(\u001b[49m\u001b[43mx1\u001b[49m\u001b[38;5;241;43m*\u001b[39;49m\u001b[43mx2\u001b[49m\u001b[38;5;241;43m*\u001b[39;49m\u001b[43mx3\u001b[49m\u001b[43m)\u001b[49m\u001b[43m \u001b[49m\u001b[38;5;241;43m/\u001b[39;49m\u001b[43mx4\u001b[49m\n\u001b[0;32m      3\u001b[0m     \u001b[38;5;28;01mreturn\u001b[39;00m resultado\n",
      "\u001b[1;31mZeroDivisionError\u001b[0m: division by zero"
     ]
    }
   ],
   "source": [
    "multiplica (x1=3, x4=0, x3=5, x2=4)"
   ]
  },
  {
   "cell_type": "code",
   "execution_count": 7,
   "id": "94c9b1da-4ad9-4ca6-a24d-5c4626467bce",
   "metadata": {},
   "outputs": [
    {
     "name": "stdout",
     "output_type": "stream",
     "text": [
      "division by zero\n",
      "Error en la función\n"
     ]
    }
   ],
   "source": [
    "### podemos solventar este error introduciendo un bloque try/except\n",
    "\n",
    "try: multiplica (x1=3, x4=0, x3=5, x2=4)\n",
    "except Exception as ex:\n",
    "    print (ex)\n",
    "    print(\"Error en la función\")"
   ]
  },
  {
   "cell_type": "code",
   "execution_count": 10,
   "id": "b53a9a5e-2328-4aa9-8820-cda0ed9f8e67",
   "metadata": {},
   "outputs": [
    {
     "data": {
      "text/plain": [
       "10.0"
      ]
     },
     "execution_count": 10,
     "metadata": {},
     "output_type": "execute_result"
    }
   ],
   "source": [
    "def multiplica (x1, x2, x3, x4):\n",
    "    if x4 == 0:\n",
    "        print(\"Error: No puedo dividir por 0, arg 4 inválido\")\n",
    "    else:\n",
    "        resultado = (x1*x2*x3) /x4\n",
    "        return resultado\n",
    "multiplica (3,4,5,6)"
   ]
  },
  {
   "cell_type": "code",
   "execution_count": 11,
   "id": "9862c82b-fa92-46fc-90ec-ba4d5f879bb1",
   "metadata": {},
   "outputs": [
    {
     "name": "stdout",
     "output_type": "stream",
     "text": [
      "Error: No puedo dividir por 0, arg 4 inválido\n"
     ]
    }
   ],
   "source": [
    "multiplica (x1=3, x4=0, x3=5, x2=4)"
   ]
  }
 ],
 "metadata": {
  "kernelspec": {
   "display_name": "Python 3 (ipykernel)",
   "language": "python",
   "name": "python3"
  },
  "language_info": {
   "codemirror_mode": {
    "name": "ipython",
    "version": 3
   },
   "file_extension": ".py",
   "mimetype": "text/x-python",
   "name": "python",
   "nbconvert_exporter": "python",
   "pygments_lexer": "ipython3",
   "version": "3.12.1"
  }
 },
 "nbformat": 4,
 "nbformat_minor": 5
}
