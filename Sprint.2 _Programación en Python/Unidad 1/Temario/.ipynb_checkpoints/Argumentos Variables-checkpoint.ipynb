{
 "cells": [
  {
   "cell_type": "markdown",
   "id": "88987c2b-618c-474d-8075-a235194cfaa7",
   "metadata": {},
   "source": [
    "## Argumentos variables"
   ]
  },
  {
   "cell_type": "code",
   "execution_count": 2,
   "id": "5d08ed67-1ba2-43e4-9eef-2f6a20677e86",
   "metadata": {},
   "outputs": [
    {
     "name": "stdout",
     "output_type": "stream",
     "text": [
      "(2, 3, 5)\n",
      "<class 'tuple'>\n"
     ]
    }
   ],
   "source": [
    "def multiplica(*argumentos):\n",
    "    print (argumentos)\n",
    "    print(type(argumentos))\n",
    "multiplica (2,3,5)\n",
    "multiplica (1,2,4,67,4)"
   ]
  },
  {
   "cell_type": "code",
   "execution_count": 7,
   "id": "8402bb4d-deb6-49fd-82c7-ac53733599a4",
   "metadata": {},
   "outputs": [
    {
     "name": "stdout",
     "output_type": "stream",
     "text": [
      "El siguiente elemento es 2\n",
      "El siguiente elemento es 3\n",
      "El siguiente elemento es 4\n",
      "El siguiente elemento es 5\n",
      "El resultado es 120\n",
      "El siguiente elemento es 23\n",
      "El siguiente elemento es 12\n",
      "El resultado es 276\n",
      "El siguiente elemento es 23\n",
      "El siguiente elemento es 12\n",
      "El resultado es 276\n"
     ]
    },
    {
     "data": {
      "text/plain": [
       "276"
      ]
     },
     "execution_count": 7,
     "metadata": {},
     "output_type": "execute_result"
    }
   ],
   "source": [
    "def multiplica (*args):\n",
    "    resultado = 1\n",
    "    for indice, elemento in enumerate(args):\n",
    "        print(\"El siguiente elemento es\", args[indice])\n",
    "        resultado = resultado * elemento\n",
    "    print(\"El resultado es\", resultado)\n",
    "    return resultado\n",
    "multiplica(2,3,4,5)\n",
    "multiplica (23,12)\n",
    "multiplica (23,12)"
   ]
  },
  {
   "cell_type": "code",
   "execution_count": 8,
   "id": "74bb6522-d15a-4bc4-aea7-d84772cead89",
   "metadata": {},
   "outputs": [],
   "source": [
    "#Combinar argumentos posicionales con Args"
   ]
  },
  {
   "cell_type": "code",
   "execution_count": 10,
   "id": "6ef1de9c-b152-4a94-a0e3-c008e34cb8ac",
   "metadata": {},
   "outputs": [
    {
     "data": {
      "text/plain": [
       "1428.0"
      ]
     },
     "execution_count": 10,
     "metadata": {},
     "output_type": "execute_result"
    }
   ],
   "source": [
    "def multiplica_divide(*args, div):\n",
    "    resultado = 1\n",
    "    for i in args:\n",
    "        resultado = resultado*i\n",
    "    resultado = resultado / div\n",
    "    return resultado\n",
    "\n",
    "multiplica_divide(10,34,21,div=5)"
   ]
  },
  {
   "cell_type": "code",
   "execution_count": 12,
   "id": "c71356fd-68c0-401e-af64-62682048ce65",
   "metadata": {},
   "outputs": [
    {
     "data": {
      "text/plain": [
       "1428.0"
      ]
     },
     "execution_count": 12,
     "metadata": {},
     "output_type": "execute_result"
    }
   ],
   "source": [
    "def multiplica_divide(div, *args):\n",
    "    resultado = 1\n",
    "    for i in args:\n",
    "        resultado = resultado*i\n",
    "    resultado = resultado / div\n",
    "    return resultado\n",
    "\n",
    "multiplica_divide(5, 10, 34,21) "
   ]
  }
 ],
 "metadata": {
  "kernelspec": {
   "display_name": "Python 3 (ipykernel)",
   "language": "python",
   "name": "python3"
  },
  "language_info": {
   "codemirror_mode": {
    "name": "ipython",
    "version": 3
   },
   "file_extension": ".py",
   "mimetype": "text/x-python",
   "name": "python",
   "nbconvert_exporter": "python",
   "pygments_lexer": "ipython3",
   "version": "3.12.1"
  }
 },
 "nbformat": 4,
 "nbformat_minor": 5
}
