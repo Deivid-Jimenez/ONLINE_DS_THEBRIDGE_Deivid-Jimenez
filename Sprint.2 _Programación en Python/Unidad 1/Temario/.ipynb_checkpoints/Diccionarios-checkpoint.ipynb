{
 "cells": [
  {
   "cell_type": "markdown",
   "id": "fb38a521-e48e-4f6a-b89d-8e8d77cb38ee",
   "metadata": {},
   "source": [
    "### Diccionarios"
   ]
  },
  {
   "cell_type": "markdown",
   "id": "9d4ad625-676b-4858-9194-3c46ff03f00a",
   "metadata": {},
   "source": [
    "En este tipo de colecciones no solo podemos agrupar valores sino creamos conexiones a través de la relación **clave** , **valor**\n",
    "\n",
    "La sintaxis es a través de {}\n",
    "\n",
    "Son mutables es decir podemos modificar sus elementos \n",
    "Desordenado: La potencia de acceso de los dicionarios es su formato clave-valor, no su orden. Aún así el diccionario conserva el orden de los elementos según los vamos insertando"
   ]
  },
  {
   "cell_type": "code",
   "execution_count": 5,
   "id": "c6c79c75-f517-448a-a6a7-78d677a78b04",
   "metadata": {},
   "outputs": [],
   "source": [
    "nombre_diccionario = {\"clave1\":\"valor1\", \"clave2\":\"valor2\", \"clave3\":\"valor3\"}"
   ]
  },
  {
   "cell_type": "code",
   "execution_count": 10,
   "id": "da0b8729-4aba-4b2e-be81-13f61b2d8f87",
   "metadata": {},
   "outputs": [
    {
     "data": {
      "text/plain": [
       "{'color': 'rojo',\n",
       " 'marca': 'tesla',\n",
       " 'modelo': 'cybertruck',\n",
       " 'peso': 3500,\n",
       " 'cambio automático': True}"
      ]
     },
     "execution_count": 10,
     "metadata": {},
     "output_type": "execute_result"
    }
   ],
   "source": [
    "coche_dict = {\n",
    "    \"color\":\"rojo\",\n",
    "    \"marca\":\"tesla\",\n",
    "    \"modelo\":\"cybertruck\",\n",
    "    \"peso\":3500,\n",
    "    \"cambio automático\":True\n",
    "}\n",
    "coche_dict\n",
    "    "
   ]
  },
  {
   "cell_type": "markdown",
   "id": "d21a3feb-c0f3-4842-a670-bec2ad87aa1a",
   "metadata": {},
   "source": [
    "### Acceso, modificación, añadir o eliminar al índice"
   ]
  },
  {
   "cell_type": "code",
   "execution_count": 13,
   "id": "d6c7fe70-ea48-4dcb-b00b-bd14490104f4",
   "metadata": {},
   "outputs": [
    {
     "name": "stdout",
     "output_type": "stream",
     "text": [
      "rojo\n",
      "3500\n"
     ]
    }
   ],
   "source": [
    "### Acceso\n",
    "print(coche_dict[\"color\"])\n",
    "print(coche_dict[\"peso\"])"
   ]
  },
  {
   "cell_type": "markdown",
   "id": "367d2f00-f1a7-477e-ab96-1f86b80ec3da",
   "metadata": {},
   "source": [
    "Cuando aparece un Key Error es porque la clave a la cual se intenta acceder no existe"
   ]
  },
  {
   "cell_type": "markdown",
   "id": "fc683054-b679-4d04-bbcf-3770399d524f",
   "metadata": {},
   "source": [
    "### Modificación de un elemento"
   ]
  },
  {
   "cell_type": "code",
   "execution_count": 14,
   "id": "f9931228-4b24-4354-a993-b63e60aaab21",
   "metadata": {},
   "outputs": [
    {
     "name": "stdout",
     "output_type": "stream",
     "text": [
      "{'color': ['azul', 'negro'], 'marca': 'tesla', 'modelo': 'cybertruck', 'peso': 3500, 'cambio automático': True}\n"
     ]
    }
   ],
   "source": [
    "coche_dict[\"color\"] = [\"azul\",\"negro\"]\n",
    "print(coche_dict)"
   ]
  },
  {
   "cell_type": "markdown",
   "id": "c53147d9-a7b5-4c9c-bd3d-f4dbe6f6e7f9",
   "metadata": {},
   "source": [
    "### Añadir un elemento"
   ]
  },
  {
   "cell_type": "code",
   "execution_count": 22,
   "id": "428a8be3-7630-4825-bc00-36082cf479a7",
   "metadata": {},
   "outputs": [
    {
     "name": "stdout",
     "output_type": "stream",
     "text": [
      "6\n",
      "{'color': ['azul', 'negro'], 'marca': 'tesla', 'modelo': 'cybertruck', 'peso': 3500, 'cambio automático': True, 'puertas': 6}\n"
     ]
    }
   ],
   "source": [
    "coche_dict[\"puertas\"] = 6\n",
    "print(coche_dict[\"puertas\"])\n",
    "print (coche_dict)"
   ]
  },
  {
   "cell_type": "markdown",
   "id": "c1d458dd-3a56-4b4e-995d-c03ca9a9dd6d",
   "metadata": {},
   "source": [
    "### Eliminar un elemento"
   ]
  },
  {
   "cell_type": "code",
   "execution_count": 23,
   "id": "36322d58-5fc9-4b35-8c9d-8c2eb9b389b6",
   "metadata": {},
   "outputs": [
    {
     "name": "stdout",
     "output_type": "stream",
     "text": [
      "{'color': ['azul', 'negro'], 'marca': 'tesla', 'modelo': 'cybertruck', 'peso': 3500, 'cambio automático': True}\n"
     ]
    }
   ],
   "source": [
    "del coche_dict[\"puertas\"]\n",
    "print(coche_dict)"
   ]
  },
  {
   "cell_type": "markdown",
   "id": "d36569a0-1f43-4887-a074-a0931fb53352",
   "metadata": {},
   "source": [
    "### Conocer las claves"
   ]
  },
  {
   "cell_type": "code",
   "execution_count": 25,
   "id": "63dbc259-7786-4eae-badc-6236cd2cc844",
   "metadata": {},
   "outputs": [
    {
     "name": "stdout",
     "output_type": "stream",
     "text": [
      "dict_keys(['color', 'marca', 'modelo', 'peso', 'cambio automático'])\n"
     ]
    }
   ],
   "source": [
    "print(coche_dict.keys())"
   ]
  },
  {
   "cell_type": "markdown",
   "id": "d136ab82-0928-4e6d-abc1-d4c3b9f11450",
   "metadata": {},
   "source": [
    "### Conocer los valores"
   ]
  },
  {
   "cell_type": "code",
   "execution_count": 26,
   "id": "004894e3-0737-4f91-bac3-44351c2eb2cc",
   "metadata": {},
   "outputs": [
    {
     "name": "stdout",
     "output_type": "stream",
     "text": [
      "dict_values([['azul', 'negro'], 'tesla', 'cybertruck', 3500, True])\n"
     ]
    }
   ],
   "source": [
    "print(coche_dict.values())"
   ]
  },
  {
   "cell_type": "code",
   "execution_count": 28,
   "id": "6c330080-6b60-4baa-8ca8-b1769273dc9f",
   "metadata": {},
   "outputs": [
    {
     "name": "stdout",
     "output_type": "stream",
     "text": [
      "{'ciudad': 'Madrid'}\n"
     ]
    }
   ],
   "source": [
    "### Para iniciar un diccionario vacío\n",
    "\n",
    "mi_diccionario = {}\n",
    "mi_diccionario[\"ciudad\"] = \"Madrid\"\n",
    "print(mi_diccionario)"
   ]
  },
  {
   "cell_type": "markdown",
   "id": "a18db3bc-59f1-4bf0-b2df-a75ed7a70c25",
   "metadata": {},
   "source": [
    "### Errores en los diccionarios"
   ]
  },
  {
   "cell_type": "markdown",
   "id": "cd5292c2-af19-46f9-a0e0-9e50188ac02c",
   "metadata": {},
   "source": [
    "Cuando aparece un Key Error es porque la clave a la cual se intenta acceder no existe"
   ]
  },
  {
   "cell_type": "markdown",
   "id": "d42eb135-94c7-449b-9cd0-e22145444f61",
   "metadata": {},
   "source": [
    "Para solventaro podemos hacer el metodo get que nos permite buscar una clave y si no existe dar un valor por default"
   ]
  },
  {
   "cell_type": "code",
   "execution_count": 34,
   "id": "16b38e65-a517-4355-94db-d9cdfdae2db9",
   "metadata": {},
   "outputs": [
    {
     "name": "stdout",
     "output_type": "stream",
     "text": [
      "4\n",
      "dict_keys(['color', 'marca', 'modelo', 'peso', 'cambio automático'])\n",
      "tesla\n"
     ]
    }
   ],
   "source": [
    "numero_de_puertas = coche_dict.get(\"puertas\",4)\n",
    "print(numero_de_puertas)\n",
    "print(coche_dict.keys()) ###comentar esta duda con Alberto, si hago un get no se agrega al diccionario ¿?\n",
    "\n",
    "## Que ocurre si la clave si existe ¿?\n",
    "\n",
    "marca = coche_dict.get(\"marca\",\"desconocida\")\n",
    "print(marca)\n",
    "\n"
   ]
  },
  {
   "cell_type": "markdown",
   "id": "c4834160-d68d-4014-a0be-db95af4a28c0",
   "metadata": {},
   "source": [
    "## Iteracion"
   ]
  },
  {
   "cell_type": "code",
   "execution_count": 36,
   "id": "dabc6892-9a91-47cd-bfe2-1dca3d8203f4",
   "metadata": {},
   "outputs": [
    {
     "name": "stdout",
     "output_type": "stream",
     "text": [
      "color\n",
      "['azul', 'negro']\n",
      "marca\n",
      "tesla\n",
      "modelo\n",
      "cybertruck\n",
      "peso\n",
      "3500\n",
      "cambio automático\n",
      "True\n"
     ]
    }
   ],
   "source": [
    "for i in coche_dict:\n",
    "    print(i)\n",
    "    print(coche_dict[i])"
   ]
  },
  {
   "cell_type": "code",
   "execution_count": 37,
   "id": "4495279e-af1b-4c8f-ae88-b8c1cb07cf58",
   "metadata": {},
   "outputs": [
    {
     "name": "stdout",
     "output_type": "stream",
     "text": [
      "color : ['azul', 'negro']\n",
      "marca : tesla\n",
      "modelo : cybertruck\n",
      "peso : 3500\n",
      "cambio automático : True\n"
     ]
    }
   ],
   "source": [
    "for i in coche_dict:\n",
    "    print(i,\":\" ,coche_dict[i])"
   ]
  },
  {
   "cell_type": "code",
   "execution_count": 39,
   "id": "94aae06c-2c95-462d-a1b9-2b11306c470d",
   "metadata": {},
   "outputs": [
    {
     "data": {
      "text/plain": [
       "dict_items([('color', ['azul', 'negro']), ('marca', 'tesla'), ('modelo', 'cybertruck'), ('peso', 3500), ('cambio automático', True)])"
      ]
     },
     "execution_count": 39,
     "metadata": {},
     "output_type": "execute_result"
    }
   ],
   "source": [
    "coche_dict.items()"
   ]
  },
  {
   "cell_type": "code",
   "execution_count": 41,
   "id": "e647afc8-9dc8-4bd7-a185-371caa6e3778",
   "metadata": {},
   "outputs": [
    {
     "name": "stdout",
     "output_type": "stream",
     "text": [
      "color : ['azul', 'negro']\n",
      "marca : tesla\n",
      "modelo : cybertruck\n",
      "peso : 3500\n",
      "cambio automático : True\n"
     ]
    }
   ],
   "source": [
    "for clave,valor in coche_dict.items():\n",
    "    print(clave,\":\",valor)"
   ]
  }
 ],
 "metadata": {
  "kernelspec": {
   "display_name": "Python 3 (ipykernel)",
   "language": "python",
   "name": "python3"
  },
  "language_info": {
   "codemirror_mode": {
    "name": "ipython",
    "version": 3
   },
   "file_extension": ".py",
   "mimetype": "text/x-python",
   "name": "python",
   "nbconvert_exporter": "python",
   "pygments_lexer": "ipython3",
   "version": "3.12.1"
  }
 },
 "nbformat": 4,
 "nbformat_minor": 5
}
