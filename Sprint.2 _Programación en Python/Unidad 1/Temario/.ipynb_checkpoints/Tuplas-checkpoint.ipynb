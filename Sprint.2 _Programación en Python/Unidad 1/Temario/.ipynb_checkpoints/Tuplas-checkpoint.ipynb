{
 "cells": [
  {
   "cell_type": "markdown",
   "id": "665e8cea-5371-429f-aed8-f4dd98005c9c",
   "metadata": {},
   "source": [
    "## Tuplas"
   ]
  },
  {
   "cell_type": "markdown",
   "id": "39bdd13c-6ec8-43e4-99ae-4e8bbdccd74e",
   "metadata": {},
   "source": [
    "Muy similares a las listas con la diferencia que son inmutables, pueden ser alfanuméricas y sí se pueden ordenar.\n",
    "\n",
    "Suelen usarse para pequeñas colecciones de datos que no van a cambiar a lo largo del programa como es el caso de las constantes.\n",
    "\n",
    "Si las listas se solían construir con \"[]\", las tuplas se suelen construir con \"()\""
   ]
  },
  {
   "cell_type": "code",
   "execution_count": 11,
   "id": "5c2cf441-bdda-4b55-88aa-f85dcad30a4a",
   "metadata": {},
   "outputs": [
    {
     "name": "stdout",
     "output_type": "stream",
     "text": [
      "(3, 'Texto')\n",
      "<class 'tuple'>\n"
     ]
    }
   ],
   "source": [
    "tupla_ejemplo = (3, \"Texto\")\n",
    "print(tupla_ejemplo) \n",
    "print(type(tupla_ejemplo))"
   ]
  },
  {
   "cell_type": "markdown",
   "id": "c04d7d86-c687-4c44-8881-ab347a091438",
   "metadata": {},
   "source": [
    "* Acceder a los elemntos de una Tupla"
   ]
  },
  {
   "cell_type": "code",
   "execution_count": 14,
   "id": "26701f32-b8b4-402b-bfbf-7e2e9491f852",
   "metadata": {},
   "outputs": [
    {
     "name": "stdout",
     "output_type": "stream",
     "text": [
      "El primer elemento es 3\n",
      "El segundo elemento es Texto\n"
     ]
    }
   ],
   "source": [
    "print(\"El primer elemento es\", tupla_ejemplo[0])\n",
    "print(\"El segundo elemento es\", tupla_ejemplo[1])"
   ]
  },
  {
   "cell_type": "markdown",
   "id": "048ce53e-c7ce-43f4-8a96-5d5d5d39f03d",
   "metadata": {},
   "source": [
    "Los paréntesis se usan para reordenar operaciones 5*(3+4), por lo que hay que añadir una coma cuando definamos una tupla con un único elemento, sino Python lo interpreta como un número"
   ]
  },
  {
   "cell_type": "code",
   "execution_count": 16,
   "id": "b69773c3-b183-4cda-85f6-ac32e70cf4b7",
   "metadata": {},
   "outputs": [
    {
     "name": "stdout",
     "output_type": "stream",
     "text": [
      "<class 'int'>\n",
      "<class 'tuple'>\n"
     ]
    }
   ],
   "source": [
    "mala_tupla = (24)\n",
    "print(type(mala_tupla))\n",
    "buena_tupla = (24,)\n",
    "print(type(buena_tupla))"
   ]
  },
  {
   "cell_type": "code",
   "execution_count": 17,
   "id": "44c44afb-1ed7-47d6-bdc7-02f540ab060a",
   "metadata": {},
   "outputs": [],
   "source": [
    "### Anidación de tuplas"
   ]
  },
  {
   "cell_type": "code",
   "execution_count": 20,
   "id": "636b23ce-a7f0-4582-958a-0b5cb7df76e3",
   "metadata": {},
   "outputs": [
    {
     "name": "stdout",
     "output_type": "stream",
     "text": [
      "(1, 2, 3, ('A', 'B', 'C'))\n",
      "4\n"
     ]
    }
   ],
   "source": [
    "tupla_anid = (1, 2, 3, (\"A\", \"B\", \"C\"))\n",
    "print(tupla_anid)\n",
    "print(len(tupla_anid))"
   ]
  },
  {
   "cell_type": "code",
   "execution_count": 27,
   "id": "af955a61-a573-412e-9d00-16dce1534bd4",
   "metadata": {},
   "outputs": [
    {
     "name": "stdout",
     "output_type": "stream",
     "text": [
      "3\n",
      "C\n"
     ]
    }
   ],
   "source": [
    "### Acceder a los elemwetos\n",
    "print(tupla_anid[2])\n",
    "\n",
    "### Acceder a los elemntos que se entuentran en la tupla dentro de la tupla\n",
    "\n",
    "print(tupla_anid[3][2])"
   ]
  },
  {
   "cell_type": "code",
   "execution_count": 29,
   "id": "71ec099d-2b77-41c2-982b-6a34fe41b7c1",
   "metadata": {},
   "outputs": [
    {
     "name": "stdout",
     "output_type": "stream",
     "text": [
      "1\n",
      "2\n",
      "3\n",
      "('A', 'B', 'C')\n"
     ]
    }
   ],
   "source": [
    "### Son Iterables como las listas\n",
    "\n",
    "for i in tupla_anid:\n",
    "    print(i)"
   ]
  },
  {
   "cell_type": "code",
   "execution_count": 30,
   "id": "7b3ab4bc-092c-4512-be83-eb548b88b133",
   "metadata": {},
   "outputs": [],
   "source": [
    "### Slicing "
   ]
  },
  {
   "cell_type": "code",
   "execution_count": 31,
   "id": "e9a235ec-2c0d-4a04-b03a-533aff397c49",
   "metadata": {},
   "outputs": [
    {
     "name": "stdout",
     "output_type": "stream",
     "text": [
      "(3, ('A', 'B', 'C'))\n"
     ]
    }
   ],
   "source": [
    "tupla_bis = tupla_anid [2:]\n",
    "print (tupla_bis)"
   ]
  },
  {
   "cell_type": "markdown",
   "id": "45bc020d-c06b-4d6a-8d45-476f02c8a119",
   "metadata": {},
   "source": [
    "## Errores en tuplas"
   ]
  },
  {
   "cell_type": "markdown",
   "id": "91dd66b6-3860-42ee-81fa-4feee899e499",
   "metadata": {},
   "source": [
    "Un error bastante común es intentar cambiar o mutar un elemnto cuando sabemos que esto no se puede hacer"
   ]
  },
  {
   "cell_type": "code",
   "execution_count": 32,
   "id": "2dcceb18-849a-4c6f-841c-58edcf181d7b",
   "metadata": {},
   "outputs": [
    {
     "ename": "TypeError",
     "evalue": "'tuple' object does not support item assignment",
     "output_type": "error",
     "traceback": [
      "\u001b[1;31m---------------------------------------------------------------------------\u001b[0m",
      "\u001b[1;31mTypeError\u001b[0m                                 Traceback (most recent call last)",
      "Cell \u001b[1;32mIn[32], line 2\u001b[0m\n\u001b[0;32m      1\u001b[0m tupla_error \u001b[38;5;241m=\u001b[39m (\u001b[38;5;241m1\u001b[39m, \u001b[38;5;241m2\u001b[39m, \u001b[38;5;241m3\u001b[39m, \u001b[38;5;241m4\u001b[39m, \u001b[38;5;241m5\u001b[39m, \u001b[38;5;241m6\u001b[39m)\n\u001b[1;32m----> 2\u001b[0m \u001b[43mtupla_error\u001b[49m\u001b[43m[\u001b[49m\u001b[38;5;241;43m2\u001b[39;49m\u001b[43m]\u001b[49m \u001b[38;5;241m=\u001b[39m \u001b[38;5;241m23\u001b[39m\n",
      "\u001b[1;31mTypeError\u001b[0m: 'tuple' object does not support item assignment"
     ]
    }
   ],
   "source": [
    "tupla_error = (1, 2, 3, 4, 5, 6)\n",
    "tupla_error[2] = 23"
   ]
  },
  {
   "cell_type": "markdown",
   "id": "59889ddb-0c55-4063-a727-0fb5ec34ddb5",
   "metadata": {},
   "source": [
    "Si queremos añadir elementos, podemos meterlos en una tupla y sumarlos para construir una tupla nueva, pero ojo que no se modifican las tuplas originales, ser crea una nueva Tupla"
   ]
  },
  {
   "cell_type": "code",
   "execution_count": 35,
   "id": "54c4a0ce-ff76-4e0a-be0f-4d4dda858b94",
   "metadata": {},
   "outputs": [
    {
     "name": "stdout",
     "output_type": "stream",
     "text": [
      "(1, 2, 3, 4, 5, 6)\n",
      "(1, 2, 3, 4, 5, 6)\n",
      "(1, 2, 3, 4, 5, 6)\n"
     ]
    }
   ],
   "source": [
    "tupla_1 = (1,2,3)\n",
    "tupla_2 = (4,5,6)\n",
    "print(tupla_1 + tupla_2)\n",
    "tupla_3 = (tupla_1 + tupla_2)\n",
    "tupla_1= tupla_3 = (tupla_1 + tupla_2)\n",
    "\n",
    "print (tupla_3)\n",
    "print (tupla_1)"
   ]
  },
  {
   "cell_type": "markdown",
   "id": "5d811dbd-812e-4e5b-bb37-c41e598d61f5",
   "metadata": {},
   "source": [
    "### Listas y Tuplas"
   ]
  },
  {
   "cell_type": "markdown",
   "id": "75c19e58-273c-4739-ba46-85f97f30b234",
   "metadata": {},
   "source": [
    "Podemos combinar listas y tuplas siempre y cuando se respeten las propiedades de cada tipo de dato"
   ]
  },
  {
   "cell_type": "code",
   "execution_count": 41,
   "id": "0c1d45d6-7636-4eb7-a6c1-5abeddb645a4",
   "metadata": {},
   "outputs": [
    {
     "name": "stdout",
     "output_type": "stream",
     "text": [
      "['Fresas', ('Naranjas', 'Limones'), 'Kiwis'] <class 'list'>\n",
      "('Fresas', ['Naranjas', 'Limones'], 'Kiwis') <class 'tuple'>\n"
     ]
    }
   ],
   "source": [
    "lista = [\"Fresas\", (\"Naranjas\",\"Limones\"),\"Kiwis\"]\n",
    "tupla_lista = (\"Fresas\",[\"Naranjas\" , \"Limones\"],\"Kiwis\")\n",
    "print(lista, type(lista))\n",
    "print(tupla_lista, type(tupla_lista))\n",
    "\n"
   ]
  }
 ],
 "metadata": {
  "kernelspec": {
   "display_name": "Python 3 (ipykernel)",
   "language": "python",
   "name": "python3"
  },
  "language_info": {
   "codemirror_mode": {
    "name": "ipython",
    "version": 3
   },
   "file_extension": ".py",
   "mimetype": "text/x-python",
   "name": "python",
   "nbconvert_exporter": "python",
   "pygments_lexer": "ipython3",
   "version": "3.12.1"
  }
 },
 "nbformat": 4,
 "nbformat_minor": 5
}
