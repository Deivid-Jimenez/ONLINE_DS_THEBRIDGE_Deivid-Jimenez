{
 "cells": [
  {
   "cell_type": "markdown",
   "id": "a2409fbe-e745-4ea0-b733-5f2b39dbb780",
   "metadata": {},
   "source": [
    "## Sets"
   ]
  },
  {
   "cell_type": "markdown",
   "id": "26df2185-f5f2-4c87-8eea-e6abd6495b10",
   "metadata": {},
   "source": [
    "Compuesta por un conjunto de valores, muy parecido a las listas. Tienen las siguientes características:\n",
    "\n",
    "* Mutables  : Podemos modificarlos una vez se hayan creado\n",
    "* No ordenado:\n",
    "* Elmentos únicos: Se compone de un conjunto de valores únicos\n",
    "\n",
    "Los usamos generalmente cuando busquemos unicidad en nuestros datos y no nos importe el orden. Solo se imprimen los valores únicos, son los que tiene en consideración."
   ]
  },
  {
   "cell_type": "code",
   "execution_count": 3,
   "id": "f65f1a6b-51a7-4e6b-a5f3-b88edcb3c118",
   "metadata": {},
   "outputs": [
    {
     "name": "stdout",
     "output_type": "stream",
     "text": [
      "{'verde', 'naranja', 'azul', 'rojo'} <class 'set'>\n",
      "4\n"
     ]
    }
   ],
   "source": [
    "colores = {\"azul\", \"rojo\", \"verde\", \"naranja\", \"azul\",\"verde\"}\n",
    "print(colores, type(colores))\n",
    "print (len(colores))\n"
   ]
  },
  {
   "cell_type": "markdown",
   "id": "d88f5e33-13f3-4c14-97d4-591864b1aa32",
   "metadata": {},
   "source": [
    "### Añadir elemntos"
   ]
  },
  {
   "cell_type": "code",
   "execution_count": 6,
   "id": "c0e93a59-540e-4ae5-a0bc-9d4f4558c37e",
   "metadata": {},
   "outputs": [
    {
     "name": "stdout",
     "output_type": "stream",
     "text": [
      "{'verde', 'azul', 'magenta', 'naranja', 'rojo'} <class 'set'>\n"
     ]
    }
   ],
   "source": [
    "colores.add(\"magenta\")\n",
    "print(colores, type(colores))"
   ]
  },
  {
   "cell_type": "code",
   "execution_count": 12,
   "id": "5bb057d1-3753-461c-be81-3e46233f5ef0",
   "metadata": {},
   "outputs": [
    {
     "name": "stdout",
     "output_type": "stream",
     "text": [
      "{'verde', 'burdeos', 'azul', 'celeste', 'magenta', 'naranja', 'rojo'}\n"
     ]
    }
   ],
   "source": [
    "## Añadir una lista de colores\n",
    "\n",
    "colores.update([\"celeste\", \"burdeos\", \"naranja\"])\n",
    "print(colores)"
   ]
  },
  {
   "cell_type": "code",
   "execution_count": 13,
   "id": "9cb35c60-7c24-44f5-bec8-4488f008fda8",
   "metadata": {},
   "outputs": [
    {
     "name": "stdout",
     "output_type": "stream",
     "text": [
      "{'verde', 'burdeos', 'azul', 'celeste', 'magenta', 'rojo'}\n"
     ]
    }
   ],
   "source": [
    "### Quitar elementos\n",
    "\n",
    "colores.remove(\"naranja\")\n",
    "print(colores)"
   ]
  },
  {
   "cell_type": "code",
   "execution_count": 14,
   "id": "fa3d5d19-2f58-42bf-83d8-302a08c3bb24",
   "metadata": {},
   "outputs": [
    {
     "name": "stdout",
     "output_type": "stream",
     "text": [
      "verde\n",
      "burdeos\n",
      "azul\n",
      "celeste\n",
      "magenta\n",
      "rojo\n"
     ]
    }
   ],
   "source": [
    "for color in colores:\n",
    "    print(color)"
   ]
  },
  {
   "cell_type": "code",
   "execution_count": 16,
   "id": "a6ec1064-eb55-4b5c-bead-4617f2b32362",
   "metadata": {},
   "outputs": [],
   "source": [
    "### Comprobar si dos sets tienen los mismos elementos"
   ]
  },
  {
   "cell_type": "code",
   "execution_count": 18,
   "id": "1e66f005-bd22-4f09-9e92-2df7942d79a4",
   "metadata": {},
   "outputs": [
    {
     "data": {
      "text/plain": [
       "True"
      ]
     },
     "execution_count": 18,
     "metadata": {},
     "output_type": "execute_result"
    }
   ],
   "source": [
    "set1={1,2,4,4,2,1,2,1}\n",
    "set2={2,1,4}\n",
    "\n",
    "set1==set2"
   ]
  },
  {
   "cell_type": "code",
   "execution_count": 23,
   "id": "ad239c9f-c489-4686-9799-db8bb7498444",
   "metadata": {},
   "outputs": [
    {
     "name": "stdout",
     "output_type": "stream",
     "text": [
      "{32, 100, 10, 45, 15, 23}\n",
      "[32, 100, 10, 45, 15, 23]\n",
      "[32, 100, 10, 45, 15, 23]\n"
     ]
    }
   ],
   "source": [
    "### Quitar duplicados de las listas\n",
    "\n",
    "duplicados = [100,10,23,23,15,32,45,10,100,23]\n",
    "print(set(duplicados))\n",
    "print(list(set(duplicados)))\n",
    "list_sinduplicados= (list(set(duplicados)))\n",
    "print(list_sinduplicados)"
   ]
  }
 ],
 "metadata": {
  "kernelspec": {
   "display_name": "Python 3 (ipykernel)",
   "language": "python",
   "name": "python3"
  },
  "language_info": {
   "codemirror_mode": {
    "name": "ipython",
    "version": 3
   },
   "file_extension": ".py",
   "mimetype": "text/x-python",
   "name": "python",
   "nbconvert_exporter": "python",
   "pygments_lexer": "ipython3",
   "version": "3.12.1"
  }
 },
 "nbformat": 4,
 "nbformat_minor": 5
}
