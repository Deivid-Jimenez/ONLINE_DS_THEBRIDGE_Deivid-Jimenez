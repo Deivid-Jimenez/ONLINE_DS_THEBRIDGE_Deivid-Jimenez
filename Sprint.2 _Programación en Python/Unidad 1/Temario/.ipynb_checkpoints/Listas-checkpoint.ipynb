{
 "cells": [
  {
   "cell_type": "markdown",
   "id": "8a5090ae-d5a7-4a93-92c8-7767ae6f9cb0",
   "metadata": {},
   "source": [
    "## Python Colecciones: Listas"
   ]
  },
  {
   "cell_type": "markdown",
   "id": "0f29291b-0dfb-440f-ae61-800d9c73bf47",
   "metadata": {},
   "source": [
    "Son maneras de agrupar varios elementos"
   ]
  },
  {
   "cell_type": "code",
   "execution_count": 2,
   "id": "f160882b-c553-4834-916f-1e2b8cab4b6b",
   "metadata": {},
   "outputs": [],
   "source": [
    "### Listas de números, strings, booleanos, con elemntos repetidos, listas anidadas"
   ]
  },
  {
   "cell_type": "code",
   "execution_count": 3,
   "id": "eddd7f3a-57de-4a87-b54a-07732167aba8",
   "metadata": {},
   "outputs": [],
   "source": [
    "nums = [6, 2, 8, 3, 4, 5]\n",
    "months = [\"Enero\", \"Febrero\", \"Marzo\"]\n",
    "mix = [5, 7, \"Abril\", True, None, [\"Blanco\",\"Negro\"]]"
   ]
  },
  {
   "cell_type": "markdown",
   "id": "ee30757a-b1fc-4f98-be35-b0a98526e475",
   "metadata": {},
   "source": [
    "### Acceso"
   ]
  },
  {
   "cell_type": "markdown",
   "id": "020ad6d9-1fa4-4ec0-b903-14292e05782a",
   "metadata": {},
   "source": [
    "Al indice: Entre corchetes introducimos el índice del elemento al que queremos acceder"
   ]
  },
  {
   "cell_type": "code",
   "execution_count": 4,
   "id": "785cc6be-b3b4-4f22-8803-b109cd013b87",
   "metadata": {},
   "outputs": [
    {
     "name": "stdout",
     "output_type": "stream",
     "text": [
      "Enero\n"
     ]
    }
   ],
   "source": [
    "print(months[0])"
   ]
  },
  {
   "cell_type": "markdown",
   "id": "eb1f7143-b6cb-47f3-895b-1ab4875974d5",
   "metadata": {},
   "source": [
    "Al elemento específico:"
   ]
  },
  {
   "cell_type": "code",
   "execution_count": 6,
   "id": "c31aa783-5b09-44bf-a951-a9fddcc0923b",
   "metadata": {},
   "outputs": [
    {
     "name": "stdout",
     "output_type": "stream",
     "text": [
      "0\n",
      "2\n"
     ]
    }
   ],
   "source": [
    "print(months.index(\"Enero\"))\n",
    "print(months.index(\"Marzo\"))"
   ]
  },
  {
   "cell_type": "markdown",
   "id": "9cc4ae89-4e1e-41ae-89bb-758f6465898d",
   "metadata": {},
   "source": [
    "Slicing: usamos slicing para acceder a varios elemntos seguidos de la lista"
   ]
  },
  {
   "cell_type": "code",
   "execution_count": 19,
   "id": "54195dfe-c863-464b-a85b-ce04fb479543",
   "metadata": {},
   "outputs": [
    {
     "name": "stdout",
     "output_type": "stream",
     "text": [
      "[15, 32]\n",
      "[15, 32, 18, 45]\n",
      "[15, 32, 18, 45]\n"
     ]
    }
   ],
   "source": [
    "degrees=[22, 15, 32, 18, 45]\n",
    "sub_degrees = degrees[1:3] ## No se incluye el último indice sino el anterior\n",
    "print(sub_degrees)\n",
    "\n",
    "### También podemos usar la funcion len si queremos que tome hasta el último elemento\n",
    "sub_degrees_alt = degrees[1:len(degrees)]\n",
    "sub_degrees_alt_2 = degrees[1:]\n",
    "print (sub_degrees_alt)\n",
    "print (sub_degrees_alt_2)"
   ]
  },
  {
   "cell_type": "markdown",
   "id": "7154633e-860b-447b-8095-82691af2b774",
   "metadata": {
    "jp-MarkdownHeadingCollapsed": true
   },
   "source": [
    "### Modificar elementos"
   ]
  },
  {
   "cell_type": "code",
   "execution_count": 20,
   "id": "c279d3d4-3e2e-4489-b2e5-8383546f70e4",
   "metadata": {},
   "outputs": [
    {
     "name": "stdout",
     "output_type": "stream",
     "text": [
      "['Enero', 'Abril', 'Marzo']\n"
     ]
    }
   ],
   "source": [
    "### Accediendo mediante el índice\n",
    "\n",
    "months = [\"Enero\", \"Febrero\", \"Marzo\"]\n",
    "months[1] = \"Abril\"\n",
    "print (months)"
   ]
  },
  {
   "cell_type": "markdown",
   "id": "c1b8e916-3c58-4be3-8806-ae85801051a7",
   "metadata": {},
   "source": [
    "### Añadir elementos"
   ]
  },
  {
   "cell_type": "markdown",
   "id": "d2aeb0a6-a8d1-4255-9199-d02f630985da",
   "metadata": {},
   "source": [
    "Se añade  al final de  una lista si usamos append, o si queremos un lugar concreto usamos insert"
   ]
  },
  {
   "cell_type": "code",
   "execution_count": 25,
   "id": "38601d0a-f7b4-4b52-8a75-10fc987415b0",
   "metadata": {},
   "outputs": [
    {
     "name": "stdout",
     "output_type": "stream",
     "text": [
      "['Enero', 'Febrero', 'Marzo', 'Diciembre']\n",
      "['Enero', 'Febrero', 'Noviembre', 'Marzo', 'Diciembre']\n"
     ]
    }
   ],
   "source": [
    "### Append\n",
    "\n",
    "months = [\"Enero\",\"Febrero\", \"Marzo\"]\n",
    "months.append(\"Diciembre\")\n",
    "print(months)\n",
    "\n",
    "### Insert\n",
    "\n",
    "months.insert(2,\"Noviembre\")\n",
    "print(months)"
   ]
  },
  {
   "cell_type": "code",
   "execution_count": null,
   "id": "bc73579c-4397-4289-b994-d97e2777191f",
   "metadata": {},
   "outputs": [],
   "source": [
    "Es muy común crear una lista vacía y a lo largo programarla para que se vayan agregando elemntos de manera automática."
   ]
  },
  {
   "cell_type": "code",
   "execution_count": 28,
   "id": "06b6f708-3314-43a9-88a3-0602ea2bfbbb",
   "metadata": {},
   "outputs": [
    {
     "name": "stdout",
     "output_type": "stream",
     "text": [
      "['Enero', 'Abril']\n"
     ]
    }
   ],
   "source": [
    "lista_meses= []\n",
    "lista_meses.append(\"Enero\")\n",
    "lista_meses.insert(3, \"Abril\")\n",
    "print(lista_meses)"
   ]
  },
  {
   "cell_type": "markdown",
   "id": "464725da-4bc2-45d8-9d9e-486eca7f1e6a",
   "metadata": {},
   "source": [
    "### Eliminación de elementos"
   ]
  },
  {
   "cell_type": "markdown",
   "id": "09606be4-1f6e-4499-9205-3aeb62064750",
   "metadata": {},
   "source": [
    "Para eliminar elemntos podemos usar dos métodos: remove o pop, remove nos permite eliminar un elemento por VALOR y pop por INDICE. Pop nos permite capturar el elemnto y guardarlo para posteriroes usos"
   ]
  },
  {
   "cell_type": "code",
   "execution_count": 38,
   "id": "d268c42b-8f03-433a-b4b6-7e72b11399fa",
   "metadata": {},
   "outputs": [
    {
     "name": "stdout",
     "output_type": "stream",
     "text": [
      "['BMW', 'Audi', 'Mercedes']\n",
      "Audi\n",
      "['BMW', 'Mercedes']\n"
     ]
    }
   ],
   "source": [
    "cars = [\"Volkswagen\", \"BMW\", \"Audi\", \"Mercedes\"]\n",
    "cars.remove (\"Volkswagen\")\n",
    "print(cars)\n",
    "\n",
    "eliminado = cars.pop(1)\n",
    "print(eliminado)\n",
    "print (cars)"
   ]
  },
  {
   "cell_type": "markdown",
   "id": "29dd8cdb-5072-4242-b732-43c859c316cf",
   "metadata": {},
   "source": [
    "### Métodos: Ordenar, tamaño, invertir orden, ocurrencia"
   ]
  },
  {
   "cell_type": "code",
   "execution_count": 46,
   "id": "e49250d6-52ab-4d6a-9dee-a2bfd8ee9378",
   "metadata": {},
   "outputs": [
    {
     "name": "stdout",
     "output_type": "stream",
     "text": [
      "[15, 18, 22, 22, 26, 34]\n",
      "[34, 26, 22, 22, 18, 15]\n",
      "6\n",
      "[15, 18, 22, 22, 26, 34]\n",
      "2\n"
     ]
    }
   ],
   "source": [
    "degrees = [22, 34, 15, 26, 18, 22]\n",
    "\n",
    "##Ordenar\n",
    "\n",
    "degrees.sort()\n",
    "print(degrees)\n",
    "degrees.sort(reverse=True)\n",
    "print(degrees)\n",
    "\n",
    "## Contar el número de elementos\n",
    "\n",
    "print(len(degrees))\n",
    "\n",
    "## Invertir la lista\n",
    "\n",
    "degrees.reverse()\n",
    "print(degrees)\n",
    "\n",
    "#Ocurrencia de un elemento: imprime la cantidad de veces que aparece ese elemnto en la lista\n",
    "\n",
    "print(degrees.count(22))"
   ]
  },
  {
   "cell_type": "markdown",
   "id": "6de0c0e7-83e0-4dab-82cb-930d08010867",
   "metadata": {},
   "source": [
    "### Errores\n",
    "\n",
    "Algunos errores suelen ser que le pasamos por índice algún elemnto que se encuentra por fuera del rango, parra saber la cantidad de elemntos que tenemos en la lista y evitar este tipo de errores podemos unsar la función len"
   ]
  },
  {
   "cell_type": "code",
   "execution_count": 51,
   "id": "dc20ae81-296f-4373-9ba2-c8303edb7e4a",
   "metadata": {},
   "outputs": [
    {
     "name": "stdout",
     "output_type": "stream",
     "text": [
      "34\n"
     ]
    }
   ],
   "source": [
    "ultimo_elemento = degrees[len(degrees)-1]\n",
    "print(ultimo_elemento)"
   ]
  }
 ],
 "metadata": {
  "kernelspec": {
   "display_name": "Python 3 (ipykernel)",
   "language": "python",
   "name": "python3"
  },
  "language_info": {
   "codemirror_mode": {
    "name": "ipython",
    "version": 3
   },
   "file_extension": ".py",
   "mimetype": "text/x-python",
   "name": "python",
   "nbconvert_exporter": "python",
   "pygments_lexer": "ipython3",
   "version": "3.12.1"
  }
 },
 "nbformat": 4,
 "nbformat_minor": 5
}
