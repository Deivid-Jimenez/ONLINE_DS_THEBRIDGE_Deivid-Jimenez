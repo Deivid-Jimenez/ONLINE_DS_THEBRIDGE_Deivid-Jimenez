{
 "cells": [
  {
   "cell_type": "markdown",
   "id": "fb566536-2d65-47b9-9f63-e77dbef906c8",
   "metadata": {},
   "source": [
    "### Funciones"
   ]
  },
  {
   "cell_type": "markdown",
   "id": "2a605e20-6e9a-46dd-9e55-5b855ac67407",
   "metadata": {},
   "source": [
    "Se trata de  bloques de código que encapsulan una serie de operaciones. Se usan para modular nuestro codigo y evitar escribir codigo de mas.\n",
    "\n",
    "Se usan cuando tenemos varias operaciones que ejecutamos repetitivamente en distintas partes del código."
   ]
  },
  {
   "cell_type": "markdown",
   "id": "bebd7d3b-c279-4e8e-b46f-6050397ed6ef",
   "metadata": {},
   "source": [
    "### Sintaxis "
   ]
  },
  {
   "cell_type": "code",
   "execution_count": 25,
   "id": "8a932e2a-1c4a-4882-b50c-0193470ee514",
   "metadata": {},
   "outputs": [
    {
     "name": "stdout",
     "output_type": "stream",
     "text": [
      "[1475.0, 1475.46, 2342000]\n",
      "<class 'list'>\n"
     ]
    }
   ],
   "source": [
    "### Vamos a crear un conversor de kms a millas\n",
    "def conversor_kms_millas(distancia):\n",
    "    millas = 0.63 * distancia\n",
    "    metros = 1000 * distancia\n",
    "    return [round(millas,0), millas,metros]\n",
    "### Ahora definida la función, puedo usarla en cualquier parte del código\n",
    "salida = conversor_kms_millas(2342)\n",
    "print(salida)\n",
    "print(type(salida))"
   ]
  },
  {
   "cell_type": "code",
   "execution_count": 6,
   "id": "f21bb120-f6e4-465c-8da1-a4643a82d28b",
   "metadata": {},
   "outputs": [
    {
     "name": "stdout",
     "output_type": "stream",
     "text": [
      "126.0\n"
     ]
    }
   ],
   "source": [
    "millas = conversor_kms_millas(200)\n",
    "print(millas)"
   ]
  },
  {
   "cell_type": "code",
   "execution_count": 20,
   "id": "afa40988-5ca0-45e2-b993-4c879e896d73",
   "metadata": {},
   "outputs": [
    {
     "name": "stdout",
     "output_type": "stream",
     "text": [
      "19:49:56.260881\n"
     ]
    }
   ],
   "source": [
    "from datetime import datetime\n",
    "def que_hora_es():\n",
    "    now = datetime.now().time()\n",
    "    return now\n",
    "\n",
    "print(que_hora_es())"
   ]
  },
  {
   "cell_type": "code",
   "execution_count": 22,
   "id": "2dc8d701-3b2c-4ff6-bf6c-b35c5b907424",
   "metadata": {},
   "outputs": [
    {
     "name": "stdout",
     "output_type": "stream",
     "text": [
      "19:59:06.850541\n",
      "<class 'function'>\n"
     ]
    }
   ],
   "source": [
    "from datetime import datetime\n",
    "def que_hora_es():\n",
    "    now = datetime.now().time()\n",
    "    print(now)\n",
    "\n",
    "\n",
    "que_hora_es()\n",
    "print(type(que_hora_es))"
   ]
  },
  {
   "cell_type": "markdown",
   "id": "c34ac4dd-f94d-441a-be02-76a1a2852169",
   "metadata": {},
   "source": [
    "Cuando definimos una función no es 100% necesario definir el return, como hemos visto en la última ejecución podemos poner el print directamente, cuando esto pasa el tipo de objeto se definiría como none"
   ]
  },
  {
   "cell_type": "markdown",
   "id": "8c088e79-5028-4107-9fc8-ced70efa0f99",
   "metadata": {},
   "source": [
    "### Tipos de argumentos"
   ]
  },
  {
   "cell_type": "markdown",
   "id": "d2072d33-2c1f-4453-89ed-77a5d61a7544",
   "metadata": {},
   "source": [
    "Puede recibir cualquier tipo de argumentos: números, texto, listas, diccionarios, etc."
   ]
  },
  {
   "cell_type": "code",
   "execution_count": 29,
   "id": "d9a1f4c6-43c1-42d4-88a5-4d1954b917ba",
   "metadata": {},
   "outputs": [],
   "source": [
    "def recibe_mix(tupla, lista, diccionario):\n",
    "    print(\"tupla contiene:\")\n",
    "    print(tupla)\n",
    "    print(\"y es de tipo\",type(tupla))\n",
    "    print(\"lista contiene:\")\n",
    "    print(lista)\n",
    "    print(\"y es de tipo\",type(lista))\n",
    "    print(\"diccionario contiene:\")\n",
    "    print(diccionario)\n",
    "    print(\"y es de tipo\",type(diccionario))\n",
    "    return [type(tupla),type(lista),type(diccionario)]"
   ]
  },
  {
   "cell_type": "code",
   "execution_count": 33,
   "id": "e2d6bf30-4ca6-47a1-bbd7-c7e6fc7fd358",
   "metadata": {},
   "outputs": [
    {
     "name": "stdout",
     "output_type": "stream",
     "text": [
      "tupla contiene:\n",
      "(12, 34, 23)\n",
      "y es de tipo <class 'tuple'>\n",
      "lista contiene:\n",
      "['Esto', 'es', 'una', 'lista']\n",
      "y es de tipo <class 'list'>\n",
      "diccionario contiene:\n",
      "{'key1': 'value1'}\n",
      "y es de tipo <class 'dict'>\n"
     ]
    },
    {
     "data": {
      "text/plain": [
       "[tuple, list, dict]"
      ]
     },
     "execution_count": 33,
     "metadata": {},
     "output_type": "execute_result"
    }
   ],
   "source": [
    "recibe_mix((12,34,23), [\"Esto\",\"es\",\"una\",\"lista\"],{\"key1\":\"value1\"})"
   ]
  },
  {
   "cell_type": "code",
   "execution_count": 32,
   "id": "d2240f58-1c59-4875-bc5f-fd7bde5458d1",
   "metadata": {},
   "outputs": [
    {
     "name": "stdout",
     "output_type": "stream",
     "text": [
      "tupla contiene:\n",
      "1\n",
      "y es de tipo <class 'int'>\n",
      "lista contiene:\n",
      "Hola\n",
      "y es de tipo <class 'str'>\n",
      "diccionario contiene:\n",
      "True\n",
      "y es de tipo <class 'bool'>\n"
     ]
    },
    {
     "data": {
      "text/plain": [
       "[int, str, bool]"
      ]
     },
     "execution_count": 32,
     "metadata": {},
     "output_type": "execute_result"
    }
   ],
   "source": [
    "recibe_mix(1, \"Hola\", True)"
   ]
  },
  {
   "cell_type": "markdown",
   "id": "ae76f7b2-df86-48f7-97b3-8e53786bfc8a",
   "metadata": {},
   "source": [
    "## Errores típicos ##"
   ]
  },
  {
   "cell_type": "markdown",
   "id": "d9cd42f7-5967-49a3-832b-3ee1b2a70b1b",
   "metadata": {},
   "source": [
    "Todo lo que  declaremos dentro  de la función se crea ÚNICAMENTE dentro de la función \\\n",
    "Fuera de la misma esas  **variables no existen** "
   ]
  },
  {
   "cell_type": "code",
   "execution_count": null,
   "id": "87968015-2145-4179-a30d-e4d82fdf76c2",
   "metadata": {},
   "outputs": [],
   "source": []
  }
 ],
 "metadata": {
  "kernelspec": {
   "display_name": "Python 3 (ipykernel)",
   "language": "python",
   "name": "python3"
  },
  "language_info": {
   "codemirror_mode": {
    "name": "ipython",
    "version": 3
   },
   "file_extension": ".py",
   "mimetype": "text/x-python",
   "name": "python",
   "nbconvert_exporter": "python",
   "pygments_lexer": "ipython3",
   "version": "3.12.1"
  }
 },
 "nbformat": 4,
 "nbformat_minor": 5
}
