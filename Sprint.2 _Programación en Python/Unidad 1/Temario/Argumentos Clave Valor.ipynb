{
 "cells": [
  {
   "cell_type": "markdown",
   "id": "ad8f1886-2313-4b44-b87e-1fdddedefba7",
   "metadata": {},
   "source": [
    "### Argumentos clave valor"
   ]
  },
  {
   "cell_type": "markdown",
   "id": "ab317e0f-8780-4171-9aae-6f21ee3620f7",
   "metadata": {},
   "source": [
    "Tenemos al opción de introducir un diccionario como argumentos, de esta forma, tendremos un indicador y el valor de cada clave.\n",
    "\n",
    "Se implementa con **"
   ]
  },
  {
   "cell_type": "code",
   "execution_count": 3,
   "id": "12107788-34d3-46a4-a386-86bd8b2fe99c",
   "metadata": {},
   "outputs": [
    {
     "name": "stdout",
     "output_type": "stream",
     "text": [
      "<class 'dict'>\n",
      "{'modelo': 's20', 'marca': 'Samsung', 'camara': '24mpx'}\n"
     ]
    }
   ],
   "source": [
    "def insertar_movil_bd (**clave_valor):\n",
    "    print (type(clave_valor))\n",
    "    print (clave_valor)\n",
    "insertar_movil_bd (modelo=\"s20\", marca=\"Samsung\", camara = \"24mpx\")"
   ]
  },
  {
   "cell_type": "code",
   "execution_count": 5,
   "id": "9478682e-436b-499f-9dcf-c824f657214f",
   "metadata": {},
   "outputs": [
    {
     "name": "stdout",
     "output_type": "stream",
     "text": [
      "modelo : s20\n",
      "marca : Samsung\n",
      "camara : 24mpx\n",
      "flip : True\n"
     ]
    }
   ],
   "source": [
    "def insertar_movil_bd (**kwargs):\n",
    "    for clave, valor in kwargs.items():\n",
    "        ###insertar(clave, valor)\n",
    "        print(clave, \":\", valor)\n",
    "insertar_movil_bd(modelo=\"s20\", marca=\"Samsung\", camara = \"24mpx\", flip = True)"
   ]
  },
  {
   "cell_type": "code",
   "execution_count": null,
   "id": "95557df6-b4f4-4455-81ac-84a3fc903b9b",
   "metadata": {},
   "outputs": [],
   "source": [
    "### Combinar ***Args con ***kwargs"
   ]
  },
  {
   "cell_type": "code",
   "execution_count": 14,
   "id": "6707d5f7-20ab-4322-8585-6f99b2fa0898",
   "metadata": {},
   "outputs": [
    {
     "name": "stdout",
     "output_type": "stream",
     "text": [
      "<class 'tuple'>\n",
      "Es muy bueno\n",
      "no dura lo suficiente la batería\n",
      "<class 'dict'>\n",
      "modelo s20\n",
      "marca Samsung\n",
      "camara 24mpx\n",
      "flip True\n"
     ]
    }
   ],
   "source": [
    "def insertar_movil(*args, **kwargs):\n",
    "    print(type (args))\n",
    "    for i in args:\n",
    "        print (i)\n",
    "\n",
    "    print(type(kwargs))\n",
    "    for clave,valor in kwargs.items():\n",
    "        print(clave,valor)\n",
    "\n",
    "insertar_movil(\"Es muy bueno\", \"no dura lo suficiente la batería\",\\\n",
    "               modelo=\"s20\", marca=\"Samsung\", camara = \"24mpx\", flip = True)\n",
    "    "
   ]
  },
  {
   "cell_type": "markdown",
   "id": "6c418c08-6b9e-4cb6-88d5-8f101519c71c",
   "metadata": {},
   "source": [
    " **No se pueden poner los kwargs antes que los args**"
   ]
  },
  {
   "cell_type": "markdown",
   "id": "37c7b066-910b-40a5-ac6e-68020fca7e56",
   "metadata": {},
   "source": [
    "### Argumentos keyword"
   ]
  },
  {
   "cell_type": "markdown",
   "id": "647e443d-56cd-4dbb-946f-b0d08e8eee75",
   "metadata": {},
   "source": [
    "Se caracterizan porque llevan un valor por defecto, y por tanto, si no usamos dicho argumento en la llamada,\\\n",
    "dentro de la función tomará el valor que hayamos dejado por defecto"
   ]
  },
  {
   "cell_type": "code",
   "execution_count": 17,
   "id": "ee40c274-e070-4a8f-96bb-9f4a199b2254",
   "metadata": {},
   "outputs": [
    {
     "data": {
      "text/plain": [
       "12.3"
      ]
     },
     "execution_count": 17,
     "metadata": {},
     "output_type": "execute_result"
    }
   ],
   "source": [
    "round (12.3, ndigits=2)"
   ]
  },
  {
   "cell_type": "code",
   "execution_count": 18,
   "id": "081d42c3-5f79-42af-afb9-dc6cd7d75cae",
   "metadata": {},
   "outputs": [
    {
     "data": {
      "text/plain": [
       "[54, 24, 12, 12, 3]"
      ]
     },
     "execution_count": 18,
     "metadata": {},
     "output_type": "execute_result"
    }
   ],
   "source": [
    "sorted([12,3,24,54,12],reverse = True)"
   ]
  },
  {
   "cell_type": "code",
   "execution_count": 25,
   "id": "322016e3-633b-4ae7-ac71-099f4d6e96ce",
   "metadata": {},
   "outputs": [
    {
     "name": "stdout",
     "output_type": "stream",
     "text": [
      "su pedido Televisión LG se entregará el 12/12/2023\n",
      "pongase ne contacto con AC\n",
      "su pedido iMac se entregará el 23/12/2024\n"
     ]
    }
   ],
   "source": [
    "def pedido (pedido, fecha, incidencia= False):\n",
    "    if incidencia == True:\n",
    "        print (\"pongase ne contacto con AC\")\n",
    "    print(\"su pedido\", pedido, \"se entregará el\",fecha)\n",
    "\n",
    "pedido(\"Televisión LG\", \"12/12/2023\")\n",
    "pedido(\"iMac\", \"23/12/2024\", incidencia =True)"
   ]
  }
 ],
 "metadata": {
  "kernelspec": {
   "display_name": "Python 3 (ipykernel)",
   "language": "python",
   "name": "python3"
  },
  "language_info": {
   "codemirror_mode": {
    "name": "ipython",
    "version": 3
   },
   "file_extension": ".py",
   "mimetype": "text/x-python",
   "name": "python",
   "nbconvert_exporter": "python",
   "pygments_lexer": "ipython3",
   "version": "3.12.1"
  }
 },
 "nbformat": 4,
 "nbformat_minor": 5
}
