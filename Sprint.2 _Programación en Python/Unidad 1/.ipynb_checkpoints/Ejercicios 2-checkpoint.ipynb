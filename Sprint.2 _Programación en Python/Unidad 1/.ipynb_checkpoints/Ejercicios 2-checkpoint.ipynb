{
 "cells": [
  {
   "cell_type": "markdown",
   "id": "19d16da5-041a-4af0-bb45-465e083f6a84",
   "metadata": {},
   "source": [
    "### Ejercicio 1"
   ]
  },
  {
   "cell_type": "markdown",
   "id": "918d6c49-9852-436d-b5f0-bc6c86676c33",
   "metadata": {},
   "source": [
    "Convierte la siguiente tupla en un diccionario\n",
    "\n",
    "ejer_1 = [(\"x\", 1), (\"x\", 2), (\"x\", 3), (\"y\", 1), (\"y\", 2), (\"z\", 1)]\n",
    "\n",
    "TIP: Puedes usar dos variables de control en un bucle for. Una por cada valor de las tuplas."
   ]
  },
  {
   "cell_type": "code",
   "execution_count": 1,
   "id": "b4d09248-2dea-418a-89b5-1e5551c1d2fb",
   "metadata": {},
   "outputs": [
    {
     "name": "stdout",
     "output_type": "stream",
     "text": [
      "{'x': [1, 2, 3], 'y': [1, 2], 'z': [1]}\n"
     ]
    }
   ],
   "source": [
    "eje_1 = [(\"x\", 1), (\"x\", 2), (\"x\", 3), (\"y\", 1), (\"y\", 2), (\"z\", 1)]\n",
    "\n",
    "diccionario = {}\n",
    "\n",
    "for clave, valor in eje_1:\n",
    "    if clave in diccionario:\n",
    "        diccionario[clave].append(valor)\n",
    "    else:\n",
    "        diccionario[clave] = [valor]\n",
    "\n",
    "print(diccionario)"
   ]
  },
  {
   "cell_type": "markdown",
   "id": "cf01db9d-60e8-40ef-80f0-eba3c59e00f8",
   "metadata": {},
   "source": [
    "### Ejercicio 2"
   ]
  },
  {
   "cell_type": "markdown",
   "id": "5804490e-63c4-40d7-ace5-913e60241481",
   "metadata": {},
   "source": [
    "* Crea una lista ordenada ascendente con las claves del diccionario\n",
    "* Crea otra lista ordenada descendente con los valores\n",
    "* Añade una nueva clave/valor\n",
    "* Busca la clave 2 dentro del diccionario\n",
    "* Itera la clave y el valor del diccionario con un unico for\n",
    "* ejer_2 = {4:78, 2:98, 8:234, 5:29}"
   ]
  },
  {
   "cell_type": "code",
   "execution_count": 2,
   "id": "0e53d0c1-885a-4227-b5f2-63e506966e09",
   "metadata": {},
   "outputs": [
    {
     "name": "stdout",
     "output_type": "stream",
     "text": [
      "Claves ascendentes: [2, 4, 5, 8]\n",
      "Valores descendentes: [234, 98, 78, 29]\n",
      "Diccionario con nueva clave/valor: {4: 78, 2: 98, 8: 234, 5: 29, 10: 500}\n",
      "La clave 2 existe en el diccionario.\n",
      "Iterando clave y valor:\n",
      "Clave: 4, Valor: 78\n",
      "Clave: 2, Valor: 98\n",
      "Clave: 8, Valor: 234\n",
      "Clave: 5, Valor: 29\n",
      "Clave: 10, Valor: 500\n"
     ]
    }
   ],
   "source": [
    "ejer_2 = {4:78, 2:98, 8:234, 5:29}\n",
    "\n",
    "# 1. Lista ordenada ascendente con las claves\n",
    "claves_ascendentes = sorted(ejer_2.keys())\n",
    "print(\"Claves ascendentes:\", claves_ascendentes)\n",
    "\n",
    "# 2. Lista ordenada descendente con los valores\n",
    "valores_descendentes = sorted(ejer_2.values(), reverse=True)\n",
    "print(\"Valores descendentes:\", valores_descendentes)\n",
    "\n",
    "# 3. Añadir una nueva clave/valor\n",
    "ejer_2[10] = 500\n",
    "print(\"Diccionario con nueva clave/valor:\", ejer_2)\n",
    "\n",
    "# 4. Buscar la clave 2\n",
    "if 2 in ejer_2:\n",
    "    print(\"La clave 2 existe en el diccionario.\")\n",
    "else:\n",
    "    print(\"La clave 2 no existe en el diccionario.\")\n",
    "\n",
    "# 5. Iterar clave y valor\n",
    "print(\"Iterando clave y valor:\")\n",
    "for clave, valor in ejer_2.items():\n",
    "    print(f\"Clave: {clave}, Valor: {valor}\")"
   ]
  },
  {
   "cell_type": "markdown",
   "id": "2bcdfd25-b537-461e-9683-a301991007d0",
   "metadata": {},
   "source": [
    "### Ejercicio 3"
   ]
  },
  {
   "cell_type": "markdown",
   "id": "c76887e2-7922-4748-a732-707363a0620e",
   "metadata": {},
   "source": [
    "Junta ambos diccionarios de dos maneras diferentes.\n",
    "\n",
    "* Utilizando update\n",
    "* Utilizando un bucle\n",
    "  + ejer_3_1 = {1: 11, 2: 22}\n",
    "  + ejer_3_2 = {3: 33, 4: 44}"
   ]
  },
  {
   "cell_type": "code",
   "execution_count": 7,
   "id": "2494523b-a5f3-454b-96f8-a7a5314f4ad3",
   "metadata": {},
   "outputs": [
    {
     "name": "stdout",
     "output_type": "stream",
     "text": [
      "{1: 11, 2: 22, 3: 33, 4: 44}\n",
      "Unión usando un bucle: {1: 11, 2: 22, 3: 33, 4: 44}\n"
     ]
    }
   ],
   "source": [
    "ejer_3_1 = {1:11,2:22}\n",
    "ejer_3_2 = {3:33,4:44}\n",
    "\n",
    "ejer_3_1.update(ejer_3_2) \n",
    "print (ejer_3_1)\n",
    "\n",
    "ejer_3_1 = {1: 11, 2: 22}\n",
    "ejer_3_2 = {3: 33, 4: 44}\n",
    "\n",
    "# Usando un bucle\n",
    "ejer_3_3 = ejer_3_1.copy()  # Copiamos ejer_3_1 para no modificarlo\n",
    "for clave, valor in ejer_3_2.items():\n",
    "    ejer_3_3[clave] = valor\n",
    "\n",
    "print(\"Unión usando un bucle:\", ejer_3_3)"
   ]
  },
  {
   "cell_type": "markdown",
   "id": "a6fb8e68-b9a1-4aff-941c-e08bec1c2b76",
   "metadata": {},
   "source": [
    "### Ejercicio 4"
   ]
  },
  {
   "cell_type": "markdown",
   "id": "ee7992c2-9100-4fdb-acae-11b009fb3c47",
   "metadata": {},
   "source": [
    "* Crea un set de tres elementos\n",
    "* Añade un cuarto\n",
    "* Elimina el utlimo elemento añadido\n",
    "* Elimina el elemento 10, si está presente. Usa discard()"
   ]
  },
  {
   "cell_type": "code",
   "execution_count": 15,
   "id": "ed4c1b30-bfe6-43db-90d5-310a0cf2b28d",
   "metadata": {},
   "outputs": [
    {
     "name": "stdout",
     "output_type": "stream",
     "text": [
      "{'amarillo', 'naranja', 'rojo', 'azul'}\n",
      "{'amarillo', 'rojo', 'azul'}\n",
      "{20, 30}\n"
     ]
    }
   ],
   "source": [
    "### Crea un set de tres elementos\n",
    "\n",
    "my_set = {\"amarillo\",\"azul\",\"rojo\"}\n",
    "\n",
    "### Añde un cuarto elemento\n",
    "my_set.add(\"naranja\")\n",
    "print (my_set)\n",
    "\n",
    "### Elimina el último elemnto añadido\n",
    "my_set.remove(\"naranja\")\n",
    "print(my_set)\n",
    "\n",
    "# Crear un set con tres elementos\n",
    "mi_set = {10, 20, 30}\n",
    "\n",
    "# Eliminar el elemento 10 si está presente\n",
    "mi_set.discard(10)\n",
    "\n",
    "print(mi_set)\n"
   ]
  },
  {
   "cell_type": "markdown",
   "id": "37732db6-0845-4f09-8fbd-becdfb2ce0f2",
   "metadata": {},
   "source": [
    "### Ejercicio 5"
   ]
  },
  {
   "cell_type": "markdown",
   "id": "55355e2f-b965-4361-8815-167939bcc3e0",
   "metadata": {},
   "source": [
    "Suma todos los valores del dicionario\n",
    "\n",
    "ejer_5 = {1: 11, 2: 22, 3: 33, 4: 44, 5: 55}"
   ]
  },
  {
   "cell_type": "code",
   "execution_count": 17,
   "id": "ff065f41-5cae-48a9-aa6b-945e65276b90",
   "metadata": {},
   "outputs": [
    {
     "name": "stdout",
     "output_type": "stream",
     "text": [
      "165\n"
     ]
    }
   ],
   "source": [
    "ejer_5 = {1: 11, 2: 22, 3: 33, 4: 44, 5: 55}\n",
    "print(sum(ejer_5.values()))"
   ]
  },
  {
   "cell_type": "markdown",
   "id": "6ff407de-9106-4e10-817b-a3d0421dd4c8",
   "metadata": {},
   "source": [
    "### Ejercicio 6"
   ]
  },
  {
   "cell_type": "markdown",
   "id": "61f0931b-108d-4e09-9646-6707b189c5ac",
   "metadata": {},
   "source": [
    "Elimina los duplicados de la siguiente lista utilizando un set como instrumento intermedio.\n",
    "\n",
    "ejer_6 = [11, 2, 4.5, [\"esto\", \"es\"], 3, 4.5, [\"esto\",\"es\"], \"quizás\", True, True, 11]"
   ]
  },
  {
   "cell_type": "code",
   "execution_count": 23,
   "id": "582522b2-916a-4697-bdcf-462d2b2c3534",
   "metadata": {},
   "outputs": [
    {
     "name": "stdout",
     "output_type": "stream",
     "text": [
      "<class 'list'>\n"
     ]
    }
   ],
   "source": [
    "ejer_6 = [11, 2, 4.5, [\"esto\", \"es\"], 3, 4.5, [\"esto\",\"es\"], \"quizás\", True, True, 11]\n",
    "print(type (ejer_6))\n",
    "\n",
    "###Pedir ayuda con este ejercicio ya que no entiendo muy bien###"
   ]
  }
 ],
 "metadata": {
  "kernelspec": {
   "display_name": "Python 3 (ipykernel)",
   "language": "python",
   "name": "python3"
  },
  "language_info": {
   "codemirror_mode": {
    "name": "ipython",
    "version": 3
   },
   "file_extension": ".py",
   "mimetype": "text/x-python",
   "name": "python",
   "nbconvert_exporter": "python",
   "pygments_lexer": "ipython3",
   "version": "3.12.1"
  }
 },
 "nbformat": 4,
 "nbformat_minor": 5
}
