{
 "cells": [
  {
   "cell_type": "markdown",
   "id": "923e86c9-f782-4dc5-a887-3dc3348b8736",
   "metadata": {},
   "source": [
    "### Ejercicio 1"
   ]
  },
  {
   "cell_type": "markdown",
   "id": "c676d851-005c-4ab8-a70d-42f94ca5979d",
   "metadata": {},
   "source": [
    "Eleva todos los elementos de la lista al cuadrado\n",
    "\n",
    "ejer_2 = [1,2,3,4,5]"
   ]
  },
  {
   "cell_type": "code",
   "execution_count": 12,
   "id": "e5a797c0-4257-42e9-a6e1-f38d07f16345",
   "metadata": {},
   "outputs": [
    {
     "name": "stdout",
     "output_type": "stream",
     "text": [
      "Los resultados son: [1, 4, 9, 16, 25]\n"
     ]
    }
   ],
   "source": [
    "def eleva(*args):\n",
    "    resultados = []\n",
    "    for elemento in args:\n",
    "        resultados.append(elemento ** 2)\n",
    "    return resultados\n",
    "\n",
    "ejer_2 = [1, 2, 3, 4, 5]\n",
    "resultados = eleva(*ejer_2)\n",
    "print(\"Los resultados son:\", resultados)"
   ]
  },
  {
   "cell_type": "markdown",
   "id": "06d1bf3f-6134-41c1-902a-77ef102e0adb",
   "metadata": {},
   "source": [
    "### Ejercicio 2"
   ]
  },
  {
   "cell_type": "markdown",
   "id": "5d0606da-c6a7-4af8-99d4-0b8e027085fe",
   "metadata": {},
   "source": [
    "Haz un programa que detecte todos los duplicados de un elemento en una lista:\n",
    "\n",
    "* Utiliza una variable duplicado para asignarle el valor del elemento del que queremos encontrar todos sus duplicados.\n",
    "* El programa debe devolver todos los índices de los elementos duplicados.\n",
    "* Aplícalo para encontrar los duplicados de \"un\", \"es\" y \"binario\" de:\n",
    "ejer_3 = [\"Un\", \"árbol\", \"binario\", \"es\", \"una\", \"estructura\", \"de\", \"un\", \"tipo\", \"particular\", \"a\", \"veces\", \"no\", \"es\", \"ni\", \"binario\"]"
   ]
  },
  {
   "cell_type": "code",
   "execution_count": 14,
   "id": "5531d2e2-c1e2-4f72-b9c4-eb5154dcdf03",
   "metadata": {},
   "outputs": [
    {
     "name": "stdout",
     "output_type": "stream",
     "text": [
      "Índices de 'un': [7]\n",
      "Índices de 'es': [3, 13]\n",
      "Índices de 'binario': [2, 15]\n"
     ]
    }
   ],
   "source": [
    "def encontrar_duplicados(lista, elemento):\n",
    "    indices = []\n",
    "    for indice, valor in enumerate(lista):\n",
    "        if valor == elemento:\n",
    "            indices.append(indice)\n",
    "    return indices\n",
    "\n",
    "ejer_3 = [\"Un\", \"árbol\", \"binario\", \"es\", \"una\", \"estructura\", \"de\", \"un\", \"tipo\", \"particular\", \"a\", \"veces\", \"no\", \"es\", \"ni\", \"binario\"]\n",
    "\n",
    "# Encontrar duplicados de \"un\", \"es\" y \"binario\"\n",
    "duplicados_un = encontrar_duplicados(ejer_3, \"un\")\n",
    "duplicados_es = encontrar_duplicados(ejer_3, \"es\")\n",
    "duplicados_binario = encontrar_duplicados(ejer_3, \"binario\")\n",
    "\n",
    "print(\"Índices de 'un':\", duplicados_un)\n",
    "print(\"Índices de 'es':\", duplicados_es)\n",
    "print(\"Índices de 'binario':\", duplicados_binario)"
   ]
  },
  {
   "cell_type": "markdown",
   "id": "3c864418-3f7b-4328-9922-6472469b41c7",
   "metadata": {},
   "source": [
    "### Ejercicio 3\n",
    "* ¿Cuántas veces se repite el 3 en la siguiente tupla?\n",
    "* Crea una tupla nueva con los elementos desde la posicion 5 a la 10.\n",
    "* ¿Cuántos elementos tiene la tupla ejer_9?\n",
    "+ ejer_9 = (3, 20, 3, 47, 19, 3, 29, 45, 67, 78, 90, 3, 3, 5, 2, 4, 7, 9, 4, 2, 4, 3, 3, 4, 6, 7)"
   ]
  },
  {
   "cell_type": "code",
   "execution_count": 29,
   "id": "1b01f96e-7616-4272-9390-59b1099dfed3",
   "metadata": {},
   "outputs": [
    {
     "name": "stdout",
     "output_type": "stream",
     "text": [
      "En mi tupla el 3 se repite 7\n",
      "(3, 29, 45, 67, 78)\n",
      "la tupla tiene 26 elementos\n"
     ]
    }
   ],
   "source": [
    "mi_tupla = (3, 20, 3, 47, 19, 3, 29, 45, 67, 78, 90, 3, 3, 5, 2, 4, 7, 9, 4, 2, 4, 3, 3, 4, 6, 7)\n",
    "elemento_repetido = 3\n",
    "veces_repetidas = mi_tupla.count(elemento_repetido)\n",
    "print (f\"En mi tupla el {elemento_repetido} se repite {veces_repetidas}\")\n",
    "\n",
    "nueva_tupla = (mi_tupla[5:10])\n",
    "print(nueva_tupla)\n",
    "\n",
    "elementos = len(mi_tupla)\n",
    "print(f\"la tupla tiene {elementos} elementos\")"
   ]
  },
  {
   "cell_type": "markdown",
   "id": "6a0c6079-d09e-40e6-bff8-4044e1400daa",
   "metadata": {},
   "source": [
    "### Ejercicio 4\n",
    "\n",
    "Comprueba si el numero 60 esta en la tupla del ejercicio 3"
   ]
  },
  {
   "cell_type": "code",
   "execution_count": 35,
   "id": "95838e6e-67a8-4e78-a08a-d281f14964e8",
   "metadata": {},
   "outputs": [
    {
     "name": "stdout",
     "output_type": "stream",
     "text": [
      "El elemento no está en esta tupla\n"
     ]
    }
   ],
   "source": [
    "elemento_buscado = 60\n",
    "\n",
    "if elemento_buscado in mi_tupla:\n",
    "    print(\"El elemento está en esta tupla\")\n",
    "else: \n",
    "    print(\"El elemento no está en esta tupla\")"
   ]
  },
  {
   "cell_type": "markdown",
   "id": "ae6e953f-ec05-4ab6-8a09-f975a82cc4b1",
   "metadata": {},
   "source": [
    "### Ejercicio 5"
   ]
  },
  {
   "cell_type": "markdown",
   "id": "9b2b5b27-6a0a-4901-b82f-998689eaf1db",
   "metadata": {},
   "source": [
    "* Convierte la tupla del ejercicio 3 en una lista\n",
    "* Convierte la tupla del ejercicio 3 en un set\n",
    "* Convierte la tupla del ejercicio 3 en un diccionario. Usa también los indices"
   ]
  },
  {
   "cell_type": "code",
   "execution_count": 42,
   "id": "c0d95e08-88aa-47c1-b166-581371a5ce3f",
   "metadata": {},
   "outputs": [
    {
     "name": "stdout",
     "output_type": "stream",
     "text": [
      "[3, 20, 3, 47, 19, 3, 29, 45, 67, 78, 90, 3, 3, 5, 2, 4, 7, 9, 4, 2, 4, 3, 3, 4, 6, 7] <class 'list'>\n",
      "{2, 3, 67, 5, 4, 7, 6, 9, 45, 78, 47, 19, 20, 90, 29} <class 'set'>\n",
      "{0: 3, 1: 20, 2: 3, 3: 47, 4: 19, 5: 3, 6: 29, 7: 45, 8: 67, 9: 78, 10: 90, 11: 3, 12: 3, 13: 5, 14: 2, 15: 4, 16: 7, 17: 9, 18: 4, 19: 2, 20: 4, 21: 3, 22: 3, 23: 4, 24: 6, 25: 7}\n"
     ]
    }
   ],
   "source": [
    "nueva_lista = list(mi_tupla)\n",
    "print (nueva_lista, type(nueva_lista))\n",
    "nuevo_set = set (nueva_lista)\n",
    "print (nuevo_set, type (nuevo_set))\n",
    "mi_tupla = (3, 20, 3, 47, 19, 3, 29, 45, 67, 78, 90, 3, 3, 5, 2, 4, 7, 9, 4, 2, 4, 3, 3, 4, 6, 7)\n",
    "mi_diccionario = {indice: valor for indice, valor in enumerate(mi_tupla)}\n",
    "print(mi_diccionario)"
   ]
  },
  {
   "cell_type": "markdown",
   "id": "e3943c8a-00b6-47b6-8f43-7d2dfdeb964d",
   "metadata": {},
   "source": [
    "### Ejercicio 6"
   ]
  },
  {
   "cell_type": "markdown",
   "id": "fa8d604a-fd2d-442a-b220-bdba8d5b4993",
   "metadata": {},
   "source": [
    "multiplica los valores de el diccionario"
   ]
  },
  {
   "cell_type": "code",
   "execution_count": 44,
   "id": "7b4dbeea-993d-4744-8f3d-980547caa2a6",
   "metadata": {},
   "outputs": [
    {
     "name": "stdout",
     "output_type": "stream",
     "text": [
      "El resultado de la multiplicación es: 19326120\n"
     ]
    }
   ],
   "source": [
    "ejer_6 = {1: 11, 2: 22, 3: 33, 4: 44, 5: 55}\n",
    "resultado = 1\n",
    "for valor in ejer_6.values():\n",
    "    resultado *= valor\n",
    "\n",
    "print(\"El resultado de la multiplicación es:\", resultado)"
   ]
  },
  {
   "cell_type": "markdown",
   "id": "4f9ad6c2-dac1-4f7b-99d1-b62148c58cfe",
   "metadata": {},
   "source": [
    "### Ejercicio 7"
   ]
  },
  {
   "cell_type": "markdown",
   "id": "413eb222-9687-45ee-bead-0fce796e4d65",
   "metadata": {},
   "source": [
    "* Crea un diccionario que describa un libro, con los siguientes campos o claves: \"titulo\",\"autor\",\"idioma original\",\"año de publicación\".\n",
    "* Crea un a lista, llamada librería.\n",
    "* Añade cuatro libros a tu elección a la librería."
   ]
  },
  {
   "cell_type": "code",
   "execution_count": 54,
   "id": "69c5b833-0689-4749-9356-bed8e5a4f2e7",
   "metadata": {},
   "outputs": [
    {
     "name": "stdout",
     "output_type": "stream",
     "text": [
      "{'título': 'cien años de soledad', 'autor': 'Gabriel Garcia Marquez', 'idioma original': 'Ingles', 'Año de publicación': '1996'} <class 'dict'>\n",
      "['el principito', 'relatos salvajes', 'Harry Potter', 'Habitos atomicos']\n"
     ]
    }
   ],
   "source": [
    "libro = {\"título\":\"cien años de soledad\", \"autor\":\"Gabriel Garcia Marquez\",\"idioma original\":\"Ingles\",\"Año de publicación\":\"1996\"}\n",
    "print (libro, type(libro))\n",
    "librería = []\n",
    "libros_nuevos=[\"el principito\", \"relatos salvajes\", \"Harry Potter\", \"Habitos atomicos\"]\n",
    "\n",
    "for libros in libros_nuevos:\n",
    "    librería.append (libros)\n",
    "print(librería)"
   ]
  },
  {
   "cell_type": "markdown",
   "id": "b6f450b2-a330-4d12-b7a9-b072a2e00f5d",
   "metadata": {},
   "source": [
    "### Ejercicio 8"
   ]
  },
  {
   "cell_type": "markdown",
   "id": "c5303bcc-8cf1-4d4e-aa9e-bc7f4d57e9b4",
   "metadata": {},
   "source": [
    "Modifica los valores del idioma de todos los libros del ejercicio anterior para que sea \"esperanto\""
   ]
  },
  {
   "cell_type": "code",
   "execution_count": 55,
   "id": "2a95f0aa-770a-40b4-a091-b7ca338dc0f5",
   "metadata": {},
   "outputs": [
    {
     "name": "stdout",
     "output_type": "stream",
     "text": [
      "{'título': 'cien años de soledad', 'autor': 'Gabriel Garcia Marquez', 'idioma original': 'Alemán', 'Año de publicación': '1996'}\n"
     ]
    }
   ],
   "source": [
    "libro[\"idioma original\"]=\"Alemán\"\n",
    "print (libro)"
   ]
  },
  {
   "cell_type": "markdown",
   "id": "6ee0cb87-71ee-4bf5-ac34-e0901a95619b",
   "metadata": {},
   "source": [
    "### Ejercicio 9"
   ]
  },
  {
   "cell_type": "markdown",
   "id": "10466330-9535-4b86-bc64-34f4e3f65e3c",
   "metadata": {},
   "source": [
    "Escribe un programa que dada una variable titulo busque los libros que hay en la librería con ese título. \n",
    "* Si no se encuentra debe devolver el mensaje Ese no lo tengo, ¿mola?\n",
    "* Prueba que el programa con uno de tus libros y con otro que no contenga tu librería."
   ]
  },
  {
   "cell_type": "code",
   "execution_count": 56,
   "id": "89c5aa31-b951-407f-af09-4a3fc0f70f23",
   "metadata": {},
   "outputs": [
    {
     "name": "stdout",
     "output_type": "stream",
     "text": [
      "Libro encontrado: 1984 de George Orwell\n"
     ]
    }
   ],
   "source": [
    "libreria = [\n",
    "    {\"titulo\": \"Cien años de soledad\", \"autor\": \"Gabriel García Márquez\"},\n",
    "    {\"titulo\": \"1984\", \"autor\": \"George Orwell\"},\n",
    "    {\"titulo\": \"El señor de los anillos\", \"autor\": \"J.R.R. Tolkien\"},\n",
    "    {\"titulo\": \"Don Quijote de la Mancha\", \"autor\": \"Miguel de Cervantes\"},\n",
    "    {\"titulo\": \"Orgullo y prejuicio\", \"autor\": \"Jane Austen\"}\n",
    "]\n",
    "\n",
    "# Función para buscar un libro por título\n",
    "def buscar_libro(titulo):\n",
    "    for libro in libreria:\n",
    "        if libro[\"titulo\"].lower() == titulo.lower():\n",
    "            return f\"Libro encontrado: {libro['titulo']} de {libro['autor']}\"\n",
    "    return \"Ese no lo tengo, ¿mola?\"\n",
    "\n",
    "# Prueba del programa con un libro que está en la librería\n",
    "print(buscar_libro(\"1984\"))"
   ]
  }
 ],
 "metadata": {
  "kernelspec": {
   "display_name": "Python 3 (ipykernel)",
   "language": "python",
   "name": "python3"
  },
  "language_info": {
   "codemirror_mode": {
    "name": "ipython",
    "version": 3
   },
   "file_extension": ".py",
   "mimetype": "text/x-python",
   "name": "python",
   "nbconvert_exporter": "python",
   "pygments_lexer": "ipython3",
   "version": "3.12.1"
  }
 },
 "nbformat": 4,
 "nbformat_minor": 5
}
