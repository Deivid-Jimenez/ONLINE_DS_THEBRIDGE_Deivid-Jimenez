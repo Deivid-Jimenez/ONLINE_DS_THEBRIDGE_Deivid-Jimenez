{
 "cells": [
  {
   "cell_type": "code",
   "execution_count": 1,
   "id": "e97e9189-5cfb-4e22-bfb3-4595546f3f71",
   "metadata": {},
   "outputs": [],
   "source": [
    "\n",
    "# Escribe tu nombre en la variable:\n",
    "nombre_y_apellidos = \"Deivid Jimenez Sanchez\""
   ]
  },
  {
   "attachments": {},
   "cell_type": "markdown",
   "id": "46c5ec80-b66e-4105-a196-c375653b05dc",
   "metadata": {},
   "source": [
    "### Ejercicio 1\n",
    "Escribe un programa que simule un libro de \"sigue tu propia aventura\".\n",
    "\n",
    "Solo se pide control de flujo y uso de print(). El programa tiene dos variables:\n",
    "\n",
    "puerta --> es una variable de tipo entero\n",
    "\n",
    "amuleto --> es una variable booleana\n",
    "\n",
    "Si la puerta que eliges es la 1, imprime \"has perdido\"\n",
    "\n",
    "Si la puerta que eliges es la 2 y tienes el amuleto (verdadero), imprime \"has ganado\"\n",
    "\n",
    "En cualquier otro caso, imprime \"sigue jugando\"\n",
    "\n",
    "Haz este programa de dos formas: usando un AND y sin usar un AND\n",
    "\n",
    "Nota: no son necesarias funciones. Puedes declarar puerta y amuleto al principio de tu programa."
   ]
  },
  {
   "cell_type": "code",
   "execution_count": 19,
   "id": "250dbafe-82f7-4dec-b505-6ae12fbca21c",
   "metadata": {},
   "outputs": [
    {
     "name": "stdin",
     "output_type": "stream",
     "text": [
      "Escoge la puerta 1 o 2:  2\n",
      "Amuleto (True/False): False\n"
     ]
    },
    {
     "name": "stdout",
     "output_type": "stream",
     "text": [
      "Sigue jugando\n"
     ]
    }
   ],
   "source": [
    "puerta = int(input(\"Escoge la puerta 1 o 2: \"))\n",
    "amuleto = input(\"Amuleto (True/False):\").lower() == \"true\"\n",
    "\n",
    "if puerta == 1:\n",
    "    print(\"Has perdido\")\n",
    "elif puerta == 2 and amuleto:\n",
    "    print(\"Has ganado\")\n",
    "else:\n",
    "    print(\"Sigue jugando\")"
   ]
  },
  {
   "cell_type": "code",
   "execution_count": 22,
   "id": "99b09268-cb0f-4651-bf5f-c60e07af803e",
   "metadata": {},
   "outputs": [
    {
     "name": "stdin",
     "output_type": "stream",
     "text": [
      "Escoge la puerta 1 o 2:  2\n",
      "¿Tienes el amuleto? (True/False):  True\n"
     ]
    },
    {
     "name": "stdout",
     "output_type": "stream",
     "text": [
      "Has ganado\n"
     ]
    }
   ],
   "source": [
    "puerta = int(input(\"Escoge la puerta 1 o 2: \"))\n",
    "amuleto = input(\"¿Tienes el amuleto? (True/False): \").lower() == 'true'\n",
    "\n",
    "# Control de flujo\n",
    "if puerta == 1:\n",
    "    print(\"Has perdido\")\n",
    "elif puerta == 2:\n",
    "    if amuleto:\n",
    "        print(\"Has ganado\")\n",
    "    else:\n",
    "        print(\"Sigue jugando\")\n",
    "else:\n",
    "    print(\"Sigue jugando\")"
   ]
  },
  {
   "cell_type": "markdown",
   "id": "43894123-66cc-42b9-a22c-f0e77713ab8c",
   "metadata": {},
   "source": [
    "\n",
    "## Ejercicio 2\n",
    "Programa un diccionario vacío que se llame d. Añádele los siguientes claves y valores:\n",
    "\n",
    "\"id\" --> 1, \"hora\" --> \"mañana\", \"canciones_escuchadas\" --> una lista con 2 elementos que son \"canción1\" y \"canción2\"\n",
    "\n",
    "Imprime todas las claves, todos los valores y todos los pares clave-valor\n"
   ]
  },
  {
   "cell_type": "code",
   "execution_count": 26,
   "id": "0216497f-cfb4-41d2-a225-5049a365a727",
   "metadata": {},
   "outputs": [
    {
     "name": "stdout",
     "output_type": "stream",
     "text": [
      "{'id': 1, 'hora': 'mañana', 'canciones escuchadas': ['cancion 1', 'cancion 2']}\n",
      "<class 'dict'>\n"
     ]
    }
   ],
   "source": [
    "d = ({\"id\":1,\"hora\":\"mañana\",\"canciones escuchadas\":[\"cancion 1\",\"cancion 2\"]})\n",
    "print(d)\n",
    "print(type(d))"
   ]
  },
  {
   "cell_type": "code",
   "execution_count": 31,
   "id": "577f91ab-6bf6-4a7c-a3c0-ba4625e68214",
   "metadata": {},
   "outputs": [
    {
     "name": "stdout",
     "output_type": "stream",
     "text": [
      "dict_keys(['id', 'hora', 'canciones escuchadas'])\n",
      "dict_values([1, 'mañana', ['cancion 1', 'cancion 2']])\n"
     ]
    }
   ],
   "source": [
    "print(d.keys())\n",
    "print(d.values())"
   ]
  },
  {
   "cell_type": "markdown",
   "id": "c1d1a909-4f86-433b-aa49-4b31589be592",
   "metadata": {},
   "source": [
    "### Ejercicio 3\n",
    "Crea un programa que simule un carrusel infantil.\n",
    "\n",
    "El carrusel infantil tiene 3 posibles cochecitos: barco - bomberos - avioneta (una variable global de tipo lista, fuera de tu función).\n",
    "\n",
    "Debes escribir una FUNCIÓN llamada carrusel que tenga dos parámetros de entrada: el cochecito que eliges (puede valer el string barco, bomberos o avioneta) y un segundo parámetro llamado vueltas que es un entero.\n",
    "\n",
    "Tu función carrusel NO debe retornar nada, pero debe llamar internamente a coloca(cochecito), ya te lo doy programado. Si sientas al niño en \"avioneta\" y pones 3 vueltas, la función debería imprimir:\n",
    "\n",
    "\"vuelta 1: avioneta - barco - bomberos\"\n",
    "\n",
    "\"vuelta 2: avioneta - barco - bomberos\"\n",
    "\n",
    "\"vuelta 3: avioneta - barco - bomberos\"\n",
    "\n",
    "Se valorará positivamente que haya UN BUCLE WHILE. Si no te acaba de funcionar llamando a coloca(cochecito) tras un tiempo prudencial, escribe tu código sin usarlo."
   ]
  },
  {
   "cell_type": "code",
   "execution_count": 99,
   "id": "c3763506-133e-4744-926e-693817d1a338",
   "metadata": {},
   "outputs": [
    {
     "name": "stdin",
     "output_type": "stream",
     "text": [
      "Escoge el cochecito que quieres subir (barco, bomberos, avioneta):  barco\n"
     ]
    },
    {
     "name": "stdout",
     "output_type": "stream",
     "text": [
      "['barco', 'bomberos', 'avioneta']\n",
      "['barco', 'bomberos', 'avioneta']\n",
      "['barco', 'bomberos', 'avioneta']\n"
     ]
    }
   ],
   "source": [
    "carrusel = [\"barco\", \"bomberos\", \"avioneta\"]\n",
    "vueltas = 1\n",
    "\n",
    "cochecito = input(\"Escoge el cochecito que quieres subir (barco, bomberos, avioneta): \")\n",
    "\n",
    "def coloca(cochecito):\n",
    "    carrusel \n",
    "    if cochecito == \"barco\":\n",
    "        return carrusel\n",
    "    elif cochecito == \"bomberos\":\n",
    "        while carrusel[0] != \"bomberos\":\n",
    "            elemento = carrusel.pop(0)\n",
    "            carrusel.append(elemento)\n",
    "    elif cochecito == \"avioneta\":\n",
    "        while carrusel[0] != \"avioneta\":\n",
    "            elemento = carrusel.pop(0)\n",
    "            carrusel.append(elemento)\n",
    "    else:\n",
    "        print(\"Escoja una opción válida\")\n",
    "\n",
    "while vueltas < 4:\n",
    "    coloca(cochecito)\n",
    "    print(carrusel)\n",
    "    vueltas += 1"
   ]
  }
 ],
 "metadata": {
  "kernelspec": {
   "display_name": "Python 3 (ipykernel)",
   "language": "python",
   "name": "python3"
  },
  "language_info": {
   "codemirror_mode": {
    "name": "ipython",
    "version": 3
   },
   "file_extension": ".py",
   "mimetype": "text/x-python",
   "name": "python",
   "nbconvert_exporter": "python",
   "pygments_lexer": "ipython3",
   "version": "3.12.1"
  }
 },
 "nbformat": 4,
 "nbformat_minor": 5
}
