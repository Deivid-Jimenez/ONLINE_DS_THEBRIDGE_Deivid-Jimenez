{
 "cells": [
  {
   "cell_type": "code",
   "execution_count": 2,
   "id": "b4d435f3-04ab-46c2-b2d0-8ceffc11e198",
   "metadata": {},
   "outputs": [
    {
     "name": "stdout",
     "output_type": "stream",
     "text": [
      "Juan tiene 800.\n",
      "Maria no tiene una cuenta corriente.\n",
      "Maria tiene 700.\n"
     ]
    }
   ],
   "source": [
    "class Usuario:\n",
    "    def __init__(self, nombre, saldo, checking_account=True):\n",
    "        self.nombre = nombre\n",
    "        self.saldo = saldo\n",
    "        self.checking_account = checking_account\n",
    "\n",
    "    def withdraw(self, cantidad):\n",
    "        if self.saldo < cantidad:\n",
    "            raise ValueError(f\"{self.nombre} no puede retirar {cantidad} de dinero.\")\n",
    "        self.saldo -= cantidad\n",
    "        return f\"{self.nombre} tiene {self.saldo}.\"\n",
    "\n",
    "    def transfer_money(self, otro_usuario, cantidad):\n",
    "        if otro_usuario.saldo < cantidad:\n",
    "            raise ValueError(f\"{otro_usuario.nombre} no tiene suficiente dinero.\")\n",
    "        if not otro_usuario.checking_account:\n",
    "            raise ValueError(f\"{otro_usuario.nombre} no tiene una cuenta corriente.\")\n",
    "        \n",
    "        self.saldo += cantidad\n",
    "        otro_usuario.saldo -= cantidad\n",
    "        return f\"{self.nombre} tiene {self.saldo} y {otro_usuario.nombre} tiene {otro_usuario.saldo}.\"\n",
    "\n",
    "    def add_cash(self, cantidad):\n",
    "        self.saldo += cantidad\n",
    "        return f\"{self.nombre} tiene {self.saldo}.\"\n",
    "\n",
    "# Ejemplo de uso\n",
    "usuario1 = Usuario(\"Juan\", 1000)\n",
    "usuario2 = Usuario(\"Maria\", 500, checking_account=False)\n",
    "\n",
    "# Retirar dinero\n",
    "try:\n",
    "    print(usuario1.withdraw(200))  # Juan tiene 800.\n",
    "except ValueError as e:\n",
    "    print(e)\n",
    "\n",
    "# Transferir dinero\n",
    "try:\n",
    "    print(usuario1.transfer_money(usuario2, 300))  # Error: Maria no tiene una cuenta corriente.\n",
    "except ValueError as e:\n",
    "    print(e)\n",
    "\n",
    "# Agregar dinero\n",
    "print(usuario2.add_cash(200))  # Maria tiene 700."
   ]
  }
 ],
 "metadata": {
  "kernelspec": {
   "display_name": "Python 3 (ipykernel)",
   "language": "python",
   "name": "python3"
  },
  "language_info": {
   "codemirror_mode": {
    "name": "ipython",
    "version": 3
   },
   "file_extension": ".py",
   "mimetype": "text/x-python",
   "name": "python",
   "nbconvert_exporter": "python",
   "pygments_lexer": "ipython3",
   "version": "3.12.1"
  }
 },
 "nbformat": 4,
 "nbformat_minor": 5
}
