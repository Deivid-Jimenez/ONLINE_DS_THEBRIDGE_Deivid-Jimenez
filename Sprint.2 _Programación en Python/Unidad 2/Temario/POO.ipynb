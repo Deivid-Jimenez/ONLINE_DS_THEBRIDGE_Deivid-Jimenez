{
 "cells": [
  {
   "cell_type": "markdown",
   "id": "7c60cb79-515c-457b-83b3-697e6504bced",
   "metadata": {},
   "source": [
    "## 1. Clases"
   ]
  },
  {
   "cell_type": "code",
   "execution_count": 4,
   "id": "7bc7365d-8ca0-4692-9d33-ed2e3167a0c3",
   "metadata": {},
   "outputs": [],
   "source": [
    "class Coche:\n",
    "    #atributos y métodos, las cosas de la clase.\n",
    "    pass\n",
    "\n",
    "    \n",
    "    ###La sentencia pass se usa para forzar el fin de la clase Coche. Le hemos declarado, pero no lleva nada. \n",
    "    ### Python demanda una definición de la clase y podemos ignorar esta demanda mediante la sentencia pass"
   ]
  },
  {
   "cell_type": "code",
   "execution_count": 5,
   "id": "6faff9ff-f1fa-4c71-a788-b8cb1d18d8d4",
   "metadata": {},
   "outputs": [
    {
     "name": "stdout",
     "output_type": "stream",
     "text": [
      "<class 'type'>\n",
      "<class 'type'> <class 'type'>\n"
     ]
    }
   ],
   "source": [
    "print (type(Coche))\n",
    "print (type(str), type(dict))"
   ]
  },
  {
   "cell_type": "code",
   "execution_count": 6,
   "id": "4f0b47a8-5b34-4731-b750-a264fe8fa945",
   "metadata": {},
   "outputs": [
    {
     "name": "stdout",
     "output_type": "stream",
     "text": [
      "<class '__main__.Coche'>\n",
      "<__main__.Coche object at 0x000001C12E00D3A0>\n"
     ]
    }
   ],
   "source": [
    "primer_coche = Coche()\n",
    "print(type(primer_coche))\n",
    "print(primer_coche)"
   ]
  },
  {
   "cell_type": "code",
   "execution_count": 7,
   "id": "48e260f7-b663-48a4-a98d-8d4ef7f43d19",
   "metadata": {},
   "outputs": [
    {
     "name": "stdout",
     "output_type": "stream",
     "text": [
      "False\n"
     ]
    }
   ],
   "source": [
    "citroen = Coche()\n",
    "renault = Coche()\n",
    "peugeot = Coche()\n",
    "\n",
    "print(citroen == peugeot)"
   ]
  },
  {
   "cell_type": "code",
   "execution_count": 8,
   "id": "10325d90-8fc3-45f1-b45f-ff00f170edd0",
   "metadata": {},
   "outputs": [],
   "source": [
    "class Coche:\n",
    "    puertas = 4\n",
    "    ruedas = 4"
   ]
  },
  {
   "cell_type": "code",
   "execution_count": 9,
   "id": "a0cbce51-717c-4ab1-81fd-79b5bde21c6c",
   "metadata": {},
   "outputs": [
    {
     "name": "stdout",
     "output_type": "stream",
     "text": [
      "4\n",
      "4\n"
     ]
    }
   ],
   "source": [
    "tesla = Coche ()\n",
    "print(tesla.puertas)\n",
    "print(tesla.ruedas)"
   ]
  },
  {
   "cell_type": "code",
   "execution_count": 11,
   "id": "f8b98204-30cc-4465-b464-5a0a3bde3181",
   "metadata": {},
   "outputs": [
    {
     "name": "stdout",
     "output_type": "stream",
     "text": [
      "3\n",
      "4\n"
     ]
    }
   ],
   "source": [
    "mercedes = Coche()\n",
    "mercedes.puertas = 3\n",
    "print(mercedes.puertas)\n",
    "print(tesla.puertas)"
   ]
  },
  {
   "cell_type": "code",
   "execution_count": 12,
   "id": "a15c4a88-1cf4-4e83-bb9d-b355ccc93009",
   "metadata": {},
   "outputs": [
    {
     "name": "stdout",
     "output_type": "stream",
     "text": [
      "4\n"
     ]
    }
   ],
   "source": [
    "peugeot = Coche()\n",
    "print (peugeot.puertas)"
   ]
  },
  {
   "cell_type": "code",
   "execution_count": 13,
   "id": "50beca93-9798-4576-87fc-9131ab1e5b1d",
   "metadata": {},
   "outputs": [
    {
     "ename": "AttributeError",
     "evalue": "'Coche' object has no attribute 'motor'",
     "output_type": "error",
     "traceback": [
      "\u001b[1;31m---------------------------------------------------------------------------\u001b[0m",
      "\u001b[1;31mAttributeError\u001b[0m                            Traceback (most recent call last)",
      "Cell \u001b[1;32mIn[13], line 2\u001b[0m\n\u001b[0;32m      1\u001b[0m \u001b[38;5;66;03m###Un error muy típico es intentar imprimir un atributo que nos se ha definido, como por ejemplo:\u001b[39;00m\n\u001b[1;32m----> 2\u001b[0m \u001b[38;5;28mprint\u001b[39m (\u001b[43mmercedes\u001b[49m\u001b[38;5;241;43m.\u001b[39;49m\u001b[43mmotor\u001b[49m)\n",
      "\u001b[1;31mAttributeError\u001b[0m: 'Coche' object has no attribute 'motor'"
     ]
    }
   ],
   "source": [
    "###Un error muy típico es intentar imprimir un atributo que nos se ha definido, como por ejemplo:\n",
    "print (mercedes.motor)\n"
   ]
  },
  {
   "cell_type": "code",
   "execution_count": 14,
   "id": "de1c739c-1063-45c9-9817-af661ee86a30",
   "metadata": {},
   "outputs": [],
   "source": [
    "###Los objetos así sean de la misma clase pueden tener diferentes atributos:\n",
    "\n",
    "bmw = Coche()\n",
    "bmw.puertas = 6\n",
    "bmw.ruedas = 8"
   ]
  },
  {
   "cell_type": "code",
   "execution_count": 15,
   "id": "320b2387-d621-4d3c-bbb9-99de195de8c0",
   "metadata": {},
   "outputs": [],
   "source": [
    "## Cuando creamos un objeto  de la clase coche sin más, este objeto adquiere los atributos por defecto de la clase. \"Si queremos definirlo bien de primeras\n",
    "### para diferenciarlo de otros coches, necesitamos algo más.\n",
    "\n",
    "###Ese algo más,  me permite  la definición inicial, es lo que denominamos  constructor de la clase###\n",
    "\n",
    "###Como se define ? Mediante la función __init__, dentro de la clase."
   ]
  },
  {
   "cell_type": "code",
   "execution_count": 16,
   "id": "720da3f9-6483-4252-8890-13e4f483b624",
   "metadata": {},
   "outputs": [],
   "source": [
    "class Coche:\n",
    "    puertas = 4\n",
    "    ruedas = 4\n",
    "    \n",
    "    def __init__(self, marca_coche):\n",
    "        self.marca = marca_coche"
   ]
  },
  {
   "cell_type": "code",
   "execution_count": 17,
   "id": "0e14e4af-48db-447a-a901-174617bc32ab",
   "metadata": {},
   "outputs": [
    {
     "name": "stdout",
     "output_type": "stream",
     "text": [
      "Tesla\n"
     ]
    }
   ],
   "source": [
    "tesla = Coche(\"Tesla\")\n",
    "print(tesla.marca)"
   ]
  },
  {
   "cell_type": "code",
   "execution_count": 18,
   "id": "26364ff6-0dd4-4b7f-9e06-054bd241a003",
   "metadata": {},
   "outputs": [
    {
     "name": "stdout",
     "output_type": "stream",
     "text": [
      "Renault\n",
      "Mercedes\n",
      "4\n",
      "4\n"
     ]
    }
   ],
   "source": [
    "mercedes = Coche (\"Mercedes\")\n",
    "renault = Coche (\"Renault\")\n",
    "print(renault.marca)\n",
    "print(mercedes.marca)\n",
    "print(renault.puertas)\n",
    "print(mercedes.ruedas)"
   ]
  },
  {
   "cell_type": "code",
   "execution_count": 38,
   "id": "b7a639a0-2a7b-4030-aede-e4da52a72690",
   "metadata": {},
   "outputs": [],
   "source": [
    "class Coche:\n",
    "    puertas = 4\n",
    "    ruedas = 4\n",
    "\n",
    "    def __init__(self,marca_coche, num_puertas=4):\n",
    "        self.marca = marca_coche\n",
    "        self.puertas  =num_puertas"
   ]
  },
  {
   "cell_type": "code",
   "execution_count": 39,
   "id": "d661469c-cee1-4b4d-b807-983617bf94b8",
   "metadata": {},
   "outputs": [],
   "source": [
    "tesla=Coche(\"Tesla\",6)\n",
    "mercedes_500 = Coche(\"Mercedes\",8)"
   ]
  },
  {
   "cell_type": "code",
   "execution_count": 30,
   "id": "f87380a3-22a0-4c27-abc2-bcfb48f6af71",
   "metadata": {},
   "outputs": [
    {
     "name": "stdout",
     "output_type": "stream",
     "text": [
      "6\n"
     ]
    }
   ],
   "source": [
    "print(tesla.puertas)"
   ]
  },
  {
   "cell_type": "code",
   "execution_count": 43,
   "id": "445e08d1-e8ac-4e37-9233-c78bd3be5260",
   "metadata": {},
   "outputs": [],
   "source": [
    "class Coche:\n",
    "    ruedas = 4\n",
    "\n",
    "    def __init__(self,marca_coche, num_puertas = 4):\n",
    "        self.marca = marca_coche\n",
    "        self.puertas  =num_puertas\n",
    "\n",
    "    def caracteristicas(self):\n",
    "        return \"Marca:\"+self.marca+\",Puertas:\"+ str (self.puertas)"
   ]
  },
  {
   "cell_type": "code",
   "execution_count": 45,
   "id": "81fab965-2853-43b8-9bd2-7bb824e6cc61",
   "metadata": {},
   "outputs": [
    {
     "data": {
      "text/plain": [
       "'Marca:Ford,Puertas:4'"
      ]
     },
     "execution_count": 45,
     "metadata": {},
     "output_type": "execute_result"
    }
   ],
   "source": [
    "ford_ka = Coche(\"Ford\")\n",
    "ford_ka.caracteristicas( ) "
   ]
  },
  {
   "cell_type": "code",
   "execution_count": 53,
   "id": "3e9932b8-f195-481b-9208-d0e90ab0aa79",
   "metadata": {},
   "outputs": [],
   "source": [
    "class Coche:\n",
    "    ruedas = 4\n",
    "\n",
    "    def __init__(self,marca_coche, precio_coche, num_puertas=4):\n",
    "        self.marca = marca_coche\n",
    "        self.puertas  = num_puertas\n",
    "        self.precio = precio_coche\n",
    "\n",
    "    def caracteristicas(self):\n",
    "        return \"Marca:\"+self.marca+\",Puertas:\"+ str(self.puertas)\n",
    "\n",
    "    def precio_actual(self,agnos):\n",
    "        if agnos <5:\n",
    "            return self.precio * 0.7\n",
    "        elif agnos > 5 and agnos < 10:\n",
    "            return self.precio *0.5\n",
    "        else:\n",
    "            return self.precio * 0.3\n",
    "        \n",
    "\n",
    "    \n",
    "\n",
    "    "
   ]
  },
  {
   "cell_type": "code",
   "execution_count": 54,
   "id": "34198ef5-fa11-4417-8b36-dc0475929a82",
   "metadata": {},
   "outputs": [
    {
     "data": {
      "text/plain": [
       "17500.0"
      ]
     },
     "execution_count": 54,
     "metadata": {},
     "output_type": "execute_result"
    }
   ],
   "source": [
    "jeep_cherokee= Coche(\"Jeep\",35000)\n",
    "jeep_cherokee.precio_actual(8)"
   ]
  }
 ],
 "metadata": {
  "kernelspec": {
   "display_name": "Python 3 (ipykernel)",
   "language": "python",
   "name": "python3"
  },
  "language_info": {
   "codemirror_mode": {
    "name": "ipython",
    "version": 3
   },
   "file_extension": ".py",
   "mimetype": "text/x-python",
   "name": "python",
   "nbconvert_exporter": "python",
   "pygments_lexer": "ipython3",
   "version": "3.12.1"
  }
 },
 "nbformat": 4,
 "nbformat_minor": 5
}
