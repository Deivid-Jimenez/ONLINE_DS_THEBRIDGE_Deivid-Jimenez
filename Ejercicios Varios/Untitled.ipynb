{
 "cells": [
  {
   "cell_type": "code",
   "execution_count": 12,
   "id": "24a80a09-0065-4375-9238-990846c6294e",
   "metadata": {},
   "outputs": [
    {
     "name": "stdout",
     "output_type": "stream",
     "text": [
      "El valor del elemento es: 43\n",
      "El valor del elemento es: 45\n",
      "El valor del elemento es: 45\n",
      "El valor del elemento es: 46\n",
      "El valor del elemento es: 65\n",
      "El valor del elemento es: 67\n"
     ]
    }
   ],
   "source": [
    "lista_numeros=[10,45,356,10,10,10,46,67,45,10,10,43,10,65,10,10]\n",
    "\n",
    "lista_numeros.sort()\n",
    "for i in lista_numeros:\n",
    "    if i == 10:\n",
    "        continue\n",
    "    elif i == 356:\n",
    "        break\n",
    "    else:\n",
    "        print(f\"El valor del elemento es: {i}\")  \n",
    "        "
   ]
  },
  {
   "cell_type": "code",
   "execution_count": null,
   "id": "7bd65d60-96a3-4a34-8aa3-b7b10c8df5e5",
   "metadata": {},
   "outputs": [
    {
     "name": "stdin",
     "output_type": "stream",
     "text": [
      "Hola, por favor me puede decir su nombre?  Carlos\n",
      "Hola Carlos, por favor introduzca su dinero disponible:  20\n"
     ]
    },
    {
     "name": "stdout",
     "output_type": "stream",
     "text": [
      "-> Pizzeria PF <-\n",
      "\n",
      "-> Nuestras pizzas disponibles son <-\n",
      "\n",
      "1-Margarita-7.85$\n",
      "2-Jamon y Queso-9.65$\n",
      "3-Cuatro quesos-8.95$\n"
     ]
    },
    {
     "name": "stdin",
     "output_type": "stream",
     "text": [
      "Carlos por favor, selecciona su pizza a ordenar:  1\n"
     ]
    },
    {
     "name": "stdout",
     "output_type": "stream",
     "text": [
      "Ha elegido la pizza Margarita. \n",
      "Total a pagar 7.85$.\n",
      "Le quedarían 12.15$.\n",
      "-> Nuestros extras disponibles son <-\n",
      "\n",
      "1-Extra de queso-1.25$\n",
      "2-Champiñones-0.85$\n",
      "3-Albahaca-1.3$\n",
      "4-No desea ingrediente adicional, pagar\n"
     ]
    },
    {
     "name": "stdin",
     "output_type": "stream",
     "text": [
      "Carlos por favor, seleccione un ingrediente adicional:  1\n"
     ]
    },
    {
     "name": "stdout",
     "output_type": "stream",
     "text": [
      "Ha elegido extra de queso. \n",
      "Extra a pagar 1.25$.\n",
      "Total a pagar: 9.1$.\n",
      "Le quedarían 10.9$.\n",
      "1-Extra de queso-1.25$\n",
      "2-Champiñones-0.85$\n",
      "3-Albahaca-1.3$\n",
      "4-No desea ingrediente adicional, pagar\n"
     ]
    }
   ],
   "source": [
    "nombre = input(\"Hola, por favor me puede decir su nombre? \")\n",
    "dinero = float(input(f\"Hola {nombre}, por favor introduzca su dinero disponible: \"))\n",
    "dinero_inicial = dinero\n",
    "total = 0\n",
    "pedido = []\n",
    "\n",
    "margarita = 7.85\n",
    "jamon_queso = 9.65\n",
    "cuatro_quesos = 8.95\n",
    "\n",
    "extra_queso = 1.25\n",
    "champiñones = 0.85\n",
    "albahaca = 1.30\n",
    "\n",
    "print(\"-> Pizzeria PF <-\\n\")\n",
    "print(\"-> Nuestras pizzas disponibles son <-\\n\")\n",
    "\n",
    "while True:\n",
    "    print(f\"1-Margarita-{margarita}$\")\n",
    "    print(f\"2-Jamon y Queso-{jamon_queso}$\")\n",
    "    print(f\"3-Cuatro quesos-{cuatro_quesos}$\")\n",
    "\n",
    "    eleccion = int(input(f\"{nombre} por favor, selecciona su pizza a ordenar: \"))\n",
    "\n",
    "    match eleccion:\n",
    "        case 1:\n",
    "            print(f\"Ha elegido la pizza Margarita. \\nTotal a pagar {margarita}$.\")\n",
    "            dinero -= margarita\n",
    "            print(f\"Le quedarían {round(dinero, 2)}$.\")\n",
    "            total += margarita\n",
    "            pedido.append(f\"Margarita - {margarita}$.\")\n",
    "            break\n",
    "        case 2:\n",
    "            print(f\"Ha elegido la pizza Jamón y Queso. \\nTotal a pagar {jamon_queso}$.\")\n",
    "            dinero -= jamon_queso\n",
    "            print(f\"Le quedarían {round(dinero, 2)}$.\")\n",
    "            total += jamon_queso\n",
    "            pedido.append(f\"Jamón y Queso - {jamon_queso}$.\")\n",
    "            break\n",
    "        case 3:\n",
    "            print(f\"Ha elegido la pizza Cuatro Quesos. \\nTotal a pagar {cuatro_quesos}$.\")\n",
    "            dinero -= cuatro_quesos\n",
    "            print(f\"Le quedarían {round(dinero, 2)}$.\")\n",
    "            total += cuatro_quesos\n",
    "            pedido.append(f\"Cuatro Quesos - {cuatro_quesos}$.\")\n",
    "            break\n",
    "        case _:\n",
    "            print(\"Opción incorrecta, por favor seleccione una opción válida.\")\n",
    "\n",
    "print(\"-> Nuestros extras disponibles son <-\\n\")\n",
    "while True:\n",
    "    print(f\"1-Extra de queso-{extra_queso}$\")\n",
    "    print(f\"2-Champiñones-{champiñones}$\")\n",
    "    print(f\"3-Albahaca-{albahaca}$\")\n",
    "    print(f\"4-No desea ingrediente adicional, pagar\")\n",
    "\n",
    "    eleccion = int(input(f\"{nombre} por favor, seleccione un ingrediente adicional: \"))\n",
    "\n",
    "    match eleccion:\n",
    "        case 1:\n",
    "            if dinero >= extra_queso:\n",
    "                print(f\"Ha elegido extra de queso. \\nExtra a pagar {extra_queso}$.\")\n",
    "                dinero -= extra_queso\n",
    "                total += extra_queso\n",
    "                print(f\"Total a pagar: {total}$.\")\n",
    "                print(f\"Le quedarían {round(dinero, 2)}$.\")\n",
    "                pedido.append(f\"Extra de queso - {extra_queso}$.\")\n",
    "            else:\n",
    "                print(\"No tiene suficiente dinero para este ingrediente.\")\n",
    "        case 2:\n",
    "            if dinero >= champiñones:\n",
    "                print(f\"Ha elegido champiñones. \\nExtra a pagar {champiñones}$.\")\n",
    "                dinero -= champiñones\n",
    "                total += champiñones\n",
    "                print(f\"Total a pagar: {total}$.\")\n",
    "                print(f\"Le quedarían {round(dinero, 2)}$.\")\n",
    "                pedido.append(f\"Champiñones - {champiñones}$.\")\n",
    "            else:\n",
    "                print(\"No tiene suficiente dinero para este ingrediente.\")\n",
    "        case 3:\n",
    "            if dinero >= albahaca:\n",
    "                print(f\"Ha elegido albahaca. \\nExtra a pagar {albahaca}$.\")\n",
    "                dinero -= albahaca\n",
    "                total += albahaca\n",
    "                print(f\"Total a pagar: {total}$.\")\n",
    "                print(f\"Le quedarían {round(dinero, 2)}$.\")\n",
    "                pedido.append(f\"Albahaca - {albahaca}$.\")\n",
    "            else:\n",
    "                print(\"No tiene suficiente dinero para este ingrediente.\")\n",
    "        case 4:\n",
    "            print(\"De acuerdo, no se añadirá nada extra.\")\n",
    "            break\n",
    "        case _:\n",
    "            print(\"Opción incorrecta, por favor seleccione una opción válida.\")\n",
    "\n",
    "if total <= dinero_inicial:\n",
    "    print(\"\\n--- SU PEDIDO ---\")\n",
    "    print(f\"El total de su pedido es: {total}$.\")\n",
    "    print(f\"Su cambio es: {dinero}$.\")\n",
    "    \n",
    "    for i in pedido:\n",
    "        print(f\"- {i}\")\n",
    "\n",
    "    print(\"\\n¡Buen provecho!\")\n",
    "else:\n",
    "    print(\"\\nNo le alcanza el dinero, por favor vuelva a empezar.\")\n",
    "    \n",
    "    \n",
    "\n",
    "    \n",
    "    \n",
    "    \n",
    "    \n"
   ]
  },
  {
   "cell_type": "code",
   "execution_count": null,
   "id": "f0d1c396-1dc6-4cbb-b693-104d30f491d3",
   "metadata": {},
   "outputs": [],
   "source": []
  }
 ],
 "metadata": {
  "kernelspec": {
   "display_name": "Python 3 (ipykernel)",
   "language": "python",
   "name": "python3"
  },
  "language_info": {
   "codemirror_mode": {
    "name": "ipython",
    "version": 3
   },
   "file_extension": ".py",
   "mimetype": "text/x-python",
   "name": "python",
   "nbconvert_exporter": "python",
   "pygments_lexer": "ipython3",
   "version": "3.12.1"
  }
 },
 "nbformat": 4,
 "nbformat_minor": 5
}
