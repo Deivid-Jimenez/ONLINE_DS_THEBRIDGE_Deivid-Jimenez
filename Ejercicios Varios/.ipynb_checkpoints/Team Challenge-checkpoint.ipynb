{
 "cells": [
  {
   "cell_type": "code",
   "execution_count": 4,
   "id": "f6f93bcd-e874-480c-8226-9bcdcdc68a88",
   "metadata": {},
   "outputs": [
    {
     "name": "stdout",
     "output_type": "stream",
     "text": [
      "Colocando barco de tamaño 1\n"
     ]
    },
    {
     "name": "stdin",
     "output_type": "stream",
     "text": [
      "Ingresa la coordenada de inicio (ej. A1):  A1\n",
      "Ingresa la dirección (H para horizontal, V para vertical):  H\n"
     ]
    },
    {
     "name": "stdout",
     "output_type": "stream",
     "text": [
      "   1   2   3   4   5   6   7   8   9   10 \n",
      "A  O   ·   ·   ·   ·   ·   ·   ·   ·   ·  \n",
      "B  ·   ·   ·   ·   ·   ·   ·   ·   ·   ·  \n",
      "C  ·   ·   ·   ·   ·   ·   ·   ·   ·   ·  \n",
      "D  ·   ·   ·   ·   ·   ·   ·   ·   ·   ·  \n",
      "E  ·   ·   ·   ·   ·   ·   ·   ·   ·   ·  \n",
      "F  ·   ·   ·   ·   ·   ·   ·   ·   ·   ·  \n",
      "G  ·   ·   ·   ·   ·   ·   ·   ·   ·   ·  \n",
      "H  ·   ·   ·   ·   ·   ·   ·   ·   ·   ·  \n",
      "I  ·   ·   ·   ·   ·   ·   ·   ·   ·   ·  \n",
      "J  ·   ·   ·   ·   ·   ·   ·   ·   ·   ·  \n",
      "Colocando barco de tamaño 1\n"
     ]
    },
    {
     "name": "stdin",
     "output_type": "stream",
     "text": [
      "Ingresa la coordenada de inicio (ej. A1):  F2\n",
      "Ingresa la dirección (H para horizontal, V para vertical):  H\n"
     ]
    },
    {
     "name": "stdout",
     "output_type": "stream",
     "text": [
      "   1   2   3   4   5   6   7   8   9   10 \n",
      "A  O   ·   ·   ·   ·   ·   ·   ·   ·   ·  \n",
      "B  ·   ·   ·   ·   ·   ·   ·   ·   ·   ·  \n",
      "C  ·   ·   ·   ·   ·   ·   ·   ·   ·   ·  \n",
      "D  ·   ·   ·   ·   ·   ·   ·   ·   ·   ·  \n",
      "E  ·   ·   ·   ·   ·   ·   ·   ·   ·   ·  \n",
      "F  ·   O   ·   ·   ·   ·   ·   ·   ·   ·  \n",
      "G  ·   ·   ·   ·   ·   ·   ·   ·   ·   ·  \n",
      "H  ·   ·   ·   ·   ·   ·   ·   ·   ·   ·  \n",
      "I  ·   ·   ·   ·   ·   ·   ·   ·   ·   ·  \n",
      "J  ·   ·   ·   ·   ·   ·   ·   ·   ·   ·  \n",
      "Colocando barco de tamaño 1\n"
     ]
    },
    {
     "name": "stdin",
     "output_type": "stream",
     "text": [
      "Ingresa la coordenada de inicio (ej. A1):  G3\n",
      "Ingresa la dirección (H para horizontal, V para vertical):  H\n"
     ]
    },
    {
     "name": "stdout",
     "output_type": "stream",
     "text": [
      "   1   2   3   4   5   6   7   8   9   10 \n",
      "A  O   ·   ·   ·   ·   ·   ·   ·   ·   ·  \n",
      "B  ·   ·   ·   ·   ·   ·   ·   ·   ·   ·  \n",
      "C  ·   ·   ·   ·   ·   ·   ·   ·   ·   ·  \n",
      "D  ·   ·   ·   ·   ·   ·   ·   ·   ·   ·  \n",
      "E  ·   ·   ·   ·   ·   ·   ·   ·   ·   ·  \n",
      "F  ·   O   ·   ·   ·   ·   ·   ·   ·   ·  \n",
      "G  ·   ·   O   ·   ·   ·   ·   ·   ·   ·  \n",
      "H  ·   ·   ·   ·   ·   ·   ·   ·   ·   ·  \n",
      "I  ·   ·   ·   ·   ·   ·   ·   ·   ·   ·  \n",
      "J  ·   ·   ·   ·   ·   ·   ·   ·   ·   ·  \n",
      "Colocando barco de tamaño 1\n"
     ]
    },
    {
     "name": "stdin",
     "output_type": "stream",
     "text": [
      "Ingresa la coordenada de inicio (ej. A1):  I6\n",
      "Ingresa la dirección (H para horizontal, V para vertical):  H\n"
     ]
    },
    {
     "name": "stdout",
     "output_type": "stream",
     "text": [
      "   1   2   3   4   5   6   7   8   9   10 \n",
      "A  O   ·   ·   ·   ·   ·   ·   ·   ·   ·  \n",
      "B  ·   ·   ·   ·   ·   ·   ·   ·   ·   ·  \n",
      "C  ·   ·   ·   ·   ·   ·   ·   ·   ·   ·  \n",
      "D  ·   ·   ·   ·   ·   ·   ·   ·   ·   ·  \n",
      "E  ·   ·   ·   ·   ·   ·   ·   ·   ·   ·  \n",
      "F  ·   O   ·   ·   ·   ·   ·   ·   ·   ·  \n",
      "G  ·   ·   O   ·   ·   ·   ·   ·   ·   ·  \n",
      "H  ·   ·   ·   ·   ·   ·   ·   ·   ·   ·  \n",
      "I  ·   ·   ·   ·   ·   O   ·   ·   ·   ·  \n",
      "J  ·   ·   ·   ·   ·   ·   ·   ·   ·   ·  \n",
      "Colocando barco de tamaño 2\n"
     ]
    },
    {
     "name": "stdin",
     "output_type": "stream",
     "text": [
      "Ingresa la coordenada de inicio (ej. A1):  H9\n",
      "Ingresa la dirección (H para horizontal, V para vertical):  H\n"
     ]
    },
    {
     "name": "stdout",
     "output_type": "stream",
     "text": [
      "   1   2   3   4   5   6   7   8   9   10 \n",
      "A  O   ·   ·   ·   ·   ·   ·   ·   ·   ·  \n",
      "B  ·   ·   ·   ·   ·   ·   ·   ·   ·   ·  \n",
      "C  ·   ·   ·   ·   ·   ·   ·   ·   ·   ·  \n",
      "D  ·   ·   ·   ·   ·   ·   ·   ·   ·   ·  \n",
      "E  ·   ·   ·   ·   ·   ·   ·   ·   ·   ·  \n",
      "F  ·   O   ·   ·   ·   ·   ·   ·   ·   ·  \n",
      "G  ·   ·   O   ·   ·   ·   ·   ·   ·   ·  \n",
      "H  ·   ·   ·   ·   ·   ·   ·   ·   O   O  \n",
      "I  ·   ·   ·   ·   ·   O   ·   ·   ·   ·  \n",
      "J  ·   ·   ·   ·   ·   ·   ·   ·   ·   ·  \n",
      "Colocando barco de tamaño 2\n"
     ]
    },
    {
     "name": "stdin",
     "output_type": "stream",
     "text": [
      "Ingresa la coordenada de inicio (ej. A1):  C8\n",
      "Ingresa la dirección (H para horizontal, V para vertical):  H\n"
     ]
    },
    {
     "name": "stdout",
     "output_type": "stream",
     "text": [
      "   1   2   3   4   5   6   7   8   9   10 \n",
      "A  O   ·   ·   ·   ·   ·   ·   ·   ·   ·  \n",
      "B  ·   ·   ·   ·   ·   ·   ·   ·   ·   ·  \n",
      "C  ·   ·   ·   ·   ·   ·   ·   O   O   ·  \n",
      "D  ·   ·   ·   ·   ·   ·   ·   ·   ·   ·  \n",
      "E  ·   ·   ·   ·   ·   ·   ·   ·   ·   ·  \n",
      "F  ·   O   ·   ·   ·   ·   ·   ·   ·   ·  \n",
      "G  ·   ·   O   ·   ·   ·   ·   ·   ·   ·  \n",
      "H  ·   ·   ·   ·   ·   ·   ·   ·   O   O  \n",
      "I  ·   ·   ·   ·   ·   O   ·   ·   ·   ·  \n",
      "J  ·   ·   ·   ·   ·   ·   ·   ·   ·   ·  \n",
      "Colocando barco de tamaño 2\n"
     ]
    },
    {
     "name": "stdin",
     "output_type": "stream",
     "text": [
      "Ingresa la coordenada de inicio (ej. A1):  E8\n",
      "Ingresa la dirección (H para horizontal, V para vertical):  H\n"
     ]
    },
    {
     "name": "stdout",
     "output_type": "stream",
     "text": [
      "   1   2   3   4   5   6   7   8   9   10 \n",
      "A  O   ·   ·   ·   ·   ·   ·   ·   ·   ·  \n",
      "B  ·   ·   ·   ·   ·   ·   ·   ·   ·   ·  \n",
      "C  ·   ·   ·   ·   ·   ·   ·   O   O   ·  \n",
      "D  ·   ·   ·   ·   ·   ·   ·   ·   ·   ·  \n",
      "E  ·   ·   ·   ·   ·   ·   ·   O   O   ·  \n",
      "F  ·   O   ·   ·   ·   ·   ·   ·   ·   ·  \n",
      "G  ·   ·   O   ·   ·   ·   ·   ·   ·   ·  \n",
      "H  ·   ·   ·   ·   ·   ·   ·   ·   O   O  \n",
      "I  ·   ·   ·   ·   ·   O   ·   ·   ·   ·  \n",
      "J  ·   ·   ·   ·   ·   ·   ·   ·   ·   ·  \n",
      "Colocando barco de tamaño 3\n"
     ]
    },
    {
     "name": "stdin",
     "output_type": "stream",
     "text": [
      "Ingresa la coordenada de inicio (ej. A1):  F7\n",
      "Ingresa la dirección (H para horizontal, V para vertical):  H\n"
     ]
    },
    {
     "name": "stdout",
     "output_type": "stream",
     "text": [
      "   1   2   3   4   5   6   7   8   9   10 \n",
      "A  O   ·   ·   ·   ·   ·   ·   ·   ·   ·  \n",
      "B  ·   ·   ·   ·   ·   ·   ·   ·   ·   ·  \n",
      "C  ·   ·   ·   ·   ·   ·   ·   O   O   ·  \n",
      "D  ·   ·   ·   ·   ·   ·   ·   ·   ·   ·  \n",
      "E  ·   ·   ·   ·   ·   ·   ·   O   O   ·  \n",
      "F  ·   O   ·   ·   ·   ·   O   O   O   ·  \n",
      "G  ·   ·   O   ·   ·   ·   ·   ·   ·   ·  \n",
      "H  ·   ·   ·   ·   ·   ·   ·   ·   O   O  \n",
      "I  ·   ·   ·   ·   ·   O   ·   ·   ·   ·  \n",
      "J  ·   ·   ·   ·   ·   ·   ·   ·   ·   ·  \n",
      "Colocando barco de tamaño 3\n"
     ]
    },
    {
     "name": "stdin",
     "output_type": "stream",
     "text": [
      "Ingresa la coordenada de inicio (ej. A1):  J8\n",
      "Ingresa la dirección (H para horizontal, V para vertical):  H\n"
     ]
    },
    {
     "name": "stdout",
     "output_type": "stream",
     "text": [
      "   1   2   3   4   5   6   7   8   9   10 \n",
      "A  O   ·   ·   ·   ·   ·   ·   ·   ·   ·  \n",
      "B  ·   ·   ·   ·   ·   ·   ·   ·   ·   ·  \n",
      "C  ·   ·   ·   ·   ·   ·   ·   O   O   ·  \n",
      "D  ·   ·   ·   ·   ·   ·   ·   ·   ·   ·  \n",
      "E  ·   ·   ·   ·   ·   ·   ·   O   O   ·  \n",
      "F  ·   O   ·   ·   ·   ·   O   O   O   ·  \n",
      "G  ·   ·   O   ·   ·   ·   ·   ·   ·   ·  \n",
      "H  ·   ·   ·   ·   ·   ·   ·   ·   O   O  \n",
      "I  ·   ·   ·   ·   ·   O   ·   ·   ·   ·  \n",
      "J  ·   ·   ·   ·   ·   ·   ·   O   O   O  \n",
      "Colocando barco de tamaño 4\n"
     ]
    },
    {
     "name": "stdin",
     "output_type": "stream",
     "text": [
      "Ingresa la coordenada de inicio (ej. A1):  J1\n",
      "Ingresa la dirección (H para horizontal, V para vertical):  H\n"
     ]
    },
    {
     "name": "stdout",
     "output_type": "stream",
     "text": [
      "   1   2   3   4   5   6   7   8   9   10 \n",
      "A  O   ·   ·   ·   ·   ·   ·   ·   ·   ·  \n",
      "B  ·   ·   ·   ·   ·   ·   ·   ·   ·   ·  \n",
      "C  ·   ·   ·   ·   ·   ·   ·   O   O   ·  \n",
      "D  ·   ·   ·   ·   ·   ·   ·   ·   ·   ·  \n",
      "E  ·   ·   ·   ·   ·   ·   ·   O   O   ·  \n",
      "F  ·   O   ·   ·   ·   ·   O   O   O   ·  \n",
      "G  ·   ·   O   ·   ·   ·   ·   ·   ·   ·  \n",
      "H  ·   ·   ·   ·   ·   ·   ·   ·   O   O  \n",
      "I  ·   ·   ·   ·   ·   O   ·   ·   ·   ·  \n",
      "J  O   O   O   O   ·   ·   ·   O   O   O  \n"
     ]
    }
   ],
   "source": [
    "import numpy as np\n",
    "\n",
    "class Tablero:\n",
    "    def __init__(self, tipo='jugador', ndim=10):\n",
    "        self.tablero = np.full((ndim, ndim), ' · ') \n",
    "        self.disparos = 0\n",
    "        self.tipo = tipo\n",
    "        self.barcos = []\n",
    "\n",
    "    def mostrar_tablero(self):\n",
    "        ndim = len(self.tablero)\n",
    "        letras = ['A', 'B', 'C', 'D', 'E', 'F', 'G', 'H', 'I', 'J']\n",
    "        print(end=' ')\n",
    "        [print(\" \",n,end=' ') for n in range(1, ndim + 1)]\n",
    "        print()\n",
    "        for fila, letra in zip(self.tablero, letras):\n",
    "            print(letra, end=' ')\n",
    "            for posicion in fila:\n",
    "                print(posicion,end=' ')\n",
    "            print()\n",
    "\n",
    "    def colocar_barco(self, tamaño):\n",
    "        print(f\"Colocando barco de tamaño {tamaño}\")\n",
    "        while True:\n",
    "            try:\n",
    "                inicio = input(\"Ingresa la coordenada de inicio (ej. A1): \").upper()\n",
    "                fila = ord(inicio[0]) - ord('A')\n",
    "                columna = int(inicio[1:]) - 1\n",
    "\n",
    "                if fila < 0 or fila >= len(self.tablero) or columna < 0 or columna >= len(self.tablero):\n",
    "                    print(\"Coordenada fuera del tablero. Intenta de nuevo.\")\n",
    "                    continue\n",
    "\n",
    "                direccion = input(\"Ingresa la dirección (H para horizontal, V para vertical): \").upper()\n",
    "                if direccion not in ['H', 'V']:\n",
    "                    print(\"Dirección no válida. Intenta de nuevo.\")\n",
    "                    continue\n",
    "\n",
    "                if direccion == 'H':\n",
    "                    if columna + tamaño > len(self.tablero):\n",
    "                        print(\"Barco fuera del tablero. Intenta de nuevo.\")\n",
    "                        continue\n",
    "\n",
    "                    if any(self.tablero[fila][columna + i] != ' · ' for i in range(tamaño)):\n",
    "                        print(\"Posición ocupada. Intenta de nuevo.\")\n",
    "                        continue\n",
    "\n",
    "                    for i in range(tamaño):\n",
    "                        self.tablero[fila][columna + i] = ' O '\n",
    "                    self.barcos.append((fila, columna, direccion, tamaño))\n",
    "                    break\n",
    "\n",
    "                elif direccion == 'V':\n",
    "                    if fila + tamaño > len(self.tablero):\n",
    "                        print(\"Barco fuera del tablero. Intenta de nuevo.\")\n",
    "                        continue\n",
    "\n",
    "                    if any(self.tablero[fila + i][columna] != ' · ' for i in range(tamaño)):\n",
    "                        print(\"Posición ocupada. Intenta de nuevo.\")\n",
    "                        continue\n",
    "\n",
    "                    for i in range(tamaño):\n",
    "                        self.tablero[fila + i][columna] = ' O '\n",
    "                    self.barcos.append((fila, columna, direccion, tamaño))\n",
    "                    break\n",
    "\n",
    "            except (ValueError, IndexError):\n",
    "                print(\"Coordenada no válida. Intenta de nuevo.\")\n",
    "\n",
    "\n",
    "tablero_jugador = Tablero('jugador')\n",
    "\n",
    "\n",
    "for tamaño in [1,1,1,1,2,2,2,3,3,4]:\n",
    "    tablero_jugador.colocar_barco(tamaño)\n",
    "    tablero_jugador.mostrar_tablero()"
   ]
  }
 ],
 "metadata": {
  "kernelspec": {
   "display_name": "Python 3 (ipykernel)",
   "language": "python",
   "name": "python3"
  },
  "language_info": {
   "codemirror_mode": {
    "name": "ipython",
    "version": 3
   },
   "file_extension": ".py",
   "mimetype": "text/x-python",
   "name": "python",
   "nbconvert_exporter": "python",
   "pygments_lexer": "ipython3",
   "version": "3.12.1"
  }
 },
 "nbformat": 4,
 "nbformat_minor": 5
}
