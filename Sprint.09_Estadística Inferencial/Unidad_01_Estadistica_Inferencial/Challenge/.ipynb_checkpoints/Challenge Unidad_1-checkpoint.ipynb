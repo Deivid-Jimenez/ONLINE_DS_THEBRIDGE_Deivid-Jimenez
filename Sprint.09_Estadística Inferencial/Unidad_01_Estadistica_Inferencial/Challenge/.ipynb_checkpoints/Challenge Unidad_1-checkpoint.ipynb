{
 "cells": [
  {
   "cell_type": "markdown",
   "id": "180bb187-630c-4020-b727-86c51abbb08e",
   "metadata": {},
   "source": [
    "## Estadistica Inferencial y Probabilidad"
   ]
  },
  {
   "cell_type": "markdown",
   "id": "2b8c0301-5867-4e07-8c67-e6005a382901",
   "metadata": {},
   "source": [
    "La práctica obligatoria de esta unidad consiste en un único ejercicio de construcción de gráficas. \n",
    "* Descarga este notebook en tu ordenador y trabaja en local. Ten en cuenta que tendrás que descar los directorios de imágenes y datos adicionales, si los hubiera.\n",
    "* Recuerda que debes subirla a tu repositorio personal antes de la sesión en vivo para que puntúe adecuadamente.\n",
    "* Recuerda también que no es necesario que esté perfecta, sólo es necesario que se vea el esfuerzo.\n",
    "* Esta práctica se resolverá en la sesión en vivo correspondiente y la solución se publicará en el repo del curso.\n"
   ]
  },
  {
   "cell_type": "markdown",
   "id": "6cfa3bc5-b7b9-4fde-bf23-f29ceeeec2bf",
   "metadata": {},
   "source": [
    "### Ejercicio 0"
   ]
  },
  {
   "cell_type": "markdown",
   "id": "2959a8a9-b6a4-4e78-9da7-9537c84f24ac",
   "metadata": {},
   "source": [
    "Importa los paquetes y módulos que necesites a lo largo del notebook."
   ]
  },
  {
   "cell_type": "code",
   "execution_count": 25,
   "id": "451b9719-aa7a-47de-aaef-93e4ad5d3911",
   "metadata": {},
   "outputs": [],
   "source": [
    "import matplotlib.pyplot as plt\n",
    "import numpy as np\n",
    "import pandas as pd\n",
    "from scipy import stats\n",
    "\n",
    "df_titanic = pd.read_csv(\"C:/Users/david/Repo_Prueba/ONLINE_DS_THEBRIDGE_Deivid-Jimenez/Sprint.09_Estadística Inferencial/Unidad_01_Estadistica_Inferencial/Temario/data/titanic.csv\")\n",
    "df_life_satisfaction = pd.read_csv(\"C:/Users/david/Repo_Prueba/ONLINE_DS_THEBRIDGE_Deivid-Jimenez/Sprint.09_Estadística Inferencial/Unidad_01_Estadistica_Inferencial/Temario/data/lifesat.csv\")\n",
    "df_life_satisfaction_full = pd.read_csv(\"C:/Users/david/Repo_Prueba/ONLINE_DS_THEBRIDGE_Deivid-Jimenez/Sprint.09_Estadística Inferencial/Unidad_01_Estadistica_Inferencial/Temario/data/lifesat_full.csv\")"
   ]
  },
  {
   "cell_type": "markdown",
   "id": "1073b284-b320-4458-9907-2c530ef4814d",
   "metadata": {},
   "source": [
    "### Ejercicio 1"
   ]
  },
  {
   "cell_type": "markdown",
   "id": "d9a4c77a-783f-42ff-94ac-a6b1cd079d7c",
   "metadata": {},
   "source": [
    "1. ¿Cuál es la probabilidad de superviviencia de un niño?"
   ]
  },
  {
   "cell_type": "code",
   "execution_count": 11,
   "id": "421619fd-714b-482a-8b36-2dd95f2ac292",
   "metadata": {},
   "outputs": [
    {
     "name": "stdout",
     "output_type": "stream",
     "text": [
      "p(F) =  0.5903614457831325\n"
     ]
    }
   ],
   "source": [
    "casos_favorables = len(df_titanic[(df_titanic[\"who\"] == \"child\") & (df_titanic[\"alive\"] == \"yes\")])\n",
    "casos_totales = len(df_titanic[df_titanic[\"who\"] == \"child\"])\n",
    "p_F = casos_favorables / casos_totales\n",
    "print(\"p(F) = \", p_F)\n"
   ]
  },
  {
   "cell_type": "markdown",
   "id": "91beb6c8-dc98-4160-8d57-0d4438fc74e1",
   "metadata": {},
   "source": [
    "2. ¿Cuál es la probabilidad de que una mujer viajase sola?"
   ]
  },
  {
   "cell_type": "code",
   "execution_count": 17,
   "id": "4f9bfc8b-e33b-4d72-92a4-fd6537644bab",
   "metadata": {},
   "outputs": [
    {
     "data": {
      "text/plain": [
       "0.4012738853503185"
      ]
     },
     "execution_count": 17,
     "metadata": {},
     "output_type": "execute_result"
    }
   ],
   "source": [
    "women_df = df_titanic[df_titanic[\"sex\"] == \"female\"]\n",
    "solo_women = women_df[women_df[\"alone\"] == True]\n",
    "prob_woman_alone = len(solo_women) / len(women_df)\n",
    "prob_woman_alone"
   ]
  },
  {
   "cell_type": "markdown",
   "id": "f2e376bf-813a-4b92-a152-33eec429a540",
   "metadata": {},
   "source": [
    "3. ¿Cuál es la probabilidad de sobreviviese un hombre entre 30 y 40 años que embarcó en Southampton y no tuvo que pagar billete?"
   ]
  },
  {
   "cell_type": "code",
   "execution_count": 22,
   "id": "59b37ac9-1597-447e-8498-f3b17fd8efe8",
   "metadata": {},
   "outputs": [
    {
     "name": "stdout",
     "output_type": "stream",
     "text": [
      "0.0\n"
     ]
    }
   ],
   "source": [
    "filtered_men = df_titanic[\n",
    "    (df_titanic[\"sex\"] == \"male\") &\n",
    "    (df_titanic[\"age\"] >= 30) & (df_titanic[\"age\"] <= 40) &\n",
    "    (df_titanic[\"embark_town\"] == \"Southampton\") &\n",
    "    (df_titanic[\"fare\"] == 0)\n",
    "]\n",
    "\n",
    "total_filtered_men = len(filtered_men)\n",
    "\n",
    "survived_filtered_men = (filtered_men[\"alive\"] == \"yes\").sum()\n",
    "\n",
    "prob_survival_filtered_men = survived_filtered_men / total_filtered_men if total_filtered_men > 0 else None\n",
    "total_filtered_men, survived_filtered_men, prob_survival_filtered_men\n",
    "\n",
    "print(prob_survival_filtered_men)\n",
    "\n"
   ]
  },
  {
   "cell_type": "markdown",
   "id": "2a34e04a-36fc-4a2f-8910-1dbdb81199af",
   "metadata": {},
   "source": [
    "4.¿Y si hubiera acompañado de 2 familiares?"
   ]
  },
  {
   "cell_type": "code",
   "execution_count": null,
   "id": "d83cd38d-32d9-4d55-95fe-a213e9199a9a",
   "metadata": {},
   "outputs": [],
   "source": []
  },
  {
   "cell_type": "markdown",
   "id": "188c2c18-c4fa-4fe0-bc1e-744c645430a2",
   "metadata": {},
   "source": [
    "5. Si consideramos ahora que queremos tener cierta confianza estadística en nuestras probabilidades (ten en cuenta que estamos extrapolando los ratios de una muestra), cuál sería el rango de probabilidades de sobrevivir de una persona que viajase sola al 95%"
   ]
  },
  {
   "cell_type": "code",
   "execution_count": 28,
   "id": "947f5546-51dd-45f1-82f4-f9975e17ca7f",
   "metadata": {},
   "outputs": [
    {
     "name": "stdout",
     "output_type": "stream",
     "text": [
      "Proporción muestral (p̂): 0.304\n",
      "Número de personas solas: 537\n",
      "Supervivientes: 163\n",
      "Z = -9.105\n",
      "Valor-p = 0.0000\n",
      "Intervalo de confianza al 95%: (0.265, 0.342)\n"
     ]
    }
   ],
   "source": [
    "alone_df = df_titanic[df_titanic[\"alone\"] == True]\n",
    "\n",
    "total_alone = len(alone_df)\n",
    "\n",
    "survived_alone = (alone_df[\"alive\"] == \"yes\").sum()\n",
    "\n",
    "p_hat = survived_alone / total_alone\n",
    "\n",
    "p0 = 0.5\n",
    "\n",
    "z = (p_hat - p0) / np.sqrt(p0 * (1 - p0) / total_alone)\n",
    "\n",
    "p_value = 2 * (1 - stats.norm.cdf(abs(z)))\n",
    "\n",
    "# Intervalo de confianza al 95% \n",
    "z_critical = stats.norm.ppf(0.975)  # 95%\n",
    "margin_of_error = z_critical * np.sqrt(p_hat * (1 - p_hat) / total_alone)\n",
    "ci_lower = p_hat - margin_of_error\n",
    "ci_upper = p_hat + margin_of_error\n",
    "\n",
    "# Mostrar resultados\n",
    "print(f\"Proporción muestral (p̂): {p_hat:.3f}\")\n",
    "print(f\"Número de personas solas: {total_alone}\")\n",
    "print(f\"Supervivientes: {survived_alone}\")\n",
    "print(f\"Z = {z:.3f}\")\n",
    "print(f\"Valor-p = {p_value:.4f}\")\n",
    "print(f\"Intervalo de confianza al 95%: ({ci_lower:.3f}, {ci_upper:.3f})\")\n"
   ]
  },
  {
   "cell_type": "markdown",
   "id": "83cafa1f-0bd5-45d9-90b8-12b3fb4b9e28",
   "metadata": {},
   "source": [
    "### 2 Life Satisfaction"
   ]
  },
  {
   "cell_type": "markdown",
   "id": "ed04dd5a-eacc-4d6a-90b6-f66a8bd0318d",
   "metadata": {},
   "source": [
    "1. Podemos asegurar con cierta confianza estadística (del 99%) que la satisfaccion vital media del mundo es menor de 7."
   ]
  },
  {
   "cell_type": "markdown",
   "id": "d3331b1d-4774-4ba9-b865-b69f419dd020",
   "metadata": {},
   "source": [
    "2. ¿Qué nivel de satisfacción media asignaríamos a país con esperanza de vida de más de 65 años y tasa de empleo superior a 60%? (ojo fijate que son umbrales)"
   ]
  },
  {
   "cell_type": "code",
   "execution_count": 38,
   "id": "a3c4fccf-d027-404c-a9bc-b52eebc09aad",
   "metadata": {},
   "outputs": [
    {
     "name": "stdout",
     "output_type": "stream",
     "text": [
      "6.683333333333334\n"
     ]
    }
   ],
   "source": [
    "# Aplicar los umbrales: esperanza de vida > 65 y empleo > 60%\n",
    "filtered_df = df_life_satisfaction[\n",
    "    (df_life_satisfaction[\"Life expectancy\"] > 65) &\n",
    "    (df_life_satisfaction[\"Employment rate\"] > 60)\n",
    "]\n",
    "\n",
    "mean_life_satisfaction_filtered = filtered_df[\"Life satisfaction\"].mean()\n",
    "mean_life_satisfaction_filtered\n",
    "\n",
    "print(mean_life_satisfaction_filtered)"
   ]
  },
  {
   "cell_type": "markdown",
   "id": "b0828e85-502e-4e10-89db-95c8439df261",
   "metadata": {},
   "source": [
    "3.¿Cuál sería la probabilidad de tener más de 6 puntos de satisfacción vital para los países con esperanza de vida mayor a 65 años y tasa de empleo superior a 60%?"
   ]
  },
  {
   "cell_type": "code",
   "execution_count": 41,
   "id": "0815ed20-db7c-4d8a-9d1b-e7f23df17e86",
   "metadata": {},
   "outputs": [
    {
     "name": "stdout",
     "output_type": "stream",
     "text": [
      "17 24 70.83333333333334\n"
     ]
    }
   ],
   "source": [
    "favorable_cases = (filtered_df[\"Life satisfaction\"] > 6).sum()\n",
    "\n",
    "total_cases = len(filtered_df)\n",
    "prob_satisfaction_gt_6 = favorable_cases / total_cases if total_cases > 0 else None\n",
    "favorable_cases, total_cases, prob_satisfaction_gt_6\n",
    "\n",
    "print(favorable_cases,total_cases,prob_satisfaction_gt_6*100)"
   ]
  }
 ],
 "metadata": {
  "kernelspec": {
   "display_name": "Python 3 (ipykernel)",
   "language": "python",
   "name": "python3"
  },
  "language_info": {
   "codemirror_mode": {
    "name": "ipython",
    "version": 3
   },
   "file_extension": ".py",
   "mimetype": "text/x-python",
   "name": "python",
   "nbconvert_exporter": "python",
   "pygments_lexer": "ipython3",
   "version": "3.12.1"
  }
 },
 "nbformat": 4,
 "nbformat_minor": 5
}
