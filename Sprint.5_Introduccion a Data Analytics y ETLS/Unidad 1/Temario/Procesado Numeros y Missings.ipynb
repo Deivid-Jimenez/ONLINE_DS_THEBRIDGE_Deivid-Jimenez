{
 "cells": [
  {
   "cell_type": "code",
   "execution_count": 2,
   "id": "83662b87-1016-4fb5-93bf-7e797b2b9823",
   "metadata": {},
   "outputs": [],
   "source": [
    "import numpy as np\n",
    "import pandas as pd\n",
    "\n",
    "df_viajes= pd.read_csv(\"C:/Users/david/Downloads/dataset_viajes.csv\")"
   ]
  },
  {
   "cell_type": "code",
   "execution_count": null,
   "id": "82655e07-1152-41db-9325-ff647e7382ed",
   "metadata": {},
   "outputs": [],
   "source": [
    "#Aquí podemos ver qué valores nulos tenemos"
   ]
  },
  {
   "cell_type": "code",
   "execution_count": 3,
   "id": "499e6a00-34aa-41c0-991e-ac7bdccbbdd3",
   "metadata": {},
   "outputs": [
    {
     "name": "stdout",
     "output_type": "stream",
     "text": [
      "<class 'pandas.core.frame.DataFrame'>\n",
      "RangeIndex: 1000 entries, 0 to 999\n",
      "Data columns (total 8 columns):\n",
      " #   Column      Non-Null Count  Dtype  \n",
      "---  ------      --------------  -----  \n",
      " 0   Id_vuelo    1000 non-null   object \n",
      " 1   Aircompany  1000 non-null   object \n",
      " 2   Origen      1000 non-null   object \n",
      " 3   Destino     1000 non-null   object \n",
      " 4   Distancia   872 non-null    float64\n",
      " 5   avion       1000 non-null   object \n",
      " 6   consumo_kg  862 non-null    object \n",
      " 7   duracion    853 non-null    float64\n",
      "dtypes: float64(2), object(6)\n",
      "memory usage: 62.6+ KB\n"
     ]
    }
   ],
   "source": [
    "df_viajes.info()"
   ]
  },
  {
   "cell_type": "markdown",
   "id": "28ecd949-2b54-41c4-968e-a7a8689cd252",
   "metadata": {},
   "source": [
    "# Clasificación\n",
    "\n",
    "Por su origen, y dificultad para \"recuperarlos\", los datos faltantes se pueden clasificar en tres categorías:\n",
    "\n",
    "1. **Missing Completely at Random (MCAR).**  \n",
    "   Estos son datos que se pierden de verdad de forma esporádica y aleatoria. La pérdida de datos no tiene que ver con la observación estudiada. Por ejemplo, un sensor que se quede sin batería, un cuestionario perdido en una oficina de correos, o una muestra sanguínea fallida en un laboratorio. En general, como es tan aleatoria la pérdida, si no es masiva, son datos que se pueden recuperar o estimar a partir de otras \"filas\" con datos similares (los que rellenamos con las medidas, etc. de otros campos)"
   ]
  },
  {
   "cell_type": "markdown",
   "id": "011a0e85-0ed6-45a1-8c9c-fef9260fbb9d",
   "metadata": {},
   "source": [
    "2. **Missing at Random (MAR).**  \n",
    "   El hecho de la pérdida está relacionado con otra variable. Por ejemplo, teléfonos que se estropean y ya no podemos medir su velocidad de acceso a internet. Podemos recuperar esos datos mirando teléfonos similares que no se estropean; es peor que el anterior pero aún podemos tratarlo.\n",
    "\n",
    "3. **Missing not at Random (MNAR).**  \n",
    "   Datos incompletos que no se explican por motivos anteriores y que en general no podemos recuperar (estos son candidatos a que los borremos)."
   ]
  },
  {
   "cell_type": "markdown",
   "id": "b6c811ab-972c-4ad6-8c30-2d068242d54d",
   "metadata": {},
   "source": [
    "En general, si tienes muchos datos, tira los *missings*, no pierdas el tiempo. Sólo si tus datos son escasos y estás en modo EDA (Exploratory Data Analysis), intenta recuperarlos, pero ojo: si tienes *missings*, pocos datos y crees que son valiosos los que has perdido, intenta generar nuevos o recuperarlos, pero no estimarlos (para Machine Learning, estimar sobre lo que ya existe y luego usarlo como si fuera verdad, es una forma de introducir sesgos \"peligrosos\", véase ChatGPT"
   ]
  },
  {
   "cell_type": "markdown",
   "id": "5552b243-c906-4e50-8969-32792232bfe9",
   "metadata": {},
   "source": [
    "# Aproximaciones para tratar los missings\n",
    "\n",
    "## A. Intenta obtenerlos\n",
    "\n",
    "- A veces es posible encontrar los valores incompletos (repitiendo una encuesta, buscando en otras fuentes, etc.). Esto no suele ser lo habitual.\n",
    "\n",
    "En nuestro dataset era posible para las distancias, ya que teniendo Origen y Destino la distancia no cambia y podemos completar esos campos faltantes."
   ]
  },
  {
   "cell_type": "code",
   "execution_count": 9,
   "id": "bcfe4269-0f21-4bed-8182-5a772c88941c",
   "metadata": {},
   "outputs": [],
   "source": [
    "df_viajes_sin_na = df_viajes.copy()\n",
    "df_viajes_sin_na[\"Destino\"] = df_viajes_sin_na.Destino.str.lower().str.capitalize()\n",
    "\n",
    "df_viajes_sin_na[\"Distancia_Corregida\"]= df_viajes_sin_na.groupby([\"Origen\",\"Destino\"])[\"Distancia\"].transform(\"mean\")"
   ]
  },
  {
   "cell_type": "code",
   "execution_count": 10,
   "id": "e6f209f9-b378-4adc-abc5-20a46f72e57f",
   "metadata": {},
   "outputs": [
    {
     "name": "stdout",
     "output_type": "stream",
     "text": [
      "<class 'pandas.core.frame.DataFrame'>\n",
      "RangeIndex: 1000 entries, 0 to 999\n",
      "Data columns (total 9 columns):\n",
      " #   Column               Non-Null Count  Dtype  \n",
      "---  ------               --------------  -----  \n",
      " 0   Id_vuelo             1000 non-null   object \n",
      " 1   Aircompany           1000 non-null   object \n",
      " 2   Origen               1000 non-null   object \n",
      " 3   Destino              1000 non-null   object \n",
      " 4   Distancia            872 non-null    float64\n",
      " 5   avion                1000 non-null   object \n",
      " 6   consumo_kg           862 non-null    object \n",
      " 7   duracion             853 non-null    float64\n",
      " 8   Distancia_Corregida  1000 non-null   float64\n",
      "dtypes: float64(3), object(6)\n",
      "memory usage: 70.4+ KB\n"
     ]
    }
   ],
   "source": [
    "df_viajes_sin_na.info()"
   ]
  },
  {
   "cell_type": "markdown",
   "id": "c350ef42-34b5-4b91-ba56-98258eb14465",
   "metadata": {},
   "source": [
    "# Descartar datos, es decir las filas\n",
    "\n",
    "Omitir los registros (filas) con algún dato faltante y analizar el dataset resultante. Si el tamaño del conjunto de datos es grande, y no hay demasiados *missing values*, puede ser una estrategia válida. Sin embargo, cuando no tenemos muchos datos o no se satisface MCAR, no es la mejor aproximación, y puede causar sesgo en los datos.\n",
    "\n",
    "Aún así, cómo hacerlo con Pandas: recordamos que en la práctica nuestro criterio fue descartar las filas que tenían *missing* en los tres campos, ¿por qué? Porque tenían demasiado \"error\"; rellenarlos con estimaciones (medias, modas, modelos de IA, etc.) no tiene sentido porque convierte al dato en demasiado \"artificial\". Hagámoslo:"
   ]
  },
  {
   "cell_type": "code",
   "execution_count": 11,
   "id": "058b4e7f-a650-433f-8d6f-381af53ccf81",
   "metadata": {},
   "outputs": [],
   "source": [
    "df_viajes_sin_na_I= df_viajes.dropna(subset=[\"Distancia\",\"consumo_kg\",\"duracion\"],how=\"all\")"
   ]
  },
  {
   "cell_type": "code",
   "execution_count": 12,
   "id": "cdca83a5-6e4c-47cb-9971-7e88796d7087",
   "metadata": {},
   "outputs": [
    {
     "name": "stdout",
     "output_type": "stream",
     "text": [
      "<class 'pandas.core.frame.DataFrame'>\n",
      "Index: 997 entries, 0 to 999\n",
      "Data columns (total 8 columns):\n",
      " #   Column      Non-Null Count  Dtype  \n",
      "---  ------      --------------  -----  \n",
      " 0   Id_vuelo    997 non-null    object \n",
      " 1   Aircompany  997 non-null    object \n",
      " 2   Origen      997 non-null    object \n",
      " 3   Destino     997 non-null    object \n",
      " 4   Distancia   872 non-null    float64\n",
      " 5   avion       997 non-null    object \n",
      " 6   consumo_kg  862 non-null    object \n",
      " 7   duracion    853 non-null    float64\n",
      "dtypes: float64(2), object(6)\n",
      "memory usage: 70.1+ KB\n"
     ]
    }
   ],
   "source": [
    "df_viajes_sin_na_I.info()"
   ]
  },
  {
   "cell_type": "markdown",
   "id": "5ab8ed0b-c722-4bd4-be3c-9ff4cab7a1b6",
   "metadata": {},
   "source": [
    "# Eliminar campos\n",
    "\n",
    "Si una variable tiene muchos *missings*, una opción puede ser eliminar la columna del dataset. Por ejemplo, una variable con el 99% de nulos, no aportará mucha información y podremos eliminarla. En cualquier caso, es una decisión que hay que tomar con cuidado, y depende de cada caso.\n",
    "\n",
    "Para saber cuál es la proporción de nulos, acudíamos a:"
   ]
  },
  {
   "cell_type": "code",
   "execution_count": 16,
   "id": "077d5f04-b095-4028-8f4a-adf7ff8658ad",
   "metadata": {},
   "outputs": [
    {
     "data": {
      "text/plain": [
       "np.float64(0.147)"
      ]
     },
     "execution_count": 16,
     "metadata": {},
     "output_type": "execute_result"
    }
   ],
   "source": [
    "df_viajes[\"duracion\"].value_counts(normalize=True, dropna=False)[np.nan]"
   ]
  },
  {
   "cell_type": "code",
   "execution_count": 17,
   "id": "23905028-2b58-455a-a6fe-7a64ae14e41c",
   "metadata": {},
   "outputs": [
    {
     "data": {
      "text/plain": [
       "np.float64(0.138)"
      ]
     },
     "execution_count": 17,
     "metadata": {},
     "output_type": "execute_result"
    }
   ],
   "source": [
    "df_viajes[\"consumo_kg\"].value_counts(normalize=True, dropna=False)[np.nan]"
   ]
  },
  {
   "cell_type": "code",
   "execution_count": 18,
   "id": "16dae54e-1849-4875-bd29-949ddcce016d",
   "metadata": {},
   "outputs": [
    {
     "data": {
      "text/plain": [
       "np.float64(0.128)"
      ]
     },
     "execution_count": 18,
     "metadata": {},
     "output_type": "execute_result"
    }
   ],
   "source": [
    "df_viajes[\"Distancia\"].value_counts(normalize=True, dropna=False)[np.nan]"
   ]
  },
  {
   "cell_type": "markdown",
   "id": "779d1790-9b8d-4dcc-905b-977a132414e2",
   "metadata": {},
   "source": [
    "Son porcentajes muy bajos, es decir, perdemos mucha información (más del 85% de los datos) si nos deshacemos de la columna; el valor de la columna ya es otra cosa. Pero si aún así quisieramos eliminar esas columnas, usaríamos `drop`:"
   ]
  },
  {
   "cell_type": "code",
   "execution_count": 19,
   "id": "17c09a3b-3570-40fb-b53d-bb856a84fc79",
   "metadata": {},
   "outputs": [],
   "source": [
    "df_viajes_sin_na_II = df_viajes.drop(columns=[\"consumo_kg\"])"
   ]
  },
  {
   "cell_type": "code",
   "execution_count": 21,
   "id": "8373bafb-34bc-4d88-affc-a34505f7ada7",
   "metadata": {},
   "outputs": [
    {
     "name": "stdout",
     "output_type": "stream",
     "text": [
      "<class 'pandas.core.frame.DataFrame'>\n",
      "RangeIndex: 1000 entries, 0 to 999\n",
      "Data columns (total 7 columns):\n",
      " #   Column      Non-Null Count  Dtype  \n",
      "---  ------      --------------  -----  \n",
      " 0   Id_vuelo    1000 non-null   object \n",
      " 1   Aircompany  1000 non-null   object \n",
      " 2   Origen      1000 non-null   object \n",
      " 3   Destino     1000 non-null   object \n",
      " 4   Distancia   872 non-null    float64\n",
      " 5   avion       1000 non-null   object \n",
      " 6   duracion    853 non-null    float64\n",
      "dtypes: float64(2), object(5)\n",
      "memory usage: 54.8+ KB\n"
     ]
    }
   ],
   "source": [
    "df_viajes_sin_na_II.info()"
   ]
  },
  {
   "cell_type": "markdown",
   "id": "eb5a63c0-4180-42ec-9af0-f6644eb7a731",
   "metadata": {},
   "source": [
    "# Media, Mediana y Moda\n",
    "\n",
    "En lugar de eliminar, reemplazamos valores *missing* con estimaciones estadísticas como la media, la moda o la mediana. En una sustitución por la media, el valor medio de una variable se usa en lugar del valor de los datos que faltan para esa misma variable. Esto tiene la ventaja de no cambiar la media muestral de esa variable. Sin embargo, con valores faltantes que no son estrictamente aleatorios, especialmente en presencia de una gran desigualdad en el número de valores faltantes para las diferentes variables, el método de sustitución de medias puede conducir a un sesgo inconsistente.\n",
    "\n",
    "Este es el método que sugeríamos en las unidades dedicadas a Pandas, pero ten en cuenta que, como se dice anteriormente, se introduce sesgo. En cualquier caso, y como vimos en la práctica, se puede hilar fino empleando la media de agrupaciones."
   ]
  },
  {
   "cell_type": "code",
   "execution_count": 22,
   "id": "4588604c-b878-4036-97b4-530115fc7f3b",
   "metadata": {},
   "outputs": [
    {
     "name": "stdout",
     "output_type": "stream",
     "text": [
      "<class 'pandas.core.frame.DataFrame'>\n",
      "RangeIndex: 1000 entries, 0 to 999\n",
      "Data columns (total 9 columns):\n",
      " #   Column            Non-Null Count  Dtype  \n",
      "---  ------            --------------  -----  \n",
      " 0   Id_vuelo          1000 non-null   object \n",
      " 1   Aircompany        1000 non-null   object \n",
      " 2   Origen            1000 non-null   object \n",
      " 3   Destino           1000 non-null   object \n",
      " 4   Distancia         872 non-null    float64\n",
      " 5   avion             1000 non-null   object \n",
      " 6   consumo_kg        1000 non-null   float64\n",
      " 7   duracion          853 non-null    float64\n",
      " 8   consumo_kg_medio  1000 non-null   float64\n",
      "dtypes: float64(4), object(5)\n",
      "memory usage: 70.4+ KB\n"
     ]
    }
   ],
   "source": [
    "df_viajes_sin_na_IV = df_viajes.copy()\n",
    "df_viajes_sin_na_IV[\"consumo_kg\"] = df_viajes_sin_na_IV[\"consumo_kg\"].str.replace(\",\", \"\").astype(\"float\")\n",
    "df_viajes_sin_na_IV[\"consumo_kg_medio\"] = df_viajes_sin_na_IV.groupby([\"Aircompany\", \"avion\"])[\"consumo_kg\"].transform(\"mean\")\n",
    "df_viajes_sin_na_IV.loc[df_viajes_sin_na_IV.consumo_kg.isna(), \"consumo_kg\"] = df_viajes_sin_na_IV.loc[df_viajes_sin_na_IV.consumo_kg.isna(), \"consumo_kg_medio\"]\n",
    "df_viajes_sin_na_IV.info()"
   ]
  },
  {
   "cell_type": "markdown",
   "id": "d5a24b94-5a3c-479e-b5ea-d6a4b62ea7fb",
   "metadata": {},
   "source": [
    "# Añadir variable binaria indicando NaNs\n",
    "\n",
    "Como complemento a estimar los valores perdidos o NaN, podemos capturar el hecho de que es un *missing* re-estimado creando una variable binaria adicional indicando si era un valor *missing* (1, True) o no (0, False). Esto nos permitirá descartarlos en casos que no queramos contar con ellos o tenerlos en cuenta en casos que sí, con solo filtrar o no por ese campo adicional.\n",
    "\n",
    "**IMPORTANTE:** Esto se tiene que hacer antes de reimputar o estimar los *missing*, después ya no se sabrá cuáles lo eran o no. O tratar con una copia, como hemos hecho nosotros."
   ]
  },
  {
   "cell_type": "code",
   "execution_count": 23,
   "id": "2f714448-f67e-4df9-87e6-e34f2d669ee8",
   "metadata": {},
   "outputs": [],
   "source": [
    "df_viajes_sin_na_IV[\"Era_missing_consumo_kg\"]=df_viajes.consumo_kg.isna()"
   ]
  },
  {
   "cell_type": "code",
   "execution_count": 24,
   "id": "87083aba-5e68-4a58-b85a-e5d0d28c4b1c",
   "metadata": {},
   "outputs": [
    {
     "data": {
      "text/html": [
       "<div>\n",
       "<style scoped>\n",
       "    .dataframe tbody tr th:only-of-type {\n",
       "        vertical-align: middle;\n",
       "    }\n",
       "\n",
       "    .dataframe tbody tr th {\n",
       "        vertical-align: top;\n",
       "    }\n",
       "\n",
       "    .dataframe thead th {\n",
       "        text-align: right;\n",
       "    }\n",
       "</style>\n",
       "<table border=\"1\" class=\"dataframe\">\n",
       "  <thead>\n",
       "    <tr style=\"text-align: right;\">\n",
       "      <th></th>\n",
       "      <th>Id_vuelo</th>\n",
       "      <th>Aircompany</th>\n",
       "      <th>Origen</th>\n",
       "      <th>Destino</th>\n",
       "      <th>Distancia</th>\n",
       "      <th>avion</th>\n",
       "      <th>consumo_kg</th>\n",
       "      <th>duracion</th>\n",
       "      <th>consumo_kg_medio</th>\n",
       "      <th>Era_missing_consumo_kg</th>\n",
       "    </tr>\n",
       "  </thead>\n",
       "  <tbody>\n",
       "    <tr>\n",
       "      <th>1</th>\n",
       "      <td>Fly_BaRo_10737</td>\n",
       "      <td>FlyQ</td>\n",
       "      <td>Bali</td>\n",
       "      <td>Roma</td>\n",
       "      <td>12738.0</td>\n",
       "      <td>Boeing 737</td>\n",
       "      <td>3.347913e+04</td>\n",
       "      <td>1167.0</td>\n",
       "      <td>4.561165e+06</td>\n",
       "      <td>False</td>\n",
       "    </tr>\n",
       "    <tr>\n",
       "      <th>3</th>\n",
       "      <td>Mol_PaCi_10737</td>\n",
       "      <td>MoldaviAir</td>\n",
       "      <td>París</td>\n",
       "      <td>Cincinnati</td>\n",
       "      <td>6370.0</td>\n",
       "      <td>Boeing 737</td>\n",
       "      <td>1.702701e+04</td>\n",
       "      <td>503.0</td>\n",
       "      <td>2.562361e+14</td>\n",
       "      <td>False</td>\n",
       "    </tr>\n",
       "    <tr>\n",
       "      <th>4</th>\n",
       "      <td>Tab_CiRo_10747</td>\n",
       "      <td>TabarAir</td>\n",
       "      <td>Cincinnati</td>\n",
       "      <td>Roma</td>\n",
       "      <td>7480.0</td>\n",
       "      <td>Boeing 747</td>\n",
       "      <td>8.611574e+04</td>\n",
       "      <td>518.0</td>\n",
       "      <td>4.799067e+14</td>\n",
       "      <td>False</td>\n",
       "    </tr>\n",
       "    <tr>\n",
       "      <th>5</th>\n",
       "      <td>Mol_CaMe_10737</td>\n",
       "      <td>MoldaviAir</td>\n",
       "      <td>Cádiz</td>\n",
       "      <td>Melbourne</td>\n",
       "      <td>20029.0</td>\n",
       "      <td>Boeing 737</td>\n",
       "      <td>5.314815e+04</td>\n",
       "      <td>NaN</td>\n",
       "      <td>2.562361e+14</td>\n",
       "      <td>False</td>\n",
       "    </tr>\n",
       "    <tr>\n",
       "      <th>6</th>\n",
       "      <td>Mol_PaLo_11320</td>\n",
       "      <td>MoldaviAir</td>\n",
       "      <td>París</td>\n",
       "      <td>Londres</td>\n",
       "      <td>344.0</td>\n",
       "      <td>Airbus A320</td>\n",
       "      <td>9.152464e+02</td>\n",
       "      <td>44.0</td>\n",
       "      <td>6.165621e+08</td>\n",
       "      <td>False</td>\n",
       "    </tr>\n",
       "    <tr>\n",
       "      <th>...</th>\n",
       "      <td>...</td>\n",
       "      <td>...</td>\n",
       "      <td>...</td>\n",
       "      <td>...</td>\n",
       "      <td>...</td>\n",
       "      <td>...</td>\n",
       "      <td>...</td>\n",
       "      <td>...</td>\n",
       "      <td>...</td>\n",
       "      <td>...</td>\n",
       "    </tr>\n",
       "    <tr>\n",
       "      <th>995</th>\n",
       "      <td>Pam_LoNu_10747</td>\n",
       "      <td>PamPangea</td>\n",
       "      <td>Londres</td>\n",
       "      <td>Nueva York</td>\n",
       "      <td>5566.0</td>\n",
       "      <td>Boeing 747</td>\n",
       "      <td>6.230024e+07</td>\n",
       "      <td>391.0</td>\n",
       "      <td>1.145966e+14</td>\n",
       "      <td>False</td>\n",
       "    </tr>\n",
       "    <tr>\n",
       "      <th>996</th>\n",
       "      <td>Mol_MeLo_10747</td>\n",
       "      <td>MoldaviAir</td>\n",
       "      <td>Melbourne</td>\n",
       "      <td>Londres</td>\n",
       "      <td>16900.0</td>\n",
       "      <td>Boeing 747</td>\n",
       "      <td>1.948546e+05</td>\n",
       "      <td>1326.0</td>\n",
       "      <td>5.269108e+07</td>\n",
       "      <td>False</td>\n",
       "    </tr>\n",
       "    <tr>\n",
       "      <th>997</th>\n",
       "      <td>Mol_BaPa_10747</td>\n",
       "      <td>MoldaviAir</td>\n",
       "      <td>Bali</td>\n",
       "      <td>París</td>\n",
       "      <td>11980.0</td>\n",
       "      <td>Boeing 747</td>\n",
       "      <td>1.289839e+05</td>\n",
       "      <td>818.0</td>\n",
       "      <td>5.269108e+07</td>\n",
       "      <td>False</td>\n",
       "    </tr>\n",
       "    <tr>\n",
       "      <th>998</th>\n",
       "      <td>Air_CaCi_10747</td>\n",
       "      <td>Airnar</td>\n",
       "      <td>Cádiz</td>\n",
       "      <td>Cincinnati</td>\n",
       "      <td>6624.0</td>\n",
       "      <td>Boeing 747</td>\n",
       "      <td>7.202408e+04</td>\n",
       "      <td>461.0</td>\n",
       "      <td>4.155047e+07</td>\n",
       "      <td>False</td>\n",
       "    </tr>\n",
       "    <tr>\n",
       "      <th>999</th>\n",
       "      <td>Air_PaCi_10737</td>\n",
       "      <td>Airnar</td>\n",
       "      <td>París</td>\n",
       "      <td>Cincinnati</td>\n",
       "      <td>6370.0</td>\n",
       "      <td>Boeing 737</td>\n",
       "      <td>1.687222e+07</td>\n",
       "      <td>503.0</td>\n",
       "      <td>2.515768e+14</td>\n",
       "      <td>False</td>\n",
       "    </tr>\n",
       "  </tbody>\n",
       "</table>\n",
       "<p>862 rows × 10 columns</p>\n",
       "</div>"
      ],
      "text/plain": [
       "           Id_vuelo  Aircompany      Origen     Destino  Distancia  \\\n",
       "1    Fly_BaRo_10737        FlyQ        Bali        Roma    12738.0   \n",
       "3    Mol_PaCi_10737  MoldaviAir       París  Cincinnati     6370.0   \n",
       "4    Tab_CiRo_10747    TabarAir  Cincinnati        Roma     7480.0   \n",
       "5    Mol_CaMe_10737  MoldaviAir       Cádiz   Melbourne    20029.0   \n",
       "6    Mol_PaLo_11320  MoldaviAir       París     Londres      344.0   \n",
       "..              ...         ...         ...         ...        ...   \n",
       "995  Pam_LoNu_10747   PamPangea     Londres  Nueva York     5566.0   \n",
       "996  Mol_MeLo_10747  MoldaviAir   Melbourne     Londres    16900.0   \n",
       "997  Mol_BaPa_10747  MoldaviAir        Bali       París    11980.0   \n",
       "998  Air_CaCi_10747      Airnar       Cádiz  Cincinnati     6624.0   \n",
       "999  Air_PaCi_10737      Airnar       París  Cincinnati     6370.0   \n",
       "\n",
       "           avion    consumo_kg  duracion  consumo_kg_medio  \\\n",
       "1     Boeing 737  3.347913e+04    1167.0      4.561165e+06   \n",
       "3     Boeing 737  1.702701e+04     503.0      2.562361e+14   \n",
       "4     Boeing 747  8.611574e+04     518.0      4.799067e+14   \n",
       "5     Boeing 737  5.314815e+04       NaN      2.562361e+14   \n",
       "6    Airbus A320  9.152464e+02      44.0      6.165621e+08   \n",
       "..           ...           ...       ...               ...   \n",
       "995   Boeing 747  6.230024e+07     391.0      1.145966e+14   \n",
       "996   Boeing 747  1.948546e+05    1326.0      5.269108e+07   \n",
       "997   Boeing 747  1.289839e+05     818.0      5.269108e+07   \n",
       "998   Boeing 747  7.202408e+04     461.0      4.155047e+07   \n",
       "999   Boeing 737  1.687222e+07     503.0      2.515768e+14   \n",
       "\n",
       "     Era_missing_consumo_kg  \n",
       "1                     False  \n",
       "3                     False  \n",
       "4                     False  \n",
       "5                     False  \n",
       "6                     False  \n",
       "..                      ...  \n",
       "995                   False  \n",
       "996                   False  \n",
       "997                   False  \n",
       "998                   False  \n",
       "999                   False  \n",
       "\n",
       "[862 rows x 10 columns]"
      ]
     },
     "execution_count": 24,
     "metadata": {},
     "output_type": "execute_result"
    }
   ],
   "source": [
    "df_viajes_sin_na_IV.loc[df_viajes_sin_na_IV.Era_missing_consumo_kg==False]"
   ]
  }
 ],
 "metadata": {
  "kernelspec": {
   "display_name": "Python 3 (ipykernel)",
   "language": "python",
   "name": "python3"
  },
  "language_info": {
   "codemirror_mode": {
    "name": "ipython",
    "version": 3
   },
   "file_extension": ".py",
   "mimetype": "text/x-python",
   "name": "python",
   "nbconvert_exporter": "python",
   "pygments_lexer": "ipython3",
   "version": "3.12.1"
  }
 },
 "nbformat": 4,
 "nbformat_minor": 5
}
