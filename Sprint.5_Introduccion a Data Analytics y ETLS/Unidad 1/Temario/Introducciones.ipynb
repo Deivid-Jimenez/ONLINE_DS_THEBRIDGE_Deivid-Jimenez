{
 "cells": [
  {
   "cell_type": "markdown",
   "id": "550e5271-404a-48ac-8434-e8d68abd2752",
   "metadata": {},
   "source": [
    "# ETL: TIPOS DE DATOS\n",
    "\n",
    "Vamos a tratar brevemente los tipos de datos o mejor dicho, tipos de valores que podemos encontrarnos en un conjunto de datos desde una perspectiva de Data Scientist. Es decir, no hablamos de tipos de datos en genérico como en píldoras anteriores, ni tampoco de tipos de datos de Python, numpy o pandas.\n",
    "\n",
    "Para ello, carguemos una vez más nuestro dataset de viajes aéreos (que pronto nos dejará por otros datos diferentes):"
   ]
  },
  {
   "cell_type": "code",
   "execution_count": 1,
   "id": "b4db01a5-75f8-4be4-b861-9b4aae9794bc",
   "metadata": {},
   "outputs": [],
   "source": [
    "import pandas as pd\n",
    "import random\n",
    "\n",
    "df_datos=pd.read_csv(\"C:/Users/david/Downloads/dataset_ETL_full_aviones.csv\")"
   ]
  },
  {
   "cell_type": "markdown",
   "id": "db192641-af7c-4329-81fe-17b5b718e84c",
   "metadata": {},
   "source": [
    "# Tipos de datos\n",
    "\n",
    "En el contexto de la ciencia de datos o Data Science, se suele hablar de los siguientes tipos de datos (no es una lista exhaustiva, pero sí son todos los que están):\n",
    "\n",
    "- **Numéricos**\n",
    "- **Categóricos** (incluye booleanos)\n",
    "- **Tipo Texto**\n",
    "- **Tipo Fecha**\n",
    "- **Multimedia**: Imágenes, vídeos, Audio"
   ]
  },
  {
   "cell_type": "markdown",
   "id": "969b64f9-9239-4775-b9c8-32847dcdc14f",
   "metadata": {},
   "source": [
    "## Numéricos\n",
    "\n",
    "Es decir, los campos o características o columnas que contienen valores numéricos y, por tanto, susceptibles de ser operados matemáticamente. Si miramos nuestro dataset:\n",
    "\n",
    "- **Distancia**\n",
    "- **consumo_kg**\n",
    "- **duracion**\n",
    "- **ingresos**\n",
    "- **IC** (indicador)\n",
    "\n",
    "Son valores numéricos. Podemos calcular sus medias, varianzas, distribuciones, ver esas distribuciones gráficamente, etc."
   ]
  },
  {
   "cell_type": "code",
   "execution_count": 2,
   "id": "810d5d85-dec5-4577-8a75-09944ec54099",
   "metadata": {},
   "outputs": [
    {
     "name": "stdout",
     "output_type": "stream",
     "text": [
      "<class 'pandas.core.frame.DataFrame'>\n",
      "RangeIndex: 1166 entries, 0 to 1165\n",
      "Data columns (total 14 columns):\n",
      " #   Column        Non-Null Count  Dtype  \n",
      "---  ------        --------------  -----  \n",
      " 0   Aircompany    1166 non-null   object \n",
      " 1   Origen        1166 non-null   object \n",
      " 2   Destino       1166 non-null   object \n",
      " 3   Distancia     1166 non-null   int64  \n",
      " 4   avion         1166 non-null   object \n",
      " 5   con_escala    1166 non-null   bool   \n",
      " 6   consumo_kg    1166 non-null   float64\n",
      " 7   duracion      1166 non-null   int64  \n",
      " 8   ingresos      1166 non-null   float64\n",
      " 9   Id_vuelo      1166 non-null   object \n",
      " 10  IC            1166 non-null   float64\n",
      " 11  Categoria_IC  1166 non-null   object \n",
      " 12  Incidencias   1166 non-null   object \n",
      " 13  Hora_Vuelo    1166 non-null   object \n",
      "dtypes: bool(1), float64(3), int64(2), object(8)\n",
      "memory usage: 119.7+ KB\n"
     ]
    }
   ],
   "source": [
    "df_datos.info()"
   ]
  },
  {
   "cell_type": "code",
   "execution_count": null,
   "id": "4886fb9a-2896-4f77-911e-865345537ddb",
   "metadata": {},
   "outputs": [],
   "source": [
    "### Luego vemos su distribución"
   ]
  },
  {
   "cell_type": "code",
   "execution_count": 6,
   "id": "236fa2f3-6011-4c63-8d2e-9886bd7c668b",
   "metadata": {},
   "outputs": [
    {
     "data": {
      "text/plain": [
       "IC\n",
       "10.660000    28\n",
       "11.906800    28\n",
       "12.022400    27\n",
       "12.369200    26\n",
       "11.086400    25\n",
       "             ..\n",
       "2.729376      1\n",
       "2.704104      1\n",
       "11.299600     1\n",
       "2.635500      1\n",
       "2.535100      1\n",
       "Name: count, Length: 147, dtype: int64"
      ]
     },
     "execution_count": 6,
     "metadata": {},
     "output_type": "execute_result"
    }
   ],
   "source": [
    "df_datos.IC.value_counts()"
   ]
  },
  {
   "cell_type": "code",
   "execution_count": null,
   "id": "78810737-07dc-4579-86b0-dbec8f0b1992",
   "metadata": {},
   "outputs": [],
   "source": [
    "## Podemos insertar un histograma"
   ]
  },
  {
   "cell_type": "code",
   "execution_count": 10,
   "id": "3f4e17a1-8a59-40c9-b7c3-5769f6df4062",
   "metadata": {},
   "outputs": [
    {
     "data": {
      "text/plain": [
       "<Axes: >"
      ]
     },
     "execution_count": 10,
     "metadata": {},
     "output_type": "execute_result"
    },
    {
     "data": {
      "image/png": "[encoded data removed]",
      "text/plain": [
       "<Figure size 640x480 with 1 Axes>"
      ]
     },
     "metadata": {},
     "output_type": "display_data"
    }
   ],
   "source": [
    "df_datos.IC.hist()"
   ]
  },
  {
   "cell_type": "code",
   "execution_count": 13,
   "id": "e9becefa-e72d-4f57-9b05-6e53cddeaa6e",
   "metadata": {},
   "outputs": [
    {
     "data": {
      "text/plain": [
       "duracion\n",
       "818     38\n",
       "845     36\n",
       "1326    28\n",
       "433     26\n",
       "69      24\n",
       "        ..\n",
       "497      2\n",
       "488      2\n",
       "151      2\n",
       "129      1\n",
       "731      1\n",
       "Name: count, Length: 116, dtype: int64"
      ]
     },
     "execution_count": 13,
     "metadata": {},
     "output_type": "execute_result"
    }
   ],
   "source": [
    "df_datos.duracion.value_counts()"
   ]
  },
  {
   "cell_type": "code",
   "execution_count": 12,
   "id": "0a6d3db2-c1e8-42e5-bab9-a7a01a02333e",
   "metadata": {},
   "outputs": [
    {
     "data": {
      "text/plain": [
       "<Axes: >"
      ]
     },
     "execution_count": 12,
     "metadata": {},
     "output_type": "execute_result"
    },
    {
     "data": {
      "image/png": "[encoded data removed]",
      "text/plain": [
       "<Figure size 640x480 with 1 Axes>"
      ]
     },
     "metadata": {},
     "output_type": "display_data"
    }
   ],
   "source": [
    "df_datos.duracion.hist()"
   ]
  },
  {
   "cell_type": "markdown",
   "id": "c814ba3d-6fcd-4833-8e44-988f1f5a567d",
   "metadata": {},
   "source": [
    "Muchas veces es interesante en la misma exploración para \"transformar y limpiar\" hacer pequeñas visualizaciones para entender cómo están los datos.\n",
    "\n",
    "Para hacer un EDA (Exploratory Data Analysis) no es necesario, pero cuando entremos en Machine Learning y Deep Learning veremos que todos los valores y valores de las columnas deben pasar a valores numéricos, y ya veremos cómo hacerlo."
   ]
  },
  {
   "cell_type": "markdown",
   "id": "da1ea7f2-0014-4751-b9e2-d4a8cc7bc9a5",
   "metadata": {},
   "source": [
    "## Categóricos\n",
    "\n",
    "Con categóricos nos referimos a los valores (columnas en nuestro caso) de datos cuyo rango de valores está limitado y que suelen representar categorías o etiquetas. Por ejemplo, la columna \"Categoria_IC\":"
   ]
  },
  {
   "cell_type": "code",
   "execution_count": 14,
   "id": "33332870-11fc-4c25-bf34-e2e40d0df2a4",
   "metadata": {},
   "outputs": [
    {
     "data": {
      "text/plain": [
       "Categoria_IC\n",
       "C    576\n",
       "A    496\n",
       "B     94\n",
       "Name: count, dtype: int64"
      ]
     },
     "execution_count": 14,
     "metadata": {},
     "output_type": "execute_result"
    }
   ],
   "source": [
    "df_datos[\"Categoria_IC\"].value_counts()"
   ]
  },
  {
   "cell_type": "markdown",
   "id": "2b34b1d3-eee5-4bae-841d-7e1024e853c5",
   "metadata": {},
   "source": [
    "Pero también podríamos considerar los Orígenes y Destinos, para este Dataset concreto. Ojo, podemos verlos como \"etiquetas\" o datos de categorías:"
   ]
  },
  {
   "cell_type": "code",
   "execution_count": 17,
   "id": "20e80a80-4738-43b3-9659-76c507c38660",
   "metadata": {},
   "outputs": [
    {
     "data": {
      "text/plain": [
       "Origen\n",
       "Bali           161\n",
       "Ginebra        149\n",
       "Cincinnati     136\n",
       "Londres        127\n",
       "Nueva York     123\n",
       "París          107\n",
       "Melbourne       99\n",
       "Los Angeles     86\n",
       "Cádiz           70\n",
       "Roma            66\n",
       "Barcelona       42\n",
       "Name: count, dtype: int64"
      ]
     },
     "execution_count": 17,
     "metadata": {},
     "output_type": "execute_result"
    }
   ],
   "source": [
    "df_datos[\"Origen\"].value_counts()"
   ]
  },
  {
   "cell_type": "code",
   "execution_count": null,
   "id": "8f2b5dfc-6e97-4916-89c0-345dd4b58395",
   "metadata": {},
   "outputs": [],
   "source": [
    "### Para ver que tipos de categorias o más bien, cuantos tipos de categorias hay por cada columna"
   ]
  },
  {
   "cell_type": "code",
   "execution_count": 16,
   "id": "750c9029-90da-4259-80ee-07123d2300ac",
   "metadata": {},
   "outputs": [
    {
     "data": {
      "text/plain": [
       "11"
      ]
     },
     "execution_count": 16,
     "metadata": {},
     "output_type": "execute_result"
    }
   ],
   "source": [
    "len(df_datos.Destino.unique())"
   ]
  },
  {
   "cell_type": "markdown",
   "id": "159ccfba-857c-4ae1-9917-3a962c9c97c9",
   "metadata": {},
   "source": [
    "El proceso para que pensemos en clasificar un dato, columna o característica como categórica (además de que nos lo digan exprofeso) es el de calcular la cardinalidad:"
   ]
  },
  {
   "cell_type": "markdown",
   "id": "1ec55ea0-7a84-4ccb-bd62-c93f1a066f18",
   "metadata": {},
   "source": [
    "Por ejemplo la cardinalidad para la categoría IC"
   ]
  },
  {
   "cell_type": "code",
   "execution_count": 24,
   "id": "4492d0d8-0d31-4b18-b691-0de47614d417",
   "metadata": {},
   "outputs": [],
   "source": [
    "cardinalidad_IC = len(df_datos[\"Categoria_IC\"].unique())/len(df_datos)*100"
   ]
  },
  {
   "cell_type": "code",
   "execution_count": 25,
   "id": "649ceae2-298f-4f3a-b0a6-cdca210c4c32",
   "metadata": {},
   "outputs": [
    {
     "name": "stdout",
     "output_type": "stream",
     "text": [
      "0.2572898799313894\n"
     ]
    }
   ],
   "source": [
    "print(cardinalidad_IC)"
   ]
  },
  {
   "cell_type": "markdown",
   "id": "28588011-8c82-481b-94df-e4c0c6367407",
   "metadata": {},
   "source": [
    "La de destino, empleando  el metodo de Pandas Unique"
   ]
  },
  {
   "cell_type": "code",
   "execution_count": 29,
   "id": "56a7ea99-84e6-4404-be5c-92f4b1645412",
   "metadata": {},
   "outputs": [],
   "source": [
    "cardinalidad_destino=df_datos[\"Destino\"].nunique()/len(df_datos)*100"
   ]
  },
  {
   "cell_type": "code",
   "execution_count": 30,
   "id": "7acee661-055f-43c3-bfc7-4d64f361e599",
   "metadata": {},
   "outputs": [
    {
     "name": "stdout",
     "output_type": "stream",
     "text": [
      "0.9433962264150944\n"
     ]
    }
   ],
   "source": [
    "print(cardinalidad_destino)"
   ]
  },
  {
   "cell_type": "code",
   "execution_count": 31,
   "id": "2f527024-8e67-4364-bdf0-482581e71f0b",
   "metadata": {},
   "outputs": [],
   "source": [
    "cardinalidad_consumo =df_datos[\"consumo_kg\"].nunique()/len(df_datos)*100"
   ]
  },
  {
   "cell_type": "code",
   "execution_count": 32,
   "id": "a5f98077-a9c9-41f4-8d56-fdbd62b989cb",
   "metadata": {},
   "outputs": [
    {
     "name": "stdout",
     "output_type": "stream",
     "text": [
      "71.09777015437393\n"
     ]
    }
   ],
   "source": [
    "print(cardinalidad_consumo)"
   ]
  },
  {
   "cell_type": "code",
   "execution_count": null,
   "id": "ef47332c-41c3-4508-8ca6-9009404b09fa",
   "metadata": {},
   "outputs": [],
   "source": [
    "## Cardinalidad de Consumo es una cardinalidad más alta, ya que los valores son numeros y no categorías como pasaba con destino"
   ]
  },
  {
   "cell_type": "markdown",
   "id": "3b9a20f1-43eb-4f3d-ab19-6ddd73898b67",
   "metadata": {},
   "source": [
    "Con cardinalidades por debajo del 5-10% ya podríamos considerar el valor o columna como categórico. ¿Y eso por qué es importante? Por dos motivos principales:\n",
    "\n",
    "1. **Para el EDA**: Suponen, en general, interesantes columnas o características para hacer agrupaciones y explorarlas.  \n",
    "2. **Para Machine y Deep Learning**: Existen métodos de transformación a números bastante potentes y utilizados, por lo que suelen ser buenas características para incluir."
   ]
  },
  {
   "cell_type": "markdown",
   "id": "369b69d9-edd3-47cb-ab68-e2829a0c1c77",
   "metadata": {},
   "source": [
    "## Tipo Texto\n",
    "\n",
    "Por valores de tipo texto entendemos aquellas columnas que son texto y no se pueden asimilar directamente a una categoría. Consideremos, por ejemplo, la columna \"Incidencias\":"
   ]
  },
  {
   "cell_type": "code",
   "execution_count": 33,
   "id": "79253545-64d2-4bd2-b311-1ada086cb5ff",
   "metadata": {},
   "outputs": [
    {
     "data": {
      "text/plain": [
       "Incidencias\n",
       "Sin incidencias                                                      510\n",
       "Mal funcionamiento del tren de aterrizaje                             33\n",
       "Turbulencia severa                                                    31\n",
       "Ave impacta con el avión                                              29\n",
       "Aterrizaje de emergencia                                              25\n",
       "                                                                    ... \n",
       "Despresurización de la cabina y Emergencia médica a bordo              1\n",
       "Retraso extenso en la pista de despegue y Fallo eléctrico general      1\n",
       "Complicaciones de navegación y Amenaza de seguridad a bordo            1\n",
       "Sambódromo a bordo y Problemas de navegación                           1\n",
       "Problemas con el suministro de combustible,                            1\n",
       "Name: count, Length: 154, dtype: int64"
      ]
     },
     "execution_count": 33,
     "metadata": {},
     "output_type": "execute_result"
    }
   ],
   "source": [
    "df_datos[\"Incidencias\"].value_counts()"
   ]
  },
  {
   "cell_type": "markdown",
   "id": "6549fe08-1346-4c30-85de-e3edade978db",
   "metadata": {},
   "source": [
    "Considerando la cardinalidad, podríamos intentar hacer de esta columna una categórica, pero observando el tipo de dato que tiene, con lenguaje natural que puede cambiar y, en general, es de por sí desestructurado y donde las abreviaturas, sinónimos, etc., lo hacen difícil de considerar de primeras. Lo normal es considerarlo como un campo de texto libre y tratarlo a partir de ahí.\n",
    "\n",
    "En general, lo trataremos con técnicas de procesamiento de lenguaje natural y, otras veces además, obtendremos otras columnas con datos resumidos a partir de estas columnas de texto."
   ]
  },
  {
   "cell_type": "markdown",
   "id": "99226ff3-0dde-4d10-9085-ad310d8cfe19",
   "metadata": {},
   "source": [
    "# Tipo Fecha\n",
    "\n",
    "Como su nombre indica, hace referencia a los valores que son fechas. El hecho de que no sigan el sistema decimal y tengan sus particularidades de calendario (vamos, que 45 minutos más 55 minutos no sean 1 hora, sino 1 hora y 30 minutos, y que del 28 de Febrero a veces pasemos al 29 y otras al 1 de Marzo, por ejemplo) hace que haya que tratarlos de una forma un poco especial o de aprovechar las capacidades de Python y pandas para hacerlo.\n",
    "\n",
    "En nuestro dataset, claramente “Hora_Vuelo” es de este tipo."
   ]
  },
  {
   "cell_type": "code",
   "execution_count": 34,
   "id": "ca614fde-6fee-40c9-a25a-fce90fbd2e0e",
   "metadata": {},
   "outputs": [
    {
     "data": {
      "text/plain": [
       "Hora_Vuelo\n",
       "13:45 12/03/2023    1\n",
       "23:00 19/04/2023    1\n",
       "21:15 01/06/2023    1\n",
       "10:30 26/03/2023    1\n",
       "22:00 01/09/2023    1\n",
       "                   ..\n",
       "09:30 09/03/2023    1\n",
       "16:45 22/07/2023    1\n",
       "20:30 11/02/2023    1\n",
       "15:15 29/04/2023    1\n",
       "08:15 12/02/2023    1\n",
       "Name: count, Length: 1166, dtype: int64"
      ]
     },
     "execution_count": 34,
     "metadata": {},
     "output_type": "execute_result"
    }
   ],
   "source": [
    "df_datos[\"Hora_Vuelo\"].value_counts()"
   ]
  },
  {
   "cell_type": "markdown",
   "id": "bd5f7332-9498-4424-8efc-99dfbef84b60",
   "metadata": {},
   "source": [
    "pero si miramosel tipo que considera Pandas"
   ]
  },
  {
   "cell_type": "code",
   "execution_count": 36,
   "id": "ad145380-00c0-4002-b6ae-26775bcdd59a",
   "metadata": {},
   "outputs": [
    {
     "data": {
      "text/plain": [
       "dtype('O')"
      ]
     },
     "execution_count": 36,
     "metadata": {},
     "output_type": "execute_result"
    }
   ],
   "source": [
    "df_datos[\"Hora_Vuelo\"].dtypes"
   ]
  }
 ],
 "metadata": {
  "kernelspec": {
   "display_name": "Python 3 (ipykernel)",
   "language": "python",
   "name": "python3"
  },
  "language_info": {
   "codemirror_mode": {
    "name": "ipython",
    "version": 3
   },
   "file_extension": ".py",
   "mimetype": "text/x-python",
   "name": "python",
   "nbconvert_exporter": "python",
   "pygments_lexer": "ipython3",
   "version": "3.12.1"
  }
 },
 "nbformat": 4,
 "nbformat_minor": 5
}
