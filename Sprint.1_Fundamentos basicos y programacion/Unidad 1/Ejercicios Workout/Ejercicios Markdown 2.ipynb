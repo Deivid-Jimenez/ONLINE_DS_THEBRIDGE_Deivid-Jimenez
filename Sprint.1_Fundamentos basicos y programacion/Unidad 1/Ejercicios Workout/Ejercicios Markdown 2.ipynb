{
 "cells": [
  {
   "cell_type": "markdown",
   "id": "935efff8-1492-4b30-910d-e2dbf5750323",
   "metadata": {},
   "source": [
    "1. Manzanas\n",
    "2. Platanos\n",
    "3. Uvas"
   ]
  },
  {
   "cell_type": "markdown",
   "id": "210b49f7-dda7-4cb7-b91a-7bcbefd6a059",
   "metadata": {},
   "source": [
    "* Arbol binario\n",
    "* Random Forest\n",
    "* Regresión Logistica"
   ]
  },
  {
   "cell_type": "markdown",
   "id": "05d0af26-c995-4ccd-af1c-f1ee052e0351",
   "metadata": {},
   "source": [
    "# Frutas y verduras \n",
    "1. Frutas  \n",
    "   \n",
    "    * Manzana  \n",
    "    * Platano  \n",
    "    * Naranja\n",
    "\n",
    "2. Verduras\n",
    "\n",
    "    * Zanahoria  \n",
    "    * Brocoli  \n",
    "    * Espinaca  "
   ]
  },
  {
   "cell_type": "markdown",
   "id": "d703cc63-22a8-4b4b-a0c8-399474cdf6d2",
   "metadata": {},
   "source": [
    "[Por aquí se cruzan puentes](https://thebridge.tech/)"
   ]
  },
  {
   "cell_type": "markdown",
   "id": "8d1aca7f-7873-42a5-9f5b-49038d082518",
   "metadata": {},
   "source": [
    "logo <img src=\"./Perrachica.png\" width=\"360\" />"
   ]
  },
  {
   "cell_type": "markdown",
   "id": "2d58fd2f-b06c-4b11-bfa2-8b503f74581a",
   "metadata": {},
   "source": [
    "---\n",
    "```python\n",
    "print(\"Hola Mundo\")\n",
    "```\n",
    "***\n",
    "\n",
    "```python\n",
    "mensaje = \"Hola Mundo\"\n",
    "print(mensaje)\n"
   ]
  },
  {
   "cell_type": "markdown",
   "id": "b7c23ce5-7232-4154-b866-9b56d5b03eb1",
   "metadata": {},
   "source": [
    "***"
   ]
  }
 ],
 "metadata": {
  "kernelspec": {
   "display_name": "Python 3 (ipykernel)",
   "language": "python",
   "name": "python3"
  },
  "language_info": {
   "codemirror_mode": {
    "name": "ipython",
    "version": 3
   },
   "file_extension": ".py",
   "mimetype": "text/x-python",
   "name": "python",
   "nbconvert_exporter": "python",
   "pygments_lexer": "ipython3",
   "version": "3.12.1"
  }
 },
 "nbformat": 4,
 "nbformat_minor": 5
}
