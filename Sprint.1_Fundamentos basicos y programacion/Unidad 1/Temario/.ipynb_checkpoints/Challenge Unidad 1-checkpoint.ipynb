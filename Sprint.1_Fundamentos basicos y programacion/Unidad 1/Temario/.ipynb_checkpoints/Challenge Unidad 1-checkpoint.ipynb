{
 "cells": [
  {
   "cell_type": "markdown",
   "id": "ed3568f7-a0f5-4736-9fee-1a8f1ea43059",
   "metadata": {},
   "source": [
    "<div style=\"background-color: black; color: white; padding: 20px;\">\n",
    "\n",
    "**Lo más importante**  \n",
    "* Matemáticas\n",
    "* Pyhton\n",
    "* SQL\n",
    "\n",
    "<img src=\"./Python.jpeg\" width=\"260\" >\n",
    "\n",
    "Otro tema importante es el de *Business Intelligence*\n",
    "\n",
    "Si tienes dudas, puedes escribirme a:[alberto.romero@thebridgeschool.es](https://thebridge.tech/)\n",
    "\n",
    "Y en esta pagina se aprende mucho de machine learning: [**página con ML**](https://www.kaggle.com)\n"
   ]
  },
  {
   "cell_type": "markdown",
   "id": "893e2f9c-7e99-4a2a-99ef-e671a3e3ef9f",
   "metadata": {},
   "source": [
    "| Ramp Up       | Data Analysis | Machine Learning | Data & Business |\n",
    "|---------------|---------------|-------------------|-----------------|\n",
    "| Python        | EDA           | Supervised        | Productivización|\n",
    "| Estadística   | R             | Non supervised    | Storytelling    |\n",
    "| SQL           | Feat. Eng.    | Deep Learning     | API             |\n",
    "\n",
    "\n",
    "\n",
    "\\begin{align*}\n",
    "\\\\\n",
    "&\\sqrt{3x - 1} + (1 + x)^2 \\\\\n",
    "\\end{align*}\n"
   ]
  }
 ],
 "metadata": {
  "kernelspec": {
   "display_name": "Python 3 (ipykernel)",
   "language": "python",
   "name": "python3"
  },
  "language_info": {
   "codemirror_mode": {
    "name": "ipython",
    "version": 3
   },
   "file_extension": ".py",
   "mimetype": "text/x-python",
   "name": "python",
   "nbconvert_exporter": "python",
   "pygments_lexer": "ipython3",
   "version": "3.12.1"
  }
 },
 "nbformat": 4,
 "nbformat_minor": 5
}
