{
 "cells": [
  {
   "cell_type": "markdown",
   "id": "0465e0ca-9311-4da6-bd5f-3dc9dfd6c889",
   "metadata": {},
   "source": [
    "# MIS PRIMEROS PASOS CON MARKDOWN #\n",
    "\n",
    "...son muy buenos\n"
   ]
  },
  {
   "cell_type": "markdown",
   "id": "3334f514-fa06-4e1a-bb69-b696ab4ebd20",
   "metadata": {},
   "source": [
    "# Cabecera 1\n",
    "## Cabecera 2\n",
    "### Cabecera 3\n",
    "#### Cabecera 4\n",
    "##### Cabecera 5\n",
    "###### Cabecera 6"
   ]
  },
  {
   "cell_type": "markdown",
   "id": "93c3e182-20a4-4af6-92d9-ca9d1e76a43d",
   "metadata": {},
   "source": [
    "<h1>Header 1</h1>\n",
    "<h2>Header 2</h2>\n",
    "<h3>Header 1</h3>\n",
    "\n"
   ]
  },
  {
   "cell_type": "markdown",
   "id": "d8073990-66d7-486c-8a99-2dead05a639d",
   "metadata": {},
   "source": [
    "**Texto en negrita**\n",
    "\n",
    "*Texto en cursiva*\n",
    "\n",
    "***Texto en negrita y cursiva***\n",
    "\n",
    "** no hay negrita porque hay espacios **"
   ]
  },
  {
   "cell_type": "markdown",
   "id": "22aa2962-911b-470f-a5c5-8d2538fed02a",
   "metadata": {},
   "source": [
    ">Recuerda la importancia del conocimiento del negocio y del dominio\n",
    ">>Y utilizar atajos del teclado"
   ]
  },
  {
   "cell_type": "markdown",
   "id": "154da767-e37e-4cdd-ac94-6da59a88c458",
   "metadata": {},
   "source": [
    "\"En un lugar de la Mancha\"  \n",
    "\"Veinte años después frente al pelotón de fusilamiento\""
   ]
  },
  {
   "cell_type": "markdown",
   "id": "7afe96c1-e998-4dc6-9305-c9df54aeb313",
   "metadata": {},
   "source": [
    "1. Primer Elemento\n",
    "2. Segundo elemento"
   ]
  },
  {
   "cell_type": "markdown",
   "id": "c83c6055-a678-4591-a9a7-8b80a0e9a532",
   "metadata": {},
   "source": [
    "* Elemento 1\n",
    "* Elemento 2\n",
    "- Elemento 3\n",
    "+ Elemento 4\n"
   ]
  },
  {
   "cell_type": "markdown",
   "id": "f3708bf7-1926-4477-ab13-6f1f53837d4c",
   "metadata": {},
   "source": [
    "```Pyhton\n",
    "variable = \"Esto es una variable\""
   ]
  },
  {
   "cell_type": "markdown",
   "id": "80dec726-f580-4b6a-9886-64ad083d4c12",
   "metadata": {},
   "source": [
    "***"
   ]
  },
  {
   "cell_type": "markdown",
   "id": "5964e2fa-1489-48f9-88f2-1b0619b7a125",
   "metadata": {},
   "source": [
    "`[enlace] (web)`  \n",
    "[enlace a google]:(www.google.com)   \n",
    "[mi_web] : http://www.google.es   \n",
    "También podemos definir [este enlace][mi_web]"
   ]
  },
  {
   "cell_type": "markdown",
   "id": "88f771e9-0cd5-46b8-87d2-f7c04a879466",
   "metadata": {},
   "source": [
    "puedes entrar a [mi sitio web](http://www.google.es )"
   ]
  },
  {
   "cell_type": "markdown",
   "id": "bf07fd91-5761-4d6f-83e7-b58e2977fdd3",
   "metadata": {},
   "source": [
    "Puedes entrar a [enlace a google](mi_web)"
   ]
  },
  {
   "cell_type": "markdown",
   "id": "91d7c0b0-a79f-42f7-8d41-06d7939329d0",
   "metadata": {},
   "source": [
    "Si haces [click en este enlace irás a la cabecera 1](#Cabecera-1)"
   ]
  },
  {
   "cell_type": "markdown",
   "id": "8ada1d52-8a4a-4277-960c-bd7d3eb72445",
   "metadata": {},
   "source": [
    "Si [haces click en este enlace](#MIS-PRIMEROS-PASOS-CON-MARKDOWN)"
   ]
  },
  {
   "cell_type": "markdown",
   "id": "88610b53-63cf-4391-a5ee-61d4addee23c",
   "metadata": {},
   "source": [
    "A través del siguieente enlace podremos ![acceder a la imagen](./Perrachica.png)\n"
   ]
  },
  {
   "cell_type": "markdown",
   "id": "4b7b51ab-24f0-4c60-a25f-8b10cb479644",
   "metadata": {},
   "source": [
    "<img src=\"./Perrachica.png\" width=\"360\" />"
   ]
  }
 ],
 "metadata": {
  "kernelspec": {
   "display_name": "Python 3 (ipykernel)",
   "language": "python",
   "name": "python3"
  },
  "language_info": {
   "codemirror_mode": {
    "name": "ipython",
    "version": 3
   },
   "file_extension": ".py",
   "mimetype": "text/x-python",
   "name": "python",
   "nbconvert_exporter": "python",
   "pygments_lexer": "ipython3",
   "version": "3.12.1"
  }
 },
 "nbformat": 4,
 "nbformat_minor": 5
}
