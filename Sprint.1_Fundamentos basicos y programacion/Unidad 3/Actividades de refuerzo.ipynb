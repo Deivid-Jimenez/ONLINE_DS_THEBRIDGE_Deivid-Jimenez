{
 "cells": [
  {
   "cell_type": "markdown",
   "id": "31aec2a2-3890-4ebf-a19a-276bdb873478",
   "metadata": {},
   "source": [
    "## Ejercicio 1\n",
    "\n",
    "Elimina todos los VW de la siguiente lista. Crea una lista nueva para ello."
   ]
  },
  {
   "cell_type": "code",
   "execution_count": 4,
   "id": "8d340321-89e9-4ad4-a2d8-98d738f394c3",
   "metadata": {},
   "outputs": [
    {
     "name": "stdout",
     "output_type": "stream",
     "text": [
      "['Audi', 'Renault', 'BMW']\n"
     ]
    }
   ],
   "source": [
    "ejer_1 = [\"VW\", \"Audi\", \"Renault\", \"VW\", \"BMW\"]\n",
    "\n",
    "\n",
    "while \"VW\" in ejer_1:\n",
    "    ejer_1.remove(\"VW\")\n",
    "nueva_lista = ejer_1\n",
    "print(nueva_lista)"
   ]
  },
  {
   "cell_type": "code",
   "execution_count": 9,
   "id": "6676c1bc-9292-4b30-a02e-caa9fa6278b2",
   "metadata": {},
   "outputs": [
    {
     "name": "stdout",
     "output_type": "stream",
     "text": [
      "['Audi', 'Renault', 'BMW']\n"
     ]
    }
   ],
   "source": [
    "#Hazlo de otra manera. Crea una lista nueva, y ve añadiendo todos los que no sean VW\n",
    "\n",
    "ejer_1 = [\"VW\", \"Audi\", \"Renault\", \"VW\", \"BMW\"]\n",
    "nueva_lista = [marca for marca in ejer_1 if marca != \"VW\"]\n",
    "print(nueva_lista)"
   ]
  },
  {
   "cell_type": "code",
   "execution_count": 11,
   "id": "5dc7d280-377b-45dc-8b77-30c82b2de610",
   "metadata": {},
   "outputs": [
    {
     "name": "stdout",
     "output_type": "stream",
     "text": [
      "['Audi', 'Renault', 'BWM']\n"
     ]
    }
   ],
   "source": [
    "#Hazlo de otra manera. En vez de usar for usa while\n",
    "ejer_1 = [\"VW\", \"Audi\", \"Renault\", \"VW\", \"BWM\"]\n",
    "ejer_2 = []\n",
    "i = 0\n",
    "\n",
    "while i < len(ejer_1):\n",
    "    if ejer_1[i] != \"VW\":\n",
    "        ejer_2.append(ejer_1[i])\n",
    "    i += 1\n",
    "\n",
    "print(ejer_2)"
   ]
  },
  {
   "cell_type": "markdown",
   "id": "e99043e8-2a67-4c54-bed8-253edc1640a2",
   "metadata": {},
   "source": [
    "## Ejercicio 2"
   ]
  },
  {
   "cell_type": "code",
   "execution_count": 23,
   "id": "9d7fec4a-2a8a-41e5-818b-d3db7c1d741d",
   "metadata": {},
   "outputs": [
    {
     "name": "stdout",
     "output_type": "stream",
     "text": [
      "[10, 9, 8, 7, 6, 5, 4, 3, 2, 1, 0, -1, -2, -3, -4, -5, -6, -7, -8, -9, -10]\n"
     ]
    }
   ],
   "source": [
    "#Hazlo de otra manera. En vez de usar for usa while\n",
    "numeros = list(range(-10,11))\n",
    "(numeros.reverse())\n",
    "print(numeros)"
   ]
  },
  {
   "cell_type": "markdown",
   "id": "727d36d7-d622-46e7-92e3-7e23b0f1aa07",
   "metadata": {},
   "source": [
    "## Ejercicio 3\n",
    "\n",
    "Escribe un programa que calcule la cantidad de veces que está la letra \"m\" o \"M\" en la frase:\n",
    "\n",
    "\"En un lugar de La Mancha, de cuyo nombre no quiero acordarme\""
   ]
  },
  {
   "cell_type": "code",
   "execution_count": 43,
   "id": "56308c79-f2b8-4f91-b693-54fbebc65020",
   "metadata": {},
   "outputs": [
    {
     "name": "stdout",
     "output_type": "stream",
     "text": [
      "La cantidad de 'M' es 1\n",
      "La cantidad de 'm' es 2\n"
     ]
    }
   ],
   "source": [
    "#Escribe un programa que calcule la cantidad de veces que está la letra \"m\" o \"M\" en la frase:bn\n",
    "mi_frase = \"En un lugar de La Mancha, de cuyo nombre no quiero acordarme\"\n",
    "cantidad_m=0\n",
    "cantidad_M=0\n",
    "\n",
    "for m in mi_frase: \n",
    "    if m == \"m\":\n",
    "        cantidad_m += 1\n",
    "for M in mi_frase:\n",
    "    if M == \"M\":\n",
    "        cantidad_M += 1\n",
    "print(f\"La cantidad de 'M' es {cantidad_M}\")\n",
    "print(f\"La cantidad de 'm' es {cantidad_m}\")"
   ]
  },
  {
   "cell_type": "markdown",
   "id": "84be78eb-f948-4f7e-9df8-4fa4a88df08e",
   "metadata": {},
   "source": [
    "## Ejercicio 4\n",
    "\n",
    "Imprime toda la secuencia de numeros del 1 al 10, excepto el 3, 4 y 9. Impleméntalo de dos maneras diferentes"
   ]
  },
  {
   "cell_type": "code",
   "execution_count": 50,
   "id": "f36985dd-ee43-4bfc-8600-38123707db59",
   "metadata": {},
   "outputs": [
    {
     "name": "stdout",
     "output_type": "stream",
     "text": [
      "1 2 5 6 7 8 10 "
     ]
    }
   ],
   "source": [
    "mi_secuencia = list(range(1,11))\n",
    "\n",
    "for n in mi_secuencia:\n",
    "    if n != 3 and n != 4 and  n!=9:\n",
    "        print(n, end=\" \")"
   ]
  },
  {
   "cell_type": "code",
   "execution_count": 60,
   "id": "15b5ed20-a6b0-4f85-bf9c-3f77f9ad41a9",
   "metadata": {},
   "outputs": [
    {
     "name": "stdout",
     "output_type": "stream",
     "text": [
      "1 2 5 6 7 8 10 "
     ]
    }
   ],
   "source": [
    "mi_secuencia = list(range(1,11))\n",
    "for n in mi_secuencia:\n",
    "    if n not in {3, 4, 9}:\n",
    "        print(n, end=\" \")"
   ]
  }
 ],
 "metadata": {
  "kernelspec": {
   "display_name": "Python 3 (ipykernel)",
   "language": "python",
   "name": "python3"
  },
  "language_info": {
   "codemirror_mode": {
    "name": "ipython",
    "version": 3
   },
   "file_extension": ".py",
   "mimetype": "text/x-python",
   "name": "python",
   "nbconvert_exporter": "python",
   "pygments_lexer": "ipython3",
   "version": "3.12.1"
  }
 },
 "nbformat": 4,
 "nbformat_minor": 5
}
