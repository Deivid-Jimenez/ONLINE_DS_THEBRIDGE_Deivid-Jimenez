{
 "cells": [
  {
   "cell_type": "code",
   "execution_count": 5,
   "id": "ccb33ec1-528f-4031-8909-e9d1457a4228",
   "metadata": {},
   "outputs": [
    {
     "name": "stdout",
     "output_type": "stream",
     "text": [
      "1000\n",
      "400\n"
     ]
    }
   ],
   "source": [
    "ingresos = 1000\n",
    "gastos= 400\n",
    "\n",
    "print(ingresos)\n",
    "print (gastos)\n"
   ]
  },
  {
   "cell_type": "code",
   "execution_count": 6,
   "id": "2dd3b912-35fa-4101-95f7-78ace05c5955",
   "metadata": {},
   "outputs": [
    {
     "name": "stdout",
     "output_type": "stream",
     "text": [
      "600\n"
     ]
    }
   ],
   "source": [
    "margen = (ingresos-gastos)\n",
    "print(margen)"
   ]
  },
  {
   "cell_type": "code",
   "execution_count": 8,
   "id": "bcd42ada-ab37-49aa-b355-6fe43d82ff8d",
   "metadata": {},
   "outputs": [
    {
     "name": "stdout",
     "output_type": "stream",
     "text": [
      "Los ingresos han sido altos\n",
      "Los ingresos han sido altos\n"
     ]
    }
   ],
   "source": [
    "ingresos_text = \"Los ingresos han sido altos\"\n",
    "ingresos_alt = 'Los ingresos han sido altos'\n",
    "\n",
    "print(ingresos_text)\n",
    "print (ingresos_alt)"
   ]
  },
  {
   "cell_type": "code",
   "execution_count": 9,
   "id": "818936d5-37d6-4d53-aee6-78b381fccc56",
   "metadata": {},
   "outputs": [],
   "source": [
    "ingresos_text= \"Los 'ingresos'han sido altos\"\n"
   ]
  },
  {
   "cell_type": "code",
   "execution_count": 10,
   "id": "e4b9da3c-0a5e-4786-b0b0-3f753d692ebf",
   "metadata": {},
   "outputs": [
    {
     "data": {
      "text/plain": [
       "\"Los 'ingresos'han sido altos\""
      ]
     },
     "execution_count": 10,
     "metadata": {},
     "output_type": "execute_result"
    }
   ],
   "source": [
    "ingresos_text"
   ]
  },
  {
   "cell_type": "code",
   "execution_count": 13,
   "id": "eade2fd0-3051-40de-903f-9560d312ee5b",
   "metadata": {},
   "outputs": [
    {
     "ename": "SyntaxError",
     "evalue": "invalid syntax (658564253.py, line 1)",
     "output_type": "error",
     "traceback": [
      "\u001b[1;36m  Cell \u001b[1;32mIn[13], line 1\u001b[1;36m\u001b[0m\n\u001b[1;33m    ingresos_text = \"Los \"ingresos\" han sido altos\"\u001b[0m\n\u001b[1;37m                          ^\u001b[0m\n\u001b[1;31mSyntaxError\u001b[0m\u001b[1;31m:\u001b[0m invalid syntax\n"
     ]
    }
   ],
   "source": [
    "ingresos_text = \"Los \"ingresos\" han sido altos\"\n",
    "ingresos_alt\n"
   ]
  },
  {
   "cell_type": "code",
   "execution_count": 14,
   "id": "570c2a33-21b3-491b-a0cd-482c2ef3c01c",
   "metadata": {},
   "outputs": [
    {
     "ename": "SyntaxError",
     "evalue": "invalid syntax (3731202689.py, line 3)",
     "output_type": "error",
     "traceback": [
      "\u001b[1;36m  Cell \u001b[1;32mIn[14], line 3\u001b[1;36m\u001b[0m\n\u001b[1;33m    ingresos text = \"Los ingresos han sido altos\"\u001b[0m\n\u001b[1;37m             ^\u001b[0m\n\u001b[1;31mSyntaxError\u001b[0m\u001b[1;31m:\u001b[0m invalid syntax\n"
     ]
    }
   ],
   "source": [
    "ingresos=1000\n",
    "ingresos = 1000\n",
    "ingresos text = \"Los ingresos han sido altos\" "
   ]
  },
  {
   "cell_type": "code",
   "execution_count": 15,
   "id": "7f73799a-7a04-41c4-bb44-53588bd368e3",
   "metadata": {},
   "outputs": [
    {
     "name": "stdout",
     "output_type": "stream",
     "text": [
      "200\n"
     ]
    }
   ],
   "source": [
    "gastos = 200\n",
    "print(gastos)\n"
   ]
  },
  {
   "cell_type": "code",
   "execution_count": 16,
   "id": "109c4612-6a18-4bd0-8e23-028c8e617f9e",
   "metadata": {},
   "outputs": [
    {
     "name": "stdout",
     "output_type": "stream",
     "text": [
      "900\n"
     ]
    }
   ],
   "source": [
    "gastos = 100\n",
    "beneficios = ingresos-gastos\n",
    "print(beneficios)"
   ]
  },
  {
   "cell_type": "code",
   "execution_count": 20,
   "id": "94f613bc-c271-4951-abee-27fe1121f595",
   "metadata": {},
   "outputs": [
    {
     "name": "stdout",
     "output_type": "stream",
     "text": [
      "['False', 'None', 'True', 'and', 'as', 'assert', 'async', 'await', 'break', 'class', 'continue', 'def', 'del', 'elif', 'else', 'except', 'finally', 'for', 'from', 'global', 'if', 'import', 'in', 'is', 'lambda', 'nonlocal', 'not', 'or', 'pass', 'raise', 'return', 'try', 'while', 'with', 'yield']\n"
     ]
    }
   ],
   "source": [
    "import keyword\n",
    "print(keyword.kwlist)"
   ]
  },
  {
   "cell_type": "code",
   "execution_count": 22,
   "id": "234f4225-838e-4ebd-aa1f-f17ece7f5a26",
   "metadata": {},
   "outputs": [
    {
     "name": "stdout",
     "output_type": "stream",
     "text": [
      "['_', 'case', 'match', 'type']\n"
     ]
    }
   ],
   "source": [
    "print(keyword.softkwlist)"
   ]
  },
  {
   "cell_type": "code",
   "execution_count": 26,
   "id": "b8796f54-ec00-4e63-82e8-54fc78274570",
   "metadata": {},
   "outputs": [
    {
     "name": "stdout",
     "output_type": "stream",
     "text": [
      "\n",
      "Here is a list of the Python keywords.  Enter any keyword to get more help.\n",
      "\n",
      "False               class               from                or\n",
      "None                continue            global              pass\n",
      "True                def                 if                  raise\n",
      "and                 del                 import              return\n",
      "as                  elif                in                  try\n",
      "assert              else                is                  while\n",
      "async               except              lambda              with\n",
      "await               finally             nonlocal            yield\n",
      "break               for                 not                 \n",
      "\n"
     ]
    }
   ],
   "source": [
    "help(\"keywords\")"
   ]
  },
  {
   "cell_type": "code",
   "execution_count": 27,
   "id": "66fd5c39-416e-4ccd-a608-802d90746bdd",
   "metadata": {},
   "outputs": [],
   "source": [
    "ingresos = 1000\n",
    "gastos = 100\n",
    "beneficios = ingresos - gastos"
   ]
  },
  {
   "cell_type": "code",
   "execution_count": 29,
   "id": "492396d4-bfa8-4f17-aa2b-cf3e5f909bdd",
   "metadata": {},
   "outputs": [
    {
     "name": "stdout",
     "output_type": "stream",
     "text": [
      "1000\n",
      "100\n",
      "los beneficios han sido de:\n",
      "900\n"
     ]
    }
   ],
   "source": [
    "print(ingresos)\n",
    "print(gastos)\n",
    "print(\"los beneficios han sido de:\")\n",
    "print(beneficios)"
   ]
  },
  {
   "cell_type": "code",
   "execution_count": 32,
   "id": "cffc20fc-63ba-4a4d-8349-0f12c29719aa",
   "metadata": {},
   "outputs": [
    {
     "name": "stdout",
     "output_type": "stream",
     "text": [
      "los beneficios de junio han sido 900 millones\n"
     ]
    }
   ],
   "source": [
    "mes=\"junio\"\n",
    "print(\"los beneficios de %s han sido %s millones\" %(mes, beneficios))"
   ]
  },
  {
   "cell_type": "code",
   "execution_count": 33,
   "id": "61e5f062-04b9-4f2f-ad0f-6834c47da343",
   "metadata": {},
   "outputs": [
    {
     "name": "stdout",
     "output_type": "stream",
     "text": [
      "los beneficios de 900 han sido junio millones\n"
     ]
    }
   ],
   "source": [
    "print(\"los beneficios de %s han sido %s millones\" %(beneficios, mes))"
   ]
  },
  {
   "cell_type": "code",
   "execution_count": 35,
   "id": "bab8b6b9-00e0-4191-a9e0-7addb94e2369",
   "metadata": {},
   "outputs": [
    {
     "name": "stdout",
     "output_type": "stream",
     "text": [
      "los beneficios de agosto han sido de 900 millones\n"
     ]
    }
   ],
   "source": [
    "mes = \"agosto\"\n",
    "print (\"los beneficios de\", mes , \"han sido de\", beneficios, \"millones\")"
   ]
  },
  {
   "cell_type": "code",
   "execution_count": 36,
   "id": "130e9a26-b590-4ff3-b281-d2a3443dbbfb",
   "metadata": {},
   "outputs": [
    {
     "name": "stdout",
     "output_type": "stream",
     "text": [
      "Esto sí lo ejecuta\n"
     ]
    }
   ],
   "source": [
    "### Comentario de línea ###\n",
    "### print (\"Esto lo ignora\") ###\n",
    "print (\"Esto sí lo ejecuta\")\n"
   ]
  },
  {
   "cell_type": "code",
   "execution_count": 37,
   "id": "f06af5c9-bfca-4223-afe1-d73a6887fd86",
   "metadata": {},
   "outputs": [
    {
     "name": "stdout",
     "output_type": "stream",
     "text": [
      "Fin del programa\n"
     ]
    }
   ],
   "source": [
    "print (\"Fin del programa\") ##Esta línea indica que hemos terminado\"###"
   ]
  },
  {
   "cell_type": "code",
   "execution_count": 43,
   "id": "dc4af9df-8f8f-4691-b42f-1a4b541f3f26",
   "metadata": {},
   "outputs": [
    {
     "name": "stdout",
     "output_type": "stream",
     "text": [
      "En cambio este print sí se ejecutará\n"
     ]
    }
   ],
   "source": [
    "'''\n",
    "Comentario multilínea\n",
    "Puedo usar varias líneas sin tener que repetir el # \n",
    "'''\n",
    "\n",
    "\"\"\"\"\n",
    "Los comentarios multilinea pueden ir entre comillas dobles\n",
    "y tampoco se ejecutan o interpretan \n",
    "print(\"No se va a ejecutar\")\n",
    "\"\"\"\n",
    "\n",
    "print(\"En cambio este print sí se ejecutará\")"
   ]
  },
  {
   "cell_type": "code",
   "execution_count": 45,
   "id": "608d5422-b110-4cef-a8de-9c68878965f9",
   "metadata": {},
   "outputs": [
    {
     "ename": "NameError",
     "evalue": "name 'ventas_junio' is not defined",
     "output_type": "error",
     "traceback": [
      "\u001b[1;31m---------------------------------------------------------------------------\u001b[0m",
      "\u001b[1;31mNameError\u001b[0m                                 Traceback (most recent call last)",
      "Cell \u001b[1;32mIn[45], line 1\u001b[0m\n\u001b[1;32m----> 1\u001b[0m ventas_jun_jul \u001b[38;5;241m=\u001b[39m \u001b[43mventas_junio\u001b[49m \u001b[38;5;241m+\u001b[39m ventas_julio\n\u001b[0;32m      2\u001b[0m ventas_junio \u001b[38;5;241m=\u001b[39m \u001b[38;5;241m100\u001b[39m\n\u001b[0;32m      3\u001b[0m ventas_julio \u001b[38;5;241m=\u001b[39m \u001b[38;5;241m150\u001b[39m\n",
      "\u001b[1;31mNameError\u001b[0m: name 'ventas_junio' is not defined"
     ]
    }
   ],
   "source": [
    "ventas_jun_jul = ventas_junio + ventas_julio\n",
    "ventas_junio = 100\n",
    "ventas_julio = 150\n",
    "\n",
    "print (ventas_jun_jul)"
   ]
  },
  {
   "cell_type": "code",
   "execution_count": 46,
   "id": "259c3be4-7774-4475-93fd-dc2cd2eb0bcf",
   "metadata": {},
   "outputs": [],
   "source": [
    "ventas_junio = 100\n",
    "ventas_julio = 150"
   ]
  },
  {
   "cell_type": "code",
   "execution_count": 48,
   "id": "50e1acc1-2c38-4059-8ced-23f8fc34b180",
   "metadata": {},
   "outputs": [
    {
     "name": "stdout",
     "output_type": "stream",
     "text": [
      "Las ventas de Junio-Julio han sido de 250\n"
     ]
    }
   ],
   "source": [
    "ventas_jun_jul = ventas_junio + ventas_julio\n",
    "print (\"Las ventas de Junio-Julio han sido de\",ventas_jun_jul)"
   ]
  },
  {
   "cell_type": "code",
   "execution_count": 49,
   "id": "9a7e5d09-24ca-434d-a6d6-c25c3451b61d",
   "metadata": {},
   "outputs": [
    {
     "name": "stdout",
     "output_type": "stream",
     "text": [
      "1.8 75\n"
     ]
    }
   ],
   "source": [
    "altura = 1.80; peso = 75\n",
    "print (altura, peso)"
   ]
  },
  {
   "cell_type": "code",
   "execution_count": 50,
   "id": "2cdad560-1b40-40cd-a4e5-26e4bb3431ab",
   "metadata": {},
   "outputs": [],
   "source": [
    "x,y,z= 12,23,45\n"
   ]
  },
  {
   "cell_type": "code",
   "execution_count": 51,
   "id": "cfd6653a-47c7-4bc6-95fd-1ba7c011e25b",
   "metadata": {},
   "outputs": [],
   "source": [
    "x = 12\n",
    "y = 23\n",
    "z = 45"
   ]
  },
  {
   "cell_type": "code",
   "execution_count": 52,
   "id": "21411730-7e38-47be-8bba-29799f3553e9",
   "metadata": {},
   "outputs": [],
   "source": [
    "altura = 1.85\n",
    "del altura"
   ]
  },
  {
   "cell_type": "code",
   "execution_count": 53,
   "id": "6870c9df-dda8-418d-9023-677d6985635f",
   "metadata": {},
   "outputs": [
    {
     "ename": "NameError",
     "evalue": "name 'altura' is not defined",
     "output_type": "error",
     "traceback": [
      "\u001b[1;31m---------------------------------------------------------------------------\u001b[0m",
      "\u001b[1;31mNameError\u001b[0m                                 Traceback (most recent call last)",
      "Cell \u001b[1;32mIn[53], line 1\u001b[0m\n\u001b[1;32m----> 1\u001b[0m \u001b[38;5;28mprint\u001b[39m (\u001b[43maltura\u001b[49m)\n",
      "\u001b[1;31mNameError\u001b[0m: name 'altura' is not defined"
     ]
    }
   ],
   "source": [
    "print (altura)"
   ]
  },
  {
   "cell_type": "code",
   "execution_count": null,
   "id": "5aa51fd2-1255-400b-9143-fd860095096a",
   "metadata": {},
   "outputs": [],
   "source": []
  }
 ],
 "metadata": {
  "kernelspec": {
   "display_name": "Python 3 (ipykernel)",
   "language": "python",
   "name": "python3"
  },
  "language_info": {
   "codemirror_mode": {
    "name": "ipython",
    "version": 3
   },
   "file_extension": ".py",
   "mimetype": "text/x-python",
   "name": "python",
   "nbconvert_exporter": "python",
   "pygments_lexer": "ipython3",
   "version": "3.12.1"
  }
 },
 "nbformat": 4,
 "nbformat_minor": 5
}
