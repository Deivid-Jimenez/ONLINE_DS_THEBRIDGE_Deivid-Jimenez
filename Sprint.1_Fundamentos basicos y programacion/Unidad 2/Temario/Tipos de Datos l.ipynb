{
 "cells": [
  {
   "cell_type": "markdown",
   "id": "0bf774cf-9f3b-4f5a-935b-18f61e67d4ee",
   "metadata": {},
   "source": [
    "## Numéricos "
   ]
  },
  {
   "cell_type": "code",
   "execution_count": 1,
   "id": "d425361e-57b1-4fe3-9691-dc4061088c8f",
   "metadata": {},
   "outputs": [
    {
     "name": "stdout",
     "output_type": "stream",
     "text": [
      "<class 'int'>\n"
     ]
    }
   ],
   "source": [
    "numero = 22\n",
    "print(type(numero))"
   ]
  },
  {
   "cell_type": "code",
   "execution_count": 3,
   "id": "4876326e-5383-4914-8b11-8186f7e2fa40",
   "metadata": {},
   "outputs": [
    {
     "name": "stdout",
     "output_type": "stream",
     "text": [
      "<class 'float'>\n"
     ]
    }
   ],
   "source": [
    "numero_real= 16.7\n",
    "print (type(numero_real))"
   ]
  },
  {
   "cell_type": "code",
   "execution_count": 4,
   "id": "a6b7953f-e6c9-4155-94fd-dd74e6012714",
   "metadata": {},
   "outputs": [
    {
     "name": "stdout",
     "output_type": "stream",
     "text": [
      "<class 'float'>\n"
     ]
    }
   ],
   "source": [
    "numero_real_decimales = 22.45123\n",
    "print (type(numero_real_decimales))"
   ]
  },
  {
   "cell_type": "code",
   "execution_count": 8,
   "id": "f66f6429-7265-4266-8175-3ac7d836981a",
   "metadata": {},
   "outputs": [
    {
     "name": "stdout",
     "output_type": "stream",
     "text": [
      "Sumas y restas\n",
      "3\n",
      "3.0\n",
      "-1.0\n"
     ]
    }
   ],
   "source": [
    "print (\"Sumas y restas\")\n",
    "print(1+2)\n",
    "print(1.0+2) #fíjate que cuando sumo float con int devuelve un float\n",
    "print(1.0-2) #siempre que opero float con int el resultado es float#"
   ]
  },
  {
   "cell_type": "code",
   "execution_count": 12,
   "id": "6d6b942d-d10d-4077-aeb7-402247873ef9",
   "metadata": {},
   "outputs": [
    {
     "name": "stdout",
     "output_type": "stream",
     "text": [
      "mult y divisiones\n",
      "4\n",
      "4.0\n",
      "1.0\n"
     ]
    }
   ],
   "source": [
    "print (\"mult y divisiones\")\n",
    "print(2*2)\n",
    "print(2.0*2)\n",
    "print(2/2) #El tipo del resultado de una división es siempre float#"
   ]
  },
  {
   "cell_type": "code",
   "execution_count": 16,
   "id": "b75b292c-2995-44fa-8198-42360dfce839",
   "metadata": {},
   "outputs": [
    {
     "name": "stdout",
     "output_type": "stream",
     "text": [
      "Resto División\n",
      "3.3333333333333335\n",
      "3\n",
      "1\n",
      "3\n"
     ]
    }
   ],
   "source": [
    "print (\"Resto División\")\n",
    "print(10/3)\n",
    "print(int(10/3))\n",
    "print (10 % 3)\n",
    "print (10 // 3)       "
   ]
  },
  {
   "cell_type": "code",
   "execution_count": 23,
   "id": "fda9f873-9a5b-4f4c-b8a9-c2bca9f4d58e",
   "metadata": {},
   "outputs": [
    {
     "name": "stdout",
     "output_type": "stream",
     "text": [
      " Es n par?\n",
      "El resto es 1\n",
      "Es impar\n"
     ]
    }
   ],
   "source": [
    "n= 25\n",
    "print (\" Es n par?\")\n",
    "resto = n % 2\n",
    "print (\"El resto es\", resto)\n",
    "if resto == 0:\n",
    "    print(\"Es par\")\n",
    "else: print(\"Es impar\")"
   ]
  },
  {
   "cell_type": "markdown",
   "id": "de571b36-d781-47d6-9600-ca5275bc1ba7",
   "metadata": {},
   "source": [
    "## Strings"
   ]
  },
  {
   "cell_type": "code",
   "execution_count": 27,
   "id": "9529207e-f841-4c77-8d3e-78a6fc895914",
   "metadata": {},
   "outputs": [
    {
     "name": "stdout",
     "output_type": "stream",
     "text": [
      "esto es una variable tipo string\n",
      "esto es una variable tipo string\n"
     ]
    }
   ],
   "source": [
    "#Con comillas dobles#\n",
    "cadena = \"esto es una variable tipo string\"\n",
    "#Con comillas simples#\n",
    "cadena_2 = 'esto es una variable tipo string'\n",
    "\n",
    "print(cadena)\n",
    "print(cadena_2)"
   ]
  },
  {
   "cell_type": "code",
   "execution_count": 29,
   "id": "c65afe32-6ec9-4d12-9aa3-cc08a5b614e4",
   "metadata": {},
   "outputs": [
    {
     "name": "stdout",
     "output_type": "stream",
     "text": [
      "String con 'simples'\n",
      "String con \"dobles\"\n",
      "String con \"simples o dobles\"\n"
     ]
    }
   ],
   "source": [
    "print(\"String con 'simples'\")\n",
    "print('String con \"dobles\"')\n",
    "print (\"String con \\\"simples o dobles\\\"\")"
   ]
  },
  {
   "cell_type": "code",
   "execution_count": 30,
   "id": "b836c44f-e0df-42e5-a3bf-3a44ab060ac0",
   "metadata": {},
   "outputs": [
    {
     "name": "stdout",
     "output_type": "stream",
     "text": [
      "Primera línea\n",
      "Seguna línea\n",
      "\tTercera línea, tabulada\n"
     ]
    }
   ],
   "source": [
    "print (\"Primera línea\\nSeguna línea\\n\\tTercera línea, tabulada\")"
   ]
  },
  {
   "cell_type": "code",
   "execution_count": 32,
   "id": "0de7695b-dde0-4ea2-8da1-10e938a82b61",
   "metadata": {},
   "outputs": [
    {
     "name": "stdout",
     "output_type": "stream",
     "text": [
      "Primera Linea\n",
      "Segunda línea\n",
      "\tTercera línea, tabulada\n"
     ]
    }
   ],
   "source": [
    "mi_string = \"Primera Linea\\nSegunda línea\\n\\tTercera línea, tabulada\"\n",
    "print (mi_string)"
   ]
  },
  {
   "cell_type": "code",
   "execution_count": 36,
   "id": "011e41f6-8580-4d45-a002-e16fc2396ff1",
   "metadata": {},
   "outputs": [
    {
     "name": "stdout",
     "output_type": "stream",
     "text": [
      "Antonia Scott\n"
     ]
    }
   ],
   "source": [
    "nombre = \"Antonia\"\n",
    "apellido = \"Scott\"\n",
    "nombre_apellido = nombre+ \" \"+apellido\n",
    "print(nombre_apellido)"
   ]
  },
  {
   "cell_type": "code",
   "execution_count": 37,
   "id": "a78b9ba6-684d-4e5b-8416-d1e56ba9d905",
   "metadata": {},
   "outputs": [
    {
     "ename": "TypeError",
     "evalue": "can only concatenate str (not \"int\") to str",
     "output_type": "error",
     "traceback": [
      "\u001b[1;31m---------------------------------------------------------------------------\u001b[0m",
      "\u001b[1;31mTypeError\u001b[0m                                 Traceback (most recent call last)",
      "Cell \u001b[1;32mIn[37], line 3\u001b[0m\n\u001b[0;32m      1\u001b[0m esto_es_una_prueba \u001b[38;5;241m=\u001b[39m \u001b[38;5;124m\"\u001b[39m\u001b[38;5;124mQue estamos jugando\u001b[39m\u001b[38;5;124m\"\u001b[39m\n\u001b[0;32m      2\u001b[0m un_entero\u001b[38;5;241m=\u001b[39m\u001b[38;5;241m9\u001b[39m\n\u001b[1;32m----> 3\u001b[0m \u001b[38;5;28mprint\u001b[39m(\u001b[43mesto_es_una_prueba\u001b[49m\u001b[38;5;241;43m+\u001b[39;49m\u001b[43mun_entero\u001b[49m)\n",
      "\u001b[1;31mTypeError\u001b[0m: can only concatenate str (not \"int\") to str"
     ]
    }
   ],
   "source": [
    "esto_es_una_prueba = \"Que estamos jugando\"\n",
    "un_entero=9\n",
    "print(esto_es_una_prueba+un_entero)"
   ]
  },
  {
   "cell_type": "markdown",
   "id": "935c45ce-4109-42d8-8ca1-3b9ad21d9a14",
   "metadata": {},
   "source": [
    "## Booleanos"
   ]
  },
  {
   "cell_type": "code",
   "execution_count": 39,
   "id": "2236ac58-bd7b-4dbc-b291-29dca02a0890",
   "metadata": {},
   "outputs": [
    {
     "name": "stdout",
     "output_type": "stream",
     "text": [
      "<class 'bool'>\n"
     ]
    }
   ],
   "source": [
    "#Se deben escribir en Maýuscula \"True\" y \"False\"\n",
    "ya_sé_de_Python = False\n",
    "print (type(ya_sé_de_Python))"
   ]
  },
  {
   "cell_type": "code",
   "execution_count": 40,
   "id": "616d7dd3-cb05-4d7e-902f-5a764f8a30e7",
   "metadata": {},
   "outputs": [
    {
     "data": {
      "text/plain": [
       "False"
      ]
     },
     "execution_count": 40,
     "metadata": {},
     "output_type": "execute_result"
    }
   ],
   "source": [
    "dinero = 5\n",
    "dinero >= 15"
   ]
  },
  {
   "cell_type": "code",
   "execution_count": 41,
   "id": "f2f99512-39cf-40d6-89c0-741ad017c08e",
   "metadata": {},
   "outputs": [
    {
     "name": "stdout",
     "output_type": "stream",
     "text": [
      "True\n",
      "<class 'bool'>\n"
     ]
    }
   ],
   "source": [
    "dinero = 15\n",
    "cond_1 = dinero>= 15\n",
    "print (cond_1)\n",
    "print (type(cond_1))"
   ]
  },
  {
   "cell_type": "code",
   "execution_count": 42,
   "id": "e39eb20d-0aa2-483e-a8af-88381683ae3b",
   "metadata": {},
   "outputs": [
    {
     "name": "stdout",
     "output_type": "stream",
     "text": [
      "<class 'float'>\n"
     ]
    }
   ],
   "source": [
    "print(type(1.0))"
   ]
  },
  {
   "cell_type": "code",
   "execution_count": 43,
   "id": "41029f3e-76f5-47f6-a7aa-d6715f051432",
   "metadata": {},
   "outputs": [
    {
     "name": "stdout",
     "output_type": "stream",
     "text": [
      "<class 'int'>\n"
     ]
    }
   ],
   "source": [
    "print(type(-74))"
   ]
  },
  {
   "cell_type": "code",
   "execution_count": 44,
   "id": "21c05ac6-8f26-4aed-8786-908cc24df15e",
   "metadata": {},
   "outputs": [
    {
     "name": "stdout",
     "output_type": "stream",
     "text": [
      "<class 'str'>\n"
     ]
    }
   ],
   "source": [
    "print(type(\"3,45\"))"
   ]
  },
  {
   "cell_type": "code",
   "execution_count": 46,
   "id": "0a583754-ff4e-4d77-8e0e-29ca6ecaddbd",
   "metadata": {},
   "outputs": [
    {
     "name": "stdout",
     "output_type": "stream",
     "text": [
      "<class 'bool'>\n"
     ]
    }
   ],
   "source": [
    "print (type(True))"
   ]
  },
  {
   "cell_type": "code",
   "execution_count": 47,
   "id": "7cd540bb-21a0-4285-a965-ef07a653a4fb",
   "metadata": {},
   "outputs": [
    {
     "name": "stdout",
     "output_type": "stream",
     "text": [
      "<class 'bool'>\n"
     ]
    }
   ],
   "source": [
    "print (type(cond_1))"
   ]
  }
 ],
 "metadata": {
  "kernelspec": {
   "display_name": "Python 3 (ipykernel)",
   "language": "python",
   "name": "python3"
  },
  "language_info": {
   "codemirror_mode": {
    "name": "ipython",
    "version": 3
   },
   "file_extension": ".py",
   "mimetype": "text/x-python",
   "name": "python",
   "nbconvert_exporter": "python",
   "pygments_lexer": "ipython3",
   "version": "3.12.1"
  }
 },
 "nbformat": 4,
 "nbformat_minor": 5
}
