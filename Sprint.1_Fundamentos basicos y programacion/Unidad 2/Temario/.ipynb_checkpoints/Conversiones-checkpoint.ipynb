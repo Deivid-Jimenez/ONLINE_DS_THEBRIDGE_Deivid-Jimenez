{
 "cells": [
  {
   "cell_type": "code",
   "execution_count": 2,
   "id": "2ae46c1f-7fc2-4da1-b4d0-c5e7a6623b75",
   "metadata": {},
   "outputs": [
    {
     "name": "stdout",
     "output_type": "stream",
     "text": [
      "<class 'float'>\n",
      "24\n",
      "<class 'int'>\n"
     ]
    }
   ],
   "source": [
    "num_real = 24.69\n",
    "print (type(num_real))\n",
    "\n",
    "num_entero = int(num_real)\n",
    "print(num_entero)\n",
    "print (type(num_entero))"
   ]
  },
  {
   "cell_type": "code",
   "execution_count": 3,
   "id": "75c0e663-1903-477a-8a35-fcede1169c70",
   "metadata": {},
   "outputs": [
    {
     "name": "stdout",
     "output_type": "stream",
     "text": [
      "24.69\n"
     ]
    }
   ],
   "source": [
    "##Función de Redondear##\n",
    "##Esta función tiene dos argumentos: el número y la cantidad de decimales###\n",
    "\n",
    "num_real = 24.686 \n",
    "num_redondeado = round(num_real, 2)\n",
    "print(num_redondeado)"
   ]
  },
  {
   "cell_type": "code",
   "execution_count": 5,
   "id": "f8d51d2f-0466-406b-86b7-56254ecfcc79",
   "metadata": {},
   "outputs": [
    {
     "name": "stdout",
     "output_type": "stream",
     "text": [
      "25.0\n"
     ]
    }
   ],
   "source": [
    "num_redondeado = 24.69\n",
    "num_convertido = round (num_redondeado,0)\n",
    "print(num_convertido)"
   ]
  },
  {
   "cell_type": "code",
   "execution_count": 6,
   "id": "964ae764-4f85-4dfa-a7e4-aa6a7e3f3953",
   "metadata": {},
   "outputs": [
    {
     "name": "stdout",
     "output_type": "stream",
     "text": [
      "25\n"
     ]
    }
   ],
   "source": [
    "print(int(num_convertido))"
   ]
  },
  {
   "cell_type": "code",
   "execution_count": 9,
   "id": "10cf8d98-3098-445a-9fb3-e62231285d3c",
   "metadata": {},
   "outputs": [
    {
     "name": "stdout",
     "output_type": "stream",
     "text": [
      "24.69 su tipo <class 'str'>\n",
      "12 su tipo <class 'str'>\n"
     ]
    }
   ],
   "source": [
    "num_real = 24.69\n",
    "num_entero = 12\n",
    "real_str = str(num_real)\n",
    "entero_str = str(num_entero)\n",
    "print (real_str, \"su tipo\", type(real_str))\n",
    "print (entero_str, \"su tipo\", type(entero_str))"
   ]
  },
  {
   "cell_type": "code",
   "execution_count": 10,
   "id": "ad527ec4-7d1f-450e-b886-5f26996cb0fb",
   "metadata": {},
   "outputs": [
    {
     "name": "stdout",
     "output_type": "stream",
     "text": [
      "36.69\n",
      "24.6912\n"
     ]
    }
   ],
   "source": [
    "print (num_real + num_entero)\n",
    "print (real_str +  entero_str)\n"
   ]
  },
  {
   "cell_type": "code",
   "execution_count": 11,
   "id": "5f0b81e5-7b7f-479d-a7f9-93814c6ab600",
   "metadata": {},
   "outputs": [
    {
     "name": "stdout",
     "output_type": "stream",
     "text": [
      "98\n"
     ]
    }
   ],
   "source": [
    "mi_entero=98\n",
    "print(mi_entero)"
   ]
  },
  {
   "cell_type": "code",
   "execution_count": 16,
   "id": "18a60262-58c0-487e-b94a-d73478b7d893",
   "metadata": {},
   "outputs": [
    {
     "name": "stdout",
     "output_type": "stream",
     "text": [
      "98 <class 'str'>\n",
      "98 <class 'int'>\n"
     ]
    },
    {
     "ename": "ValueError",
     "evalue": "could not convert string to float: '98,33'",
     "output_type": "error",
     "traceback": [
      "\u001b[1;31m---------------------------------------------------------------------------\u001b[0m",
      "\u001b[1;31mValueError\u001b[0m                                Traceback (most recent call last)",
      "Cell \u001b[1;32mIn[16], line 6\u001b[0m\n\u001b[0;32m      4\u001b[0m \u001b[38;5;28mprint\u001b[39m (mi_entero, \u001b[38;5;28mtype\u001b[39m(mi_entero))\n\u001b[0;32m      5\u001b[0m mi_cadena_real \u001b[38;5;241m=\u001b[39m \u001b[38;5;124m\"\u001b[39m\u001b[38;5;124m98,33\u001b[39m\u001b[38;5;124m\"\u001b[39m\n\u001b[1;32m----> 6\u001b[0m mi_real \u001b[38;5;241m=\u001b[39m \u001b[38;5;28;43mfloat\u001b[39;49m\u001b[43m(\u001b[49m\u001b[43mmi_cadena_real\u001b[49m\u001b[43m)\u001b[49m\n",
      "\u001b[1;31mValueError\u001b[0m: could not convert string to float: '98,33'"
     ]
    }
   ],
   "source": [
    "mi_cadena = \"98\"\n",
    "mi_entero = int(mi_cadena)\n",
    "print (mi_cadena, type(mi_cadena))\n",
    "print (mi_entero, type(mi_entero))\n",
    "mi_cadena_real = \"98,33\"\n",
    "mi_real = float(mi_cadena_real)"
   ]
  },
  {
   "cell_type": "code",
   "execution_count": 17,
   "id": "dfcbe59b-3259-4a93-9b2b-245fd14d2107",
   "metadata": {},
   "outputs": [
    {
     "name": "stdout",
     "output_type": "stream",
     "text": [
      "98.33 <class 'float'>\n"
     ]
    }
   ],
   "source": [
    "mi_cadena_real = \"98.33\"\n",
    "mi_real = float(mi_cadena_real)\n",
    "print(mi_real, type(mi_real))"
   ]
  },
  {
   "cell_type": "code",
   "execution_count": 19,
   "id": "ba518090-026f-44ef-9e76-6801f27fc299",
   "metadata": {},
   "outputs": [
    {
     "name": "stdout",
     "output_type": "stream",
     "text": [
      "True <class 'bool'>\n"
     ]
    }
   ],
   "source": [
    "booleano = bool(123)\n",
    "print(booleano, type(booleano))"
   ]
  },
  {
   "cell_type": "code",
   "execution_count": 21,
   "id": "3b0d7f53-b868-44c8-8290-4040f52d4a87",
   "metadata": {},
   "outputs": [
    {
     "name": "stdout",
     "output_type": "stream",
     "text": [
      "False <class 'bool'>\n"
     ]
    }
   ],
   "source": [
    "booleano = bool(0)\n",
    "print (booleano,type(booleano))"
   ]
  },
  {
   "cell_type": "code",
   "execution_count": 24,
   "id": "328a897b-79ec-41d4-b2f7-310b64cf0de5",
   "metadata": {},
   "outputs": [
    {
     "name": "stdout",
     "output_type": "stream",
     "text": [
      "False <class 'bool'>\n",
      "True <class 'bool'>\n"
     ]
    }
   ],
   "source": [
    "booleano = bool(\"\")\n",
    "booleano_2 = bool(\"Esto es otro tipo de booleano al hacer la conversión\")\n",
    "print(booleano, type(booleano))\n",
    "print(booleano_2, type(booleano_2))"
   ]
  },
  {
   "cell_type": "code",
   "execution_count": 26,
   "id": "3d813468-498c-4721-82dd-5842096e36db",
   "metadata": {},
   "outputs": [
    {
     "name": "stdout",
     "output_type": "stream",
     "text": [
      "False True\n"
     ]
    }
   ],
   "source": [
    "bool_str = str(booleano)\n",
    "bool_str2 = str(booleano_2)\n",
    "print(bool_str, bool_str2)"
   ]
  }
 ],
 "metadata": {
  "kernelspec": {
   "display_name": "Python 3 (ipykernel)",
   "language": "python",
   "name": "python3"
  },
  "language_info": {
   "codemirror_mode": {
    "name": "ipython",
    "version": 3
   },
   "file_extension": ".py",
   "mimetype": "text/x-python",
   "name": "python",
   "nbconvert_exporter": "python",
   "pygments_lexer": "ipython3",
   "version": "3.12.1"
  }
 },
 "nbformat": 4,
 "nbformat_minor": 5
}
