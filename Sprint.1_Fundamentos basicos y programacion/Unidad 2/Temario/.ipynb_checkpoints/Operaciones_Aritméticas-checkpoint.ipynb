{
 "cells": [
  {
   "cell_type": "code",
   "execution_count": 13,
   "id": "2af6f96d-340b-4f61-826e-f8db5f769f05",
   "metadata": {},
   "outputs": [
    {
     "name": "stdout",
     "output_type": "stream",
     "text": [
      "8.68\n",
      "<class 'float'>\n",
      "18.400000000000002 <class 'float'>\n",
      "373.43035366871777 <class 'float'>\n",
      "1.358695652173913 \n",
      " 1.3199999999999998 \n",
      " 1.0\n"
     ]
    }
   ],
   "source": [
    "#Declarar y asignar una variable entera\n",
    "entero = 5\n",
    "#Declarar y asignar una variable float\n",
    "real = 3.68\n",
    "#Sumar las variables y mostrar el resultado\n",
    "suma_vars = entero + real\n",
    "#mostrar el resultado\n",
    "print (suma_vars)\n",
    "#mostrar tipo de resultado\n",
    "print(type(suma_vars))\n",
    "#Multiplicar ambas variables y mostrar el resultado\n",
    "multiplica_vars = entero * real\n",
    "print(multiplica_vars,type(multiplica_vars))\n",
    "#Elevar una a la otra\n",
    "potencia = entero ** real\n",
    "print (potencia, type(potencia))\n",
    "#Dividir una  por otra y mostrar ademñas el resto y el cociente\n",
    "division_vars = entero/real\n",
    "cociente = entero // real\n",
    "resto = entero % real\n",
    "print(division_vars,\"\\n\",resto,\"\\n\",cociente)"
   ]
  },
  {
   "cell_type": "code",
   "execution_count": 15,
   "id": "603c9587-0932-4497-aa06-bc7d11ba7b4a",
   "metadata": {},
   "outputs": [
    {
     "name": "stdout",
     "output_type": "stream",
     "text": [
      "5.0\n",
      "1.0\n",
      "12345.0\n"
     ]
    }
   ],
   "source": [
    "import math\n",
    "print (math.sqrt(25))\n",
    "print (math.cos(0))\n",
    "print (math.fabs(-12345))#abs"
   ]
  },
  {
   "cell_type": "code",
   "execution_count": 16,
   "id": "93cba723-4c6e-4ef0-84e3-18d6c4362346",
   "metadata": {},
   "outputs": [
    {
     "ename": "ZeroDivisionError",
     "evalue": "division by zero",
     "output_type": "error",
     "traceback": [
      "\u001b[1;31m---------------------------------------------------------------------------\u001b[0m",
      "\u001b[1;31mZeroDivisionError\u001b[0m                         Traceback (most recent call last)",
      "Cell \u001b[1;32mIn[16], line 1\u001b[0m\n\u001b[1;32m----> 1\u001b[0m \u001b[38;5;241;43m4\u001b[39;49m\u001b[38;5;241;43m/\u001b[39;49m\u001b[38;5;241;43m0\u001b[39;49m\n",
      "\u001b[1;31mZeroDivisionError\u001b[0m: division by zero"
     ]
    }
   ],
   "source": [
    "###Tipos de Errores###\n",
    "4/0 ### dividir por cero"
   ]
  },
  {
   "cell_type": "code",
   "execution_count": 18,
   "id": "9c8926a8-2fcb-4612-a671-8ebb50f45415",
   "metadata": {},
   "outputs": [
    {
     "ename": "ValueError",
     "evalue": "math domain error",
     "output_type": "error",
     "traceback": [
      "\u001b[1;31m---------------------------------------------------------------------------\u001b[0m",
      "\u001b[1;31mValueError\u001b[0m                                Traceback (most recent call last)",
      "Cell \u001b[1;32mIn[18], line 1\u001b[0m\n\u001b[1;32m----> 1\u001b[0m \u001b[43mmath\u001b[49m\u001b[38;5;241;43m.\u001b[39;49m\u001b[43msqrt\u001b[49m\u001b[43m(\u001b[49m\u001b[38;5;241;43m-\u001b[39;49m\u001b[38;5;241;43m12\u001b[39;49m\u001b[43m)\u001b[49m \u001b[38;5;66;03m### salirse de la logica de las operaciones matmáticas\u001b[39;00m\n",
      "\u001b[1;31mValueError\u001b[0m: math domain error"
     ]
    }
   ],
   "source": [
    "math.sqrt(-12) ### salirse de la logica de las operaciones matmáticas"
   ]
  },
  {
   "cell_type": "markdown",
   "id": "52e9c86e-263b-45f8-9d44-908358fb06f6",
   "metadata": {},
   "source": [
    "## Operaciones Comparativas ##"
   ]
  },
  {
   "cell_type": "code",
   "execution_count": null,
   "id": "f897f165-6f33-49f2-b449-573066269abc",
   "metadata": {},
   "outputs": [],
   "source": [
    "## == Igualdad\n",
    "## != Desigualdad\n",
    "## > Mayor que\n",
    "## < Menor que\n",
    "## >= Mayor o igual que\n",
    "## <= Menor o igual que"
   ]
  },
  {
   "cell_type": "code",
   "execution_count": 25,
   "id": "9443d7a4-7412-4632-bb4f-64f147a85bf9",
   "metadata": {},
   "outputs": [
    {
     "name": "stdout",
     "output_type": "stream",
     "text": [
      "1\n",
      "False\n",
      "1\n"
     ]
    }
   ],
   "source": [
    "## Asignación\n",
    "asign = 1\n",
    "print (asign)\n",
    "\n",
    "## Comparación\n",
    "print (asign == 5)\n",
    "print (asign)"
   ]
  },
  {
   "cell_type": "code",
   "execution_count": 28,
   "id": "bfc07e06-6b87-4374-b348-4565fa66ac2e",
   "metadata": {},
   "outputs": [
    {
     "name": "stdout",
     "output_type": "stream",
     "text": [
      "False\n",
      "True\n",
      "True\n",
      "True\n",
      "False\n"
     ]
    }
   ],
   "source": [
    "print (\"aaa\"==\"bbb\")\n",
    "print(\"aaa\"==\"aaa\")\n",
    "print(93>12)\n",
    "print(1==1.0)\n",
    "print(23<=12)"
   ]
  }
 ],
 "metadata": {
  "kernelspec": {
   "display_name": "Python 3 (ipykernel)",
   "language": "python",
   "name": "python3"
  },
  "language_info": {
   "codemirror_mode": {
    "name": "ipython",
    "version": 3
   },
   "file_extension": ".py",
   "mimetype": "text/x-python",
   "name": "python",
   "nbconvert_exporter": "python",
   "pygments_lexer": "ipython3",
   "version": "3.12.1"
  }
 },
 "nbformat": 4,
 "nbformat_minor": 5
}
