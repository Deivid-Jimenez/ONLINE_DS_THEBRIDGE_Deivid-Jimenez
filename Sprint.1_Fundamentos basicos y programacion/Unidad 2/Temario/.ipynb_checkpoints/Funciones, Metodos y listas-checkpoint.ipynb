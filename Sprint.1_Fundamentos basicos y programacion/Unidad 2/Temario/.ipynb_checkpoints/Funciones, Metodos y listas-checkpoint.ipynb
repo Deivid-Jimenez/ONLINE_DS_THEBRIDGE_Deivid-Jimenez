{
 "cells": [
  {
   "cell_type": "markdown",
   "id": "12a2154c-7b69-4e5c-b92b-c7060e6e79a0",
   "metadata": {},
   "source": [
    "## Fuciones built in"
   ]
  },
  {
   "cell_type": "code",
   "execution_count": 2,
   "id": "2c866144-2ccc-4db2-8c97-8ee646008f14",
   "metadata": {},
   "outputs": [
    {
     "name": "stdout",
     "output_type": "stream",
     "text": [
      "30\n"
     ]
    }
   ],
   "source": [
    "## Len se usa para calcular la longitud de una variable. Se usa mucho en colecciones\n",
    "\n",
    "print(len(\"Esto es una cadena de longitud\"))"
   ]
  },
  {
   "cell_type": "code",
   "execution_count": 5,
   "id": "d7dd9afe-7644-4452-af06-13dda70fff8a",
   "metadata": {},
   "outputs": [
    {
     "name": "stdout",
     "output_type": "stream",
     "text": [
      "28\n"
     ]
    }
   ],
   "source": [
    "## Función Max. Tiene  tantos argumentos como cantidad de números entre los cuales queremso sacar su valor maximo\n",
    "\n",
    "print (max((12,12,12,13,24,28)))"
   ]
  },
  {
   "cell_type": "code",
   "execution_count": 9,
   "id": "81610016-a2e3-4018-b2fc-005067161186",
   "metadata": {},
   "outputs": [
    {
     "name": "stdout",
     "output_type": "stream",
     "text": [
      "La longitud de esta cadena es**test**29Esto va en otra línea\n"
     ]
    }
   ],
   "source": [
    "cadena = \"La longitud de esta cadena es\"\n",
    "print(cadena, len(cadena), sep = \"**test**\", end = \"\")\n",
    "print (\"Esto va en otra línea\")\n",
    "      "
   ]
  },
  {
   "cell_type": "markdown",
   "id": "1d3cb210-c996-4bd0-bee6-7f1fc45fc8a1",
   "metadata": {},
   "source": [
    "## Métodos"
   ]
  },
  {
   "cell_type": "code",
   "execution_count": null,
   "id": "86fba768-0d2a-4b91-a0ec-4dd1811dec6b",
   "metadata": {},
   "outputs": [],
   "source": [
    "## Son funciones propias de las variables/objetos, que nos permiten modificar u obtener más info. de los mismos"
   ]
  },
  {
   "cell_type": "code",
   "execution_count": 16,
   "id": "efe4c050-50ed-4c6d-83ad-6a18c2d5122b",
   "metadata": {},
   "outputs": [
    {
     "name": "stdout",
     "output_type": "stream",
     "text": [
      "STRING EN MINÚSCULAS\n",
      "esto es un ejemplo diferent\n",
      "ctring en minúcculac\n",
      "string en MAYÚSCULAS\n",
      "tring en minúcula\n"
     ]
    }
   ],
   "source": [
    "string_ejemplo = \"string en minúsculas\"\n",
    "\n",
    "### Método para poner todo en mayúsculas\n",
    "\n",
    "print(string_ejemplo.upper())\n",
    "\n",
    "### Método para poner todo en minúsculas\n",
    "\n",
    "print(\"ESTO ES UN EJEMPLO DIFERENT\".lower())\n",
    "\n",
    "### Método para reemplazar algún caracter o varios\n",
    "\n",
    "print (string_ejemplo.replace(\"s\",\"c\"))\n",
    "print (string_ejemplo.replace(\"minúsculas\",\"MAYÚSCULAS\"))\n",
    "print (string_ejemplo.replace(\"s\",\"\"))\n",
    "\n"
   ]
  },
  {
   "cell_type": "code",
   "execution_count": 18,
   "id": "9e8bc4bd-a2d4-4dd1-b894-40f90141f4aa",
   "metadata": {},
   "outputs": [
    {
     "name": "stdout",
     "output_type": "stream",
     "text": [
      "['Esto', 'se', 'va', 'a', 'convertir', 'en', 'una', 'lista', 'de', 'strings']\n"
     ]
    }
   ],
   "source": [
    "## Método para convetir un string en una lista \n",
    "\n",
    "print (\"Esto se va a convertir en una lista de strings\".split( ))"
   ]
  },
  {
   "cell_type": "code",
   "execution_count": 19,
   "id": "98b73895-e72e-4f25-9de3-c8f549c06e97",
   "metadata": {},
   "outputs": [
    {
     "name": "stdout",
     "output_type": "stream",
     "text": [
      "10\n"
     ]
    }
   ],
   "source": [
    "## Método para conocer la posición dentro de un string ##\n",
    "print(string_ejemplo.index(\"m\"))"
   ]
  },
  {
   "cell_type": "code",
   "execution_count": 21,
   "id": "95d00862-d0da-403a-8961-c27a2bcfa1fd",
   "metadata": {},
   "outputs": [
    {
     "ename": "TypeError",
     "evalue": "replace expected at least 2 arguments, got 0",
     "output_type": "error",
     "traceback": [
      "\u001b[1;31m---------------------------------------------------------------------------\u001b[0m",
      "\u001b[1;31mTypeError\u001b[0m                                 Traceback (most recent call last)",
      "Cell \u001b[1;32mIn[21], line 4\u001b[0m\n\u001b[0;32m      1\u001b[0m \u001b[38;5;66;03m###Errores\u001b[39;00m\n\u001b[0;32m      2\u001b[0m \u001b[38;5;66;03m#Cuando no especificamos los argumentos necesarios\u001b[39;00m\n\u001b[1;32m----> 4\u001b[0m \u001b[43mstring_ejemplo\u001b[49m\u001b[38;5;241;43m.\u001b[39;49m\u001b[43mreplace\u001b[49m\u001b[43m(\u001b[49m\u001b[43m)\u001b[49m\n",
      "\u001b[1;31mTypeError\u001b[0m: replace expected at least 2 arguments, got 0"
     ]
    }
   ],
   "source": [
    "###Errores\n",
    "#Cuando no especificamos los argumentos necesarios\n",
    "\n",
    "string_ejemplo.replace()"
   ]
  },
  {
   "cell_type": "markdown",
   "id": "5fe911b1-eac2-423c-ac9b-ca0c7b8a863f",
   "metadata": {},
   "source": [
    "## Listas"
   ]
  },
  {
   "cell_type": "code",
   "execution_count": 22,
   "id": "ae3f2ad8-cc7a-4f99-80af-a2a201f1247a",
   "metadata": {},
   "outputs": [],
   "source": [
    "## Se trata de otro de los tipos de datos más usados. Nos permiten almacenar conjuntos de variables u objetos, sus dos características principales son:\n",
    "#Mutables: Una vez  se ha creado la lista, se puede modificar\n",
    "##Ordenada: Los elementos tienen cierto orden, lo que nos permite acceder al elemnto que queramos teniendo en cuenta tal orden.\n",
    "\n",
    "#Se tiene que separa con comas y se encierran en corchetes"
   ]
  },
  {
   "cell_type": "code",
   "execution_count": 24,
   "id": "25c6f305-ab7b-48f7-8259-245632291667",
   "metadata": {},
   "outputs": [
    {
     "name": "stdout",
     "output_type": "stream",
     "text": [
      "[1, 3, 5, 6] <class 'list'>\n"
     ]
    }
   ],
   "source": [
    "## Lista de números\n",
    "numeros =  [1, 3, 5, 6]\n",
    "print (numeros, type(numeros))"
   ]
  },
  {
   "cell_type": "code",
   "execution_count": 27,
   "id": "7e648202-017e-4986-9963-914bac8ef076",
   "metadata": {},
   "outputs": [
    {
     "name": "stdout",
     "output_type": "stream",
     "text": [
      "['Esto', 'es', 'una', 'lista'] <class 'list'>\n",
      "[True, False, True, True, False] <class 'list'>\n"
     ]
    }
   ],
   "source": [
    "## Lista de Strings\n",
    "strings = [\"Esto\", \"es\", \"una\", \"lista\"]\n",
    "print (strings, type(strings))\n",
    "\n",
    "## Listas de Booleanos ##\n",
    "booleanos = [True, False, not False, True or False, False and False]\n",
    "print (booleanos, type(booleanos))"
   ]
  },
  {
   "cell_type": "code",
   "execution_count": 28,
   "id": "ad53d5df-5c29-4649-bb0e-46ad0dda08e8",
   "metadata": {},
   "outputs": [
    {
     "name": "stdout",
     "output_type": "stream",
     "text": [
      "['Esto es', 12, -34.5, True, False, 'lista'] <class 'list'>\n"
     ]
    }
   ],
   "source": [
    "## Lista de tipos mezclados\n",
    "mix = [\"Esto es\", 12, -34.5, True, False, \"lista\"]\n",
    "print (mix, type(mix))"
   ]
  },
  {
   "cell_type": "code",
   "execution_count": 31,
   "id": "ef8f0c58-e20a-4cd6-a9b0-9729ad1e2c45",
   "metadata": {},
   "outputs": [
    {
     "name": "stdout",
     "output_type": "stream",
     "text": [
      "['Gola', 12, 23, [23, True, False], 'No lo sé'] <class 'list'>\n",
      "5\n"
     ]
    }
   ],
   "source": [
    "## Listas dentro de listas\n",
    "\n",
    "Listas = [\"Gola\", 12, 23, [23, True, False], \"No lo sé\"]\n",
    "print(Listas, type(Listas))\n",
    "print (len(Listas))"
   ]
  },
  {
   "cell_type": "code",
   "execution_count": 34,
   "id": "fe354bab-397f-4017-aa00-cbd94315f132",
   "metadata": {},
   "outputs": [
    {
     "name": "stdout",
     "output_type": "stream",
     "text": [
      "['Esto es', 12, -34.5, True, False, 'lista', 'Gola', 12, 23, [23, True, False], 'No lo sé'] <class 'list'>\n"
     ]
    }
   ],
   "source": [
    "concatenación = mix +  Listas\n",
    "print(concatenación, type(concatenación)) ### Se mantiene el mismo orden, este no se puede alterar"
   ]
  },
  {
   "cell_type": "code",
   "execution_count": 39,
   "id": "934addb8-b845-4f2c-b9ce-75f75d1dc220",
   "metadata": {},
   "outputs": [
    {
     "name": "stdout",
     "output_type": "stream",
     "text": [
      "2\n",
      "Patata\n"
     ]
    }
   ],
   "source": [
    "#Accedemos a una lista mediante los corchetes\n",
    "\n",
    "lista_ejemplo = [\"Esto\", 2, 3, \"Patata\"]\n",
    "print (lista_ejemplo.index(3))\n",
    "print (lista_ejemplo [-1])\n",
    "\n",
    "##Un error común es querer acceder a un elemnto que esté fuera del rango"
   ]
  },
  {
   "cell_type": "code",
   "execution_count": 54,
   "id": "4cbebcc1-831b-4aa0-9a65-f6a42ce0e424",
   "metadata": {},
   "outputs": [
    {
     "name": "stdout",
     "output_type": "stream",
     "text": [
      "['Fisica', 'Quimica', 'Matemáticas', 'Literatura', 'Filosofía']\n"
     ]
    }
   ],
   "source": [
    "asignaturas = [\"Fisica\", \"Quimica\", \"Matemáticas\" , \"Literatura\"]\n",
    "\n",
    "#Añadir elementos a una lista\n",
    "asignaturas.append(\"Filosofía\")\n",
    "print (asignaturas)"
   ]
  },
  {
   "cell_type": "code",
   "execution_count": 48,
   "id": "2bd11de9-5e53-44ee-b7aa-fd076a228a8b",
   "metadata": {},
   "outputs": [
    {
     "name": "stdout",
     "output_type": "stream",
     "text": [
      "['Gimnasia']\n"
     ]
    }
   ],
   "source": [
    "#Añadir elementos en una posición determinada#\n",
    "asignaturas.insert(1,\"Gimnasia\")\n",
    "print(asignaturas)"
   ]
  },
  {
   "cell_type": "code",
   "execution_count": 56,
   "id": "6efc9cdb-6674-4fe8-af77-c182bea4cb26",
   "metadata": {},
   "outputs": [
    {
     "name": "stdout",
     "output_type": "stream",
     "text": [
      "['Fisica', 'Literatura', 'Filosofía']\n",
      "['Literatura', 'Filosofía']\n"
     ]
    }
   ],
   "source": [
    "# Quitar elementos\n",
    "#asignaturas.clear() Quitar todos los elementos\n",
    "#print (asignaturas)\n",
    "#Quitar elemntos según su posición\n",
    "#asignaturas.pop(1)#\n",
    "print(asignaturas)\n",
    "#Quitar elemntos por su valor\n",
    "#asignaturas.remove (\"Fisica\")\n",
    "#print(asignaturas)"
   ]
  },
  {
   "cell_type": "code",
   "execution_count": 57,
   "id": "9d9f45f3-28a0-4b58-97fa-4c54ab272647",
   "metadata": {},
   "outputs": [
    {
     "name": "stdout",
     "output_type": "stream",
     "text": [
      "['Filosofía', 'Literatura']\n"
     ]
    }
   ],
   "source": [
    "## Ordenar la lista\n",
    "asignaturas.sort()\n",
    "print(asignaturas)"
   ]
  }
 ],
 "metadata": {
  "kernelspec": {
   "display_name": "Python 3 (ipykernel)",
   "language": "python",
   "name": "python3"
  },
  "language_info": {
   "codemirror_mode": {
    "name": "ipython",
    "version": 3
   },
   "file_extension": ".py",
   "mimetype": "text/x-python",
   "name": "python",
   "nbconvert_exporter": "python",
   "pygments_lexer": "ipython3",
   "version": "3.12.1"
  }
 },
 "nbformat": 4,
 "nbformat_minor": 5
}
