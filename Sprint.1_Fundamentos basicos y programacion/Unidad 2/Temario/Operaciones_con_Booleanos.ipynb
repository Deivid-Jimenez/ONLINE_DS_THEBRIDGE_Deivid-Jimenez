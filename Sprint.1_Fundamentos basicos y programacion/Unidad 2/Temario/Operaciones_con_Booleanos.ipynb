{
 "cells": [
  {
   "cell_type": "code",
   "execution_count": 1,
   "id": "da89272d-dd74-4469-8371-c81321f1ac8d",
   "metadata": {},
   "outputs": [],
   "source": [
    "# Primer Ordenador\n",
    "\n",
    "ram1 = 32\n",
    "process1= \"i5\"\n",
    "disco1 = 500\n",
    "precio1 = 850\n",
    "\n",
    "# Segundo Ordenador\n",
    "ram2 = 8\n",
    "process2 = \"i5\"\n",
    "disco2 = 500\n",
    "precio2 = 600\n",
    "\n",
    "# Tercer Ordenador\n",
    "ram3 = 32\n",
    "process3 = \"i3\"\n",
    "disco3 = 500\n",
    "precio3 = 700\n"
   ]
  },
  {
   "cell_type": "code",
   "execution_count": 6,
   "id": "9c580065-b193-4585-9fd6-e83818e08203",
   "metadata": {},
   "outputs": [
    {
     "name": "stdout",
     "output_type": "stream",
     "text": [
      "Busca otra opción\n"
     ]
    }
   ],
   "source": [
    "# Calcular Las condiciones del primero ordenador\n",
    "\n",
    "cond_ram1 = (ram1 == 16 or ram1 == 32 or ram1 == 64)  # Or me vale con cualquier resultado\n",
    "cond_process1 = (process1 == \"i3\" and disco1 == 500)  # Necesito un i3 y Disco de 500GB\n",
    "cond_precio1 = (precio1 < 800)\n",
    "cond_total1 = (cond_ram1 and cond_process1 and cond_precio1)\n",
    "\n",
    "respuesta = \"Compra este ordenador\" if cond_total1 else \"Busca otra opción\"\n",
    "print(respuesta)"
   ]
  },
  {
   "cell_type": "code",
   "execution_count": 8,
   "id": "d68ea371-b1ef-42a6-9e79-6d0011d6c418",
   "metadata": {},
   "outputs": [
    {
     "name": "stdout",
     "output_type": "stream",
     "text": [
      "Busca otra opción\n"
     ]
    }
   ],
   "source": [
    "cond_ram2 = (ram2 == 16 or ram2 == 32 or ram2 == 64)  # Or me vale con cualquier resultado\n",
    "cond_process2 = (process2 == \"i3\" and disco2 == 500)  # Necesito un i3 y Disco de 500GB\n",
    "cond_precio2 = (precio2 < 800)\n",
    "cond_total2 = (cond_ram2 and cond_process2 and cond_precio2)\n",
    "\n",
    "respuesta2 = \"Compra este ordenador\" if cond_total2 else \"Busca otra opción\"\n",
    "print(respuesta2)"
   ]
  },
  {
   "cell_type": "code",
   "execution_count": 10,
   "id": "a39bdf3e-e668-4904-ae3b-e78d8d0a1a62",
   "metadata": {},
   "outputs": [
    {
     "name": "stdout",
     "output_type": "stream",
     "text": [
      "Compra este ordenador\n"
     ]
    }
   ],
   "source": [
    "cond_ram3 = (ram3 == 16 or ram3 == 32 or ram3 == 64)  # Or me vale con cualquier resultado\n",
    "cond_process3 = (process3 == \"i3\" and disco3 == 500)  # Necesito un i3 y Disco de 500GB\n",
    "cond_precio3 = (precio3 < 800)\n",
    "cond_total3 = (cond_ram3 and cond_process3 and cond_precio3)\n",
    "\n",
    "respuesta3 = \"Compra este ordenador\" if cond_total3 else \"Busca otra opción\"\n",
    "print(respuesta3)"
   ]
  }
 ],
 "metadata": {
  "kernelspec": {
   "display_name": "Python 3 (ipykernel)",
   "language": "python",
   "name": "python3"
  },
  "language_info": {
   "codemirror_mode": {
    "name": "ipython",
    "version": 3
   },
   "file_extension": ".py",
   "mimetype": "text/x-python",
   "name": "python",
   "nbconvert_exporter": "python",
   "pygments_lexer": "ipython3",
   "version": "3.12.1"
  }
 },
 "nbformat": 4,
 "nbformat_minor": 5
}
