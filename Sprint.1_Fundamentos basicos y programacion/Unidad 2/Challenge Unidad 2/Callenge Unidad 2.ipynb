{
 "cells": [
  {
   "cell_type": "markdown",
   "id": "fb1df03e-1069-4e22-882e-c68979b255bf",
   "metadata": {},
   "source": [
    "## Challenge Unidad 2"
   ]
  },
  {
   "cell_type": "markdown",
   "id": "7d3b1754-aa28-4dd0-8998-00ffc7e32e7a",
   "metadata": {},
   "source": [
    "## Parte I"
   ]
  },
  {
   "cell_type": "code",
   "execution_count": 31,
   "id": "dc444dd3-fe05-4027-850e-69b1e01d28e2",
   "metadata": {},
   "outputs": [
    {
     "name": "stdout",
     "output_type": "stream",
     "text": [
      "Buenas tardes, bienvenido al servicio de pedido online, el precio de nuestra pizzas es de 9.9 para la pizza mediana o 8.89 para nuestra pizza familiar\n"
     ]
    },
    {
     "name": "stdin",
     "output_type": "stream",
     "text": [
      "¿Cuantas pizzas familiares desea?: 8\n",
      "¿Estupendo cuantas pizzas medianas desea?: 6\n"
     ]
    },
    {
     "name": "stdout",
     "output_type": "stream",
     "text": [
      "Estupendo, se están preparando 8 pizzas familiares y 6 pizzas medianas. Dígame su direccion\n"
     ]
    },
    {
     "name": "stdin",
     "output_type": "stream",
     "text": [
      "Dirección: Calle Valderribas, 40\n"
     ]
    },
    {
     "name": "stdout",
     "output_type": "stream",
     "text": [
      "Le mandaremos las 14 pizzas a la dirección Calle Valderribas, 40 .Serán 130.52 .Muchas gracias por su pedido.\n"
     ]
    }
   ],
   "source": [
    "precio_mediana = 9.90\n",
    "precio_familiar = 8.89\n",
    "print (\"Buenas tardes, bienvenido al servicio de pedido online, el precio de nuestra pizzas es de\"\\\n",
    "       , precio_mediana, \"para la pizza mediana o\", precio_familiar, \"para nuestra pizza familiar\")\n",
    "pizz_familiar = int(input(\"¿Cuantas pizzas familiares desea?:\"))\n",
    "pizz_mediana = int(input(\"¿Estupendo cuantas pizzas medianas desea?:\"))\n",
    "print(\"Estupendo!, se están preparando\",pizz_familiar, \"pizzas familiares y\", pizz_mediana, \"pizzas medianas. Dígame su direccion\")\n",
    "direcc = (input(\"Dirección:\")) \n",
    "monto_total = (precio_familiar*pizz_familiar)+(precio_mediana*pizz_mediana)\n",
    "monto_redondeado = round(monto_total,2)\n",
    "total_pizzas = pizz_mediana+pizz_familiar\n",
    "print(\"Le mandaremos las\",total_pizzas,\"pizzas a la dirección\", direcc,\".Serán\",monto_redondeado,\".Muchas gracias por su pedido.\")\n"
   ]
  },
  {
   "cell_type": "markdown",
   "id": "103b0285-618f-49ed-925c-402fe23d3d8e",
   "metadata": {},
   "source": [
    "## Parte II"
   ]
  },
  {
   "cell_type": "code",
   "execution_count": 32,
   "id": "90672430-1d2a-4213-8ee2-3b8932c4e78a",
   "metadata": {},
   "outputs": [
    {
     "name": "stdin",
     "output_type": "stream",
     "text": [
      "Introduce 3 números enteros separados por comas (por ejemplo: 1,2,3):  2,4,6\n"
     ]
    },
    {
     "name": "stdout",
     "output_type": "stream",
     "text": [
      "Números introducidos: [2, 4, 6]\n",
      "Número máximo: 6\n",
      "Número mínimo: 2\n",
      "Suma total: 12\n",
      "¿El número máximo menos el número mínimo es igual a la suma total dividida por 5? False\n"
     ]
    }
   ],
   "source": [
    "# Solicitar al usuario que introduzca 3 números enteros separados por comas\n",
    "entrada = input(\"Introduce 3 números enteros separados por comas (por ejemplo: 1,2,3): \")\n",
    "\n",
    "# Convertir la entrada en una lista de números enteros\n",
    "numeros = [int(numero) for numero in entrada.split(\",\")]\n",
    "\n",
    "# Determinar el número máximo, el número mínimo y la suma total\n",
    "maximo = max(numeros)\n",
    "minimo = min(numeros)\n",
    "suma_total = sum(numeros)\n",
    "\n",
    "# Determinar la verdad o falsedad de la afirmación\n",
    "afirmacion = (maximo - minimo) == (suma_total / 5)\n",
    "\n",
    "# Mostrar los resultados\n",
    "print(\"Números introducidos:\", numeros)\n",
    "print(\"Número máximo:\", maximo)\n",
    "print(\"Número mínimo:\", minimo)\n",
    "print(\"Suma total:\", suma_total)\n",
    "print(\"¿El número máximo menos el número mínimo es igual a la suma total dividida por 5?\", afirmacion)"
   ]
  }
 ],
 "metadata": {
  "kernelspec": {
   "display_name": "Python 3 (ipykernel)",
   "language": "python",
   "name": "python3"
  },
  "language_info": {
   "codemirror_mode": {
    "name": "ipython",
    "version": 3
   },
   "file_extension": ".py",
   "mimetype": "text/x-python",
   "name": "python",
   "nbconvert_exporter": "python",
   "pygments_lexer": "ipython3",
   "version": "3.12.1"
  }
 },
 "nbformat": 4,
 "nbformat_minor": 5
}
