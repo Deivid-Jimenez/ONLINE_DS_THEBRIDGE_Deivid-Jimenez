{
 "cells": [
  {
   "cell_type": "markdown",
   "id": "0fcc4bd9-3e84-4cc8-a7c7-fa87074295b7",
   "metadata": {},
   "source": [
    "## Ejercicio 1"
   ]
  },
  {
   "cell_type": "code",
   "execution_count": 8,
   "id": "bea1d169-98c3-43b3-b586-48294e02a829",
   "metadata": {},
   "outputs": [
    {
     "name": "stdout",
     "output_type": "stream",
     "text": [
      "15 <class 'int'>\n",
      "18.369 <class 'float'>\n",
      "33.369 <class 'float'>\n"
     ]
    }
   ],
   "source": [
    "numero_entero = 15\n",
    "numero_float = 18.369\n",
    "print (numero_entero, type(numero_entero))\n",
    "print  (numero_float, type(numero_float))\n",
    "\n",
    "sum_numero = (numero_entero+numero_float)\n",
    "print(sum_numero, type(sum_numero))\n",
    "\n",
    "del (numero_entero)\n",
    "del (numero_float)"
   ]
  },
  {
   "cell_type": "markdown",
   "id": "e9d08065-531f-4823-9719-f34776434996",
   "metadata": {},
   "source": [
    "## Ejercicio 2"
   ]
  },
  {
   "cell_type": "code",
   "execution_count": 11,
   "id": "9f0535f6-fcaa-42a5-a56c-93ffabe7e6b6",
   "metadata": {},
   "outputs": [],
   "source": [
    "import math"
   ]
  },
  {
   "cell_type": "code",
   "execution_count": 17,
   "id": "b064685f-3e31-4122-9c1a-50bafdfaf802",
   "metadata": {},
   "outputs": [
    {
     "name": "stdout",
     "output_type": "stream",
     "text": [
      "Ingrese los grados radianes\n"
     ]
    },
    {
     "name": "stdin",
     "output_type": "stream",
     "text": [
      " 40\n"
     ]
    },
    {
     "name": "stdout",
     "output_type": "stream",
     "text": [
      "0.6981317007977318\n"
     ]
    }
   ],
   "source": [
    "print(\"Ingrese los grados radianes\")\n",
    "radianes= int(input())\n",
    "total_grados = radianes*((math.pi)/180)\n",
    "print(total_grados)"
   ]
  },
  {
   "cell_type": "markdown",
   "id": "3d0b5765-f4bc-4b71-b717-98e6b4024def",
   "metadata": {},
   "source": [
    "## Ejercicio 3"
   ]
  },
  {
   "cell_type": "code",
   "execution_count": 22,
   "id": "a196815f-ee9c-4527-be39-73a624a91dc5",
   "metadata": {},
   "outputs": [
    {
     "name": "stdout",
     "output_type": "stream",
     "text": [
      "Para calcular el area necesitamos que ingrese los siguientes datos en mts\n",
      "Base:\n"
     ]
    },
    {
     "name": "stdin",
     "output_type": "stream",
     "text": [
      " 600\n"
     ]
    },
    {
     "name": "stdout",
     "output_type": "stream",
     "text": [
      "Altura:\n"
     ]
    },
    {
     "name": "stdin",
     "output_type": "stream",
     "text": [
      " 400\n"
     ]
    },
    {
     "name": "stdout",
     "output_type": "stream",
     "text": [
      "el area del espacio es 240000 mts2\n"
     ]
    }
   ],
   "source": [
    "print(\"Para calcular el area necesitamos que ingrese los siguientes datos en mts\")\n",
    "\n",
    "print(\"Base:\")\n",
    "base = int(input ())\n",
    "print(\"Altura:\")\n",
    "altura = int(input ())\n",
    "area = base*altura\n",
    "print (\"el area del espacio es\", area, \"mts2\")\n"
   ]
  },
  {
   "cell_type": "markdown",
   "id": "dd07b31a-018e-471c-8005-426d1bf0b8ee",
   "metadata": {},
   "source": [
    "## Ejercicio 4"
   ]
  },
  {
   "cell_type": "code",
   "execution_count": 28,
   "id": "7d5736ce-9d3b-4404-b5e6-646ab07950d4",
   "metadata": {},
   "outputs": [
    {
     "name": "stdout",
     "output_type": "stream",
     "text": [
      "Para calcular el área necesitamos que ingrese los siguientes datos en metros:\n",
      "Base:\n"
     ]
    },
    {
     "name": "stdin",
     "output_type": "stream",
     "text": [
      " 30,8\n"
     ]
    },
    {
     "name": "stdout",
     "output_type": "stream",
     "text": [
      "Altura:\n"
     ]
    },
    {
     "name": "stdin",
     "output_type": "stream",
     "text": [
      " 50,6\n"
     ]
    },
    {
     "name": "stdout",
     "output_type": "stream",
     "text": [
      "El área del espacio es 1558.48 m²\n"
     ]
    }
   ],
   "source": [
    "print(\"Para calcular el área necesitamos que ingrese los siguientes datos en metros:\")\n",
    "\n",
    "print(\"Base:\")\n",
    "base = input().replace(\",\", \".\")  # Reemplaza coma por punto pero lo deja str\n",
    "base = float(base)  # Convierte a número flotante\n",
    "\n",
    "print(\"Altura:\")\n",
    "altura = input().replace(\",\", \".\")  # Reemplaza coma por punto pero lo deja str\n",
    "altura = float(altura)  # Convierte a número flotante\n",
    "\n",
    "area = base * altura  # Calcula el área\n",
    "\n",
    "print(\"El área del espacio es\", area, \"m²\")\n"
   ]
  },
  {
   "cell_type": "markdown",
   "id": "645390d4-f8e3-4ea1-89b2-b95fdee7d507",
   "metadata": {},
   "source": [
    "## Ejercicio 5"
   ]
  },
  {
   "cell_type": "code",
   "execution_count": 35,
   "id": "aedac48d-609e-4d18-af1d-275b9254be3f",
   "metadata": {},
   "outputs": [
    {
     "name": "stdin",
     "output_type": "stream",
     "text": [
      "¿Cuál es tu nombre?  Brais\n",
      "¿Cuál es tu edad?  28\n"
     ]
    },
    {
     "name": "stdout",
     "output_type": "stream",
     "text": [
      "Brais, naciste en el año 1997.\n"
     ]
    }
   ],
   "source": [
    "nombre = input(\"¿Cuál es tu nombre? \")\n",
    "edad = input(\"¿Cuál es tu edad? \")\n",
    "año_actual = 2025  # Puedes cambiarlo según el año en curso\n",
    "año_nacimiento = año_actual - int(edad)\n",
    "print(f\"{nombre}, naciste en el año {año_nacimiento}.\")"
   ]
  }
 ],
 "metadata": {
  "kernelspec": {
   "display_name": "Python 3 (ipykernel)",
   "language": "python",
   "name": "python3"
  },
  "language_info": {
   "codemirror_mode": {
    "name": "ipython",
    "version": 3
   },
   "file_extension": ".py",
   "mimetype": "text/x-python",
   "name": "python",
   "nbconvert_exporter": "python",
   "pygments_lexer": "ipython3",
   "version": "3.12.1"
  }
 },
 "nbformat": 4,
 "nbformat_minor": 5
}
