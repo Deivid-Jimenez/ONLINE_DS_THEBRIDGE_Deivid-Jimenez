{
 "cells": [
  {
   "cell_type": "markdown",
   "id": "0d09f982-6183-4516-8db9-67d00971dc2f",
   "metadata": {},
   "source": [
    "### EJERCICIO 1 ###"
   ]
  },
  {
   "cell_type": "code",
   "execution_count": null,
   "id": "7886b4c9-ae1f-437a-88a3-a084a960305f",
   "metadata": {},
   "outputs": [],
   "source": [
    "print ('¿Por qué esta magnífica tecnología científica,')\n",
    "print('que ahorra trabajo y nos hace la vida más fácil,'.rjust(55))\n",
    "print('nos aporta tan poca felicidad?'.rjust(45))\n",
    "print('La respuesta es esta, simplemente: porque aún no hemos aprendido a usarla con tino.'.rjust(105))\n",
    "\n",
    "print('\"Albert Einstein\"')"
   ]
  },
  {
   "cell_type": "markdown",
   "id": "c203e690-8709-4f55-ad0a-019eac3a3c96",
   "metadata": {},
   "source": [
    "### EJERCICIO 2 ###"
   ]
  },
  {
   "cell_type": "code",
   "execution_count": 67,
   "id": "c54498ca-9a29-4458-97c7-394deadd556f",
   "metadata": {
    "scrolled": true
   },
   "outputs": [
    {
     "name": "stdout",
     "output_type": "stream",
     "text": [
      "La dirección de mi casa es  Calle Valderribas 40, Madrid,28007\n"
     ]
    }
   ],
   "source": [
    "Calle = \"Calle Valderribas\"\n",
    "Número =  \"40\"\n",
    "Población = \"Madrid\"\n",
    "CP = \"28007\"\n",
    "Dirección_completa = f\"{Calle} {Número}, {Población},{CP}\"\n",
    "print (\"La dirección de mi casa es \",Dirección_completa)\n"
   ]
  },
  {
   "cell_type": "markdown",
   "id": "a9ccdc42-2026-4c4c-b8d2-a0f995999ad3",
   "metadata": {},
   "source": [
    "### EJERCICIO 3 ###"
   ]
  },
  {
   "cell_type": "code",
   "execution_count": 68,
   "id": "06d6237b-33b0-4258-ad16-4d8ac93392c6",
   "metadata": {},
   "outputs": [
    {
     "name": "stdout",
     "output_type": "stream",
     "text": [
      "La dirección de mi casa es  Calle Valderribas 40, Madrid,28007\n"
     ]
    }
   ],
   "source": [
    "Calle = \"Calle Valderribas\" #definimos la calle en la variable \"Calle\"#\n",
    "Número =  \"40\" #definimos el número en la variable \"Número\"#\n",
    "Población = \"Madrid\" #definimos la Pablación en la variable \"Población\"#\n",
    "CP = \"28007\" #definimos el codigo postal en la variable \"CP\"#\n",
    "Dirección_completa = f\"{Calle} {Número}, {Población},{CP}\" \n",
    "\"\"\"\n",
    "Básicamente una vez definidas las variables\n",
    "creamos una variable que se llame dirección_completa\n",
    "la cual se encarga de concatenar las variables\n",
    "añadimos una frase opcional e imprimimos por consola\n",
    "\"\"\"\n",
    "print (\"La dirección de mi casa es \",Dirección_completa)"
   ]
  },
  {
   "cell_type": "markdown",
   "id": "a60c77f6-9665-4f94-827b-17bb3a943cc8",
   "metadata": {},
   "source": [
    "### EJERCICIO 4 ###"
   ]
  },
  {
   "cell_type": "code",
   "execution_count": 70,
   "id": "47f7c16b-233a-46ca-a6b0-d93812025e1f",
   "metadata": {},
   "outputs": [],
   "source": [
    "## Todas las variables están mal escritas porque todas empiezan con un valor numérico\""
   ]
  },
  {
   "cell_type": "markdown",
   "id": "99d86141-4f45-4773-85ef-be5857845e11",
   "metadata": {},
   "source": [
    "### EJERCICIO 5 ###"
   ]
  },
  {
   "cell_type": "code",
   "execution_count": 78,
   "id": "b666a312-8436-4a5c-b9c2-7015cce8f4ac",
   "metadata": {},
   "outputs": [
    {
     "name": "stdout",
     "output_type": "stream",
     "text": [
      "10\n",
      "5\n",
      "66.66666666666666 %\n",
      "33.33333333333333 %\n"
     ]
    }
   ],
   "source": [
    "Victorias = 10\n",
    "Derrotas = 5\n",
    "Porcentaje_victorias = Victorias/ (Victorias+Derrotas) *100\n",
    "Porcentaje_derrotas = Derrotas/ (Victorias+Derrotas)*100\n",
    "\n",
    "print(Victorias)\n",
    "print (Derrotas)\n",
    "print (Porcentaje_victorias,\"%\")\n",
    "print (Porcentaje_derrotas, \"%\")"
   ]
  },
  {
   "cell_type": "code",
   "execution_count": null,
   "id": "c3adb172-325d-43b3-9919-3352f931657c",
   "metadata": {},
   "outputs": [],
   "source": []
  }
 ],
 "metadata": {
  "kernelspec": {
   "display_name": "Python 3 (ipykernel)",
   "language": "python",
   "name": "python3"
  },
  "language_info": {
   "codemirror_mode": {
    "name": "ipython",
    "version": 3
   },
   "file_extension": ".py",
   "mimetype": "text/x-python",
   "name": "python",
   "nbconvert_exporter": "python",
   "pygments_lexer": "ipython3",
   "version": "3.12.1"
  }
 },
 "nbformat": 4,
 "nbformat_minor": 5
}
