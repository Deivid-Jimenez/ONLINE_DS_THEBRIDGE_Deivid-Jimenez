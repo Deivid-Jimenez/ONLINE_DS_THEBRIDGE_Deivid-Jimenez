{
 "cells": [
  {
   "cell_type": "markdown",
   "id": "6e0c4f47-c8b5-47e7-83fe-c1c9b25f523b",
   "metadata": {},
   "source": [
    "## Ejercicio 1"
   ]
  },
  {
   "cell_type": "code",
   "execution_count": 8,
   "id": "e2ccaaf5-282c-4d98-b763-9ef8f349bcf5",
   "metadata": {},
   "outputs": [
    {
     "name": "stdout",
     "output_type": "stream",
     "text": [
      "8\n",
      "17\n",
      "63.451\n",
      "64\n"
     ]
    }
   ],
   "source": [
    "Mi_lista = [4, 6, 8, -1]\n",
    "print(max(Mi_lista))  # Esto debería imprimir 8\n",
    "\n",
    "suma_total = sum(Mi_lista)\n",
    "print(suma_total)\n",
    "\n",
    "mi_numero_real = 63.451256965\n",
    "print( round(mi_numero_real,3))\n",
    "\n",
    "mi_numero_real = -74\n",
    "print (abs(mi_numero_real))"
   ]
  },
  {
   "cell_type": "markdown",
   "id": "aa6e0f77-2aaf-4c3a-909e-094796db982c",
   "metadata": {},
   "source": [
    "## Ejercicio 2"
   ]
  },
  {
   "cell_type": "code",
   "execution_count": 18,
   "id": "20137213-d342-4b24-8a74-af2a7c1aded5",
   "metadata": {
    "scrolled": true
   },
   "outputs": [
    {
     "name": "stdout",
     "output_type": "stream",
     "text": [
      "EN UN LUGAR DE LA MANCHA, DE CUYO NOMBRE NO QUIERO ACORDARME.\n",
      "en un lugar de la mancha, de cuyo nombre no quiero acordarme.\n",
      "En Un Lugar De La Mancha, De Cuyo Nombre No Quiero Acordarme.\n",
      "['En', 'un', 'lugar', 'de', 'la', 'Mancha,', 'de', 'cuyo', 'nombre', 'no', 'quiero', 'acordarme.']\n",
      "En un lugar de la Mancha; de cuyo nombre no quiero acordarme.\n",
      "En un lugr de l Mnch, de cuyo nombre no quiero cordrme.\n"
     ]
    }
   ],
   "source": [
    "mi_frase = \"En un lugar de la Mancha, de cuyo nombre no quiero acordarme.\"\n",
    "print (mi_frase.upper())\n",
    "print (mi_frase.lower())\n",
    "print (mi_frase.title())\n",
    "print (mi_frase.split())\n",
    "print (mi_frase.replace(\",\",\";\"))\n",
    "print (mi_frase.replace(\"a\",\"\"))\n"
   ]
  },
  {
   "cell_type": "markdown",
   "id": "0571ba13-df64-460c-9c2b-0c44f88de1b4",
   "metadata": {},
   "source": [
    "## Ejercicio 3"
   ]
  },
  {
   "cell_type": "code",
   "execution_count": 22,
   "id": "e228e08f-a780-4524-87e9-d0a33277814d",
   "metadata": {},
   "outputs": [
    {
     "name": "stdout",
     "output_type": "stream",
     "text": [
      "1. Lista inicial: [10, 20, 30]\n",
      "2. Añadir cuarto elemento: [10, 20, 30, 40]\n",
      "3. Suma de todos los elementos: 100\n",
      "4. Eliminar el segundo elemento: [10, 30, 40]\n",
      "5. Añadir elemento en la posición 3: [10, 30, 25, 40]\n",
      "6. Concatenar nueva lista: [10, 30, 25, 40, 5, 15, 35, 45]\n",
      "7. Lista ordenada de menor a mayor: [5, 10, 15, 25, 30, 35, 40, 45]\n"
     ]
    }
   ],
   "source": [
    "#1. Crea una lista con 3 elementos numéricos\n",
    "lista = [10, 20, 30]\n",
    "print(\"1. Lista inicial:\", lista)\n",
    "\n",
    "# 2. Añade un cuarto elemento\n",
    "lista.append(40)\n",
    "print(\"2. Añadir cuarto elemento:\", lista)\n",
    "\n",
    "# 3. Calcula la suma de todos\n",
    "suma_total = sum(lista)\n",
    "print(\"3. Suma de todos los elementos:\", suma_total)\n",
    "\n",
    "# 4. Elimina el segundo elemento de la lista\n",
    "lista.pop(1)\n",
    "print(\"4. Eliminar el segundo elemento:\", lista)\n",
    "\n",
    "# 5. Añade otro elemento en la posición 3 de la lista\n",
    "lista.insert(2, 25)\n",
    "print(\"5. Añadir elemento en la posición 3:\", lista)\n",
    "\n",
    "# 6. Crea otra lista con 4 elementos y concaténala a la que ya tenías\n",
    "nueva_lista = [5, 15, 35, 45]\n",
    "lista.extend(nueva_lista)\n",
    "print(\"6. Concatenar nueva lista:\", lista)\n",
    "\n",
    "# 7. Ordena la lista de menor a mayor\n",
    "lista.sort()\n",
    "print(\"7. Lista ordenada de menor a mayor:\", lista)"
   ]
  }
 ],
 "metadata": {
  "kernelspec": {
   "display_name": "Python 3 (ipykernel)",
   "language": "python",
   "name": "python3"
  },
  "language_info": {
   "codemirror_mode": {
    "name": "ipython",
    "version": 3
   },
   "file_extension": ".py",
   "mimetype": "text/x-python",
   "name": "python",
   "nbconvert_exporter": "python",
   "pygments_lexer": "ipython3",
   "version": "3.12.1"
  }
 },
 "nbformat": 4,
 "nbformat_minor": 5
}
