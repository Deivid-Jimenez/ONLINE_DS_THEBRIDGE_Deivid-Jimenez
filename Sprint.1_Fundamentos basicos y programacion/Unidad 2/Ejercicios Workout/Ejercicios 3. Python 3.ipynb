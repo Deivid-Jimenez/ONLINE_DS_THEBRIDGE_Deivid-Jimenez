{
 "cells": [
  {
   "cell_type": "markdown",
   "id": "64696876-e2be-450c-a887-9b9f51d94da3",
   "metadata": {},
   "source": [
    "## Ejercicio 1"
   ]
  },
  {
   "cell_type": "code",
   "execution_count": 5,
   "id": "ddcac4cb-26e9-482a-ad22-4ea4243da753",
   "metadata": {},
   "outputs": [
    {
     "name": "stdout",
     "output_type": "stream",
     "text": [
      "False True False False True\n"
     ]
    }
   ],
   "source": [
    "A = 4\n",
    "B = \"Text\"\n",
    "C = 4.1\n",
    "\n",
    "Cond_1 = A == B\n",
    "Cond_2 = A != C\n",
    "Cond_3 = A > C\n",
    "Cond_4 = C <= A\n",
    "Cond_5 = B != A\n",
    "\n",
    "print(Cond_1, Cond_2, Cond_3, Cond_4, Cond_5)"
   ]
  },
  {
   "cell_type": "markdown",
   "id": "79510e88-f213-4fda-99e7-b61107f54ae9",
   "metadata": {},
   "source": [
    "## Ejercicio 2"
   ]
  },
  {
   "cell_type": "code",
   "execution_count": 12,
   "id": "856b2d8f-3ad6-409e-8773-f780b6a1b795",
   "metadata": {},
   "outputs": [
    {
     "name": "stdin",
     "output_type": "stream",
     "text": [
      "Ingrese el dato 1 40\n",
      "Ingrese el dato 2 40\n"
     ]
    },
    {
     "name": "stdout",
     "output_type": "stream",
     "text": [
      "Los datos son iguales\n"
     ]
    }
   ],
   "source": [
    "Dato_1 =  input(\"Ingrese el dato 1\")\n",
    "Dato_2 = input( \"Ingrese el dato 2\")\n",
    "Cond = \"Los datos son iguales\" if Dato_1 == Dato_2 else \"Los datos son diferentes\"\n",
    "print (Cond)\n"
   ]
  },
  {
   "cell_type": "markdown",
   "id": "0cd17d1b-e71e-4881-a17e-c5e5ad6eea4a",
   "metadata": {},
   "source": [
    "## Ejercicio 3"
   ]
  },
  {
   "cell_type": "code",
   "execution_count": 19,
   "id": "5261aeb6-713c-40e8-a6ab-fe447d6f40d7",
   "metadata": {},
   "outputs": [
    {
     "name": "stdin",
     "output_type": "stream",
     "text": [
      "Ingrese el dato 1:  4\n",
      "Ingrese el dato 2:  4\n",
      "Ingrese el dato 3:  5\n"
     ]
    },
    {
     "name": "stdout",
     "output_type": "stream",
     "text": [
      "No todos los datos son iguales\n",
      "Al menos 2 datos son iguales\n"
     ]
    }
   ],
   "source": [
    "Dato_1 = input(\"Ingrese el dato 1: \")\n",
    "Dato_2 = input(\"Ingrese el dato 2: \")\n",
    "Dato_3 = input(\"Ingrese el dato 3: \")\n",
    "\n",
    "# Primera salida: Verificar si todos los datos son iguales\n",
    "if Dato_1 == Dato_2 == Dato_3:\n",
    "    print(\"Todos los datos son iguales\")\n",
    "else:\n",
    "    print(\"No todos los datos son iguales\")\n",
    "\n",
    "# Segunda salida: Verificar si al menos dos datos son iguales\n",
    "if Dato_1 == Dato_2 or Dato_1 == Dato_3 or Dato_2 == Dato_3:\n",
    "    print(\"Al menos 2 datos son iguales\")\n",
    "else:\n",
    "    print(\"Todos los 3 datos son diferentes\")"
   ]
  }
 ],
 "metadata": {
  "kernelspec": {
   "display_name": "Python 3 (ipykernel)",
   "language": "python",
   "name": "python3"
  },
  "language_info": {
   "codemirror_mode": {
    "name": "ipython",
    "version": 3
   },
   "file_extension": ".py",
   "mimetype": "text/x-python",
   "name": "python",
   "nbconvert_exporter": "python",
   "pygments_lexer": "ipython3",
   "version": "3.12.1"
  }
 },
 "nbformat": 4,
 "nbformat_minor": 5
}
