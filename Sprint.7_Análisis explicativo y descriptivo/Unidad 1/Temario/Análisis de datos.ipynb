{
 "cells": [
  {
   "cell_type": "markdown",
   "id": "8caa572a-a9b6-4791-ab5b-aa56290627fa",
   "metadata": {},
   "source": [
    "# Analisis de Datos: Primeros Pasos\n",
    "\n",
    "## Aclaración previa: Estadística descriptiva e Inferencial, población y muestra.\n",
    "\n",
    "En este módulo de Análisis de Datos al que pertenece el Sprint y la píldora, vamos a trabajar con lo que se denomina Estadística Descriptiva. Eso nos permitirá construir nuestros EDA para explorar y resumir conjuntos de datos, identificar patrones, tendencias y anomalías, y formular hipótesis iniciales.\n",
    "\n",
    "Pero ojo, aquí no se acaba el camino, esta parte de Análisis nos debe ayudar a tener una visión general y una comprensión de la naturaleza de los datos, que es fundamental antes de realizar cualquier inferencia estadística o aplicar modelos predictivos y ya estar en completa disposición de tomar casi cualquier decisión de forma informada."
   ]
  },
  {
   "cell_type": "markdown",
   "id": "ff973e78-8d8b-43ee-a65b-332c028b25b3",
   "metadata": {},
   "source": [
    "Y para terminar esta larga aclaración, digamos burdamente que en la estadística descriptiva trabajamos sobre nuestros datos como si fueran los únicos que hubiera del tema que estamos tratando (como si fueran lo que se dice la población completa) y con la estadística inferencial partimos del contexto de que queremos sacar conclusiones que se puedan generalizar fuera de esos datos concretos (pensamos que trabajamos con una muestra del total de datos posibles). Por ejemplo:\n",
    "\n",
    "- Si nuestro datasets es de las ventas de yogures en los supermercados de Madrid de nuestra marca. Al hacer el EDA y trabajar con estadística descriptiva vamos a contar la historia de ese contexto en concreto sin pensar en que exista otro. Para este caso los supermercados de Madrid de nuestra marca son todos los supermercados del mundo (toda la población)."
   ]
  },
  {
   "cell_type": "markdown",
   "id": "d07dca55-1358-4e43-86ae-c44241ab5164",
   "metadata": {},
   "source": [
    "- Si a partir de los datos anteriores y su EDA quiero obtener (o inferir) datos que me digan cómo podrían ser las ventas en los supermercados de la competencia, en mis supermercados cuando los abra en otra ciudad, etc, etc. Entonces estoy generalizando (entonces mis datos anteriores son una muestra) y usaremos estadística inferencial y modelos de aprendizaje automático."
   ]
  },
  {
   "cell_type": "markdown",
   "id": "84fe44eb-df61-435c-84e0-7f4251d90f6a",
   "metadata": {},
   "source": [
    "## Tengo los datos preparadísimos y ahora ¿qué?\n",
    "\n",
    "Ahora puedes estar en una de estas dos situaciones:\n",
    "\n",
    "1. Tienes claro que quieres sacar de los datos (o te lo han dejado claro las jefas): preguntas a respuestas del tipo ¿qué tipo de cliente compra más en mis tiendas del norte del país frente al resto? ¿Es mejor comprar o alquilar, en qué ciudades?, o confirmaciones/negaciones de hipótesis de trabajos de criptomonedas se emplean principalmente para el lavado de dinero.\n",
    "\n",
    "2. Tienes una idea muy vaga o ninguna sobre lo qué quieres obtener, sólo sabes que te gusta el dataset o es el que te han proporcionado en el curro."
   ]
  },
  {
   "cell_type": "markdown",
   "id": "c4905065-cb77-4110-a34d-1d6c8618c8bc",
   "metadata": {},
   "source": [
    "### Los datasets guía"
   ]
  },
  {
   "cell_type": "code",
   "execution_count": null,
   "id": "04fcc4d7-184b-4fdc-b6e5-e8cac13c4516",
   "metadata": {},
   "outputs": [],
   "source": [
    "# Como simepre importamos lo siguiente:"
   ]
  },
  {
   "cell_type": "code",
   "execution_count": 2,
   "id": "1673d8e7-fbda-4a65-8e5d-120ca028bf09",
   "metadata": {},
   "outputs": [],
   "source": [
    "import pandas as pd"
   ]
  },
  {
   "cell_type": "markdown",
   "id": "5301a049-f47e-4560-b833-10ab61542268",
   "metadata": {},
   "source": [
    "Para poder trabajar la unidad vamos a ponernos con dos situaciones diferentes"
   ]
  },
  {
   "cell_type": "markdown",
   "id": "3476317e-5ce1-491a-8df7-e57468ec07bd",
   "metadata": {},
   "source": [
    "### Caso 1\n",
    "En este caso, que llamaremos EDA-TD, vamos a partir de un dataset de una compañía de seguros que tiene muy claro lo que quiere que hagas: Quiere que analices el Lifetime Customer Value (el valor acumulado de un cliente a lo largo de su relación con una empresa, por ejemplo: todo el dinero que le has dado a tu compañía de teléfonos), resumidamente CLV, y la respuesta a las ofertas de marketing. En concreto quiere saber:\n",
    "\n",
    "1. ¿Cómo se distribuye demográficamente el CLV? (es decir por género, región, nivel de educación, etc)\n",
    "2. ¿Cómo responden los clientes a las ofertas de renovación?\n",
    "3. ¿Cómo se distribuye esa oferta de renovación? (¿Responden mejor los hombres? ¿Los dueños de coches de lujo? ¿Qué canal tiene mejor respuesta)\n",
    "4. ¿Qué relación hay entre las reclamaciones y CLV y entre aquellas y la respuesta a marketing?\n",
    "\n",
    "Para ello cargamos en df_seguros los datos de esta empresa:"
   ]
  }
 ],
 "metadata": {
  "kernelspec": {
   "display_name": "Python 3 (ipykernel)",
   "language": "python",
   "name": "python3"
  },
  "language_info": {
   "codemirror_mode": {
    "name": "ipython",
    "version": 3
   },
   "file_extension": ".py",
   "mimetype": "text/x-python",
   "name": "python",
   "nbconvert_exporter": "python",
   "pygments_lexer": "ipython3",
   "version": "3.12.1"
  }
 },
 "nbformat": 4,
 "nbformat_minor": 5
}
