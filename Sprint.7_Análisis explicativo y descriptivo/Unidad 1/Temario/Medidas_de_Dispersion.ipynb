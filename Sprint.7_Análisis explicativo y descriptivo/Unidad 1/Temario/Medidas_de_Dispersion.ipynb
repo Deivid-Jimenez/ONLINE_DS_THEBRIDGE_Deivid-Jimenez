{
 "cells": [
  {
   "cell_type": "markdown",
   "metadata": {},
   "source": [
    "## Análisis de Datos: Dispersión de variables numéricas"
   ]
  },
  {
   "cell_type": "markdown",
   "metadata": {},
   "source": [
    "Para saber si los datos están muy dispersos o se concentran en torno a un valor (caso en el que una de las medidas centrales como la media o la mediana los representarán muy bien), hemos visto ya los percentiles y el rango para hacernos una idea, pero en general lo que se emplea en el caso de los valores numéricos son dos medidas, relacionadas entre sí, y luego métodos visuales basados en dos tipos de gráficas: los histográmas y las graficas de función de densidad de probabilidad [Aunque a esta parte le dedicaremos la siguiente píldora]\n",
    "\n",
    "Vamos a verlos y a aplicarlos a nuestros dos casos de uso de ejemplo. Para ello, ya sabes, ejecuta las siguientes celdas:"
   ]
  },
  {
   "cell_type": "code",
   "execution_count": 1,
   "metadata": {},
   "outputs": [],
   "source": [
    "import numpy as np\n",
    "import matplotlib.pyplot as plt\n",
    "import pandas as pd\n",
    "import seaborn as sns\n",
    "\n",
    "df_seguros = pd.read_csv(\"C:/Users/david/Downloads/Marketing-Customer-Analysis.csv\")\n",
    "df_air_jun = pd.read_csv(\"C:/Users/david/Downloads/dataset_viajes_jun23.csv\")\n",
    "df_air_jul = pd.read_csv(\"C:/Users/david/Downloads/dataset_viajes_jul23.csv\")"
   ]
  },
  {
   "cell_type": "markdown",
   "metadata": {},
   "source": [
    "### Medidas de dispersión o variabilidad: Varianza"
   ]
  },
  {
   "cell_type": "markdown",
   "metadata": {},
   "source": [
    "\n",
    "La [varianza](https://es.wikipedia.org/wiki/Varianza) es la media aritmética del cuadrado de las desviaciones respecto a la media de un conjunto de datos (por ejemplo los valores de una de nuestras variables o columnas y, en general, una distribución estadística). La varianza intenta describir la dispersión de los *[datos](https://es.wikipedia.org/wiki/Dato). Básicamente representa lo que varían los datos*. **Como está elevada al cuadrado, la varianza no puede tener las mismas unidades que los datos**. \n",
    "\n",
    "Una varianza elevada significa que los datos están más dispersos. Mientras que un valor bajo, indica que los datos están próximos a la media. Se representa como $\\sigma^2$. \n",
    "$$\\sigma^2 = \\frac{\\sum\\limits_{i=1}^n(x_i - \\mu)^2}{n} $$\n"
   ]
  },
  {
   "cell_type": "markdown",
   "metadata": {},
   "source": [
    "\n",
    "\n",
    "INCISO: Y por qué está elevado al cuadrado te preguntarás: Porque no quiero que las diferencias positivas y negativas se compensen. Piensa en esta serie de datos:\n",
    "  \n",
    "[-104,100,102,0,-100,120,-119]\n",
    "\n",
    "La media es: \n",
    "\n",
    "$$\\mu = \\frac{1}{n} \\sum_{i}x_i = \\frac{(-104 + 100 + 102 + 0 -100 + 120 - 119)}{7} = \\frac{-1}{7} \\approx -0.14$$"
   ]
  },
  {
   "cell_type": "markdown",
   "metadata": {},
   "source": [
    "Si no elevaramos al cuadrado y aplicaramos:\n",
    "\n",
    "\n",
    "$$\\sigma^2 = \\frac{\\sum\\limits_{i=1}^n(x_i - \\mu)}{n} $$\n",
    "\n",
    "\n",
    "El denominador sería:\n",
    "\n",
    "$$\\sum\\limits_{i=1}^n(x_i - \\mu) = (-104 - 0.14) + (100 - 0.14) + (102 - 0.14) + (0 - 0.14) + (-100 - 0.14) + (120 - 0.14) + (-119 - 0.14) = -1.98$$\n"
   ]
  },
  {
   "cell_type": "markdown",
   "metadata": {},
   "source": [
    "Y al dividirlo se nos quedariá en un grado de dispersión de 0.28 que no es real (fíjate que el rango como tal es 239), para que no se compensen las diferencias se elevan al cuadrado.\n"
   ]
  },
  {
   "cell_type": "markdown",
   "metadata": {},
   "source": [
    "Y la varianza según la definición de ese conjunto de datos es:\n",
    "\n",
    "$$\\sigma^2 \\approx 9968.69$$\n",
    "\n"
   ]
  },
  {
   "cell_type": "markdown",
   "metadata": {},
   "source": [
    "En vez de aplicarla a los datos veamos la versión comparable (es decir medida en las mismas unidades que los datos que estamos analziando) que es la desviación estándar"
   ]
  },
  {
   "cell_type": "markdown",
   "metadata": {},
   "source": [
    "### Medidas de dispersión o variabilidad: Desviación estándar\n",
    "\n",
    "La [desviación típica](https://es.wikipedia.org/wiki/Desviaci%C3%B3n_t%C3%ADpica) es la raíz cuadrada de la varianza. Se representa con la letra griega $\\sigma$.\n",
    "$$\\sigma = \\sqrt{\\frac{\\sum\\limits_{i=1}^n(x_i - \\mu)^2}{n}} $$\n",
    "\n",
    "Una ventaja que presenta la desviación estándar sobre la varianza es que se expresa en unidades de la variable en cuestión."
   ]
  },
  {
   "cell_type": "markdown",
   "metadata": {},
   "source": [
    "¿Y para qué nos sirven estas medidas?\n",
    "* Nos dan una idea rápida de si los datos están dispersos (gte. compararemos la desviación con la media) y por tanto de si la media y mediana son buenos representantes de los valores o bien tenemos que trabajar la variable de otra forma, considerando rangos por ejemplo.\n",
    "* Nos sirven para hacer cálculos posteriores y de otras medidas (que nos permitirán interpretar los datos de otras formas)"
   ]
  },
  {
   "cell_type": "markdown",
   "metadata": {},
   "source": [
    "Podemos aplicar directamente el concepto de \"Coeficiente de Variación\" (CV) que es la división de la desviación estándar entre la media. Como pautas generales:\n",
    "\n",
    "- Un CV menor al 15% suele considerarse como una baja variabilidad.\n",
    "- Un CV entre 15% y 30% indica una variabilidad moderada.\n",
    "- Un CV mayor al 30% a menudo se considera como una alta variabilidad.\n",
    "\n",
    "Estos valores son orientativos y deben interpretarse en el contexto específico de tus datos y el área de estudio."
   ]
  },
  {
   "cell_type": "markdown",
   "metadata": {},
   "source": [
    "#### Caso 1. Seguros: Dispersión\n",
    "\n",
    "En general fijate en la desviación y de nuevo la podemos obtener del método describe():\n"
   ]
  },
  {
   "cell_type": "code",
   "execution_count": 3,
   "metadata": {},
   "outputs": [
    {
     "data": {
      "text/html": [
       "<div>\n",
       "<style scoped>\n",
       "    .dataframe tbody tr th:only-of-type {\n",
       "        vertical-align: middle;\n",
       "    }\n",
       "\n",
       "    .dataframe tbody tr th {\n",
       "        vertical-align: top;\n",
       "    }\n",
       "\n",
       "    .dataframe thead th {\n",
       "        text-align: right;\n",
       "    }\n",
       "</style>\n",
       "<table border=\"1\" class=\"dataframe\">\n",
       "  <thead>\n",
       "    <tr style=\"text-align: right;\">\n",
       "      <th></th>\n",
       "      <th>std</th>\n",
       "      <th>mean</th>\n",
       "    </tr>\n",
       "  </thead>\n",
       "  <tbody>\n",
       "    <tr>\n",
       "      <th>customer_lifetime_value</th>\n",
       "      <td>6870.967608</td>\n",
       "      <td>8004.940475</td>\n",
       "    </tr>\n",
       "    <tr>\n",
       "      <th>income</th>\n",
       "      <td>30379.904734</td>\n",
       "      <td>37657.380009</td>\n",
       "    </tr>\n",
       "    <tr>\n",
       "      <th>monthly_premium_auto</th>\n",
       "      <td>34.407967</td>\n",
       "      <td>93.219291</td>\n",
       "    </tr>\n",
       "    <tr>\n",
       "      <th>months_since_last_claim</th>\n",
       "      <td>10.073257</td>\n",
       "      <td>15.097000</td>\n",
       "    </tr>\n",
       "    <tr>\n",
       "      <th>months_since_policy_inception</th>\n",
       "      <td>27.905991</td>\n",
       "      <td>48.064594</td>\n",
       "    </tr>\n",
       "    <tr>\n",
       "      <th>number_of_open_complaints</th>\n",
       "      <td>0.910384</td>\n",
       "      <td>0.384388</td>\n",
       "    </tr>\n",
       "    <tr>\n",
       "      <th>number_of_policies</th>\n",
       "      <td>2.390182</td>\n",
       "      <td>2.966170</td>\n",
       "    </tr>\n",
       "    <tr>\n",
       "      <th>total_claim_amount</th>\n",
       "      <td>290.500092</td>\n",
       "      <td>434.088794</td>\n",
       "    </tr>\n",
       "  </tbody>\n",
       "</table>\n",
       "</div>"
      ],
      "text/plain": [
       "                                        std          mean\n",
       "customer_lifetime_value         6870.967608   8004.940475\n",
       "income                         30379.904734  37657.380009\n",
       "monthly_premium_auto              34.407967     93.219291\n",
       "months_since_last_claim           10.073257     15.097000\n",
       "months_since_policy_inception     27.905991     48.064594\n",
       "number_of_open_complaints          0.910384      0.384388\n",
       "number_of_policies                 2.390182      2.966170\n",
       "total_claim_amount               290.500092    434.088794"
      ]
     },
     "execution_count": 3,
     "metadata": {},
     "output_type": "execute_result"
    }
   ],
   "source": [
    "df_seguros.describe().loc[[\"std\",\"mean\"]].T"
   ]
  },
  {
   "cell_type": "markdown",
   "metadata": {},
   "source": [
    "Si obtenemos el coeficiente de variación:"
   ]
  },
  {
   "cell_type": "code",
   "execution_count": 4,
   "metadata": {},
   "outputs": [],
   "source": [
    "def variabilidad(df):\n",
    "    df_var = df.describe().loc[[\"std\",\"mean\"]].T\n",
    "    df_var[\"CV\"] = df_var[\"std\"]/df_var[\"mean\"]\n",
    "    return df_var"
   ]
  },
  {
   "cell_type": "code",
   "execution_count": 5,
   "metadata": {},
   "outputs": [
    {
     "data": {
      "text/html": [
       "<div>\n",
       "<style scoped>\n",
       "    .dataframe tbody tr th:only-of-type {\n",
       "        vertical-align: middle;\n",
       "    }\n",
       "\n",
       "    .dataframe tbody tr th {\n",
       "        vertical-align: top;\n",
       "    }\n",
       "\n",
       "    .dataframe thead th {\n",
       "        text-align: right;\n",
       "    }\n",
       "</style>\n",
       "<table border=\"1\" class=\"dataframe\">\n",
       "  <thead>\n",
       "    <tr style=\"text-align: right;\">\n",
       "      <th></th>\n",
       "      <th>std</th>\n",
       "      <th>mean</th>\n",
       "      <th>CV</th>\n",
       "    </tr>\n",
       "  </thead>\n",
       "  <tbody>\n",
       "    <tr>\n",
       "      <th>customer_lifetime_value</th>\n",
       "      <td>6870.967608</td>\n",
       "      <td>8004.940475</td>\n",
       "      <td>0.858341</td>\n",
       "    </tr>\n",
       "    <tr>\n",
       "      <th>income</th>\n",
       "      <td>30379.904734</td>\n",
       "      <td>37657.380009</td>\n",
       "      <td>0.806745</td>\n",
       "    </tr>\n",
       "    <tr>\n",
       "      <th>monthly_premium_auto</th>\n",
       "      <td>34.407967</td>\n",
       "      <td>93.219291</td>\n",
       "      <td>0.369108</td>\n",
       "    </tr>\n",
       "    <tr>\n",
       "      <th>months_since_last_claim</th>\n",
       "      <td>10.073257</td>\n",
       "      <td>15.097000</td>\n",
       "      <td>0.667236</td>\n",
       "    </tr>\n",
       "    <tr>\n",
       "      <th>months_since_policy_inception</th>\n",
       "      <td>27.905991</td>\n",
       "      <td>48.064594</td>\n",
       "      <td>0.580594</td>\n",
       "    </tr>\n",
       "    <tr>\n",
       "      <th>number_of_open_complaints</th>\n",
       "      <td>0.910384</td>\n",
       "      <td>0.384388</td>\n",
       "      <td>2.368397</td>\n",
       "    </tr>\n",
       "    <tr>\n",
       "      <th>number_of_policies</th>\n",
       "      <td>2.390182</td>\n",
       "      <td>2.966170</td>\n",
       "      <td>0.805814</td>\n",
       "    </tr>\n",
       "    <tr>\n",
       "      <th>total_claim_amount</th>\n",
       "      <td>290.500092</td>\n",
       "      <td>434.088794</td>\n",
       "      <td>0.669218</td>\n",
       "    </tr>\n",
       "  </tbody>\n",
       "</table>\n",
       "</div>"
      ],
      "text/plain": [
       "                                        std          mean        CV\n",
       "customer_lifetime_value         6870.967608   8004.940475  0.858341\n",
       "income                         30379.904734  37657.380009  0.806745\n",
       "monthly_premium_auto              34.407967     93.219291  0.369108\n",
       "months_since_last_claim           10.073257     15.097000  0.667236\n",
       "months_since_policy_inception     27.905991     48.064594  0.580594\n",
       "number_of_open_complaints          0.910384      0.384388  2.368397\n",
       "number_of_policies                 2.390182      2.966170  0.805814\n",
       "total_claim_amount               290.500092    434.088794  0.669218"
      ]
     },
     "execution_count": 5,
     "metadata": {},
     "output_type": "execute_result"
    }
   ],
   "source": [
    "variabilidad(df_seguros)"
   ]
  },
  {
   "cell_type": "markdown",
   "metadata": {},
   "source": [
    "Conclusión (no para mostrar sino para seguir avazando en el EDA): \n",
    "* Salvo quizá monthly_premium_alto para el resto de variables debo analizar con cuidado esa distribución de valores.\n",
    "* En el caso de CLV que es una de nuestras directoras, y en el de income que es importante, tendré que dar más cariño"
   ]
  },
  {
   "cell_type": "markdown",
   "metadata": {},
   "source": [
    "#### Caso 2. Viajes: Dispersión"
   ]
  },
  {
   "cell_type": "markdown",
   "metadata": {},
   "source": [
    "Aplicando ya directamente la función:"
   ]
  },
  {
   "cell_type": "code",
   "execution_count": 8,
   "metadata": {},
   "outputs": [
    {
     "data": {
      "text/html": [
       "<div>\n",
       "<style scoped>\n",
       "    .dataframe tbody tr th:only-of-type {\n",
       "        vertical-align: middle;\n",
       "    }\n",
       "\n",
       "    .dataframe tbody tr th {\n",
       "        vertical-align: top;\n",
       "    }\n",
       "\n",
       "    .dataframe thead th {\n",
       "        text-align: right;\n",
       "    }\n",
       "</style>\n",
       "<table border=\"1\" class=\"dataframe\">\n",
       "  <thead>\n",
       "    <tr style=\"text-align: right;\">\n",
       "      <th></th>\n",
       "      <th>std</th>\n",
       "      <th>mean</th>\n",
       "      <th>CV</th>\n",
       "    </tr>\n",
       "  </thead>\n",
       "  <tbody>\n",
       "    <tr>\n",
       "      <th>distancia</th>\n",
       "      <td>5550.244086</td>\n",
       "      <td>8071.003333</td>\n",
       "      <td>0.687677</td>\n",
       "    </tr>\n",
       "    <tr>\n",
       "      <th>consumo_kg</th>\n",
       "      <td>67441.849592</td>\n",
       "      <td>68240.520508</td>\n",
       "      <td>0.988296</td>\n",
       "    </tr>\n",
       "    <tr>\n",
       "      <th>duracion</th>\n",
       "      <td>450.474786</td>\n",
       "      <td>635.873333</td>\n",
       "      <td>0.708435</td>\n",
       "    </tr>\n",
       "    <tr>\n",
       "      <th>ingresos</th>\n",
       "      <td>318285.763970</td>\n",
       "      <td>418768.851500</td>\n",
       "      <td>0.760051</td>\n",
       "    </tr>\n",
       "  </tbody>\n",
       "</table>\n",
       "</div>"
      ],
      "text/plain": [
       "                      std           mean        CV\n",
       "distancia     5550.244086    8071.003333  0.687677\n",
       "consumo_kg   67441.849592   68240.520508  0.988296\n",
       "duracion       450.474786     635.873333  0.708435\n",
       "ingresos    318285.763970  418768.851500  0.760051"
      ]
     },
     "execution_count": 8,
     "metadata": {},
     "output_type": "execute_result"
    }
   ],
   "source": [
    "variabilidad(df_air_jun)"
   ]
  },
  {
   "cell_type": "markdown",
   "metadata": {},
   "source": [
    "Nos ocurre algo parecido, en este caso probablemente sería más interesante hacerlo por compañía todo, pero eso lo veremos en la siguiente unidad. En cualquier caso tanto consumo (CV > 90%) como ingresos, nuestras variables directoras (o por lo menos las que nosotros hemos decidido que lo sean por ahora) necesitan que miremos sus distribuciones."
   ]
  },
  {
   "cell_type": "markdown",
   "metadata": {},
   "source": [
    "En ambos casos tenemos que ver qué \"pinta\" tienen los datos, nos nos vale con estas pistas de las métricas y ahí es donde entran nuestras dos siguientes herramientas: Los histogramas y las funciones de densidad.\n"
   ]
  }
 ],
 "metadata": {
  "kernelspec": {
   "display_name": "Python 3 (ipykernel)",
   "language": "python",
   "name": "python3"
  },
  "language_info": {
   "codemirror_mode": {
    "name": "ipython",
    "version": 3
   },
   "file_extension": ".py",
   "mimetype": "text/x-python",
   "name": "python",
   "nbconvert_exporter": "python",
   "pygments_lexer": "ipython3",
   "version": "3.12.1"
  },
  "vscode": {
   "interpreter": {
    "hash": "ec2a379ed5c25334a484232182c9d38ef8bd9861e2542d0c517568c4f99a9a7c"
   }
  }
 },
 "nbformat": 4,
 "nbformat_minor": 4
}
