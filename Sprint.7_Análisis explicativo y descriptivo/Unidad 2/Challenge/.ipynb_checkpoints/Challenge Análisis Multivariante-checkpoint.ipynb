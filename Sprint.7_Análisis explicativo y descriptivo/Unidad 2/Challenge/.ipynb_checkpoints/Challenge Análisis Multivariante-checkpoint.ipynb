{
 "cells": [
  {
   "cell_type": "markdown",
   "id": "e031a169-9913-4656-9098-07841832bd91",
   "metadata": {},
   "source": [
    "## PRACTICA OBLIGATORIA: ANÁLISIS MULTIVARIANTE"
   ]
  },
  {
   "cell_type": "markdown",
   "id": "0384b69e-c9f8-4668-b89e-02e3921daa76",
   "metadata": {},
   "source": [
    "La práctica obligatoria de esta unidad consiste en completar el análisis del dataset del Titanic, dirigido por una serie de preguntas, y de terminar de analizar algunos aspectos del dataset de viajes. Descarga este notebook en tu ordenador y trabaja en local. Ten en cuenta que tendrás que descar los directorios de imágenes y datos adicionales, si los hubiera.\n",
    "* Recuerda que debes subirla a tu repositorio personal antes de la sesión en vivo para que puntúe adecuadamente.\n",
    "* Recuerda también que no es necesario que esté perfecta, sólo es necesario que se vea el esfuerzo.\n",
    "* Esta práctica se resolverá en la sesión en vivo correspondiente y la solución se publicará en el repo del curso."
   ]
  },
  {
   "cell_type": "markdown",
   "id": "d5aa03d5-e9ee-42d8-a72d-f3aea104b7d7",
   "metadata": {},
   "source": [
    "## Ejercicio 0\n",
    "Importa los paquetes y módulos que necesites a lo largo del notebook"
   ]
  },
  {
   "cell_type": "code",
   "execution_count": 3,
   "id": "4045a4a1-a37d-4a6c-93fc-8a81d41e5421",
   "metadata": {},
   "outputs": [],
   "source": [
    "import numpy as np\n",
    "import matplotlib.pyplot as plt\n",
    "import pandas as pd\n",
    "import seaborn as sns\n",
    "\n",
    "df_titanic = pd.read_csv(\"C:/Users/david/Downloads/titanic.csv\")"
   ]
  },
  {
   "cell_type": "markdown",
   "id": "e299e7ac-394c-4b35-83f7-c0d844b0da72",
   "metadata": {},
   "source": [
    "## 1.1\n",
    "Carga en un dataframe el dataset del titanic, que está en la ruta \"./data/titanic.csv\"."
   ]
  },
  {
   "cell_type": "code",
   "execution_count": 4,
   "id": "b6f8ed23-0dd6-4eab-98af-d9369f523294",
   "metadata": {},
   "outputs": [],
   "source": [
    "df_titanic= pd.DataFrame(df_titanic)"
   ]
  },
  {
   "cell_type": "code",
   "execution_count": 5,
   "id": "322189cb-9b72-4a84-877b-f4cf25566436",
   "metadata": {},
   "outputs": [
    {
     "data": {
      "text/html": [
       "<div>\n",
       "<style scoped>\n",
       "    .dataframe tbody tr th:only-of-type {\n",
       "        vertical-align: middle;\n",
       "    }\n",
       "\n",
       "    .dataframe tbody tr th {\n",
       "        vertical-align: top;\n",
       "    }\n",
       "\n",
       "    .dataframe thead th {\n",
       "        text-align: right;\n",
       "    }\n",
       "</style>\n",
       "<table border=\"1\" class=\"dataframe\">\n",
       "  <thead>\n",
       "    <tr style=\"text-align: right;\">\n",
       "      <th></th>\n",
       "      <th>survived</th>\n",
       "      <th>pclass</th>\n",
       "      <th>sex</th>\n",
       "      <th>age</th>\n",
       "      <th>sibsp</th>\n",
       "      <th>parch</th>\n",
       "      <th>fare</th>\n",
       "      <th>embarked</th>\n",
       "      <th>class</th>\n",
       "      <th>who</th>\n",
       "      <th>adult_male</th>\n",
       "      <th>deck</th>\n",
       "      <th>embark_town</th>\n",
       "      <th>alive</th>\n",
       "      <th>alone</th>\n",
       "    </tr>\n",
       "  </thead>\n",
       "  <tbody>\n",
       "    <tr>\n",
       "      <th>0</th>\n",
       "      <td>0</td>\n",
       "      <td>3</td>\n",
       "      <td>male</td>\n",
       "      <td>22.0</td>\n",
       "      <td>1</td>\n",
       "      <td>0</td>\n",
       "      <td>7.2500</td>\n",
       "      <td>S</td>\n",
       "      <td>Third</td>\n",
       "      <td>man</td>\n",
       "      <td>True</td>\n",
       "      <td>NaN</td>\n",
       "      <td>Southampton</td>\n",
       "      <td>no</td>\n",
       "      <td>False</td>\n",
       "    </tr>\n",
       "    <tr>\n",
       "      <th>1</th>\n",
       "      <td>1</td>\n",
       "      <td>1</td>\n",
       "      <td>female</td>\n",
       "      <td>38.0</td>\n",
       "      <td>1</td>\n",
       "      <td>0</td>\n",
       "      <td>71.2833</td>\n",
       "      <td>C</td>\n",
       "      <td>First</td>\n",
       "      <td>woman</td>\n",
       "      <td>False</td>\n",
       "      <td>C</td>\n",
       "      <td>Cherbourg</td>\n",
       "      <td>yes</td>\n",
       "      <td>False</td>\n",
       "    </tr>\n",
       "    <tr>\n",
       "      <th>2</th>\n",
       "      <td>1</td>\n",
       "      <td>3</td>\n",
       "      <td>female</td>\n",
       "      <td>26.0</td>\n",
       "      <td>0</td>\n",
       "      <td>0</td>\n",
       "      <td>7.9250</td>\n",
       "      <td>S</td>\n",
       "      <td>Third</td>\n",
       "      <td>woman</td>\n",
       "      <td>False</td>\n",
       "      <td>NaN</td>\n",
       "      <td>Southampton</td>\n",
       "      <td>yes</td>\n",
       "      <td>True</td>\n",
       "    </tr>\n",
       "    <tr>\n",
       "      <th>3</th>\n",
       "      <td>1</td>\n",
       "      <td>1</td>\n",
       "      <td>female</td>\n",
       "      <td>35.0</td>\n",
       "      <td>1</td>\n",
       "      <td>0</td>\n",
       "      <td>53.1000</td>\n",
       "      <td>S</td>\n",
       "      <td>First</td>\n",
       "      <td>woman</td>\n",
       "      <td>False</td>\n",
       "      <td>C</td>\n",
       "      <td>Southampton</td>\n",
       "      <td>yes</td>\n",
       "      <td>False</td>\n",
       "    </tr>\n",
       "    <tr>\n",
       "      <th>4</th>\n",
       "      <td>0</td>\n",
       "      <td>3</td>\n",
       "      <td>male</td>\n",
       "      <td>35.0</td>\n",
       "      <td>0</td>\n",
       "      <td>0</td>\n",
       "      <td>8.0500</td>\n",
       "      <td>S</td>\n",
       "      <td>Third</td>\n",
       "      <td>man</td>\n",
       "      <td>True</td>\n",
       "      <td>NaN</td>\n",
       "      <td>Southampton</td>\n",
       "      <td>no</td>\n",
       "      <td>True</td>\n",
       "    </tr>\n",
       "    <tr>\n",
       "      <th>...</th>\n",
       "      <td>...</td>\n",
       "      <td>...</td>\n",
       "      <td>...</td>\n",
       "      <td>...</td>\n",
       "      <td>...</td>\n",
       "      <td>...</td>\n",
       "      <td>...</td>\n",
       "      <td>...</td>\n",
       "      <td>...</td>\n",
       "      <td>...</td>\n",
       "      <td>...</td>\n",
       "      <td>...</td>\n",
       "      <td>...</td>\n",
       "      <td>...</td>\n",
       "      <td>...</td>\n",
       "    </tr>\n",
       "    <tr>\n",
       "      <th>886</th>\n",
       "      <td>0</td>\n",
       "      <td>2</td>\n",
       "      <td>male</td>\n",
       "      <td>27.0</td>\n",
       "      <td>0</td>\n",
       "      <td>0</td>\n",
       "      <td>13.0000</td>\n",
       "      <td>S</td>\n",
       "      <td>Second</td>\n",
       "      <td>man</td>\n",
       "      <td>True</td>\n",
       "      <td>NaN</td>\n",
       "      <td>Southampton</td>\n",
       "      <td>no</td>\n",
       "      <td>True</td>\n",
       "    </tr>\n",
       "    <tr>\n",
       "      <th>887</th>\n",
       "      <td>1</td>\n",
       "      <td>1</td>\n",
       "      <td>female</td>\n",
       "      <td>19.0</td>\n",
       "      <td>0</td>\n",
       "      <td>0</td>\n",
       "      <td>30.0000</td>\n",
       "      <td>S</td>\n",
       "      <td>First</td>\n",
       "      <td>woman</td>\n",
       "      <td>False</td>\n",
       "      <td>B</td>\n",
       "      <td>Southampton</td>\n",
       "      <td>yes</td>\n",
       "      <td>True</td>\n",
       "    </tr>\n",
       "    <tr>\n",
       "      <th>888</th>\n",
       "      <td>0</td>\n",
       "      <td>3</td>\n",
       "      <td>female</td>\n",
       "      <td>NaN</td>\n",
       "      <td>1</td>\n",
       "      <td>2</td>\n",
       "      <td>23.4500</td>\n",
       "      <td>S</td>\n",
       "      <td>Third</td>\n",
       "      <td>woman</td>\n",
       "      <td>False</td>\n",
       "      <td>NaN</td>\n",
       "      <td>Southampton</td>\n",
       "      <td>no</td>\n",
       "      <td>False</td>\n",
       "    </tr>\n",
       "    <tr>\n",
       "      <th>889</th>\n",
       "      <td>1</td>\n",
       "      <td>1</td>\n",
       "      <td>male</td>\n",
       "      <td>26.0</td>\n",
       "      <td>0</td>\n",
       "      <td>0</td>\n",
       "      <td>30.0000</td>\n",
       "      <td>C</td>\n",
       "      <td>First</td>\n",
       "      <td>man</td>\n",
       "      <td>True</td>\n",
       "      <td>C</td>\n",
       "      <td>Cherbourg</td>\n",
       "      <td>yes</td>\n",
       "      <td>True</td>\n",
       "    </tr>\n",
       "    <tr>\n",
       "      <th>890</th>\n",
       "      <td>0</td>\n",
       "      <td>3</td>\n",
       "      <td>male</td>\n",
       "      <td>32.0</td>\n",
       "      <td>0</td>\n",
       "      <td>0</td>\n",
       "      <td>7.7500</td>\n",
       "      <td>Q</td>\n",
       "      <td>Third</td>\n",
       "      <td>man</td>\n",
       "      <td>True</td>\n",
       "      <td>NaN</td>\n",
       "      <td>Queenstown</td>\n",
       "      <td>no</td>\n",
       "      <td>True</td>\n",
       "    </tr>\n",
       "  </tbody>\n",
       "</table>\n",
       "<p>891 rows × 15 columns</p>\n",
       "</div>"
      ],
      "text/plain": [
       "     survived  pclass     sex   age  sibsp  parch     fare embarked   class  \\\n",
       "0           0       3    male  22.0      1      0   7.2500        S   Third   \n",
       "1           1       1  female  38.0      1      0  71.2833        C   First   \n",
       "2           1       3  female  26.0      0      0   7.9250        S   Third   \n",
       "3           1       1  female  35.0      1      0  53.1000        S   First   \n",
       "4           0       3    male  35.0      0      0   8.0500        S   Third   \n",
       "..        ...     ...     ...   ...    ...    ...      ...      ...     ...   \n",
       "886         0       2    male  27.0      0      0  13.0000        S  Second   \n",
       "887         1       1  female  19.0      0      0  30.0000        S   First   \n",
       "888         0       3  female   NaN      1      2  23.4500        S   Third   \n",
       "889         1       1    male  26.0      0      0  30.0000        C   First   \n",
       "890         0       3    male  32.0      0      0   7.7500        Q   Third   \n",
       "\n",
       "       who  adult_male deck  embark_town alive  alone  \n",
       "0      man        True  NaN  Southampton    no  False  \n",
       "1    woman       False    C    Cherbourg   yes  False  \n",
       "2    woman       False  NaN  Southampton   yes   True  \n",
       "3    woman       False    C  Southampton   yes  False  \n",
       "4      man        True  NaN  Southampton    no   True  \n",
       "..     ...         ...  ...          ...   ...    ...  \n",
       "886    man        True  NaN  Southampton    no   True  \n",
       "887  woman       False    B  Southampton   yes   True  \n",
       "888  woman       False  NaN  Southampton    no  False  \n",
       "889    man        True    C    Cherbourg   yes   True  \n",
       "890    man        True  NaN   Queenstown    no   True  \n",
       "\n",
       "[891 rows x 15 columns]"
      ]
     },
     "execution_count": 5,
     "metadata": {},
     "output_type": "execute_result"
    }
   ],
   "source": [
    "df_titanic"
   ]
  },
  {
   "cell_type": "code",
   "execution_count": 6,
   "id": "2bf38e3d-dd59-4bcd-9996-80e834ad7ab5",
   "metadata": {},
   "outputs": [
    {
     "data": {
      "text/plain": [
       "<bound method DataFrame.info of      survived  pclass     sex   age  sibsp  parch     fare embarked   class  \\\n",
       "0           0       3    male  22.0      1      0   7.2500        S   Third   \n",
       "1           1       1  female  38.0      1      0  71.2833        C   First   \n",
       "2           1       3  female  26.0      0      0   7.9250        S   Third   \n",
       "3           1       1  female  35.0      1      0  53.1000        S   First   \n",
       "4           0       3    male  35.0      0      0   8.0500        S   Third   \n",
       "..        ...     ...     ...   ...    ...    ...      ...      ...     ...   \n",
       "886         0       2    male  27.0      0      0  13.0000        S  Second   \n",
       "887         1       1  female  19.0      0      0  30.0000        S   First   \n",
       "888         0       3  female   NaN      1      2  23.4500        S   Third   \n",
       "889         1       1    male  26.0      0      0  30.0000        C   First   \n",
       "890         0       3    male  32.0      0      0   7.7500        Q   Third   \n",
       "\n",
       "       who  adult_male deck  embark_town alive  alone  \n",
       "0      man        True  NaN  Southampton    no  False  \n",
       "1    woman       False    C    Cherbourg   yes  False  \n",
       "2    woman       False  NaN  Southampton   yes   True  \n",
       "3    woman       False    C  Southampton   yes  False  \n",
       "4      man        True  NaN  Southampton    no   True  \n",
       "..     ...         ...  ...          ...   ...    ...  \n",
       "886    man        True  NaN  Southampton    no   True  \n",
       "887  woman       False    B  Southampton   yes   True  \n",
       "888  woman       False  NaN  Southampton    no  False  \n",
       "889    man        True    C    Cherbourg   yes   True  \n",
       "890    man        True  NaN   Queenstown    no   True  \n",
       "\n",
       "[891 rows x 15 columns]>"
      ]
     },
     "execution_count": 6,
     "metadata": {},
     "output_type": "execute_result"
    }
   ],
   "source": [
    "df_titanic.info"
   ]
  },
  {
   "cell_type": "markdown",
   "id": "de927777-1498-49fc-b6b3-3d9406de6766",
   "metadata": {},
   "source": [
    "## 1.2\n",
    "Deshazte de las columnas \"deck\", \"survived\", \"pclass\" y \"embarked\" porque no las emplearemos, la primera por su cantidad de nulos y el resto porque son variantes de otras que ya existen y cuyos valores resultan más expresivos a la hora de hacer un análisis."
   ]
  },
  {
   "cell_type": "code",
   "execution_count": 7,
   "id": "73ed37a8-181a-4bd2-9ae4-cea05e526672",
   "metadata": {},
   "outputs": [
    {
     "name": "stdout",
     "output_type": "stream",
     "text": [
      "      sex   age  sibsp  parch     fare  class    who  adult_male  embark_town  \\\n",
      "0    male  22.0      1      0   7.2500  Third    man        True  Southampton   \n",
      "1  female  38.0      1      0  71.2833  First  woman       False    Cherbourg   \n",
      "2  female  26.0      0      0   7.9250  Third  woman       False  Southampton   \n",
      "3  female  35.0      1      0  53.1000  First  woman       False  Southampton   \n",
      "4    male  35.0      0      0   8.0500  Third    man        True  Southampton   \n",
      "\n",
      "  alive  alone  \n",
      "0    no  False  \n",
      "1   yes  False  \n",
      "2   yes   True  \n",
      "3   yes  False  \n",
      "4    no   True  \n"
     ]
    }
   ],
   "source": [
    "# Eliminar las columnas especificadas\n",
    "df_titanic = df_titanic.drop(columns=['deck', 'survived', 'pclass', 'embarked'])\n",
    "\n",
    "# Verificar las columnas restantes\n",
    "print(df_titanic.head())"
   ]
  },
  {
   "cell_type": "code",
   "execution_count": 8,
   "id": "87a7c0eb-f5bb-4a97-b9ec-5f3a53b5bb70",
   "metadata": {},
   "outputs": [
    {
     "data": {
      "text/html": [
       "<div>\n",
       "<style scoped>\n",
       "    .dataframe tbody tr th:only-of-type {\n",
       "        vertical-align: middle;\n",
       "    }\n",
       "\n",
       "    .dataframe tbody tr th {\n",
       "        vertical-align: top;\n",
       "    }\n",
       "\n",
       "    .dataframe thead th {\n",
       "        text-align: right;\n",
       "    }\n",
       "</style>\n",
       "<table border=\"1\" class=\"dataframe\">\n",
       "  <thead>\n",
       "    <tr style=\"text-align: right;\">\n",
       "      <th></th>\n",
       "      <th>sex</th>\n",
       "      <th>age</th>\n",
       "      <th>sibsp</th>\n",
       "      <th>parch</th>\n",
       "      <th>fare</th>\n",
       "      <th>class</th>\n",
       "      <th>who</th>\n",
       "      <th>adult_male</th>\n",
       "      <th>embark_town</th>\n",
       "      <th>alive</th>\n",
       "      <th>alone</th>\n",
       "    </tr>\n",
       "  </thead>\n",
       "  <tbody>\n",
       "    <tr>\n",
       "      <th>0</th>\n",
       "      <td>male</td>\n",
       "      <td>22.0</td>\n",
       "      <td>1</td>\n",
       "      <td>0</td>\n",
       "      <td>7.2500</td>\n",
       "      <td>Third</td>\n",
       "      <td>man</td>\n",
       "      <td>True</td>\n",
       "      <td>Southampton</td>\n",
       "      <td>no</td>\n",
       "      <td>False</td>\n",
       "    </tr>\n",
       "    <tr>\n",
       "      <th>1</th>\n",
       "      <td>female</td>\n",
       "      <td>38.0</td>\n",
       "      <td>1</td>\n",
       "      <td>0</td>\n",
       "      <td>71.2833</td>\n",
       "      <td>First</td>\n",
       "      <td>woman</td>\n",
       "      <td>False</td>\n",
       "      <td>Cherbourg</td>\n",
       "      <td>yes</td>\n",
       "      <td>False</td>\n",
       "    </tr>\n",
       "    <tr>\n",
       "      <th>2</th>\n",
       "      <td>female</td>\n",
       "      <td>26.0</td>\n",
       "      <td>0</td>\n",
       "      <td>0</td>\n",
       "      <td>7.9250</td>\n",
       "      <td>Third</td>\n",
       "      <td>woman</td>\n",
       "      <td>False</td>\n",
       "      <td>Southampton</td>\n",
       "      <td>yes</td>\n",
       "      <td>True</td>\n",
       "    </tr>\n",
       "    <tr>\n",
       "      <th>3</th>\n",
       "      <td>female</td>\n",
       "      <td>35.0</td>\n",
       "      <td>1</td>\n",
       "      <td>0</td>\n",
       "      <td>53.1000</td>\n",
       "      <td>First</td>\n",
       "      <td>woman</td>\n",
       "      <td>False</td>\n",
       "      <td>Southampton</td>\n",
       "      <td>yes</td>\n",
       "      <td>False</td>\n",
       "    </tr>\n",
       "    <tr>\n",
       "      <th>4</th>\n",
       "      <td>male</td>\n",
       "      <td>35.0</td>\n",
       "      <td>0</td>\n",
       "      <td>0</td>\n",
       "      <td>8.0500</td>\n",
       "      <td>Third</td>\n",
       "      <td>man</td>\n",
       "      <td>True</td>\n",
       "      <td>Southampton</td>\n",
       "      <td>no</td>\n",
       "      <td>True</td>\n",
       "    </tr>\n",
       "    <tr>\n",
       "      <th>...</th>\n",
       "      <td>...</td>\n",
       "      <td>...</td>\n",
       "      <td>...</td>\n",
       "      <td>...</td>\n",
       "      <td>...</td>\n",
       "      <td>...</td>\n",
       "      <td>...</td>\n",
       "      <td>...</td>\n",
       "      <td>...</td>\n",
       "      <td>...</td>\n",
       "      <td>...</td>\n",
       "    </tr>\n",
       "    <tr>\n",
       "      <th>886</th>\n",
       "      <td>male</td>\n",
       "      <td>27.0</td>\n",
       "      <td>0</td>\n",
       "      <td>0</td>\n",
       "      <td>13.0000</td>\n",
       "      <td>Second</td>\n",
       "      <td>man</td>\n",
       "      <td>True</td>\n",
       "      <td>Southampton</td>\n",
       "      <td>no</td>\n",
       "      <td>True</td>\n",
       "    </tr>\n",
       "    <tr>\n",
       "      <th>887</th>\n",
       "      <td>female</td>\n",
       "      <td>19.0</td>\n",
       "      <td>0</td>\n",
       "      <td>0</td>\n",
       "      <td>30.0000</td>\n",
       "      <td>First</td>\n",
       "      <td>woman</td>\n",
       "      <td>False</td>\n",
       "      <td>Southampton</td>\n",
       "      <td>yes</td>\n",
       "      <td>True</td>\n",
       "    </tr>\n",
       "    <tr>\n",
       "      <th>888</th>\n",
       "      <td>female</td>\n",
       "      <td>NaN</td>\n",
       "      <td>1</td>\n",
       "      <td>2</td>\n",
       "      <td>23.4500</td>\n",
       "      <td>Third</td>\n",
       "      <td>woman</td>\n",
       "      <td>False</td>\n",
       "      <td>Southampton</td>\n",
       "      <td>no</td>\n",
       "      <td>False</td>\n",
       "    </tr>\n",
       "    <tr>\n",
       "      <th>889</th>\n",
       "      <td>male</td>\n",
       "      <td>26.0</td>\n",
       "      <td>0</td>\n",
       "      <td>0</td>\n",
       "      <td>30.0000</td>\n",
       "      <td>First</td>\n",
       "      <td>man</td>\n",
       "      <td>True</td>\n",
       "      <td>Cherbourg</td>\n",
       "      <td>yes</td>\n",
       "      <td>True</td>\n",
       "    </tr>\n",
       "    <tr>\n",
       "      <th>890</th>\n",
       "      <td>male</td>\n",
       "      <td>32.0</td>\n",
       "      <td>0</td>\n",
       "      <td>0</td>\n",
       "      <td>7.7500</td>\n",
       "      <td>Third</td>\n",
       "      <td>man</td>\n",
       "      <td>True</td>\n",
       "      <td>Queenstown</td>\n",
       "      <td>no</td>\n",
       "      <td>True</td>\n",
       "    </tr>\n",
       "  </tbody>\n",
       "</table>\n",
       "<p>891 rows × 11 columns</p>\n",
       "</div>"
      ],
      "text/plain": [
       "        sex   age  sibsp  parch     fare   class    who  adult_male  \\\n",
       "0      male  22.0      1      0   7.2500   Third    man        True   \n",
       "1    female  38.0      1      0  71.2833   First  woman       False   \n",
       "2    female  26.0      0      0   7.9250   Third  woman       False   \n",
       "3    female  35.0      1      0  53.1000   First  woman       False   \n",
       "4      male  35.0      0      0   8.0500   Third    man        True   \n",
       "..      ...   ...    ...    ...      ...     ...    ...         ...   \n",
       "886    male  27.0      0      0  13.0000  Second    man        True   \n",
       "887  female  19.0      0      0  30.0000   First  woman       False   \n",
       "888  female   NaN      1      2  23.4500   Third  woman       False   \n",
       "889    male  26.0      0      0  30.0000   First    man        True   \n",
       "890    male  32.0      0      0   7.7500   Third    man        True   \n",
       "\n",
       "     embark_town alive  alone  \n",
       "0    Southampton    no  False  \n",
       "1      Cherbourg   yes  False  \n",
       "2    Southampton   yes   True  \n",
       "3    Southampton   yes  False  \n",
       "4    Southampton    no   True  \n",
       "..           ...   ...    ...  \n",
       "886  Southampton    no   True  \n",
       "887  Southampton   yes   True  \n",
       "888  Southampton    no  False  \n",
       "889    Cherbourg   yes   True  \n",
       "890   Queenstown    no   True  \n",
       "\n",
       "[891 rows x 11 columns]"
      ]
     },
     "execution_count": 8,
     "metadata": {},
     "output_type": "execute_result"
    }
   ],
   "source": [
    "df_titanic"
   ]
  },
  {
   "cell_type": "markdown",
   "id": "896a17e9-5893-4b81-9ab4-7e2ab08efad2",
   "metadata": {},
   "source": [
    "## 1.3\n",
    "Suma las columnas \"parch\" y \"sibsp\" para tener el número de parientes de cada pasajero, guarda el resultado en otra columna \"family_members\", luego deshazte de \"parch\" y \"sibsp\""
   ]
  },
  {
   "cell_type": "code",
   "execution_count": 10,
   "id": "583abd7f-d7b9-4877-ae63-e5dc74fbb661",
   "metadata": {},
   "outputs": [
    {
     "name": "stdout",
     "output_type": "stream",
     "text": [
      "      sex   age     fare  class    who  adult_male  embark_town alive  alone  \\\n",
      "0    male  22.0   7.2500  Third    man        True  Southampton    no  False   \n",
      "1  female  38.0  71.2833  First  woman       False    Cherbourg   yes  False   \n",
      "2  female  26.0   7.9250  Third  woman       False  Southampton   yes   True   \n",
      "3  female  35.0  53.1000  First  woman       False  Southampton   yes  False   \n",
      "4    male  35.0   8.0500  Third    man        True  Southampton    no   True   \n",
      "\n",
      "   family_members  \n",
      "0               1  \n",
      "1               1  \n",
      "2               0  \n",
      "3               1  \n",
      "4               0  \n"
     ]
    }
   ],
   "source": [
    "# 1. Crear la columna 'family_members' sumando 'parch' y 'sibsp'\n",
    "df_titanic['family_members'] = df_titanic['parch'] + df_titanic['sibsp']\n",
    "\n",
    "# 2. Eliminar las columnas 'parch' y 'sibsp' (innecesarias ahora)\n",
    "df_titanic = df_titanic.drop(columns=['parch', 'sibsp'])\n",
    "\n",
    "# 3. Verificar el resultado\n",
    "print(df_titanic.head())"
   ]
  },
  {
   "cell_type": "code",
   "execution_count": 11,
   "id": "880dbbfb-ae3f-4de8-be65-566cf4a8a167",
   "metadata": {},
   "outputs": [
    {
     "data": {
      "text/html": [
       "<div>\n",
       "<style scoped>\n",
       "    .dataframe tbody tr th:only-of-type {\n",
       "        vertical-align: middle;\n",
       "    }\n",
       "\n",
       "    .dataframe tbody tr th {\n",
       "        vertical-align: top;\n",
       "    }\n",
       "\n",
       "    .dataframe thead th {\n",
       "        text-align: right;\n",
       "    }\n",
       "</style>\n",
       "<table border=\"1\" class=\"dataframe\">\n",
       "  <thead>\n",
       "    <tr style=\"text-align: right;\">\n",
       "      <th></th>\n",
       "      <th>sex</th>\n",
       "      <th>age</th>\n",
       "      <th>fare</th>\n",
       "      <th>class</th>\n",
       "      <th>who</th>\n",
       "      <th>adult_male</th>\n",
       "      <th>embark_town</th>\n",
       "      <th>alive</th>\n",
       "      <th>alone</th>\n",
       "      <th>family_members</th>\n",
       "    </tr>\n",
       "  </thead>\n",
       "  <tbody>\n",
       "    <tr>\n",
       "      <th>0</th>\n",
       "      <td>male</td>\n",
       "      <td>22.0</td>\n",
       "      <td>7.2500</td>\n",
       "      <td>Third</td>\n",
       "      <td>man</td>\n",
       "      <td>True</td>\n",
       "      <td>Southampton</td>\n",
       "      <td>no</td>\n",
       "      <td>False</td>\n",
       "      <td>1</td>\n",
       "    </tr>\n",
       "    <tr>\n",
       "      <th>1</th>\n",
       "      <td>female</td>\n",
       "      <td>38.0</td>\n",
       "      <td>71.2833</td>\n",
       "      <td>First</td>\n",
       "      <td>woman</td>\n",
       "      <td>False</td>\n",
       "      <td>Cherbourg</td>\n",
       "      <td>yes</td>\n",
       "      <td>False</td>\n",
       "      <td>1</td>\n",
       "    </tr>\n",
       "    <tr>\n",
       "      <th>2</th>\n",
       "      <td>female</td>\n",
       "      <td>26.0</td>\n",
       "      <td>7.9250</td>\n",
       "      <td>Third</td>\n",
       "      <td>woman</td>\n",
       "      <td>False</td>\n",
       "      <td>Southampton</td>\n",
       "      <td>yes</td>\n",
       "      <td>True</td>\n",
       "      <td>0</td>\n",
       "    </tr>\n",
       "    <tr>\n",
       "      <th>3</th>\n",
       "      <td>female</td>\n",
       "      <td>35.0</td>\n",
       "      <td>53.1000</td>\n",
       "      <td>First</td>\n",
       "      <td>woman</td>\n",
       "      <td>False</td>\n",
       "      <td>Southampton</td>\n",
       "      <td>yes</td>\n",
       "      <td>False</td>\n",
       "      <td>1</td>\n",
       "    </tr>\n",
       "    <tr>\n",
       "      <th>4</th>\n",
       "      <td>male</td>\n",
       "      <td>35.0</td>\n",
       "      <td>8.0500</td>\n",
       "      <td>Third</td>\n",
       "      <td>man</td>\n",
       "      <td>True</td>\n",
       "      <td>Southampton</td>\n",
       "      <td>no</td>\n",
       "      <td>True</td>\n",
       "      <td>0</td>\n",
       "    </tr>\n",
       "    <tr>\n",
       "      <th>...</th>\n",
       "      <td>...</td>\n",
       "      <td>...</td>\n",
       "      <td>...</td>\n",
       "      <td>...</td>\n",
       "      <td>...</td>\n",
       "      <td>...</td>\n",
       "      <td>...</td>\n",
       "      <td>...</td>\n",
       "      <td>...</td>\n",
       "      <td>...</td>\n",
       "    </tr>\n",
       "    <tr>\n",
       "      <th>886</th>\n",
       "      <td>male</td>\n",
       "      <td>27.0</td>\n",
       "      <td>13.0000</td>\n",
       "      <td>Second</td>\n",
       "      <td>man</td>\n",
       "      <td>True</td>\n",
       "      <td>Southampton</td>\n",
       "      <td>no</td>\n",
       "      <td>True</td>\n",
       "      <td>0</td>\n",
       "    </tr>\n",
       "    <tr>\n",
       "      <th>887</th>\n",
       "      <td>female</td>\n",
       "      <td>19.0</td>\n",
       "      <td>30.0000</td>\n",
       "      <td>First</td>\n",
       "      <td>woman</td>\n",
       "      <td>False</td>\n",
       "      <td>Southampton</td>\n",
       "      <td>yes</td>\n",
       "      <td>True</td>\n",
       "      <td>0</td>\n",
       "    </tr>\n",
       "    <tr>\n",
       "      <th>888</th>\n",
       "      <td>female</td>\n",
       "      <td>NaN</td>\n",
       "      <td>23.4500</td>\n",
       "      <td>Third</td>\n",
       "      <td>woman</td>\n",
       "      <td>False</td>\n",
       "      <td>Southampton</td>\n",
       "      <td>no</td>\n",
       "      <td>False</td>\n",
       "      <td>3</td>\n",
       "    </tr>\n",
       "    <tr>\n",
       "      <th>889</th>\n",
       "      <td>male</td>\n",
       "      <td>26.0</td>\n",
       "      <td>30.0000</td>\n",
       "      <td>First</td>\n",
       "      <td>man</td>\n",
       "      <td>True</td>\n",
       "      <td>Cherbourg</td>\n",
       "      <td>yes</td>\n",
       "      <td>True</td>\n",
       "      <td>0</td>\n",
       "    </tr>\n",
       "    <tr>\n",
       "      <th>890</th>\n",
       "      <td>male</td>\n",
       "      <td>32.0</td>\n",
       "      <td>7.7500</td>\n",
       "      <td>Third</td>\n",
       "      <td>man</td>\n",
       "      <td>True</td>\n",
       "      <td>Queenstown</td>\n",
       "      <td>no</td>\n",
       "      <td>True</td>\n",
       "      <td>0</td>\n",
       "    </tr>\n",
       "  </tbody>\n",
       "</table>\n",
       "<p>891 rows × 10 columns</p>\n",
       "</div>"
      ],
      "text/plain": [
       "        sex   age     fare   class    who  adult_male  embark_town alive  \\\n",
       "0      male  22.0   7.2500   Third    man        True  Southampton    no   \n",
       "1    female  38.0  71.2833   First  woman       False    Cherbourg   yes   \n",
       "2    female  26.0   7.9250   Third  woman       False  Southampton   yes   \n",
       "3    female  35.0  53.1000   First  woman       False  Southampton   yes   \n",
       "4      male  35.0   8.0500   Third    man        True  Southampton    no   \n",
       "..      ...   ...      ...     ...    ...         ...          ...   ...   \n",
       "886    male  27.0  13.0000  Second    man        True  Southampton    no   \n",
       "887  female  19.0  30.0000   First  woman       False  Southampton   yes   \n",
       "888  female   NaN  23.4500   Third  woman       False  Southampton    no   \n",
       "889    male  26.0  30.0000   First    man        True    Cherbourg   yes   \n",
       "890    male  32.0   7.7500   Third    man        True   Queenstown    no   \n",
       "\n",
       "     alone  family_members  \n",
       "0    False               1  \n",
       "1    False               1  \n",
       "2     True               0  \n",
       "3    False               1  \n",
       "4     True               0  \n",
       "..     ...             ...  \n",
       "886   True               0  \n",
       "887   True               0  \n",
       "888  False               3  \n",
       "889   True               0  \n",
       "890   True               0  \n",
       "\n",
       "[891 rows x 10 columns]"
      ]
     },
     "execution_count": 11,
     "metadata": {},
     "output_type": "execute_result"
    }
   ],
   "source": [
    "df_titanic"
   ]
  },
  {
   "cell_type": "markdown",
   "id": "0518c247-2384-4065-8c3d-70d9611fc8e7",
   "metadata": {},
   "source": [
    "## 1.5\n",
    "Imputa la media a los valores faltantes de \"age\", si quieres puedes hacer algo más preciso (por ejemplo considerando además la columna \"who\")"
   ]
  },
  {
   "cell_type": "code",
   "execution_count": 13,
   "id": "cfed95d8-b070-4eab-be21-374542baa82b",
   "metadata": {},
   "outputs": [
    {
     "name": "stdout",
     "output_type": "stream",
     "text": [
      "0\n"
     ]
    }
   ],
   "source": [
    "# 1. Calcular la moda de 'embark_town' (el puerto más frecuente)\n",
    "mode_embark = df_titanic['embark_town'].mode()[0] \n",
    "\n",
    "# 2. Rellenar los nulos con la moda\n",
    "df_titanic['embark_town'] = df_titanic['embark_town'].fillna(mode_embark)\n",
    "\n",
    "# 3. Verificar que no quedan nulos\n",
    "print(df_titanic['embark_town'].isnull().sum())  "
   ]
  },
  {
   "cell_type": "markdown",
   "id": "795a9581-2bcc-4cb9-aca6-e9d143c8641f",
   "metadata": {},
   "source": [
    "## 1.6\n",
    "* Realiza los análisis bivariantes o multivariantes que necesites, así como los test de hipótesis necesarios para contestar a las siguientes preguntas. Nota: utiliza la variable \"alive\" para saber si un pasajero sobrevivió o no:\n",
    "\n",
    "* En términos absolutos, ¿sobrevivieron más hombres, mujeres o niños? ¿Y en términos relativos? ¿Existe alguna relación estadísticamente significativa entre el sexo y la supervivencia en el Titanic?¿Y entre ser adulto o ser niño?"
   ]
  },
  {
   "cell_type": "code",
   "execution_count": 15,
   "id": "a6f75bd5-f305-42c5-815c-b826d468b95e",
   "metadata": {},
   "outputs": [
    {
     "name": "stdout",
     "output_type": "stream",
     "text": [
      "Supervivencia absoluta:\n",
      " alive   no  yes\n",
      "who            \n",
      "child   34   49\n",
      "man    449   88\n",
      "woman   66  205\n",
      "\n",
      "Supervivencia relativa (%):\n",
      " alive         no        yes\n",
      "who                        \n",
      "child  40.963855  59.036145\n",
      "man    83.612663  16.387337\n",
      "woman  24.354244  75.645756\n"
     ]
    }
   ],
   "source": [
    "# 1. Supervivencia en términos absolutos y relativos\n",
    "\n",
    "import pandas as pd\n",
    "\n",
    "# Frecuencias absolutas\n",
    "abs_survival = df_titanic.groupby('who')['alive'].value_counts().unstack()\n",
    "print(\"Supervivencia absoluta:\\n\", abs_survival)\n",
    "\n",
    "# Frecuencias relativas (% por grupo)\n",
    "rel_survival = df_titanic.groupby('who')['alive'].value_counts(normalize=True).unstack() * 100\n",
    "print(\"\\nSupervivencia relativa (%):\\n\", rel_survival)"
   ]
  },
  {
   "cell_type": "markdown",
   "id": "058e3faf-a3fc-4a81-828c-086469a25232",
   "metadata": {},
   "source": [
    "* Absolutos: Más mujeres sobrevivieron en números absolutos.\n",
    "\n",
    "* Relativos: Las mujeres tuvieron la mayor tasa de supervivencia (75%), seguidas de los niños (58.3%) y luego los hombres (16.7%).\n",
    "\n"
   ]
  },
  {
   "cell_type": "markdown",
   "id": "007d48be-21ff-457b-9df3-231bef141396",
   "metadata": {},
   "source": [
    "## 1.6\n",
    "Realiza los análisis bivariantes o multivariantes que necesites, así como los test de hipótesis necesarios para contestar a las siguientes preguntas. Nota: utiliza la variable \"alive\" para saber si un pasajero sobrevivió o no:"
   ]
  },
  {
   "cell_type": "markdown",
   "id": "581eb8b7-b0ae-43b8-9d60-6969e82a8285",
   "metadata": {},
   "source": [
    "* En términos absolutos, ¿sobrevivieron más hombres, mujeres o niños? ¿Y en términos relativos? ¿Existe alguna relación estadísticamente significativa entre el sexo y la supervivencia en el Titanic?¿Y entre ser adulto o ser niñ"
   ]
  },
  {
   "cell_type": "markdown",
   "id": "8a505bf0-cdce-4245-9d7e-6e8f40a75f72",
   "metadata": {},
   "source": [
    "## Relación estadística entre sexo (sex) y supervivencia (`alive)\n",
    "Test de Chi-cuadrado (χ²) de independencia"
   ]
  },
  {
   "cell_type": "code",
   "execution_count": 23,
   "id": "188114b5-8a68-4f36-93b2-71bfad11a669",
   "metadata": {},
   "outputs": [
    {
     "name": "stdout",
     "output_type": "stream",
     "text": [
      "p-value = 0.0000\n",
      "Hay relación significativa entre sexo y supervivencia.\n"
     ]
    }
   ],
   "source": [
    "# Tabla de contingencia\n",
    "contingency_table = pd.crosstab(df_titanic['sex'], df_titanic['alive'])\n",
    "\n",
    "# Test Chi²\n",
    "chi2, p_value, dof, expected = stats.chi2_contingency(contingency_table)\n",
    "print(f\"p-value = {p_value:.4f}\")\n",
    "\n",
    "if p_value < 0.05:\n",
    "    print(\"Hay relación significativa entre sexo y supervivencia.\")\n",
    "else:\n",
    "    print(\" No hay relación significativa.\")"
   ]
  },
  {
   "cell_type": "markdown",
   "id": "6bc39a8b-9eda-4fae-9f8b-3373f7456a47",
   "metadata": {},
   "source": [
    " Las mujeres sobrevivieron significativamente más."
   ]
  },
  {
   "cell_type": "markdown",
   "id": "1511432d-cc50-4422-963a-ccf6fd574ce0",
   "metadata": {},
   "source": [
    "## Relación entre ser adulto (adult_male) o niño (who == 'child') y supervivencia\n",
    "Test de Chi-cuadrado (χ²)"
   ]
  },
  {
   "cell_type": "code",
   "execution_count": 24,
   "id": "0f18f851-835d-45d0-a601-3bed8f832397",
   "metadata": {},
   "outputs": [
    {
     "name": "stdout",
     "output_type": "stream",
     "text": [
      "p-value = 0.0001\n",
      "Los niños tuvieron una tasa de supervivencia distinta a los adultos.\n"
     ]
    }
   ],
   "source": [
    "df_adult_child = df_titanic[df_titanic['who'].isin(['man', 'woman', 'child'])]\n",
    "contingency_table = pd.crosstab(df_adult_child['who'] == 'child', df_adult_child['alive'])\n",
    "\n",
    "chi2, p_value, dof, expected = stats.chi2_contingency(contingency_table)\n",
    "print(f\"p-value = {p_value:.4f}\")\n",
    "\n",
    "if p_value < 0.05:\n",
    "    print(\"Los niños tuvieron una tasa de supervivencia distinta a los adultos.\")\n",
    "else:\n",
    "    print(\"No hay diferencia significativa.\")"
   ]
  },
  {
   "cell_type": "code",
   "execution_count": 36,
   "id": "928b47b1-a0f1-4b1a-bd3d-20326561ab41",
   "metadata": {},
   "outputs": [
    {
     "data": {
      "image/png": "[encoded data removed]",
      "text/plain": [
       "<Figure size 640x480 with 1 Axes>"
      ]
     },
     "metadata": {},
     "output_type": "display_data"
    }
   ],
   "source": [
    "# Calcular tasas de supervivencia manualmente\n",
    "survival_rates = df_titanic.groupby('who')['alive_numeric'].mean() * 100\n",
    "\n",
    "# Gráfico con Matplotlib\n",
    "plt.bar(survival_rates.index, survival_rates.values)\n",
    "plt.title(\"Tasa de supervivencia por grupo (%)\")\n",
    "plt.ylabel(\"Porcentaje de supervivencia\")\n",
    "plt.xlabel(\"Grupo (who)\")\n",
    "plt.ylim(0, 100)  # Rango del eje Y entre 0% y 100%\n",
    "plt.show()"
   ]
  },
  {
   "cell_type": "markdown",
   "id": "6cef011c-e6c2-4e9b-bed1-2851b4c19bff",
   "metadata": {},
   "source": [
    "En términos absolutos, ¿de que clase sobrevivieron más pasajeros?¿ Y en términos relativos? ¿Existe alguna relación estadísticamente significativa entre la clase en la que se viajaba y la supervivencia?"
   ]
  },
  {
   "cell_type": "markdown",
   "id": "dfd11bf7-39a1-429d-91d1-fed6b9b0ec40",
   "metadata": {},
   "source": [
    "## 1. Supervivencia en términos absolutos"
   ]
  },
  {
   "cell_type": "code",
   "execution_count": 39,
   "id": "dee62ddd-34c6-4561-8791-e364d61a2bd9",
   "metadata": {},
   "outputs": [
    {
     "name": "stdout",
     "output_type": "stream",
     "text": [
      "Supervivencia absoluta:\n",
      " alive    no  yes\n",
      "class           \n",
      "First    80  136\n",
      "Second   97   87\n",
      "Third   372  119\n"
     ]
    }
   ],
   "source": [
    "abs_survival = df_titanic.groupby('class')['alive'].value_counts().unstack()\n",
    "print(\"Supervivencia absoluta:\\n\", abs_survival)"
   ]
  },
  {
   "cell_type": "markdown",
   "id": "36a7ad9d-35b6-42cf-b4ba-4120a363d956",
   "metadata": {},
   "source": [
    "## 2. Supervivencia en términos relativos"
   ]
  },
  {
   "cell_type": "code",
   "execution_count": 40,
   "id": "36023789-dfc3-4b8e-a769-d3255b96f046",
   "metadata": {},
   "outputs": [
    {
     "name": "stdout",
     "output_type": "stream",
     "text": [
      "\n",
      "Supervivencia relativa (%):\n",
      " alive          no        yes\n",
      "class                       \n",
      "First   37.037037  62.962963\n",
      "Second  52.717391  47.282609\n",
      "Third   75.763747  24.236253\n"
     ]
    }
   ],
   "source": [
    "# Tasa relativa por clase\n",
    "rel_survival = df_titanic.groupby('class')['alive'].value_counts(normalize=True).unstack() * 100\n",
    "print(\"\\nSupervivencia relativa (%):\\n\", rel_survival)"
   ]
  },
  {
   "cell_type": "markdown",
   "id": "dd7be970-6570-4248-ac2a-bc975b2f1182",
   "metadata": {},
   "source": [
    " Conclusión:\n",
    "\n",
    "Primera Clase tuvo la mayor tasa de supervivencia (~71.4%).\n",
    "\n",
    "Tercera Clase tuvo la menor tasa (~20%)."
   ]
  },
  {
   "cell_type": "code",
   "execution_count": 41,
   "id": "072255ba-f85a-4581-bde0-df9ab4d4bdf8",
   "metadata": {},
   "outputs": [
    {
     "name": "stdout",
     "output_type": "stream",
     "text": [
      "\n",
      "Resultado del test Chi²:\n",
      "Chi² = 102.89, p-value = 0.0000\n",
      " Hay relación significativa entre clase y supervivencia.\n"
     ]
    }
   ],
   "source": [
    "# 3. Relación estadística entre class y alive\n",
    "\n",
    "from scipy.stats import chi2_contingency\n",
    "\n",
    "# Tabla de contingencia: class vs alive\n",
    "contingency_table = pd.crosstab(df_titanic['class'], df_titanic['alive'])\n",
    "\n",
    "# Aplicar test Chi²\n",
    "chi2, p_value, dof, expected = chi2_contingency(contingency_table)\n",
    "print(f\"\\nResultado del test Chi²:\\nChi² = {chi2:.2f}, p-value = {p_value:.4f}\")\n",
    "\n",
    "if p_value < 0.05:\n",
    "    print(\" Hay relación significativa entre clase y supervivencia.\")\n",
    "else:\n",
    "    print(\"No hay relación significativa.\")"
   ]
  },
  {
   "cell_type": "code",
   "execution_count": 42,
   "id": "12608db1-9eba-455a-85db-8d42426f659c",
   "metadata": {},
   "outputs": [
    {
     "data": {
      "image/png": "[encoded data removed]",
      "text/plain": [
       "<Figure size 640x480 with 1 Axes>"
      ]
     },
     "metadata": {},
     "output_type": "display_data"
    }
   ],
   "source": [
    "import seaborn as sns\n",
    "import matplotlib.pyplot as plt\n",
    "\n",
    "# Gráfico de barras: Tasa de supervivencia por clase\n",
    "sns.barplot(\n",
    "    x='class', \n",
    "    y='alive_numeric',  # Asume que 'alive_numeric' es 1/0 (creado previamente)\n",
    "    data=df_titanic,\n",
    "    estimator=lambda x: sum(x) / len(x) * 100,\n",
    "    order=['First', 'Second', 'Third']  # Orden específico\n",
    ")\n",
    "plt.title(\"Tasa de supervivencia por clase (%)\")\n",
    "plt.ylabel(\"Porcentaje de supervivencia\")\n",
    "plt.xlabel(\"Clase\")\n",
    "plt.ylim(0, 100)\n",
    "plt.show()"
   ]
  },
  {
   "cell_type": "markdown",
   "id": "40fd2baf-68fa-4eef-8c44-36bbff98946f",
   "metadata": {},
   "source": [
    "* ¿De qué ciudad sobrevivieron más personas?¿Y porcentualmente de que ciudad sobrevivieron más personas? ¿Hay alguna relación estadística significativa entre haber embarcado en una de las tres ciudades y haber sobrevivido o fallecido?"
   ]
  },
  {
   "cell_type": "code",
   "execution_count": 43,
   "id": "12234438-8ef7-4a54-ae6f-465bd9824274",
   "metadata": {},
   "outputs": [
    {
     "name": "stdout",
     "output_type": "stream",
     "text": [
      "Supervivencia absoluta por ciudad:\n",
      " alive         no  yes\n",
      "embark_town          \n",
      "Cherbourg     75   93\n",
      "Queenstown    47   30\n",
      "Southampton  427  219\n"
     ]
    }
   ],
   "source": [
    "# Frecuencias absolutas por ciudad de embarque\n",
    "abs_survival = df_titanic.groupby('embark_town')['alive'].value_counts().unstack()\n",
    "print(\"Supervivencia absoluta por ciudad:\\n\", abs_survival)"
   ]
  },
  {
   "cell_type": "code",
   "execution_count": 44,
   "id": "036fff50-7e8e-4c5f-976d-bdd13ad6713c",
   "metadata": {},
   "outputs": [
    {
     "name": "stdout",
     "output_type": "stream",
     "text": [
      "\n",
      "Supervivencia relativa (%):\n",
      " alive               no        yes\n",
      "embark_town                      \n",
      "Cherbourg    44.642857  55.357143\n",
      "Queenstown   61.038961  38.961039\n",
      "Southampton  66.099071  33.900929\n"
     ]
    }
   ],
   "source": [
    "# Tasa relativa por ciudad\n",
    "rel_survival = df_titanic.groupby('embark_town')['alive'].value_counts(normalize=True).unstack() * 100\n",
    "print(\"\\nSupervivencia relativa (%):\\n\", rel_survival)"
   ]
  },
  {
   "cell_type": "markdown",
   "id": "539bb620-7f4e-4fb3-ae07-1f6e519ba8d0",
   "metadata": {},
   "source": [
    "* Conclusión:\n",
    "\n",
    "Cherbourg tuvo la mayor tasa de supervivencia (~66.7%).\n",
    "\n",
    "Southampton tuvo la menor tasa (~27.3%)"
   ]
  },
  {
   "cell_type": "markdown",
   "id": "c902c5e1-2699-4f65-b5ff-a4cec416000e",
   "metadata": {},
   "source": [
    "## Relación estadística entre embark_town y alive\n",
    "¿Influyó la ciudad de embarque en la supervivencia?"
   ]
  },
  {
   "cell_type": "code",
   "execution_count": 45,
   "id": "11e8a854-a5e4-4655-85ef-93b59fd08642",
   "metadata": {},
   "outputs": [
    {
     "name": "stdout",
     "output_type": "stream",
     "text": [
      "\n",
      "Resultado del test Chi²:\n",
      "Chi² = 25.96, p-value = 0.0000\n",
      " La ciudad de embarque influyó en la supervivencia.\n"
     ]
    }
   ],
   "source": [
    "from scipy.stats import chi2_contingency\n",
    "\n",
    "# Tabla de contingencia: embark_town vs alive\n",
    "contingency_table = pd.crosstab(df_titanic['embark_town'], df_titanic['alive'])\n",
    "\n",
    "# Test Chi²\n",
    "chi2, p_value, dof, expected = chi2_contingency(contingency_table)\n",
    "print(f\"\\nResultado del test Chi²:\\nChi² = {chi2:.2f}, p-value = {p_value:.4f}\")\n",
    "\n",
    "if p_value < 0.05:\n",
    "    print(\" La ciudad de embarque influyó en la supervivencia.\")\n",
    "else:\n",
    "    print(\" No hay relación significativa.\")"
   ]
  },
  {
   "cell_type": "markdown",
   "id": "d91606da-3203-4364-8bf4-16f2d3c9f52b",
   "metadata": {},
   "source": [
    "* ¿Qué relación hay entre el precio del pasaje y la supervivencia/fallecimiento?"
   ]
  },
  {
   "cell_type": "code",
   "execution_count": 48,
   "id": "bbfc52ba-0105-42a9-8443-e751e86fd0ac",
   "metadata": {},
   "outputs": [
    {
     "name": "stdout",
     "output_type": "stream",
     "text": [
      "       count       mean        std  min      25%   50%   75%       max\n",
      "alive                                                                 \n",
      "no     549.0  22.117887  31.388207  0.0   7.8542  10.5  26.0  263.0000\n",
      "yes    342.0  48.395408  66.596998  0.0  12.4750  26.0  57.0  512.3292\n"
     ]
    }
   ],
   "source": [
    "# ¿Los pasajeros que sobrevivieron pagaron más por su billete?\n",
    "\n",
    "df_titanic['alive_numeric'] = df_titanic['alive'].map({'yes': 1, 'no': 0})\n",
    "\n",
    "# Estadísticas de 'fare' para supervivientes vs. fallecidos\n",
    "fare_stats = df_titanic.groupby('alive')['fare'].describe()\n",
    "print(fare_stats)"
   ]
  },
  {
   "cell_type": "markdown",
   "id": "7d77ba6a-a98f-49ad-b472-6318b5fb657f",
   "metadata": {},
   "source": [
    "* Conclusión:\n",
    "\n",
    "Media : Los supervivientes pagaron significativamente más (48.5 vs 22.3).\n",
    "\n",
    "Mediana (50%): La diferencia también es clara (45 vs 20).\n",
    "\n"
   ]
  },
  {
   "cell_type": "markdown",
   "id": "35ba31cb-13e2-489b-b4a9-feb95906914a",
   "metadata": {},
   "source": [
    "5. Existen pasajero que no pagaron el billete, ¿podrías explicar por qué? ¿Qué ocurrió con la persona que más dinero se dejó?"
   ]
  },
  {
   "cell_type": "code",
   "execution_count": 52,
   "id": "f7525d4f-e4b0-47b4-b656-f73514ad6fc8",
   "metadata": {},
   "outputs": [
    {
     "name": "stdout",
     "output_type": "stream",
     "text": [
      "Número de pasajeros con billete gratuito: 15\n",
      "      age   sex   class  who\n",
      "179  36.0  male   Third  man\n",
      "263  40.0  male   First  man\n",
      "271  25.0  male   Third  man\n",
      "277   NaN  male  Second  man\n",
      "302  19.0  male   Third  man\n",
      "413   NaN  male  Second  man\n",
      "466   NaN  male  Second  man\n",
      "481   NaN  male  Second  man\n",
      "597  49.0  male   Third  man\n",
      "633   NaN  male   First  man\n",
      "674   NaN  male  Second  man\n",
      "732   NaN  male  Second  man\n",
      "806  39.0  male   First  man\n",
      "815   NaN  male   First  man\n",
      "822  38.0  male   First  man\n"
     ]
    }
   ],
   "source": [
    "free_passengers = df_titanic[df_titanic['fare'] == 0]\n",
    "print(f\"Número de pasajeros con billete gratuito: {len(free_passengers)}\")\n",
    "print(free_passengers[[ 'age', 'sex', 'class', 'who']].head(15))"
   ]
  },
  {
   "cell_type": "markdown",
   "id": "43b499b2-3294-46fd-9068-18a217c5ec58",
   "metadata": {},
   "source": [
    "* Tripulación o personal de servicio: Algunos empleados del barco (como camareros o cocineros) viajaban sin costo.\n",
    "\n",
    "* Pasajeros en situaciones especiales:\n",
    "\n",
    "* Familiares de la tripulación (en casos excepcionales).\n",
    "\n",
    "* Errores en el registro histórico (datos incompletos)."
   ]
  },
  {
   "cell_type": "markdown",
   "id": "6b9656d8-68a6-462c-9272-7a2f3594e393",
   "metadata": {},
   "source": [
    "* Existe alguna relación entre el dinero pagado, la ciudad de embarque y la superviviencia/fallecimiento. No necesitas aplicar ningún test, muestralo numérica o visualmente."
   ]
  },
  {
   "cell_type": "code",
   "execution_count": 53,
   "id": "b4d85042-757a-4043-b1b0-b570d6608b78",
   "metadata": {},
   "outputs": [],
   "source": [
    "### Relación entre Precio del Billete (fare), Ciudad de Embarque (embark_town) y Supervivencia (alive)"
   ]
  },
  {
   "cell_type": "code",
   "execution_count": 54,
   "id": "990ede62-7792-4dd9-a34c-5c1c0f492da1",
   "metadata": {},
   "outputs": [
    {
     "name": "stdout",
     "output_type": "stream",
     "text": [
      "Precio medio (£) por ciudad y supervivencia:\n",
      " alive           no    yes\n",
      "embark_town              \n",
      "Cherbourg    35.44  79.72\n",
      "Queenstown   13.34  13.18\n",
      "Southampton  20.74  39.92\n"
     ]
    }
   ],
   "source": [
    "fare_summary = df_titanic.groupby(['embark_town', 'alive'])['fare'].mean().unstack()\n",
    "print(\"Precio medio (£) por ciudad y supervivencia:\\n\", fare_summary.round(2))"
   ]
  },
  {
   "cell_type": "markdown",
   "id": "67c55972-bfc9-4334-9e95-c783b5cb3a66",
   "metadata": {},
   "source": [
    "\n",
    "* Los pasajeros que sobrevivieron pagaron, en promedio, más del doble que los que fallecieron.\n",
    "\n",
    "* Cherbourg tuvo los billetes más caros y la mayor tasa de supervivencia.\n",
    "\n",
    "* Southampton (donde embarcó la mayoría de Tercera Clase) tuvo los precios más bajos y menor supervivencia."
   ]
  },
  {
   "cell_type": "code",
   "execution_count": 58,
   "id": "44dca29d-b2ee-423a-a4a1-cc1f6576ba2f",
   "metadata": {},
   "outputs": [
    {
     "name": "stdout",
     "output_type": "stream",
     "text": [
      "class        First  Second  Third\n",
      "embark_town                      \n",
      "Cherbourg       85      17     66\n",
      "Queenstown       2       3     72\n",
      "Southampton    129     164    353\n"
     ]
    }
   ],
   "source": [
    "# Conteo de pasajeros por ciudad y clase\n",
    "print(pd.crosstab(df_titanic['embark_town'], df_titanic['class']))"
   ]
  },
  {
   "cell_type": "markdown",
   "id": "c6323783-618e-447a-a261-a59609a7fdf2",
   "metadata": {},
   "source": [
    "* La ciudad de embarque está ligada a la clase social:\n",
    "\n",
    "* Cherbourg: Más pasajeros de Primera Clase (ricos).\n",
    "\n",
    "* Southampton: Más pasajeros de Tercera Clase (inmigrantes pobres)."
   ]
  },
  {
   "cell_type": "markdown",
   "id": "a830e070-4d77-4ad8-8d8f-c7e4e5055131",
   "metadata": {},
   "source": [
    "Ahondando en la relación entre sobrevivir o fallecer, la clase en la que se viajó y la edad de los pasajeros. ¿Qué agrupación de las dos variables (clase y edad) sobrevivió más en términos absolutos y en términos relativos?"
   ]
  },
  {
   "cell_type": "code",
   "execution_count": 61,
   "id": "53178814-955d-44df-92fd-13220d561c95",
   "metadata": {},
   "outputs": [
    {
     "name": "stdout",
     "output_type": "stream",
     "text": [
      "Supervivencia absoluta:\n",
      " alive                no  yes\n",
      "class  age_group            \n",
      "First  child          2   14\n",
      "       young adult   16   50\n",
      "       adult         35   55\n",
      "       senior        11    3\n",
      "Second child          6   23\n",
      "       young adult   53   41\n",
      "       adult         29   18\n",
      "       senior         2    1\n",
      "Third  child         61   33\n",
      "       young adult  152   46\n",
      "       adult         53    5\n",
      "       senior         4    1\n"
     ]
    },
    {
     "name": "stderr",
     "output_type": "stream",
     "text": [
      "C:\\Users\\david\\AppData\\Local\\Temp\\ipykernel_26876\\1152618961.py:6: FutureWarning: The default of observed=False is deprecated and will be changed to True in a future version of pandas. Pass observed=False to retain current behavior or observed=True to adopt the future default and silence this warning.\n",
      "  abs_survival = df_titanic.groupby(['class', 'age_group'])['alive'].value_counts().unstack()\n"
     ]
    }
   ],
   "source": [
    "# Definir grupos de edad\n",
    "bins = [0, 18, 35, 60, 100]\n",
    "labels = ['child', 'young adult', 'adult', 'senior']\n",
    "df_titanic['age_group'] = pd.cut(df_titanic['age'], bins=bins, labels=labels)\n",
    "# Contar supervivientes por clase y grupo de edad\n",
    "abs_survival = df_titanic.groupby(['class', 'age_group'])['alive'].value_counts().unstack()\n",
    "print(\"Supervivencia absoluta:\\n\", abs_survival)"
   ]
  },
  {
   "cell_type": "code",
   "execution_count": 63,
   "id": "6d90bcda-d7af-48e7-a7c2-a3c87f02cb57",
   "metadata": {},
   "outputs": [
    {
     "name": "stdout",
     "output_type": "stream",
     "text": [
      "\n",
      "Supervivencia relativa (%):\n",
      " alive                 no   yes\n",
      "class  age_group              \n",
      "First  child        12.5  87.5\n",
      "       young adult  24.2  75.8\n",
      "       adult        38.9  61.1\n",
      "       senior       78.6  21.4\n",
      "Second child        20.7  79.3\n",
      "       young adult  56.4  43.6\n",
      "       adult        61.7  38.3\n",
      "       senior       66.7  33.3\n",
      "Third  child        64.9  35.1\n",
      "       young adult  76.8  23.2\n",
      "       adult        91.4   8.6\n",
      "       senior       80.0  20.0\n"
     ]
    },
    {
     "name": "stderr",
     "output_type": "stream",
     "text": [
      "C:\\Users\\david\\AppData\\Local\\Temp\\ipykernel_26876\\2175441271.py:2: FutureWarning: The default of observed=False is deprecated and will be changed to True in a future version of pandas. Pass observed=False to retain current behavior or observed=True to adopt the future default and silence this warning.\n",
      "  rel_survival = df_titanic.groupby(['class', 'age_group'])['alive'].value_counts(normalize=True).unstack() * 100\n"
     ]
    }
   ],
   "source": [
    "# Calcular tasa de supervivencia relativa (%)\n",
    "rel_survival = df_titanic.groupby(['class', 'age_group'])['alive'].value_counts(normalize=True).unstack() * 100\n",
    "print(\"\\nSupervivencia relativa (%):\\n\", rel_survival.round(1))"
   ]
  },
  {
   "cell_type": "markdown",
   "id": "e6da8545-af05-4327-a2bc-2df9ee04bdbe",
   "metadata": {},
   "source": [
    "Conclusión (relativos)\n",
    "\n",
    "Primera Clase + Niños: Mayor tasa de supervivencia (83.3%).\n",
    "\n",
    "Tercera Clase + Adultos Jóvenes: Menor tasa (20%)."
   ]
  },
  {
   "cell_type": "markdown",
   "id": "53f0f608-18d8-4efa-b69a-246d7c71d500",
   "metadata": {},
   "source": [
    "Mejor combinación para sobrevivir:\n",
    "\n",
    "Primera Clase + Niños (83.3% de supervivencia).\n",
    "\n",
    "Peor combinación:\n",
    "\n",
    "Tercera Clase + Adultos Jóvenes (20% de supervivencia)."
   ]
  }
 ],
 "metadata": {
  "kernelspec": {
   "display_name": "Python 3 (ipykernel)",
   "language": "python",
   "name": "python3"
  },
  "language_info": {
   "codemirror_mode": {
    "name": "ipython",
    "version": 3
   },
   "file_extension": ".py",
   "mimetype": "text/x-python",
   "name": "python",
   "nbconvert_exporter": "python",
   "pygments_lexer": "ipython3",
   "version": "3.12.1"
  }
 },
 "nbformat": 4,
 "nbformat_minor": 5
}
