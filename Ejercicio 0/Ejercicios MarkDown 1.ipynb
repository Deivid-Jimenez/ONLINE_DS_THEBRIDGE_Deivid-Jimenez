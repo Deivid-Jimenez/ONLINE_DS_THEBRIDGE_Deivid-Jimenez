{
 "cells": [
  {
   "cell_type": "markdown",
   "id": "b5e63316-1f37-4df2-b3a5-ef951afc2232",
   "metadata": {},
   "source": [
    "# CIENCIA DE DATOS #\n",
    "## Introducción ##\n",
    "### Herramientas ###"
   ]
  },
  {
   "cell_type": "markdown",
   "id": "d10bf17a-0e87-4f71-8cc7-becddbae33ca",
   "metadata": {},
   "source": [
    "**MarkDown**\n",
    "\n",
    "*Jupyter*\n",
    "\n",
    "***Python***"
   ]
  },
  {
   "cell_type": "markdown",
   "id": "1904ab90-d76f-4938-ad75-1cd70227a98b",
   "metadata": {},
   "source": [
    "<span style=\"background-color: yellow;\">resaltado</span>\n",
    "\n",
    "<span style=\"color: blue;\">color</span>"
   ]
  },
  {
   "cell_type": "markdown",
   "id": "d7fa9458-de09-4039-a13d-7e7a7f58163e",
   "metadata": {
    "scrolled": true
   },
   "source": [
    ">La Ciencia de Datos es el petróleo del siglo XXI.\n",
    ">>La Ciencia de Datos es el petróleo del siglo XXI."
   ]
  },
  {
   "cell_type": "markdown",
   "id": "af309613-fa95-4f4c-af7e-416c5a0257d7",
   "metadata": {},
   "source": [
    "## Curso MarkDown ##\n",
    "\n",
    "**Importante**\n",
    "\n",
    ">>Aprender es crecer\n",
    "\n",
    "<span style=\"background-color: green;\"><em>>ejemplo</em><span>"
   ]
  }
 ],
 "metadata": {
  "kernelspec": {
   "display_name": "Python 3 (ipykernel)",
   "language": "python",
   "name": "python3"
  },
  "language_info": {
   "codemirror_mode": {
    "name": "ipython",
    "version": 3
   },
   "file_extension": ".py",
   "mimetype": "text/x-python",
   "name": "python",
   "nbconvert_exporter": "python",
   "pygments_lexer": "ipython3",
   "version": "3.12.1"
  }
 },
 "nbformat": 4,
 "nbformat_minor": 5
}
