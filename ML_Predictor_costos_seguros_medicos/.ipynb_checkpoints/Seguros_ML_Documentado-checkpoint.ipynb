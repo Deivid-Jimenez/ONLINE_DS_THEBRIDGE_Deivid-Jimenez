{
 "cells": [
  {
   "cell_type": "markdown",
   "id": "f23a3057-4bfd-4c9f-a9b9-4aabf605fea1",
   "metadata": {},
   "source": [
    "## Medical Insurance Cost Prediction using Machine Learning ##"
   ]
  },
  {
   "cell_type": "markdown",
   "id": "36691b96",
   "metadata": {},
   "source": [
    "### 🔍 Explicación de la siguiente celda de código:\n",
    "*(Por favor, personaliza esta descripción según el objetivo específico del bloque de código que sigue.)*\n"
   ]
  },
  {
   "cell_type": "code",
   "execution_count": 45,
   "id": "60ffe667-828c-4d91-9e0e-c52f8400351d",
   "metadata": {},
   "outputs": [],
   "source": [
    "import numpy as np\n",
    "import pandas as pd\n",
    "import matplotlib.pyplot as plt\n",
    "import seaborn as sns\n",
    "from sklearn.model_selection import train_test_split\n",
    "from sklearn.linear_model import LinearRegression\n",
    "from sklearn import metrics"
   ]
  },
  {
   "cell_type": "markdown",
   "id": "d2f12f3b",
   "metadata": {},
   "source": [
    "### 🔍 Explicación de la siguiente celda de código:\n",
    "*(Por favor, personaliza esta descripción según el objetivo específico del bloque de código que sigue.)*\n"
   ]
  },
  {
   "cell_type": "code",
   "execution_count": 46,
   "id": "679273ef-2709-4b58-8191-a75a1bb55c17",
   "metadata": {},
   "outputs": [],
   "source": [
    "### Obtención y carga e los datos"
   ]
  },
  {
   "cell_type": "markdown",
   "id": "4995f8d6",
   "metadata": {},
   "source": [
    "### 🔍 Explicación de la siguiente celda de código:\n",
    "*(Por favor, personaliza esta descripción según el objetivo específico del bloque de código que sigue.)*\n"
   ]
  },
  {
   "cell_type": "code",
   "execution_count": 47,
   "id": "4f731ccd-0031-4da5-b812-024c50083688",
   "metadata": {},
   "outputs": [],
   "source": [
    "insurance_data = pd.read_csv('./data/insurance.csv')"
   ]
  },
  {
   "cell_type": "markdown",
   "id": "6b0e4069",
   "metadata": {},
   "source": [
    "### 🔍 Explicación de la siguiente celda de código:\n",
    "*(Por favor, personaliza esta descripción según el objetivo específico del bloque de código que sigue.)*\n"
   ]
  },
  {
   "cell_type": "code",
   "execution_count": 48,
   "id": "710c0df1-b766-425a-88ad-fbd1515a9d7c",
   "metadata": {},
   "outputs": [
    {
     "data": {
      "text/plain": [
       "Index(['age', 'sex', 'bmi', 'children', 'smoker', 'region', 'charges'], dtype='object')"
      ]
     },
     "execution_count": 48,
     "metadata": {},
     "output_type": "execute_result"
    }
   ],
   "source": [
    "### Muestreo del dataset\n",
    "insurance_data.columns\n"
   ]
  },
  {
   "cell_type": "markdown",
   "id": "7341963f",
   "metadata": {},
   "source": [
    "### 🔍 Explicación de la siguiente celda de código:\n",
    "*(Por favor, personaliza esta descripción según el objetivo específico del bloque de código que sigue.)*\n"
   ]
  },
  {
   "cell_type": "code",
   "execution_count": 49,
   "id": "6705e5cd-0e78-41bd-9a08-288e4be435a0",
   "metadata": {},
   "outputs": [
    {
     "data": {
      "text/html": [
       "<div>\n",
       "<style scoped>\n",
       "    .dataframe tbody tr th:only-of-type {\n",
       "        vertical-align: middle;\n",
       "    }\n",
       "\n",
       "    .dataframe tbody tr th {\n",
       "        vertical-align: top;\n",
       "    }\n",
       "\n",
       "    .dataframe thead th {\n",
       "        text-align: right;\n",
       "    }\n",
       "</style>\n",
       "<table border=\"1\" class=\"dataframe\">\n",
       "  <thead>\n",
       "    <tr style=\"text-align: right;\">\n",
       "      <th></th>\n",
       "      <th>age</th>\n",
       "      <th>sex</th>\n",
       "      <th>bmi</th>\n",
       "      <th>children</th>\n",
       "      <th>smoker</th>\n",
       "      <th>region</th>\n",
       "      <th>charges</th>\n",
       "    </tr>\n",
       "  </thead>\n",
       "  <tbody>\n",
       "    <tr>\n",
       "      <th>0</th>\n",
       "      <td>19</td>\n",
       "      <td>female</td>\n",
       "      <td>27.900</td>\n",
       "      <td>0</td>\n",
       "      <td>yes</td>\n",
       "      <td>southwest</td>\n",
       "      <td>16884.92400</td>\n",
       "    </tr>\n",
       "    <tr>\n",
       "      <th>1</th>\n",
       "      <td>18</td>\n",
       "      <td>male</td>\n",
       "      <td>33.770</td>\n",
       "      <td>1</td>\n",
       "      <td>no</td>\n",
       "      <td>southeast</td>\n",
       "      <td>1725.55230</td>\n",
       "    </tr>\n",
       "    <tr>\n",
       "      <th>2</th>\n",
       "      <td>28</td>\n",
       "      <td>male</td>\n",
       "      <td>33.000</td>\n",
       "      <td>3</td>\n",
       "      <td>no</td>\n",
       "      <td>southeast</td>\n",
       "      <td>4449.46200</td>\n",
       "    </tr>\n",
       "    <tr>\n",
       "      <th>3</th>\n",
       "      <td>33</td>\n",
       "      <td>male</td>\n",
       "      <td>22.705</td>\n",
       "      <td>0</td>\n",
       "      <td>no</td>\n",
       "      <td>northwest</td>\n",
       "      <td>21984.47061</td>\n",
       "    </tr>\n",
       "    <tr>\n",
       "      <th>4</th>\n",
       "      <td>32</td>\n",
       "      <td>male</td>\n",
       "      <td>28.880</td>\n",
       "      <td>0</td>\n",
       "      <td>no</td>\n",
       "      <td>northwest</td>\n",
       "      <td>3866.85520</td>\n",
       "    </tr>\n",
       "  </tbody>\n",
       "</table>\n",
       "</div>"
      ],
      "text/plain": [
       "   age     sex     bmi  children smoker     region      charges\n",
       "0   19  female  27.900         0    yes  southwest  16884.92400\n",
       "1   18    male  33.770         1     no  southeast   1725.55230\n",
       "2   28    male  33.000         3     no  southeast   4449.46200\n",
       "3   33    male  22.705         0     no  northwest  21984.47061\n",
       "4   32    male  28.880         0     no  northwest   3866.85520"
      ]
     },
     "execution_count": 49,
     "metadata": {},
     "output_type": "execute_result"
    }
   ],
   "source": [
    "insurance_data.head()"
   ]
  },
  {
   "cell_type": "markdown",
   "id": "eb1fccc7",
   "metadata": {},
   "source": [
    "### 🔍 Explicación de la siguiente celda de código:\n",
    "*(Por favor, personaliza esta descripción según el objetivo específico del bloque de código que sigue.)*\n"
   ]
  },
  {
   "cell_type": "code",
   "execution_count": 50,
   "id": "1ce2e1e9-dcda-45dc-b037-250f3196f905",
   "metadata": {},
   "outputs": [
    {
     "data": {
      "text/plain": [
       "(1338, 7)"
      ]
     },
     "execution_count": 50,
     "metadata": {},
     "output_type": "execute_result"
    }
   ],
   "source": [
    "### Numero de filas y de columnas\n",
    "\n",
    "insurance_data.shape"
   ]
  },
  {
   "cell_type": "markdown",
   "id": "ab1ff610",
   "metadata": {},
   "source": [
    "### 🔍 Explicación de la siguiente celda de código:\n",
    "*(Por favor, personaliza esta descripción según el objetivo específico del bloque de código que sigue.)*\n"
   ]
  },
  {
   "cell_type": "code",
   "execution_count": 51,
   "id": "27620dbe-25c7-4670-b1aa-a3e6731d99ce",
   "metadata": {},
   "outputs": [
    {
     "name": "stdout",
     "output_type": "stream",
     "text": [
      "<class 'pandas.core.frame.DataFrame'>\n",
      "RangeIndex: 1338 entries, 0 to 1337\n",
      "Data columns (total 7 columns):\n",
      " #   Column    Non-Null Count  Dtype  \n",
      "---  ------    --------------  -----  \n",
      " 0   age       1338 non-null   int64  \n",
      " 1   sex       1338 non-null   object \n",
      " 2   bmi       1338 non-null   float64\n",
      " 3   children  1338 non-null   int64  \n",
      " 4   smoker    1338 non-null   object \n",
      " 5   region    1338 non-null   object \n",
      " 6   charges   1338 non-null   float64\n",
      "dtypes: float64(2), int64(2), object(3)\n",
      "memory usage: 73.3+ KB\n"
     ]
    }
   ],
   "source": [
    "insurance_data.info()"
   ]
  },
  {
   "cell_type": "markdown",
   "id": "293fe39d",
   "metadata": {},
   "source": [
    "### 🔍 Explicación de la siguiente celda de código:\n",
    "*(Por favor, personaliza esta descripción según el objetivo específico del bloque de código que sigue.)*\n"
   ]
  },
  {
   "cell_type": "code",
   "execution_count": 52,
   "id": "cbc38510-0a29-4699-aac0-afaaf5520db9",
   "metadata": {},
   "outputs": [],
   "source": [
    "df_insurance = pd.DataFrame(insurance_data)"
   ]
  },
  {
   "cell_type": "markdown",
   "id": "c8b9ccdc",
   "metadata": {},
   "source": [
    "### 🔍 Explicación de la siguiente celda de código:\n",
    "*(Por favor, personaliza esta descripción según el objetivo específico del bloque de código que sigue.)*\n"
   ]
  },
  {
   "cell_type": "code",
   "execution_count": 53,
   "id": "48684ddd-b14f-4c76-900a-3def4fbb8629",
   "metadata": {},
   "outputs": [],
   "source": [
    "### Insertamos un par de funciones hechas en clase para profundizar en la exploración del DataSet\n",
    "\n",
    "def describe_df(df:pd.DataFrame):\n",
    "    '''\n",
    "    Resume las principales características de cada variable de un dataframe dado, tales como tipo, valores nulos y cardinalidad. \n",
    "\n",
    "    Argumentos:\n",
    "    df: (DataFrame): DataFrame que se pretende analizar\n",
    "\n",
    "    Retorna:\n",
    "    DataFrame: Retorna un DataFrame cuyo índice son las variables del DataFrame a analizar, y las columnas los parámetros analizados.\n",
    "    \n",
    "    Por cada variable, devuelve:\n",
    "    DATA_TYPE (str): Tipo de dato.\n",
    "    MISSINGS(%) (float): Porcentaje de valores nulos.\n",
    "    UNIQUE_VALUES (int): Número de valores únicos.\n",
    "    CARDIN(%) (float): Porcentaje de cardinalidad.\n",
    "    '''\n",
    "    \n",
    "    df_var = pd.DataFrame(index=pd.Index([], name='COL_N'))\n",
    "    for variable in df.columns:\n",
    "        df_var.loc['DATA_TYPE', variable]    = df[variable].dtype\n",
    "        df_var.loc['MISSINGS (%)', variable] = round(df[variable].isnull().sum()/len(df[variable]), 2)\n",
    "        \n",
    "        cardinalidad = df[variable].nunique()\n",
    "        porc_card = round(df[variable].nunique()/len(df)*100, 2)\n",
    "                \n",
    "        df_var.loc['UNIQUE_VALUES', variable] = cardinalidad\n",
    "        df_var.loc['CARDIN (%)', variable]    = porc_card\n",
    "    \n",
    "    df_var = df_var.reset_index()\n",
    "    df_var.index = pd.Index(np.full((1,len(df_var)),'')[0]) \n",
    "\n",
    "    return df_var"
   ]
  },
  {
   "cell_type": "markdown",
   "id": "aa8ab50e",
   "metadata": {},
   "source": [
    "### 🔍 Explicación de la siguiente celda de código:\n",
    "*(Por favor, personaliza esta descripción según el objetivo específico del bloque de código que sigue.)*\n"
   ]
  },
  {
   "cell_type": "code",
   "execution_count": 54,
   "id": "3fab188b-5293-405e-8644-2d18701c606e",
   "metadata": {},
   "outputs": [
    {
     "data": {
      "text/html": [
       "<div>\n",
       "<style scoped>\n",
       "    .dataframe tbody tr th:only-of-type {\n",
       "        vertical-align: middle;\n",
       "    }\n",
       "\n",
       "    .dataframe tbody tr th {\n",
       "        vertical-align: top;\n",
       "    }\n",
       "\n",
       "    .dataframe thead th {\n",
       "        text-align: right;\n",
       "    }\n",
       "</style>\n",
       "<table border=\"1\" class=\"dataframe\">\n",
       "  <thead>\n",
       "    <tr style=\"text-align: right;\">\n",
       "      <th></th>\n",
       "      <th>COL_N</th>\n",
       "      <th>age</th>\n",
       "      <th>sex</th>\n",
       "      <th>bmi</th>\n",
       "      <th>children</th>\n",
       "      <th>smoker</th>\n",
       "      <th>region</th>\n",
       "      <th>charges</th>\n",
       "    </tr>\n",
       "  </thead>\n",
       "  <tbody>\n",
       "    <tr>\n",
       "      <th></th>\n",
       "      <td>DATA_TYPE</td>\n",
       "      <td>int64</td>\n",
       "      <td>object</td>\n",
       "      <td>float64</td>\n",
       "      <td>int64</td>\n",
       "      <td>object</td>\n",
       "      <td>object</td>\n",
       "      <td>float64</td>\n",
       "    </tr>\n",
       "    <tr>\n",
       "      <th></th>\n",
       "      <td>MISSINGS (%)</td>\n",
       "      <td>0.0</td>\n",
       "      <td>0.0</td>\n",
       "      <td>0.0</td>\n",
       "      <td>0.0</td>\n",
       "      <td>0.0</td>\n",
       "      <td>0.0</td>\n",
       "      <td>0.0</td>\n",
       "    </tr>\n",
       "    <tr>\n",
       "      <th></th>\n",
       "      <td>UNIQUE_VALUES</td>\n",
       "      <td>47</td>\n",
       "      <td>2</td>\n",
       "      <td>548</td>\n",
       "      <td>6</td>\n",
       "      <td>2</td>\n",
       "      <td>4</td>\n",
       "      <td>1337</td>\n",
       "    </tr>\n",
       "    <tr>\n",
       "      <th></th>\n",
       "      <td>CARDIN (%)</td>\n",
       "      <td>3.51</td>\n",
       "      <td>0.15</td>\n",
       "      <td>40.96</td>\n",
       "      <td>0.45</td>\n",
       "      <td>0.15</td>\n",
       "      <td>0.3</td>\n",
       "      <td>99.93</td>\n",
       "    </tr>\n",
       "  </tbody>\n",
       "</table>\n",
       "</div>"
      ],
      "text/plain": [
       "          COL_N    age     sex      bmi children  smoker  region  charges\n",
       "      DATA_TYPE  int64  object  float64    int64  object  object  float64\n",
       "   MISSINGS (%)    0.0     0.0      0.0      0.0     0.0     0.0      0.0\n",
       "  UNIQUE_VALUES     47       2      548        6       2       4     1337\n",
       "     CARDIN (%)   3.51    0.15    40.96     0.45    0.15     0.3    99.93"
      ]
     },
     "execution_count": 54,
     "metadata": {},
     "output_type": "execute_result"
    }
   ],
   "source": [
    "describe_df(df_insurance)"
   ]
  },
  {
   "cell_type": "markdown",
   "id": "512ea1d2",
   "metadata": {},
   "source": [
    "### 🔍 Explicación de la siguiente celda de código:\n",
    "*(Por favor, personaliza esta descripción según el objetivo específico del bloque de código que sigue.)*\n"
   ]
  },
  {
   "cell_type": "code",
   "execution_count": 55,
   "id": "bdf8b055-a470-4013-849d-bcecbe1f4381",
   "metadata": {},
   "outputs": [],
   "source": [
    "def tipifica_variables(df:pd.DataFrame, umbral_categoria:int, umbral_continua:float):\n",
    "    '''\n",
    "    Sugiere el tipo categórico de cada variable de un dataframe en función del número máximo de categorías a considerar y \n",
    "    del porcentaje de cardinalidad dado como umbral para considerar una variable numérica como continua.\n",
    "\n",
    "    Argumentos:\n",
    "    umbral_categoria (int): Número máximo de categorías a considerar por variable\n",
    "    umbral_continua (float): Porcentaje de cardinalidad a partir del cuál se considerará una variable como continua\n",
    "\n",
    "    Retorna:\n",
    "    DataFrame: Retorna un DataFrame cuyas columnas son las variables del DataFrame a analizar, y el índice los parámetros analizados.\n",
    "\n",
    "    NOMBRE_VARIABLE (str): Variable del dataframe dado.\n",
    "    TIPO_SUGERIDO (str): Sugerencia sobre el tipo de variable a analizar: 'Binaria', 'Categórica', 'Numérica discreta', 'Numérica continua'. \n",
    "    '''\n",
    "\n",
    "    df = describe_df(df).set_index('COL_N').T\n",
    "    \n",
    "    df.loc[(df.UNIQUE_VALUES >= umbral_categoria) & (df['CARDIN (%)'] > umbral_continua), 'TIPO_SUGERIDO'] = 'Numérica continua'\n",
    "    df.loc[(df.UNIQUE_VALUES >= umbral_categoria) & (df['CARDIN (%)'] < umbral_continua), 'TIPO_SUGERIDO'] = 'Numérica discreta'\n",
    "    df.loc[df.UNIQUE_VALUES < umbral_categoria, 'TIPO_SUGERIDO'] = 'Categórica'\n",
    "    df.loc[df.UNIQUE_VALUES == 2, 'TIPO_SUGERIDO'] = 'Binaria'\n",
    "\n",
    "    return pd.DataFrame([df.index, df.TIPO_SUGERIDO]).T.rename(columns = {0: \"nombre_variable\", 1: \"tipo_sugerido\"})"
   ]
  },
  {
   "cell_type": "markdown",
   "id": "91ead348",
   "metadata": {},
   "source": [
    "### 🔍 Explicación de la siguiente celda de código:\n",
    "*(Por favor, personaliza esta descripción según el objetivo específico del bloque de código que sigue.)*\n"
   ]
  },
  {
   "cell_type": "code",
   "execution_count": 56,
   "id": "8c030cd6-bc5d-4326-b6d6-966b91239690",
   "metadata": {},
   "outputs": [
    {
     "data": {
      "text/html": [
       "<div>\n",
       "<style scoped>\n",
       "    .dataframe tbody tr th:only-of-type {\n",
       "        vertical-align: middle;\n",
       "    }\n",
       "\n",
       "    .dataframe tbody tr th {\n",
       "        vertical-align: top;\n",
       "    }\n",
       "\n",
       "    .dataframe thead th {\n",
       "        text-align: right;\n",
       "    }\n",
       "</style>\n",
       "<table border=\"1\" class=\"dataframe\">\n",
       "  <thead>\n",
       "    <tr style=\"text-align: right;\">\n",
       "      <th></th>\n",
       "      <th>nombre_variable</th>\n",
       "      <th>tipo_sugerido</th>\n",
       "    </tr>\n",
       "  </thead>\n",
       "  <tbody>\n",
       "    <tr>\n",
       "      <th>0</th>\n",
       "      <td>age</td>\n",
       "      <td>Numérica discreta</td>\n",
       "    </tr>\n",
       "    <tr>\n",
       "      <th>1</th>\n",
       "      <td>sex</td>\n",
       "      <td>Binaria</td>\n",
       "    </tr>\n",
       "    <tr>\n",
       "      <th>2</th>\n",
       "      <td>bmi</td>\n",
       "      <td>Numérica continua</td>\n",
       "    </tr>\n",
       "    <tr>\n",
       "      <th>3</th>\n",
       "      <td>children</td>\n",
       "      <td>Categórica</td>\n",
       "    </tr>\n",
       "    <tr>\n",
       "      <th>4</th>\n",
       "      <td>smoker</td>\n",
       "      <td>Binaria</td>\n",
       "    </tr>\n",
       "    <tr>\n",
       "      <th>5</th>\n",
       "      <td>region</td>\n",
       "      <td>Categórica</td>\n",
       "    </tr>\n",
       "    <tr>\n",
       "      <th>6</th>\n",
       "      <td>charges</td>\n",
       "      <td>Numérica continua</td>\n",
       "    </tr>\n",
       "  </tbody>\n",
       "</table>\n",
       "</div>"
      ],
      "text/plain": [
       "  nombre_variable      tipo_sugerido\n",
       "0             age  Numérica discreta\n",
       "1             sex            Binaria\n",
       "2             bmi  Numérica continua\n",
       "3        children         Categórica\n",
       "4          smoker            Binaria\n",
       "5          region         Categórica\n",
       "6         charges  Numérica continua"
      ]
     },
     "execution_count": 56,
     "metadata": {},
     "output_type": "execute_result"
    }
   ],
   "source": [
    "tipifica_variables(df_insurance, 7 ,25)"
   ]
  },
  {
   "cell_type": "markdown",
   "id": "c3c8bea9",
   "metadata": {},
   "source": [
    "### 🔍 Explicación de la siguiente celda de código:\n",
    "*(Por favor, personaliza esta descripción según el objetivo específico del bloque de código que sigue.)*\n"
   ]
  },
  {
   "cell_type": "code",
   "execution_count": 57,
   "id": "bf3a2f0e-f833-47bd-bf31-b8396f5c3c60",
   "metadata": {},
   "outputs": [],
   "source": [
    "def categoriza_variables(df:pd.DataFrame, umbral_categoria:int, umbral_continua:float):\n",
    "    df_var = pd.DataFrame(df.columns, columns=['Features'])\n",
    "    for variable in df.columns:\n",
    "        df_var.loc[df_var.Features == variable, 'Data_type'] = df[variable].dtype\n",
    "        df_var.loc[df_var.Features == variable, '%_Missings'] = round(df[variable].isnull().sum()/len(df[variable]), 2)\n",
    "        df_var.loc[df_var.Features == variable, 'Unique_values'] = df[variable].nunique()\n",
    "        df_var.loc[df_var.Features == variable, '%-Cardinalidad'] = round(df[variable].nunique()/len(df)*100, 2)\n",
    "\n",
    "        df_var.loc[(df_var.Unique_values >= umbral_categoria) & (df_var['%-Cardinalidad'] > umbral_continua), 'Tipo_sugerido'] = 'Numérica continua'\n",
    "        df_var.loc[(df_var.Unique_values >= umbral_categoria) & (df_var['%-Cardinalidad'] < umbral_continua), 'Tipo_sugerido'] = 'Numérica discreta'\n",
    "        df_var.loc[df_var.Unique_values < umbral_categoria, 'Tipo_sugerido'] = 'Categórica'\n",
    "        df_var.loc[df_var.Unique_values == 2, 'Tipo_sugerido'] = 'Categorica'\n",
    "    \n",
    "    return df_var"
   ]
  },
  {
   "cell_type": "markdown",
   "id": "689c3b83",
   "metadata": {},
   "source": [
    "### 🔍 Explicación de la siguiente celda de código:\n",
    "*(Por favor, personaliza esta descripción según el objetivo específico del bloque de código que sigue.)*\n"
   ]
  },
  {
   "cell_type": "code",
   "execution_count": 58,
   "id": "f660ee37-9a7d-4d9b-a448-d876015ed4f4",
   "metadata": {},
   "outputs": [
    {
     "data": {
      "text/html": [
       "<div>\n",
       "<style scoped>\n",
       "    .dataframe tbody tr th:only-of-type {\n",
       "        vertical-align: middle;\n",
       "    }\n",
       "\n",
       "    .dataframe tbody tr th {\n",
       "        vertical-align: top;\n",
       "    }\n",
       "\n",
       "    .dataframe thead th {\n",
       "        text-align: right;\n",
       "    }\n",
       "</style>\n",
       "<table border=\"1\" class=\"dataframe\">\n",
       "  <thead>\n",
       "    <tr style=\"text-align: right;\">\n",
       "      <th></th>\n",
       "      <th>Features</th>\n",
       "      <th>Data_type</th>\n",
       "      <th>%_Missings</th>\n",
       "      <th>Unique_values</th>\n",
       "      <th>%-Cardinalidad</th>\n",
       "      <th>Tipo_sugerido</th>\n",
       "    </tr>\n",
       "  </thead>\n",
       "  <tbody>\n",
       "    <tr>\n",
       "      <th>0</th>\n",
       "      <td>age</td>\n",
       "      <td>int64</td>\n",
       "      <td>0.0</td>\n",
       "      <td>47.0</td>\n",
       "      <td>3.51</td>\n",
       "      <td>Numérica discreta</td>\n",
       "    </tr>\n",
       "    <tr>\n",
       "      <th>1</th>\n",
       "      <td>sex</td>\n",
       "      <td>object</td>\n",
       "      <td>0.0</td>\n",
       "      <td>2.0</td>\n",
       "      <td>0.15</td>\n",
       "      <td>Categorica</td>\n",
       "    </tr>\n",
       "    <tr>\n",
       "      <th>2</th>\n",
       "      <td>bmi</td>\n",
       "      <td>float64</td>\n",
       "      <td>0.0</td>\n",
       "      <td>548.0</td>\n",
       "      <td>40.96</td>\n",
       "      <td>Numérica continua</td>\n",
       "    </tr>\n",
       "    <tr>\n",
       "      <th>3</th>\n",
       "      <td>children</td>\n",
       "      <td>int64</td>\n",
       "      <td>0.0</td>\n",
       "      <td>6.0</td>\n",
       "      <td>0.45</td>\n",
       "      <td>Categórica</td>\n",
       "    </tr>\n",
       "    <tr>\n",
       "      <th>4</th>\n",
       "      <td>smoker</td>\n",
       "      <td>object</td>\n",
       "      <td>0.0</td>\n",
       "      <td>2.0</td>\n",
       "      <td>0.15</td>\n",
       "      <td>Categorica</td>\n",
       "    </tr>\n",
       "    <tr>\n",
       "      <th>5</th>\n",
       "      <td>region</td>\n",
       "      <td>object</td>\n",
       "      <td>0.0</td>\n",
       "      <td>4.0</td>\n",
       "      <td>0.30</td>\n",
       "      <td>Categórica</td>\n",
       "    </tr>\n",
       "    <tr>\n",
       "      <th>6</th>\n",
       "      <td>charges</td>\n",
       "      <td>float64</td>\n",
       "      <td>0.0</td>\n",
       "      <td>1337.0</td>\n",
       "      <td>99.93</td>\n",
       "      <td>Numérica continua</td>\n",
       "    </tr>\n",
       "  </tbody>\n",
       "</table>\n",
       "</div>"
      ],
      "text/plain": [
       "   Features Data_type  %_Missings  Unique_values  %-Cardinalidad  \\\n",
       "0       age     int64         0.0           47.0            3.51   \n",
       "1       sex    object         0.0            2.0            0.15   \n",
       "2       bmi   float64         0.0          548.0           40.96   \n",
       "3  children     int64         0.0            6.0            0.45   \n",
       "4    smoker    object         0.0            2.0            0.15   \n",
       "5    region    object         0.0            4.0            0.30   \n",
       "6   charges   float64         0.0         1337.0           99.93   \n",
       "\n",
       "       Tipo_sugerido  \n",
       "0  Numérica discreta  \n",
       "1         Categorica  \n",
       "2  Numérica continua  \n",
       "3         Categórica  \n",
       "4         Categorica  \n",
       "5         Categórica  \n",
       "6  Numérica continua  "
      ]
     },
     "execution_count": 58,
     "metadata": {},
     "output_type": "execute_result"
    }
   ],
   "source": [
    "categoriza_variables (df_insurance,7,30)"
   ]
  },
  {
   "cell_type": "markdown",
   "id": "d5c1046b",
   "metadata": {},
   "source": [
    "### 🔍 Explicación de la siguiente celda de código:\n",
    "*(Por favor, personaliza esta descripción según el objetivo específico del bloque de código que sigue.)*\n"
   ]
  },
  {
   "cell_type": "code",
   "execution_count": 59,
   "id": "227325cb-0e0a-4000-bc53-a8e61757e3c1",
   "metadata": {},
   "outputs": [],
   "source": [
    "#### Ahora que hemos analizado las features y hemos comrpobado que no hay missing values pasamos a la parte del análisis de los datos"
   ]
  },
  {
   "cell_type": "markdown",
   "id": "be79e29c",
   "metadata": {},
   "source": [
    "### 🔍 Explicación de la siguiente celda de código:\n",
    "*(Por favor, personaliza esta descripción según el objetivo específico del bloque de código que sigue.)*\n"
   ]
  },
  {
   "cell_type": "code",
   "execution_count": 60,
   "id": "4eb51499-01b3-4cc4-9298-9d6cfd60bc15",
   "metadata": {},
   "outputs": [],
   "source": [
    "### Data Analysis\n"
   ]
  },
  {
   "cell_type": "markdown",
   "id": "ca179e03",
   "metadata": {},
   "source": [
    "### 🔍 Explicación de la siguiente celda de código:\n",
    "*(Por favor, personaliza esta descripción según el objetivo específico del bloque de código que sigue.)*\n"
   ]
  },
  {
   "cell_type": "code",
   "execution_count": 61,
   "id": "a5348976-be28-4f29-a659-a3bdaeece8dd",
   "metadata": {},
   "outputs": [
    {
     "data": {
      "text/html": [
       "<div>\n",
       "<style scoped>\n",
       "    .dataframe tbody tr th:only-of-type {\n",
       "        vertical-align: middle;\n",
       "    }\n",
       "\n",
       "    .dataframe tbody tr th {\n",
       "        vertical-align: top;\n",
       "    }\n",
       "\n",
       "    .dataframe thead th {\n",
       "        text-align: right;\n",
       "    }\n",
       "</style>\n",
       "<table border=\"1\" class=\"dataframe\">\n",
       "  <thead>\n",
       "    <tr style=\"text-align: right;\">\n",
       "      <th></th>\n",
       "      <th>age</th>\n",
       "      <th>bmi</th>\n",
       "      <th>children</th>\n",
       "      <th>charges</th>\n",
       "    </tr>\n",
       "  </thead>\n",
       "  <tbody>\n",
       "    <tr>\n",
       "      <th>count</th>\n",
       "      <td>1338.000000</td>\n",
       "      <td>1338.000000</td>\n",
       "      <td>1338.000000</td>\n",
       "      <td>1338.000000</td>\n",
       "    </tr>\n",
       "    <tr>\n",
       "      <th>mean</th>\n",
       "      <td>39.207025</td>\n",
       "      <td>30.663397</td>\n",
       "      <td>1.094918</td>\n",
       "      <td>13270.422265</td>\n",
       "    </tr>\n",
       "    <tr>\n",
       "      <th>std</th>\n",
       "      <td>14.049960</td>\n",
       "      <td>6.098187</td>\n",
       "      <td>1.205493</td>\n",
       "      <td>12110.011237</td>\n",
       "    </tr>\n",
       "    <tr>\n",
       "      <th>min</th>\n",
       "      <td>18.000000</td>\n",
       "      <td>15.960000</td>\n",
       "      <td>0.000000</td>\n",
       "      <td>1121.873900</td>\n",
       "    </tr>\n",
       "    <tr>\n",
       "      <th>25%</th>\n",
       "      <td>27.000000</td>\n",
       "      <td>26.296250</td>\n",
       "      <td>0.000000</td>\n",
       "      <td>4740.287150</td>\n",
       "    </tr>\n",
       "    <tr>\n",
       "      <th>50%</th>\n",
       "      <td>39.000000</td>\n",
       "      <td>30.400000</td>\n",
       "      <td>1.000000</td>\n",
       "      <td>9382.033000</td>\n",
       "    </tr>\n",
       "    <tr>\n",
       "      <th>75%</th>\n",
       "      <td>51.000000</td>\n",
       "      <td>34.693750</td>\n",
       "      <td>2.000000</td>\n",
       "      <td>16639.912515</td>\n",
       "    </tr>\n",
       "    <tr>\n",
       "      <th>max</th>\n",
       "      <td>64.000000</td>\n",
       "      <td>53.130000</td>\n",
       "      <td>5.000000</td>\n",
       "      <td>63770.428010</td>\n",
       "    </tr>\n",
       "  </tbody>\n",
       "</table>\n",
       "</div>"
      ],
      "text/plain": [
       "               age          bmi     children       charges\n",
       "count  1338.000000  1338.000000  1338.000000   1338.000000\n",
       "mean     39.207025    30.663397     1.094918  13270.422265\n",
       "std      14.049960     6.098187     1.205493  12110.011237\n",
       "min      18.000000    15.960000     0.000000   1121.873900\n",
       "25%      27.000000    26.296250     0.000000   4740.287150\n",
       "50%      39.000000    30.400000     1.000000   9382.033000\n",
       "75%      51.000000    34.693750     2.000000  16639.912515\n",
       "max      64.000000    53.130000     5.000000  63770.428010"
      ]
     },
     "execution_count": 61,
     "metadata": {},
     "output_type": "execute_result"
    }
   ],
   "source": [
    "insurance_data.describe()"
   ]
  },
  {
   "cell_type": "markdown",
   "id": "16a1d2e0",
   "metadata": {},
   "source": [
    "### 🔍 Explicación de la siguiente celda de código:\n",
    "*(Por favor, personaliza esta descripción según el objetivo específico del bloque de código que sigue.)*\n"
   ]
  },
  {
   "cell_type": "code",
   "execution_count": 62,
   "id": "fd82c212-db2d-46da-8432-4cf51b2bed21",
   "metadata": {},
   "outputs": [
    {
     "data": {
      "text/plain": [
       "<Figure size 600x600 with 0 Axes>"
      ]
     },
     "metadata": {},
     "output_type": "display_data"
    },
    {
     "data": {
      "image/png": "[encoded data removed]",
      "text/plain": [
       "<Figure size 500x500 with 1 Axes>"
      ]
     },
     "metadata": {},
     "output_type": "display_data"
    }
   ],
   "source": [
    "sns.set()\n",
    "plt.figure(figsize=(6,6))\n",
    "sns.displot(insurance_data['age'])  # displot con sns\n",
    "plt.title('Age distribution')\n",
    "plt.show()\n"
   ]
  },
  {
   "cell_type": "markdown",
   "id": "2f4199a3",
   "metadata": {},
   "source": [
    "### 🔍 Explicación de la siguiente celda de código:\n",
    "*(Por favor, personaliza esta descripción según el objetivo específico del bloque de código que sigue.)*\n"
   ]
  },
  {
   "cell_type": "code",
   "execution_count": 63,
   "id": "0b0958c8-0426-4c61-a084-0e453dfe5cc9",
   "metadata": {},
   "outputs": [
    {
     "data": {
      "image/png": "[encoded data removed]",
      "text/plain": [
       "<Figure size 600x600 with 1 Axes>"
      ]
     },
     "metadata": {},
     "output_type": "display_data"
    }
   ],
   "source": [
    "#Gender Column\n",
    "plt.figure(figsize=(6,6))\n",
    "sns.countplot(x='sex', data=insurance_data)\n",
    "plt.title(\"Sex Distribution\")\n",
    "plt.show()"
   ]
  },
  {
   "cell_type": "markdown",
   "id": "b6633d6c",
   "metadata": {},
   "source": [
    "### 🔍 Explicación de la siguiente celda de código:\n",
    "*(Por favor, personaliza esta descripción según el objetivo específico del bloque de código que sigue.)*\n"
   ]
  },
  {
   "cell_type": "code",
   "execution_count": 64,
   "id": "dd68da37-d5e8-4303-b456-ee01c6af2e08",
   "metadata": {},
   "outputs": [
    {
     "data": {
      "text/plain": [
       "sex\n",
       "male      676\n",
       "female    662\n",
       "Name: count, dtype: int64"
      ]
     },
     "execution_count": 64,
     "metadata": {},
     "output_type": "execute_result"
    }
   ],
   "source": [
    "insurance_data['sex'].value_counts()"
   ]
  },
  {
   "cell_type": "markdown",
   "id": "db80692b",
   "metadata": {},
   "source": [
    "### 🔍 Explicación de la siguiente celda de código:\n",
    "*(Por favor, personaliza esta descripción según el objetivo específico del bloque de código que sigue.)*\n"
   ]
  },
  {
   "cell_type": "code",
   "execution_count": 65,
   "id": "f730e5b9-0fb7-413b-ad76-e92288cc4dc5",
   "metadata": {},
   "outputs": [
    {
     "data": {
      "text/plain": [
       "<Figure size 600x600 with 0 Axes>"
      ]
     },
     "metadata": {},
     "output_type": "display_data"
    },
    {
     "data": {
      "image/png": "[encoded data removed]",
      "text/plain": [
       "<Figure size 500x500 with 1 Axes>"
      ]
     },
     "metadata": {},
     "output_type": "display_data"
    }
   ],
   "source": [
    "#Bmi distribution\n",
    "plt.figure(figsize=(6,6))\n",
    "sns.displot(insurance_data['bmi'])  # displot con sns\n",
    "plt.title('Bmi distribution')\n",
    "plt.show()\n"
   ]
  },
  {
   "cell_type": "markdown",
   "id": "96ec6709",
   "metadata": {},
   "source": [
    "### 🔍 Explicación de la siguiente celda de código:\n",
    "*(Por favor, personaliza esta descripción según el objetivo específico del bloque de código que sigue.)*\n"
   ]
  },
  {
   "cell_type": "code",
   "execution_count": 66,
   "id": "b3c849af-8735-423d-85d5-0ae4c3701709",
   "metadata": {},
   "outputs": [
    {
     "data": {
      "image/png": "[encoded data removed]",
      "text/plain": [
       "<Figure size 600x600 with 1 Axes>"
      ]
     },
     "metadata": {},
     "output_type": "display_data"
    }
   ],
   "source": [
    "### Children column\n",
    "plt.figure(figsize=(6,6))\n",
    "sns.countplot(x='children', data=insurance_data)\n",
    "plt.title(\"Children\")\n",
    "plt.show()"
   ]
  },
  {
   "cell_type": "markdown",
   "id": "d1730262",
   "metadata": {},
   "source": [
    "### 🔍 Explicación de la siguiente celda de código:\n",
    "*(Por favor, personaliza esta descripción según el objetivo específico del bloque de código que sigue.)*\n"
   ]
  },
  {
   "cell_type": "code",
   "execution_count": 67,
   "id": "c51c8db5-710c-4551-bb57-22a58581bc58",
   "metadata": {},
   "outputs": [
    {
     "data": {
      "text/plain": [
       "children\n",
       "0    574\n",
       "1    324\n",
       "2    240\n",
       "3    157\n",
       "4     25\n",
       "5     18\n",
       "Name: count, dtype: int64"
      ]
     },
     "execution_count": 67,
     "metadata": {},
     "output_type": "execute_result"
    }
   ],
   "source": [
    "insurance_data [\"children\"].value_counts()"
   ]
  },
  {
   "cell_type": "markdown",
   "id": "e60f74c0",
   "metadata": {},
   "source": [
    "### 🔍 Explicación de la siguiente celda de código:\n",
    "*(Por favor, personaliza esta descripción según el objetivo específico del bloque de código que sigue.)*\n"
   ]
  },
  {
   "cell_type": "code",
   "execution_count": 68,
   "id": "d8f84876-5318-4159-8aef-797bfeced54d",
   "metadata": {},
   "outputs": [
    {
     "data": {
      "image/png": "[encoded data removed]",
      "text/plain": [
       "<Figure size 600x600 with 1 Axes>"
      ]
     },
     "metadata": {},
     "output_type": "display_data"
    }
   ],
   "source": [
    "### Smoker column\n",
    "plt.figure(figsize=(6,6))\n",
    "sns.countplot(x='smoker', data=insurance_data)\n",
    "plt.title(\"Smoker\")\n",
    "plt.show()"
   ]
  },
  {
   "cell_type": "markdown",
   "id": "10e8c08d",
   "metadata": {},
   "source": [
    "### 🔍 Explicación de la siguiente celda de código:\n",
    "*(Por favor, personaliza esta descripción según el objetivo específico del bloque de código que sigue.)*\n"
   ]
  },
  {
   "cell_type": "code",
   "execution_count": 69,
   "id": "61d43d16-31c3-4733-afe1-47a9ff249873",
   "metadata": {},
   "outputs": [
    {
     "data": {
      "text/plain": [
       "smoker\n",
       "no     1064\n",
       "yes     274\n",
       "Name: count, dtype: int64"
      ]
     },
     "execution_count": 69,
     "metadata": {},
     "output_type": "execute_result"
    }
   ],
   "source": [
    "insurance_data [\"smoker\"].value_counts()"
   ]
  },
  {
   "cell_type": "markdown",
   "id": "cceea12b",
   "metadata": {},
   "source": [
    "### 🔍 Explicación de la siguiente celda de código:\n",
    "*(Por favor, personaliza esta descripción según el objetivo específico del bloque de código que sigue.)*\n"
   ]
  },
  {
   "cell_type": "code",
   "execution_count": 70,
   "id": "83ec8421-9485-4b81-8fc8-0fc8bf0a7297",
   "metadata": {},
   "outputs": [
    {
     "data": {
      "image/png": "[encoded data removed]",
      "text/plain": [
       "<Figure size 600x600 with 1 Axes>"
      ]
     },
     "metadata": {},
     "output_type": "display_data"
    }
   ],
   "source": [
    "## Region column\n",
    "plt.figure(figsize=(6,6))\n",
    "sns.countplot(x='region', data=insurance_data)\n",
    "plt.title(\"Region\")\n",
    "plt.show()"
   ]
  },
  {
   "cell_type": "markdown",
   "id": "5eb539c9",
   "metadata": {},
   "source": [
    "### 🔍 Explicación de la siguiente celda de código:\n",
    "*(Por favor, personaliza esta descripción según el objetivo específico del bloque de código que sigue.)*\n"
   ]
  },
  {
   "cell_type": "code",
   "execution_count": 71,
   "id": "3feffd03-8030-4882-a456-bf46a86969b4",
   "metadata": {},
   "outputs": [
    {
     "data": {
      "text/plain": [
       "region\n",
       "southeast    364\n",
       "southwest    325\n",
       "northwest    325\n",
       "northeast    324\n",
       "Name: count, dtype: int64"
      ]
     },
     "execution_count": 71,
     "metadata": {},
     "output_type": "execute_result"
    }
   ],
   "source": [
    "insurance_data [\"region\"].value_counts()"
   ]
  },
  {
   "cell_type": "markdown",
   "id": "5bc95907",
   "metadata": {},
   "source": [
    "### 🔍 Explicación de la siguiente celda de código:\n",
    "*(Por favor, personaliza esta descripción según el objetivo específico del bloque de código que sigue.)*\n"
   ]
  },
  {
   "cell_type": "code",
   "execution_count": 72,
   "id": "c2ae6eb1-0d9c-4aaa-84b4-09023ce46d93",
   "metadata": {},
   "outputs": [
    {
     "data": {
      "text/plain": [
       "<Figure size 600x600 with 0 Axes>"
      ]
     },
     "metadata": {},
     "output_type": "display_data"
    },
    {
     "data": {
      "image/png": "[encoded data removed]",
      "text/plain": [
       "<Figure size 500x500 with 1 Axes>"
      ]
     },
     "metadata": {},
     "output_type": "display_data"
    }
   ],
   "source": [
    "## distribution of charges values\n",
    "sns.set()\n",
    "plt.figure(figsize=(6,6))\n",
    "sns.displot(insurance_data['charges'])  # displot con sns\n",
    "plt.title('Charges distribution')\n",
    "plt.show()"
   ]
  },
  {
   "cell_type": "markdown",
   "id": "1ec5337b",
   "metadata": {},
   "source": [
    "### 🔍 Explicación de la siguiente celda de código:\n",
    "*(Por favor, personaliza esta descripción según el objetivo específico del bloque de código que sigue.)*\n"
   ]
  },
  {
   "cell_type": "code",
   "execution_count": 73,
   "id": "5b1f5bae-d0f1-447b-a45d-6ddd6978a077",
   "metadata": {},
   "outputs": [],
   "source": [
    "for col in ['sex', 'smoker', 'region']:\n",
    "    insurance_data[col] = insurance_data[col].str.strip().str.lower()\n"
   ]
  },
  {
   "cell_type": "markdown",
   "id": "d30c9718",
   "metadata": {},
   "source": [
    "### 🔍 Explicación de la siguiente celda de código:\n",
    "*(Por favor, personaliza esta descripción según el objetivo específico del bloque de código que sigue.)*\n"
   ]
  },
  {
   "cell_type": "code",
   "execution_count": 74,
   "id": "d1aa0498-d97c-4d87-adaf-4825b92c6d60",
   "metadata": {},
   "outputs": [
    {
     "data": {
      "text/plain": [
       "<Axes: xlabel='charges'>"
      ]
     },
     "execution_count": 74,
     "metadata": {},
     "output_type": "execute_result"
    },
    {
     "data": {
      "image/png": "[encoded data removed]",
      "text/plain": [
       "<Figure size 640x480 with 1 Axes>"
      ]
     },
     "metadata": {},
     "output_type": "display_data"
    }
   ],
   "source": [
    "sns.boxplot(x=insurance_data['charges'])\n"
   ]
  },
  {
   "cell_type": "markdown",
   "id": "b81e7d19-e51e-43f6-8d26-7889586eb6db",
   "metadata": {},
   "source": [
    "## Data Pre-Processing"
   ]
  },
  {
   "cell_type": "markdown",
   "id": "19c26faf",
   "metadata": {},
   "source": [
    "### 🔍 Explicación de la siguiente celda de código:\n",
    "*(Por favor, personaliza esta descripción según el objetivo específico del bloque de código que sigue.)*\n"
   ]
  },
  {
   "cell_type": "code",
   "execution_count": 75,
   "id": "066e6ca2-8962-472c-b404-e59fa6a99791",
   "metadata": {},
   "outputs": [],
   "source": [
    "### Encoding the categorical features"
   ]
  },
  {
   "cell_type": "markdown",
   "id": "94fd0e41",
   "metadata": {},
   "source": [
    "### 🔍 Explicación de la siguiente celda de código:\n",
    "*(Por favor, personaliza esta descripción según el objetivo específico del bloque de código que sigue.)*\n"
   ]
  },
  {
   "cell_type": "code",
   "execution_count": 76,
   "id": "28aaa1be-8523-4a82-a3be-bc7c4e9d240c",
   "metadata": {},
   "outputs": [],
   "source": [
    "insurance_data['charges_log'] = np.log1p(insurance_data['charges'])"
   ]
  },
  {
   "cell_type": "markdown",
   "id": "ec12977a",
   "metadata": {},
   "source": [
    "### 🔍 Explicación de la siguiente celda de código:\n",
    "*(Por favor, personaliza esta descripción según el objetivo específico del bloque de código que sigue.)*\n"
   ]
  },
  {
   "cell_type": "code",
   "execution_count": 77,
   "id": "29a0c25e-fd47-4a5d-81f8-d94a85cf1467",
   "metadata": {},
   "outputs": [],
   "source": [
    "X = insurance_data.drop(['charges', 'charges_log'], axis=1)\n",
    "y = insurance_data['charges_log']"
   ]
  },
  {
   "cell_type": "markdown",
   "id": "f211c601",
   "metadata": {},
   "source": [
    "### 🔍 Explicación de la siguiente celda de código:\n",
    "*(Por favor, personaliza esta descripción según el objetivo específico del bloque de código que sigue.)*\n"
   ]
  },
  {
   "cell_type": "code",
   "execution_count": 78,
   "id": "1c26ec4f-a164-4d37-8e68-916eef27135a",
   "metadata": {},
   "outputs": [
    {
     "data": {
      "text/html": [
       "<div>\n",
       "<style scoped>\n",
       "    .dataframe tbody tr th:only-of-type {\n",
       "        vertical-align: middle;\n",
       "    }\n",
       "\n",
       "    .dataframe tbody tr th {\n",
       "        vertical-align: top;\n",
       "    }\n",
       "\n",
       "    .dataframe thead th {\n",
       "        text-align: right;\n",
       "    }\n",
       "</style>\n",
       "<table border=\"1\" class=\"dataframe\">\n",
       "  <thead>\n",
       "    <tr style=\"text-align: right;\">\n",
       "      <th></th>\n",
       "      <th>age</th>\n",
       "      <th>sex</th>\n",
       "      <th>bmi</th>\n",
       "      <th>children</th>\n",
       "      <th>smoker</th>\n",
       "      <th>region</th>\n",
       "      <th>charges</th>\n",
       "      <th>charges_log</th>\n",
       "    </tr>\n",
       "  </thead>\n",
       "  <tbody>\n",
       "    <tr>\n",
       "      <th>0</th>\n",
       "      <td>19</td>\n",
       "      <td>female</td>\n",
       "      <td>27.900</td>\n",
       "      <td>0</td>\n",
       "      <td>yes</td>\n",
       "      <td>southwest</td>\n",
       "      <td>16884.92400</td>\n",
       "      <td>9.734236</td>\n",
       "    </tr>\n",
       "    <tr>\n",
       "      <th>1</th>\n",
       "      <td>18</td>\n",
       "      <td>male</td>\n",
       "      <td>33.770</td>\n",
       "      <td>1</td>\n",
       "      <td>no</td>\n",
       "      <td>southeast</td>\n",
       "      <td>1725.55230</td>\n",
       "      <td>7.453882</td>\n",
       "    </tr>\n",
       "    <tr>\n",
       "      <th>2</th>\n",
       "      <td>28</td>\n",
       "      <td>male</td>\n",
       "      <td>33.000</td>\n",
       "      <td>3</td>\n",
       "      <td>no</td>\n",
       "      <td>southeast</td>\n",
       "      <td>4449.46200</td>\n",
       "      <td>8.400763</td>\n",
       "    </tr>\n",
       "    <tr>\n",
       "      <th>3</th>\n",
       "      <td>33</td>\n",
       "      <td>male</td>\n",
       "      <td>22.705</td>\n",
       "      <td>0</td>\n",
       "      <td>no</td>\n",
       "      <td>northwest</td>\n",
       "      <td>21984.47061</td>\n",
       "      <td>9.998137</td>\n",
       "    </tr>\n",
       "    <tr>\n",
       "      <th>4</th>\n",
       "      <td>32</td>\n",
       "      <td>male</td>\n",
       "      <td>28.880</td>\n",
       "      <td>0</td>\n",
       "      <td>no</td>\n",
       "      <td>northwest</td>\n",
       "      <td>3866.85520</td>\n",
       "      <td>8.260455</td>\n",
       "    </tr>\n",
       "  </tbody>\n",
       "</table>\n",
       "</div>"
      ],
      "text/plain": [
       "   age     sex     bmi  children smoker     region      charges  charges_log\n",
       "0   19  female  27.900         0    yes  southwest  16884.92400     9.734236\n",
       "1   18    male  33.770         1     no  southeast   1725.55230     7.453882\n",
       "2   28    male  33.000         3     no  southeast   4449.46200     8.400763\n",
       "3   33    male  22.705         0     no  northwest  21984.47061     9.998137\n",
       "4   32    male  28.880         0     no  northwest   3866.85520     8.260455"
      ]
     },
     "execution_count": 78,
     "metadata": {},
     "output_type": "execute_result"
    }
   ],
   "source": [
    "insurance_data.head()"
   ]
  },
  {
   "cell_type": "markdown",
   "id": "d0239ab9",
   "metadata": {},
   "source": [
    "### 🔍 Explicación de la siguiente celda de código:\n",
    "*(Por favor, personaliza esta descripción según el objetivo específico del bloque de código que sigue.)*\n"
   ]
  },
  {
   "cell_type": "code",
   "execution_count": 79,
   "id": "19d77f31-ce26-4641-b351-901cedee5a93",
   "metadata": {},
   "outputs": [
    {
     "data": {
      "text/html": [
       "<div>\n",
       "<style scoped>\n",
       "    .dataframe tbody tr th:only-of-type {\n",
       "        vertical-align: middle;\n",
       "    }\n",
       "\n",
       "    .dataframe tbody tr th {\n",
       "        vertical-align: top;\n",
       "    }\n",
       "\n",
       "    .dataframe thead th {\n",
       "        text-align: right;\n",
       "    }\n",
       "</style>\n",
       "<table border=\"1\" class=\"dataframe\">\n",
       "  <thead>\n",
       "    <tr style=\"text-align: right;\">\n",
       "      <th></th>\n",
       "      <th>age</th>\n",
       "      <th>sex</th>\n",
       "      <th>bmi</th>\n",
       "      <th>children</th>\n",
       "      <th>smoker</th>\n",
       "      <th>region</th>\n",
       "      <th>charges</th>\n",
       "      <th>charges_log</th>\n",
       "    </tr>\n",
       "  </thead>\n",
       "  <tbody>\n",
       "    <tr>\n",
       "      <th>0</th>\n",
       "      <td>19</td>\n",
       "      <td>female</td>\n",
       "      <td>27.900</td>\n",
       "      <td>0</td>\n",
       "      <td>yes</td>\n",
       "      <td>southwest</td>\n",
       "      <td>16884.92400</td>\n",
       "      <td>9.734236</td>\n",
       "    </tr>\n",
       "    <tr>\n",
       "      <th>1</th>\n",
       "      <td>18</td>\n",
       "      <td>male</td>\n",
       "      <td>33.770</td>\n",
       "      <td>1</td>\n",
       "      <td>no</td>\n",
       "      <td>southeast</td>\n",
       "      <td>1725.55230</td>\n",
       "      <td>7.453882</td>\n",
       "    </tr>\n",
       "    <tr>\n",
       "      <th>2</th>\n",
       "      <td>28</td>\n",
       "      <td>male</td>\n",
       "      <td>33.000</td>\n",
       "      <td>3</td>\n",
       "      <td>no</td>\n",
       "      <td>southeast</td>\n",
       "      <td>4449.46200</td>\n",
       "      <td>8.400763</td>\n",
       "    </tr>\n",
       "    <tr>\n",
       "      <th>3</th>\n",
       "      <td>33</td>\n",
       "      <td>male</td>\n",
       "      <td>22.705</td>\n",
       "      <td>0</td>\n",
       "      <td>no</td>\n",
       "      <td>northwest</td>\n",
       "      <td>21984.47061</td>\n",
       "      <td>9.998137</td>\n",
       "    </tr>\n",
       "    <tr>\n",
       "      <th>4</th>\n",
       "      <td>32</td>\n",
       "      <td>male</td>\n",
       "      <td>28.880</td>\n",
       "      <td>0</td>\n",
       "      <td>no</td>\n",
       "      <td>northwest</td>\n",
       "      <td>3866.85520</td>\n",
       "      <td>8.260455</td>\n",
       "    </tr>\n",
       "    <tr>\n",
       "      <th>...</th>\n",
       "      <td>...</td>\n",
       "      <td>...</td>\n",
       "      <td>...</td>\n",
       "      <td>...</td>\n",
       "      <td>...</td>\n",
       "      <td>...</td>\n",
       "      <td>...</td>\n",
       "      <td>...</td>\n",
       "    </tr>\n",
       "    <tr>\n",
       "      <th>1333</th>\n",
       "      <td>50</td>\n",
       "      <td>male</td>\n",
       "      <td>30.970</td>\n",
       "      <td>3</td>\n",
       "      <td>no</td>\n",
       "      <td>northwest</td>\n",
       "      <td>10600.54830</td>\n",
       "      <td>9.268755</td>\n",
       "    </tr>\n",
       "    <tr>\n",
       "      <th>1334</th>\n",
       "      <td>18</td>\n",
       "      <td>female</td>\n",
       "      <td>31.920</td>\n",
       "      <td>0</td>\n",
       "      <td>no</td>\n",
       "      <td>northeast</td>\n",
       "      <td>2205.98080</td>\n",
       "      <td>7.699381</td>\n",
       "    </tr>\n",
       "    <tr>\n",
       "      <th>1335</th>\n",
       "      <td>18</td>\n",
       "      <td>female</td>\n",
       "      <td>36.850</td>\n",
       "      <td>0</td>\n",
       "      <td>no</td>\n",
       "      <td>southeast</td>\n",
       "      <td>1629.83350</td>\n",
       "      <td>7.396847</td>\n",
       "    </tr>\n",
       "    <tr>\n",
       "      <th>1336</th>\n",
       "      <td>21</td>\n",
       "      <td>female</td>\n",
       "      <td>25.800</td>\n",
       "      <td>0</td>\n",
       "      <td>no</td>\n",
       "      <td>southwest</td>\n",
       "      <td>2007.94500</td>\n",
       "      <td>7.605365</td>\n",
       "    </tr>\n",
       "    <tr>\n",
       "      <th>1337</th>\n",
       "      <td>61</td>\n",
       "      <td>female</td>\n",
       "      <td>29.070</td>\n",
       "      <td>0</td>\n",
       "      <td>yes</td>\n",
       "      <td>northwest</td>\n",
       "      <td>29141.36030</td>\n",
       "      <td>10.279948</td>\n",
       "    </tr>\n",
       "  </tbody>\n",
       "</table>\n",
       "<p>1338 rows × 8 columns</p>\n",
       "</div>"
      ],
      "text/plain": [
       "      age     sex     bmi  children smoker     region      charges  \\\n",
       "0      19  female  27.900         0    yes  southwest  16884.92400   \n",
       "1      18    male  33.770         1     no  southeast   1725.55230   \n",
       "2      28    male  33.000         3     no  southeast   4449.46200   \n",
       "3      33    male  22.705         0     no  northwest  21984.47061   \n",
       "4      32    male  28.880         0     no  northwest   3866.85520   \n",
       "...   ...     ...     ...       ...    ...        ...          ...   \n",
       "1333   50    male  30.970         3     no  northwest  10600.54830   \n",
       "1334   18  female  31.920         0     no  northeast   2205.98080   \n",
       "1335   18  female  36.850         0     no  southeast   1629.83350   \n",
       "1336   21  female  25.800         0     no  southwest   2007.94500   \n",
       "1337   61  female  29.070         0    yes  northwest  29141.36030   \n",
       "\n",
       "      charges_log  \n",
       "0        9.734236  \n",
       "1        7.453882  \n",
       "2        8.400763  \n",
       "3        9.998137  \n",
       "4        8.260455  \n",
       "...           ...  \n",
       "1333     9.268755  \n",
       "1334     7.699381  \n",
       "1335     7.396847  \n",
       "1336     7.605365  \n",
       "1337    10.279948  \n",
       "\n",
       "[1338 rows x 8 columns]"
      ]
     },
     "execution_count": 79,
     "metadata": {},
     "output_type": "execute_result"
    }
   ],
   "source": [
    "insurance_data"
   ]
  },
  {
   "cell_type": "markdown",
   "id": "cc2232de",
   "metadata": {},
   "source": [
    "### 🔍 Explicación de la siguiente celda de código:\n",
    "*(Por favor, personaliza esta descripción según el objetivo específico del bloque de código que sigue.)*\n"
   ]
  },
  {
   "cell_type": "code",
   "execution_count": 80,
   "id": "9ffdcbd4-3854-4be8-9e81-6c7d309cae56",
   "metadata": {},
   "outputs": [
    {
     "data": {
      "text/html": [
       "<style>#sk-container-id-2 {\n",
       "  /* Definition of color scheme common for light and dark mode */\n",
       "  --sklearn-color-text: #000;\n",
       "  --sklearn-color-text-muted: #666;\n",
       "  --sklearn-color-line: gray;\n",
       "  /* Definition of color scheme for unfitted estimators */\n",
       "  --sklearn-color-unfitted-level-0: #fff5e6;\n",
       "  --sklearn-color-unfitted-level-1: #f6e4d2;\n",
       "  --sklearn-color-unfitted-level-2: #ffe0b3;\n",
       "  --sklearn-color-unfitted-level-3: chocolate;\n",
       "  /* Definition of color scheme for fitted estimators */\n",
       "  --sklearn-color-fitted-level-0: #f0f8ff;\n",
       "  --sklearn-color-fitted-level-1: #d4ebff;\n",
       "  --sklearn-color-fitted-level-2: #b3dbfd;\n",
       "  --sklearn-color-fitted-level-3: cornflowerblue;\n",
       "\n",
       "  /* Specific color for light theme */\n",
       "  --sklearn-color-text-on-default-background: var(--sg-text-color, var(--theme-code-foreground, var(--jp-content-font-color1, black)));\n",
       "  --sklearn-color-background: var(--sg-background-color, var(--theme-background, var(--jp-layout-color0, white)));\n",
       "  --sklearn-color-border-box: var(--sg-text-color, var(--theme-code-foreground, var(--jp-content-font-color1, black)));\n",
       "  --sklearn-color-icon: #696969;\n",
       "\n",
       "  @media (prefers-color-scheme: dark) {\n",
       "    /* Redefinition of color scheme for dark theme */\n",
       "    --sklearn-color-text-on-default-background: var(--sg-text-color, var(--theme-code-foreground, var(--jp-content-font-color1, white)));\n",
       "    --sklearn-color-background: var(--sg-background-color, var(--theme-background, var(--jp-layout-color0, #111)));\n",
       "    --sklearn-color-border-box: var(--sg-text-color, var(--theme-code-foreground, var(--jp-content-font-color1, white)));\n",
       "    --sklearn-color-icon: #878787;\n",
       "  }\n",
       "}\n",
       "\n",
       "#sk-container-id-2 {\n",
       "  color: var(--sklearn-color-text);\n",
       "}\n",
       "\n",
       "#sk-container-id-2 pre {\n",
       "  padding: 0;\n",
       "}\n",
       "\n",
       "#sk-container-id-2 input.sk-hidden--visually {\n",
       "  border: 0;\n",
       "  clip: rect(1px 1px 1px 1px);\n",
       "  clip: rect(1px, 1px, 1px, 1px);\n",
       "  height: 1px;\n",
       "  margin: -1px;\n",
       "  overflow: hidden;\n",
       "  padding: 0;\n",
       "  position: absolute;\n",
       "  width: 1px;\n",
       "}\n",
       "\n",
       "#sk-container-id-2 div.sk-dashed-wrapped {\n",
       "  border: 1px dashed var(--sklearn-color-line);\n",
       "  margin: 0 0.4em 0.5em 0.4em;\n",
       "  box-sizing: border-box;\n",
       "  padding-bottom: 0.4em;\n",
       "  background-color: var(--sklearn-color-background);\n",
       "}\n",
       "\n",
       "#sk-container-id-2 div.sk-container {\n",
       "  /* jupyter's `normalize.less` sets `[hidden] { display: none; }`\n",
       "     but bootstrap.min.css set `[hidden] { display: none !important; }`\n",
       "     so we also need the `!important` here to be able to override the\n",
       "     default hidden behavior on the sphinx rendered scikit-learn.org.\n",
       "     See: https://github.com/scikit-learn/scikit-learn/issues/21755 */\n",
       "  display: inline-block !important;\n",
       "  position: relative;\n",
       "}\n",
       "\n",
       "#sk-container-id-2 div.sk-text-repr-fallback {\n",
       "  display: none;\n",
       "}\n",
       "\n",
       "div.sk-parallel-item,\n",
       "div.sk-serial,\n",
       "div.sk-item {\n",
       "  /* draw centered vertical line to link estimators */\n",
       "  background-image: linear-gradient(var(--sklearn-color-text-on-default-background), var(--sklearn-color-text-on-default-background));\n",
       "  background-size: 2px 100%;\n",
       "  background-repeat: no-repeat;\n",
       "  background-position: center center;\n",
       "}\n",
       "\n",
       "/* Parallel-specific style estimator block */\n",
       "\n",
       "#sk-container-id-2 div.sk-parallel-item::after {\n",
       "  content: \"\";\n",
       "  width: 100%;\n",
       "  border-bottom: 2px solid var(--sklearn-color-text-on-default-background);\n",
       "  flex-grow: 1;\n",
       "}\n",
       "\n",
       "#sk-container-id-2 div.sk-parallel {\n",
       "  display: flex;\n",
       "  align-items: stretch;\n",
       "  justify-content: center;\n",
       "  background-color: var(--sklearn-color-background);\n",
       "  position: relative;\n",
       "}\n",
       "\n",
       "#sk-container-id-2 div.sk-parallel-item {\n",
       "  display: flex;\n",
       "  flex-direction: column;\n",
       "}\n",
       "\n",
       "#sk-container-id-2 div.sk-parallel-item:first-child::after {\n",
       "  align-self: flex-end;\n",
       "  width: 50%;\n",
       "}\n",
       "\n",
       "#sk-container-id-2 div.sk-parallel-item:last-child::after {\n",
       "  align-self: flex-start;\n",
       "  width: 50%;\n",
       "}\n",
       "\n",
       "#sk-container-id-2 div.sk-parallel-item:only-child::after {\n",
       "  width: 0;\n",
       "}\n",
       "\n",
       "/* Serial-specific style estimator block */\n",
       "\n",
       "#sk-container-id-2 div.sk-serial {\n",
       "  display: flex;\n",
       "  flex-direction: column;\n",
       "  align-items: center;\n",
       "  background-color: var(--sklearn-color-background);\n",
       "  padding-right: 1em;\n",
       "  padding-left: 1em;\n",
       "}\n",
       "\n",
       "\n",
       "/* Toggleable style: style used for estimator/Pipeline/ColumnTransformer box that is\n",
       "clickable and can be expanded/collapsed.\n",
       "- Pipeline and ColumnTransformer use this feature and define the default style\n",
       "- Estimators will overwrite some part of the style using the `sk-estimator` class\n",
       "*/\n",
       "\n",
       "/* Pipeline and ColumnTransformer style (default) */\n",
       "\n",
       "#sk-container-id-2 div.sk-toggleable {\n",
       "  /* Default theme specific background. It is overwritten whether we have a\n",
       "  specific estimator or a Pipeline/ColumnTransformer */\n",
       "  background-color: var(--sklearn-color-background);\n",
       "}\n",
       "\n",
       "/* Toggleable label */\n",
       "#sk-container-id-2 label.sk-toggleable__label {\n",
       "  cursor: pointer;\n",
       "  display: flex;\n",
       "  width: 100%;\n",
       "  margin-bottom: 0;\n",
       "  padding: 0.5em;\n",
       "  box-sizing: border-box;\n",
       "  text-align: center;\n",
       "  align-items: start;\n",
       "  justify-content: space-between;\n",
       "  gap: 0.5em;\n",
       "}\n",
       "\n",
       "#sk-container-id-2 label.sk-toggleable__label .caption {\n",
       "  font-size: 0.6rem;\n",
       "  font-weight: lighter;\n",
       "  color: var(--sklearn-color-text-muted);\n",
       "}\n",
       "\n",
       "#sk-container-id-2 label.sk-toggleable__label-arrow:before {\n",
       "  /* Arrow on the left of the label */\n",
       "  content: \"▸\";\n",
       "  float: left;\n",
       "  margin-right: 0.25em;\n",
       "  color: var(--sklearn-color-icon);\n",
       "}\n",
       "\n",
       "#sk-container-id-2 label.sk-toggleable__label-arrow:hover:before {\n",
       "  color: var(--sklearn-color-text);\n",
       "}\n",
       "\n",
       "/* Toggleable content - dropdown */\n",
       "\n",
       "#sk-container-id-2 div.sk-toggleable__content {\n",
       "  max-height: 0;\n",
       "  max-width: 0;\n",
       "  overflow: hidden;\n",
       "  text-align: left;\n",
       "  /* unfitted */\n",
       "  background-color: var(--sklearn-color-unfitted-level-0);\n",
       "}\n",
       "\n",
       "#sk-container-id-2 div.sk-toggleable__content.fitted {\n",
       "  /* fitted */\n",
       "  background-color: var(--sklearn-color-fitted-level-0);\n",
       "}\n",
       "\n",
       "#sk-container-id-2 div.sk-toggleable__content pre {\n",
       "  margin: 0.2em;\n",
       "  border-radius: 0.25em;\n",
       "  color: var(--sklearn-color-text);\n",
       "  /* unfitted */\n",
       "  background-color: var(--sklearn-color-unfitted-level-0);\n",
       "}\n",
       "\n",
       "#sk-container-id-2 div.sk-toggleable__content.fitted pre {\n",
       "  /* unfitted */\n",
       "  background-color: var(--sklearn-color-fitted-level-0);\n",
       "}\n",
       "\n",
       "#sk-container-id-2 input.sk-toggleable__control:checked~div.sk-toggleable__content {\n",
       "  /* Expand drop-down */\n",
       "  max-height: 200px;\n",
       "  max-width: 100%;\n",
       "  overflow: auto;\n",
       "}\n",
       "\n",
       "#sk-container-id-2 input.sk-toggleable__control:checked~label.sk-toggleable__label-arrow:before {\n",
       "  content: \"▾\";\n",
       "}\n",
       "\n",
       "/* Pipeline/ColumnTransformer-specific style */\n",
       "\n",
       "#sk-container-id-2 div.sk-label input.sk-toggleable__control:checked~label.sk-toggleable__label {\n",
       "  color: var(--sklearn-color-text);\n",
       "  background-color: var(--sklearn-color-unfitted-level-2);\n",
       "}\n",
       "\n",
       "#sk-container-id-2 div.sk-label.fitted input.sk-toggleable__control:checked~label.sk-toggleable__label {\n",
       "  background-color: var(--sklearn-color-fitted-level-2);\n",
       "}\n",
       "\n",
       "/* Estimator-specific style */\n",
       "\n",
       "/* Colorize estimator box */\n",
       "#sk-container-id-2 div.sk-estimator input.sk-toggleable__control:checked~label.sk-toggleable__label {\n",
       "  /* unfitted */\n",
       "  background-color: var(--sklearn-color-unfitted-level-2);\n",
       "}\n",
       "\n",
       "#sk-container-id-2 div.sk-estimator.fitted input.sk-toggleable__control:checked~label.sk-toggleable__label {\n",
       "  /* fitted */\n",
       "  background-color: var(--sklearn-color-fitted-level-2);\n",
       "}\n",
       "\n",
       "#sk-container-id-2 div.sk-label label.sk-toggleable__label,\n",
       "#sk-container-id-2 div.sk-label label {\n",
       "  /* The background is the default theme color */\n",
       "  color: var(--sklearn-color-text-on-default-background);\n",
       "}\n",
       "\n",
       "/* On hover, darken the color of the background */\n",
       "#sk-container-id-2 div.sk-label:hover label.sk-toggleable__label {\n",
       "  color: var(--sklearn-color-text);\n",
       "  background-color: var(--sklearn-color-unfitted-level-2);\n",
       "}\n",
       "\n",
       "/* Label box, darken color on hover, fitted */\n",
       "#sk-container-id-2 div.sk-label.fitted:hover label.sk-toggleable__label.fitted {\n",
       "  color: var(--sklearn-color-text);\n",
       "  background-color: var(--sklearn-color-fitted-level-2);\n",
       "}\n",
       "\n",
       "/* Estimator label */\n",
       "\n",
       "#sk-container-id-2 div.sk-label label {\n",
       "  font-family: monospace;\n",
       "  font-weight: bold;\n",
       "  display: inline-block;\n",
       "  line-height: 1.2em;\n",
       "}\n",
       "\n",
       "#sk-container-id-2 div.sk-label-container {\n",
       "  text-align: center;\n",
       "}\n",
       "\n",
       "/* Estimator-specific */\n",
       "#sk-container-id-2 div.sk-estimator {\n",
       "  font-family: monospace;\n",
       "  border: 1px dotted var(--sklearn-color-border-box);\n",
       "  border-radius: 0.25em;\n",
       "  box-sizing: border-box;\n",
       "  margin-bottom: 0.5em;\n",
       "  /* unfitted */\n",
       "  background-color: var(--sklearn-color-unfitted-level-0);\n",
       "}\n",
       "\n",
       "#sk-container-id-2 div.sk-estimator.fitted {\n",
       "  /* fitted */\n",
       "  background-color: var(--sklearn-color-fitted-level-0);\n",
       "}\n",
       "\n",
       "/* on hover */\n",
       "#sk-container-id-2 div.sk-estimator:hover {\n",
       "  /* unfitted */\n",
       "  background-color: var(--sklearn-color-unfitted-level-2);\n",
       "}\n",
       "\n",
       "#sk-container-id-2 div.sk-estimator.fitted:hover {\n",
       "  /* fitted */\n",
       "  background-color: var(--sklearn-color-fitted-level-2);\n",
       "}\n",
       "\n",
       "/* Specification for estimator info (e.g. \"i\" and \"?\") */\n",
       "\n",
       "/* Common style for \"i\" and \"?\" */\n",
       "\n",
       ".sk-estimator-doc-link,\n",
       "a:link.sk-estimator-doc-link,\n",
       "a:visited.sk-estimator-doc-link {\n",
       "  float: right;\n",
       "  font-size: smaller;\n",
       "  line-height: 1em;\n",
       "  font-family: monospace;\n",
       "  background-color: var(--sklearn-color-background);\n",
       "  border-radius: 1em;\n",
       "  height: 1em;\n",
       "  width: 1em;\n",
       "  text-decoration: none !important;\n",
       "  margin-left: 0.5em;\n",
       "  text-align: center;\n",
       "  /* unfitted */\n",
       "  border: var(--sklearn-color-unfitted-level-1) 1pt solid;\n",
       "  color: var(--sklearn-color-unfitted-level-1);\n",
       "}\n",
       "\n",
       ".sk-estimator-doc-link.fitted,\n",
       "a:link.sk-estimator-doc-link.fitted,\n",
       "a:visited.sk-estimator-doc-link.fitted {\n",
       "  /* fitted */\n",
       "  border: var(--sklearn-color-fitted-level-1) 1pt solid;\n",
       "  color: var(--sklearn-color-fitted-level-1);\n",
       "}\n",
       "\n",
       "/* On hover */\n",
       "div.sk-estimator:hover .sk-estimator-doc-link:hover,\n",
       ".sk-estimator-doc-link:hover,\n",
       "div.sk-label-container:hover .sk-estimator-doc-link:hover,\n",
       ".sk-estimator-doc-link:hover {\n",
       "  /* unfitted */\n",
       "  background-color: var(--sklearn-color-unfitted-level-3);\n",
       "  color: var(--sklearn-color-background);\n",
       "  text-decoration: none;\n",
       "}\n",
       "\n",
       "div.sk-estimator.fitted:hover .sk-estimator-doc-link.fitted:hover,\n",
       ".sk-estimator-doc-link.fitted:hover,\n",
       "div.sk-label-container:hover .sk-estimator-doc-link.fitted:hover,\n",
       ".sk-estimator-doc-link.fitted:hover {\n",
       "  /* fitted */\n",
       "  background-color: var(--sklearn-color-fitted-level-3);\n",
       "  color: var(--sklearn-color-background);\n",
       "  text-decoration: none;\n",
       "}\n",
       "\n",
       "/* Span, style for the box shown on hovering the info icon */\n",
       ".sk-estimator-doc-link span {\n",
       "  display: none;\n",
       "  z-index: 9999;\n",
       "  position: relative;\n",
       "  font-weight: normal;\n",
       "  right: .2ex;\n",
       "  padding: .5ex;\n",
       "  margin: .5ex;\n",
       "  width: min-content;\n",
       "  min-width: 20ex;\n",
       "  max-width: 50ex;\n",
       "  color: var(--sklearn-color-text);\n",
       "  box-shadow: 2pt 2pt 4pt #999;\n",
       "  /* unfitted */\n",
       "  background: var(--sklearn-color-unfitted-level-0);\n",
       "  border: .5pt solid var(--sklearn-color-unfitted-level-3);\n",
       "}\n",
       "\n",
       ".sk-estimator-doc-link.fitted span {\n",
       "  /* fitted */\n",
       "  background: var(--sklearn-color-fitted-level-0);\n",
       "  border: var(--sklearn-color-fitted-level-3);\n",
       "}\n",
       "\n",
       ".sk-estimator-doc-link:hover span {\n",
       "  display: block;\n",
       "}\n",
       "\n",
       "/* \"?\"-specific style due to the `<a>` HTML tag */\n",
       "\n",
       "#sk-container-id-2 a.estimator_doc_link {\n",
       "  float: right;\n",
       "  font-size: 1rem;\n",
       "  line-height: 1em;\n",
       "  font-family: monospace;\n",
       "  background-color: var(--sklearn-color-background);\n",
       "  border-radius: 1rem;\n",
       "  height: 1rem;\n",
       "  width: 1rem;\n",
       "  text-decoration: none;\n",
       "  /* unfitted */\n",
       "  color: var(--sklearn-color-unfitted-level-1);\n",
       "  border: var(--sklearn-color-unfitted-level-1) 1pt solid;\n",
       "}\n",
       "\n",
       "#sk-container-id-2 a.estimator_doc_link.fitted {\n",
       "  /* fitted */\n",
       "  border: var(--sklearn-color-fitted-level-1) 1pt solid;\n",
       "  color: var(--sklearn-color-fitted-level-1);\n",
       "}\n",
       "\n",
       "/* On hover */\n",
       "#sk-container-id-2 a.estimator_doc_link:hover {\n",
       "  /* unfitted */\n",
       "  background-color: var(--sklearn-color-unfitted-level-3);\n",
       "  color: var(--sklearn-color-background);\n",
       "  text-decoration: none;\n",
       "}\n",
       "\n",
       "#sk-container-id-2 a.estimator_doc_link.fitted:hover {\n",
       "  /* fitted */\n",
       "  background-color: var(--sklearn-color-fitted-level-3);\n",
       "}\n",
       "</style><div id=\"sk-container-id-2\" class=\"sk-top-container\"><div class=\"sk-text-repr-fallback\"><pre>Pipeline(steps=[(&#x27;preprocessor&#x27;,\n",
       "                 ColumnTransformer(transformers=[(&#x27;num&#x27;, StandardScaler(),\n",
       "                                                  [&#x27;age&#x27;, &#x27;bmi&#x27;, &#x27;children&#x27;]),\n",
       "                                                 (&#x27;cat&#x27;,\n",
       "                                                  OneHotEncoder(drop=&#x27;first&#x27;),\n",
       "                                                  [&#x27;sex&#x27;, &#x27;smoker&#x27;,\n",
       "                                                   &#x27;region&#x27;])])),\n",
       "                (&#x27;regressor&#x27;, LinearRegression())])</pre><b>In a Jupyter environment, please rerun this cell to show the HTML representation or trust the notebook. <br />On GitHub, the HTML representation is unable to render, please try loading this page with nbviewer.org.</b></div><div class=\"sk-container\" hidden><div class=\"sk-item sk-dashed-wrapped\"><div class=\"sk-label-container\"><div class=\"sk-label fitted sk-toggleable\"><input class=\"sk-toggleable__control sk-hidden--visually\" id=\"sk-estimator-id-8\" type=\"checkbox\" ><label for=\"sk-estimator-id-8\" class=\"sk-toggleable__label fitted sk-toggleable__label-arrow\"><div><div>Pipeline</div></div><div><a class=\"sk-estimator-doc-link fitted\" rel=\"noreferrer\" target=\"_blank\" href=\"https://scikit-learn.org/1.6/modules/generated/sklearn.pipeline.Pipeline.html\">?<span>Documentation for Pipeline</span></a><span class=\"sk-estimator-doc-link fitted\">i<span>Fitted</span></span></div></label><div class=\"sk-toggleable__content fitted\"><pre>Pipeline(steps=[(&#x27;preprocessor&#x27;,\n",
       "                 ColumnTransformer(transformers=[(&#x27;num&#x27;, StandardScaler(),\n",
       "                                                  [&#x27;age&#x27;, &#x27;bmi&#x27;, &#x27;children&#x27;]),\n",
       "                                                 (&#x27;cat&#x27;,\n",
       "                                                  OneHotEncoder(drop=&#x27;first&#x27;),\n",
       "                                                  [&#x27;sex&#x27;, &#x27;smoker&#x27;,\n",
       "                                                   &#x27;region&#x27;])])),\n",
       "                (&#x27;regressor&#x27;, LinearRegression())])</pre></div> </div></div><div class=\"sk-serial\"><div class=\"sk-item sk-dashed-wrapped\"><div class=\"sk-label-container\"><div class=\"sk-label fitted sk-toggleable\"><input class=\"sk-toggleable__control sk-hidden--visually\" id=\"sk-estimator-id-9\" type=\"checkbox\" ><label for=\"sk-estimator-id-9\" class=\"sk-toggleable__label fitted sk-toggleable__label-arrow\"><div><div>preprocessor: ColumnTransformer</div></div><div><a class=\"sk-estimator-doc-link fitted\" rel=\"noreferrer\" target=\"_blank\" href=\"https://scikit-learn.org/1.6/modules/generated/sklearn.compose.ColumnTransformer.html\">?<span>Documentation for preprocessor: ColumnTransformer</span></a></div></label><div class=\"sk-toggleable__content fitted\"><pre>ColumnTransformer(transformers=[(&#x27;num&#x27;, StandardScaler(),\n",
       "                                 [&#x27;age&#x27;, &#x27;bmi&#x27;, &#x27;children&#x27;]),\n",
       "                                (&#x27;cat&#x27;, OneHotEncoder(drop=&#x27;first&#x27;),\n",
       "                                 [&#x27;sex&#x27;, &#x27;smoker&#x27;, &#x27;region&#x27;])])</pre></div> </div></div><div class=\"sk-parallel\"><div class=\"sk-parallel-item\"><div class=\"sk-item\"><div class=\"sk-label-container\"><div class=\"sk-label fitted sk-toggleable\"><input class=\"sk-toggleable__control sk-hidden--visually\" id=\"sk-estimator-id-10\" type=\"checkbox\" ><label for=\"sk-estimator-id-10\" class=\"sk-toggleable__label fitted sk-toggleable__label-arrow\"><div><div>num</div></div></label><div class=\"sk-toggleable__content fitted\"><pre>[&#x27;age&#x27;, &#x27;bmi&#x27;, &#x27;children&#x27;]</pre></div> </div></div><div class=\"sk-serial\"><div class=\"sk-item\"><div class=\"sk-estimator fitted sk-toggleable\"><input class=\"sk-toggleable__control sk-hidden--visually\" id=\"sk-estimator-id-11\" type=\"checkbox\" ><label for=\"sk-estimator-id-11\" class=\"sk-toggleable__label fitted sk-toggleable__label-arrow\"><div><div>StandardScaler</div></div><div><a class=\"sk-estimator-doc-link fitted\" rel=\"noreferrer\" target=\"_blank\" href=\"https://scikit-learn.org/1.6/modules/generated/sklearn.preprocessing.StandardScaler.html\">?<span>Documentation for StandardScaler</span></a></div></label><div class=\"sk-toggleable__content fitted\"><pre>StandardScaler()</pre></div> </div></div></div></div></div><div class=\"sk-parallel-item\"><div class=\"sk-item\"><div class=\"sk-label-container\"><div class=\"sk-label fitted sk-toggleable\"><input class=\"sk-toggleable__control sk-hidden--visually\" id=\"sk-estimator-id-12\" type=\"checkbox\" ><label for=\"sk-estimator-id-12\" class=\"sk-toggleable__label fitted sk-toggleable__label-arrow\"><div><div>cat</div></div></label><div class=\"sk-toggleable__content fitted\"><pre>[&#x27;sex&#x27;, &#x27;smoker&#x27;, &#x27;region&#x27;]</pre></div> </div></div><div class=\"sk-serial\"><div class=\"sk-item\"><div class=\"sk-estimator fitted sk-toggleable\"><input class=\"sk-toggleable__control sk-hidden--visually\" id=\"sk-estimator-id-13\" type=\"checkbox\" ><label for=\"sk-estimator-id-13\" class=\"sk-toggleable__label fitted sk-toggleable__label-arrow\"><div><div>OneHotEncoder</div></div><div><a class=\"sk-estimator-doc-link fitted\" rel=\"noreferrer\" target=\"_blank\" href=\"https://scikit-learn.org/1.6/modules/generated/sklearn.preprocessing.OneHotEncoder.html\">?<span>Documentation for OneHotEncoder</span></a></div></label><div class=\"sk-toggleable__content fitted\"><pre>OneHotEncoder(drop=&#x27;first&#x27;)</pre></div> </div></div></div></div></div></div></div><div class=\"sk-item\"><div class=\"sk-estimator fitted sk-toggleable\"><input class=\"sk-toggleable__control sk-hidden--visually\" id=\"sk-estimator-id-14\" type=\"checkbox\" ><label for=\"sk-estimator-id-14\" class=\"sk-toggleable__label fitted sk-toggleable__label-arrow\"><div><div>LinearRegression</div></div><div><a class=\"sk-estimator-doc-link fitted\" rel=\"noreferrer\" target=\"_blank\" href=\"https://scikit-learn.org/1.6/modules/generated/sklearn.linear_model.LinearRegression.html\">?<span>Documentation for LinearRegression</span></a></div></label><div class=\"sk-toggleable__content fitted\"><pre>LinearRegression()</pre></div> </div></div></div></div></div></div>"
      ],
      "text/plain": [
       "Pipeline(steps=[('preprocessor',\n",
       "                 ColumnTransformer(transformers=[('num', StandardScaler(),\n",
       "                                                  ['age', 'bmi', 'children']),\n",
       "                                                 ('cat',\n",
       "                                                  OneHotEncoder(drop='first'),\n",
       "                                                  ['sex', 'smoker',\n",
       "                                                   'region'])])),\n",
       "                ('regressor', LinearRegression())])"
      ]
     },
     "execution_count": 80,
     "metadata": {},
     "output_type": "execute_result"
    }
   ],
   "source": [
    "from sklearn.compose import ColumnTransformer\n",
    "from sklearn.preprocessing import OneHotEncoder, StandardScaler\n",
    "from sklearn.pipeline import Pipeline\n",
    "\n",
    "categorical_features = ['sex', 'smoker', 'region']\n",
    "numeric_features = ['age', 'bmi', 'children']\n",
    "\n",
    "X = insurance_data.drop(['charges', 'charges_log'], axis=1)\n",
    "Y = insurance_data['charges_log']\n",
    "\n",
    "preprocessor = ColumnTransformer(transformers=[\n",
    "    ('num', StandardScaler(), numeric_features),\n",
    "    ('cat', OneHotEncoder(drop='first'), categorical_features)\n",
    "])\n",
    "\n",
    "model = Pipeline(steps=[\n",
    "    ('preprocessor', preprocessor),\n",
    "    ('regressor', LinearRegression())\n",
    "])\n",
    "\n",
    "X_train, X_test, Y_train, Y_test = train_test_split(X, Y, test_size=0.2, random_state=42)\n",
    "model.fit(X_train, Y_train)\n"
   ]
  },
  {
   "cell_type": "markdown",
   "id": "e4be3cce-1af0-4abb-9914-17e0218ba0cb",
   "metadata": {},
   "source": [
    "## Splitting Features and Target"
   ]
  },
  {
   "cell_type": "markdown",
   "id": "0061e776",
   "metadata": {},
   "source": [
    "### 🔍 Explicación de la siguiente celda de código:\n",
    "*(Por favor, personaliza esta descripción según el objetivo específico del bloque de código que sigue.)*\n"
   ]
  },
  {
   "cell_type": "code",
   "execution_count": 81,
   "id": "577ab336-0e92-4a1a-8178-7f197ecb4bb4",
   "metadata": {},
   "outputs": [
    {
     "name": "stdout",
     "output_type": "stream",
     "text": [
      "      age     sex     bmi  children smoker     region\n",
      "0      19  female  27.900         0    yes  southwest\n",
      "1      18    male  33.770         1     no  southeast\n",
      "2      28    male  33.000         3     no  southeast\n",
      "3      33    male  22.705         0     no  northwest\n",
      "4      32    male  28.880         0     no  northwest\n",
      "...   ...     ...     ...       ...    ...        ...\n",
      "1333   50    male  30.970         3     no  northwest\n",
      "1334   18  female  31.920         0     no  northeast\n",
      "1335   18  female  36.850         0     no  southeast\n",
      "1336   21  female  25.800         0     no  southwest\n",
      "1337   61  female  29.070         0    yes  northwest\n",
      "\n",
      "[1338 rows x 6 columns]\n"
     ]
    }
   ],
   "source": [
    "print(X)"
   ]
  },
  {
   "cell_type": "markdown",
   "id": "159d5345-de35-4dfb-8ebb-3a494354139c",
   "metadata": {},
   "source": [
    "### Splitting the data into Training data & Testing Data"
   ]
  },
  {
   "cell_type": "markdown",
   "id": "dfc87731",
   "metadata": {},
   "source": [
    "### 🔍 Explicación de la siguiente celda de código:\n",
    "*(Por favor, personaliza esta descripción según el objetivo específico del bloque de código que sigue.)*\n"
   ]
  },
  {
   "cell_type": "code",
   "execution_count": 82,
   "id": "4cf46fbc-0589-4392-b4d8-a5201d7c2e83",
   "metadata": {},
   "outputs": [
    {
     "name": "stdout",
     "output_type": "stream",
     "text": [
      "(1338, 6) (1070, 6) (268, 6)\n"
     ]
    }
   ],
   "source": [
    "print(X.shape, X_train.shape, X_test.shape)"
   ]
  },
  {
   "cell_type": "markdown",
   "id": "022a5588",
   "metadata": {},
   "source": [
    "### 🔍 Explicación de la siguiente celda de código:\n",
    "*(Por favor, personaliza esta descripción según el objetivo específico del bloque de código que sigue.)*\n"
   ]
  },
  {
   "cell_type": "code",
   "execution_count": 83,
   "id": "c1275c0e-108a-4ba1-968e-f8cd0ef26bcc",
   "metadata": {},
   "outputs": [
    {
     "name": "stdout",
     "output_type": "stream",
     "text": [
      "0        9.734236\n",
      "1        7.453882\n",
      "2        8.400763\n",
      "3        9.998137\n",
      "4        8.260455\n",
      "          ...    \n",
      "1333     9.268755\n",
      "1334     7.699381\n",
      "1335     7.396847\n",
      "1336     7.605365\n",
      "1337    10.279948\n",
      "Name: charges_log, Length: 1338, dtype: float64\n"
     ]
    }
   ],
   "source": [
    "print(Y)"
   ]
  },
  {
   "cell_type": "markdown",
   "id": "848a0d47",
   "metadata": {},
   "source": [
    "### 🔍 Explicación de la siguiente celda de código:\n",
    "*(Por favor, personaliza esta descripción según el objetivo específico del bloque de código que sigue.)*\n"
   ]
  },
  {
   "cell_type": "code",
   "execution_count": 84,
   "id": "9be8ad7b-b76c-4d9c-a0a5-265ef7dc2576",
   "metadata": {},
   "outputs": [
    {
     "name": "stdout",
     "output_type": "stream",
     "text": [
      "(1338,) (1070,) (268,)\n"
     ]
    }
   ],
   "source": [
    "print(Y.shape, Y_train.shape, Y_test.shape)"
   ]
  },
  {
   "cell_type": "markdown",
   "id": "bb565dd7",
   "metadata": {},
   "source": [
    "### 🔍 Explicación de la siguiente celda de código:\n",
    "*(Por favor, personaliza esta descripción según el objetivo específico del bloque de código que sigue.)*\n"
   ]
  },
  {
   "cell_type": "code",
   "execution_count": 85,
   "id": "26ef3bd3-644b-487c-ac20-a68d45babfd0",
   "metadata": {},
   "outputs": [
    {
     "name": "stdout",
     "output_type": "stream",
     "text": [
      "0        9.734236\n",
      "1        7.453882\n",
      "2        8.400763\n",
      "3        9.998137\n",
      "4        8.260455\n",
      "          ...    \n",
      "1333     9.268755\n",
      "1334     7.699381\n",
      "1335     7.396847\n",
      "1336     7.605365\n",
      "1337    10.279948\n",
      "Name: charges_log, Length: 1338, dtype: float64\n"
     ]
    }
   ],
   "source": [
    "print(Y)"
   ]
  },
  {
   "cell_type": "markdown",
   "id": "5a69936c-81b6-47b9-ada2-9fc007613196",
   "metadata": {},
   "source": [
    "### Model Training"
   ]
  },
  {
   "cell_type": "markdown",
   "id": "221c5552",
   "metadata": {},
   "source": [
    "### 🔍 Explicación de la siguiente celda de código:\n",
    "*(Por favor, personaliza esta descripción según el objetivo específico del bloque de código que sigue.)*\n"
   ]
  },
  {
   "cell_type": "code",
   "execution_count": 86,
   "id": "8800232e-865f-472b-8b64-8a51ca63a607",
   "metadata": {},
   "outputs": [
    {
     "name": "stdout",
     "output_type": "stream",
     "text": [
      "MAE (log): 0.2697\n",
      "RMSE (log): 0.4189\n",
      "R² (log): 0.8047\n"
     ]
    }
   ],
   "source": [
    "from sklearn.metrics import mean_absolute_error, mean_squared_error, r2_score\n",
    "\n",
    "Y_pred_log = model.predict(X_test)\n",
    "mae = mean_absolute_error(Y_test, Y_pred_log)\n",
    "rmse = np.sqrt(mean_squared_error(Y_test, Y_pred_log))\n",
    "r2 = r2_score(Y_test, Y_pred_log)\n",
    "\n",
    "print(f\"MAE (log): {mae:.4f}\")\n",
    "print(f\"RMSE (log): {rmse:.4f}\")\n",
    "print(f\"R² (log): {r2:.4f}\")\n"
   ]
  },
  {
   "cell_type": "markdown",
   "id": "b384d987",
   "metadata": {},
   "source": [
    "### 🔍 Explicación de la siguiente celda de código:\n",
    "*(Por favor, personaliza esta descripción según el objetivo específico del bloque de código que sigue.)*\n"
   ]
  },
  {
   "cell_type": "code",
   "execution_count": 87,
   "id": "0af9780e-1e62-445e-a08b-e60774ec6631",
   "metadata": {},
   "outputs": [
    {
     "name": "stdout",
     "output_type": "stream",
     "text": [
      "MAE ($): 3888.44\n",
      "RMSE ($): 7814.06\n",
      "R² ($): 0.6067\n"
     ]
    }
   ],
   "source": [
    "# Predicciones en escala original\n",
    "Y_pred_dollars = np.expm1(Y_pred_log)\n",
    "Y_test_dollars = np.expm1(Y_test)\n",
    "\n",
    "# Evaluación en $ reales\n",
    "mae_real = mean_absolute_error(Y_test_dollars, Y_pred_dollars)\n",
    "rmse_real = np.sqrt(mean_squared_error(Y_test_dollars, Y_pred_dollars))\n",
    "r2_real = r2_score(Y_test_dollars, Y_pred_dollars)\n",
    "\n",
    "print(f\"MAE ($): {mae_real:.2f}\")\n",
    "print(f\"RMSE ($): {rmse_real:.2f}\")\n",
    "print(f\"R² ($): {r2_real:.4f}\")\n"
   ]
  },
  {
   "cell_type": "markdown",
   "id": "31120873-6245-4c04-a57e-0942df9942ca",
   "metadata": {},
   "source": [
    "### Building a Predictive system"
   ]
  },
  {
   "cell_type": "markdown",
   "id": "b3ac3864",
   "metadata": {},
   "source": [
    "### 🔍 Explicación de la siguiente celda de código:\n",
    "*(Por favor, personaliza esta descripción según el objetivo específico del bloque de código que sigue.)*\n"
   ]
  },
  {
   "cell_type": "code",
   "execution_count": 91,
   "id": "507f9e2a-2153-4e2a-bad3-090c3ea7d95f",
   "metadata": {},
   "outputs": [
    {
     "name": "stdout",
     "output_type": "stream",
     "text": [
      "Predicción (log): 10.1192\n",
      "Predicción estimada ($): 24813.23\n"
     ]
    }
   ],
   "source": [
    "input_data = {\n",
    "    'age': [40],\n",
    "    'sex': ['male'],         # minúscula\n",
    "    'bmi': [19.8],\n",
    "    'children': [1],\n",
    "    'smoker': ['yes'],        # minúscula\n",
    "    'region': ['southeast']  # minúscula\n",
    "}\n",
    "\n",
    "input_df = pd.DataFrame(input_data)\n",
    "\n",
    "# Predicción\n",
    "prediction_log = model.predict(input_df)\n",
    "prediction_dollars = np.expm1(prediction_log)\n",
    "\n",
    "print(f\"Predicción (log): {prediction_log[0]:.4f}\")\n",
    "print(f\"Predicción estimada ($): {prediction_dollars[0]:.2f}\")\n"
   ]
  },
  {
   "cell_type": "markdown",
   "id": "382a8797",
   "metadata": {},
   "source": [
    "### 🔍 Explicación de la siguiente celda de código:\n",
    "*(Por favor, personaliza esta descripción según el objetivo específico del bloque de código que sigue.)*\n"
   ]
  },
  {
   "cell_type": "code",
   "execution_count": 92,
   "id": "3a5b704d-607a-427f-b4c8-9efade6c493d",
   "metadata": {},
   "outputs": [
    {
     "name": "stdout",
     "output_type": "stream",
     "text": [
      "📊 Random Forest - Escala logarítmica\n",
      "MAE (log): 0.1951\n",
      "RMSE (log): 0.3693\n",
      "R² (log): 0.8482\n",
      "\n",
      "📊 Random Forest - Escala real ($)\n",
      "MAE ($): 2089.04\n",
      "RMSE ($): 4357.47\n",
      "R² ($): 0.8777\n"
     ]
    }
   ],
   "source": [
    "from sklearn.ensemble import RandomForestRegressor\n",
    "\n",
    "# Definir nuevo pipeline con Random Forest\n",
    "model_rf = Pipeline(steps=[\n",
    "    ('preprocessor', preprocessor),\n",
    "    ('regressor', RandomForestRegressor(n_estimators=100, random_state=42))\n",
    "])\n",
    "\n",
    "# Entrenamiento\n",
    "model_rf.fit(X_train, Y_train)\n",
    "\n",
    "# Predicción\n",
    "Y_pred_log_rf = model_rf.predict(X_test)\n",
    "\n",
    "# Evaluación en log\n",
    "mae_rf = mean_absolute_error(Y_test, Y_pred_log_rf)\n",
    "rmse_rf = np.sqrt(mean_squared_error(Y_test, Y_pred_log_rf))\n",
    "r2_rf = r2_score(Y_test, Y_pred_log_rf)\n",
    "\n",
    "print(\"📊 Random Forest - Escala logarítmica\")\n",
    "print(f\"MAE (log): {mae_rf:.4f}\")\n",
    "print(f\"RMSE (log): {rmse_rf:.4f}\")\n",
    "print(f\"R² (log): {r2_rf:.4f}\")\n",
    "\n",
    "# Evaluación en dólares reales\n",
    "Y_pred_rf_dollars = np.expm1(Y_pred_log_rf)\n",
    "Y_test_dollars = np.expm1(Y_test)\n",
    "\n",
    "mae_rf_real = mean_absolute_error(Y_test_dollars, Y_pred_rf_dollars)\n",
    "rmse_rf_real = np.sqrt(mean_squared_error(Y_test_dollars, Y_pred_rf_dollars))\n",
    "r2_rf_real = r2_score(Y_test_dollars, Y_pred_rf_dollars)\n",
    "\n",
    "print(\"\\n📊 Random Forest - Escala real ($)\")\n",
    "print(f\"MAE ($): {mae_rf_real:.2f}\")\n",
    "print(f\"RMSE ($): {rmse_rf_real:.2f}\")\n",
    "print(f\"R² ($): {r2_rf_real:.4f}\")\n"
   ]
  },
  {
   "cell_type": "markdown",
   "id": "78b9b992",
   "metadata": {},
   "source": [
    "### 🔍 Explicación de la siguiente celda de código:\n",
    "*(Por favor, personaliza esta descripción según el objetivo específico del bloque de código que sigue.)*\n"
   ]
  },
  {
   "cell_type": "code",
   "execution_count": 93,
   "id": "0f01c541-1eee-430f-b3cd-b5414892d639",
   "metadata": {},
   "outputs": [
    {
     "data": {
      "image/png": "[encoded data removed]",
      "text/plain": [
       "<Figure size 800x500 with 1 Axes>"
      ]
     },
     "metadata": {},
     "output_type": "display_data"
    }
   ],
   "source": [
    "# Extraer el modelo interno del pipeline\n",
    "rf_model = model_rf.named_steps['regressor']\n",
    "onehot = model_rf.named_steps['preprocessor'].named_transformers_['cat']\n",
    "ohe_feature_names = onehot.get_feature_names_out(['sex', 'smoker', 'region'])\n",
    "\n",
    "# Todas las columnas del modelo completo\n",
    "feature_names = numeric_features + list(ohe_feature_names)\n",
    "\n",
    "# Importancia\n",
    "importances = rf_model.feature_importances_\n",
    "import pandas as pd\n",
    "\n",
    "feat_imp_df = pd.DataFrame({\n",
    "    'Feature': feature_names,\n",
    "    'Importance': importances\n",
    "}).sort_values(by='Importance', ascending=False)\n",
    "\n",
    "# Visualización\n",
    "import matplotlib.pyplot as plt\n",
    "\n",
    "plt.figure(figsize=(8,5))\n",
    "sns.barplot(data=feat_imp_df, x='Importance', y='Feature')\n",
    "plt.title(\"Importancia de características (Random Forest)\")\n",
    "plt.tight_layout()\n",
    "plt.show()\n"
   ]
  },
  {
   "cell_type": "markdown",
   "id": "0f7ce30e",
   "metadata": {},
   "source": [
    "### 🔍 Explicación de la siguiente celda de código:\n",
    "*(Por favor, personaliza esta descripción según el objetivo específico del bloque de código que sigue.)*\n"
   ]
  },
  {
   "cell_type": "code",
   "execution_count": 94,
   "id": "e2f302fa-96fb-4add-80d6-09b3ff93962d",
   "metadata": {},
   "outputs": [
    {
     "data": {
      "image/png": "[encoded data removed]",
      "text/plain": [
       "<Figure size 600x600 with 1 Axes>"
      ]
     },
     "metadata": {},
     "output_type": "display_data"
    }
   ],
   "source": [
    "plt.figure(figsize=(6,6))\n",
    "sns.scatterplot(x=Y_test_dollars, y=Y_pred_rf_dollars, alpha=0.6)\n",
    "plt.plot([0, max(Y_test_dollars)], [0, max(Y_test_dollars)], color='red', linestyle='--')  # línea ideal\n",
    "plt.xlabel(\"Real ($)\")\n",
    "plt.ylabel(\"Predicho ($)\")\n",
    "plt.title(\"Real vs Predicho (Random Forest)\")\n",
    "plt.tight_layout()\n",
    "plt.show()\n"
   ]
  },
  {
   "cell_type": "markdown",
   "id": "216ec6cd",
   "metadata": {},
   "source": [
    "### 🔍 Explicación de la siguiente celda de código:\n",
    "*(Por favor, personaliza esta descripción según el objetivo específico del bloque de código que sigue.)*\n"
   ]
  },
  {
   "cell_type": "code",
   "execution_count": 95,
   "id": "1e1f135f-5693-4fb5-996d-a8aa9f95df0f",
   "metadata": {},
   "outputs": [
    {
     "data": {
      "image/png": "[encoded data removed]",
      "text/plain": [
       "<Figure size 600x400 with 1 Axes>"
      ]
     },
     "metadata": {},
     "output_type": "display_data"
    }
   ],
   "source": [
    "residuals = Y_test_dollars - Y_pred_rf_dollars\n",
    "\n",
    "plt.figure(figsize=(6,4))\n",
    "sns.histplot(residuals, kde=True)\n",
    "plt.title(\"Distribución de residuos (Errores)\")\n",
    "plt.xlabel(\"Error = Real - Predicho ($)\")\n",
    "plt.tight_layout()\n",
    "plt.show()\n"
   ]
  },
  {
   "cell_type": "markdown",
   "id": "432c1dea",
   "metadata": {},
   "source": [
    "### 🔍 Explicación de la siguiente celda de código:\n",
    "*(Por favor, personaliza esta descripción según el objetivo específico del bloque de código que sigue.)*\n"
   ]
  },
  {
   "cell_type": "code",
   "execution_count": 99,
   "id": "5813885b-b9fc-40cf-bf2d-5f056c339dfa",
   "metadata": {},
   "outputs": [
    {
     "name": "stdout",
     "output_type": "stream",
     "text": [
      "\n",
      "📊 Gradient Boosting - Escala logarítmica\n",
      "MAE (log): 0.1870\n",
      "RMSE (log): 0.3473\n",
      "R² (log): 0.8658\n"
     ]
    }
   ],
   "source": [
    "from sklearn.ensemble import GradientBoostingRegressor\n",
    "from sklearn.metrics import mean_absolute_error, mean_squared_error, r2_score\n",
    "import numpy as np\n",
    "\n",
    "# Pipeline con Gradient Boosting\n",
    "model_gb = Pipeline(steps=[\n",
    "    ('preprocessor', preprocessor),\n",
    "    ('regressor', GradientBoostingRegressor(n_estimators=100, learning_rate=0.1, random_state=42))\n",
    "])\n",
    "\n",
    "# Entrenamiento\n",
    "model_gb.fit(X_train, Y_train)\n",
    "\n",
    "# Predicción en escala log\n",
    "Y_pred_log_gb = model_gb.predict(X_test)\n",
    "\n",
    "# Evaluación en log\n",
    "mae_gb = mean_absolute_error(Y_test, Y_pred_log_gb)\n",
    "rmse_gb = np.sqrt(mean_squared_error(Y_test, Y_pred_log_gb))\n",
    "r2_gb = r2_score(Y_test, Y_pred_log_gb)\n",
    "\n",
    "print(\"\\n📊 Gradient Boosting - Escala logarítmica\")\n",
    "print(f\"MAE (log): {mae_gb:.4f}\")\n",
    "print(f\"RMSE (log): {rmse_gb:.4f}\")\n",
    "print(f\"R² (log): {r2_gb:.4f}\")\n"
   ]
  },
  {
   "cell_type": "markdown",
   "id": "ba77f173",
   "metadata": {},
   "source": [
    "### 🔍 Explicación de la siguiente celda de código:\n",
    "*(Por favor, personaliza esta descripción según el objetivo específico del bloque de código que sigue.)*\n"
   ]
  },
  {
   "cell_type": "code",
   "execution_count": 100,
   "id": "c5b5db1f-13d7-47f3-a9e3-87f67674a614",
   "metadata": {},
   "outputs": [
    {
     "name": "stdout",
     "output_type": "stream",
     "text": [
      "\n",
      "📊 Gradient Boosting - Escala real ($)\n",
      "MAE ($): 2029.37\n",
      "RMSE ($): 4384.07\n",
      "R² ($): 0.8762\n"
     ]
    }
   ],
   "source": [
    "# Transformar de log a valores reales ($)\n",
    "Y_pred_gb_dollars = np.expm1(Y_pred_log_gb)\n",
    "Y_test_dollars = np.expm1(Y_test)\n",
    "\n",
    "mae_gb_real = mean_absolute_error(Y_test_dollars, Y_pred_gb_dollars)\n",
    "rmse_gb_real = np.sqrt(mean_squared_error(Y_test_dollars, Y_pred_gb_dollars))\n",
    "r2_gb_real = r2_score(Y_test_dollars, Y_pred_gb_dollars)\n",
    "\n",
    "print(\"\\n📊 Gradient Boosting - Escala real ($)\")\n",
    "print(f\"MAE ($): {mae_gb_real:.2f}\")\n",
    "print(f\"RMSE ($): {rmse_gb_real:.2f}\")\n",
    "print(f\"R² ($): {r2_gb_real:.4f}\")\n"
   ]
  },
  {
   "cell_type": "markdown",
   "id": "1b538b9b",
   "metadata": {},
   "source": [
    "### 🔍 Explicación de la siguiente celda de código:\n",
    "*(Por favor, personaliza esta descripción según el objetivo específico del bloque de código que sigue.)*\n"
   ]
  },
  {
   "cell_type": "code",
   "execution_count": 101,
   "id": "c20825d9-5c34-49eb-9f0e-361271e6eb27",
   "metadata": {},
   "outputs": [
    {
     "data": {
      "image/png": "[encoded data removed]",
      "text/plain": [
       "<Figure size 600x600 with 1 Axes>"
      ]
     },
     "metadata": {},
     "output_type": "display_data"
    }
   ],
   "source": [
    "import matplotlib.pyplot as plt\n",
    "import seaborn as sns\n",
    "\n",
    "plt.figure(figsize=(6,6))\n",
    "sns.scatterplot(x=Y_test_dollars, y=Y_pred_gb_dollars, alpha=0.6)\n",
    "plt.plot([0, max(Y_test_dollars)], [0, max(Y_test_dollars)], color='red', linestyle='--')\n",
    "plt.xlabel(\"Real ($)\")\n",
    "plt.ylabel(\"Predicho ($)\")\n",
    "plt.title(\"Real vs Predicho (Gradient Boosting)\")\n",
    "plt.tight_layout()\n",
    "plt.show()\n"
   ]
  },
  {
   "cell_type": "markdown",
   "id": "067fd88b",
   "metadata": {},
   "source": [
    "### 🔍 Explicación de la siguiente celda de código:\n",
    "*(Por favor, personaliza esta descripción según el objetivo específico del bloque de código que sigue.)*\n"
   ]
  },
  {
   "cell_type": "code",
   "execution_count": 102,
   "id": "d86ce196-de8b-4837-9def-786ae79ca6a4",
   "metadata": {},
   "outputs": [
    {
     "data": {
      "image/png": "[encoded data removed]",
      "text/plain": [
       "<Figure size 600x400 with 1 Axes>"
      ]
     },
     "metadata": {},
     "output_type": "display_data"
    }
   ],
   "source": [
    "residuals_gb = Y_test_dollars - Y_pred_gb_dollars\n",
    "\n",
    "plt.figure(figsize=(6,4))\n",
    "sns.histplot(residuals_gb, kde=True)\n",
    "plt.title(\"Distribución de residuos (Gradient Boosting)\")\n",
    "plt.xlabel(\"Error = Real - Predicho ($)\")\n",
    "plt.tight_layout()\n",
    "plt.show()\n"
   ]
  }
 ],
 "metadata": {
  "kernelspec": {
   "display_name": "Python 3 (ipykernel)",
   "language": "python",
   "name": "python3"
  },
  "language_info": {
   "codemirror_mode": {
    "name": "ipython",
    "version": 3
   },
   "file_extension": ".py",
   "mimetype": "text/x-python",
   "name": "python",
   "nbconvert_exporter": "python",
   "pygments_lexer": "ipython3",
   "version": "3.12.1"
  }
 },
 "nbformat": 4,
 "nbformat_minor": 5
}
