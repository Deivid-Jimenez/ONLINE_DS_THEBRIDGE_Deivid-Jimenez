{
 "cells": [
  {
   "cell_type": "markdown",
   "id": "3c849615-405b-4919-af20-604d49959ea3",
   "metadata": {},
   "source": [
    "![Diagrama del modelo de predicción](image.png)\n"
   ]
  },
  {
   "cell_type": "markdown",
   "id": "40918c69-e8d2-4a93-adcf-844d147c1224",
   "metadata": {},
   "source": [
    "# Predicción de Costos de Seguro Médico con Machine Learning"
   ]
  },
  {
   "cell_type": "markdown",
   "id": "94628436-1b58-4243-bb33-a0f4778f33e0",
   "metadata": {},
   "source": [
    "## Estructura del Proyecto\n",
    "\n",
    "- `ML Project- Deivid Jimenez Final.ipynb`: Notebook principal con todo el análisis, visualización y modelos de predicción.\n",
    "- `./data/insurance.csv`: Dataset utilizado para el entrenamiento y pruebas.\n",
    "- `image.png`: Imagen ilustrativa del modelo o flujo de trabajo."
   ]
  },
  {
   "cell_type": "markdown",
   "id": "4b05c31d-3100-49bc-b879-0fa73f2dc6e8",
   "metadata": {},
   "source": [
    "##  Tecnologías utilizadas\n",
    "\n",
    "- Python\n",
    "- Pandas, NumPy\n",
    "- Matplotlib, Seaborn\n",
    "- Scikit-learn (Linear Regression, Random Forest, Gradient Boosting)\n",
    "- Pipelines de preprocesamiento"
   ]
  },
  {
   "cell_type": "markdown",
   "id": "640f9ec6-d30a-408f-b856-cd5ce72af63e",
   "metadata": {},
   "source": [
    "\n",
    "## Modelos utilizados\n",
    "\n",
    "- **Regresión Lineal**\n",
    "- **Random Forest Regressor**\n",
    "- **Gradient Boosting Regressor**"
   ]
  },
  {
   "cell_type": "markdown",
   "id": "46cc67ff-ad29-4dd2-8741-3df2a0592ab7",
   "metadata": {},
   "source": [
    "## Evaluación\n",
    "\n",
    "Los modelos son evaluados usando:\n",
    "\n",
    "- Mean Absolute Error (MAE)\n",
    "- Mean Squared Error (MSE)\n",
    "- R² Score"
   ]
  },
  {
   "cell_type": "markdown",
   "id": "9676a8c6-5564-41c6-b2ec-6f40b6f8697a",
   "metadata": {},
   "source": [
    "## Cómo ejecutar\n",
    "\n",
    "1. Clona este repositorio o descarga los archivos.\n",
    "2. Asegúrate de tener Python 3.x instalado con los siguientes paquetes:"
   ]
  },
  {
   "cell_type": "markdown",
   "id": "9a3e45a3-52b9-4e72-8b05-da6556ffe9cf",
   "metadata": {},
   "source": [
    "jupyter notebook \"ML Project- Deivid Jimenez Final.ipynb"
   ]
  },
  {
   "cell_type": "markdown",
   "id": "b4eeb18c-c4c3-4022-b068-1887e99e193e",
   "metadata": {},
   "source": [
    "## Objetivo\n",
    "Predecir el costo de seguro con alta precisión y entender cómo influye cada variable en dicho costo. El proyecto también sirve como ejercicio educativo de preprocesamiento, selección de modelos y evaluación."
   ]
  },
  {
   "cell_type": "markdown",
   "id": "b71902e5-7543-4f8e-ad27-90c5f5758806",
   "metadata": {},
   "source": [
    "## Licencias\n",
    "Este proyecto es de uso educativo y sin fines comerciales."
   ]
  }
 ],
 "metadata": {
  "kernelspec": {
   "display_name": "Python 3 (ipykernel)",
   "language": "python",
   "name": "python3"
  },
  "language_info": {
   "codemirror_mode": {
    "name": "ipython",
    "version": 3
   },
   "file_extension": ".py",
   "mimetype": "text/x-python",
   "name": "python",
   "nbconvert_exporter": "python",
   "pygments_lexer": "ipython3",
   "version": "3.12.1"
  }
 },
 "nbformat": 4,
 "nbformat_minor": 5
}
