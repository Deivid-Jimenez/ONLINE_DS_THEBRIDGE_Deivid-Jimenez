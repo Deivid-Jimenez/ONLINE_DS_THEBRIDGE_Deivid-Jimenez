{
 "cells": [
  {
   "cell_type": "markdown",
   "id": "b3ce8d8b-5f49-4c4e-88a1-c0584b1f55e1",
   "metadata": {},
   "source": [
    "### PART I: Nuevos alumnos, \"nuevo\" algoritmo"
   ]
  },
  {
   "cell_type": "markdown",
   "id": "99916772-a430-422e-9291-e5c9fe6d742c",
   "metadata": {},
   "source": [
    "Apartado 1. Como en la práctica obligatoria de la unidad anterior, se han incorporado dos alumnos a la clase de Dena Aidon: Teresa y Udo. Ambos han rellenado el cuestionario de comer y volar, de la siguiente forma:\n",
    "\n",
    "Teresa: Comer: -2, Volar: -5\n",
    "Udo: Comer: 0, Volar: 4\n",
    "\n",
    "1.1 A partir de la clase de Dena Aidon, dada como una lista de listas o vectores fila, crea un array de Numpy.\n",
    "1.2 Añade a Teresa y Udo de dos formas diferentes mediante concatenaciones"
   ]
  },
  {
   "cell_type": "code",
   "execution_count": 1,
   "id": "5e4deec4-c594-43c0-8883-4ce9232a36d3",
   "metadata": {},
   "outputs": [],
   "source": [
    "import numpy as np"
   ]
  },
  {
   "cell_type": "code",
   "execution_count": 2,
   "id": "ec48bdf6-5b42-46c8-9be5-23b4f6f5a6da",
   "metadata": {},
   "outputs": [],
   "source": [
    "alumnos_aidone = [[5, 4],\n",
    "                  [2, -3],\n",
    "                  [3, 5],\n",
    "                  [-5, 4],\n",
    "                  [0, -1],\n",
    "                  [3, 2],\n",
    "                  [-1, 1],\n",
    "                  [5, -2],\n",
    "                  [-5, 3],\n",
    "                  [-5, 1]]\n",
    "\n",
    "array_alumnos = np.array(alumnos_aidone)"
   ]
  },
  {
   "cell_type": "code",
   "execution_count": 3,
   "id": "17a404e2-1116-47d3-a7e5-59283f0903f6",
   "metadata": {},
   "outputs": [],
   "source": [
    "teresa = np.array([-2, -5])\n",
    "udo = np.array([0, 4])"
   ]
  },
  {
   "cell_type": "code",
   "execution_count": 4,
   "id": "e26902f5-0984-4d28-8114-d5869bc244cc",
   "metadata": {},
   "outputs": [
    {
     "name": "stdout",
     "output_type": "stream",
     "text": [
      "Array original de alumnos:\n",
      "[[ 5  4]\n",
      " [ 2 -3]\n",
      " [ 3  5]\n",
      " [-5  4]\n",
      " [ 0 -1]\n",
      " [ 3  2]\n",
      " [-1  1]\n",
      " [ 5 -2]\n",
      " [-5  3]\n",
      " [-5  1]]\n",
      "\n",
      "Array con Teresa y Udo añadidos usando np.vstack:\n",
      "[[ 5  4]\n",
      " [ 2 -3]\n",
      " [ 3  5]\n",
      " [-5  4]\n",
      " [ 0 -1]\n",
      " [ 3  2]\n",
      " [-1  1]\n",
      " [ 5 -2]\n",
      " [-5  3]\n",
      " [-5  1]\n",
      " [-2 -5]\n",
      " [ 0  4]]\n",
      "\n",
      "Array con Teresa y Udo añadidos usando np.append:\n",
      "[[ 5  4]\n",
      " [ 2 -3]\n",
      " [ 3  5]\n",
      " [-5  4]\n",
      " [ 0 -1]\n",
      " [ 3  2]\n",
      " [-1  1]\n",
      " [ 5 -2]\n",
      " [-5  3]\n",
      " [-5  1]\n",
      " [-2 -5]\n",
      " [ 0  4]]\n"
     ]
    }
   ],
   "source": [
    "array_alumnos_vstack = np.vstack((array_alumnos, teresa, udo))\n",
    "array_alumnos_append = np.append(array_alumnos, [teresa, udo], axis=0)\n",
    "print(\"Array original de alumnos:\")\n",
    "print(array_alumnos)\n",
    "print(\"\\nArray con Teresa y Udo añadidos usando np.vstack:\")\n",
    "print(array_alumnos_vstack)\n",
    "print(\"\\nArray con Teresa y Udo añadidos usando np.append:\")\n",
    "print(array_alumnos_append)"
   ]
  },
  {
   "cell_type": "markdown",
   "id": "53970103-f6c6-4162-9041-af930d55fba0",
   "metadata": {},
   "source": [
    "**Apartado 2**. Modificar el algoritmo de elección de la clase extraescolar principal (el presentado en la siguiente celda) de forma que:\n",
    "\n",
    "2.1 En vez de emplear el diccionario de reparto empleemos una matriz de (12x3) incializada con 0 en todas sus posiciones.\n",
    "\n",
    "2.2 Emplee alguna de las funciones de la librería numpy en las líneas señaladas para hacer los cálculos\n",
    "\n",
    "2.3 Utilice alguna de las funciones de agregación vistas para obtener la clase extraescolar asignada"
   ]
  },
  {
   "cell_type": "code",
   "execution_count": 7,
   "id": "b1aa3bce-f5f0-430c-98f7-fe22a530fcc5",
   "metadata": {},
   "outputs": [
    {
     "name": "stdout",
     "output_type": "stream",
     "text": [
      "Par Rodrigo con vector [5 4]:\n",
      "CAI\n",
      "Par Lucia con vector [ 2 -3]:\n",
      "ER\n",
      "Par Alejandro con vector [3 5]:\n",
      "CAI\n",
      "Par Valeria con vector [-5  4]:\n",
      "NMPC\n",
      "Par Javier con vector [ 0 -1]:\n",
      "ER\n",
      "Par Camila con vector [3 2]:\n",
      "CAI\n",
      "Par Diego con vector [-1  1]:\n",
      "NMPC\n",
      "Par Gabriela con vector [ 5 -2]:\n",
      "ER\n",
      "Par Mateo con vector [-5  3]:\n",
      "NMPC\n",
      "Par Sofía con vector [-5  1]:\n",
      "NMPC\n",
      "Par Teresa con vector [-2 -5]:\n",
      "ER\n",
      "Par Udo con vector [0 4]:\n",
      "CAI\n",
      "\n",
      "Matriz de reparto:\n",
      "[[1 0 0]\n",
      " [0 1 0]\n",
      " [1 0 0]\n",
      " [0 0 1]\n",
      " [0 1 0]\n",
      " [1 0 0]\n",
      " [0 0 1]\n",
      " [0 1 0]\n",
      " [0 0 1]\n",
      " [0 0 1]\n",
      " [0 1 0]\n",
      " [1 0 0]]\n"
     ]
    }
   ],
   "source": [
    "alumnos_ref = [\"Rodrigo\", \"Gabriela\", \"Mateo\"]\n",
    "lista_alumnos = ['Rodrigo', 'Lucia', 'Alejandro', 'Valeria', 'Javier', 'Camila', 'Diego', 'Gabriela', 'Mateo', 'Sofía', 'Teresa', 'Udo']\n",
    "curso_asignado = [\"CAI\", \"ER\", \"NMPC\"]\n",
    "\n",
    "matriz_reparto = np.zeros((12, 3), dtype=int)\n",
    "\n",
    "alumnos_aidone = np.array([[5, 4],\n",
    "                           [2, -3],\n",
    "                           [3, 5],\n",
    "                           [-5, 4],\n",
    "                           [0, -1],\n",
    "                           [3, 2],\n",
    "                           [-1, 1],\n",
    "                           [5, -2],\n",
    "                           [-5, 3],\n",
    "                           [-5, 1],\n",
    "                           [-2, -5],\n",
    "                           [0, 4]])\n",
    "\n",
    "num_alumnos = len(lista_alumnos)\n",
    "\n",
    "for i_vector in range(num_alumnos):\n",
    "    alumno = lista_alumnos[i_vector]\n",
    "    vector_alumno = alumnos_aidone[i_vector]\n",
    "    print(f\"Par {alumno} con vector {vector_alumno}:\")\n",
    "\n",
    "    vector_distancias = np.full(3, 1000) \n",
    "\n",
    "    for indice_curso, alumno_ref in enumerate(alumnos_ref):\n",
    "        indice_alumno_ref = lista_alumnos.index(alumno_ref)\n",
    "        vec_ref = alumnos_aidone[indice_alumno_ref]\n",
    "\n",
    "        distancia = np.linalg.norm(vector_alumno - vec_ref) \n",
    "        vector_distancias[indice_curso] = distancia\n",
    "\n",
    "    indice_curso_elegido = np.argmin(vector_distancias) \n",
    "    print(f\"{curso_asignado[indice_curso_elegido]}\")\n",
    "    matriz_reparto[i_vector, indice_curso_elegido] = 1 \n",
    "\n",
    "print(\"\\nMatriz de reparto:\")\n",
    "print(matriz_reparto)"
   ]
  },
  {
   "cell_type": "markdown",
   "id": "291e5e99-5184-44e0-b0ee-a5d8defc855b",
   "metadata": {},
   "source": [
    "Apartado 2.3\n",
    "¿A qué clases asignaremos a Teresa y a Udo?\n",
    "\n",
    "+ Teresa: Asignada al curso ER.\n",
    "\n",
    "+ Udo: Asignado al curso CAI."
   ]
  },
  {
   "cell_type": "markdown",
   "id": "86c67921-d440-46a5-8bef-b1c96d23d90e",
   "metadata": {},
   "source": [
    "### PART II:Mini hundir la flota"
   ]
  },
  {
   "cell_type": "markdown",
   "id": "85e0f07a-162c-42f7-8f90-09d6d2dac963",
   "metadata": {},
   "source": [
    "Crea un tablero de 10x10 relleno del carácter espacio \" \". \n",
    "\n",
    "* (Utiliza un array de Numpy para representarlo y creálo utilizando las inicializaciones que hemos aprendidio)\n",
    "* Posiciona un par de barcos en [(0,1), (1,1)] y [(1,3), (1,4), (1,5), (1,6)]. Los barcos serán Os mayúsculas. Como ves, un barco de dos posiciones de eslora y otro de cuatro.\n",
    "* Recibe un disparo en uno de los barcos, sustituyendo la O por una X\n",
    "* Recibe un disparo en agua, sustituyendo uno de los espacios por un guión: -\n",
    "* Ignorando los disparos recibidos, ahora prueba a posicionar otro barco de 4 posiciones dentro del tablero, pero de manera ALEATORIA."
   ]
  },
  {
   "cell_type": "code",
   "execution_count": null,
   "id": "f460dedd-f7b6-480d-a421-1fe131b4a3fc",
   "metadata": {},
   "outputs": [],
   "source": []
  }
 ],
 "metadata": {
  "kernelspec": {
   "display_name": "Python 3 (ipykernel)",
   "language": "python",
   "name": "python3"
  },
  "language_info": {
   "codemirror_mode": {
    "name": "ipython",
    "version": 3
   },
   "file_extension": ".py",
   "mimetype": "text/x-python",
   "name": "python",
   "nbconvert_exporter": "python",
   "pygments_lexer": "ipython3",
   "version": "3.12.1"
  }
 },
 "nbformat": 4,
 "nbformat_minor": 5
}
