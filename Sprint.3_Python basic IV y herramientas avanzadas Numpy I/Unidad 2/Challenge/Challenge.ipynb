{
 "cells": [
  {
   "cell_type": "markdown",
   "id": "b3ce8d8b-5f49-4c4e-88a1-c0584b1f55e1",
   "metadata": {},
   "source": [
    "### PART I: Nuevos alumnos, \"nuevo\" algoritmo"
   ]
  },
  {
   "cell_type": "markdown",
   "id": "99916772-a430-422e-9291-e5c9fe6d742c",
   "metadata": {},
   "source": [
    "Apartado 1. Como en la práctica obligatoria de la unidad anterior, se han incorporado dos alumnos a la clase de Dena Aidon: Teresa y Udo. Ambos han rellenado el cuestionario de comer y volar, de la siguiente forma:\n",
    "\n",
    "Teresa: Comer: -2, Volar: -5\n",
    "Udo: Comer: 0, Volar: 4\n",
    "\n",
    "1.1 A partir de la clase de Dena Aidon, dada como una lista de listas o vectores fila, crea un array de Numpy.\n",
    "1.2 Añade a Teresa y Udo de dos formas diferentes mediante concatenaciones"
   ]
  },
  {
   "cell_type": "code",
   "execution_count": 1,
   "id": "5e4deec4-c594-43c0-8883-4ce9232a36d3",
   "metadata": {},
   "outputs": [],
   "source": [
    "import numpy as np"
   ]
  },
  {
   "cell_type": "code",
   "execution_count": 2,
   "id": "ec48bdf6-5b42-46c8-9be5-23b4f6f5a6da",
   "metadata": {},
   "outputs": [],
   "source": [
    "alumnos_aidone = [[5, 4],\n",
    "                  [2, -3],\n",
    "                  [3, 5],\n",
    "                  [-5, 4],\n",
    "                  [0, -1],\n",
    "                  [3, 2],\n",
    "                  [-1, 1],\n",
    "                  [5, -2],\n",
    "                  [-5, 3],\n",
    "                  [-5, 1]]\n",
    "\n",
    "array_alumnos = np.array(alumnos_aidone)"
   ]
  },
  {
   "cell_type": "code",
   "execution_count": 3,
   "id": "17a404e2-1116-47d3-a7e5-59283f0903f6",
   "metadata": {},
   "outputs": [],
   "source": [
    "teresa = np.array([-2, -5])\n",
    "udo = np.array([0, 4])"
   ]
  },
  {
   "cell_type": "code",
   "execution_count": 4,
   "id": "e26902f5-0984-4d28-8114-d5869bc244cc",
   "metadata": {},
   "outputs": [
    {
     "name": "stdout",
     "output_type": "stream",
     "text": [
      "Array original de alumnos:\n",
      "[[ 5  4]\n",
      " [ 2 -3]\n",
      " [ 3  5]\n",
      " [-5  4]\n",
      " [ 0 -1]\n",
      " [ 3  2]\n",
      " [-1  1]\n",
      " [ 5 -2]\n",
      " [-5  3]\n",
      " [-5  1]]\n",
      "\n",
      "Array con Teresa y Udo añadidos usando np.vstack:\n",
      "[[ 5  4]\n",
      " [ 2 -3]\n",
      " [ 3  5]\n",
      " [-5  4]\n",
      " [ 0 -1]\n",
      " [ 3  2]\n",
      " [-1  1]\n",
      " [ 5 -2]\n",
      " [-5  3]\n",
      " [-5  1]\n",
      " [-2 -5]\n",
      " [ 0  4]]\n",
      "\n",
      "Array con Teresa y Udo añadidos usando np.append:\n",
      "[[ 5  4]\n",
      " [ 2 -3]\n",
      " [ 3  5]\n",
      " [-5  4]\n",
      " [ 0 -1]\n",
      " [ 3  2]\n",
      " [-1  1]\n",
      " [ 5 -2]\n",
      " [-5  3]\n",
      " [-5  1]\n",
      " [-2 -5]\n",
      " [ 0  4]]\n"
     ]
    }
   ],
   "source": [
    "array_alumnos_vstack = np.vstack((array_alumnos, teresa, udo))\n",
    "array_alumnos_append = np.append(array_alumnos, [teresa, udo], axis=0)\n",
    "print(\"Array original de alumnos:\")\n",
    "print(array_alumnos)\n",
    "print(\"\\nArray con Teresa y Udo añadidos usando np.vstack:\")\n",
    "print(array_alumnos_vstack)\n",
    "print(\"\\nArray con Teresa y Udo añadidos usando np.append:\")\n",
    "print(array_alumnos_append)"
   ]
  },
  {
   "cell_type": "markdown",
   "id": "53970103-f6c6-4162-9041-af930d55fba0",
   "metadata": {},
   "source": [
    "**Apartado 2**. Modificar el algoritmo de elección de la clase extraescolar principal (el presentado en la siguiente celda) de forma que:\n",
    "\n",
    "2.1 En vez de emplear el diccionario de reparto empleemos una matriz de (12x3) incializada con 0 en todas sus posiciones.\n",
    "\n",
    "2.2 Emplee alguna de las funciones de la librería numpy en las líneas señaladas para hacer los cálculos\n",
    "\n",
    "2.3 Utilice alguna de las funciones de agregación vistas para obtener la clase extraescolar asignada"
   ]
  },
  {
   "cell_type": "code",
   "execution_count": 7,
   "id": "b1aa3bce-f5f0-430c-98f7-fe22a530fcc5",
   "metadata": {},
   "outputs": [
    {
     "name": "stdout",
     "output_type": "stream",
     "text": [
      "Par Rodrigo con vector [5 4]:\n",
      "CAI\n",
      "Par Lucia con vector [ 2 -3]:\n",
      "ER\n",
      "Par Alejandro con vector [3 5]:\n",
      "CAI\n",
      "Par Valeria con vector [-5  4]:\n",
      "NMPC\n",
      "Par Javier con vector [ 0 -1]:\n",
      "ER\n",
      "Par Camila con vector [3 2]:\n",
      "CAI\n",
      "Par Diego con vector [-1  1]:\n",
      "NMPC\n",
      "Par Gabriela con vector [ 5 -2]:\n",
      "ER\n",
      "Par Mateo con vector [-5  3]:\n",
      "NMPC\n",
      "Par Sofía con vector [-5  1]:\n",
      "NMPC\n",
      "Par Teresa con vector [-2 -5]:\n",
      "ER\n",
      "Par Udo con vector [0 4]:\n",
      "CAI\n",
      "\n",
      "Matriz de reparto:\n",
      "[[1 0 0]\n",
      " [0 1 0]\n",
      " [1 0 0]\n",
      " [0 0 1]\n",
      " [0 1 0]\n",
      " [1 0 0]\n",
      " [0 0 1]\n",
      " [0 1 0]\n",
      " [0 0 1]\n",
      " [0 0 1]\n",
      " [0 1 0]\n",
      " [1 0 0]]\n"
     ]
    }
   ],
   "source": [
    "alumnos_ref = [\"Rodrigo\", \"Gabriela\", \"Mateo\"]\n",
    "lista_alumnos = ['Rodrigo', 'Lucia', 'Alejandro', 'Valeria', 'Javier', 'Camila', 'Diego', 'Gabriela', 'Mateo', 'Sofía', 'Teresa', 'Udo']\n",
    "curso_asignado = [\"CAI\", \"ER\", \"NMPC\"]\n",
    "\n",
    "matriz_reparto = np.zeros((12, 3), dtype=int)\n",
    "\n",
    "alumnos_aidone = np.array([[5, 4],\n",
    "                           [2, -3],\n",
    "                           [3, 5],\n",
    "                           [-5, 4],\n",
    "                           [0, -1],\n",
    "                           [3, 2],\n",
    "                           [-1, 1],\n",
    "                           [5, -2],\n",
    "                           [-5, 3],\n",
    "                           [-5, 1],\n",
    "                           [-2, -5],\n",
    "                           [0, 4]])\n",
    "\n",
    "num_alumnos = len(lista_alumnos)\n",
    "\n",
    "for i_vector in range(num_alumnos):\n",
    "    alumno = lista_alumnos[i_vector]\n",
    "    vector_alumno = alumnos_aidone[i_vector]\n",
    "    print(f\"Par {alumno} con vector {vector_alumno}:\")\n",
    "\n",
    "    vector_distancias = np.full(3, 1000) \n",
    "\n",
    "    for indice_curso, alumno_ref in enumerate(alumnos_ref):\n",
    "        indice_alumno_ref = lista_alumnos.index(alumno_ref)\n",
    "        vec_ref = alumnos_aidone[indice_alumno_ref]\n",
    "\n",
    "        distancia = np.linalg.norm(vector_alumno - vec_ref) \n",
    "        vector_distancias[indice_curso] = distancia\n",
    "\n",
    "    indice_curso_elegido = np.argmin(vector_distancias) \n",
    "    print(f\"{curso_asignado[indice_curso_elegido]}\")\n",
    "    matriz_reparto[i_vector, indice_curso_elegido] = 1 \n",
    "\n",
    "print(\"\\nMatriz de reparto:\")\n",
    "print(matriz_reparto)"
   ]
  },
  {
   "cell_type": "markdown",
   "id": "291e5e99-5184-44e0-b0ee-a5d8defc855b",
   "metadata": {},
   "source": [
    "Apartado 2.3\n",
    "¿A qué clases asignaremos a Teresa y a Udo?\n",
    "\n",
    "+ Teresa: Asignada al curso ER.\n",
    "\n",
    "+ Udo: Asignado al curso CAI."
   ]
  },
  {
   "cell_type": "markdown",
   "id": "86c67921-d440-46a5-8bef-b1c96d23d90e",
   "metadata": {},
   "source": [
    "### PART II:Mini hundir la flota"
   ]
  },
  {
   "cell_type": "markdown",
   "id": "85e0f07a-162c-42f7-8f90-09d6d2dac963",
   "metadata": {},
   "source": [
    "Crea un tablero de 10x10 relleno del carácter espacio \" \". \n",
    "\n",
    "* (Utiliza un array de Numpy para representarlo y creálo utilizando las inicializaciones que hemos aprendidio)\n",
    "* Posiciona un par de barcos en [(0,1), (1,1)] y [(1,3), (1,4), (1,5), (1,6)]. Los barcos serán Os mayúsculas. Como ves, un barco de dos posiciones de eslora y otro de cuatro.\n",
    "* Recibe un disparo en uno de los barcos, sustituyendo la O por una X\n",
    "* Recibe un disparo en agua, sustituyendo uno de los espacios por un guión: -\n",
    "* Ignorando los disparos recibidos, ahora prueba a posicionar otro barco de 4 posiciones dentro del tablero, pero de manera ALEATORIA."
   ]
  },
  {
   "cell_type": "code",
   "execution_count": 2,
   "id": "f460dedd-f7b6-480d-a421-1fe131b4a3fc",
   "metadata": {},
   "outputs": [
    {
     "name": "stdout",
     "output_type": "stream",
     "text": [
      "[[' ' ' ' ' ' ' ' ' ' ' ' ' ' ' ' ' ' ' ']\n",
      " [' ' ' ' ' ' ' ' ' ' ' ' ' ' ' ' ' ' ' ']\n",
      " [' ' ' ' ' ' ' ' ' ' ' ' ' ' ' ' ' ' ' ']\n",
      " [' ' ' ' ' ' ' ' ' ' ' ' ' ' ' ' ' ' ' ']\n",
      " [' ' ' ' ' ' ' ' ' ' ' ' ' ' ' ' ' ' ' ']\n",
      " [' ' ' ' ' ' ' ' ' ' ' ' ' ' ' ' ' ' ' ']\n",
      " [' ' ' ' ' ' ' ' ' ' ' ' ' ' ' ' ' ' ' ']\n",
      " [' ' ' ' ' ' ' ' ' ' ' ' ' ' ' ' ' ' ' ']\n",
      " [' ' ' ' ' ' ' ' ' ' ' ' ' ' ' ' ' ' ' ']\n",
      " [' ' ' ' ' ' ' ' ' ' ' ' ' ' ' ' ' ' ' ']]\n"
     ]
    }
   ],
   "source": [
    "import numpy as np\n",
    "import random\n",
    "\n",
    "tablero = np.full((10,10),\" \")\n",
    "print(tablero)"
   ]
  },
  {
   "cell_type": "code",
   "execution_count": 3,
   "id": "554dfb68-1091-4000-b44f-2555ec6d6194",
   "metadata": {},
   "outputs": [],
   "source": [
    "def crea_tablero(lado = 10):\n",
    "    tablero = np.full((lado,lado),\" \")\n",
    "    return tablero"
   ]
  },
  {
   "cell_type": "code",
   "execution_count": 4,
   "id": "d7eead9f-c660-4501-b4a2-aeca272fedc3",
   "metadata": {},
   "outputs": [
    {
     "name": "stdout",
     "output_type": "stream",
     "text": [
      "[[' ' ' ' ' ' ' ' ' ' ' ' ' ' ' ' ' ' ' ' ' ' ' ' ' ' ' ' ' ']\n",
      " [' ' ' ' ' ' ' ' ' ' ' ' ' ' ' ' ' ' ' ' ' ' ' ' ' ' ' ' ' ']\n",
      " [' ' ' ' ' ' ' ' ' ' ' ' ' ' ' ' ' ' ' ' ' ' ' ' ' ' ' ' ' ']\n",
      " [' ' ' ' ' ' ' ' ' ' ' ' ' ' ' ' ' ' ' ' ' ' ' ' ' ' ' ' ' ']\n",
      " [' ' ' ' ' ' ' ' ' ' ' ' ' ' ' ' ' ' ' ' ' ' ' ' ' ' ' ' ' ']\n",
      " [' ' ' ' ' ' ' ' ' ' ' ' ' ' ' ' ' ' ' ' ' ' ' ' ' ' ' ' ' ']\n",
      " [' ' ' ' ' ' ' ' ' ' ' ' ' ' ' ' ' ' ' ' ' ' ' ' ' ' ' ' ' ']\n",
      " [' ' ' ' ' ' ' ' ' ' ' ' ' ' ' ' ' ' ' ' ' ' ' ' ' ' ' ' ' ']\n",
      " [' ' ' ' ' ' ' ' ' ' ' ' ' ' ' ' ' ' ' ' ' ' ' ' ' ' ' ' ' ']\n",
      " [' ' ' ' ' ' ' ' ' ' ' ' ' ' ' ' ' ' ' ' ' ' ' ' ' ' ' ' ' ']\n",
      " [' ' ' ' ' ' ' ' ' ' ' ' ' ' ' ' ' ' ' ' ' ' ' ' ' ' ' ' ' ']\n",
      " [' ' ' ' ' ' ' ' ' ' ' ' ' ' ' ' ' ' ' ' ' ' ' ' ' ' ' ' ' ']\n",
      " [' ' ' ' ' ' ' ' ' ' ' ' ' ' ' ' ' ' ' ' ' ' ' ' ' ' ' ' ' ']\n",
      " [' ' ' ' ' ' ' ' ' ' ' ' ' ' ' ' ' ' ' ' ' ' ' ' ' ' ' ' ' ']\n",
      " [' ' ' ' ' ' ' ' ' ' ' ' ' ' ' ' ' ' ' ' ' ' ' ' ' ' ' ' ' ']]\n"
     ]
    }
   ],
   "source": [
    "tablero = crea_tablero(15)\n",
    "print(tablero)"
   ]
  },
  {
   "cell_type": "code",
   "execution_count": 5,
   "id": "f7dbf9b5-4c1f-447f-b360-bbf8e60edc76",
   "metadata": {},
   "outputs": [
    {
     "name": "stdout",
     "output_type": "stream",
     "text": [
      "[[' ' 'O' ' ' ' ' ' ' ' ' ' ' ' ' ' ' ' ' ' ' ' ' ' ' ' ' ' ']\n",
      " [' ' 'O' ' ' ' ' ' ' ' ' ' ' ' ' ' ' ' ' ' ' ' ' ' ' ' ' ' ']\n",
      " [' ' ' ' ' ' ' ' ' ' ' ' ' ' ' ' ' ' ' ' ' ' ' ' ' ' ' ' ' ']\n",
      " [' ' ' ' ' ' ' ' ' ' ' ' ' ' ' ' ' ' ' ' ' ' ' ' ' ' ' ' ' ']\n",
      " [' ' ' ' ' ' ' ' ' ' ' ' ' ' ' ' ' ' ' ' ' ' ' ' ' ' ' ' ' ']\n",
      " [' ' ' ' ' ' ' ' ' ' ' ' ' ' ' ' ' ' ' ' ' ' ' ' ' ' ' ' ' ']\n",
      " [' ' ' ' ' ' ' ' ' ' ' ' ' ' ' ' ' ' ' ' ' ' ' ' ' ' ' ' ' ']\n",
      " [' ' ' ' ' ' ' ' ' ' ' ' ' ' ' ' ' ' ' ' ' ' ' ' ' ' ' ' ' ']\n",
      " [' ' ' ' ' ' ' ' ' ' ' ' ' ' ' ' ' ' ' ' ' ' ' ' ' ' ' ' ' ']\n",
      " [' ' ' ' ' ' ' ' ' ' ' ' ' ' ' ' ' ' ' ' ' ' ' ' ' ' ' ' ' ']\n",
      " [' ' ' ' ' ' ' ' ' ' ' ' ' ' ' ' ' ' ' ' ' ' ' ' ' ' ' ' ' ']\n",
      " [' ' ' ' ' ' ' ' ' ' ' ' ' ' ' ' ' ' ' ' ' ' ' ' ' ' ' ' ' ']\n",
      " [' ' ' ' ' ' ' ' ' ' ' ' ' ' ' ' ' ' ' ' ' ' ' ' ' ' ' ' ' ']\n",
      " [' ' ' ' ' ' ' ' ' ' ' ' ' ' ' ' ' ' ' ' ' ' ' ' ' ' ' ' ' ']\n",
      " [' ' ' ' ' ' ' ' ' ' ' ' ' ' ' ' ' ' ' ' ' ' ' ' ' ' ' ' ' ']]\n"
     ]
    }
   ],
   "source": [
    "barco1 = [(0,1),(1,1)]\n",
    "def coloca_barco(tablero, barco):\n",
    "    for pieza in barco:\n",
    "        tablero[pieza] = \"O\"\n",
    "    return tablero\n",
    "\n",
    "tablero = coloca_barco(tablero, barco1)\n",
    "print(tablero)"
   ]
  },
  {
   "cell_type": "code",
   "execution_count": 6,
   "id": "8d12762a-c1da-4ac1-86de-25099fcf4531",
   "metadata": {},
   "outputs": [
    {
     "name": "stdout",
     "output_type": "stream",
     "text": [
      "[[' ' ' ' ' ' ' ' ' ' ' ' ' ' ' ' ' ' ' ']\n",
      " [' ' ' ' ' ' ' ' ' ' ' ' ' ' ' ' ' ' ' ']\n",
      " [' ' ' ' ' ' ' ' ' ' ' ' ' ' ' ' ' ' ' ']\n",
      " [' ' ' ' ' ' ' ' ' ' ' ' ' ' ' ' ' ' ' ']\n",
      " [' ' ' ' ' ' ' ' ' ' ' ' ' ' ' ' ' ' ' ']\n",
      " [' ' ' ' ' ' ' ' ' ' ' ' ' ' ' ' ' ' ' ']\n",
      " [' ' ' ' ' ' ' ' ' ' ' ' ' ' ' ' ' ' ' ']\n",
      " [' ' ' ' ' ' ' ' ' ' ' ' ' ' ' ' ' ' ' ']\n",
      " [' ' ' ' ' ' ' ' ' ' ' ' ' ' ' ' ' ' ' ']\n",
      " [' ' ' ' ' ' ' ' ' ' ' ' ' ' ' ' ' ' ' ']]\n",
      "********************\n",
      "Coloco: [(0, 1), (1, 1)]\n",
      "[[' ' 'O' ' ' ' ' ' ' ' ' ' ' ' ' ' ' ' ']\n",
      " [' ' 'O' ' ' ' ' ' ' ' ' ' ' ' ' ' ' ' ']\n",
      " [' ' ' ' ' ' ' ' ' ' ' ' ' ' ' ' ' ' ' ']\n",
      " [' ' ' ' ' ' ' ' ' ' ' ' ' ' ' ' ' ' ' ']\n",
      " [' ' ' ' ' ' ' ' ' ' ' ' ' ' ' ' ' ' ' ']\n",
      " [' ' ' ' ' ' ' ' ' ' ' ' ' ' ' ' ' ' ' ']\n",
      " [' ' ' ' ' ' ' ' ' ' ' ' ' ' ' ' ' ' ' ']\n",
      " [' ' ' ' ' ' ' ' ' ' ' ' ' ' ' ' ' ' ' ']\n",
      " [' ' ' ' ' ' ' ' ' ' ' ' ' ' ' ' ' ' ' ']\n",
      " [' ' ' ' ' ' ' ' ' ' ' ' ' ' ' ' ' ' ' ']]\n",
      "********************\n",
      "Coloco: [(1, 3), (1, 4), (1, 5), (1, 6)]\n",
      "[[' ' 'O' ' ' ' ' ' ' ' ' ' ' ' ' ' ' ' ']\n",
      " [' ' 'O' ' ' 'O' 'O' 'O' 'O' ' ' ' ' ' ']\n",
      " [' ' ' ' ' ' ' ' ' ' ' ' ' ' ' ' ' ' ' ']\n",
      " [' ' ' ' ' ' ' ' ' ' ' ' ' ' ' ' ' ' ' ']\n",
      " [' ' ' ' ' ' ' ' ' ' ' ' ' ' ' ' ' ' ' ']\n",
      " [' ' ' ' ' ' ' ' ' ' ' ' ' ' ' ' ' ' ' ']\n",
      " [' ' ' ' ' ' ' ' ' ' ' ' ' ' ' ' ' ' ' ']\n",
      " [' ' ' ' ' ' ' ' ' ' ' ' ' ' ' ' ' ' ' ']\n",
      " [' ' ' ' ' ' ' ' ' ' ' ' ' ' ' ' ' ' ' ']\n",
      " [' ' ' ' ' ' ' ' ' ' ' ' ' ' ' ' ' ' ' ']]\n"
     ]
    }
   ],
   "source": [
    "tablero = crea_tablero(10)\n",
    "barco1 = [(0,1),(1,1)]\n",
    "barco2 = [(1,3), (1,4), (1,5), (1,6)]\n",
    "print(tablero)\n",
    "for barco in [barco1, barco2]:\n",
    "    print(\"*\"*20)\n",
    "    print(\"Coloco:\", barco)\n",
    "    tablero = coloca_barco(tablero,barco)\n",
    "    print(tablero)"
   ]
  },
  {
   "cell_type": "code",
   "execution_count": 7,
   "id": "6ebd3820-c911-4c79-8abc-802853c94b1a",
   "metadata": {},
   "outputs": [
    {
     "name": "stdout",
     "output_type": "stream",
     "text": [
      "Agua\n",
      "[[' ' 'O' ' ' ' ' ' ' ' ' ' ' ' ' ' ' ' ']\n",
      " [' ' 'O' ' ' 'O' 'O' 'O' 'O' ' ' ' ' ' ']\n",
      " [' ' ' ' ' ' ' ' ' ' ' ' ' ' ' ' ' ' ' ']\n",
      " [' ' ' ' ' ' ' ' ' ' ' ' ' ' ' ' ' ' ' ']\n",
      " [' ' ' ' ' ' ' ' ' ' ' ' ' ' ' ' ' ' ' ']\n",
      " [' ' ' ' ' ' ' ' ' ' ' ' '-' ' ' ' ' ' ']\n",
      " [' ' ' ' ' ' ' ' ' ' ' ' ' ' ' ' ' ' ' ']\n",
      " [' ' ' ' ' ' ' ' ' ' ' ' ' ' ' ' ' ' ' ']\n",
      " [' ' ' ' ' ' ' ' ' ' ' ' ' ' ' ' ' ' ' ']\n",
      " [' ' ' ' ' ' ' ' ' ' ' ' ' ' ' ' ' ' ' ']]\n"
     ]
    }
   ],
   "source": [
    "def recibir_disparo(tablero, coordenada):\n",
    "    if tablero[coordenada] == \"O\":\n",
    "        tablero[coordenada] = \"X\"\n",
    "        print(\"Tocado\")\n",
    "    elif tablero[coordenada] == \"X\":\n",
    "        print(\"Ya has disparado aquí\")\n",
    "    else:\n",
    "        tablero[coordenada] = \"-\"\n",
    "        print(\"Agua\")\n",
    "\n",
    "recibir_disparo(tablero,(5,6))\n",
    "print(tablero)"
   ]
  },
  {
   "cell_type": "code",
   "execution_count": 8,
   "id": "f48cc360-61d0-461c-aef6-6df5a97fca78",
   "metadata": {},
   "outputs": [
    {
     "name": "stdout",
     "output_type": "stream",
     "text": [
      "Tocado\n",
      "[[' ' 'O' ' ' ' ' ' ' ' ' ' ' ' ' ' ' ' ']\n",
      " [' ' 'X' ' ' 'O' 'O' 'O' 'O' ' ' ' ' ' ']\n",
      " [' ' ' ' ' ' ' ' ' ' ' ' ' ' ' ' ' ' ' ']\n",
      " [' ' ' ' ' ' ' ' ' ' ' ' ' ' ' ' ' ' ' ']\n",
      " [' ' ' ' ' ' ' ' ' ' ' ' ' ' ' ' ' ' ' ']\n",
      " [' ' ' ' ' ' ' ' ' ' ' ' '-' ' ' ' ' ' ']\n",
      " [' ' ' ' ' ' ' ' ' ' ' ' ' ' ' ' ' ' ' ']\n",
      " [' ' ' ' ' ' ' ' ' ' ' ' ' ' ' ' ' ' ' ']\n",
      " [' ' ' ' ' ' ' ' ' ' ' ' ' ' ' ' ' ' ' ']\n",
      " [' ' ' ' ' ' ' ' ' ' ' ' ' ' ' ' ' ' ' ']]\n"
     ]
    }
   ],
   "source": [
    "recibir_disparo(tablero,(1,1))\n",
    "print(tablero)"
   ]
  },
  {
   "cell_type": "code",
   "execution_count": 9,
   "id": "6f956338-f597-426c-95db-59024fd795b2",
   "metadata": {},
   "outputs": [
    {
     "data": {
      "text/plain": [
       "array([[False, False, False, False, False, False, False, False, False,\n",
       "        False],\n",
       "       [False,  True, False, False, False, False, False, False, False,\n",
       "        False],\n",
       "       [False, False, False, False, False, False, False, False, False,\n",
       "        False],\n",
       "       [False, False, False, False, False, False, False, False, False,\n",
       "        False],\n",
       "       [False, False, False, False, False, False, False, False, False,\n",
       "        False],\n",
       "       [False, False, False, False, False, False, False, False, False,\n",
       "        False],\n",
       "       [False, False, False, False, False, False, False, False, False,\n",
       "        False],\n",
       "       [False, False, False, False, False, False, False, False, False,\n",
       "        False],\n",
       "       [False, False, False, False, False, False, False, False, False,\n",
       "        False],\n",
       "       [False, False, False, False, False, False, False, False, False,\n",
       "        False]])"
      ]
     },
     "execution_count": 9,
     "metadata": {},
     "output_type": "execute_result"
    }
   ],
   "source": [
    "tablero == \"X\""
   ]
  },
  {
   "cell_type": "code",
   "execution_count": 10,
   "id": "2065933e-0bd1-4212-9015-fce204aa26d2",
   "metadata": {},
   "outputs": [
    {
     "name": "stdout",
     "output_type": "stream",
     "text": [
      "[[' ' 'O' ' ' ' ' ' ' ' ' ' ' ' ' ' ' ' ']\n",
      " [' ' 'O' ' ' 'O' 'O' 'O' 'O' ' ' ' ' ' ']\n",
      " [' ' ' ' ' ' ' ' ' ' ' ' ' ' ' ' ' ' ' ']\n",
      " [' ' ' ' ' ' ' ' ' ' ' ' ' ' ' ' ' ' ' ']\n",
      " [' ' ' ' ' ' ' ' ' ' ' ' ' ' ' ' ' ' ' ']\n",
      " [' ' ' ' ' ' ' ' ' ' ' ' '-' ' ' ' ' ' ']\n",
      " [' ' ' ' ' ' ' ' ' ' ' ' ' ' ' ' ' ' ' ']\n",
      " [' ' ' ' ' ' ' ' ' ' ' ' ' ' ' ' ' ' ' ']\n",
      " [' ' ' ' ' ' ' ' ' ' ' ' ' ' ' ' ' ' ' ']\n",
      " [' ' ' ' ' ' ' ' ' ' ' ' ' ' ' ' ' ' ' ']]\n"
     ]
    }
   ],
   "source": [
    "def arregla_barcos(tablero):\n",
    "    tablero[tablero == \"X\"] = \"O\"\n",
    "    #tablero.where(tablero == \"X\",\"O\", tablero)\n",
    "    return tablero\n",
    "\n",
    "print(arregla_barcos(tablero))"
   ]
  },
  {
   "cell_type": "code",
   "execution_count": 11,
   "id": "a929736a-5b8a-47de-aa97-52ce74dea750",
   "metadata": {},
   "outputs": [],
   "source": [
    "def coloca_barco_plus(tablero, barco):\n",
    "    # Nos devuelve el tablero si puede colocar el barco, si no devuelve False, y avise por pantalla\n",
    "    tablero_temp = tablero.copy()\n",
    "    num_max_filas = tablero.shape[0]\n",
    "    num_max_columnas = tablero.shape[1]\n",
    "    for pieza in barco:\n",
    "        fila = pieza[0]\n",
    "        columna = pieza[1]\n",
    "        if fila < 0  or fila >= num_max_filas:\n",
    "            print(f\"No puedo poner la pieza {pieza} porque se sale del tablero\")\n",
    "            return False\n",
    "        if columna <0 or columna>= num_max_columnas:\n",
    "            print(f\"No puedo poner la pieza {pieza} porque se sale del tablero\")\n",
    "            return False\n",
    "        if tablero[pieza] == \"O\" or tablero[pieza] == \"X\":\n",
    "            print(f\"No puedo poner la pieza {pieza} porque hay otro barco\")\n",
    "            return False\n",
    "        tablero_temp[pieza] = \"O\"\n",
    "    return tablero_temp"
   ]
  },
  {
   "cell_type": "code",
   "execution_count": 12,
   "id": "098331dd-2992-4978-8ef1-0d132ba56e42",
   "metadata": {},
   "outputs": [
    {
     "data": {
      "text/plain": [
       "array([[' ', 'O', ' ', ' ', ' ', ' ', ' ', ' ', ' ', ' '],\n",
       "       [' ', 'O', ' ', 'O', 'O', 'O', 'O', ' ', ' ', ' '],\n",
       "       [' ', ' ', ' ', ' ', ' ', ' ', ' ', ' ', ' ', ' '],\n",
       "       [' ', ' ', ' ', ' ', ' ', ' ', ' ', ' ', ' ', ' '],\n",
       "       [' ', ' ', ' ', ' ', ' ', ' ', ' ', ' ', ' ', ' '],\n",
       "       [' ', ' ', ' ', ' ', ' ', ' ', '-', ' ', ' ', ' '],\n",
       "       [' ', ' ', ' ', ' ', ' ', ' ', ' ', ' ', ' ', ' '],\n",
       "       [' ', ' ', ' ', ' ', ' ', ' ', ' ', ' ', ' ', ' '],\n",
       "       [' ', ' ', ' ', ' ', ' ', ' ', ' ', ' ', ' ', ' '],\n",
       "       [' ', ' ', ' ', ' ', ' ', ' ', ' ', ' ', ' ', ' ']], dtype='<U1')"
      ]
     },
     "execution_count": 12,
     "metadata": {},
     "output_type": "execute_result"
    }
   ],
   "source": [
    "\n",
    "tablero"
   ]
  },
  {
   "cell_type": "code",
   "execution_count": 13,
   "id": "3299029f-8fe8-4c7a-a80e-cddf079efcfc",
   "metadata": {},
   "outputs": [
    {
     "name": "stdout",
     "output_type": "stream",
     "text": [
      "No puedo poner la pieza (12, 2) porque se sale del tablero\n",
      "Vale, no has podido\n"
     ]
    }
   ],
   "source": [
    "barco_raro = [(1,2),(12,2)]\n",
    "tablero_temp = coloca_barco_plus(tablero,barco_raro)\n",
    "if type(tablero_temp) == np.ndarray:\n",
    "    print(tablero_temp)\n",
    "else:\n",
    "    print(\"Vale, no has podido\")"
   ]
  },
  {
   "cell_type": "code",
   "execution_count": 14,
   "id": "edc8b464-a152-4a05-bc60-a9163eb53685",
   "metadata": {},
   "outputs": [],
   "source": [
    "def crea_barco_aleatorio(tablero,eslora = 4, num_intentos = 100):\n",
    "    num_max_filas = tablero.shape[0]\n",
    "    num_max_columnas = tablero.shape[1]\n",
    "    while True:\n",
    "        barco = []\n",
    "        # Construimos el hipotetico barco\n",
    "        pieza_original = (random.randint(0,num_max_filas-1),random.randint(0, num_max_columnas -1))\n",
    "        print(\"Pieza original:\", pieza_original)\n",
    "        barco.append(pieza_original)\n",
    "        orientacion = random.choice([\"N\",\"S\",\"O\",\"E\"])\n",
    "        print(\"Con orientacion\", orientacion)\n",
    "        fila = pieza_original[0]\n",
    "        columna = pieza_original[1]\n",
    "        for i in range(eslora -1):\n",
    "            if orientacion == \"N\":\n",
    "                fila -= 1\n",
    "            elif orientacion  == \"S\":\n",
    "                fila += 1\n",
    "            elif orientacion == \"E\":\n",
    "                columna += 1\n",
    "            else:\n",
    "                columna -= 1\n",
    "            pieza = (fila,columna)\n",
    "            barco.append(pieza)\n",
    "        tablero_temp = coloca_barco_plus(tablero, barco)\n",
    "        if type(tablero_temp) == np.ndarray:\n",
    "            return tablero_temp\n",
    "        print(\"Tengo que intentar colocar otro barco\")"
   ]
  },
  {
   "cell_type": "code",
   "execution_count": 15,
   "id": "e9d93f57-3538-4a90-879c-d53148ac25ff",
   "metadata": {},
   "outputs": [
    {
     "name": "stdout",
     "output_type": "stream",
     "text": [
      "Pieza original: (0, 0)\n",
      "Con orientacion E\n",
      "No puedo poner la pieza (0, 1) porque hay otro barco\n",
      "Tengo que intentar colocar otro barco\n",
      "Pieza original: (7, 9)\n",
      "Con orientacion S\n",
      "No puedo poner la pieza (10, 9) porque se sale del tablero\n",
      "Tengo que intentar colocar otro barco\n",
      "Pieza original: (8, 8)\n",
      "Con orientacion N\n"
     ]
    }
   ],
   "source": [
    "tablero = crea_barco_aleatorio(tablero, eslora = 6)"
   ]
  },
  {
   "cell_type": "code",
   "execution_count": 16,
   "id": "3c8b1384-8fa7-4d40-8c55-ee4a4511fc5b",
   "metadata": {},
   "outputs": [
    {
     "name": "stdout",
     "output_type": "stream",
     "text": [
      "[[' ' 'O' ' ' ' ' ' ' ' ' ' ' ' ' ' ' ' ']\n",
      " [' ' 'O' ' ' 'O' 'O' 'O' 'O' ' ' ' ' ' ']\n",
      " [' ' ' ' ' ' ' ' ' ' ' ' ' ' ' ' ' ' ' ']\n",
      " [' ' ' ' ' ' ' ' ' ' ' ' ' ' ' ' 'O' ' ']\n",
      " [' ' ' ' ' ' ' ' ' ' ' ' ' ' ' ' 'O' ' ']\n",
      " [' ' ' ' ' ' ' ' ' ' ' ' '-' ' ' 'O' ' ']\n",
      " [' ' ' ' ' ' ' ' ' ' ' ' ' ' ' ' 'O' ' ']\n",
      " [' ' ' ' ' ' ' ' ' ' ' ' ' ' ' ' 'O' ' ']\n",
      " [' ' ' ' ' ' ' ' ' ' ' ' ' ' ' ' 'O' ' ']\n",
      " [' ' ' ' ' ' ' ' ' ' ' ' ' ' ' ' ' ' ' ']]\n"
     ]
    }
   ],
   "source": [
    "\n",
    "print(tablero)"
   ]
  }
 ],
 "metadata": {
  "kernelspec": {
   "display_name": "Python 3 (ipykernel)",
   "language": "python",
   "name": "python3"
  },
  "language_info": {
   "codemirror_mode": {
    "name": "ipython",
    "version": 3
   },
   "file_extension": ".py",
   "mimetype": "text/x-python",
   "name": "python",
   "nbconvert_exporter": "python",
   "pygments_lexer": "ipython3",
   "version": "3.12.1"
  }
 },
 "nbformat": 4,
 "nbformat_minor": 5
}
