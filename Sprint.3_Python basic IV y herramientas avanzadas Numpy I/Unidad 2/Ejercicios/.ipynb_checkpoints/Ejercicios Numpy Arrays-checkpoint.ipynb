{
 "cells": [
  {
   "cell_type": "markdown",
   "id": "1ee32a1a-870e-4b19-87eb-2b830af13fcc",
   "metadata": {},
   "source": [
    "### Ejercicio 1\n",
    "\n",
    "Importa el módulo de numpy y obtén su versión."
   ]
  },
  {
   "cell_type": "code",
   "execution_count": 3,
   "id": "9ac863f7-1e40-4f60-a1ec-961e2f29d248",
   "metadata": {},
   "outputs": [
    {
     "name": "stdout",
     "output_type": "stream",
     "text": [
      "2.2.1\n"
     ]
    }
   ],
   "source": [
    "import numpy as np\n",
    "print(np.__version__)"
   ]
  },
  {
   "cell_type": "markdown",
   "id": "def093e7-746e-4a29-999f-67a8f7af36f5",
   "metadata": {},
   "source": [
    "### Ejercicio 2"
   ]
  },
  {
   "cell_type": "markdown",
   "id": "663ca830-04f1-491a-aa8d-5506c00f9111",
   "metadata": {},
   "source": [
    "Crea un array de una dimensión que vaya de 0 a 9. Llamalo my_array"
   ]
  },
  {
   "cell_type": "code",
   "execution_count": 6,
   "id": "8c4c7365-5a88-4991-a737-be6ce7caf790",
   "metadata": {},
   "outputs": [
    {
     "name": "stdout",
     "output_type": "stream",
     "text": [
      "[0 1 2 3 4 5 6 7 8 9]\n"
     ]
    }
   ],
   "source": [
    "my_array =  np.arange(10)\n",
    "print(my_array)"
   ]
  },
  {
   "cell_type": "markdown",
   "id": "059a0f05-1222-43ee-b2da-047082e5a292",
   "metadata": {},
   "source": [
    "### Ejercicio 3"
   ]
  },
  {
   "cell_type": "markdown",
   "id": "87f8e18e-7e9c-4410-8c06-3e8d16d0e30b",
   "metadata": {},
   "source": [
    "Crea un array 3x3, que sea todo a True"
   ]
  },
  {
   "cell_type": "code",
   "execution_count": 9,
   "id": "5730243a-617d-4953-a261-ccb8e470d685",
   "metadata": {},
   "outputs": [
    {
     "name": "stdout",
     "output_type": "stream",
     "text": [
      "[[ True  True  True]\n",
      " [ True  True  True]\n",
      " [ True  True  True]]\n"
     ]
    }
   ],
   "source": [
    "matriz_hundreds =  np.full((3,3),True)\n",
    "print(matriz_hundreds)"
   ]
  },
  {
   "cell_type": "markdown",
   "id": "daedb4ba-f42c-4555-b96d-fb750f190c6b",
   "metadata": {},
   "source": [
    "### Ejercicio 4"
   ]
  },
  {
   "cell_type": "markdown",
   "id": "2f099a6b-4a3c-436f-a996-cc3d6800b5ce",
   "metadata": {},
   "source": [
    "Extrae todos los impares de my_array"
   ]
  },
  {
   "cell_type": "code",
   "execution_count": 18,
   "id": "abf8b1cf-d9c4-47b9-b917-ad8145009a1b",
   "metadata": {},
   "outputs": [
    {
     "name": "stdout",
     "output_type": "stream",
     "text": [
      "[False  True False  True False  True False  True False  True]\n",
      "[1 3 5 7 9]\n"
     ]
    }
   ],
   "source": [
    "valores_impares = np.array(my_array%2!=0)\n",
    "print(valores_impares)\n",
    "sub_x_impares= my_array[valores_impares]\n",
    "print(sub_x_impares)"
   ]
  },
  {
   "cell_type": "markdown",
   "id": "b81455c7-b4be-4dfa-8d2f-8eb541c15f80",
   "metadata": {},
   "source": [
    "### Ejercicio 5"
   ]
  },
  {
   "cell_type": "markdown",
   "id": "00d38e08-68d8-4f17-81bd-634439b5df82",
   "metadata": {},
   "source": [
    "En un nuevo array, sustituye todos los impares de my_array por -1"
   ]
  },
  {
   "cell_type": "code",
   "execution_count": 24,
   "id": "f799c275-8ca9-4151-ae4e-670caba09306",
   "metadata": {},
   "outputs": [
    {
     "name": "stdout",
     "output_type": "stream",
     "text": [
      "[ 0 -1  2 -1  4 -1  6 -1  8 -1]\n"
     ]
    }
   ],
   "source": [
    "my_array[my_array % 2 != 0] = -1\n",
    "print (my_array)"
   ]
  },
  {
   "cell_type": "markdown",
   "id": "062287d5-e5fa-493a-8c85-93b90642411a",
   "metadata": {},
   "source": [
    "### Ejercicio 6"
   ]
  },
  {
   "cell_type": "markdown",
   "id": "56346a2a-bea4-4083-a646-d6a918a83703",
   "metadata": {},
   "source": [
    "Convierte my_array en un nuevo array de dos dimensiones mediante reshape."
   ]
  },
  {
   "cell_type": "code",
   "execution_count": 31,
   "id": "14f68a18-57c5-41fb-a9e1-75e3c182750d",
   "metadata": {},
   "outputs": [
    {
     "name": "stdout",
     "output_type": "stream",
     "text": [
      "[[ 0 -1  2 -1  4]\n",
      " [-1  6 -1  8 -1]]\n"
     ]
    }
   ],
   "source": [
    "my_array_resize=my_array.reshape(2,5)\n",
    "print(my_array_resize)"
   ]
  },
  {
   "cell_type": "markdown",
   "id": "aaddd9b7-3f9a-499a-8442-c2c8cdfe5370",
   "metadata": {},
   "source": [
    "### Ejercicio 7"
   ]
  },
  {
   "cell_type": "markdown",
   "id": "7c7d4206-6f66-4126-a871-86b94f257684",
   "metadata": {},
   "source": [
    "Crea una matriz de 4x5, con una secuencia del 1 al 20\n",
    "Invierte totalmente la matriz. Tanto las filas, como las columnas"
   ]
  },
  {
   "cell_type": "code",
   "execution_count": 39,
   "id": "378b2ac0-267d-4d7d-b7dd-1c17e8397b7c",
   "metadata": {},
   "outputs": [
    {
     "name": "stdout",
     "output_type": "stream",
     "text": [
      "[ 1  2  3  4  5  6  7  8  9 10 11 12 13 14 15 16 17 18 19 20]\n"
     ]
    }
   ],
   "source": [
    "my_matriz = np.arange(1,21)\n",
    "print(my_matriz)"
   ]
  },
  {
   "cell_type": "code",
   "execution_count": 40,
   "id": "750c0638-78f3-47f0-81a4-5d53bb3d67a9",
   "metadata": {},
   "outputs": [
    {
     "name": "stdout",
     "output_type": "stream",
     "text": [
      "[[ 1  2  3  4  5]\n",
      " [ 6  7  8  9 10]\n",
      " [11 12 13 14 15]\n",
      " [16 17 18 19 20]]\n"
     ]
    }
   ],
   "source": [
    "my_matriz_reshape = my_matriz.reshape(4,5)\n",
    "print(my_matriz_reshape)"
   ]
  },
  {
   "cell_type": "code",
   "execution_count": 43,
   "id": "9dd1d54c-b757-454f-aeee-a3823bb788fa",
   "metadata": {},
   "outputs": [
    {
     "name": "stdout",
     "output_type": "stream",
     "text": [
      "[[16 17 18 19 20]\n",
      " [11 12 13 14 15]\n",
      " [ 6  7  8  9 10]\n",
      " [ 1  2  3  4  5]]\n"
     ]
    }
   ],
   "source": [
    "my_matriz_invertida = (my_matriz_reshape[::-1, :])\n",
    "print(my_matriz_invertida)"
   ]
  },
  {
   "cell_type": "code",
   "execution_count": 45,
   "id": "8dcbb1a6-46e7-4fa7-afe0-d5b1f390ca85",
   "metadata": {},
   "outputs": [
    {
     "name": "stdout",
     "output_type": "stream",
     "text": [
      "[[20 19 18 17 16]\n",
      " [15 14 13 12 11]\n",
      " [10  9  8  7  6]\n",
      " [ 5  4  3  2  1]]\n"
     ]
    }
   ],
   "source": [
    "my_matriz_invertida_2 = (my_matriz_invertida[:, ::-1]) \n",
    "print(my_matriz_invertida_2)"
   ]
  },
  {
   "cell_type": "markdown",
   "id": "9a27d338-3e84-4926-b596-fcf7bbe54e10",
   "metadata": {},
   "source": [
    "### Ejercicio 8"
   ]
  },
  {
   "cell_type": "code",
   "execution_count": 52,
   "id": "ea0c38c5-f0ba-43ac-8e81-6833dacd5fff",
   "metadata": {},
   "outputs": [
    {
     "name": "stdout",
     "output_type": "stream",
     "text": [
      "[[7 6]\n",
      " [2 1]]\n"
     ]
    }
   ],
   "source": [
    "print(my_matriz_invertida_2[-2:, -2:])"
   ]
  },
  {
   "cell_type": "markdown",
   "id": "6868e293-b2d4-46e8-b1d6-c112908dc5d4",
   "metadata": {},
   "source": [
    "### Ejercicio 9"
   ]
  },
  {
   "cell_type": "code",
   "execution_count": 54,
   "id": "5244695a-34fd-424e-bf32-0ddf0f32f8ce",
   "metadata": {},
   "outputs": [
    {
     "name": "stdout",
     "output_type": "stream",
     "text": [
      "[[ 1  3  5]\n",
      " [11 13 15]]\n"
     ]
    }
   ],
   "source": [
    "# Acceder a los valores específicos\n",
    "valores_especificos = np.array([[my_matriz_invertida_2[3, 4], my_matriz_invertida_2[3, 2], my_matriz_invertida_2[3, 0]],\n",
    "                                [my_matriz_invertida_2[1, 4], my_matriz_invertida_2[1, 2], my_matriz_invertida_2[1, 0]]])\n",
    "\n",
    "print(valores_especificos)"
   ]
  },
  {
   "cell_type": "markdown",
   "id": "4268a740-20d6-40c4-99ed-23348600a6e3",
   "metadata": {},
   "source": [
    "### Ejercicio 10"
   ]
  },
  {
   "cell_type": "code",
   "execution_count": 58,
   "id": "86205f5a-73a2-4c01-b2bc-04ce8bcde89f",
   "metadata": {},
   "outputs": [
    {
     "name": "stdout",
     "output_type": "stream",
     "text": [
      "[[[11 19 12 14 17 19]\n",
      "  [12 14 10 14 11 12]]\n",
      "\n",
      " [[19 11 15 18 14 17]\n",
      "  [11 12 10 13 13 16]]\n",
      "\n",
      " [[12 16 19 13 14 14]\n",
      "  [19 17 11 10 19 10]]\n",
      "\n",
      " [[14 13 11 12 16 15]\n",
      "  [16 14 17 11 16 19]]\n",
      "\n",
      " [[19 14 19 13 19 13]\n",
      "  [14 14 17 19 18 17]]]\n",
      "1. Número de elementos: 60\n",
      "2. Número de dimensiones: 3\n",
      "3. Elementos por dimensión (shape): (5, 2, 6)\n"
     ]
    }
   ],
   "source": [
    "x = np.random.randint(10, 20, size=(5, 2, 6))\n",
    "\n",
    "num_elementos = x.size\n",
    "\n",
    "num_dimensiones = x.ndim\n",
    "\n",
    "shape = x.shape\n",
    "print (x)\n",
    "print(\"1. Número de elementos:\", num_elementos)\n",
    "print(\"2. Número de dimensiones:\", num_dimensiones)\n",
    "print(\"3. Elementos por dimensión (shape):\", shape)"
   ]
  },
  {
   "cell_type": "markdown",
   "id": "856ba3e5-2b90-4ba1-8f3e-1dcd99a420e4",
   "metadata": {},
   "source": [
    "### Ejercicio 11"
   ]
  },
  {
   "cell_type": "code",
   "execution_count": 61,
   "id": "2ab0e5d8-39ca-4ac4-95ad-b511f1ce41e3",
   "metadata": {},
   "outputs": [
    {
     "name": "stdout",
     "output_type": "stream",
     "text": [
      "['Loro' 'Loro']\n"
     ]
    }
   ],
   "source": [
    "x = np.array([\"Loro\", \"Perro\", \"Gato\", \"Loro\", \"Perro\"])\n",
    "\n",
    "my_x = np.array(x==\"Loro\")\n",
    "sub_x= x[my_x]\n",
    "print(sub_x)\n"
   ]
  }
 ],
 "metadata": {
  "kernelspec": {
   "display_name": "Python 3 (ipykernel)",
   "language": "python",
   "name": "python3"
  },
  "language_info": {
   "codemirror_mode": {
    "name": "ipython",
    "version": 3
   },
   "file_extension": ".py",
   "mimetype": "text/x-python",
   "name": "python",
   "nbconvert_exporter": "python",
   "pygments_lexer": "ipython3",
   "version": "3.12.1"
  }
 },
 "nbformat": 4,
 "nbformat_minor": 5
}
