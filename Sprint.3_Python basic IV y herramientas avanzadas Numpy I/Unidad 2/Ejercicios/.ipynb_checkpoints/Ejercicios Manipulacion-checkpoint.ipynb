{
 "cells": [
  {
   "cell_type": "markdown",
   "id": "7c4049af-bbb7-402a-afe8-6bc8edfda30a",
   "metadata": {},
   "source": [
    "### Ejercicio 1"
   ]
  },
  {
   "cell_type": "markdown",
   "id": "4ea9d4cc-e6c7-4c02-bdf8-10cb60a5d69a",
   "metadata": {},
   "source": [
    "Concatena los siguientes arrays verticalmente"
   ]
  },
  {
   "cell_type": "code",
   "execution_count": 5,
   "id": "dccf1025-8059-4156-ad7a-de9214f620fb",
   "metadata": {},
   "outputs": [],
   "source": [
    "import numpy as np\n",
    "\n",
    "a=np.arange(10).reshape(2,-1)\n",
    "b=np.repeat(1,10).reshape(2,-1)"
   ]
  },
  {
   "cell_type": "code",
   "execution_count": 6,
   "id": "3f701017-2ff3-4226-893e-6b28cf857290",
   "metadata": {},
   "outputs": [
    {
     "data": {
      "text/plain": [
       "array([[0, 1, 2, 3, 4],\n",
       "       [5, 6, 7, 8, 9],\n",
       "       [1, 1, 1, 1, 1],\n",
       "       [1, 1, 1, 1, 1]])"
      ]
     },
     "execution_count": 6,
     "metadata": {},
     "output_type": "execute_result"
    }
   ],
   "source": [
    "np.concatenate([a,b])"
   ]
  },
  {
   "cell_type": "markdown",
   "id": "8e16a456-2566-45d0-af54-fedf4bb752ad",
   "metadata": {},
   "source": [
    "### Ejercicio 2\n",
    "\n",
    "Concatena los siguientes arrays horizontamente\n",
    "\n",
    "a = np.arange(10).reshape(2,-1)\n",
    "b = np.repeat(1, 10).reshape(2,-1)"
   ]
  },
  {
   "cell_type": "code",
   "execution_count": 9,
   "id": "29aa97e5-9d0d-4ca8-895f-1059b4e83a42",
   "metadata": {},
   "outputs": [
    {
     "data": {
      "text/plain": [
       "array([[0, 1, 2, 3, 4, 1, 1, 1, 1, 1],\n",
       "       [5, 6, 7, 8, 9, 1, 1, 1, 1, 1]])"
      ]
     },
     "execution_count": 9,
     "metadata": {},
     "output_type": "execute_result"
    }
   ],
   "source": [
    "a = np.arange(10).reshape(2,-1)\n",
    "b = np.repeat(1, 10).reshape(2,-1)\n",
    "a_b = np.hstack((a, b))\n",
    "(a_b)"
   ]
  },
  {
   "cell_type": "markdown",
   "id": "f57e9971-2a9d-480b-983c-3c19c622229f",
   "metadata": {},
   "source": [
    "### Ejercicio 3\n",
    "\n",
    "Crea un array unidimensional que vaya del 0 al 9. Llámalo my_array.\n",
    "\n",
    "Multiplica cada uno de los elementos de my_array por 10, en un nuevo array\n",
    "Accede al primer elemento del array\n",
    "Accede al último elemento del array\n",
    "Imprime por pantalla los numeros del 1 al 7"
   ]
  },
  {
   "cell_type": "code",
   "execution_count": 27,
   "id": "6731d7ba-6a21-4774-aa2b-2ece1a39d773",
   "metadata": {},
   "outputs": [
    {
     "name": "stdout",
     "output_type": "stream",
     "text": [
      "[1 2 3 4 5 6 7]\n",
      "Array original: [0 1 2 3 4 5 6 7 8 9]\n",
      "Array multiplicado por 10: [ 0 10 20 30 40 50 60 70 80 90]\n",
      "Primer elemento: 0\n",
      "Último elemento: 9\n"
     ]
    }
   ],
   "source": [
    "my_array = np.arange(10)\n",
    "\n",
    "my_array_multiplied = my_array * 10\n",
    "\n",
    "primer_elemento = my_array[0]\n",
    "\n",
    "ultimo_elemento = my_array[-1]\n",
    "\n",
    "print(my_array[1:8])\n",
    "\n",
    "print(\"Array original:\", my_array)\n",
    "print(\"Array multiplicado por 10:\", my_array_multiplied)\n",
    "print(\"Primer elemento:\", primer_elemento)\n",
    "print(\"Último elemento:\", ultimo_elemento)"
   ]
  },
  {
   "cell_type": "markdown",
   "id": "0fe15fa1-2581-49d1-90d3-11b55eb66bf3",
   "metadata": {},
   "source": [
    "### Ejercicio 4\n",
    "\n",
    "Obtén la siguiente secuencia:\n",
    "\n",
    "[ 1,  4,  7, 10, 13, 16, 19, 22, 25, 28, 31, 34, 37, 40, 43, 46, 49]"
   ]
  },
  {
   "cell_type": "code",
   "execution_count": 26,
   "id": "b7581205-b624-4088-ba17-e8b67e1fb6f7",
   "metadata": {},
   "outputs": [
    {
     "name": "stdout",
     "output_type": "stream",
     "text": [
      "[ 1  4  7 10 13 16 19 22 25 28 31 34 37 40 43 46 49]\n"
     ]
    }
   ],
   "source": [
    "secuencia = np.arange(1, 50, 3)\n",
    "\n",
    "print(secuencia)"
   ]
  },
  {
   "cell_type": "markdown",
   "id": "8c548768-4017-4c9d-9a7d-86c2ef5c8f4a",
   "metadata": {},
   "source": [
    "### Ejercicio 5\n",
    "\n",
    "Obtén la siguiente secuencia\n",
    "\n",
    "[4., 3.75, 3.5 , 3.25, 3.  , 2.75, 2.5 , 2.25, 2., 1.75, 1.5 ,1.25]"
   ]
  },
  {
   "cell_type": "code",
   "execution_count": 16,
   "id": "d6e1dc24-2119-4c76-bc1d-6ef14f5f71c5",
   "metadata": {},
   "outputs": [
    {
     "name": "stdout",
     "output_type": "stream",
     "text": [
      "[4.   3.75 3.5  3.25 3.   2.75 2.5  2.25 2.   1.75 1.5  1.25]\n"
     ]
    }
   ],
   "source": [
    "secuencia = np.arange(4, 1, -0.25)\n",
    "\n",
    "print(secuencia)"
   ]
  },
  {
   "cell_type": "markdown",
   "id": "1b03c5a8-3288-4fd8-ae3c-5124dd5a5fd3",
   "metadata": {},
   "source": [
    "### Ejercicio 6\n",
    "\n",
    "Crea una secuencia aleatoria. La secuencia se tiene que componer de 4 matrices de 5x3. Serían 3 dimensiones diferentes."
   ]
  },
  {
   "cell_type": "code",
   "execution_count": 17,
   "id": "92c5834a-1e6b-417e-b578-e58974bbc5ee",
   "metadata": {},
   "outputs": [
    {
     "name": "stdout",
     "output_type": "stream",
     "text": [
      "[[[0.07797143 0.05726598 0.92456466]\n",
      "  [0.00844921 0.8770562  0.89464859]\n",
      "  [0.22845864 0.55651876 0.64160538]\n",
      "  [0.20556883 0.62800471 0.18001229]\n",
      "  [0.50752766 0.43780211 0.59223421]]\n",
      "\n",
      " [[0.61790559 0.28359188 0.55903446]\n",
      "  [0.79265777 0.20916919 0.64426311]\n",
      "  [0.64780046 0.13129325 0.88139524]\n",
      "  [0.53666205 0.83589638 0.27367592]\n",
      "  [0.48274126 0.62317305 0.55476532]]\n",
      "\n",
      " [[0.89915036 0.79062465 0.93205101]\n",
      "  [0.96729985 0.81615367 0.96555701]\n",
      "  [0.30347498 0.24952053 0.97942764]\n",
      "  [0.8746432  0.01377368 0.6541047 ]\n",
      "  [0.91958352 0.03676865 0.8232772 ]]\n",
      "\n",
      " [[0.46150909 0.64700863 0.39243043]\n",
      "  [0.60908926 0.9955294  0.55452128]\n",
      "  [0.72218459 0.98014837 0.28154295]\n",
      "  [0.71774742 0.96602418 0.52800193]\n",
      "  [0.31823794 0.13554908 0.36897695]]]\n"
     ]
    }
   ],
   "source": [
    "secuencia_aleatoria = np.random.rand(4, 5, 3)\n",
    "\n",
    "print(secuencia_aleatoria)"
   ]
  },
  {
   "cell_type": "markdown",
   "id": "6ba873c2-2d2e-4137-b873-ae6eb6efe7eb",
   "metadata": {},
   "source": [
    "### Ejercicio 7\n",
    "\n",
    "Crea una secuencia de números que vayan del 0 al 10.\n",
    "Crea un nuevo array, que parta del anterior, pero sustituya todos los elementos entre el 3 y el 8, por el valor -1\n",
    "Crea un nuevo array que niegue todos los elementos entre el 3 y el 8"
   ]
  },
  {
   "cell_type": "code",
   "execution_count": 25,
   "id": "fe1de941-1355-4b85-b737-94550c653cd0",
   "metadata": {},
   "outputs": [
    {
     "name": "stdout",
     "output_type": "stream",
     "text": [
      "Secuencia original: [ 0  1  2  3  4  5  6  7  8  9 10]\n",
      "Array con elementos sustituidos: [ 0  1  2 -1 -1 -1 -1 -1 -1  9 10]\n",
      "Array con elementos negados: [ 0  1  2 -3 -4 -5 -6 -7 -8  9 10]\n"
     ]
    }
   ],
   "source": [
    "secuencia = np.arange(11)\n",
    "\n",
    "array_sustituido = secuencia.copy()\n",
    "array_sustituido[3:9] = -1\n",
    "\n",
    "array_negado = secuencia.copy()\n",
    "array_negado[3:9] = -array_negado[3:9]\n",
    "\n",
    "print(\"Secuencia original:\", secuencia)\n",
    "print(\"Array con elementos sustituidos:\", array_sustituido)\n",
    "print(\"Array con elementos negados:\", array_negado)"
   ]
  },
  {
   "cell_type": "markdown",
   "id": "c61881a6-09f9-44a7-ba64-50615d8eadeb",
   "metadata": {},
   "source": [
    "### Ejercicio 8\n",
    "\n",
    "Crea una matriz de 6x6, con una secuencia del 1 al 36\n",
    "Obten una vista de su nucleo interior de 2x2 (es decir la submatriz que contiene los valores 15,16,21,22)\n",
    "Modifica la matriz inicial (la del apartado 1.) de dos formas diferentes de manera que los 4 elementos centrales valgan el doble de su valor"
   ]
  },
  {
   "cell_type": "code",
   "execution_count": 20,
   "id": "2f6db007-bde5-480e-96d8-3b6e07ba097e",
   "metadata": {},
   "outputs": [
    {
     "name": "stdout",
     "output_type": "stream",
     "text": [
      "Matriz original:\n",
      "[[ 1  2  3  4  5  6]\n",
      " [ 7  8  9 10 11 12]\n",
      " [13 14 15 16 17 18]\n",
      " [19 20 21 22 23 24]\n",
      " [25 26 27 28 29 30]\n",
      " [31 32 33 34 35 36]]\n",
      "\n",
      "Vista del núcleo interior 2x2:\n",
      "[[15 16]\n",
      " [21 22]]\n",
      "\n",
      "Matriz modificada (primera forma):\n",
      "[[ 1  2  3  4  5  6]\n",
      " [ 7  8  9 10 11 12]\n",
      " [13 14 30 32 17 18]\n",
      " [19 20 42 44 23 24]\n",
      " [25 26 27 28 29 30]\n",
      " [31 32 33 34 35 36]]\n",
      "\n",
      "Matriz modificada (segunda forma):\n",
      "[[ 1  2  3  4  5  6]\n",
      " [ 7  8  9 10 11 12]\n",
      " [13 14 30 32 17 18]\n",
      " [19 20 42 44 23 24]\n",
      " [25 26 27 28 29 30]\n",
      " [31 32 33 34 35 36]]\n"
     ]
    }
   ],
   "source": [
    "\n",
    "matriz = np.arange(1, 37).reshape(6, 6)\n",
    "\n",
    "vista_interior = matriz[2:4, 2:4]\n",
    "\n",
    "matriz_modificada1 = matriz.copy()\n",
    "matriz_modificada1[2:4, 2:4] *= 2\n",
    "\n",
    "matriz_modificada2 = matriz.copy()\n",
    "matriz_modificada2[2:4, 2:4] = matriz_modificada2[2:4, 2:4] * 2\n",
    "\n",
    "print(\"Matriz original:\")\n",
    "print(matriz)\n",
    "print(\"\\nVista del núcleo interior 2x2:\")\n",
    "print(vista_interior)\n",
    "print(\"\\nMatriz modificada (primera forma):\")\n",
    "print(matriz_modificada1)\n",
    "print(\"\\nMatriz modificada (segunda forma):\")\n",
    "print(matriz_modificada2)"
   ]
  },
  {
   "cell_type": "markdown",
   "id": "b30b3ea8-c51b-4244-b507-f339a9947651",
   "metadata": {},
   "source": [
    "### Ejercicio 9\n",
    "\n",
    "En un array aleatorio de números enteros entre 1 y 11, de shape (2,3,2), sustituye todos los impares de my_array por -1. Usa where\n",
    "\n"
   ]
  },
  {
   "cell_type": "code",
   "execution_count": 24,
   "id": "f4b83406-1d59-4f1e-8554-7bbe9aadae35",
   "metadata": {},
   "outputs": [
    {
     "name": "stdout",
     "output_type": "stream",
     "text": [
      "Array original:\n",
      "[[[ 2  1]\n",
      "  [10  8]\n",
      "  [ 1  3]]\n",
      "\n",
      " [[ 4  1]\n",
      "  [ 9  2]\n",
      "  [ 8  8]]]\n",
      "\n",
      "Array modificado (impares sustituidos por -1):\n",
      "[[[ 2 -1]\n",
      "  [10  8]\n",
      "  [-1 -1]]\n",
      "\n",
      " [[ 4 -1]\n",
      "  [-1  2]\n",
      "  [ 8  8]]]\n"
     ]
    }
   ],
   "source": [
    "import numpy as np\n",
    "\n",
    "my_array = np.random.randint(1, 12, size=(2, 3, 2))\n",
    "\n",
    "my_array_modificado = np.where(my_array % 2 != 0, -1, my_array)\n",
    "\n",
    "print(\"Array original:\")\n",
    "print(my_array)\n",
    "print(\"\\nArray modificado (impares sustituidos por -1):\")\n",
    "print(my_array_modificado)"
   ]
  },
  {
   "cell_type": "markdown",
   "id": "2d709974-f5c5-492e-84cf-5fe1b5bbf73e",
   "metadata": {},
   "source": [
    "### Ejercicio 10"
   ]
  },
  {
   "cell_type": "markdown",
   "id": "143862d3-3132-4fe2-a7b4-56198a77f364",
   "metadata": {},
   "source": [
    "Encuentra los valores que no sean 0 del siguiente vector [1,2,0,0,4,0]. Usa np.where"
   ]
  },
  {
   "cell_type": "code",
   "execution_count": 23,
   "id": "312c0dc5-4425-4e22-9ff2-61cc176b5749",
   "metadata": {},
   "outputs": [
    {
     "name": "stdout",
     "output_type": "stream",
     "text": [
      "Vector original: [1 2 0 0 4 0]\n",
      "Índices de valores no cero: [0 1 4]\n",
      "Valores no cero: [1 2 4]\n"
     ]
    }
   ],
   "source": [
    "import numpy as np\n",
    "\n",
    "vector = np.array([1, 2, 0, 0, 4, 0])\n",
    "\n",
    "indices_no_cero = np.where(vector != 0)[0]\n",
    "\n",
    "valores_no_cero = vector[indices_no_cero]\n",
    "\n",
    "print(\"Vector original:\", vector)\n",
    "print(\"Índices de valores no cero:\", indices_no_cero)\n",
    "print(\"Valores no cero:\", valores_no_cero)"
   ]
  }
 ],
 "metadata": {
  "kernelspec": {
   "display_name": "Python 3 (ipykernel)",
   "language": "python",
   "name": "python3"
  },
  "language_info": {
   "codemirror_mode": {
    "name": "ipython",
    "version": 3
   },
   "file_extension": ".py",
   "mimetype": "text/x-python",
   "name": "python",
   "nbconvert_exporter": "python",
   "pygments_lexer": "ipython3",
   "version": "3.12.1"
  }
 },
 "nbformat": 4,
 "nbformat_minor": 5
}
