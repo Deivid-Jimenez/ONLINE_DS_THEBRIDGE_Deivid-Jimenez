{
 "cells": [
  {
   "cell_type": "code",
   "execution_count": 1,
   "id": "418184a9-361e-48ed-9d85-7ef550ee51e1",
   "metadata": {},
   "outputs": [],
   "source": [
    "import numpy as np"
   ]
  },
  {
   "cell_type": "markdown",
   "id": "d70b171b-c043-4fa4-b012-7f497969b33d",
   "metadata": {},
   "source": [
    "Vector es una array con solo una dimension"
   ]
  },
  {
   "cell_type": "code",
   "execution_count": 6,
   "id": "37028930-7225-48cc-9b98-06b608d7601d",
   "metadata": {},
   "outputs": [
    {
     "name": "stdout",
     "output_type": "stream",
     "text": [
      "[1 2 3 4 5]\n"
     ]
    }
   ],
   "source": [
    "array_vec = np.array([1,2,3,4,5])\n",
    "print(arra_vec)"
   ]
  },
  {
   "cell_type": "code",
   "execution_count": null,
   "id": "1273ba3d-b20a-448b-9b4a-d099fda69314",
   "metadata": {},
   "outputs": [],
   "source": [
    "el acceso es igual que en las listas"
   ]
  },
  {
   "cell_type": "code",
   "execution_count": 9,
   "id": "5426b52d-59d7-4792-8232-9fa37b56bc0d",
   "metadata": {},
   "outputs": [
    {
     "name": "stdout",
     "output_type": "stream",
     "text": [
      "1\n",
      "5\n",
      "4\n"
     ]
    }
   ],
   "source": [
    "print(array_vec[0])\n",
    "print(array_vec[-1])\n",
    "print(array_vec[-2])"
   ]
  },
  {
   "cell_type": "markdown",
   "id": "eb97bae2-0a55-429d-aea8-b64ac8a42217",
   "metadata": {},
   "source": [
    "Ojo, que ya no son listas, aunque lo parecen ya no lo son. Incluso los tipos de datos no son los que conocemos sino que numpy aporta nuevos tipos de datos"
   ]
  },
  {
   "cell_type": "code",
   "execution_count": 15,
   "id": "827b8b44-e4d1-471d-b50e-8205df3d1e61",
   "metadata": {},
   "outputs": [
    {
     "name": "stdout",
     "output_type": "stream",
     "text": [
      "<class 'numpy.ndarray'>\n",
      "<class 'numpy.int64'>\n",
      "int64\n"
     ]
    }
   ],
   "source": [
    "print(type(array_vec))\n",
    "print(type(array_vec[0]))\n",
    "print(array_vec.dtype)"
   ]
  },
  {
   "cell_type": "markdown",
   "id": "fef40d03-9a9d-43cf-8a3a-d95a07494d9c",
   "metadata": {},
   "source": [
    "### Matrices"
   ]
  },
  {
   "cell_type": "markdown",
   "id": "96e93ac3-2c33-4477-a6d9-40cdfde12480",
   "metadata": {},
   "source": [
    "Creemos ahora un array multidimensional"
   ]
  },
  {
   "cell_type": "code",
   "execution_count": 17,
   "id": "d2df2cd6-1d02-456f-afbc-89ec5ca6dbd0",
   "metadata": {},
   "outputs": [
    {
     "name": "stdout",
     "output_type": "stream",
     "text": [
      "[[1 2 3]\n",
      " [3 4 5]\n",
      " [7 8 9]]\n"
     ]
    }
   ],
   "source": [
    "array_multi = np.array([[1,2,3],[3,4,5],[7,8,9]])\n",
    "print(array_multi)"
   ]
  },
  {
   "cell_type": "markdown",
   "id": "0c56bc9f-0083-4b28-a205-2cea7a8916ad",
   "metadata": {},
   "source": [
    "Otra ventaja de numpy es que nos imprime las matrices en una forma que nos permite mejor visualizarlas."
   ]
  },
  {
   "cell_type": "markdown",
   "id": "4e0fe4c6-f017-464a-aee3-c6cd940114da",
   "metadata": {},
   "source": [
    "Matrices con valores: Hay diferentes maneras de crear arrays, pero en ocasiones necesitamos tener definidas las matrices con un unico valor."
   ]
  },
  {
   "cell_type": "code",
   "execution_count": 20,
   "id": "a600c05d-7a05-4c95-a8d5-ab51707c6ab9",
   "metadata": {},
   "outputs": [
    {
     "name": "stdout",
     "output_type": "stream",
     "text": [
      "[[1. 0. 0.]\n",
      " [0. 1. 0.]\n",
      " [0. 0. 1.]]\n"
     ]
    }
   ],
   "source": [
    "## Matriz identidad\n",
    "I =  np.identity(3)\n",
    "print(I)"
   ]
  },
  {
   "cell_type": "code",
   "execution_count": 23,
   "id": "09e57be8-2235-4c14-907c-33561bfeb306",
   "metadata": {},
   "outputs": [
    {
     "name": "stdout",
     "output_type": "stream",
     "text": [
      "[[0. 0.]\n",
      " [0. 0.]\n",
      " [0. 0.]]\n"
     ]
    }
   ],
   "source": [
    "## Matriz de 0s\n",
    "matriz_zeros =  np.zeros((3,2))\n",
    "print(matriz_zeros)"
   ]
  },
  {
   "cell_type": "code",
   "execution_count": 25,
   "id": "b8c691d8-20cd-46c6-ad7e-764766cb88f5",
   "metadata": {},
   "outputs": [
    {
     "name": "stdout",
     "output_type": "stream",
     "text": [
      "[[1. 1.]\n",
      " [1. 1.]\n",
      " [1. 1.]]\n",
      "float64\n"
     ]
    }
   ],
   "source": [
    "## Matriz de 1s\n",
    "matriz_ones =  np.ones((3,2))\n",
    "print(matriz_ones)\n",
    "print(matriz_ones.dtype)"
   ]
  },
  {
   "cell_type": "code",
   "execution_count": 26,
   "id": "2c25ffaf-ae5e-42e5-91e7-ffba88482a65",
   "metadata": {},
   "outputs": [
    {
     "name": "stdout",
     "output_type": "stream",
     "text": [
      "[[100 100]\n",
      " [100 100]\n",
      " [100 100]]\n"
     ]
    }
   ],
   "source": [
    "## Matriz de 100s\n",
    "matriz_hundreds =  np.full((3,2),100)\n",
    "print(matriz_hundreds)"
   ]
  },
  {
   "cell_type": "markdown",
   "id": "38155ece-8665-4bc2-9f1c-e06f37c80824",
   "metadata": {},
   "source": [
    "## Creacion de secuencias"
   ]
  },
  {
   "cell_type": "markdown",
   "id": "23db5b80-c697-49f6-b22c-5ba8cfe839b2",
   "metadata": {},
   "source": [
    "¿Recuerdas range()? Lo usábamos en listas para crear secuencias, estableciendo el punto de inicio, de parada, y el salto entre elementos. En numpy hay algo parecido denominado arange. Te dejo el enlace a la documentación."
   ]
  },
  {
   "cell_type": "code",
   "execution_count": 34,
   "id": "a86eb368-b807-4f78-b3a0-f60099b05cf7",
   "metadata": {},
   "outputs": [
    {
     "name": "stdout",
     "output_type": "stream",
     "text": [
      "[0 1 2 3 4 5 6 7 8]\n",
      "[0 2 4 6 8]\n",
      "[0.  0.5 1.  1.5 2.  2.5 3.  3.5 4.  4.5 5.  5.5 6.  6.5 7.  7.5 8.  8.5\n",
      " 9.  9.5]\n",
      "[0. 2. 4. 6. 8.]\n",
      "float64\n"
     ]
    }
   ],
   "source": [
    "lista = list(range(0,100,2))\n",
    "# print(lista)\n",
    "\n",
    "## Array del 0 al 9\n",
    "array_0_9= np.arange(9)\n",
    "print(array_0_9)\n",
    "## Del 0 al 9 con saltos de 2\n",
    "array_0_9_2 = np.arange(0,10,2)\n",
    "print(array_0_9_2)\n",
    "## Del 0 al 10 con saltos de 0.5\n",
    "array_0_9_00 = np.arange(0,10,0.5)\n",
    "print(array_0_9_00)\n",
    "## Especificando el tipo de dato\n",
    "\n",
    "array = np.arange(0,10,2,np.float64)\n",
    "print(array)\n",
    "print(array.dtype)\n",
    "\n"
   ]
  },
  {
   "cell_type": "markdown",
   "id": "d21f9389-d4cc-4d79-acbc-44678fdfb4a8",
   "metadata": {},
   "source": [
    "### Random"
   ]
  },
  {
   "cell_type": "markdown",
   "id": "ed37790d-4c89-4f7b-b9fd-97b6ff04b3de",
   "metadata": {},
   "source": [
    "Otra opción es usar el paquete random de numpy. Muy útil cuando tenemos que crear secuencias aleatorias, y lo mejor de todo es que tiene una gran cantidad de opciones para configurar. Consulta la documentación para más detalle."
   ]
  },
  {
   "cell_type": "code",
   "execution_count": 42,
   "id": "7557007d-0284-4ab9-b9fe-28e1e857efae",
   "metadata": {},
   "outputs": [
    {
     "name": "stdout",
     "output_type": "stream",
     "text": [
      "[0.73982938 0.91412826 0.98715163 0.56786876 0.59809141]\n"
     ]
    }
   ],
   "source": [
    "print(np.random.rand(5))"
   ]
  },
  {
   "cell_type": "code",
   "execution_count": 43,
   "id": "7e777e09-f213-4ef8-87ff-28bb84573099",
   "metadata": {},
   "outputs": [
    {
     "name": "stdout",
     "output_type": "stream",
     "text": [
      "[[0.84829975 0.85787872 0.51614059 0.48546625]\n",
      " [0.86266891 0.75662774 0.07690114 0.38976804]\n",
      " [0.50311192 0.98216826 0.61511568 0.54893022]]\n"
     ]
    }
   ],
   "source": [
    "matriz_aleatoria = np.random.rand(3,4)\n",
    "print(matriz_aleatoria)"
   ]
  },
  {
   "cell_type": "code",
   "execution_count": 46,
   "id": "5b1b110e-7c7f-4d2f-917b-9ae64eeb7f07",
   "metadata": {},
   "outputs": [
    {
     "name": "stdout",
     "output_type": "stream",
     "text": [
      "[[10 11 10  7]\n",
      " [ 6 10 10  9]\n",
      " [ 5 10  6  6]]\n"
     ]
    }
   ],
   "source": [
    "matriz_int = np.random.randint(3,12, size=(3,4))\n",
    "print(matriz_int)"
   ]
  },
  {
   "cell_type": "code",
   "execution_count": 49,
   "id": "4b2eae74-1ebc-44a7-a85a-f4f00d3286bb",
   "metadata": {},
   "outputs": [
    {
     "name": "stdout",
     "output_type": "stream",
     "text": [
      "[8 4 7 4 8]\n"
     ]
    }
   ],
   "source": [
    "### Unidimensional \n",
    "matriz_int = np.random.randint(3,12, size=5)\n",
    "print(matriz_int)"
   ]
  },
  {
   "cell_type": "markdown",
   "id": "a08a4632-aac4-4b36-a32e-b657a559b1c1",
   "metadata": {},
   "source": [
    "### Seed"
   ]
  },
  {
   "cell_type": "markdown",
   "id": "485075ad-577c-4fa7-babf-436b1b3a5ded",
   "metadata": {},
   "source": [
    "Como habrás podido comprobar, cada ejecución de una secuencia aleatoria es diferente.\n",
    "\n",
    "Fijando una semilla, todas las secuencias aleatorias que ejecutes (si tienen los mismos argumentos), tendrán siempre el mismo output. Se usa mucho cuando queremos replicar resultados, o compartirlos con otros compañeros. Los resultados que obtengas en este Notebook no serán los mismos que obtenga el compañero, en caso de haber un factor aleatorio, por lo que no vamos a poder comparar los Notebooks... A no ser que ambos fijéis la misma semilla."
   ]
  },
  {
   "cell_type": "code",
   "execution_count": 55,
   "id": "f25be019-00bb-4b77-8489-924169ee9c1e",
   "metadata": {},
   "outputs": [
    {
     "name": "stdout",
     "output_type": "stream",
     "text": [
      "[0.19151945 0.62210877 0.43772774 0.78535858 0.77997581 0.27259261\n",
      " 0.27646426 0.80187218 0.95813935 0.87593263]\n"
     ]
    }
   ],
   "source": [
    "np.random.seed(1234)\n",
    "print(np.random.rand(10))\n",
    "\n"
   ]
  },
  {
   "cell_type": "code",
   "execution_count": 57,
   "id": "274558aa-60a3-4fa4-88c0-3f495f37cd2d",
   "metadata": {},
   "outputs": [
    {
     "name": "stdout",
     "output_type": "stream",
     "text": [
      "[0.48932698 0.05933244 0.36620243 0.51886544 0.59822501 0.43061449\n",
      " 0.17863405 0.2852539  0.07143863 0.18471334]\n"
     ]
    }
   ],
   "source": [
    "np.random.seed(5678)\n",
    "print(np.random.rand(10))"
   ]
  },
  {
   "cell_type": "code",
   "execution_count": 58,
   "id": "7e2c614d-ea5b-4c8a-962d-c0e8e56604fa",
   "metadata": {},
   "outputs": [
    {
     "name": "stdout",
     "output_type": "stream",
     "text": [
      "[0.19151945 0.62210877 0.43772774 0.78535858 0.77997581 0.27259261\n",
      " 0.27646426 0.80187218 0.95813935 0.87593263]\n"
     ]
    }
   ],
   "source": [
    "np.random.seed(1234)\n",
    "print(np.random.rand(10))\n"
   ]
  },
  {
   "cell_type": "markdown",
   "id": "aabb106e-8718-4786-ada1-c59fbd0dbf78",
   "metadata": {},
   "source": [
    "## Atributos"
   ]
  },
  {
   "cell_type": "markdown",
   "id": "41c93dd2-6f7e-441b-91b7-3defd8416523",
   "metadata": {},
   "source": [
    "Atributos y dimensiones\n",
    "Hay ciertos atributos de los arrays que debemos conocer. Estos atributos son:\n",
    "\n",
    "* ndim: es el número de dimensiones. Número de niveles que tiene el array de numpy.\n",
    "\n",
    "* shape: tamaño de cada una de las dimensiones. Devuelve el resultado en formato tupla.\n",
    "\n",
    "* size: cantidad de elementos del array.\n",
    "\n",
    "* dtype: nos dice el tipo (numpy) de los elementos que contiene un array."
   ]
  },
  {
   "cell_type": "markdown",
   "id": "197f3ddb-db8b-4911-9ab8-ba56a5542a90",
   "metadata": {},
   "source": [
    "### Numpy: Indexado y Slicing"
   ]
  },
  {
   "cell_type": "markdown",
   "id": "f69840d2-00b9-48bf-8d5b-0071f68465d4",
   "metadata": {},
   "source": [
    "Como accedemos a los elementos de un Array?"
   ]
  },
  {
   "cell_type": "code",
   "execution_count": 13,
   "id": "b6a5ffb0-4acc-4941-b10e-8d51da1436f8",
   "metadata": {},
   "outputs": [
    {
     "name": "stdout",
     "output_type": "stream",
     "text": [
      "1\n",
      "2\n",
      "3\n"
     ]
    }
   ],
   "source": [
    "import numpy as np\n",
    "array_1= np.array([1,2,3,4,5])\n",
    "array_2= np.array([[1,2,3],[4,5,6],[7,8,9]])\n",
    "array_3 = np.array([[[1, 10], [2, 20], [3, 30]],\n",
    "                    [[4, 40], [5, 50], [6, 60]],\n",
    "                    [[7, 70], [8, 80], [9, 90]]])\n",
    "print(array_1.ndim)\n",
    "print(array_2.ndim)\n",
    "print(array_3.ndim)"
   ]
  },
  {
   "cell_type": "code",
   "execution_count": 4,
   "id": "1d177809-b362-4425-a010-83ba2398375e",
   "metadata": {},
   "outputs": [
    {
     "name": "stdout",
     "output_type": "stream",
     "text": [
      "1\n",
      "[3 4 5]\n"
     ]
    }
   ],
   "source": [
    "print(array_1[0])\n",
    "print(array_1[2:5])\n"
   ]
  },
  {
   "cell_type": "markdown",
   "id": "a3e1f30e-22b4-4a26-81d5-843f6e2acf1f",
   "metadata": {},
   "source": [
    " Con dos dimensiones:"
   ]
  },
  {
   "cell_type": "code",
   "execution_count": 5,
   "id": "8b287a18-4d96-4f23-8916-d86ab278a77e",
   "metadata": {},
   "outputs": [
    {
     "name": "stdout",
     "output_type": "stream",
     "text": [
      "[1 2 3]\n"
     ]
    }
   ],
   "source": [
    "###Primera fila\n",
    "\n",
    "print(array_2[0])"
   ]
  },
  {
   "cell_type": "code",
   "execution_count": 7,
   "id": "d968265a-9182-4ab5-a90f-67b2e6642b43",
   "metadata": {},
   "outputs": [
    {
     "name": "stdout",
     "output_type": "stream",
     "text": [
      "2\n",
      "2\n"
     ]
    }
   ],
   "source": [
    "###Segundo elemento de la primera fila\n",
    "\n",
    "print(array_2[0][1])\n",
    "print(array_2[0,1])"
   ]
  },
  {
   "cell_type": "code",
   "execution_count": 12,
   "id": "2811fdb5-614c-4a1d-ab77-f4710e7ce446",
   "metadata": {},
   "outputs": [
    {
     "name": "stdout",
     "output_type": "stream",
     "text": [
      "<class 'numpy.int64'>\n",
      "<class 'numpy.int64'>\n",
      "<class 'numpy.ndarray'>\n"
     ]
    }
   ],
   "source": [
    "###Tipo del primer elemento\n",
    "print(type(array_2[0,0]))\n",
    "print(type(array_2[0][0]))\n",
    "print(type(array_2[0]))"
   ]
  },
  {
   "cell_type": "code",
   "execution_count": 14,
   "id": "d4568c59-96de-4e6a-b85c-db6eb9b95776",
   "metadata": {},
   "outputs": [
    {
     "name": "stdout",
     "output_type": "stream",
     "text": [
      "[[[ 1 10]\n",
      "  [ 2 20]\n",
      "  [ 3 30]]\n",
      "\n",
      " [[ 4 40]\n",
      "  [ 5 50]\n",
      "  [ 6 60]]\n",
      "\n",
      " [[ 7 70]\n",
      "  [ 8 80]\n",
      "  [ 9 90]]]\n"
     ]
    }
   ],
   "source": [
    "### Ahora con el Array 3\n",
    "\n",
    "print(array_3)"
   ]
  },
  {
   "cell_type": "code",
   "execution_count": 18,
   "id": "0f123bbc-d850-49dc-bab0-6561c383895d",
   "metadata": {},
   "outputs": [
    {
     "name": "stdout",
     "output_type": "stream",
     "text": [
      "[[ 1 10]\n",
      " [ 2 20]\n",
      " [ 3 30]]\n"
     ]
    }
   ],
   "source": [
    "#Primera matriz\n",
    "print(array_3[0])"
   ]
  },
  {
   "cell_type": "code",
   "execution_count": 20,
   "id": "06818cf6-0c7f-46f6-aa0e-a6882534a53d",
   "metadata": {},
   "outputs": [
    {
     "name": "stdout",
     "output_type": "stream",
     "text": [
      "90\n",
      "[[ 1 10]\n",
      " [ 2 20]\n",
      " [ 3 30]]\n"
     ]
    }
   ],
   "source": [
    "#Ultimo elemento de la última fila de cada matriz\n",
    "\n",
    "print(array_3[-1][-1][-1])\n",
    "print(array_3[-1-1-1])"
   ]
  },
  {
   "cell_type": "markdown",
   "id": "a4f4f032-6467-4ab5-affb-44d3894c63b9",
   "metadata": {},
   "source": [
    "### Slicing y Subarrays"
   ]
  },
  {
   "cell_type": "markdown",
   "id": "66f0b389-4731-4451-a5c0-e5a9e60c5a04",
   "metadata": {},
   "source": [
    " Ya hemos visto que podemos acceder a los elementos individuales del array usando la sintaxis con corchetes,pero si necesitamos acceder a un conjunto de valores, tendremos que usar :.\n",
    "* El slicing (por dimensión del array) sigue la siguiente sintaxis:\n",
    "\n",
    "* x[start:stop:step]\n",
    "\n",
    "Por defecto, si no ponemos alguno de estos argumentos, start = 0, stop = tamaño de la dimensión y step = 1.\n",
    "Recuerda, al igual que en listas, el start está incluido, mientras que el stop no."
   ]
  },
  {
   "cell_type": "code",
   "execution_count": 31,
   "id": "fca6de33-4d81-445e-ba05-9476e30ac7af",
   "metadata": {},
   "outputs": [
    {
     "name": "stdout",
     "output_type": "stream",
     "text": [
      "[0 1 2 3 4 5 6 7 8 9]\n",
      "Del primer elemento al quinto [0 1 2 3 4]\n",
      "Del primer elemento al quinto, con salto de 2 [0 2 4]\n",
      "Desde el quinto, hacia adelante [5 6 7 8 9]\n",
      "Desde el quinto, hacia adelante [5 6 7 8 9]\n",
      "Desde el quinto, hasta el penúltimo [5 6 7 8]\n",
      "Desde el quinto, hasta el primero [5 4 3 2]\n",
      "Sacar una copia [0 1 2 3 4 5 6 7 8 9]\n",
      "Sacar una copia [0 1 2 3 4 5 6 7 8 9]\n",
      "Ultimos dos elementos [8 9]\n"
     ]
    }
   ],
   "source": [
    "### Array de 10 elementos\n",
    "\n",
    "x = np.arange(10)\n",
    "print (x)\n",
    "\n",
    "print(\"Del primer elemento al quinto\", x[0:5:])\n",
    "print(\"Del primer elemento al quinto, con salto de 2\", x[0:5:2])\n",
    "print(\"Desde el quinto, hacia adelante\", x[5::])\n",
    "print(\"Desde el quinto, hacia adelante\", x[5:])#equivalente\n",
    "print(\"Desde el quinto, hasta el penúltimo\", x[5:-1])\n",
    "print(\"Desde el quinto, hasta el primero\", x[5:1:-1])\n",
    "print(\"Sacar una copia\",x[:])\n",
    "print(\"Sacar una copia\",x.copy()) ##Equivalente\n",
    "print(\"Ultimos dos elementos\",x[-2:]) ##Equivalente\n"
   ]
  },
  {
   "cell_type": "markdown",
   "id": "b04c456e-f2a5-40b4-95c0-aceaed12ff1d",
   "metadata": {},
   "source": [
    "Veamos ahora algunos ejemplos de slicing con arrays multidimensionales"
   ]
  },
  {
   "cell_type": "code",
   "execution_count": 32,
   "id": "17edf9e7-3995-4246-aa0f-1fdab01a9c64",
   "metadata": {},
   "outputs": [
    {
     "name": "stdout",
     "output_type": "stream",
     "text": [
      "[[ 1  2  3  4  5]\n",
      " [ 6  7  8  9 10]\n",
      " [11 12 13 14 15]]\n",
      "2 primeras filas y 3 primeras columnas\n",
      " [[1 2 3]\n",
      " [6 7 8]]\n",
      "Todas las filas, cada dos columnas\n",
      " [[ 1  3  5]\n",
      " [ 6  8 10]\n",
      " [11 13 15]]\n",
      "Invertir las filas\n",
      " [[11 12 13 14 15]\n",
      " [ 6  7  8  9 10]\n",
      " [ 1  2  3  4  5]]\n",
      "Invertir columnas\n",
      " [[ 5  4  3  2  1]\n",
      " [10  9  8  7  6]\n",
      " [15 14 13 12 11]]\n"
     ]
    }
   ],
   "source": [
    "import numpy as np\n",
    "\n",
    "array_multi = np.array([[1,2,3,4,5], [6,7,8,9,10], [11,12,13,14,15]])\n",
    "print(array_multi)\n",
    "\n",
    "print(\"2 primeras filas y 3 primeras columnas\\n\", array_multi[:2, :3])\n",
    "\n",
    "print(\"Todas las filas, cada dos columnas\\n\", array_multi[:, ::2])\n",
    "\n",
    "print(\"Invertir las filas\\n\", array_multi[::-1, :])\n",
    "\n",
    "print(\"Invertir columnas\\n\", array_multi[:, ::-1])"
   ]
  },
  {
   "cell_type": "markdown",
   "id": "d6b8d766-b176-45de-b198-a7268ecc9504",
   "metadata": {},
   "source": [
    "Otra forma de quedarnos con los sub arrays, o de filtrarlos es mediante una mascara de booleanos.\n",
    "La máscara tiene las mismas dimensiones que el array, y donde haya un True, se quedará con ese valor, pero en donde haya un\n",
    "False lo ignorará"
   ]
  },
  {
   "cell_type": "code",
   "execution_count": 34,
   "id": "9d115d74-0622-489b-bb62-2d94e0a4913b",
   "metadata": {},
   "outputs": [],
   "source": [
    "x = np.array([2,4,5,2,3,7,2])"
   ]
  },
  {
   "cell_type": "code",
   "execution_count": 35,
   "id": "d22c0e74-8dc6-458d-9521-ca96f7f5ab05",
   "metadata": {},
   "outputs": [
    {
     "name": "stdout",
     "output_type": "stream",
     "text": [
      "[2 4 5 2 3 7 2]\n",
      "[ True False False  True False False  True]\n"
     ]
    }
   ],
   "source": [
    "#Mostrar aquellos valores que sean 2\n",
    "\n",
    "print(x)\n",
    "print(x==2)"
   ]
  },
  {
   "cell_type": "code",
   "execution_count": 36,
   "id": "655b4ad2-0c93-4b1b-8894-26fcb0ed28ea",
   "metadata": {},
   "outputs": [
    {
     "name": "stdout",
     "output_type": "stream",
     "text": [
      "[ True False False  True False False  True]\n",
      "[2 2 2]\n"
     ]
    }
   ],
   "source": [
    "x_bools =np.array(x==2)\n",
    "print(x_bools)\n",
    "sub_x=x[x_bools]\n",
    "print(sub_x)\n",
    "                  "
   ]
  },
  {
   "cell_type": "markdown",
   "id": "4f69263b-bd01-4975-8d2d-68a25bfe7534",
   "metadata": {},
   "source": [
    "### Reshape"
   ]
  },
  {
   "cell_type": "markdown",
   "id": "5b0eedd1-c8e6-488d-b72d-8e6a4724564d",
   "metadata": {},
   "source": [
    "Con el Reshape podremos cambiar las dimensiones de los Arrays, siempre y cuando en numero de elementos sea posible. Por ejemplo\n",
    "si tenemos 4 elementos, no podremos hacer una matriz de 3x3.\n",
    "\n",
    "Este metodo se puede utilizar en infinidad de casos, pero lo más habitual sería, partiendo de un array de una dimensión, convirtiéndolo en\n",
    "una multidimensión.\n"
   ]
  },
  {
   "cell_type": "code",
   "execution_count": 39,
   "id": "8bc3a282-5798-4a99-8520-95ee4bd6be73",
   "metadata": {},
   "outputs": [
    {
     "name": "stdout",
     "output_type": "stream",
     "text": [
      "[0 1 2 3 4 5 6 7 8]\n"
     ]
    }
   ],
   "source": [
    "x = np.arange(9)\n",
    "print(x)"
   ]
  },
  {
   "cell_type": "code",
   "execution_count": 43,
   "id": "350197e9-a53f-484b-b6fe-adc7f0090d41",
   "metadata": {},
   "outputs": [
    {
     "name": "stdout",
     "output_type": "stream",
     "text": [
      "[[0 1 2]\n",
      " [3 4 5]\n",
      " [6 7 8]]\n",
      "2\n"
     ]
    }
   ],
   "source": [
    "y=x.reshape(3,3)\n",
    "print(y)\n",
    "print(y.ndim)\n"
   ]
  },
  {
   "cell_type": "code",
   "execution_count": 49,
   "id": "f418acb2-1e0d-4bb6-a03b-199c53f335ff",
   "metadata": {},
   "outputs": [
    {
     "name": "stdout",
     "output_type": "stream",
     "text": [
      "[[[ 0  1  2]\n",
      "  [ 3  4  5]\n",
      "  [ 6  7  8]\n",
      "  [ 9 10 11]\n",
      "  [12 13 14]]\n",
      "\n",
      " [[15 16 17]\n",
      "  [18 19 20]\n",
      "  [21 22 23]\n",
      "  [24 25 26]\n",
      "  [27 28 29]]]\n",
      "[[ 0  1  2  3  4]\n",
      " [ 5  6  7  8  9]\n",
      " [10 11 12 13 14]\n",
      " [15 16 17 18 19]\n",
      " [20 21 22 23 24]\n",
      " [25 26 27 28 29]]\n"
     ]
    }
   ],
   "source": [
    "x = np.arange(30)\n",
    "x1= x.reshape(2,5,3)\n",
    "y1= x.reshape(6,5)\n",
    "print(x1)\n",
    "print(y1)"
   ]
  }
 ],
 "metadata": {
  "kernelspec": {
   "display_name": "Python 3 (ipykernel)",
   "language": "python",
   "name": "python3"
  },
  "language_info": {
   "codemirror_mode": {
    "name": "ipython",
    "version": 3
   },
   "file_extension": ".py",
   "mimetype": "text/x-python",
   "name": "python",
   "nbconvert_exporter": "python",
   "pygments_lexer": "ipython3",
   "version": "3.12.1"
  }
 },
 "nbformat": 4,
 "nbformat_minor": 5
}
