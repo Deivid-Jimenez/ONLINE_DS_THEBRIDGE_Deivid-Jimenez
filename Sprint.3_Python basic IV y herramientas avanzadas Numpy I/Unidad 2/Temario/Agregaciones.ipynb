{
 "cells": [
  {
   "cell_type": "markdown",
   "id": "4c704f17-f922-429f-afa4-9ffcd04d406c",
   "metadata": {},
   "source": [
    "### Agregaciones\n",
    "\n",
    "Cuando nos enfrentamos a una gran cantidad de datos, un primer paso es calcular estadísticos mediante agregaciones de los datos, como por ejemplo la media, mediana o la desviación estándar. Con estas medidas podemos resumir el conjunto de los datos.\n",
    "\n",
    "Numpy tiene una serie de funciones de agregación integradas rápidas para trabajar con sus matrices.\n",
    "\n",
    "#### Suma\n",
    "\n",
    "Como primer ejemplo, vamos a calcular la suma de los valores de un array. Lo podemos implementar con la función **built-in** de Python **sum**."
   ]
  },
  {
   "cell_type": "code",
   "execution_count": 1,
   "id": "2c13b16f-308a-416d-84b6-99e10f6ba209",
   "metadata": {},
   "outputs": [],
   "source": [
    "import numpy as np"
   ]
  },
  {
   "cell_type": "code",
   "execution_count": 13,
   "id": "926f5687-d43d-4f5c-bbcf-a72d3a97debc",
   "metadata": {},
   "outputs": [
    {
     "name": "stdout",
     "output_type": "stream",
     "text": [
      "[0.87394776 0.47089366 0.56534588 0.82311804 0.84788955 0.84677256\n",
      " 0.72576311 0.94970524 0.66610802 0.40169055 0.35770142 0.02859611\n",
      " 0.32087094 0.94625438 0.40520605 0.35160478 0.35317388 0.74734771\n",
      " 0.08987968 0.71374543 0.20178243 0.22801068 0.58632312 0.30380926\n",
      " 0.03195876 0.63677265 0.75817172 0.90449069 0.97945    0.40863063\n",
      " 0.53690976 0.37338589 0.56163984 0.74800676 0.16136601 0.21270975\n",
      " 0.14281567 0.8923603  0.07254907 0.89352288 0.56936234 0.92819731\n",
      " 0.75385325 0.14236622 0.77677745 0.8947155  0.2715652  0.57109975\n",
      " 0.67415664 0.8841821  0.7112219  0.14062766 0.57793995 0.7498509\n",
      " 0.60379635 0.38671075 0.88891214 0.86264618 0.81011024 0.82978891\n",
      " 0.57801701 0.33086689 0.83055514 0.97455481 0.20217195 0.4797115\n",
      " 0.10484312 0.2944009  0.78831002 0.81197908 0.3935216  0.81365876\n",
      " 0.98127223 0.17932169 0.72035109 0.89639668 0.52757801 0.46678581\n",
      " 0.58379364 0.65724151 0.0237223  0.79460758 0.38860347 0.30047569\n",
      " 0.89744879 0.11768536 0.11685135 0.52359748 0.78244117 0.39790857\n",
      " 0.10656456 0.74707385 0.45099617 0.41749425 0.67679662 0.0969758\n",
      " 0.21704489 0.61040131 0.15872153 0.94712006]\n",
      "54.53602359521439\n"
     ]
    }
   ],
   "source": [
    "L = np.random.random(100)\n",
    "print(L)\n",
    "print(sum(L))"
   ]
  },
  {
   "cell_type": "code",
   "execution_count": 8,
   "id": "4468ab33-42af-4589-b3eb-f67eeb7290c0",
   "metadata": {},
   "outputs": [
    {
     "data": {
      "text/plain": [
       "np.float64(47.52414827660883)"
      ]
     },
     "execution_count": 8,
     "metadata": {},
     "output_type": "execute_result"
    }
   ],
   "source": [
    "np.sum(L)"
   ]
  },
  {
   "cell_type": "code",
   "execution_count": 10,
   "id": "2cde1c0b-2df2-4737-a7a9-c19366547299",
   "metadata": {},
   "outputs": [
    {
     "name": "stdout",
     "output_type": "stream",
     "text": [
      "28\n"
     ]
    }
   ],
   "source": [
    "matriz = [[1,2,4],[2,4,5],[1,4,5]]\n",
    "print(np.sum(matriz))"
   ]
  },
  {
   "cell_type": "markdown",
   "id": "3a1a8a31-d2ad-41b0-98b6-7e17c17d7dab",
   "metadata": {},
   "source": [
    "#### Maximo y mínimo"
   ]
  },
  {
   "cell_type": "code",
   "execution_count": 14,
   "id": "1e36127b-1344-441f-83c4-a0c030b3a529",
   "metadata": {},
   "outputs": [
    {
     "name": "stdout",
     "output_type": "stream",
     "text": [
      "0.0237223035441122 0.9812722315750466\n"
     ]
    }
   ],
   "source": [
    "print(min(L),max(L))"
   ]
  },
  {
   "cell_type": "markdown",
   "id": "3617a1f5-02a6-44bd-a53f-e71284dd4074",
   "metadata": {},
   "source": [
    "Para min,max y sum hay disponible otra sintaxis todavía más corta"
   ]
  },
  {
   "cell_type": "code",
   "execution_count": 15,
   "id": "1bda696c-403c-4c23-aeac-dfcf1c6027f4",
   "metadata": {},
   "outputs": [
    {
     "name": "stdout",
     "output_type": "stream",
     "text": [
      "0.0237223035441122 0.9812722315750466\n"
     ]
    }
   ],
   "source": [
    "print(L.min(),L.max())"
   ]
  },
  {
   "cell_type": "markdown",
   "id": "4497e9ad-29f9-48f3-8776-4c585239bc26",
   "metadata": {},
   "source": [
    "### Arregaciones multidimensionales"
   ]
  },
  {
   "cell_type": "code",
   "execution_count": 17,
   "id": "a52daa56-0bf8-46ae-bb4b-a519e700ec95",
   "metadata": {},
   "outputs": [
    {
     "name": "stdout",
     "output_type": "stream",
     "text": [
      "[[0.44669516 0.6624789  0.15382566 0.91501846 0.20044198]\n",
      " [0.69770805 0.28051617 0.08154826 0.68971935 0.28933749]\n",
      " [0.70062101 0.5585236  0.37684447 0.88588752 0.6064878 ]]\n"
     ]
    }
   ],
   "source": [
    "M = np.random.rand(3,5)\n",
    "print(M)"
   ]
  },
  {
   "cell_type": "markdown",
   "id": "0a9f8db2-e858-4b72-a851-66775a4fb130",
   "metadata": {},
   "source": [
    "Por defecto las funciones de agregacion se aplican sobre todos los elementos de la matriz, sin embargo las funciones de agregacion tienen un parámetro en el que especificamos el eje sobre el cual queremos aplicar dicha operacion."
   ]
  },
  {
   "cell_type": "code",
   "execution_count": 19,
   "id": "1edd4cf2-417b-4668-bd15-fc85d4daa9f2",
   "metadata": {},
   "outputs": [
    {
     "data": {
      "text/plain": [
       "array([0.15382566, 0.08154826, 0.37684447])"
      ]
     },
     "execution_count": 19,
     "metadata": {},
     "output_type": "execute_result"
    }
   ],
   "source": [
    "M.min(axis=0)\n",
    "M.min(axis=1)"
   ]
  },
  {
   "cell_type": "markdown",
   "id": "65901b3b-d94b-4f09-9d9b-449395c58740",
   "metadata": {},
   "source": [
    "### Argumento que maximiza o minimiza (argmax,argmin)"
   ]
  },
  {
   "cell_type": "markdown",
   "id": "a40973c1-78f1-499c-be47-b061dc91ac09",
   "metadata": {},
   "source": [
    "Para terminar, veamos dos funciones de localizacion. Una que nos permite obtener el indice del elemento maximo y otra que nos permite obtener\n",
    "el indice del valor minimo"
   ]
  },
  {
   "cell_type": "code",
   "execution_count": 20,
   "id": "2db7dfb8-7fe9-479b-9042-5319992bf903",
   "metadata": {},
   "outputs": [],
   "source": [
    "salida_neuronas = np.random.rand (7)\n",
    "etiquetas_neurona = [\"Azul\",\"Verde\",\"Rojo\",\"Negro\",\"Blanco\",\"Violeta\",\"Naranja\"]"
   ]
  },
  {
   "cell_type": "code",
   "execution_count": 24,
   "id": "7671e4aa-9b0b-4257-8900-94c6d76206ca",
   "metadata": {},
   "outputs": [
    {
     "name": "stdout",
     "output_type": "stream",
     "text": [
      "Azul prob: 0.08244605630411284\n",
      "Verde prob: 0.41771155252307135\n",
      "Rojo prob: 0.6127633382012564\n",
      "Negro prob: 0.11934580674860484\n",
      "Blanco prob: 0.7471602317017776\n",
      "Violeta prob: 0.9656987795363474\n",
      "Naranja prob: 0.2723551289670456\n",
      "El color escogido va a ser Violeta\n",
      "El color que menos debes ofrecer es Azul\n"
     ]
    }
   ],
   "source": [
    "for salida, color in zip(salida_neuronas,etiquetas_neurona):\n",
    "    print(color,\"prob:\",salida)\n",
    "\n",
    "#Dada la salida de las neuronas, ¿cual es el color preferido del cliente?\n",
    "\n",
    "indice_neurona_preferida = np.argmax(salida_neuronas)\n",
    "print(\"El color escogido va a ser\",etiquetas_neurona[indice_neurona_preferida])\n",
    "#Y el color que menos cree que le gusta\n",
    "indice_neurona_minima = np.argmin(salida_neuronas)\n",
    "print(\"El color que menos debes ofrecer es\",etiquetas_neurona[indice_neurona_minima])\n"
   ]
  }
 ],
 "metadata": {
  "kernelspec": {
   "display_name": "Python 3 (ipykernel)",
   "language": "python",
   "name": "python3"
  },
  "language_info": {
   "codemirror_mode": {
    "name": "ipython",
    "version": 3
   },
   "file_extension": ".py",
   "mimetype": "text/x-python",
   "name": "python",
   "nbconvert_exporter": "python",
   "pygments_lexer": "ipython3",
   "version": "3.12.1"
  }
 },
 "nbformat": 4,
 "nbformat_minor": 5
}
