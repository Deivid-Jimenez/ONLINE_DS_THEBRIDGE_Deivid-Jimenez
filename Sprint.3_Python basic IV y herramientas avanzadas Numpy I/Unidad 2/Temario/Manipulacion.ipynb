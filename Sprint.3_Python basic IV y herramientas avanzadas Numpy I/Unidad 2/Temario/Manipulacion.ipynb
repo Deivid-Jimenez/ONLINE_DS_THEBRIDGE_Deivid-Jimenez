{
 "cells": [
  {
   "cell_type": "markdown",
   "id": "33cd2164-8744-4600-98c9-b8e1ab22999c",
   "metadata": {},
   "source": [
    "## Concatenado y sustitución"
   ]
  },
  {
   "cell_type": "markdown",
   "id": "c2d9e017-6758-49df-9830-595832872cd5",
   "metadata": {},
   "source": [
    "Concatenado\n",
    "\n",
    "Para concatenar matrices, numpy tiene varios métodos: **np.concatenate**, **np.vstack** o **np.hstack**. \n",
    "Lo único que hay que tener en cuenta es que coincidan las dimensiones, para que el concatenado sea correcto."
   ]
  },
  {
   "cell_type": "code",
   "execution_count": 1,
   "id": "f8adbc73-1f1e-4346-a540-19831ef1fce0",
   "metadata": {},
   "outputs": [
    {
     "data": {
      "text/plain": [
       "[1, 2, 3, 3, 2, 1]"
      ]
     },
     "execution_count": 1,
     "metadata": {},
     "output_type": "execute_result"
    }
   ],
   "source": [
    "import numpy as np\n",
    "\n",
    "x = [1, 2, 3]\n",
    "y = [3, 2, 1]\n",
    "x + y"
   ]
  },
  {
   "cell_type": "code",
   "execution_count": 4,
   "id": "c85d7057-51fe-487f-80e2-a5bfa899e38f",
   "metadata": {},
   "outputs": [
    {
     "data": {
      "text/plain": [
       "array([1, 2, 3, 3, 2, 1])"
      ]
     },
     "execution_count": 4,
     "metadata": {},
     "output_type": "execute_result"
    }
   ],
   "source": [
    "x_np= np.array(x)\n",
    "y_np= np.array(y)\n",
    "\n",
    "#Si usamos el signo + lo que hará será sumar los valores dentro de los arrays y no los concatenará#\n",
    "\n",
    "np.concatenate([x_np,y_np])"
   ]
  },
  {
   "cell_type": "code",
   "execution_count": 6,
   "id": "86f530eb-6386-48ec-84e5-799ac6d4e3a8",
   "metadata": {},
   "outputs": [
    {
     "data": {
      "text/plain": [
       "array([ 1,  2,  3,  3,  2,  1, 99, 99, 99])"
      ]
     },
     "execution_count": 6,
     "metadata": {},
     "output_type": "execute_result"
    }
   ],
   "source": [
    "z_np= np.array([99,99,99])\n",
    "np.concatenate([x_np,y_np,z_np])"
   ]
  },
  {
   "cell_type": "code",
   "execution_count": 7,
   "id": "d1131808-171e-4ffd-b6b5-78072d3f5e59",
   "metadata": {},
   "outputs": [
    {
     "data": {
      "text/plain": [
       "array([[1, 2, 3],\n",
       "       [4, 5, 6],\n",
       "       [1, 2, 3],\n",
       "       [4, 5, 6]])"
      ]
     },
     "execution_count": 7,
     "metadata": {},
     "output_type": "execute_result"
    }
   ],
   "source": [
    "## Ahora con arrays bidimensionales\n",
    "\n",
    "xy = np.array ([[1,2,3],\n",
    "               [4,5,6]])\n",
    "\n",
    "np.concatenate([xy,xy])\n"
   ]
  },
  {
   "cell_type": "markdown",
   "id": "207e4ca6-f4d9-4dd5-ae59-c663c7f1c703",
   "metadata": {},
   "source": [
    "Ahora podemos jugar con los ejes a traves del argumento axis"
   ]
  },
  {
   "cell_type": "code",
   "execution_count": 8,
   "id": "ae0a5f39-0fe1-4450-861b-7a8820ef0bbc",
   "metadata": {},
   "outputs": [
    {
     "data": {
      "text/plain": [
       "array([[1, 2, 3, 1, 2, 3],\n",
       "       [4, 5, 6, 4, 5, 6]])"
      ]
     },
     "execution_count": 8,
     "metadata": {},
     "output_type": "execute_result"
    }
   ],
   "source": [
    "np.concatenate ([xy,xy],axis=1)"
   ]
  },
  {
   "cell_type": "markdown",
   "id": "0a71f1a3-70ff-42df-acf7-bdc15cbc16cd",
   "metadata": {},
   "source": [
    "Si tenemos arrays con varias dimensiones:"
   ]
  },
  {
   "cell_type": "code",
   "execution_count": 11,
   "id": "50784259-dac0-4107-8fae-cf8c5027a10e",
   "metadata": {},
   "outputs": [
    {
     "data": {
      "text/plain": [
       "array([[  1,   2,   3],\n",
       "       [  4,   5,   6],\n",
       "       [101,  11,  12],\n",
       "       [  7,   8,   9]])"
      ]
     },
     "execution_count": 11,
     "metadata": {},
     "output_type": "execute_result"
    }
   ],
   "source": [
    "xy = np.array([[1, 2, 3], [4, 5, 6], [101, 11, 12]])\n",
    "x = np.array([7, 8, 9])\n",
    "\n",
    "##Para concatenar arrays con diferentes dimensiones\n",
    "\n",
    "np.vstack([xy,x])"
   ]
  },
  {
   "cell_type": "code",
   "execution_count": 12,
   "id": "5a9f6c90-4357-43c8-94cb-102dc2430678",
   "metadata": {},
   "outputs": [
    {
     "name": "stdout",
     "output_type": "stream",
     "text": [
      "[[1 2 3 7]\n",
      " [4 5 6 8]]\n"
     ]
    }
   ],
   "source": [
    "\n",
    "xy = np.array([[1, 2, 3], [4, 5, 6]])\n",
    "x = np.array([[7], [8]])\n",
    "\n",
    "# Concatenado horizontal\n",
    "resultado = np.hstack((xy, x))\n",
    "\n",
    "print(resultado)"
   ]
  },
  {
   "cell_type": "code",
   "execution_count": 13,
   "id": "ac0da5e0-5141-4c55-b059-459c3975bf4b",
   "metadata": {},
   "outputs": [
    {
     "data": {
      "text/plain": [
       "array([[1, 2, 3, 7],\n",
       "       [4, 5, 6, 8]])"
      ]
     },
     "execution_count": 13,
     "metadata": {},
     "output_type": "execute_result"
    }
   ],
   "source": [
    "np.concatenate([xy,x],axis=1)"
   ]
  },
  {
   "cell_type": "markdown",
   "id": "7433ff7f-c748-44cf-9ec4-241f108f5bba",
   "metadata": {},
   "source": [
    "### Sustitución"
   ]
  },
  {
   "cell_type": "markdown",
   "id": "327fb713-b5f2-424e-ab4e-769dc4203169",
   "metadata": {},
   "source": [
    "En numpy podemos utilizar la funcion where para hacer sustituciones de valores que cuplan o no una condicion.\n"
   ]
  },
  {
   "cell_type": "code",
   "execution_count": 20,
   "id": "0d01877c-d3ab-44dc-a94b-0df431f1f581",
   "metadata": {},
   "outputs": [
    {
     "data": {
      "text/plain": [
       "array([[10, 10, 10],\n",
       "       [ 4,  5,  6]])"
      ]
     },
     "execution_count": 20,
     "metadata": {},
     "output_type": "execute_result"
    }
   ],
   "source": [
    "xy = np.array([[1, 2, 3], \n",
    "               [4, 5, 6]])\n",
    "\n",
    "##Sustituir valores pares por ceros e impares por unos\n",
    "\n",
    "np.where(xy % 2 ==0,0,1)\n",
    "\n",
    "##Sustituir valores menores que 4 por 10 y el resto dejar todo igual.\n",
    "\n",
    "np.where (xy<4,10,xy)"
   ]
  },
  {
   "cell_type": "code",
   "execution_count": 28,
   "id": "d04599bd-19dc-44dc-b297-b55f747f5e23",
   "metadata": {},
   "outputs": [
    {
     "data": {
      "text/plain": [
       "array(['la', 'cueva', 'es', 'una', 'cueva', 'roja'], dtype='<U5')"
      ]
     },
     "execution_count": 28,
     "metadata": {},
     "output_type": "execute_result"
    }
   ],
   "source": [
    "texto = np.array([\"la\", \"casa\", \"es\", \"una\", \"casa\", \"roja\"])\n",
    "\n",
    "# Sustituir \"casa\" por \"cueva\"\n",
    "np.where(texto == \"casa\", \"cueva\",texto)"
   ]
  },
  {
   "cell_type": "markdown",
   "id": "92076680-c449-4a65-b063-d05223d1ed19",
   "metadata": {},
   "source": [
    "## Splitting"
   ]
  },
  {
   "cell_type": "markdown",
   "id": "468bbf1a-aa80-4665-a1c8-ea2899b54ead",
   "metadata": {},
   "source": [
    "Al igual que hacíamos el concatenado, podemos realizar la operación contraria mediante np.split, np.hsplit y np.vsplit.\n",
    "\n",
    "Le podemos pasar una lista de índices por los que realizar el Split"
   ]
  },
  {
   "cell_type": "code",
   "execution_count": 8,
   "id": "f7412644-4c34-4476-aee5-a666d79f48db",
   "metadata": {},
   "outputs": [],
   "source": [
    "import numpy as np"
   ]
  },
  {
   "cell_type": "code",
   "execution_count": 9,
   "id": "d38da73c-7203-4a0b-bc35-5d09b333760b",
   "metadata": {},
   "outputs": [
    {
     "name": "stdout",
     "output_type": "stream",
     "text": [
      "[ 1  2  3 99 99  3  2  1]\n"
     ]
    }
   ],
   "source": [
    "x= np.array ([1,2,3,99,99,3,2,1])\n",
    "print (x)"
   ]
  },
  {
   "cell_type": "code",
   "execution_count": 14,
   "id": "e661fd19-6681-4973-807d-d3b2e7e71e93",
   "metadata": {},
   "outputs": [
    {
     "name": "stdout",
     "output_type": "stream",
     "text": [
      "[1 2] [ 3 99 99  3  2  1]\n",
      "[1 2] [ 3 99 99] [3 2 1]\n"
     ]
    }
   ],
   "source": [
    "##Split en 3 partes por el elemento 3 y el elemento 5\n",
    "\n",
    "#Elemento 3\n",
    "\n",
    "x1,x2 = np.split(x,[2])\n",
    "print(x1,x2)\n",
    "\n",
    "x1,x2,x3 = np.split(x,[2,5])\n",
    "print(x1,x2,x3)\n"
   ]
  },
  {
   "cell_type": "code",
   "execution_count": 15,
   "id": "ea40c617-de7b-4642-b4f6-34eaac046392",
   "metadata": {},
   "outputs": [
    {
     "name": "stdout",
     "output_type": "stream",
     "text": [
      "[1 2]\n",
      "[ 3 99 99]\n",
      "[3 2 1]\n"
     ]
    }
   ],
   "source": [
    "print(x[:2])\n",
    "print(x[2:5])\n",
    "print(x[5:])\n"
   ]
  },
  {
   "cell_type": "markdown",
   "id": "001e9985-371b-437a-a6d1-894faa549d6c",
   "metadata": {},
   "source": [
    "N puntos de splitting, supone crear N+1 Subarrays nuevos\n",
    "\n",
    "np.hsplit y np.vsplit funcionan de manera similar"
   ]
  },
  {
   "cell_type": "code",
   "execution_count": 19,
   "id": "928c332d-e4be-4485-9333-c75402367c28",
   "metadata": {},
   "outputs": [
    {
     "name": "stdout",
     "output_type": "stream",
     "text": [
      "[[ 0  1  2  3]\n",
      " [ 4  5  6  7]\n",
      " [ 8  9 10 11]\n",
      " [12 13 14 15]]\n"
     ]
    }
   ],
   "source": [
    "grid = np.arange(16).reshape((4,4))\n",
    "print(grid)"
   ]
  },
  {
   "cell_type": "code",
   "execution_count": 24,
   "id": "4324312f-06d1-4f90-a499-f439aa8484b7",
   "metadata": {},
   "outputs": [
    {
     "name": "stdout",
     "output_type": "stream",
     "text": [
      "[[0 1 2 3]\n",
      " [4 5 6 7]]\n",
      "[[ 8  9 10 11]\n",
      " [12 13 14 15]]\n"
     ]
    }
   ],
   "source": [
    "###Split vertical por la fila 2 (es decir separar el array por la mitad de las filas)\n",
    "\n",
    "upper,lower= np.vsplit(grid,[2])\n",
    "print(upper)\n",
    "print(lower)"
   ]
  },
  {
   "cell_type": "code",
   "execution_count": 23,
   "id": "42cba771-6fd6-467e-a41f-34150e506833",
   "metadata": {},
   "outputs": [
    {
     "name": "stdout",
     "output_type": "stream",
     "text": [
      "[[ 0  1  2]\n",
      " [ 4  5  6]\n",
      " [ 8  9 10]\n",
      " [12 13 14]]\n",
      "[[ 3]\n",
      " [ 7]\n",
      " [11]\n",
      " [15]]\n"
     ]
    }
   ],
   "source": [
    "#Split horizontal por la columna 3 (es decir separar la ultima columna del resto)\n",
    "left,right = np.hsplit(grid,[3])\n",
    "print (left)\n",
    "print (right)"
   ]
  },
  {
   "cell_type": "markdown",
   "id": "6df98f5f-c793-4945-b699-2ebb67bb9a19",
   "metadata": {},
   "source": [
    "### Vistas y copias"
   ]
  },
  {
   "cell_type": "markdown",
   "id": "dea9b1b6-41eb-40d5-b183-0a65a316dc6a",
   "metadata": {},
   "source": [
    "# Vistas\n",
    "\n",
    "Una característica importante y extremadamente útil en los arrays es que cuando **hacemos**  \n",
    "**slicing**, **realmente obtenemos de los arrays vistas**, **no copias**. ¿Esto qué significa? Que si  \n",
    "hacemos *slicing*, creando un nuevo array, y lo modificamos, también estaremos modificando  \n",
    "el original.\n",
    "\n",
    "Esto difiere con las listas de Python, que al aplicar *slicing* lo que obtenemos es una copia, y  \n",
    "por tanto cualquier modificación sobre la nueva lista no afectará a la lista original.\n",
    "\n",
    "Declaro un array"
   ]
  },
  {
   "cell_type": "code",
   "execution_count": 25,
   "id": "1f93d8de-b3d1-47c8-bdd6-1a36d03cd4ee",
   "metadata": {},
   "outputs": [
    {
     "data": {
      "text/plain": [
       "array([[1., 1., 1., 1.],\n",
       "       [1., 1., 1., 1.],\n",
       "       [1., 1., 1., 1.]])"
      ]
     },
     "execution_count": 25,
     "metadata": {},
     "output_type": "execute_result"
    }
   ],
   "source": [
    "x2 = np.ones((3,4))\n",
    "x2"
   ]
  },
  {
   "cell_type": "markdown",
   "id": "454a94a2-5d5d-45da-9c00-97c290bda0ba",
   "metadata": {},
   "source": [
    "Extraemos una matriz 2x2"
   ]
  },
  {
   "cell_type": "code",
   "execution_count": 26,
   "id": "02bfb800-263c-4f49-90ab-afb03b9f0e21",
   "metadata": {},
   "outputs": [
    {
     "name": "stdout",
     "output_type": "stream",
     "text": [
      "[[1. 1.]\n",
      " [1. 1.]]\n"
     ]
    }
   ],
   "source": [
    "x2_sub = x2[:2,:2]\n",
    "print(x2_sub)"
   ]
  },
  {
   "cell_type": "code",
   "execution_count": 28,
   "id": "879acaca-d622-4cf4-84cb-4d67c2ec404b",
   "metadata": {},
   "outputs": [
    {
     "name": "stdout",
     "output_type": "stream",
     "text": [
      "[[35.  1.]\n",
      " [ 1.  1.]]\n"
     ]
    }
   ],
   "source": [
    "x2_sub[0,0] = 35\n",
    "print(x2_sub)"
   ]
  },
  {
   "cell_type": "code",
   "execution_count": 29,
   "id": "7cf05cbc-6210-4821-803f-129ca4e1dc98",
   "metadata": {},
   "outputs": [
    {
     "name": "stdout",
     "output_type": "stream",
     "text": [
      "[[35.  1.  1.  1.]\n",
      " [ 1.  1.  1.  1.]\n",
      " [ 1.  1.  1.  1.]]\n"
     ]
    }
   ],
   "source": [
    "print(x2)"
   ]
  },
  {
   "cell_type": "markdown",
   "id": "b01fabbf-6424-4110-bd23-1faef24d1f91",
   "metadata": {},
   "source": [
    "Esta característica es bastante util ya que si trabajamos con datasets muy grandes, podremos acceder y procesar partes del dataset original, sin necesidad de hacer copias, y por tanto, sin sobrecargar la memoria. "
   ]
  },
  {
   "cell_type": "markdown",
   "id": "0dcba2b2-9341-430c-90c7-866d3b912b6d",
   "metadata": {},
   "source": [
    "### Copias"
   ]
  },
  {
   "cell_type": "markdown",
   "id": "450ea7fc-7660-47f3-a5ba-346318f8f859",
   "metadata": {},
   "source": [
    "Siempre tenemos la opcion de realizar copias del array mediante la sentencia copy()"
   ]
  },
  {
   "cell_type": "code",
   "execution_count": 32,
   "id": "a37f366d-f17f-4d16-aa82-a40100a18ca6",
   "metadata": {},
   "outputs": [
    {
     "name": "stdout",
     "output_type": "stream",
     "text": [
      "[[35.  1.]\n",
      " [ 1.  1.]]\n"
     ]
    }
   ],
   "source": [
    "x2_sub_copy = x2[:2,:2].copy()\n",
    "print (x2_sub_copy)"
   ]
  },
  {
   "cell_type": "markdown",
   "id": "377905fe-2f20-4fa4-97c5-9154e949ce66",
   "metadata": {},
   "source": [
    "Ahora si modificamos el subarray, el original se quedará como estaba"
   ]
  },
  {
   "cell_type": "code",
   "execution_count": 34,
   "id": "78d49e57-7d40-4e89-a658-897e39557f25",
   "metadata": {},
   "outputs": [
    {
     "name": "stdout",
     "output_type": "stream",
     "text": [
      "[[ 35.   1.]\n",
      " [  1. 123.]]\n"
     ]
    }
   ],
   "source": [
    "x2_sub_copy[1,1] = 123\n",
    "print(x2_sub_copy)"
   ]
  },
  {
   "cell_type": "code",
   "execution_count": 35,
   "id": "61e706a2-cd54-4455-af64-ade186df5aa1",
   "metadata": {},
   "outputs": [
    {
     "name": "stdout",
     "output_type": "stream",
     "text": [
      "[[35.  1.  1.  1.]\n",
      " [ 1.  1.  1.  1.]\n",
      " [ 1.  1.  1.  1.]]\n"
     ]
    }
   ],
   "source": [
    "print(x2)"
   ]
  }
 ],
 "metadata": {
  "kernelspec": {
   "display_name": "Python 3 (ipykernel)",
   "language": "python",
   "name": "python3"
  },
  "language_info": {
   "codemirror_mode": {
    "name": "ipython",
    "version": 3
   },
   "file_extension": ".py",
   "mimetype": "text/x-python",
   "name": "python",
   "nbconvert_exporter": "python",
   "pygments_lexer": "ipython3",
   "version": "3.12.1"
  }
 },
 "nbformat": 4,
 "nbformat_minor": 5
}
