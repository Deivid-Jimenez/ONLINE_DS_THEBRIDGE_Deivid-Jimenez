{
 "cells": [
  {
   "cell_type": "markdown",
   "id": "33cd2164-8744-4600-98c9-b8e1ab22999c",
   "metadata": {},
   "source": [
    "## Concatenado y sustitución"
   ]
  },
  {
   "cell_type": "markdown",
   "id": "c2d9e017-6758-49df-9830-595832872cd5",
   "metadata": {},
   "source": [
    "Concatenado\n",
    "\n",
    "Para concatenar matrices, numpy tiene varios métodos: **np.concatenate**, **np.vstack** o **np.hstack**. \n",
    "Lo único que hay que tener en cuenta es que coincidan las dimensiones, para que el concatenado sea correcto."
   ]
  },
  {
   "cell_type": "code",
   "execution_count": 1,
   "id": "f8adbc73-1f1e-4346-a540-19831ef1fce0",
   "metadata": {},
   "outputs": [
    {
     "data": {
      "text/plain": [
       "[1, 2, 3, 3, 2, 1]"
      ]
     },
     "execution_count": 1,
     "metadata": {},
     "output_type": "execute_result"
    }
   ],
   "source": [
    "import numpy as np\n",
    "\n",
    "x = [1, 2, 3]\n",
    "y = [3, 2, 1]\n",
    "x + y"
   ]
  },
  {
   "cell_type": "code",
   "execution_count": 4,
   "id": "c85d7057-51fe-487f-80e2-a5bfa899e38f",
   "metadata": {},
   "outputs": [
    {
     "data": {
      "text/plain": [
       "array([1, 2, 3, 3, 2, 1])"
      ]
     },
     "execution_count": 4,
     "metadata": {},
     "output_type": "execute_result"
    }
   ],
   "source": [
    "x_np= np.array(x)\n",
    "y_np= np.array(y)\n",
    "\n",
    "#Si usamos el signo + lo que hará será sumar los valores dentro de los arrays y no los concatenará#\n",
    "\n",
    "np.concatenate([x_np,y_np])"
   ]
  },
  {
   "cell_type": "code",
   "execution_count": 6,
   "id": "86f530eb-6386-48ec-84e5-799ac6d4e3a8",
   "metadata": {},
   "outputs": [
    {
     "data": {
      "text/plain": [
       "array([ 1,  2,  3,  3,  2,  1, 99, 99, 99])"
      ]
     },
     "execution_count": 6,
     "metadata": {},
     "output_type": "execute_result"
    }
   ],
   "source": [
    "z_np= np.array([99,99,99])\n",
    "np.concatenate([x_np,y_np,z_np])"
   ]
  },
  {
   "cell_type": "code",
   "execution_count": 7,
   "id": "d1131808-171e-4ffd-b6b5-78072d3f5e59",
   "metadata": {},
   "outputs": [
    {
     "data": {
      "text/plain": [
       "array([[1, 2, 3],\n",
       "       [4, 5, 6],\n",
       "       [1, 2, 3],\n",
       "       [4, 5, 6]])"
      ]
     },
     "execution_count": 7,
     "metadata": {},
     "output_type": "execute_result"
    }
   ],
   "source": [
    "## Ahora con arrays bidimensionales\n",
    "\n",
    "xy = np.array ([[1,2,3],\n",
    "               [4,5,6]])\n",
    "\n",
    "np.concatenate([xy,xy])\n"
   ]
  },
  {
   "cell_type": "markdown",
   "id": "207e4ca6-f4d9-4dd5-ae59-c663c7f1c703",
   "metadata": {},
   "source": [
    "Ahora podemos jugar con los ejes a traves del argumento axis"
   ]
  },
  {
   "cell_type": "code",
   "execution_count": 8,
   "id": "ae0a5f39-0fe1-4450-861b-7a8820ef0bbc",
   "metadata": {},
   "outputs": [
    {
     "data": {
      "text/plain": [
       "array([[1, 2, 3, 1, 2, 3],\n",
       "       [4, 5, 6, 4, 5, 6]])"
      ]
     },
     "execution_count": 8,
     "metadata": {},
     "output_type": "execute_result"
    }
   ],
   "source": [
    "np.concatenate ([xy,xy],axis=1)"
   ]
  },
  {
   "cell_type": "markdown",
   "id": "0a71f1a3-70ff-42df-acf7-bdc15cbc16cd",
   "metadata": {},
   "source": [
    "Si tenemos arrays con varias dimensiones:"
   ]
  },
  {
   "cell_type": "code",
   "execution_count": 11,
   "id": "50784259-dac0-4107-8fae-cf8c5027a10e",
   "metadata": {},
   "outputs": [
    {
     "data": {
      "text/plain": [
       "array([[  1,   2,   3],\n",
       "       [  4,   5,   6],\n",
       "       [101,  11,  12],\n",
       "       [  7,   8,   9]])"
      ]
     },
     "execution_count": 11,
     "metadata": {},
     "output_type": "execute_result"
    }
   ],
   "source": [
    "xy = np.array([[1, 2, 3], [4, 5, 6], [101, 11, 12]])\n",
    "x = np.array([7, 8, 9])\n",
    "\n",
    "##Para concatenar arrays con diferentes dimensiones\n",
    "\n",
    "np.vstack([xy,x])"
   ]
  },
  {
   "cell_type": "code",
   "execution_count": 12,
   "id": "5a9f6c90-4357-43c8-94cb-102dc2430678",
   "metadata": {},
   "outputs": [
    {
     "name": "stdout",
     "output_type": "stream",
     "text": [
      "[[1 2 3 7]\n",
      " [4 5 6 8]]\n"
     ]
    }
   ],
   "source": [
    "\n",
    "xy = np.array([[1, 2, 3], [4, 5, 6]])\n",
    "x = np.array([[7], [8]])\n",
    "\n",
    "# Concatenado horizontal\n",
    "resultado = np.hstack((xy, x))\n",
    "\n",
    "print(resultado)"
   ]
  },
  {
   "cell_type": "code",
   "execution_count": 13,
   "id": "ac0da5e0-5141-4c55-b059-459c3975bf4b",
   "metadata": {},
   "outputs": [
    {
     "data": {
      "text/plain": [
       "array([[1, 2, 3, 7],\n",
       "       [4, 5, 6, 8]])"
      ]
     },
     "execution_count": 13,
     "metadata": {},
     "output_type": "execute_result"
    }
   ],
   "source": [
    "np.concatenate([xy,x],axis=1)"
   ]
  },
  {
   "cell_type": "markdown",
   "id": "7433ff7f-c748-44cf-9ec4-241f108f5bba",
   "metadata": {},
   "source": [
    "### Sustitución"
   ]
  },
  {
   "cell_type": "markdown",
   "id": "327fb713-b5f2-424e-ab4e-769dc4203169",
   "metadata": {},
   "source": [
    "En numpy podemos utilizar la funcion where para hacer sustituciones de valores que cuplan o no una condicion.\n"
   ]
  },
  {
   "cell_type": "code",
   "execution_count": 20,
   "id": "0d01877c-d3ab-44dc-a94b-0df431f1f581",
   "metadata": {},
   "outputs": [
    {
     "data": {
      "text/plain": [
       "array([[10, 10, 10],\n",
       "       [ 4,  5,  6]])"
      ]
     },
     "execution_count": 20,
     "metadata": {},
     "output_type": "execute_result"
    }
   ],
   "source": [
    "xy = np.array([[1, 2, 3], \n",
    "               [4, 5, 6]])\n",
    "\n",
    "##Sustituir valores pares por ceros e impares por unos\n",
    "\n",
    "np.where(xy % 2 ==0,0,1)\n",
    "\n",
    "##Sustituir valores menores que 4 por 10 y el resto dejar todo igual.\n",
    "\n",
    "np.where (xy<4,10,xy)"
   ]
  },
  {
   "cell_type": "code",
   "execution_count": 28,
   "id": "d04599bd-19dc-44dc-b297-b55f747f5e23",
   "metadata": {},
   "outputs": [
    {
     "data": {
      "text/plain": [
       "array(['la', 'cueva', 'es', 'una', 'cueva', 'roja'], dtype='<U5')"
      ]
     },
     "execution_count": 28,
     "metadata": {},
     "output_type": "execute_result"
    }
   ],
   "source": [
    "texto = np.array([\"la\", \"casa\", \"es\", \"una\", \"casa\", \"roja\"])\n",
    "\n",
    "# Sustituir \"casa\" por \"cueva\"\n",
    "np.where(texto == \"casa\", \"cueva\",texto)"
   ]
  }
 ],
 "metadata": {
  "kernelspec": {
   "display_name": "Python 3 (ipykernel)",
   "language": "python",
   "name": "python3"
  },
  "language_info": {
   "codemirror_mode": {
    "name": "ipython",
    "version": 3
   },
   "file_extension": ".py",
   "mimetype": "text/x-python",
   "name": "python",
   "nbconvert_exporter": "python",
   "pygments_lexer": "ipython3",
   "version": "3.12.1"
  }
 },
 "nbformat": 4,
 "nbformat_minor": 5
}
