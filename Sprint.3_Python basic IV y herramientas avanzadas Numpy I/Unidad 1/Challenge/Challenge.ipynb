{
 "cells": [
  {
   "cell_type": "markdown",
   "id": "49e7b911-731b-45f9-a6f6-d03a16d4e4d5",
   "metadata": {},
   "source": [
    "## Ejercicio 1"
   ]
  },
  {
   "cell_type": "markdown",
   "id": "d86b84cf-cb38-4f3f-9616-573628d3e6e1",
   "metadata": {},
   "source": [
    "Rafa, Nacho y Clara quieren comprar palmeras, donuts, hojaldres y tartas. Cada uno necesita diferentes cantidades y pueden elegir dos tiendas: Manolo Bakes y Starbucks.\n",
    "\n",
    "Las siguiente tablas muestran, respectivamente, la cantidad que cada uno necesita, y los precios en cada una de las tiendas\n",
    "\n",
    "|        | Palmeras | Donuts | Hojaldres | Tartas |\n",
    "|--------|----------|--------|-----------|--------|\n",
    "| Rafa   | 6        | 5      | 3         | 1      |\n",
    "| Nacho  | 3        | 6      | 2         | 2      |\n",
    "| Clara  | 3        | 4      | 3         | 1      |\n",
    "\n",
    "|          | Manolo Bakes | Starbucks |\n",
    "|----------|--------------|-----------|\n",
    "| Palmera  | 1.50         | 1.00      |\n",
    "| Donut    | 2.00         | 2.50      |\n",
    "| Hojaldre | 5.00         | 4.50      |\n",
    "| Tarta    | 16.00        | 17.00     |\n",
    "\n",
    "\n",
    "\n",
    "Por ejemplo, si Rafa compra en Manolo Bakes gastaría:\n",
    "\n",
    "\n",
    "y si compra en Starbucks gastaría:\n",
    "\n",
    "\n",
    "SE PIDE: Genera la matriz que exprese la cantidad que cada persona gastaría en cada tienda, y recomienda a cada uno dónde debería hacer sus compras (pista: donde le cueste menos, ¿no?)\n",
    "\n",
    "REQUISITIO: Emplea Numpy, su tipo array y sus operaciones para la resolución del ejercicio."
   ]
  },
  {
   "cell_type": "code",
   "execution_count": 13,
   "id": "9e3f14e7-ed8a-4600-a60f-1495d03e74c1",
   "metadata": {},
   "outputs": [
    {
     "name": "stdout",
     "output_type": "stream",
     "text": [
      "Matriz de costos:\n",
      "[[50.  49. ]\n",
      " [58.5 61. ]\n",
      " [43.5 43.5]]\n",
      "\n",
      "Recomendaciones:\n",
      "Rafa debería comprar en Starbucks\n",
      "Nacho debería comprar en Manolo Bakes\n",
      "Clara debería comprar en Starbucks\n"
     ]
    }
   ],
   "source": [
    "import numpy as np\n",
    "\n",
    "# Matriz de cantidades\n",
    "cantidades = np.array([\n",
    "    [6, 5, 3, 1],  # Rafa\n",
    "    [3, 6, 2, 2],  # Nacho\n",
    "    [3, 4, 3, 1]   # Clara\n",
    "])\n",
    "\n",
    "# Matriz de precios en Manolo Bakes\n",
    "precios_manolo = np.array([1.50, 2.00, 5.00, 16.00])\n",
    "\n",
    "# Matriz de precios en Starbucks\n",
    "precios_starbucks = np.array([1.00, 2.50, 4.50, 17.00])\n",
    "\n",
    "# Calcular el costo total en cada tienda\n",
    "costos_manolo = np.dot(cantidades, precios_manolo)\n",
    "costos_starbucks = np.dot(cantidades, precios_starbucks)\n",
    "\n",
    "# Crear la matriz de costos\n",
    "costos = np.array([costos_manolo, costos_starbucks]).T\n",
    "\n",
    "# Recomendar la tienda más económica\n",
    "recomendaciones = np.where(costos_manolo < costos_starbucks, 'Manolo Bakes', 'Starbucks')\n",
    "\n",
    "# Resultados\n",
    "print(\"Matriz de costos:\")\n",
    "print(costos)\n",
    "print(\"\\nRecomendaciones:\")\n",
    "for i, persona in enumerate(['Rafa', 'Nacho', 'Clara']):\n",
    "    print(f\"{persona} debería comprar en {recomendaciones[i]}\")"
   ]
  },
  {
   "cell_type": "markdown",
   "id": "7fc97889-ee54-4f68-b58d-2d0a2d948961",
   "metadata": {},
   "source": [
    "## Ejercicio 2"
   ]
  },
  {
   "cell_type": "markdown",
   "id": "e9caf832-98d3-4446-90d2-634068a1d0fb",
   "metadata": {},
   "source": [
    "PARTE II: Clasificador de Películas\n",
    "II.1: Similitud entre películas\n",
    "\n",
    "Vamos a calcular similitudes entre películas. Para ello las clasificasmos según generos, en concreto tenemos:\n",
    "\n",
    "Toy Story: Aventura, Animación, Comedia\n",
    "Jumanji: Aventura\n",
    "Mortal Kombat: Acción, Aventura\n",
    "Pocahontas: Animación, Romance\n",
    "Y ahora calcularemos su similitud por el método del coseno. Para ello:"
   ]
  },
  {
   "cell_type": "markdown",
   "id": "6e924bd7-9855-4ffd-b6f7-aea584eb2e1f",
   "metadata": {},
   "source": [
    "Convierte cada película en un vector y almacenalo en un diccionario con clave el nombre de la película. Pista: Para convertirlo en vector, crea un vector/lista por película con esta estructura (¿qué valores puedes darle por género?):"
   ]
  },
  {
   "cell_type": "code",
   "execution_count": 2,
   "id": "febecd0b-ddb9-447d-bbb4-1acf5e870c0a",
   "metadata": {},
   "outputs": [],
   "source": [
    "peliculas = { \"Toy Story\":[0,1,1,1,0],\n",
    "             \"Jumanji\":[0,1,0,0,0],\n",
    "             \"Mortal Kombat\":[1,1,0,0,0],\n",
    "             \"Pocahontas\":[0,0,1,0,1]}\n",
    "             "
   ]
  },
  {
   "cell_type": "code",
   "execution_count": 3,
   "id": "7d4e65e7-2537-4ad9-a2a9-9b98fc265ff5",
   "metadata": {},
   "outputs": [
    {
     "data": {
      "text/plain": [
       "[[0, 1, 1, 1, 0], [0, 1, 0, 0, 0], [1, 1, 0, 0, 0], [0, 0, 1, 0, 1]]"
      ]
     },
     "execution_count": 3,
     "metadata": {},
     "output_type": "execute_result"
    }
   ],
   "source": [
    "list(peliculas.values())"
   ]
  },
  {
   "cell_type": "code",
   "execution_count": 14,
   "id": "00f2d6f7-ef01-447c-90eb-7487599e0c57",
   "metadata": {},
   "outputs": [
    {
     "name": "stdout",
     "output_type": "stream",
     "text": [
      "[[0 1 1 1 0]\n",
      " [0 1 0 0 0]\n",
      " [1 1 0 0 0]\n",
      " [0 0 1 0 1]]\n"
     ]
    }
   ],
   "source": [
    "vectores=list(peliculas.values())\n",
    "matriz_peliculas_np = np.array(vectores)\n",
    "print(matriz_peliculas_np)"
   ]
  },
  {
   "cell_type": "code",
   "execution_count": 15,
   "id": "ba0449b3-201b-4517-83ea-e207a45ecb14",
   "metadata": {},
   "outputs": [
    {
     "name": "stdout",
     "output_type": "stream",
     "text": [
      "Para Toy Story la más parecida es Jumanji, grado de confianza: 0.5773502691896258\n",
      "Para Jumanji la más parecida es Mortal Kombat, grado de confianza: 0.7071067811865475\n",
      "Para Mortal Kombat la más parecida es Jumanji, grado de confianza: 0.7071067811865475\n",
      "Para Pocahontas la más parecida es Toy Story, grado de confianza: 0.40824829046386296\n"
     ]
    }
   ],
   "source": [
    "for pelicula1, vector in peliculas.items():\n",
    "    coseno_maximo = -1\n",
    "    pelicula_similar = None\n",
    "    \n",
    "    for pelicula2, vector2 in peliculas.items():\n",
    "        if pelicula1 != pelicula2:\n",
    "            coseno = np.dot(vector, vector2) / (np.linalg.norm(vector) * np.linalg.norm(vector2))\n",
    "            if coseno > coseno_maximo:\n",
    "                pelicula_similar = pelicula2\n",
    "                coseno_maximo = coseno\n",
    "    \n",
    "    print(f\"Para {pelicula1} la más parecida es {pelicula_similar}, grado de confianza: {coseno_maximo}\")"
   ]
  }
 ],
 "metadata": {
  "kernelspec": {
   "display_name": "Python 3 (ipykernel)",
   "language": "python",
   "name": "python3"
  },
  "language_info": {
   "codemirror_mode": {
    "name": "ipython",
    "version": 3
   },
   "file_extension": ".py",
   "mimetype": "text/x-python",
   "name": "python",
   "nbconvert_exporter": "python",
   "pygments_lexer": "ipython3",
   "version": "3.12.1"
  }
 },
 "nbformat": 4,
 "nbformat_minor": 5
}
