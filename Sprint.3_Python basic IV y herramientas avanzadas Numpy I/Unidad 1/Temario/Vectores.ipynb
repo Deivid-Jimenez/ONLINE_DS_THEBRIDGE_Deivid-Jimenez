{
 "cells": [
  {
   "cell_type": "code",
   "execution_count": 16,
   "id": "8cc1833c-6e4e-412c-a82f-f31eaaccafdf",
   "metadata": {},
   "outputs": [],
   "source": [
    "alumnos_aidone = {\n",
    "    \"Roberto\":[5,4],\n",
    "    \"Lucía\":[2,-3],\n",
    "    \"Alejandro\":[3,5],\n",
    "    \"Valeria\":[-5,4],\n",
    "    \"Javier\":[0,-1],\n",
    "    \"Camila\":[3,2],\n",
    "    \"Diego\":[-1,1],\n",
    "    \"Gabriela\":[5,-2],\n",
    "    \"Mateo\":[-5,3],\n",
    "    \"Sofia\":[-5,1]}    "
   ]
  },
  {
   "cell_type": "markdown",
   "id": "283d2636-9346-4864-9d2f-8ae6125c2474",
   "metadata": {},
   "source": [
    "## Vectores"
   ]
  },
  {
   "cell_type": "markdown",
   "id": "a054aafb-6e15-4c29-865f-09d2fa5e5bf1",
   "metadata": {},
   "source": [
    "Entidad matemática que tiene tanto magnitud (o longitud) como dirección. Lo cual permite representarlo graficamente y algebragicamente.\n",
    "\n",
    "Desde un punto de vista algebrágico un vector es una serie o lista de valores... En terminos de data science un vector es una lista ordenada de valores de cualquier tipo que caracterizan una cosa, entidad, lo que sea que estemos tratando.\n",
    "\n",
    "Los dos tipos de vectores son: filas y columnas."
   ]
  },
  {
   "cell_type": "code",
   "execution_count": 2,
   "id": "04c45b12-aa3f-4ed6-a6de-03f19e3b49e7",
   "metadata": {},
   "outputs": [],
   "source": [
    "import matplotlib.pyplot as plt\n",
    "from warnings import filterwarnings\n",
    "\n",
    "%matplotlib inline\n",
    "filterwarnings('ignore')"
   ]
  },
  {
   "cell_type": "markdown",
   "id": "e4f9b6e3-7893-4692-9341-1bc48b95d488",
   "metadata": {},
   "source": [
    "La distancia entre vectores se obtine a través de la fórmula:\n",
    "\n",
    "\n",
    "\\begin{align*}\n",
    "\\\\\n",
    "&\\sqrt{(x1 -x2)^2 + {(y1-y2)}^2}\\\\\n",
    "\\end{align*}\n",
    "\n",
    "Donde [x1,y1] son los valores de cordenadas de primer vector [x2,y2] los valores del segundo vector. El orden de los vectores no cambia el resultado\n",
    "* x1=5, y1=4\n",
    "* x1=2, y2=-3"
   ]
  },
  {
   "cell_type": "markdown",
   "id": "74ce170d-068b-4f0d-bbab-b48e5f0da035",
   "metadata": {},
   "source": [
    "Tenemos una función que nos calcula la distancia entra vectores, para ello recurrimos a la librería **math**"
   ]
  },
  {
   "cell_type": "code",
   "execution_count": 17,
   "id": "2204ec1d-492a-4d7d-8466-279799b39fc5",
   "metadata": {},
   "outputs": [],
   "source": [
    "import math\n",
    "\n",
    "def distancia_2d(vec1, vec2, precision=2):\n",
    "    suma = 0\n",
    "    for indice_componente in range(2):\n",
    "        suma += (vec1[indice_componente]-vec2[indice_componente])**2\n",
    "    distancia= math.sqrt(suma)\n",
    "    distancia = round(distancia, precision)\n",
    "    return distancia"
   ]
  },
  {
   "cell_type": "code",
   "execution_count": 19,
   "id": "c8783a6d-c2e4-42f0-9be7-1aa49ad46412",
   "metadata": {},
   "outputs": [
    {
     "name": "stdout",
     "output_type": "stream",
     "text": [
      "Distancia Lucia- Roberto 7.62\n",
      "Distancia Lucia- Gabriela 3.16\n",
      "Distancia Lucia- Mateo 9.22\n"
     ]
    }
   ],
   "source": [
    "vec_lucia= alumnos_aidone [\"Lucía\"]\n",
    "for alumnos_ref in [\"Roberto\",\"Gabriela\",\"Mateo\"]:\n",
    "    vec_ref = alumnos_aidone[alumnos_ref]\n",
    "    distancia = distancia_2d(vec_lucia,vec_ref)\n",
    "    print (\"Distancia Lucia-\",alumnos_ref,distancia)"
   ]
  },
  {
   "cell_type": "markdown",
   "id": "2275c558-2699-45e3-86a3-d9b77e8e95a1",
   "metadata": {},
   "source": [
    "## Producto escalar de vectores"
   ]
  },
  {
   "cell_type": "markdown",
   "id": "065385fb-ab22-4051-97b2-c977a83dc5ce",
   "metadata": {},
   "source": [
    "El producto escalar de vectores se define como la suma de los productos de sus elementos, suele representarse matemáticamente como <x,y> o <x·y> en donde x e y son dos vectores\n",
    "\n",
    "Ejemplo:\n",
    "\n",
    "Valeria= [-5,4]\n",
    "Alejandro=[3,5]\n",
    "\n",
    "Valeria,Alejandro = (-5·3)+(4·5)= -15+20=5"
   ]
  },
  {
   "cell_type": "code",
   "execution_count": 20,
   "id": "117964ed-fe87-4868-8298-6c0110cd2f8b",
   "metadata": {},
   "outputs": [],
   "source": [
    "def dot_product(vec1,vec2,precision=2):\n",
    "    producto = 0\n",
    "    for i in range (len(vec1)):\n",
    "        producto += vec1[i]*vec2[i]\n",
    "    producto = round(producto,precision)\n",
    "    return producto"
   ]
  },
  {
   "cell_type": "code",
   "execution_count": 21,
   "id": "937ba69a-eb03-48ce-823e-f8cb4116833d",
   "metadata": {},
   "outputs": [
    {
     "data": {
      "text/plain": [
       "5"
      ]
     },
     "execution_count": 21,
     "metadata": {},
     "output_type": "execute_result"
    }
   ],
   "source": [
    "vec_valeria = alumnos_aidone[\"Valeria\"]\n",
    "vec_alejandro = alumnos_aidone[\"Alejandro\"]\n",
    "dot_product(vec_valeria,vec_alejandro)"
   ]
  },
  {
   "cell_type": "code",
   "execution_count": 25,
   "id": "3d097eae-a177-4137-8452-d536fbdf0843",
   "metadata": {},
   "outputs": [],
   "source": [
    "def norm_vec(vec, precision=1):\n",
    "    escalar = dot_product(vec,vec,precision)\n",
    "    resultado = math.sqrt(escalar)\n",
    "    resultado = round(resultado,precision)\n",
    "    return resultado"
   ]
  },
  {
   "cell_type": "code",
   "execution_count": 27,
   "id": "16ac7f4e-3092-4974-961c-df9d6e0313ed",
   "metadata": {},
   "outputs": [
    {
     "data": {
      "text/plain": [
       "3.6"
      ]
     },
     "execution_count": 27,
     "metadata": {},
     "output_type": "execute_result"
    }
   ],
   "source": [
    "vec_lucia = alumnos_aidone[\"Lucía\"]\n",
    "norm_vec(vec_lucia,1)"
   ]
  },
  {
   "cell_type": "code",
   "execution_count": 28,
   "id": "dcd9dcd3-dc68-4fdc-9966-b5b3cc5cdb2b",
   "metadata": {},
   "outputs": [],
   "source": [
    "def cos_vec(vec1,vec2,precision=1):\n",
    "    resultado=dot_product(vec1,vec2)/(norm_vec(vec1) * norm_vec(vec2))\n",
    "    resultado = round(resultado)\n",
    "    return resultado"
   ]
  },
  {
   "cell_type": "code",
   "execution_count": 32,
   "id": "7c3a766c-1908-4890-bec5-01313fb92cb2",
   "metadata": {},
   "outputs": [
    {
     "data": {
      "text/plain": [
       "1"
      ]
     },
     "execution_count": 32,
     "metadata": {},
     "output_type": "execute_result"
    }
   ],
   "source": [
    "vec_lucia =alumnos_aidone[\"Lucía\"]\n",
    "vec_gabriela =alumnos_aidone[\"Gabriela\"]\n",
    "cos_vec(vec_lucia,vec_gabriela,2)\n"
   ]
  }
 ],
 "metadata": {
  "kernelspec": {
   "display_name": "Python 3 (ipykernel)",
   "language": "python",
   "name": "python3"
  },
  "language_info": {
   "codemirror_mode": {
    "name": "ipython",
    "version": 3
   },
   "file_extension": ".py",
   "mimetype": "text/x-python",
   "name": "python",
   "nbconvert_exporter": "python",
   "pygments_lexer": "ipython3",
   "version": "3.12.1"
  }
 },
 "nbformat": 4,
 "nbformat_minor": 5
}
