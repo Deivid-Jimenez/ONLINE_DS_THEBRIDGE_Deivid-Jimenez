{
 "cells": [
  {
   "cell_type": "markdown",
   "id": "fb9cd4e0-f65a-4b2f-a3bc-59f1face4878",
   "metadata": {},
   "source": [
    "## Vectores con Numpy"
   ]
  },
  {
   "cell_type": "code",
   "execution_count": 2,
   "id": "e954dbfb-cc6c-4018-b415-8d030b11ad4e",
   "metadata": {},
   "outputs": [
    {
     "data": {
      "text/plain": [
       "'2.2.1'"
      ]
     },
     "execution_count": 2,
     "metadata": {},
     "output_type": "execute_result"
    }
   ],
   "source": [
    "import numpy as np\n",
    "np.__version__"
   ]
  },
  {
   "cell_type": "code",
   "execution_count": 5,
   "id": "198f2f54-c198-440d-8690-736e9d92d5e2",
   "metadata": {},
   "outputs": [],
   "source": [
    "vector_np = np.array([2,3])\n",
    "vector_lista = [2,3]"
   ]
  },
  {
   "cell_type": "code",
   "execution_count": 8,
   "id": "3e9a2205-5b25-41fd-be5d-5d5499142ad5",
   "metadata": {},
   "outputs": [
    {
     "name": "stdout",
     "output_type": "stream",
     "text": [
      "<class 'numpy.ndarray'>\n"
     ]
    }
   ],
   "source": [
    "print(type(vector_np))"
   ]
  },
  {
   "cell_type": "code",
   "execution_count": 9,
   "id": "653e47c0-7fb1-45d4-a8c8-72f2b1e53685",
   "metadata": {},
   "outputs": [],
   "source": [
    "vector_1 = np.array([23,-4,5])\n",
    "vec_2 = [12,3,-12]\n",
    "vector_2 =  np.array(vec_2)"
   ]
  },
  {
   "cell_type": "code",
   "execution_count": 11,
   "id": "0cfd9c61-df07-45fd-a445-34499656da23",
   "metadata": {},
   "outputs": [
    {
     "name": "stdout",
     "output_type": "stream",
     "text": [
      "[35 -1 -7]\n"
     ]
    }
   ],
   "source": [
    "### Sumas:\n",
    "\n",
    "vec_suma= vector_1+vector_2\n",
    "print(vec_suma)"
   ]
  },
  {
   "cell_type": "code",
   "execution_count": 13,
   "id": "8b37c8fe-2a16-471d-b168-0440eafcbb7e",
   "metadata": {},
   "outputs": [
    {
     "name": "stdout",
     "output_type": "stream",
     "text": [
      "[11 -7 17]\n"
     ]
    }
   ],
   "source": [
    "### Restas\n",
    "vec_resta = vector_1-vector_2\n",
    "print(vec_resta)"
   ]
  },
  {
   "cell_type": "code",
   "execution_count": 14,
   "id": "bf79ada9-ac5d-4871-a5dd-d3eb4f891c6d",
   "metadata": {},
   "outputs": [
    {
     "name": "stdout",
     "output_type": "stream",
     "text": [
      "[ 69 -12  15]\n"
     ]
    }
   ],
   "source": [
    "### Producto por un escalar\n",
    "vec_escalar = 3*vector_1\n",
    "print(vec_escalar)"
   ]
  },
  {
   "cell_type": "code",
   "execution_count": 16,
   "id": "4e0e2193-1f8f-411e-8ab2-7e0464da5f11",
   "metadata": {},
   "outputs": [
    {
     "name": "stdout",
     "output_type": "stream",
     "text": [
      "204\n"
     ]
    }
   ],
   "source": [
    "### Producto por un escalar\n",
    "\n",
    "dot_product = np.dot(vector_1,vector_2)\n",
    "print(dot_product)\n"
   ]
  },
  {
   "cell_type": "code",
   "execution_count": 20,
   "id": "38509b04-1b09-4a7c-a884-91fabc227abd",
   "metadata": {},
   "outputs": [
    {
     "name": "stdout",
     "output_type": "stream",
     "text": [
      "24\n",
      "17\n"
     ]
    }
   ],
   "source": [
    "###Norma, longitud o magnitud\n",
    "\n",
    "norm_1 = np.linalg.norm(vector_1)\n",
    "norm_2 = np.linalg.norm(vector_2)\n",
    "\n",
    "print(round(norm_1))\n",
    "print(round(norm_2))\n"
   ]
  },
  {
   "cell_type": "code",
   "execution_count": 22,
   "id": "c7216558-c818-4c77-acab-466c9cdcd96e",
   "metadata": {},
   "outputs": [
    {
     "name": "stdout",
     "output_type": "stream",
     "text": [
      "0.49580912449444803\n"
     ]
    }
   ],
   "source": [
    "### Coseno del ángulo\n",
    "\n",
    "cose_ang_1_2 = dot_product/(norm_1*norm_2)\n",
    "print(cose_ang_1_2)"
   ]
  },
  {
   "cell_type": "code",
   "execution_count": 24,
   "id": "aaf3128e-67eb-4510-880a-8190061ebc82",
   "metadata": {},
   "outputs": [
    {
     "name": "stdout",
     "output_type": "stream",
     "text": [
      "21.42428528562855\n"
     ]
    }
   ],
   "source": [
    "### Distancia entre vectores\n",
    "dist_v1_v2 = np.linalg.norm(vector_1-vector_2)\n",
    "print(dist_v1_v2)"
   ]
  },
  {
   "cell_type": "code",
   "execution_count": 25,
   "id": "044074f7-d0fc-4080-a2ba-0f2bd1de8e79",
   "metadata": {},
   "outputs": [],
   "source": [
    "### Ejemplo1 1:\n",
    "\n",
    "alumnos_aldone = {\n",
    "    \"Roberto\": [5, 4],\n",
    "    \"Lucia\": [2, -3],\n",
    "    \"Alejandro\": [3, 5],\n",
    "    \"Valeria\": [-5, 4],\n",
    "    \"Javier\": [0, -1],\n",
    "    \"Camila\": [3, 2],\n",
    "    \"Diego\": [-1, 1],\n",
    "    \"Gabriela\": [5, -2],\n",
    "    \"Mateo\": [-5, 3],\n",
    "    \"Sofia\": [-5, 1]\n",
    "}"
   ]
  },
  {
   "cell_type": "code",
   "execution_count": 27,
   "id": "8a1f2664-9760-4f64-9224-b71d8fb1cb64",
   "metadata": {},
   "outputs": [
    {
     "name": "stdout",
     "output_type": "stream",
     "text": [
      "{'Roberto': array([5, 4]), 'Lucia': array([ 2, -3]), 'Alejandro': array([3, 5]), 'Valeria': array([-5,  4]), 'Javier': array([ 0, -1]), 'Camila': array([3, 2]), 'Diego': array([-1,  1]), 'Gabriela': array([ 5, -2]), 'Mateo': array([-5,  3]), 'Sofia': array([-5,  1])}\n"
     ]
    }
   ],
   "source": [
    "alumnos_np ={}\n",
    "for alumno,vec_list in alumnos_aldone.items():\n",
    "    alumnos_np[alumno]=np.array(vec_list)\n",
    "print(alumnos_np)"
   ]
  },
  {
   "cell_type": "markdown",
   "id": "b66f708e-9b89-4a72-8899-6ecf480180c3",
   "metadata": {},
   "source": [
    "## Matrices en Numpy"
   ]
  },
  {
   "cell_type": "code",
   "execution_count": 34,
   "id": "3f7f5a0c-350f-49b0-ae43-e24021236e7a",
   "metadata": {},
   "outputs": [
    {
     "name": "stdout",
     "output_type": "stream",
     "text": [
      "[[1, 2, 4], [3, 5, 6]]\n",
      "[[1 2 4]\n",
      " [3 5 6]]\n",
      "[[1 3 2]\n",
      " [1 0 0]\n",
      " [1 2 2]]\n",
      "[[1 0 5]\n",
      " [7 5 0]\n",
      " [2 1 1]]\n"
     ]
    }
   ],
   "source": [
    "matriz = [[1,2,4],\n",
    "          [3,5,6]]\n",
    "matriz_np = np.array(matriz)\n",
    "\n",
    "\n",
    "A= np.array([[1,3,2],\n",
    "             [1,0,0],\n",
    "            [1,2,2]])\n",
    "B= np.array([[1,0,5],\n",
    "             [7,5,0],\n",
    "            [2,1,1]])\n",
    "\n",
    "print(matriz)\n",
    "print(matriz_np)\n",
    "print(A)\n",
    "print(B)"
   ]
  },
  {
   "cell_type": "code",
   "execution_count": 35,
   "id": "dac587ed-e624-4790-85ea-eb0d317b3d14",
   "metadata": {},
   "outputs": [
    {
     "name": "stdout",
     "output_type": "stream",
     "text": [
      "3*A:\n",
      " [[3 9 6]\n",
      " [3 0 0]\n",
      " [3 6 6]]\n"
     ]
    }
   ],
   "source": [
    "### Producto por un escalar\n",
    "producto = 3*A\n",
    "print(\"3*A:\\n\", producto)\n",
    "### Suma"
   ]
  },
  {
   "cell_type": "code",
   "execution_count": 36,
   "id": "89129402-732e-4f6a-97e6-817eb5b29b45",
   "metadata": {},
   "outputs": [
    {
     "name": "stdout",
     "output_type": "stream",
     "text": [
      "Suma, A+B:\n",
      " [[2 3 7]\n",
      " [8 5 0]\n",
      " [3 3 3]]\n"
     ]
    }
   ],
   "source": [
    "###Suma\n",
    "\n",
    "suma = A+B\n",
    "print(\"Suma, A+B:\\n\", suma)"
   ]
  },
  {
   "cell_type": "code",
   "execution_count": 40,
   "id": "c0f150a2-dd86-4440-9a51-60fc02c3e452",
   "metadata": {},
   "outputs": [
    {
     "name": "stdout",
     "output_type": "stream",
     "text": [
      "Resta, A+B:\n",
      " [[ 0  3 -3]\n",
      " [-6 -5  0]\n",
      " [-1  1  1]]\n"
     ]
    }
   ],
   "source": [
    "###Resta\n",
    "\n",
    "resta = A-B\n",
    "print(\"Resta, A+B:\\n\", resta)"
   ]
  },
  {
   "cell_type": "code",
   "execution_count": 39,
   "id": "e8be157f-09d7-42c5-84e0-a93243521fdd",
   "metadata": {},
   "outputs": [
    {
     "name": "stdout",
     "output_type": "stream",
     "text": [
      "[[26 17  7]\n",
      " [ 1  0  5]\n",
      " [19 12  7]]\n"
     ]
    }
   ],
   "source": [
    "### Producto Matricial\n",
    "producto_mat = A.dot(B)\n",
    "print (producto_mat)"
   ]
  },
  {
   "cell_type": "code",
   "execution_count": 42,
   "id": "2972ba0c-a54d-4642-9c58-ca82d7affdf2",
   "metadata": {},
   "outputs": [
    {
     "name": "stdout",
     "output_type": "stream",
     "text": [
      "A: [[1 3 2]\n",
      " [1 0 0]\n",
      " [1 2 2]] \n",
      " At: [[1 1 1]\n",
      " [3 0 2]\n",
      " [2 0 2]]\n"
     ]
    }
   ],
   "source": [
    "### Trnsposición\n",
    "A_traspuesta = A.T\n",
    "print(\"A:\",A,\"\\n\",\"At:\",A_traspuesta)"
   ]
  },
  {
   "cell_type": "code",
   "execution_count": 43,
   "id": "ec1e0a65-d811-4174-b01f-7f9faf90df3a",
   "metadata": {},
   "outputs": [],
   "source": [
    "matriz_asignaciones = [[2, 1, 0.5],\n",
    "    [1, 2, 0.5],\n",
    "    [2, 1, 0.5],\n",
    "    [1, 0.5, 2],\n",
    "    [0.5, 2, 1],\n",
    "    [2, 1, 0.5],\n",
    "    [0.5, 1, 2],\n",
    "    [1, 2, 0.5],\n",
    "    [1, 0.5, 2],\n",
    "    [0.5, 1, 2]]\n",
    "\n",
    "indice_alumnos = [\n",
    "    'Rodrigo',\n",
    "    'Lucia',\n",
    "    'Alejandro',\n",
    "    'Valeria',\n",
    "    'Javier',\n",
    "    'Camila',\n",
    "    'Diego',\n",
    "    'Gabriela',\n",
    "    'Nateo',\n",
    "    'Sofia'\n",
    "]"
   ]
  },
  {
   "cell_type": "code",
   "execution_count": 45,
   "id": "5f62a211-c8c5-4b6b-bc2c-8e715c2eb9de",
   "metadata": {},
   "outputs": [
    {
     "name": "stdout",
     "output_type": "stream",
     "text": [
      "[[2.  1.  0.5]\n",
      " [1.  2.  0.5]\n",
      " [2.  1.  0.5]\n",
      " [1.  0.5 2. ]\n",
      " [0.5 2.  1. ]\n",
      " [2.  1.  0.5]\n",
      " [0.5 1.  2. ]\n",
      " [1.  2.  0.5]\n",
      " [1.  0.5 2. ]\n",
      " [0.5 1.  2. ]]\n"
     ]
    }
   ],
   "source": [
    "matriz_asignaciones_np= np.array(matriz_asignaciones)\n",
    "print(matriz_asignaciones_np)"
   ]
  },
  {
   "cell_type": "code",
   "execution_count": 48,
   "id": "b2b3384c-ddcd-4a43-8628-97a16c3dace7",
   "metadata": {},
   "outputs": [
    {
     "name": "stdout",
     "output_type": "stream",
     "text": [
      "[[3.5 2.  1. ]\n",
      " [2.  3.5 1. ]\n",
      " [3.5 2.  1. ]\n",
      " [2.  1.  3.5]\n",
      " [1.  3.5 2. ]\n",
      " [3.5 2.  1. ]\n",
      " [1.  2.  3.5]\n",
      " [2.  3.5 1. ]\n",
      " [2.  1.  3.5]\n",
      " [1.  2.  3.5]]\n"
     ]
    }
   ],
   "source": [
    "### Creamos la matriz resta\n",
    "\n",
    "matriz_resta=[]\n",
    "for vector in matriz_asignaciones:\n",
    "    new_vector = [0,0,0]\n",
    "    new_vector[vector.index(2)]=0.5\n",
    "    matriz_resta.append(new_vector)\n",
    "\n",
    "matriz_resta_np = np.array(matriz_resta)\n",
    "\n",
    "nueva_asignacion = 2*matriz_asignaciones_np-matriz_resta_np\n",
    "print(nueva_asignacion)"
   ]
  }
 ],
 "metadata": {
  "kernelspec": {
   "display_name": "Python 3 (ipykernel)",
   "language": "python",
   "name": "python3"
  },
  "language_info": {
   "codemirror_mode": {
    "name": "ipython",
    "version": 3
   },
   "file_extension": ".py",
   "mimetype": "text/x-python",
   "name": "python",
   "nbconvert_exporter": "python",
   "pygments_lexer": "ipython3",
   "version": "3.12.1"
  }
 },
 "nbformat": 4,
 "nbformat_minor": 5
}
