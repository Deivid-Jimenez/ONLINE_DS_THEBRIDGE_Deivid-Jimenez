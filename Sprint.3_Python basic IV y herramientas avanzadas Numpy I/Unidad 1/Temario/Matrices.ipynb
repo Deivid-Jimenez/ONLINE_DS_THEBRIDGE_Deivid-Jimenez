{
 "cells": [
  {
   "cell_type": "markdown",
   "id": "a9275995-7cac-4c15-b381-4e92739dc8e7",
   "metadata": {},
   "source": [
    "## Matrices"
   ]
  },
  {
   "cell_type": "markdown",
   "id": "6ef79081-71e5-4526-b757-96b616f40778",
   "metadata": {},
   "source": [
    "Una matriz es una agrupacion rectangular  de numeros con n filas y k columnas. Una matriz se puede ver como una colección de n vectores horizontales y k verticales. Y como los vectores no son más que listas, podemos tratar a las matrices como \"listas de listas\""
   ]
  },
  {
   "cell_type": "markdown",
   "id": "a8c03cda-9b36-4748-beb6-7276e7b37b50",
   "metadata": {},
   "source": [
    "Al combinado de valores n y k se les demonina dimensión de la matriz y se suele enunciar como (n*k), siempre el número de fila y luego el número de columnas."
   ]
  },
  {
   "cell_type": "code",
   "execution_count": null,
   "id": "0a97e94f-8950-42e1-a23e-e62f3dbfe461",
   "metadata": {},
   "outputs": [],
   "source": [
    "escalar = 5\n",
    "vector = [1,2,4]\n",
    "matriz = [[1,2,4],\n",
    "          [5,6,8]]"
   ]
  },
  {
   "cell_type": "markdown",
   "id": "eb742ba6-340e-45ae-8e3b-092680019858",
   "metadata": {},
   "source": [
    "### Operaciones entre matrices"
   ]
  },
  {
   "cell_type": "markdown",
   "id": "788bc408-b265-4375-91e6-6dd14fc8d6e9",
   "metadata": {},
   "source": [
    "Las matrices se pueden sumar, restar, multiplicar por escalares:\n",
    "\n",
    "Suma de matrices: a1+b1 a2+b2+ a3+b3 así sucesivamente. Es importante que se tenga la misma cantidad de elementos en las matrices en las cuales se quiere operar.\n",
    "Resta de matrices: Igual que la suma pero restando"
   ]
  },
  {
   "cell_type": "code",
   "execution_count": 31,
   "id": "ad39c33a-94a5-43fc-923d-420382e4dbaa",
   "metadata": {},
   "outputs": [],
   "source": [
    "matriz_asignaciones = [[2, 1, 0.5],\n",
    "    [1, 2, 0.5],\n",
    "    [2, 1, 0.5],\n",
    "    [1, 0.5, 2],\n",
    "    [0.5, 2, 1],\n",
    "    [2, 1, 0.5],\n",
    "    [0.5, 1, 2],\n",
    "    [1, 2, 0.5],\n",
    "    [1, 0.5, 2],\n",
    "    [0.5, 1, 2]]\n",
    "\n",
    "indice_alumnos = [\n",
    "    'Rodrigo',\n",
    "    'Lucia',\n",
    "    'Alejandro',\n",
    "    'Valeria',\n",
    "    'Javier',\n",
    "    'Camila',\n",
    "    'Diego',\n",
    "    'Gabriela',\n",
    "    'Nateo',\n",
    "    'Sofia'\n",
    "]"
   ]
  },
  {
   "cell_type": "code",
   "execution_count": 32,
   "id": "3f8a529f-5a5e-463a-b951-2f9953d0c4db",
   "metadata": {},
   "outputs": [],
   "source": [
    "def escalar_product(escalar,matriz):\n",
    "    matriz_resultado = []\n",
    "    for vector_fila in matriz:\n",
    "        nuevo_vector_fila = []\n",
    "        for componente in vector_fila:\n",
    "            producto = escalar * componente\n",
    "            nuevo_vector_fila.append(producto)\n",
    "        matriz_resultado.append(nuevo_vector_fila)\n",
    "    return matriz_resultado"
   ]
  },
  {
   "cell_type": "code",
   "execution_count": 33,
   "id": "151f98e1-a7ec-4e9c-87f0-f883f402422a",
   "metadata": {},
   "outputs": [
    {
     "data": {
      "text/plain": [
       "[[2, 1, 0.5],\n",
       " [1, 2, 0.5],\n",
       " [2, 1, 0.5],\n",
       " [1, 0.5, 2],\n",
       " [0.5, 2, 1],\n",
       " [2, 1, 0.5],\n",
       " [0.5, 1, 2],\n",
       " [1, 2, 0.5],\n",
       " [1, 0.5, 2],\n",
       " [0.5, 1, 2]]"
      ]
     },
     "execution_count": 33,
     "metadata": {},
     "output_type": "execute_result"
    }
   ],
   "source": [
    "escalar_product(1,matriz_asignaciones)"
   ]
  },
  {
   "cell_type": "code",
   "execution_count": 34,
   "id": "d7c5f5ad-3d96-49c4-ae41-421974beec23",
   "metadata": {},
   "outputs": [
    {
     "data": {
      "text/plain": [
       "[[6, 3, 1.5],\n",
       " [3, 6, 1.5],\n",
       " [6, 3, 1.5],\n",
       " [3, 1.5, 6],\n",
       " [1.5, 6, 3],\n",
       " [6, 3, 1.5],\n",
       " [1.5, 3, 6],\n",
       " [3, 6, 1.5],\n",
       " [3, 1.5, 6],\n",
       " [1.5, 3, 6]]"
      ]
     },
     "execution_count": 34,
     "metadata": {},
     "output_type": "execute_result"
    }
   ],
   "source": [
    "escalar_product(3,matriz_asignaciones)"
   ]
  },
  {
   "cell_type": "markdown",
   "id": "c80947ea-354b-4d48-9856-2762faa03961",
   "metadata": {},
   "source": [
    "### Suma"
   ]
  },
  {
   "cell_type": "code",
   "execution_count": 38,
   "id": "0a6f747f-b2f7-4f86-b2b8-d34a8be6e69f",
   "metadata": {},
   "outputs": [],
   "source": [
    "def suma_vectores(vec1,vec2):\n",
    "    vector_res = []\n",
    "    for indice, componente in enumerate (vec1):\n",
    "        suma = componente + vec2[indice]\n",
    "        vector_res.append(suma)\n",
    "    return vector_res\n",
    "def suma_matrices(matriz_A,matriz_B):\n",
    "    matriz_res=[]\n",
    "    for indice, vector_fila_A in enumerate(matriz_A):\n",
    "        vector_fila_B = matriz_B[indice]\n",
    "        new_vector_fila = suma_vectores (vector_fila_A,vector_fila_B)\n",
    "        matriz_res.append(new_vector_fila)\n",
    "    return matriz_res"
   ]
  },
  {
   "cell_type": "code",
   "execution_count": 39,
   "id": "6ae5bccd-a5c0-46e4-9fcc-edc1ae7ccb1a",
   "metadata": {},
   "outputs": [
    {
     "data": {
      "text/plain": [
       "[[0, 1, 1],\n",
       " [0, 1, 1],\n",
       " [0, 1, 1],\n",
       " [0, 1, 1],\n",
       " [0, 1, 1],\n",
       " [0, 1, 1],\n",
       " [0, 1, 1],\n",
       " [0, 1, 1],\n",
       " [0, 1, 1],\n",
       " [0, 1, 1]]"
      ]
     },
     "execution_count": 39,
     "metadata": {},
     "output_type": "execute_result"
    }
   ],
   "source": [
    "matriz_sumando = [] \n",
    "for i in range (10):\n",
    "    matriz_sumando.append([0,1,1])\n",
    "matriz_sumando"
   ]
  },
  {
   "cell_type": "code",
   "execution_count": 40,
   "id": "e59cf00d-cc11-4acd-8037-b4caeb2b914a",
   "metadata": {},
   "outputs": [
    {
     "data": {
      "text/plain": [
       "[[2, 2, 1.5],\n",
       " [1, 3, 1.5],\n",
       " [2, 2, 1.5],\n",
       " [1, 1.5, 3],\n",
       " [0.5, 3, 2],\n",
       " [2, 2, 1.5],\n",
       " [0.5, 2, 3],\n",
       " [1, 3, 1.5],\n",
       " [1, 1.5, 3],\n",
       " [0.5, 2, 3]]"
      ]
     },
     "execution_count": 40,
     "metadata": {},
     "output_type": "execute_result"
    }
   ],
   "source": [
    "suma_matrices(matriz_asignaciones,matriz_sumando)"
   ]
  },
  {
   "cell_type": "markdown",
   "id": "2a9e6bd3-a20b-4bcc-aa61-8f4ce8cf7f66",
   "metadata": {},
   "source": [
    "### Resta de matrices"
   ]
  },
  {
   "cell_type": "code",
   "execution_count": 43,
   "id": "1e5fb33a-22d4-4f76-854c-7b79a874c6ec",
   "metadata": {},
   "outputs": [],
   "source": [
    "def resta_matrices (matriz_A,matriz_B):\n",
    "    matriz_resultado = []\n",
    "    matrizB_nega = escalar_product(-1,matriz_B)\n",
    "    matriz_resultado = suma_matrices(matriz_A, matrizB_nega)\n",
    "    return matriz_resultado"
   ]
  },
  {
   "cell_type": "code",
   "execution_count": 44,
   "id": "655efbfd-02cc-429c-a24b-d547d89e7e19",
   "metadata": {},
   "outputs": [],
   "source": [
    "matriz_suma = suma_matrices(matriz_asignaciones,matriz_sumando)"
   ]
  },
  {
   "cell_type": "code",
   "execution_count": 45,
   "id": "c7916d94-03f0-429d-9af7-7403cd58f067",
   "metadata": {},
   "outputs": [],
   "source": [
    "matriz_prueba = resta_matrices(matriz_suma, matriz_asignaciones)"
   ]
  },
  {
   "cell_type": "code",
   "execution_count": 46,
   "id": "24c150de-3f99-4d8e-ad4d-3aba7d19363f",
   "metadata": {},
   "outputs": [
    {
     "data": {
      "text/plain": [
       "True"
      ]
     },
     "execution_count": 46,
     "metadata": {},
     "output_type": "execute_result"
    }
   ],
   "source": [
    "matriz_prueba == matriz_sumando"
   ]
  },
  {
   "cell_type": "code",
   "execution_count": 49,
   "id": "7d7b4139-394e-495d-85a1-2c1295985d43",
   "metadata": {},
   "outputs": [
    {
     "data": {
      "text/plain": [
       "[[0.5, 0, 0],\n",
       " [0, 0.5, 0],\n",
       " [0.5, 0, 0],\n",
       " [0, 0, 0.5],\n",
       " [0, 0.5, 0],\n",
       " [0.5, 0, 0],\n",
       " [0, 0, 0.5],\n",
       " [0, 0.5, 0],\n",
       " [0, 0, 0.5],\n",
       " [0, 0, 0.5]]"
      ]
     },
     "execution_count": 49,
     "metadata": {},
     "output_type": "execute_result"
    }
   ],
   "source": [
    "matriz_resta = []\n",
    "for vector_fila in matriz_asignaciones:\n",
    "    new_vector = [0,0,0]\n",
    "    indice_maximo = vector_fila.index(2) \n",
    "    new_vector[indice_maximo]=0.5\n",
    "    matriz_resta.append(new_vector)\n",
    "(matriz_resta)"
   ]
  },
  {
   "cell_type": "code",
   "execution_count": 52,
   "id": "e65a9abe-8014-4d36-a8d9-ca68b956ee81",
   "metadata": {},
   "outputs": [
    {
     "data": {
      "text/plain": [
       "[[3.5, 2, 1.0],\n",
       " [2, 3.5, 1.0],\n",
       " [3.5, 2, 1.0],\n",
       " [2, 1.0, 3.5],\n",
       " [1.0, 3.5, 2],\n",
       " [3.5, 2, 1.0],\n",
       " [1.0, 2, 3.5],\n",
       " [2, 3.5, 1.0],\n",
       " [2, 1.0, 3.5],\n",
       " [1.0, 2, 3.5]]"
      ]
     },
     "execution_count": 52,
     "metadata": {},
     "output_type": "execute_result"
    }
   ],
   "source": [
    "nueva_asignacion = resta_matrices (escalar_product(2,matriz_asignaciones),matriz_resta)\n",
    "nueva_asignacion\n"
   ]
  },
  {
   "cell_type": "markdown",
   "id": "9229f772-54f5-48a1-9815-b4006bbcc8d4",
   "metadata": {},
   "source": [
    "### Multiplicación"
   ]
  },
  {
   "cell_type": "code",
   "execution_count": 53,
   "id": "dbff0223-47ce-49ef-ab5a-c5c00c02477c",
   "metadata": {},
   "outputs": [],
   "source": [
    "def dot_product(vec1,vec2,precision=2):\n",
    "    producto = 0\n",
    "    for i in range (len(vec1)):\n",
    "        producto += vec1[i]*vec2[i]\n",
    "    producto = round(producto,precision)\n",
    "    return producto"
   ]
  },
  {
   "cell_type": "code",
   "execution_count": 59,
   "id": "cf6a5ffd-3b98-490e-9443-7807c3d9cb2e",
   "metadata": {},
   "outputs": [],
   "source": [
    "def get_vec_col(matriz):\n",
    "    num_filas = len(matriz)\n",
    "    num_columnas = len(matriz[0])\n",
    "    lista_vec_columnas = []\n",
    "    for j in range(num_columnas):  # Recorrer columnas\n",
    "        new_vec = []\n",
    "        for i in range(num_filas):  # Recorrer filas\n",
    "            new_vec.append(matriz[i][j])\n",
    "        lista_vec_columnas.append(new_vec)\n",
    "    return lista_vec_columnas"
   ]
  },
  {
   "cell_type": "code",
   "execution_count": 65,
   "id": "8b566172-fc1d-4df5-b69c-c30ce2f8d96b",
   "metadata": {},
   "outputs": [],
   "source": [
    "def mut_mat(matriz_A, matriz_B):\n",
    "    matriz_resultado = []\n",
    "    for fila in matriz_A:\n",
    "        fila_nueva = []\n",
    "        for vec_columna in get_vec_col(matriz_B):\n",
    "            nuevo_valor=dot_product(fila,vec_columna)\n",
    "            fila_nueva.append(nuevo_valor)\n",
    "        matriz_resultado.append(fila_nueva)\n",
    "    return matriz_resultado"
   ]
  },
  {
   "cell_type": "code",
   "execution_count": 60,
   "id": "b1cfa696-4204-4f9d-a4f3-72f955743509",
   "metadata": {},
   "outputs": [
    {
     "data": {
      "text/plain": [
       "[[5, 7, 9], [6, 8, 10]]"
      ]
     },
     "execution_count": 60,
     "metadata": {},
     "output_type": "execute_result"
    }
   ],
   "source": [
    "matriz_A = [[0,1,2], [3,4,5]]\n",
    "matriz_B = [[5,6], [7,8],[9,10]]\n",
    "\n",
    "get_vec_col(matriz_B)"
   ]
  },
  {
   "cell_type": "code",
   "execution_count": 66,
   "id": "bdb395aa-36fd-4377-b957-1268a575c7ba",
   "metadata": {},
   "outputs": [
    {
     "data": {
      "text/plain": [
       "[[25, 28], [88, 100]]"
      ]
     },
     "execution_count": 66,
     "metadata": {},
     "output_type": "execute_result"
    }
   ],
   "source": [
    "mut_mat(matriz_A,matriz_B)"
   ]
  },
  {
   "cell_type": "code",
   "execution_count": 67,
   "id": "338e7942-d237-47ed-9697-b9930c05162c",
   "metadata": {},
   "outputs": [],
   "source": [
    "matriz_proveedores = [[25,20],\n",
    "                      [45,35],\n",
    "                      [12,20]]"
   ]
  },
  {
   "cell_type": "code",
   "execution_count": 69,
   "id": "6c28a74a-b4d5-41be-994a-2f5ad3254670",
   "metadata": {},
   "outputs": [
    {
     "data": {
      "text/plain": [
       "[[101.0, 85.0],\n",
       " [121.0, 100.0],\n",
       " [101.0, 85.0],\n",
       " [71.5, 77.5],\n",
       " [114.5, 100.0],\n",
       " [101.0, 85.0],\n",
       " [81.5, 85.0],\n",
       " [121.0, 100.0],\n",
       " [71.5, 77.5],\n",
       " [81.5, 85.0]]"
      ]
     },
     "execution_count": 69,
     "metadata": {},
     "output_type": "execute_result"
    }
   ],
   "source": [
    "mut_mat(matriz_asignaciones,matriz_proveedores)"
   ]
  },
  {
   "cell_type": "code",
   "execution_count": 73,
   "id": "7085d4ac-50cd-4a98-a229-8e15bf161295",
   "metadata": {},
   "outputs": [
    {
     "name": "stdout",
     "output_type": "stream",
     "text": [
      "Suma del proveedor 1: 965.5\n",
      "Suma del proveedor 2: 880.0\n"
     ]
    }
   ],
   "source": [
    "matriz = [\n",
    "    [101.0, 85.0],\n",
    "    [121.0, 100.0],\n",
    "    [101.0, 85.0],\n",
    "    [71.5, 77.5],\n",
    "    [114.5, 100.0],\n",
    "    [101.0, 85.0],\n",
    "    [81.5, 85.0],\n",
    "    [121.0, 100.0],\n",
    "    [71.5, 77.5],\n",
    "    [81.5, 85.0]\n",
    "]\n",
    "\n",
    "# Sumar los valores de cada columna\n",
    "suma_columna1 = sum(fila[0] for fila in matriz)\n",
    "suma_columna2 = sum(fila[1] for fila in matriz)\n",
    "\n",
    "print(\"Suma del proveedor 1:\", suma_columna1)\n",
    "print(\"Suma del proveedor 2:\", suma_columna2)"
   ]
  },
  {
   "cell_type": "code",
   "execution_count": null,
   "id": "3f17e86a-9114-46ef-ab5d-9803fae04919",
   "metadata": {},
   "outputs": [],
   "source": []
  }
 ],
 "metadata": {
  "kernelspec": {
   "display_name": "Python 3 (ipykernel)",
   "language": "python",
   "name": "python3"
  },
  "language_info": {
   "codemirror_mode": {
    "name": "ipython",
    "version": 3
   },
   "file_extension": ".py",
   "mimetype": "text/x-python",
   "name": "python",
   "nbconvert_exporter": "python",
   "pygments_lexer": "ipython3",
   "version": "3.12.1"
  }
 },
 "nbformat": 4,
 "nbformat_minor": 5
}
