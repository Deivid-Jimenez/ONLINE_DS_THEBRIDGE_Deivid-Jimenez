{
 "cells": [
  {
   "cell_type": "code",
   "execution_count": null,
   "id": "5ee16a04-3d4e-43f1-9c80-5bc6553ffde0",
   "metadata": {},
   "outputs": [],
   "source": []
  }
 ],
 "metadata": {
  "kernelspec": {
   "display_name": "",
   "name": ""
  },
  "language_info": {
   "name": ""
  }
 },
 "nbformat": 4,
 "nbformat_minor": 5
}
